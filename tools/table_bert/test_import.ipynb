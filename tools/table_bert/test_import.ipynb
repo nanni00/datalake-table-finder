{
 "cells": [
  {
   "cell_type": "code",
   "execution_count": 1,
   "metadata": {
    "metadata": {}
   },
   "outputs": [],
   "source": [
    "import torch\n",
    "from transformers import (\n",
    "    BertModel, BertTokenizer, BertForMaskedLM, BertForPreTraining\n",
    "    )\n",
    "\n",
    "from transformers.models.bert.modeling_bert import (\n",
    "    BertSelfOutput, BertIntermediate, BertOutput,\n",
    "    BertLMPredictionHead, BertConfig\n",
    ")\n",
    "\n",
    "BertLayerNorm = torch.nn.LayerNorm\n",
    "from transformers.activations import ACT2FN\n",
    "gelu = ACT2FN['gelu']\n"
   ]
  }
 ],
 "metadata": {
  "kernelspec": {
   "display_name": "nanni-tesi-env",
   "language": "python",
   "name": "python3"
  },
  "language_info": {
   "codemirror_mode": {
    "name": "ipython",
    "version": 3
   },
   "file_extension": ".py",
   "mimetype": "text/x-python",
   "name": "python",
   "nbconvert_exporter": "python",
   "pygments_lexer": "ipython3",
   "version": "3.10.14"
  }
 },
 "nbformat": 4,
 "nbformat_minor": 2
}
