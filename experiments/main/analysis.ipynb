{
 "cells": [
  {
   "cell_type": "code",
   "execution_count": 14,
   "metadata": {
    "metadata": {}
   },
   "outputs": [],
   "source": [
    "import os\n",
    "from collections import defaultdict\n",
    "import statistics\n",
    "\n",
    "import numpy as np\n",
    "import pandas as pd\n",
    "import matplotlib.pyplot as plt\n",
    "\n",
    "from tools.utils.settings import DefaultPath as defpath\n",
    "from tools.utils.utils import get_mongodb_collections"
   ]
  },
  {
   "cell_type": "code",
   "execution_count": 15,
   "metadata": {
    "metadata": {}
   },
   "outputs": [],
   "source": [
    "# To read a multindex multicolumns dataframe (as those created for the analyses) use the pd.read_csv() attributes \"header\" and \"index_col\"\n",
    "# pd.read_csv('/path/to/complex/table/strange_pivot.csv', header=[0,1,2], index_col=[0,1])"
   ]
  },
  {
   "cell_type": "code",
   "execution_count": 16,
   "metadata": {
    "metadata": {}
   },
   "outputs": [],
   "source": [
    "test_name = 'small_test'"
   ]
  },
  {
   "cell_type": "code",
   "execution_count": 17,
   "metadata": {
    "metadata": {}
   },
   "outputs": [],
   "source": [
    "small = True\n",
    "mongoclient, collections = get_mongodb_collections(small)"
   ]
  },
  {
   "cell_type": "code",
   "execution_count": 18,
   "metadata": {
    "metadata": {}
   },
   "outputs": [],
   "source": [
    "test_dir = defpath.data_path.tests + '/' + test_name\n",
    "results_dir = test_dir + '/results/extracted'"
   ]
  },
  {
   "cell_type": "code",
   "execution_count": 19,
   "metadata": {
    "metadata": {}
   },
   "outputs": [],
   "source": [
    "solvers = [('josie', 'set'), ('josie', 'bag'), ('lshforest', 'set'), ('lshforest', 'bag'), ('embedding', 'fasttext')]\n",
    "q = '1K'\n",
    "\n",
    "results = pd.read_csv(f'{results_dir}/final_results_q{q}.csv')"
   ]
  },
  {
   "cell_type": "code",
   "execution_count": 20,
   "metadata": {
    "metadata": {}
   },
   "outputs": [
    {
     "data": {
      "text/html": [
       "<div>\n",
       "<style scoped>\n",
       "    .dataframe tbody tr th:only-of-type {\n",
       "        vertical-align: middle;\n",
       "    }\n",
       "\n",
       "    .dataframe tbody tr th {\n",
       "        vertical-align: top;\n",
       "    }\n",
       "\n",
       "    .dataframe thead th {\n",
       "        text-align: right;\n",
       "    }\n",
       "</style>\n",
       "<table border=\"1\" class=\"dataframe\">\n",
       "  <thead>\n",
       "    <tr style=\"text-align: right;\">\n",
       "      <th></th>\n",
       "      <th>query_id</th>\n",
       "      <th>result_id</th>\n",
       "      <th>algorithm</th>\n",
       "      <th>mode</th>\n",
       "      <th>algorithm_overlap</th>\n",
       "      <th>sloth_overlap</th>\n",
       "      <th>query_size</th>\n",
       "      <th>res_tab_size</th>\n",
       "      <th>intersection_mode_size</th>\n",
       "    </tr>\n",
       "  </thead>\n",
       "  <tbody>\n",
       "    <tr>\n",
       "      <th>0</th>\n",
       "      <td>12875</td>\n",
       "      <td>15191.0</td>\n",
       "      <td>josie</td>\n",
       "      <td>set</td>\n",
       "      <td>3.0</td>\n",
       "      <td>3.0</td>\n",
       "      <td>24.0</td>\n",
       "      <td>211.0</td>\n",
       "      <td>3.0</td>\n",
       "    </tr>\n",
       "    <tr>\n",
       "      <th>1</th>\n",
       "      <td>12875</td>\n",
       "      <td>11934.0</td>\n",
       "      <td>josie</td>\n",
       "      <td>set</td>\n",
       "      <td>2.0</td>\n",
       "      <td>2.0</td>\n",
       "      <td>24.0</td>\n",
       "      <td>51.0</td>\n",
       "      <td>2.0</td>\n",
       "    </tr>\n",
       "    <tr>\n",
       "      <th>2</th>\n",
       "      <td>12875</td>\n",
       "      <td>11281.0</td>\n",
       "      <td>josie</td>\n",
       "      <td>set</td>\n",
       "      <td>2.0</td>\n",
       "      <td>2.0</td>\n",
       "      <td>24.0</td>\n",
       "      <td>43.0</td>\n",
       "      <td>2.0</td>\n",
       "    </tr>\n",
       "    <tr>\n",
       "      <th>3</th>\n",
       "      <td>12875</td>\n",
       "      <td>17819.0</td>\n",
       "      <td>josie</td>\n",
       "      <td>set</td>\n",
       "      <td>2.0</td>\n",
       "      <td>2.0</td>\n",
       "      <td>24.0</td>\n",
       "      <td>59.0</td>\n",
       "      <td>2.0</td>\n",
       "    </tr>\n",
       "    <tr>\n",
       "      <th>4</th>\n",
       "      <td>12875</td>\n",
       "      <td>19772.0</td>\n",
       "      <td>josie</td>\n",
       "      <td>set</td>\n",
       "      <td>2.0</td>\n",
       "      <td>2.0</td>\n",
       "      <td>24.0</td>\n",
       "      <td>48.0</td>\n",
       "      <td>2.0</td>\n",
       "    </tr>\n",
       "    <tr>\n",
       "      <th>...</th>\n",
       "      <td>...</td>\n",
       "      <td>...</td>\n",
       "      <td>...</td>\n",
       "      <td>...</td>\n",
       "      <td>...</td>\n",
       "      <td>...</td>\n",
       "      <td>...</td>\n",
       "      <td>...</td>\n",
       "      <td>...</td>\n",
       "    </tr>\n",
       "    <tr>\n",
       "      <th>25120</th>\n",
       "      <td>14333</td>\n",
       "      <td>16617.0</td>\n",
       "      <td>lshforest</td>\n",
       "      <td>set</td>\n",
       "      <td>4.0</td>\n",
       "      <td>4.0</td>\n",
       "      <td>40.0</td>\n",
       "      <td>9.0</td>\n",
       "      <td>4.0</td>\n",
       "    </tr>\n",
       "    <tr>\n",
       "      <th>25121</th>\n",
       "      <td>14333</td>\n",
       "      <td>17170.0</td>\n",
       "      <td>lshforest</td>\n",
       "      <td>set</td>\n",
       "      <td>8.0</td>\n",
       "      <td>8.0</td>\n",
       "      <td>40.0</td>\n",
       "      <td>22.0</td>\n",
       "      <td>8.0</td>\n",
       "    </tr>\n",
       "    <tr>\n",
       "      <th>25122</th>\n",
       "      <td>14333</td>\n",
       "      <td>13878.0</td>\n",
       "      <td>lshforest</td>\n",
       "      <td>set</td>\n",
       "      <td>12.0</td>\n",
       "      <td>12.0</td>\n",
       "      <td>40.0</td>\n",
       "      <td>44.0</td>\n",
       "      <td>12.0</td>\n",
       "    </tr>\n",
       "    <tr>\n",
       "      <th>25123</th>\n",
       "      <td>14333</td>\n",
       "      <td>11318.0</td>\n",
       "      <td>lshforest</td>\n",
       "      <td>set</td>\n",
       "      <td>11.0</td>\n",
       "      <td>11.0</td>\n",
       "      <td>40.0</td>\n",
       "      <td>47.0</td>\n",
       "      <td>11.0</td>\n",
       "    </tr>\n",
       "    <tr>\n",
       "      <th>25124</th>\n",
       "      <td>14333</td>\n",
       "      <td>18041.0</td>\n",
       "      <td>lshforest</td>\n",
       "      <td>set</td>\n",
       "      <td>5.0</td>\n",
       "      <td>5.0</td>\n",
       "      <td>40.0</td>\n",
       "      <td>13.0</td>\n",
       "      <td>5.0</td>\n",
       "    </tr>\n",
       "  </tbody>\n",
       "</table>\n",
       "<p>25125 rows × 9 columns</p>\n",
       "</div>"
      ],
      "text/plain": [
       "       query_id  result_id  algorithm mode  algorithm_overlap  sloth_overlap  \\\n",
       "0         12875    15191.0      josie  set                3.0            3.0   \n",
       "1         12875    11934.0      josie  set                2.0            2.0   \n",
       "2         12875    11281.0      josie  set                2.0            2.0   \n",
       "3         12875    17819.0      josie  set                2.0            2.0   \n",
       "4         12875    19772.0      josie  set                2.0            2.0   \n",
       "...         ...        ...        ...  ...                ...            ...   \n",
       "25120     14333    16617.0  lshforest  set                4.0            4.0   \n",
       "25121     14333    17170.0  lshforest  set                8.0            8.0   \n",
       "25122     14333    13878.0  lshforest  set               12.0           12.0   \n",
       "25123     14333    11318.0  lshforest  set               11.0           11.0   \n",
       "25124     14333    18041.0  lshforest  set                5.0            5.0   \n",
       "\n",
       "       query_size  res_tab_size  intersection_mode_size  \n",
       "0            24.0         211.0                     3.0  \n",
       "1            24.0          51.0                     2.0  \n",
       "2            24.0          43.0                     2.0  \n",
       "3            24.0          59.0                     2.0  \n",
       "4            24.0          48.0                     2.0  \n",
       "...           ...           ...                     ...  \n",
       "25120        40.0           9.0                     4.0  \n",
       "25121        40.0          22.0                     8.0  \n",
       "25122        40.0          44.0                    12.0  \n",
       "25123        40.0          47.0                    11.0  \n",
       "25124        40.0          13.0                     5.0  \n",
       "\n",
       "[25125 rows x 9 columns]"
      ]
     },
     "execution_count": 20,
     "metadata": {},
     "output_type": "execute_result"
    }
   ],
   "source": [
    "results"
   ]
  },
  {
   "cell_type": "code",
   "execution_count": 21,
   "metadata": {
    "metadata": {}
   },
   "outputs": [],
   "source": [
    "results = results.dropna()"
   ]
  },
  {
   "cell_type": "code",
   "execution_count": 22,
   "metadata": {
    "metadata": {}
   },
   "outputs": [
    {
     "data": {
      "text/plain": [
       "(25066, 9)"
      ]
     },
     "execution_count": 22,
     "metadata": {},
     "output_type": "execute_result"
    }
   ],
   "source": [
    "results.shape"
   ]
  },
  {
   "cell_type": "code",
   "execution_count": 23,
   "metadata": {
    "metadata": {}
   },
   "outputs": [
    {
     "data": {
      "text/html": [
       "<div>\n",
       "<style scoped>\n",
       "    .dataframe tbody tr th:only-of-type {\n",
       "        vertical-align: middle;\n",
       "    }\n",
       "\n",
       "    .dataframe tbody tr th {\n",
       "        vertical-align: top;\n",
       "    }\n",
       "\n",
       "    .dataframe thead th {\n",
       "        text-align: right;\n",
       "    }\n",
       "</style>\n",
       "<table border=\"1\" class=\"dataframe\">\n",
       "  <thead>\n",
       "    <tr style=\"text-align: right;\">\n",
       "      <th></th>\n",
       "      <th>query_id</th>\n",
       "      <th>result_id</th>\n",
       "      <th>algorithm</th>\n",
       "      <th>mode</th>\n",
       "      <th>algorithm_overlap</th>\n",
       "      <th>sloth_overlap</th>\n",
       "      <th>query_size</th>\n",
       "      <th>res_tab_size</th>\n",
       "      <th>intersection_mode_size</th>\n",
       "    </tr>\n",
       "  </thead>\n",
       "  <tbody>\n",
       "  </tbody>\n",
       "</table>\n",
       "</div>"
      ],
      "text/plain": [
       "Empty DataFrame\n",
       "Columns: [query_id, result_id, algorithm, mode, algorithm_overlap, sloth_overlap, query_size, res_tab_size, intersection_mode_size]\n",
       "Index: []"
      ]
     },
     "execution_count": 23,
     "metadata": {},
     "output_type": "execute_result"
    }
   ],
   "source": [
    "results.head(0)"
   ]
  },
  {
   "cell_type": "code",
   "execution_count": 24,
   "metadata": {
    "metadata": {}
   },
   "outputs": [
    {
     "name": "stderr",
     "output_type": "stream",
     "text": [
      "/tmp/ipykernel_73770/1255061597.py:1: SettingWithCopyWarning: \n",
      "A value is trying to be set on a copy of a slice from a DataFrame.\n",
      "Try using .loc[row_indexer,col_indexer] = value instead\n",
      "\n",
      "See the caveats in the documentation: https://pandas.pydata.org/pandas-docs/stable/user_guide/indexing.html#returning-a-view-versus-a-copy\n",
      "  results['difference_overlap'] = results['algorithm_overlap'] - results['sloth_overlap']\n",
      "/tmp/ipykernel_73770/1255061597.py:2: SettingWithCopyWarning: \n",
      "A value is trying to be set on a copy of a slice from a DataFrame.\n",
      "Try using .loc[row_indexer,col_indexer] = value instead\n",
      "\n",
      "See the caveats in the documentation: https://pandas.pydata.org/pandas-docs/stable/user_guide/indexing.html#returning-a-view-versus-a-copy\n",
      "  results['algorithm_overlap_norm'] = results['algorithm_overlap'] / (results['sloth_overlap'] + 1)\n"
     ]
    }
   ],
   "source": [
    "results['difference_overlap'] = results['algorithm_overlap'] - results['sloth_overlap']\n",
    "results['algorithm_overlap_norm'] = results['algorithm_overlap'] / (results['sloth_overlap'] + 1)"
   ]
  },
  {
   "cell_type": "markdown",
   "metadata": {},
   "source": [
    "## I vari metodi per caso ritornano risultati che in realtà non hanno overlap reale?"
   ]
  },
  {
   "cell_type": "markdown",
   "metadata": {},
   "source": [
    "JOSIE no perché esatto, LSHForest può sbagliare (raramente)"
   ]
  },
  {
   "cell_type": "code",
   "execution_count": 25,
   "metadata": {
    "metadata": {}
   },
   "outputs": [],
   "source": [
    "x = []\n",
    "for am, am_group in results.groupby(by=[\"algorithm\", \"mode\"]):\n",
    "    for query_id, q_group in am_group.groupby(by=[\"query_id\"]):\n",
    "        cnt = ((q_group['sloth_overlap'] == 0)).sum()\n",
    "        num_query_results = q_group.count().values.tolist()[0]\n",
    "        x.append([am[0], am[1], query_id[0], num_query_results, cnt, cnt / num_query_results])\n",
    "\n",
    "x = pd.DataFrame(x, columns=['algorithm', 'mode', 'query_id', 'query_size', 'zero_overlap_cnt', 'zero_overlap_ratio'])"
   ]
  },
  {
   "cell_type": "code",
   "execution_count": 26,
   "metadata": {
    "metadata": {}
   },
   "outputs": [
    {
     "data": {
      "text/html": [
       "<div>\n",
       "<style scoped>\n",
       "    .dataframe tbody tr th:only-of-type {\n",
       "        vertical-align: middle;\n",
       "    }\n",
       "\n",
       "    .dataframe tbody tr th {\n",
       "        vertical-align: top;\n",
       "    }\n",
       "\n",
       "    .dataframe thead tr th {\n",
       "        text-align: left;\n",
       "    }\n",
       "\n",
       "    .dataframe thead tr:last-of-type th {\n",
       "        text-align: right;\n",
       "    }\n",
       "</style>\n",
       "<table border=\"1\" class=\"dataframe\">\n",
       "  <thead>\n",
       "    <tr>\n",
       "      <th></th>\n",
       "      <th></th>\n",
       "      <th>mean</th>\n",
       "      <th>std</th>\n",
       "      <th>min</th>\n",
       "      <th>max</th>\n",
       "    </tr>\n",
       "    <tr>\n",
       "      <th></th>\n",
       "      <th></th>\n",
       "      <th>zero_overlap_ratio</th>\n",
       "      <th>zero_overlap_ratio</th>\n",
       "      <th>zero_overlap_ratio</th>\n",
       "      <th>zero_overlap_ratio</th>\n",
       "    </tr>\n",
       "    <tr>\n",
       "      <th>algorithm</th>\n",
       "      <th>mode</th>\n",
       "      <th></th>\n",
       "      <th></th>\n",
       "      <th></th>\n",
       "      <th></th>\n",
       "    </tr>\n",
       "  </thead>\n",
       "  <tbody>\n",
       "    <tr>\n",
       "      <th>embedding</th>\n",
       "      <th>fasttext</th>\n",
       "      <td>0.552857</td>\n",
       "      <td>0.347671</td>\n",
       "      <td>0.0</td>\n",
       "      <td>1.0</td>\n",
       "    </tr>\n",
       "    <tr>\n",
       "      <th>josie</th>\n",
       "      <th>set</th>\n",
       "      <td>0.000000</td>\n",
       "      <td>0.000000</td>\n",
       "      <td>0.0</td>\n",
       "      <td>0.0</td>\n",
       "    </tr>\n",
       "    <tr>\n",
       "      <th>lshforest</th>\n",
       "      <th>set</th>\n",
       "      <td>0.001131</td>\n",
       "      <td>0.033634</td>\n",
       "      <td>0.0</td>\n",
       "      <td>1.0</td>\n",
       "    </tr>\n",
       "  </tbody>\n",
       "</table>\n",
       "</div>"
      ],
      "text/plain": [
       "                                 mean                std                min  \\\n",
       "                   zero_overlap_ratio zero_overlap_ratio zero_overlap_ratio   \n",
       "algorithm mode                                                                \n",
       "embedding fasttext           0.552857           0.347671                0.0   \n",
       "josie     set                0.000000           0.000000                0.0   \n",
       "lshforest set                0.001131           0.033634                0.0   \n",
       "\n",
       "                                  max  \n",
       "                   zero_overlap_ratio  \n",
       "algorithm mode                         \n",
       "embedding fasttext                1.0  \n",
       "josie     set                     0.0  \n",
       "lshforest set                     1.0  "
      ]
     },
     "execution_count": 26,
     "metadata": {},
     "output_type": "execute_result"
    }
   ],
   "source": [
    "null_ratio_pivot = pd.pivot_table(x, values=['zero_overlap_ratio'], index=['algorithm', 'mode'], aggfunc=['mean', 'std', 'min', 'max'])\n",
    "null_ratio_pivot"
   ]
  },
  {
   "cell_type": "markdown",
   "metadata": {},
   "source": [
    "In alcuni casi JOSIE sembra sbagliare nonostante sia esatto, probabilmente sono quelli in cui però va in time out e non riesce a ricostruire l'overlap effettivo nel tempo massimo."
   ]
  },
  {
   "cell_type": "code",
   "execution_count": 27,
   "metadata": {
    "metadata": {}
   },
   "outputs": [],
   "source": [
    "x = results[(results['algorithm'] == 'josie') & (results['mode'] == 'set')]"
   ]
  },
  {
   "cell_type": "code",
   "execution_count": 28,
   "metadata": {
    "metadata": {}
   },
   "outputs": [
    {
     "data": {
      "text/html": [
       "<div>\n",
       "<style scoped>\n",
       "    .dataframe tbody tr th:only-of-type {\n",
       "        vertical-align: middle;\n",
       "    }\n",
       "\n",
       "    .dataframe tbody tr th {\n",
       "        vertical-align: top;\n",
       "    }\n",
       "\n",
       "    .dataframe thead th {\n",
       "        text-align: right;\n",
       "    }\n",
       "</style>\n",
       "<table border=\"1\" class=\"dataframe\">\n",
       "  <thead>\n",
       "    <tr style=\"text-align: right;\">\n",
       "      <th></th>\n",
       "      <th>query_id</th>\n",
       "      <th>result_id</th>\n",
       "      <th>algorithm</th>\n",
       "      <th>mode</th>\n",
       "      <th>algorithm_overlap</th>\n",
       "      <th>sloth_overlap</th>\n",
       "      <th>query_size</th>\n",
       "      <th>res_tab_size</th>\n",
       "      <th>intersection_mode_size</th>\n",
       "      <th>difference_overlap</th>\n",
       "      <th>algorithm_overlap_norm</th>\n",
       "    </tr>\n",
       "  </thead>\n",
       "  <tbody>\n",
       "  </tbody>\n",
       "</table>\n",
       "</div>"
      ],
      "text/plain": [
       "Empty DataFrame\n",
       "Columns: [query_id, result_id, algorithm, mode, algorithm_overlap, sloth_overlap, query_size, res_tab_size, intersection_mode_size, difference_overlap, algorithm_overlap_norm]\n",
       "Index: []"
      ]
     },
     "execution_count": 28,
     "metadata": {},
     "output_type": "execute_result"
    }
   ],
   "source": [
    "results[(results['sloth_overlap'] == 0) & (results['algorithm_overlap'] != 0) & (results['algorithm'] != 'lshforest')]"
   ]
  },
  {
   "cell_type": "code",
   "execution_count": 29,
   "metadata": {
    "metadata": {}
   },
   "outputs": [
    {
     "data": {
      "text/plain": [
       "{'1',\n",
       " '10',\n",
       " '11',\n",
       " '12',\n",
       " '13',\n",
       " '14',\n",
       " '15',\n",
       " '16',\n",
       " '17',\n",
       " '18',\n",
       " '19',\n",
       " '2',\n",
       " '20',\n",
       " '21',\n",
       " '22',\n",
       " '23',\n",
       " '24',\n",
       " '25',\n",
       " '26',\n",
       " '27',\n",
       " '28',\n",
       " '29',\n",
       " '3',\n",
       " '30',\n",
       " '31',\n",
       " '4',\n",
       " '5',\n",
       " '6',\n",
       " '7',\n",
       " '8',\n",
       " '82nd',\n",
       " '9',\n",
       " 'ATL',\n",
       " 'BRI',\n",
       " 'Buick',\n",
       " 'CAR',\n",
       " 'CLT',\n",
       " 'Chevy',\n",
       " 'DAR',\n",
       " 'DAY',\n",
       " 'DOV',\n",
       " 'GLN',\n",
       " 'IND DNQ',\n",
       " 'MAR',\n",
       " 'MCH',\n",
       " 'MCH DNQ',\n",
       " 'Make',\n",
       " 'NASCAR Winston Cup Series results',\n",
       " 'NHA',\n",
       " 'NSV',\n",
       " 'NWS',\n",
       " 'Olds',\n",
       " 'PHO',\n",
       " 'PHO DNQ',\n",
       " 'POC',\n",
       " 'Pontiac',\n",
       " 'RCH',\n",
       " 'RSD',\n",
       " 'RSD 25',\n",
       " 'RSD 29',\n",
       " 'RSD 40',\n",
       " 'SON 23',\n",
       " 'SON 33',\n",
       " 'TAL',\n",
       " 'TWS',\n",
       " 'Team',\n",
       " '{{Tooltip NWCC NASCAR Winston Cup classification}}'}"
      ]
     },
     "execution_count": 29,
     "metadata": {},
     "output_type": "execute_result"
    }
   ],
   "source": [
    "from tools.utils.utils import get_one_document_from_mongodb_by_key\n",
    "from tools.utils.utils import _create_token_set\n",
    "\n",
    "mongoclient, collections = get_mongodb_collections(False)\n",
    "\n",
    "qdoc = get_one_document_from_mongodb_by_key('_id_numeric', 2632194, *collections)\n",
    "rdoc = get_one_document_from_mongodb_by_key('_id_numeric', 1663620, *collections)\n",
    "\n",
    "qset = _create_token_set(qdoc['content'], 'set', qdoc['numeric_columns'])\n",
    "rset = _create_token_set(rdoc['content'], 'set', rdoc['numeric_columns'])\n",
    "\n",
    "set(qset).intersection(rset)"
   ]
  },
  {
   "cell_type": "code",
   "execution_count": 22,
   "metadata": {
    "metadata": {}
   },
   "outputs": [
    {
     "name": "stdout",
     "output_type": "stream",
     "text": [
      "1,0,1,0,0,0,0,0,0,0,0,0,0,0,0,0,0,0,0,0,0,0,0,0,0,0,0,0,0,0,0,0,0,0,0,0,1,0\n",
      "1,0,1,0,0,0,0,0,0,0,0,0,0,0,0,0,0,0,0,0,0,0,0,0,0,0,0,0,0,0,0,0,0,0,0,0,0,0,0,0,0,1\n"
     ]
    }
   ],
   "source": [
    "print(','.join(map(str, qdoc['numeric_columns'])))\n",
    "print(','.join(map(str, rdoc['numeric_columns'])))"
   ]
  },
  {
   "cell_type": "code",
   "execution_count": 23,
   "metadata": {
    "metadata": {}
   },
   "outputs": [
    {
     "name": "stdout",
     "output_type": "stream",
     "text": [
      "Detected 1365 seed(s) in 0.014682531356811523 seconds.\n"
     ]
    },
    {
     "name": "stderr",
     "output_type": "stream",
     "text": [
      "Exception ignored in: <bound method IPythonKernel._clean_thread_parent_frames of <ipykernel.ipkernel.IPythonKernel object at 0x7f892f99d2a0>>\n",
      "Traceback (most recent call last):\n",
      "  File \"/data4/nanni/anaconda3/envs/nanni-tesi-env/lib/python3.10/site-packages/ipykernel/ipkernel.py\", line 775, in _clean_thread_parent_frames\n",
      "    def _clean_thread_parent_frames(\n",
      "  File \"/data4/nanni/anaconda3/envs/nanni-tesi-env/lib/python3.10/site-packages/timeout_decorator/timeout_decorator.py\", line 69, in handler\n",
      "    _raise_exception(timeout_exception, exception_message)\n",
      "  File \"/data4/nanni/anaconda3/envs/nanni-tesi-env/lib/python3.10/site-packages/timeout_decorator/timeout_decorator.py\", line 45, in _raise_exception\n",
      "    raise exception()\n",
      "timeout_decorator.timeout_decorator.TimeoutError: 'Timed Out'\n"
     ]
    }
   ],
   "source": [
    "from tools.utils.utils import apply_sloth\n",
    "\n",
    "apply_sloth(qdoc['content'], rdoc['content'], qdoc['numeric_columns'], rdoc['numeric_columns'], verbose=True)"
   ]
  },
  {
   "cell_type": "code",
   "execution_count": 16,
   "metadata": {
    "metadata": {}
   },
   "outputs": [],
   "source": [
    "# pd.DataFrame(qdoc['content'])"
   ]
  },
  {
   "cell_type": "code",
   "execution_count": 17,
   "metadata": {
    "metadata": {}
   },
   "outputs": [],
   "source": [
    "# pd.DataFrame(rdoc['content'])"
   ]
  },
  {
   "cell_type": "markdown",
   "metadata": {},
   "source": [
    "## Algorithm vs True Overlap"
   ]
  },
  {
   "cell_type": "code",
   "execution_count": 30,
   "metadata": {
    "metadata": {}
   },
   "outputs": [],
   "source": [
    "data = [(am[0], am[1], group) for am, group in results.groupby(by=['algorithm', 'mode'])]"
   ]
  },
  {
   "cell_type": "code",
   "execution_count": 31,
   "metadata": {
    "metadata": {}
   },
   "outputs": [
    {
     "data": {
      "text/html": [
       "<div>\n",
       "<style scoped>\n",
       "    .dataframe tbody tr th:only-of-type {\n",
       "        vertical-align: middle;\n",
       "    }\n",
       "\n",
       "    .dataframe tbody tr th {\n",
       "        vertical-align: top;\n",
       "    }\n",
       "\n",
       "    .dataframe thead th {\n",
       "        text-align: right;\n",
       "    }\n",
       "</style>\n",
       "<table border=\"1\" class=\"dataframe\">\n",
       "  <thead>\n",
       "    <tr style=\"text-align: right;\">\n",
       "      <th></th>\n",
       "      <th>query_id</th>\n",
       "      <th>result_id</th>\n",
       "      <th>algorithm_overlap</th>\n",
       "      <th>sloth_overlap</th>\n",
       "      <th>query_size</th>\n",
       "      <th>res_tab_size</th>\n",
       "      <th>intersection_mode_size</th>\n",
       "      <th>difference_overlap</th>\n",
       "      <th>algorithm_overlap_norm</th>\n",
       "    </tr>\n",
       "  </thead>\n",
       "  <tbody>\n",
       "    <tr>\n",
       "      <th>count</th>\n",
       "      <td>8627.000000</td>\n",
       "      <td>8627.000000</td>\n",
       "      <td>8627.000000</td>\n",
       "      <td>8627.000000</td>\n",
       "      <td>8627.000000</td>\n",
       "      <td>8627.000000</td>\n",
       "      <td>8627.000000</td>\n",
       "      <td>8627.000000</td>\n",
       "      <td>8627.000000</td>\n",
       "    </tr>\n",
       "    <tr>\n",
       "      <th>mean</th>\n",
       "      <td>11959.690970</td>\n",
       "      <td>10306.680770</td>\n",
       "      <td>6.945404</td>\n",
       "      <td>9.094007</td>\n",
       "      <td>58.259302</td>\n",
       "      <td>160.113945</td>\n",
       "      <td>6.945404</td>\n",
       "      <td>-2.148603</td>\n",
       "      <td>0.772932</td>\n",
       "    </tr>\n",
       "    <tr>\n",
       "      <th>std</th>\n",
       "      <td>5392.182989</td>\n",
       "      <td>5624.218601</td>\n",
       "      <td>12.973833</td>\n",
       "      <td>24.402531</td>\n",
       "      <td>108.318793</td>\n",
       "      <td>282.105645</td>\n",
       "      <td>12.973833</td>\n",
       "      <td>17.099874</td>\n",
       "      <td>0.500599</td>\n",
       "    </tr>\n",
       "    <tr>\n",
       "      <th>min</th>\n",
       "      <td>19.000000</td>\n",
       "      <td>1.000000</td>\n",
       "      <td>1.000000</td>\n",
       "      <td>1.000000</td>\n",
       "      <td>2.000000</td>\n",
       "      <td>3.000000</td>\n",
       "      <td>1.000000</td>\n",
       "      <td>-610.000000</td>\n",
       "      <td>0.008621</td>\n",
       "    </tr>\n",
       "    <tr>\n",
       "      <th>25%</th>\n",
       "      <td>8088.500000</td>\n",
       "      <td>5560.000000</td>\n",
       "      <td>1.000000</td>\n",
       "      <td>2.000000</td>\n",
       "      <td>16.000000</td>\n",
       "      <td>25.000000</td>\n",
       "      <td>1.000000</td>\n",
       "      <td>0.000000</td>\n",
       "      <td>0.500000</td>\n",
       "    </tr>\n",
       "    <tr>\n",
       "      <th>50%</th>\n",
       "      <td>12626.000000</td>\n",
       "      <td>10448.000000</td>\n",
       "      <td>3.000000</td>\n",
       "      <td>4.000000</td>\n",
       "      <td>28.000000</td>\n",
       "      <td>60.000000</td>\n",
       "      <td>3.000000</td>\n",
       "      <td>0.000000</td>\n",
       "      <td>0.721519</td>\n",
       "    </tr>\n",
       "    <tr>\n",
       "      <th>75%</th>\n",
       "      <td>16418.000000</td>\n",
       "      <td>15173.000000</td>\n",
       "      <td>8.000000</td>\n",
       "      <td>8.000000</td>\n",
       "      <td>57.000000</td>\n",
       "      <td>178.000000</td>\n",
       "      <td>8.000000</td>\n",
       "      <td>0.000000</td>\n",
       "      <td>0.923077</td>\n",
       "    </tr>\n",
       "    <tr>\n",
       "      <th>max</th>\n",
       "      <td>19935.000000</td>\n",
       "      <td>19998.000000</td>\n",
       "      <td>512.000000</td>\n",
       "      <td>1122.000000</td>\n",
       "      <td>1998.000000</td>\n",
       "      <td>3413.000000</td>\n",
       "      <td>512.000000</td>\n",
       "      <td>36.000000</td>\n",
       "      <td>9.000000</td>\n",
       "    </tr>\n",
       "  </tbody>\n",
       "</table>\n",
       "</div>"
      ],
      "text/plain": [
       "           query_id     result_id  algorithm_overlap  sloth_overlap  \\\n",
       "count   8627.000000   8627.000000        8627.000000    8627.000000   \n",
       "mean   11959.690970  10306.680770           6.945404       9.094007   \n",
       "std     5392.182989   5624.218601          12.973833      24.402531   \n",
       "min       19.000000      1.000000           1.000000       1.000000   \n",
       "25%     8088.500000   5560.000000           1.000000       2.000000   \n",
       "50%    12626.000000  10448.000000           3.000000       4.000000   \n",
       "75%    16418.000000  15173.000000           8.000000       8.000000   \n",
       "max    19935.000000  19998.000000         512.000000    1122.000000   \n",
       "\n",
       "        query_size  res_tab_size  intersection_mode_size  difference_overlap  \\\n",
       "count  8627.000000   8627.000000             8627.000000         8627.000000   \n",
       "mean     58.259302    160.113945                6.945404           -2.148603   \n",
       "std     108.318793    282.105645               12.973833           17.099874   \n",
       "min       2.000000      3.000000                1.000000         -610.000000   \n",
       "25%      16.000000     25.000000                1.000000            0.000000   \n",
       "50%      28.000000     60.000000                3.000000            0.000000   \n",
       "75%      57.000000    178.000000                8.000000            0.000000   \n",
       "max    1998.000000   3413.000000              512.000000           36.000000   \n",
       "\n",
       "       algorithm_overlap_norm  \n",
       "count             8627.000000  \n",
       "mean                 0.772932  \n",
       "std                  0.500599  \n",
       "min                  0.008621  \n",
       "25%                  0.500000  \n",
       "50%                  0.721519  \n",
       "75%                  0.923077  \n",
       "max                  9.000000  "
      ]
     },
     "execution_count": 31,
     "metadata": {},
     "output_type": "execute_result"
    }
   ],
   "source": [
    "results[(results['algorithm'] == 'josie') & (results['mode'] == 'set')].describe()"
   ]
  },
  {
   "cell_type": "code",
   "execution_count": 32,
   "metadata": {
    "metadata": {}
   },
   "outputs": [
    {
     "data": {
      "image/png": "[encoded data removed]",
      "text/plain": [
       "<Figure size 1500x500 with 1 Axes>"
      ]
     },
     "metadata": {},
     "output_type": "display_data"
    }
   ],
   "source": [
    "fig, ax = plt.subplots(1, 1, sharey='row', figsize=(15, 5))\n",
    "xmin, xmax, step = -200, 300, 10\n",
    "\n",
    "ax.hist([d[2]['difference_overlap'] for d in data], \n",
    "         bins=np.arange(xmin, xmax, step), alpha=0.8, \n",
    "         label=[f'{a}-{m}' for a, m, _ in data],\n",
    "         align='mid')\n",
    "ax.set_xlim(xmin, xmax)\n",
    "ax.set_xticks(np.arange(xmin, xmax, step))\n",
    "ax.set_yscale('log')\n",
    "ax.tick_params(axis='x', rotation=45)\n",
    "ax.grid()\n",
    "ax.set_xlabel('ALGORITHM overlap - SLOTH overlap')\n",
    "ax.set_ylabel('frequency')\n",
    "\n",
    "plt.legend()\n",
    "plt.show()"
   ]
  },
  {
   "cell_type": "code",
   "execution_count": 33,
   "metadata": {
    "metadata": {}
   },
   "outputs": [],
   "source": [
    "data = [(am[0], am[1], group) for am, group in results.groupby(by=['algorithm', 'mode'])]"
   ]
  },
  {
   "cell_type": "code",
   "execution_count": 34,
   "metadata": {
    "metadata": {}
   },
   "outputs": [
    {
     "data": {
      "image/png": "[encoded data removed]",
      "text/plain": [
       "<Figure size 1500x500 with 1 Axes>"
      ]
     },
     "metadata": {},
     "output_type": "display_data"
    }
   ],
   "source": [
    "fig, ax = plt.subplots(1, 1, sharey='row', figsize=(15, 5))\n",
    "xmin, xmax, step = 0, 10, 0.2\n",
    "\n",
    "ax.hist([d[2]['algorithm_overlap_norm'] for d in data], \n",
    "         bins=np.arange(xmin, xmax, step), alpha=0.8, \n",
    "         label=[f'{a}-{m}' for a, m, _ in data],\n",
    "         align='mid')\n",
    "ax.set_xlim(xmin, xmax)\n",
    "ax.set_xticks(np.arange(xmin, xmax, step))\n",
    "ax.grid()\n",
    "ax.set_xlabel('ALGORITHM_overlap / (SLOTH_overlap + 1)')\n",
    "ax.set_ylabel('frequency')\n",
    "ax.set_yscale('log')\n",
    "ax.tick_params(axis='x', rotation=45)\n",
    "\n",
    "plt.legend()\n",
    "plt.show()"
   ]
  },
  {
   "cell_type": "code",
   "execution_count": 35,
   "metadata": {
    "metadata": {}
   },
   "outputs": [
    {
     "data": {
      "text/html": [
       "<div>\n",
       "<style scoped>\n",
       "    .dataframe tbody tr th:only-of-type {\n",
       "        vertical-align: middle;\n",
       "    }\n",
       "\n",
       "    .dataframe tbody tr th {\n",
       "        vertical-align: top;\n",
       "    }\n",
       "\n",
       "    .dataframe thead th {\n",
       "        text-align: right;\n",
       "    }\n",
       "</style>\n",
       "<table border=\"1\" class=\"dataframe\">\n",
       "  <thead>\n",
       "    <tr style=\"text-align: right;\">\n",
       "      <th></th>\n",
       "      <th>query_id</th>\n",
       "      <th>result_id</th>\n",
       "      <th>algorithm</th>\n",
       "      <th>mode</th>\n",
       "      <th>algorithm_overlap</th>\n",
       "      <th>sloth_overlap</th>\n",
       "      <th>query_size</th>\n",
       "      <th>res_tab_size</th>\n",
       "      <th>intersection_mode_size</th>\n",
       "      <th>difference_overlap</th>\n",
       "      <th>algorithm_overlap_norm</th>\n",
       "    </tr>\n",
       "  </thead>\n",
       "  <tbody>\n",
       "  </tbody>\n",
       "</table>\n",
       "</div>"
      ],
      "text/plain": [
       "Empty DataFrame\n",
       "Columns: [query_id, result_id, algorithm, mode, algorithm_overlap, sloth_overlap, query_size, res_tab_size, intersection_mode_size, difference_overlap, algorithm_overlap_norm]\n",
       "Index: []"
      ]
     },
     "execution_count": 35,
     "metadata": {},
     "output_type": "execute_result"
    }
   ],
   "source": [
    "results[(results['algorithm'] == 'josie') & (results['mode'] == 'bag') & (results['algorithm_overlap'] < results['sloth_overlap'])]"
   ]
  },
  {
   "cell_type": "markdown",
   "metadata": {},
   "source": [
    "## Creating Silver Standard"
   ]
  },
  {
   "cell_type": "code",
   "execution_count": 36,
   "metadata": {
    "metadata": {}
   },
   "outputs": [],
   "source": [
    "silver_standard = defaultdict(set)\n",
    "\n",
    "results_ids = results.convert_dtypes().groupby(by='query_id')[['result_id', 'sloth_overlap']]\n",
    "\n",
    "for query_id, ids_overlaps in results_ids:\n",
    "    for i in ids_overlaps.values:\n",
    "        _id, _overlap = i\n",
    "        silver_standard[query_id].add((_id, _overlap))\n",
    "\n",
    "for query_id in silver_standard.keys():\n",
    "    silver_standard[query_id] = sorted(list(silver_standard[query_id]), key=lambda x: x[1], reverse=True)"
   ]
  },
  {
   "cell_type": "markdown",
   "metadata": {},
   "source": [
    "## Precision at p - $P@p$\n",
    "Corresponds to the number of relevant results among the top $p$ retrieved documents. Fails to take into account the positions of the relevant documents among the top $p$.Another shortcoming is that on a query with fewer relevant results than $p$, even a perfect system will have a score less than 1.\n"
   ]
  },
  {
   "cell_type": "code",
   "execution_count": 37,
   "metadata": {
    "metadata": {}
   },
   "outputs": [
    {
     "name": "stdout",
     "output_type": "stream",
     "text": [
      "Start pool work...\n",
      "Pool finished.\n"
     ]
    }
   ],
   "source": [
    "import multiprocessing as mp\n",
    "\n",
    "num_cpu = min(os.cpu_count(), 96)\n",
    "\n",
    "k_precisions = [1, 3, 5, 10]\n",
    "work = list(silver_standard.keys())\n",
    "\n",
    "precision_at_k_results = []\n",
    "\n",
    "\n",
    "def worker(inp):    \n",
    "    query_id = inp\n",
    "    \n",
    "    qss = [x[1] for x in silver_standard[query_id]]\n",
    "    prec_results = []\n",
    "\n",
    "    try:\n",
    "        avg_overlap = round(statistics.mean(qss), 3)\n",
    "    except statistics.StatisticsError:\n",
    "        avg_overlap = 0\n",
    "\n",
    "    # here errors may be given by single-result queries; \n",
    "    # standard deviation cannot be computed for single values (very uncommon cases...)\n",
    "    try:\n",
    "        stdev_overlap = round(statistics.stdev(qss))\n",
    "    except statistics.StatisticsError:\n",
    "        stdev_overlap = 0\n",
    "        \n",
    "    for (algorithm, mode), data in results.groupby(by=[\"algorithm\", \"mode\"]):\n",
    "        ids = data[data['query_id'] == query_id]['result_id'].values.tolist()\n",
    "        for k_precision in k_precisions:\n",
    "            real_topk = [x[0] for x in silver_standard[query_id][:k_precision]]\n",
    "            precision_at_k = set(real_topk).intersection(ids)\n",
    "            \n",
    "            prec_results.append([query_id, len(qss), avg_overlap, stdev_overlap, algorithm, mode, k_precision, len(precision_at_k)])\n",
    "    return prec_results\n",
    "\n",
    "\n",
    "with mp.Pool(processes=num_cpu) as pool:\n",
    "    print('Start pool work...')\n",
    "    precision_at_k_results = pool.map(worker, work, chunksize=len(work) // num_cpu)\n",
    "    print('Pool finished.')\n",
    "    precision_at_k_results = [x for qres in precision_at_k_results for x in qres]\n",
    "\n",
    "\"\"\"\n",
    "for query_id in tqdm(silver_standard.keys()):\n",
    "    qss = [x[1] for x in silver_standard[query_id]]\n",
    "    \n",
    "    try:\n",
    "        avg_overlap = round(statistics.mean(qss), 3)\n",
    "    except statistics.StatisticsError:\n",
    "        print('\\t', query_id, qss)\n",
    "        avg_overlap = 0\n",
    "\n",
    "    # here errors may be given by single-result queries; standard deviation cannot be computed for single values (very uncommon cases...)\n",
    "    try:\n",
    "        stdev_overlap = round(statistics.stdev(qss))\n",
    "    except statistics.StatisticsError:\n",
    "        print(query_id)\n",
    "        stdev_overlap = 0\n",
    "        \n",
    "    for (algorithm, mode), data in results.groupby(by=[\"algorithm\", \"mode\"]):\n",
    "        ids = data[data['query_id'] == query_id]['result_id'].values.tolist()\n",
    "        for k_precision in k_precisions:\n",
    "            real_topk = [x[0] for x in silver_standard[query_id][:k_precision]]\n",
    "            precision_at_k = set(real_topk).intersection(ids)\n",
    "            \n",
    "            precision_at_k_results.append([query_id, len(qss), avg_overlap, stdev_overlap, algorithm, mode, k_precision, len(precision_at_k)])\n",
    "\"\"\"\n",
    "\n",
    "columns = [\n",
    "    'query_id',\n",
    "    'silver_std_size',\n",
    "    'silver_std_ov_mean',\n",
    "    'silver_std_ov_stdev',\n",
    "    'algorithm',\n",
    "    'mode',\n",
    "    'k',\n",
    "    'precision_at_k'\n",
    "]\n",
    "\n",
    "precision_at_k_results = pd.DataFrame(precision_at_k_results, columns=columns)\n",
    "# precision_at_k = precision_at_k_results.sort_values(by=['silver_std_size', 'query_id'], ascending=False)"
   ]
  },
  {
   "cell_type": "code",
   "execution_count": 38,
   "metadata": {
    "metadata": {}
   },
   "outputs": [
    {
     "data": {
      "text/html": [
       "<div>\n",
       "<style scoped>\n",
       "    .dataframe tbody tr th:only-of-type {\n",
       "        vertical-align: middle;\n",
       "    }\n",
       "\n",
       "    .dataframe tbody tr th {\n",
       "        vertical-align: top;\n",
       "    }\n",
       "\n",
       "    .dataframe thead tr th {\n",
       "        text-align: left;\n",
       "    }\n",
       "\n",
       "    .dataframe thead tr:last-of-type th {\n",
       "        text-align: right;\n",
       "    }\n",
       "</style>\n",
       "<table border=\"1\" class=\"dataframe\">\n",
       "  <thead>\n",
       "    <tr>\n",
       "      <th></th>\n",
       "      <th></th>\n",
       "      <th colspan=\"4\" halign=\"left\">mean</th>\n",
       "      <th colspan=\"4\" halign=\"left\">std</th>\n",
       "      <th colspan=\"4\" halign=\"left\">max</th>\n",
       "    </tr>\n",
       "    <tr>\n",
       "      <th></th>\n",
       "      <th></th>\n",
       "      <th colspan=\"4\" halign=\"left\">precision_at_k</th>\n",
       "      <th colspan=\"4\" halign=\"left\">precision_at_k</th>\n",
       "      <th colspan=\"4\" halign=\"left\">precision_at_k</th>\n",
       "    </tr>\n",
       "    <tr>\n",
       "      <th></th>\n",
       "      <th>k</th>\n",
       "      <th>1</th>\n",
       "      <th>3</th>\n",
       "      <th>5</th>\n",
       "      <th>10</th>\n",
       "      <th>1</th>\n",
       "      <th>3</th>\n",
       "      <th>5</th>\n",
       "      <th>10</th>\n",
       "      <th>1</th>\n",
       "      <th>3</th>\n",
       "      <th>5</th>\n",
       "      <th>10</th>\n",
       "    </tr>\n",
       "    <tr>\n",
       "      <th>algorithm</th>\n",
       "      <th>mode</th>\n",
       "      <th></th>\n",
       "      <th></th>\n",
       "      <th></th>\n",
       "      <th></th>\n",
       "      <th></th>\n",
       "      <th></th>\n",
       "      <th></th>\n",
       "      <th></th>\n",
       "      <th></th>\n",
       "      <th></th>\n",
       "      <th></th>\n",
       "      <th></th>\n",
       "    </tr>\n",
       "  </thead>\n",
       "  <tbody>\n",
       "    <tr>\n",
       "      <th>embedding</th>\n",
       "      <th>fasttext</th>\n",
       "      <td>0.462</td>\n",
       "      <td>1.224</td>\n",
       "      <td>1.929</td>\n",
       "      <td>3.488</td>\n",
       "      <td>0.498803</td>\n",
       "      <td>1.114929</td>\n",
       "      <td>1.653086</td>\n",
       "      <td>2.843931</td>\n",
       "      <td>1</td>\n",
       "      <td>3</td>\n",
       "      <td>5</td>\n",
       "      <td>10</td>\n",
       "    </tr>\n",
       "    <tr>\n",
       "      <th>josie</th>\n",
       "      <th>set</th>\n",
       "      <td>0.854</td>\n",
       "      <td>2.294</td>\n",
       "      <td>3.629</td>\n",
       "      <td>6.505</td>\n",
       "      <td>0.353283</td>\n",
       "      <td>0.944699</td>\n",
       "      <td>1.498534</td>\n",
       "      <td>2.720547</td>\n",
       "      <td>1</td>\n",
       "      <td>3</td>\n",
       "      <td>5</td>\n",
       "      <td>10</td>\n",
       "    </tr>\n",
       "    <tr>\n",
       "      <th>lshforest</th>\n",
       "      <th>set</th>\n",
       "      <td>0.400</td>\n",
       "      <td>1.030</td>\n",
       "      <td>1.596</td>\n",
       "      <td>2.855</td>\n",
       "      <td>0.490143</td>\n",
       "      <td>1.009018</td>\n",
       "      <td>1.423661</td>\n",
       "      <td>2.245221</td>\n",
       "      <td>1</td>\n",
       "      <td>3</td>\n",
       "      <td>5</td>\n",
       "      <td>9</td>\n",
       "    </tr>\n",
       "  </tbody>\n",
       "</table>\n",
       "</div>"
      ],
      "text/plain": [
       "                             mean                                 std  \\\n",
       "                   precision_at_k                      precision_at_k   \n",
       "k                              1      3      5      10             1    \n",
       "algorithm mode                                                          \n",
       "embedding fasttext          0.462  1.224  1.929  3.488       0.498803   \n",
       "josie     set               0.854  2.294  3.629  6.505       0.353283   \n",
       "lshforest set               0.400  1.030  1.596  2.855       0.490143   \n",
       "\n",
       "                                                            max            \n",
       "                                                 precision_at_k            \n",
       "k                         3         5         10             1  3  5   10  \n",
       "algorithm mode                                                             \n",
       "embedding fasttext  1.114929  1.653086  2.843931              1  3  5  10  \n",
       "josie     set       0.944699  1.498534  2.720547              1  3  5  10  \n",
       "lshforest set       1.009018  1.423661  2.245221              1  3  5   9  "
      ]
     },
     "execution_count": 38,
     "metadata": {},
     "output_type": "execute_result"
    }
   ],
   "source": [
    "patk_pivot = pd.pivot_table(precision_at_k_results, values=['precision_at_k'], index=['algorithm', 'mode'], columns=['k'], aggfunc=['mean', 'std', 'max'])\n",
    "patk_pivot"
   ]
  },
  {
   "cell_type": "code",
   "execution_count": 39,
   "metadata": {
    "metadata": {}
   },
   "outputs": [
    {
     "data": {
      "image/png": "[encoded data removed]",
      "text/plain": [
       "<Figure size 640x480 with 1 Axes>"
      ]
     },
     "metadata": {},
     "output_type": "display_data"
    }
   ],
   "source": [
    "for row, label in zip(patk_pivot['mean', 'precision_at_k'].values, patk_pivot.index):\n",
    "    plt.plot([1, 3, 5, 10], row, 'o-', label=f'{label[0]}-{label[1]}')\n",
    "plt.xticks([1, 3, 5, 10], [1, 3, 5, 10])\n",
    "plt.xlabel('p')\n",
    "plt.ylabel('mean precision@p')\n",
    "\n",
    "plt.legend()\n",
    "plt.grid()"
   ]
  },
  {
   "cell_type": "code",
   "execution_count": 40,
   "metadata": {
    "metadata": {}
   },
   "outputs": [
    {
     "data": {
      "text/html": [
       "<div>\n",
       "<style scoped>\n",
       "    .dataframe tbody tr th:only-of-type {\n",
       "        vertical-align: middle;\n",
       "    }\n",
       "\n",
       "    .dataframe tbody tr th {\n",
       "        vertical-align: top;\n",
       "    }\n",
       "\n",
       "    .dataframe thead th {\n",
       "        text-align: right;\n",
       "    }\n",
       "</style>\n",
       "<table border=\"1\" class=\"dataframe\">\n",
       "  <thead>\n",
       "    <tr style=\"text-align: right;\">\n",
       "      <th></th>\n",
       "      <th>k</th>\n",
       "      <th>1</th>\n",
       "      <th>3</th>\n",
       "      <th>5</th>\n",
       "      <th>10</th>\n",
       "    </tr>\n",
       "    <tr>\n",
       "      <th>algorithm</th>\n",
       "      <th>mode</th>\n",
       "      <th></th>\n",
       "      <th></th>\n",
       "      <th></th>\n",
       "      <th></th>\n",
       "    </tr>\n",
       "  </thead>\n",
       "  <tbody>\n",
       "    <tr>\n",
       "      <th>embedding</th>\n",
       "      <th>fasttext</th>\n",
       "      <td>0.462</td>\n",
       "      <td>0.408000</td>\n",
       "      <td>0.3858</td>\n",
       "      <td>0.3488</td>\n",
       "    </tr>\n",
       "    <tr>\n",
       "      <th>josie</th>\n",
       "      <th>set</th>\n",
       "      <td>0.854</td>\n",
       "      <td>0.764667</td>\n",
       "      <td>0.7258</td>\n",
       "      <td>0.6505</td>\n",
       "    </tr>\n",
       "    <tr>\n",
       "      <th>lshforest</th>\n",
       "      <th>set</th>\n",
       "      <td>0.400</td>\n",
       "      <td>0.343333</td>\n",
       "      <td>0.3192</td>\n",
       "      <td>0.2855</td>\n",
       "    </tr>\n",
       "  </tbody>\n",
       "</table>\n",
       "</div>"
      ],
      "text/plain": [
       "k                      1         3       5       10\n",
       "algorithm mode                                     \n",
       "embedding fasttext  0.462  0.408000  0.3858  0.3488\n",
       "josie     set       0.854  0.764667  0.7258  0.6505\n",
       "lshforest set       0.400  0.343333  0.3192  0.2855"
      ]
     },
     "execution_count": 40,
     "metadata": {},
     "output_type": "execute_result"
    }
   ],
   "source": [
    "scaled_patk_pivot = patk_pivot['mean']['precision_at_k'] / np.array([1, 3, 5, 10])\n",
    "scaled_patk_pivot"
   ]
  },
  {
   "cell_type": "code",
   "execution_count": 41,
   "metadata": {
    "metadata": {}
   },
   "outputs": [
    {
     "data": {
      "image/png": "[encoded data removed]",
      "text/plain": [
       "<Figure size 640x480 with 1 Axes>"
      ]
     },
     "metadata": {},
     "output_type": "display_data"
    }
   ],
   "source": [
    "for row, label in zip(scaled_patk_pivot.values, patk_pivot.index):\n",
    "    plt.plot([1, 3, 5, 10], row, 'o-', label=f'{label[0]}-{label[1]}')\n",
    "plt.xticks([1, 3, 5, 10], [1, 3, 5, 10])\n",
    "plt.xlabel('p')\n",
    "plt.ylabel('mean precision@p normalised')\n",
    "\n",
    "plt.legend()\n",
    "plt.grid()"
   ]
  },
  {
   "cell_type": "markdown",
   "metadata": {},
   "source": [
    "## Normalized Discontinued Cumulative Gain - $nDCG@p$\n",
    "\n",
    "Search result lists vary in length depending on the query. Comparing a search engine's performance from one query to the next cannot be consistently achieved using DCG alone, so the cumulative gain at each position for a chosen value of $ p $ should be normalized across queries. This is done by sorting all relevant documents in the corpus by their relative relevance, producing the maximum possible DCG through position $p$, also called Ideal DCG (IDCG) through that position. For a query, the normalized discounted cumulative gain, or nDCG, is computed as: \n",
    "\n",
    "$ nDCG_{p} = {DCG_{p} \\over IDCG_{p}} $\n",
    "\n",
    "where $ IDCG_{p} $ is the ideal discounted cumulative gain,\n",
    "\n",
    "$ IDCG_{p} = \\sum_{i=1}^{|REL_{p}|} {2^{rel_{i}} - 1 \\over log_{2}(i + 1)}$\n",
    "\n",
    "where $ REL_{p} $ represents the list of relevant documents (ordered by their relevance) in the corpus up to position $p$"
   ]
  },
  {
   "cell_type": "code",
   "execution_count": 42,
   "metadata": {
    "metadata": {}
   },
   "outputs": [],
   "source": [
    "from math import log2\n",
    "\n",
    "def ndcg_at_p(true_relevances, scores, p):\n",
    "    p = min(p, len(true_relevances), len(scores))\n",
    "    if p <= 0: # because computing nDCG is meaningful only if there is more than one document \n",
    "        return 0, 1\n",
    "    idcg = sum(rel / log2(i + 1) for i, rel in enumerate(true_relevances[:p], start=1))\n",
    "    dcg = sum(rel / log2(i + 1) for i, rel in enumerate(scores[:p], start=1))\n",
    "    if idcg < dcg:\n",
    "        raise Exception()\n",
    "\n",
    "    return dcg / idcg, p "
   ]
  },
  {
   "cell_type": "code",
   "execution_count": 43,
   "metadata": {
    "metadata": {}
   },
   "outputs": [],
   "source": [
    "def get_nDCG_p(silver_standard:defaultdict[int:list[tuple[int,int]]], results:pd.DataFrame, *p):\n",
    "    \"\"\" p values are assumed positive \"\"\"\n",
    "    ndcg_res = []\n",
    "    for query_id in silver_standard:\n",
    "        true_relevances = [x[1] for x in silver_standard[query_id]]\n",
    "        max_silver_standard = true_relevances[0]\n",
    "\n",
    "        for (algorithm, mode), data in results.groupby(by=['algorithm', 'mode']):\n",
    "            r = data[data['query_id'] == query_id][['result_id', 'sloth_overlap']]\n",
    "            result_relevances = [min(max_silver_standard, x[1]) for x in r.values.tolist()]\n",
    "            for _p in p:\n",
    "                try:\n",
    "                    ndcg, _actual_p = ndcg_at_p(true_relevances, result_relevances, _p)\n",
    "                except ZeroDivisionError:\n",
    "                    print(query_id, r['result_id'].values.tolist(), r['sloth_overlap'].values.tolist())\n",
    "                    ndcg, _actual_p = -1, -1\n",
    "                    continue\n",
    "                if query_id == 29938 and algorithm == 'josie' and mode == 'bag':\n",
    "                    print(ndcg, _p, true_relevances[:_p], result_relevances[:_p])\n",
    "                ndcg_res.append([query_id, len(true_relevances), algorithm, mode, _p, _p - _actual_p, ndcg])\n",
    "    return ndcg_res"
   ]
  },
  {
   "cell_type": "code",
   "execution_count": 44,
   "metadata": {
    "metadata": {}
   },
   "outputs": [
    {
     "name": "stdout",
     "output_type": "stream",
     "text": [
      "2024/07/23 12:01:59  Pool starts...\n",
      "2024/07/23 12:01:59  Pool finished. Total time:  0.29 s\n"
     ]
    }
   ],
   "source": [
    "from time import time\n",
    "from tools.utils.utils import get_local_time\n",
    "\n",
    "\n",
    "p = [1, 3, 5, 10]\n",
    "\n",
    "\n",
    "def worker(inp):\n",
    "    \"\"\" p values are assumed positive \"\"\"\n",
    "    query_id = inp\n",
    "    \n",
    "    ndcg_res = []\n",
    "    true_relevances = [x[1] for x in silver_standard[query_id]]\n",
    "    max_silver_standard = true_relevances[0]\n",
    "\n",
    "    for (algorithm, mode), data in results.groupby(by=['algorithm', 'mode']):\n",
    "        r = data[data['query_id'] == query_id][['result_id', 'sloth_overlap']]\n",
    "        result_relevances = [min(max_silver_standard, x[1]) for x in r.values.tolist()]\n",
    "        for _p in p:\n",
    "            try:\n",
    "                ndcg, _actual_p = ndcg_at_p(true_relevances, result_relevances, _p)\n",
    "            except ZeroDivisionError:\n",
    "                # print(query_id, r['result_id'].values.tolist(), r['sloth_overlap'].values.tolist())\n",
    "                ndcg, _actual_p = -1, -1\n",
    "                continue\n",
    "\n",
    "            # if query_id == 29938 and algorithm == 'josie' and mode == 'bag':\n",
    "            #     print(ndcg, _p, true_relevances[:_p], result_relevances[:_p])\n",
    "            \n",
    "            ndcg_res.append([query_id, len(true_relevances), algorithm, mode, _p, _p - _actual_p, ndcg])\n",
    "    \n",
    "    return ndcg_res\n",
    "\n",
    "work = list(silver_standard.keys())\n",
    "\n",
    "with mp.Pool(num_cpu) as pool:\n",
    "    print(get_local_time(), ' Pool starts...')\n",
    "    start = time()\n",
    "    ndcg_results = pool.map(worker, work, chunksize=len(work) // num_cpu)\n",
    "    end = time()\n",
    "    print(get_local_time(), ' Pool finished. Total time: ', round(end - start, 3), 's')\n",
    "\n",
    "    ndcg_results = [x for qres in ndcg_results for x in qres]\n"
   ]
  },
  {
   "cell_type": "code",
   "execution_count": 45,
   "metadata": {
    "metadata": {}
   },
   "outputs": [],
   "source": [
    "# res = get_nDCG_p(silver_standard, results, 1, 3, 5, 10)"
   ]
  },
  {
   "cell_type": "code",
   "execution_count": 46,
   "metadata": {
    "metadata": {}
   },
   "outputs": [],
   "source": [
    "df = pd.DataFrame(ndcg_results, columns=['query_id', 'silver_standard_size', 'algorithm', 'mode', 'p', 'missing_p', 'ndcg_p'])"
   ]
  },
  {
   "cell_type": "code",
   "execution_count": 47,
   "metadata": {
    "metadata": {}
   },
   "outputs": [],
   "source": [
    "silver_standard_size_threshold = 5\n",
    "df_thr = df[df['silver_standard_size'] >= silver_standard_size_threshold]"
   ]
  },
  {
   "cell_type": "code",
   "execution_count": 48,
   "metadata": {
    "metadata": {}
   },
   "outputs": [
    {
     "data": {
      "text/html": [
       "<div>\n",
       "<style scoped>\n",
       "    .dataframe tbody tr th:only-of-type {\n",
       "        vertical-align: middle;\n",
       "    }\n",
       "\n",
       "    .dataframe tbody tr th {\n",
       "        vertical-align: top;\n",
       "    }\n",
       "\n",
       "    .dataframe thead tr th {\n",
       "        text-align: left;\n",
       "    }\n",
       "\n",
       "    .dataframe thead tr:last-of-type th {\n",
       "        text-align: right;\n",
       "    }\n",
       "</style>\n",
       "<table border=\"1\" class=\"dataframe\">\n",
       "  <thead>\n",
       "    <tr>\n",
       "      <th></th>\n",
       "      <th></th>\n",
       "      <th colspan=\"8\" halign=\"left\">mean</th>\n",
       "      <th colspan=\"8\" halign=\"left\">max</th>\n",
       "    </tr>\n",
       "    <tr>\n",
       "      <th></th>\n",
       "      <th></th>\n",
       "      <th colspan=\"4\" halign=\"left\">missing_p</th>\n",
       "      <th colspan=\"4\" halign=\"left\">ndcg_p</th>\n",
       "      <th colspan=\"4\" halign=\"left\">missing_p</th>\n",
       "      <th colspan=\"4\" halign=\"left\">ndcg_p</th>\n",
       "    </tr>\n",
       "    <tr>\n",
       "      <th></th>\n",
       "      <th>p</th>\n",
       "      <th>1</th>\n",
       "      <th>3</th>\n",
       "      <th>5</th>\n",
       "      <th>10</th>\n",
       "      <th>1</th>\n",
       "      <th>3</th>\n",
       "      <th>5</th>\n",
       "      <th>10</th>\n",
       "      <th>1</th>\n",
       "      <th>3</th>\n",
       "      <th>5</th>\n",
       "      <th>10</th>\n",
       "      <th>1</th>\n",
       "      <th>3</th>\n",
       "      <th>5</th>\n",
       "      <th>10</th>\n",
       "    </tr>\n",
       "    <tr>\n",
       "      <th>algorithm</th>\n",
       "      <th>mode</th>\n",
       "      <th></th>\n",
       "      <th></th>\n",
       "      <th></th>\n",
       "      <th></th>\n",
       "      <th></th>\n",
       "      <th></th>\n",
       "      <th></th>\n",
       "      <th></th>\n",
       "      <th></th>\n",
       "      <th></th>\n",
       "      <th></th>\n",
       "      <th></th>\n",
       "      <th></th>\n",
       "      <th></th>\n",
       "      <th></th>\n",
       "      <th></th>\n",
       "    </tr>\n",
       "  </thead>\n",
       "  <tbody>\n",
       "    <tr>\n",
       "      <th>embedding</th>\n",
       "      <th>fasttext</th>\n",
       "      <td>0</td>\n",
       "      <td>0.005325</td>\n",
       "      <td>0.024494</td>\n",
       "      <td>1.13312</td>\n",
       "      <td>0.334674</td>\n",
       "      <td>0.335118</td>\n",
       "      <td>0.337607</td>\n",
       "      <td>0.349122</td>\n",
       "      <td>0</td>\n",
       "      <td>2</td>\n",
       "      <td>4</td>\n",
       "      <td>9</td>\n",
       "      <td>1</td>\n",
       "      <td>1</td>\n",
       "      <td>1</td>\n",
       "      <td>1</td>\n",
       "    </tr>\n",
       "    <tr>\n",
       "      <th>josie</th>\n",
       "      <th>set</th>\n",
       "      <td>0</td>\n",
       "      <td>0.184369</td>\n",
       "      <td>0.437876</td>\n",
       "      <td>1.300601</td>\n",
       "      <td>0.790735</td>\n",
       "      <td>0.79262</td>\n",
       "      <td>0.799014</td>\n",
       "      <td>0.817162</td>\n",
       "      <td>0</td>\n",
       "      <td>2</td>\n",
       "      <td>4</td>\n",
       "      <td>9</td>\n",
       "      <td>1</td>\n",
       "      <td>1</td>\n",
       "      <td>1</td>\n",
       "      <td>1</td>\n",
       "    </tr>\n",
       "    <tr>\n",
       "      <th>lshforest</th>\n",
       "      <th>set</th>\n",
       "      <td>0</td>\n",
       "      <td>0.364092</td>\n",
       "      <td>0.837513</td>\n",
       "      <td>2.282849</td>\n",
       "      <td>0.41544</td>\n",
       "      <td>0.448551</td>\n",
       "      <td>0.468339</td>\n",
       "      <td>0.507218</td>\n",
       "      <td>0</td>\n",
       "      <td>2</td>\n",
       "      <td>4</td>\n",
       "      <td>9</td>\n",
       "      <td>1</td>\n",
       "      <td>1</td>\n",
       "      <td>1</td>\n",
       "      <td>1</td>\n",
       "    </tr>\n",
       "  </tbody>\n",
       "</table>\n",
       "</div>"
      ],
      "text/plain": [
       "                        mean                                          \\\n",
       "                   missing_p                                  ndcg_p   \n",
       "p                         1         3         5         10        1    \n",
       "algorithm mode                                                         \n",
       "embedding fasttext         0  0.005325  0.024494   1.13312  0.334674   \n",
       "josie     set              0  0.184369  0.437876  1.300601  0.790735   \n",
       "lshforest set              0  0.364092  0.837513  2.282849   0.41544   \n",
       "\n",
       "                                                       max                     \\\n",
       "                                                 missing_p          ndcg_p      \n",
       "p                         3         5         10        1  3  5  10     1  3    \n",
       "algorithm mode                                                                  \n",
       "embedding fasttext  0.335118  0.337607  0.349122         0  2  4  9      1  1   \n",
       "josie     set        0.79262  0.799014  0.817162         0  2  4  9      1  1   \n",
       "lshforest set       0.448551  0.468339  0.507218         0  2  4  9      1  1   \n",
       "\n",
       "                          \n",
       "                          \n",
       "p                  5  10  \n",
       "algorithm mode            \n",
       "embedding fasttext  1  1  \n",
       "josie     set       1  1  \n",
       "lshforest set       1  1  "
      ]
     },
     "execution_count": 48,
     "metadata": {},
     "output_type": "execute_result"
    }
   ],
   "source": [
    "ndcg_pivot = df_thr.pivot_table(index=['algorithm', 'mode'], columns=['p'], values=['ndcg_p', 'missing_p'], aggfunc=['mean', 'max']).convert_dtypes()\n",
    "ndcg_pivot"
   ]
  },
  {
   "cell_type": "code",
   "execution_count": 49,
   "metadata": {
    "metadata": {}
   },
   "outputs": [
    {
     "data": {
      "text/html": [
       "<div>\n",
       "<style scoped>\n",
       "    .dataframe tbody tr th:only-of-type {\n",
       "        vertical-align: middle;\n",
       "    }\n",
       "\n",
       "    .dataframe tbody tr th {\n",
       "        vertical-align: top;\n",
       "    }\n",
       "\n",
       "    .dataframe thead tr th {\n",
       "        text-align: left;\n",
       "    }\n",
       "\n",
       "    .dataframe thead tr:last-of-type th {\n",
       "        text-align: right;\n",
       "    }\n",
       "</style>\n",
       "<table border=\"1\" class=\"dataframe\">\n",
       "  <thead>\n",
       "    <tr>\n",
       "      <th></th>\n",
       "      <th></th>\n",
       "      <th colspan=\"4\" halign=\"left\">mean</th>\n",
       "      <th colspan=\"4\" halign=\"left\">max</th>\n",
       "    </tr>\n",
       "    <tr>\n",
       "      <th></th>\n",
       "      <th></th>\n",
       "      <th colspan=\"4\" halign=\"left\">ndcg_p</th>\n",
       "      <th colspan=\"4\" halign=\"left\">ndcg_p</th>\n",
       "    </tr>\n",
       "    <tr>\n",
       "      <th></th>\n",
       "      <th>p</th>\n",
       "      <th>1</th>\n",
       "      <th>3</th>\n",
       "      <th>5</th>\n",
       "      <th>10</th>\n",
       "      <th>1</th>\n",
       "      <th>3</th>\n",
       "      <th>5</th>\n",
       "      <th>10</th>\n",
       "    </tr>\n",
       "    <tr>\n",
       "      <th>algorithm</th>\n",
       "      <th>mode</th>\n",
       "      <th></th>\n",
       "      <th></th>\n",
       "      <th></th>\n",
       "      <th></th>\n",
       "      <th></th>\n",
       "      <th></th>\n",
       "      <th></th>\n",
       "      <th></th>\n",
       "    </tr>\n",
       "  </thead>\n",
       "  <tbody>\n",
       "    <tr>\n",
       "      <th>embedding</th>\n",
       "      <th>fasttext</th>\n",
       "      <td>0.334674</td>\n",
       "      <td>0.335118</td>\n",
       "      <td>0.337607</td>\n",
       "      <td>0.349122</td>\n",
       "      <td>1</td>\n",
       "      <td>1</td>\n",
       "      <td>1</td>\n",
       "      <td>1</td>\n",
       "    </tr>\n",
       "    <tr>\n",
       "      <th>josie</th>\n",
       "      <th>set</th>\n",
       "      <td>0.790735</td>\n",
       "      <td>0.79262</td>\n",
       "      <td>0.799014</td>\n",
       "      <td>0.817162</td>\n",
       "      <td>1</td>\n",
       "      <td>1</td>\n",
       "      <td>1</td>\n",
       "      <td>1</td>\n",
       "    </tr>\n",
       "    <tr>\n",
       "      <th>lshforest</th>\n",
       "      <th>set</th>\n",
       "      <td>0.41544</td>\n",
       "      <td>0.448551</td>\n",
       "      <td>0.468339</td>\n",
       "      <td>0.507218</td>\n",
       "      <td>1</td>\n",
       "      <td>1</td>\n",
       "      <td>1</td>\n",
       "      <td>1</td>\n",
       "    </tr>\n",
       "  </tbody>\n",
       "</table>\n",
       "</div>"
      ],
      "text/plain": [
       "                        mean                                  max         \n",
       "                      ndcg_p                               ndcg_p         \n",
       "p                         1         3         5         10     1  3  5  10\n",
       "algorithm mode                                                            \n",
       "embedding fasttext  0.334674  0.335118  0.337607  0.349122      1  1  1  1\n",
       "josie     set       0.790735   0.79262  0.799014  0.817162      1  1  1  1\n",
       "lshforest set        0.41544  0.448551  0.468339  0.507218      1  1  1  1"
      ]
     },
     "execution_count": 49,
     "metadata": {},
     "output_type": "execute_result"
    }
   ],
   "source": [
    "ndcg_pivot = df_thr.pivot_table(index=['algorithm', 'mode'], columns=['p'], values=['ndcg_p'], aggfunc=['mean', 'max']).convert_dtypes()\n",
    "ndcg_pivot"
   ]
  },
  {
   "cell_type": "code",
   "execution_count": 50,
   "metadata": {
    "metadata": {}
   },
   "outputs": [
    {
     "data": {
      "image/png": "[encoded data removed]",
      "text/plain": [
       "<Figure size 640x480 with 1 Axes>"
      ]
     },
     "metadata": {},
     "output_type": "display_data"
    }
   ],
   "source": [
    "for row, label in zip(ndcg_pivot['mean', 'ndcg_p'].values, ndcg_pivot.index):\n",
    "    plt.plot([1, 3, 5, 10], row, 'o-', label=f'{label[0]}-{label[1]}')\n",
    "plt.xticks([1, 3, 5, 10], [1, 3, 5, 10])\n",
    "plt.xlabel(\"p\")\n",
    "plt.ylabel(\"mean nDCG@p\")\n",
    "\n",
    "plt.legend()\n",
    "plt.grid()"
   ]
  },
  {
   "cell_type": "markdown",
   "metadata": {},
   "source": [
    "## Analisi tempo"
   ]
  },
  {
   "cell_type": "code",
   "execution_count": null,
   "metadata": {
    "metadata": {}
   },
   "outputs": [
    {
     "data": {
      "text/html": [
       "<div>\n",
       "<style scoped>\n",
       "    .dataframe tbody tr th:only-of-type {\n",
       "        vertical-align: middle;\n",
       "    }\n",
       "\n",
       "    .dataframe tbody tr th {\n",
       "        vertical-align: top;\n",
       "    }\n",
       "\n",
       "    .dataframe thead th {\n",
       "        text-align: right;\n",
       "    }\n",
       "</style>\n",
       "<table border=\"1\" class=\"dataframe\">\n",
       "  <thead>\n",
       "    <tr style=\"text-align: right;\">\n",
       "      <th></th>\n",
       "      <th>algorithm</th>\n",
       "      <th>mode</th>\n",
       "      <th>num query</th>\n",
       "      <th>top-K time total (s)</th>\n",
       "      <th>top-K time mean (s)</th>\n",
       "    </tr>\n",
       "  </thead>\n",
       "  <tbody>\n",
       "    <tr>\n",
       "      <th>0</th>\n",
       "      <td>josie</td>\n",
       "      <td>set</td>\n",
       "      <td>1K</td>\n",
       "      <td>134.172</td>\n",
       "      <td>0.134172</td>\n",
       "    </tr>\n",
       "    <tr>\n",
       "      <th>1</th>\n",
       "      <td>josie</td>\n",
       "      <td>bag</td>\n",
       "      <td>1K</td>\n",
       "      <td>187.344</td>\n",
       "      <td>0.187344</td>\n",
       "    </tr>\n",
       "    <tr>\n",
       "      <th>2</th>\n",
       "      <td>lshforest</td>\n",
       "      <td>set</td>\n",
       "      <td>1K</td>\n",
       "      <td>6.902</td>\n",
       "      <td>0.006902</td>\n",
       "    </tr>\n",
       "    <tr>\n",
       "      <th>3</th>\n",
       "      <td>lshforest</td>\n",
       "      <td>bag</td>\n",
       "      <td>1K</td>\n",
       "      <td>7.167</td>\n",
       "      <td>0.007167</td>\n",
       "    </tr>\n",
       "  </tbody>\n",
       "</table>\n",
       "</div>"
      ],
      "text/plain": [
       "   algorithm mode num query  top-K time total (s)  top-K time mean (s)\n",
       "0      josie  set        1K               134.172             0.134172\n",
       "1      josie  bag        1K               187.344             0.187344\n",
       "2  lshforest  set        1K                 6.902             0.006902\n",
       "3  lshforest  bag        1K                 7.167             0.007167"
      ]
     },
     "execution_count": 56,
     "metadata": {},
     "output_type": "execute_result"
    }
   ],
   "source": [
    "import itertools\n",
    "\n",
    "x = [ \n",
    "    (\n",
    "        algorithm, mode, nsamples, \n",
    "        pd.read_csv(test_dir + f'/results/base/a{algorithm}_m{mode}_k10_q{nsamples}.csv')['duration'].sum(),  \n",
    "        pd.read_csv(test_dir + f'/results/base/a{algorithm}_m{mode}_k10_q{nsamples}.csv')['duration'].mean()\n",
    "    )\n",
    "    for algorithm, mode, nsamples in itertools.product(['josie', 'lshforest'], ['set', 'bag'], [\"1K\"])\n",
    "]\n",
    "\n",
    "t = pd.DataFrame(x, columns=['algorithm', 'mode', 'num query', 'top-K time total (s)', 'top-K time mean (s)'])\n",
    "t"
   ]
  }
 ],
 "metadata": {
  "kernelspec": {
   "display_name": "nanni-tesi-env",
   "language": "python",
   "name": "python3"
  },
  "language_info": {
   "codemirror_mode": {
    "name": "ipython",
    "version": 3
   },
   "file_extension": ".py",
   "mimetype": "text/x-python",
   "name": "python",
   "nbconvert_exporter": "python",
   "pygments_lexer": "ipython3",
   "version": "3.10.14"
  }
 },
 "nbformat": 4,
 "nbformat_minor": 2
}
