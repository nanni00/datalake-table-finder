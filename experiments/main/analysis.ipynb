{
 "cells": [
  {
   "cell_type": "code",
   "execution_count": 2,
   "metadata": {
    "metadata": {}
   },
   "outputs": [],
   "source": [
    "import os\n",
    "from collections import defaultdict\n",
    "import statistics\n",
    "\n",
    "import numpy as np\n",
    "import pandas as pd\n",
    "import matplotlib.pyplot as plt\n",
    "\n",
    "from tools.utils.settings import DefaultPath as defpath\n",
    "from tools.utils.utils import get_mongodb_collections"
   ]
  },
  {
   "cell_type": "code",
   "execution_count": 3,
   "metadata": {
    "metadata": {}
   },
   "outputs": [],
   "source": [
    "# To read a multindex multicolumns dataframe (as those created for the analyses) use the pd.read_csv() attributes \"header\" and \"index_col\"\n",
    "# pd.read_csv('/path/to/complex/table/strange_pivot.csv', header=[0,1,2], index_col=[0,1])"
   ]
  },
  {
   "cell_type": "code",
   "execution_count": 4,
   "metadata": {
    "metadata": {}
   },
   "outputs": [],
   "source": [
    "test_name = 'a_test'\n",
    "dataset = 'gittables'\n",
    "size = 'standard'\n",
    "mongoclient, collections = get_mongodb_collections(dataset, size)"
   ]
  },
  {
   "cell_type": "code",
   "execution_count": 5,
   "metadata": {
    "metadata": {}
   },
   "outputs": [],
   "source": [
    "test_dir = f'{defpath.data_path.tests}/{test_name}/{dataset}'\n",
    "results_dir = test_dir + '/results/extracted'"
   ]
  },
  {
   "cell_type": "code",
   "execution_count": 6,
   "metadata": {
    "metadata": {}
   },
   "outputs": [],
   "source": [
    "solvers = [('josie', 'set'), ('josie', 'bag'), ('lshforest', 'set'), ('lshforest', 'bag'), ('embedding', 'fasttext')]\n",
    "q = '50K'\n",
    "\n",
    "results = pd.read_csv(f'{results_dir}/final_results_q{q}.csv')"
   ]
  },
  {
   "cell_type": "code",
   "execution_count": 7,
   "metadata": {
    "metadata": {}
   },
   "outputs": [
    {
     "data": {
      "text/html": [
       "<div>\n",
       "<style scoped>\n",
       "    .dataframe tbody tr th:only-of-type {\n",
       "        vertical-align: middle;\n",
       "    }\n",
       "\n",
       "    .dataframe tbody tr th {\n",
       "        vertical-align: top;\n",
       "    }\n",
       "\n",
       "    .dataframe thead th {\n",
       "        text-align: right;\n",
       "    }\n",
       "</style>\n",
       "<table border=\"1\" class=\"dataframe\">\n",
       "  <thead>\n",
       "    <tr style=\"text-align: right;\">\n",
       "      <th></th>\n",
       "      <th>query_id</th>\n",
       "      <th>result_id</th>\n",
       "      <th>algorithm</th>\n",
       "      <th>mode</th>\n",
       "      <th>algorithm_overlap</th>\n",
       "      <th>sloth_overlap</th>\n",
       "      <th>query_size</th>\n",
       "      <th>res_tab_size</th>\n",
       "      <th>intersection_mode_size</th>\n",
       "    </tr>\n",
       "  </thead>\n",
       "  <tbody>\n",
       "    <tr>\n",
       "      <th>0</th>\n",
       "      <td>349924</td>\n",
       "      <td>561891.0</td>\n",
       "      <td>josie</td>\n",
       "      <td>bag</td>\n",
       "      <td>420.0</td>\n",
       "      <td>360.0</td>\n",
       "      <td>240.0</td>\n",
       "      <td>240.0</td>\n",
       "      <td>240.0</td>\n",
       "    </tr>\n",
       "    <tr>\n",
       "      <th>1</th>\n",
       "      <td>349924</td>\n",
       "      <td>270412.0</td>\n",
       "      <td>josie</td>\n",
       "      <td>bag</td>\n",
       "      <td>420.0</td>\n",
       "      <td>360.0</td>\n",
       "      <td>240.0</td>\n",
       "      <td>240.0</td>\n",
       "      <td>240.0</td>\n",
       "    </tr>\n",
       "    <tr>\n",
       "      <th>2</th>\n",
       "      <td>349924</td>\n",
       "      <td>229727.0</td>\n",
       "      <td>josie</td>\n",
       "      <td>bag</td>\n",
       "      <td>420.0</td>\n",
       "      <td>360.0</td>\n",
       "      <td>240.0</td>\n",
       "      <td>240.0</td>\n",
       "      <td>240.0</td>\n",
       "    </tr>\n",
       "    <tr>\n",
       "      <th>3</th>\n",
       "      <td>349924</td>\n",
       "      <td>551196.0</td>\n",
       "      <td>josie</td>\n",
       "      <td>bag</td>\n",
       "      <td>420.0</td>\n",
       "      <td>360.0</td>\n",
       "      <td>240.0</td>\n",
       "      <td>240.0</td>\n",
       "      <td>240.0</td>\n",
       "    </tr>\n",
       "    <tr>\n",
       "      <th>4</th>\n",
       "      <td>349924</td>\n",
       "      <td>440153.0</td>\n",
       "      <td>josie</td>\n",
       "      <td>bag</td>\n",
       "      <td>420.0</td>\n",
       "      <td>360.0</td>\n",
       "      <td>240.0</td>\n",
       "      <td>240.0</td>\n",
       "      <td>240.0</td>\n",
       "    </tr>\n",
       "    <tr>\n",
       "      <th>...</th>\n",
       "      <td>...</td>\n",
       "      <td>...</td>\n",
       "      <td>...</td>\n",
       "      <td>...</td>\n",
       "      <td>...</td>\n",
       "      <td>...</td>\n",
       "      <td>...</td>\n",
       "      <td>...</td>\n",
       "      <td>...</td>\n",
       "    </tr>\n",
       "    <tr>\n",
       "      <th>1937717</th>\n",
       "      <td>393215</td>\n",
       "      <td>292529.0</td>\n",
       "      <td>lshforest</td>\n",
       "      <td>set</td>\n",
       "      <td>72.0</td>\n",
       "      <td>108.0</td>\n",
       "      <td>72.0</td>\n",
       "      <td>72.0</td>\n",
       "      <td>72.0</td>\n",
       "    </tr>\n",
       "    <tr>\n",
       "      <th>1937718</th>\n",
       "      <td>393215</td>\n",
       "      <td>414099.0</td>\n",
       "      <td>lshforest</td>\n",
       "      <td>set</td>\n",
       "      <td>72.0</td>\n",
       "      <td>108.0</td>\n",
       "      <td>72.0</td>\n",
       "      <td>72.0</td>\n",
       "      <td>72.0</td>\n",
       "    </tr>\n",
       "    <tr>\n",
       "      <th>1937719</th>\n",
       "      <td>393215</td>\n",
       "      <td>407895.0</td>\n",
       "      <td>lshforest</td>\n",
       "      <td>set</td>\n",
       "      <td>2.0</td>\n",
       "      <td>40.0</td>\n",
       "      <td>72.0</td>\n",
       "      <td>103.0</td>\n",
       "      <td>2.0</td>\n",
       "    </tr>\n",
       "    <tr>\n",
       "      <th>1937720</th>\n",
       "      <td>393215</td>\n",
       "      <td>127548.0</td>\n",
       "      <td>lshforest</td>\n",
       "      <td>set</td>\n",
       "      <td>2.0</td>\n",
       "      <td>40.0</td>\n",
       "      <td>72.0</td>\n",
       "      <td>103.0</td>\n",
       "      <td>2.0</td>\n",
       "    </tr>\n",
       "    <tr>\n",
       "      <th>1937721</th>\n",
       "      <td>393215</td>\n",
       "      <td>33277.0</td>\n",
       "      <td>lshforest</td>\n",
       "      <td>set</td>\n",
       "      <td>2.0</td>\n",
       "      <td>40.0</td>\n",
       "      <td>72.0</td>\n",
       "      <td>103.0</td>\n",
       "      <td>2.0</td>\n",
       "    </tr>\n",
       "  </tbody>\n",
       "</table>\n",
       "<p>1937722 rows × 9 columns</p>\n",
       "</div>"
      ],
      "text/plain": [
       "         query_id  result_id  algorithm mode  algorithm_overlap  \\\n",
       "0          349924   561891.0      josie  bag              420.0   \n",
       "1          349924   270412.0      josie  bag              420.0   \n",
       "2          349924   229727.0      josie  bag              420.0   \n",
       "3          349924   551196.0      josie  bag              420.0   \n",
       "4          349924   440153.0      josie  bag              420.0   \n",
       "...           ...        ...        ...  ...                ...   \n",
       "1937717    393215   292529.0  lshforest  set               72.0   \n",
       "1937718    393215   414099.0  lshforest  set               72.0   \n",
       "1937719    393215   407895.0  lshforest  set                2.0   \n",
       "1937720    393215   127548.0  lshforest  set                2.0   \n",
       "1937721    393215    33277.0  lshforest  set                2.0   \n",
       "\n",
       "         sloth_overlap  query_size  res_tab_size  intersection_mode_size  \n",
       "0                360.0       240.0         240.0                   240.0  \n",
       "1                360.0       240.0         240.0                   240.0  \n",
       "2                360.0       240.0         240.0                   240.0  \n",
       "3                360.0       240.0         240.0                   240.0  \n",
       "4                360.0       240.0         240.0                   240.0  \n",
       "...                ...         ...           ...                     ...  \n",
       "1937717          108.0        72.0          72.0                    72.0  \n",
       "1937718          108.0        72.0          72.0                    72.0  \n",
       "1937719           40.0        72.0         103.0                     2.0  \n",
       "1937720           40.0        72.0         103.0                     2.0  \n",
       "1937721           40.0        72.0         103.0                     2.0  \n",
       "\n",
       "[1937722 rows x 9 columns]"
      ]
     },
     "execution_count": 7,
     "metadata": {},
     "output_type": "execute_result"
    }
   ],
   "source": [
    "results"
   ]
  },
  {
   "cell_type": "code",
   "execution_count": 8,
   "metadata": {
    "metadata": {}
   },
   "outputs": [],
   "source": [
    "results = results.dropna()"
   ]
  },
  {
   "cell_type": "code",
   "execution_count": 9,
   "metadata": {
    "metadata": {}
   },
   "outputs": [
    {
     "data": {
      "text/plain": [
       "(1937216, 9)"
      ]
     },
     "execution_count": 9,
     "metadata": {},
     "output_type": "execute_result"
    }
   ],
   "source": [
    "results.shape"
   ]
  },
  {
   "cell_type": "code",
   "execution_count": 8,
   "metadata": {
    "metadata": {}
   },
   "outputs": [
    {
     "name": "stderr",
     "output_type": "stream",
     "text": [
      "/tmp/ipykernel_75587/1255061597.py:1: SettingWithCopyWarning: \n",
      "A value is trying to be set on a copy of a slice from a DataFrame.\n",
      "Try using .loc[row_indexer,col_indexer] = value instead\n",
      "\n",
      "See the caveats in the documentation: https://pandas.pydata.org/pandas-docs/stable/user_guide/indexing.html#returning-a-view-versus-a-copy\n",
      "  results['difference_overlap'] = results['algorithm_overlap'] - results['sloth_overlap']\n",
      "/tmp/ipykernel_75587/1255061597.py:2: SettingWithCopyWarning: \n",
      "A value is trying to be set on a copy of a slice from a DataFrame.\n",
      "Try using .loc[row_indexer,col_indexer] = value instead\n",
      "\n",
      "See the caveats in the documentation: https://pandas.pydata.org/pandas-docs/stable/user_guide/indexing.html#returning-a-view-versus-a-copy\n",
      "  results['algorithm_overlap_norm'] = results['algorithm_overlap'] / (results['sloth_overlap'] + 1)\n"
     ]
    }
   ],
   "source": [
    "results['difference_overlap'] = results['algorithm_overlap'] - results['sloth_overlap']\n",
    "results['algorithm_overlap_norm'] = results['algorithm_overlap'] / (results['sloth_overlap'] + 1)"
   ]
  },
  {
   "cell_type": "markdown",
   "metadata": {},
   "source": [
    "## I vari metodi per caso ritornano risultati che in realtà non hanno overlap reale?"
   ]
  },
  {
   "cell_type": "markdown",
   "metadata": {},
   "source": [
    "JOSIE no perché esatto, LSHForest può sbagliare (raramente)"
   ]
  },
  {
   "cell_type": "code",
   "execution_count": 10,
   "metadata": {
    "metadata": {}
   },
   "outputs": [],
   "source": [
    "x = []\n",
    "for am, am_group in results.groupby(by=[\"algorithm\", \"mode\"]):\n",
    "    for query_id, q_group in am_group.groupby(by=[\"query_id\"]):\n",
    "        cnt = ((q_group['sloth_overlap'] == 0)).sum()\n",
    "        num_query_results = q_group.count().values.tolist()[0]\n",
    "        x.append([am[0], am[1], query_id[0], num_query_results, cnt, cnt / num_query_results])\n",
    "\n",
    "x = pd.DataFrame(x, columns=['algorithm', 'mode', 'query_id', 'query_size', 'zero_overlap_cnt', 'zero_overlap_ratio'])"
   ]
  },
  {
   "cell_type": "code",
   "execution_count": 11,
   "metadata": {
    "metadata": {}
   },
   "outputs": [
    {
     "data": {
      "text/html": [
       "<div>\n",
       "<style scoped>\n",
       "    .dataframe tbody tr th:only-of-type {\n",
       "        vertical-align: middle;\n",
       "    }\n",
       "\n",
       "    .dataframe tbody tr th {\n",
       "        vertical-align: top;\n",
       "    }\n",
       "\n",
       "    .dataframe thead tr th {\n",
       "        text-align: left;\n",
       "    }\n",
       "\n",
       "    .dataframe thead tr:last-of-type th {\n",
       "        text-align: right;\n",
       "    }\n",
       "</style>\n",
       "<table border=\"1\" class=\"dataframe\">\n",
       "  <thead>\n",
       "    <tr>\n",
       "      <th></th>\n",
       "      <th></th>\n",
       "      <th>mean</th>\n",
       "      <th>std</th>\n",
       "      <th>min</th>\n",
       "      <th>max</th>\n",
       "    </tr>\n",
       "    <tr>\n",
       "      <th></th>\n",
       "      <th></th>\n",
       "      <th>zero_overlap_cnt</th>\n",
       "      <th>zero_overlap_cnt</th>\n",
       "      <th>zero_overlap_cnt</th>\n",
       "      <th>zero_overlap_cnt</th>\n",
       "    </tr>\n",
       "    <tr>\n",
       "      <th>algorithm</th>\n",
       "      <th>mode</th>\n",
       "      <th></th>\n",
       "      <th></th>\n",
       "      <th></th>\n",
       "      <th></th>\n",
       "    </tr>\n",
       "  </thead>\n",
       "  <tbody>\n",
       "    <tr>\n",
       "      <th rowspan=\"2\" valign=\"top\">josie</th>\n",
       "      <th>bag</th>\n",
       "      <td>0.0</td>\n",
       "      <td>0.0</td>\n",
       "      <td>0</td>\n",
       "      <td>0</td>\n",
       "    </tr>\n",
       "    <tr>\n",
       "      <th>set</th>\n",
       "      <td>0.0</td>\n",
       "      <td>0.0</td>\n",
       "      <td>0</td>\n",
       "      <td>0</td>\n",
       "    </tr>\n",
       "    <tr>\n",
       "      <th rowspan=\"2\" valign=\"top\">lshforest</th>\n",
       "      <th>bag</th>\n",
       "      <td>0.0</td>\n",
       "      <td>0.0</td>\n",
       "      <td>0</td>\n",
       "      <td>0</td>\n",
       "    </tr>\n",
       "    <tr>\n",
       "      <th>set</th>\n",
       "      <td>0.0</td>\n",
       "      <td>0.0</td>\n",
       "      <td>0</td>\n",
       "      <td>0</td>\n",
       "    </tr>\n",
       "  </tbody>\n",
       "</table>\n",
       "</div>"
      ],
      "text/plain": [
       "                           mean              std              min  \\\n",
       "               zero_overlap_cnt zero_overlap_cnt zero_overlap_cnt   \n",
       "algorithm mode                                                      \n",
       "josie     bag               0.0              0.0                0   \n",
       "          set               0.0              0.0                0   \n",
       "lshforest bag               0.0              0.0                0   \n",
       "          set               0.0              0.0                0   \n",
       "\n",
       "                            max  \n",
       "               zero_overlap_cnt  \n",
       "algorithm mode                   \n",
       "josie     bag                 0  \n",
       "          set                 0  \n",
       "lshforest bag                 0  \n",
       "          set                 0  "
      ]
     },
     "execution_count": 11,
     "metadata": {},
     "output_type": "execute_result"
    }
   ],
   "source": [
    "null_ratio_pivot = pd.pivot_table(x, values=['zero_overlap_cnt'], index=['algorithm', 'mode'], aggfunc=['mean', 'std', 'min', 'max'])\n",
    "null_ratio_pivot"
   ]
  },
  {
   "cell_type": "code",
   "execution_count": 12,
   "metadata": {
    "metadata": {}
   },
   "outputs": [
    {
     "data": {
      "text/html": [
       "<div>\n",
       "<style scoped>\n",
       "    .dataframe tbody tr th:only-of-type {\n",
       "        vertical-align: middle;\n",
       "    }\n",
       "\n",
       "    .dataframe tbody tr th {\n",
       "        vertical-align: top;\n",
       "    }\n",
       "\n",
       "    .dataframe thead tr th {\n",
       "        text-align: left;\n",
       "    }\n",
       "\n",
       "    .dataframe thead tr:last-of-type th {\n",
       "        text-align: right;\n",
       "    }\n",
       "</style>\n",
       "<table border=\"1\" class=\"dataframe\">\n",
       "  <thead>\n",
       "    <tr>\n",
       "      <th></th>\n",
       "      <th></th>\n",
       "      <th>mean</th>\n",
       "      <th>std</th>\n",
       "      <th>min</th>\n",
       "      <th>max</th>\n",
       "    </tr>\n",
       "    <tr>\n",
       "      <th></th>\n",
       "      <th></th>\n",
       "      <th>zero_overlap_ratio</th>\n",
       "      <th>zero_overlap_ratio</th>\n",
       "      <th>zero_overlap_ratio</th>\n",
       "      <th>zero_overlap_ratio</th>\n",
       "    </tr>\n",
       "    <tr>\n",
       "      <th>algorithm</th>\n",
       "      <th>mode</th>\n",
       "      <th></th>\n",
       "      <th></th>\n",
       "      <th></th>\n",
       "      <th></th>\n",
       "    </tr>\n",
       "  </thead>\n",
       "  <tbody>\n",
       "    <tr>\n",
       "      <th rowspan=\"2\" valign=\"top\">josie</th>\n",
       "      <th>bag</th>\n",
       "      <td>0.0</td>\n",
       "      <td>0.0</td>\n",
       "      <td>0.0</td>\n",
       "      <td>0.0</td>\n",
       "    </tr>\n",
       "    <tr>\n",
       "      <th>set</th>\n",
       "      <td>0.0</td>\n",
       "      <td>0.0</td>\n",
       "      <td>0.0</td>\n",
       "      <td>0.0</td>\n",
       "    </tr>\n",
       "    <tr>\n",
       "      <th rowspan=\"2\" valign=\"top\">lshforest</th>\n",
       "      <th>bag</th>\n",
       "      <td>0.0</td>\n",
       "      <td>0.0</td>\n",
       "      <td>0.0</td>\n",
       "      <td>0.0</td>\n",
       "    </tr>\n",
       "    <tr>\n",
       "      <th>set</th>\n",
       "      <td>0.0</td>\n",
       "      <td>0.0</td>\n",
       "      <td>0.0</td>\n",
       "      <td>0.0</td>\n",
       "    </tr>\n",
       "  </tbody>\n",
       "</table>\n",
       "</div>"
      ],
      "text/plain": [
       "                             mean                std                min  \\\n",
       "               zero_overlap_ratio zero_overlap_ratio zero_overlap_ratio   \n",
       "algorithm mode                                                            \n",
       "josie     bag                 0.0                0.0                0.0   \n",
       "          set                 0.0                0.0                0.0   \n",
       "lshforest bag                 0.0                0.0                0.0   \n",
       "          set                 0.0                0.0                0.0   \n",
       "\n",
       "                              max  \n",
       "               zero_overlap_ratio  \n",
       "algorithm mode                     \n",
       "josie     bag                 0.0  \n",
       "          set                 0.0  \n",
       "lshforest bag                 0.0  \n",
       "          set                 0.0  "
      ]
     },
     "execution_count": 12,
     "metadata": {},
     "output_type": "execute_result"
    }
   ],
   "source": [
    "null_ratio_pivot = pd.pivot_table(x, values=['zero_overlap_ratio'], index=['algorithm', 'mode'], aggfunc=['mean', 'std', 'min', 'max'])\n",
    "null_ratio_pivot"
   ]
  },
  {
   "cell_type": "markdown",
   "metadata": {},
   "source": [
    "In alcuni casi JOSIE sembra sbagliare nonostante sia esatto, probabilmente sono quelli in cui però va in time out e non riesce a ricostruire l'overlap effettivo nel tempo massimo."
   ]
  },
  {
   "cell_type": "code",
   "execution_count": 13,
   "metadata": {
    "metadata": {}
   },
   "outputs": [],
   "source": [
    "x = results[(results['algorithm'] == 'josie') & (results['mode'] == 'set')]"
   ]
  },
  {
   "cell_type": "code",
   "execution_count": 15,
   "metadata": {
    "metadata": {}
   },
   "outputs": [],
   "source": [
    "# z = results[(results['sloth_overlap'] == 0) & (results['algorithm_overlap'] != 0) & (results['algorithm'] == 'lshforest') & (results['mode'] == 'bag')]\n",
    "z = results[(results['sloth_overlap'] > results['algorithm_overlap']) & (results['algorithm'] == 'lshforest') & (results['mode'] == 'bag')]\n"
   ]
  },
  {
   "cell_type": "code",
   "execution_count": 16,
   "metadata": {
    "metadata": {}
   },
   "outputs": [
    {
     "data": {
      "text/html": [
       "<div>\n",
       "<style scoped>\n",
       "    .dataframe tbody tr th:only-of-type {\n",
       "        vertical-align: middle;\n",
       "    }\n",
       "\n",
       "    .dataframe tbody tr th {\n",
       "        vertical-align: top;\n",
       "    }\n",
       "\n",
       "    .dataframe thead th {\n",
       "        text-align: right;\n",
       "    }\n",
       "</style>\n",
       "<table border=\"1\" class=\"dataframe\">\n",
       "  <thead>\n",
       "    <tr style=\"text-align: right;\">\n",
       "      <th></th>\n",
       "      <th>query_id</th>\n",
       "      <th>result_id</th>\n",
       "      <th>algorithm</th>\n",
       "      <th>mode</th>\n",
       "      <th>algorithm_overlap</th>\n",
       "      <th>sloth_overlap</th>\n",
       "      <th>query_size</th>\n",
       "      <th>res_tab_size</th>\n",
       "      <th>intersection_mode_size</th>\n",
       "    </tr>\n",
       "  </thead>\n",
       "  <tbody>\n",
       "    <tr>\n",
       "      <th>491511</th>\n",
       "      <td>393218</td>\n",
       "      <td>373440.0</td>\n",
       "      <td>lshforest</td>\n",
       "      <td>bag</td>\n",
       "      <td>4.0</td>\n",
       "      <td>88.0</td>\n",
       "      <td>143.0</td>\n",
       "      <td>205.0</td>\n",
       "      <td>3.0</td>\n",
       "    </tr>\n",
       "    <tr>\n",
       "      <th>491512</th>\n",
       "      <td>393218</td>\n",
       "      <td>287521.0</td>\n",
       "      <td>lshforest</td>\n",
       "      <td>bag</td>\n",
       "      <td>167.0</td>\n",
       "      <td>237.0</td>\n",
       "      <td>143.0</td>\n",
       "      <td>143.0</td>\n",
       "      <td>143.0</td>\n",
       "    </tr>\n",
       "    <tr>\n",
       "      <th>491513</th>\n",
       "      <td>393218</td>\n",
       "      <td>55873.0</td>\n",
       "      <td>lshforest</td>\n",
       "      <td>bag</td>\n",
       "      <td>4.0</td>\n",
       "      <td>88.0</td>\n",
       "      <td>143.0</td>\n",
       "      <td>205.0</td>\n",
       "      <td>3.0</td>\n",
       "    </tr>\n",
       "    <tr>\n",
       "      <th>491514</th>\n",
       "      <td>393218</td>\n",
       "      <td>328485.0</td>\n",
       "      <td>lshforest</td>\n",
       "      <td>bag</td>\n",
       "      <td>4.0</td>\n",
       "      <td>88.0</td>\n",
       "      <td>143.0</td>\n",
       "      <td>205.0</td>\n",
       "      <td>3.0</td>\n",
       "    </tr>\n",
       "    <tr>\n",
       "      <th>491515</th>\n",
       "      <td>393218</td>\n",
       "      <td>16878.0</td>\n",
       "      <td>lshforest</td>\n",
       "      <td>bag</td>\n",
       "      <td>167.0</td>\n",
       "      <td>237.0</td>\n",
       "      <td>143.0</td>\n",
       "      <td>143.0</td>\n",
       "      <td>143.0</td>\n",
       "    </tr>\n",
       "    <tr>\n",
       "      <th>...</th>\n",
       "      <td>...</td>\n",
       "      <td>...</td>\n",
       "      <td>...</td>\n",
       "      <td>...</td>\n",
       "      <td>...</td>\n",
       "      <td>...</td>\n",
       "      <td>...</td>\n",
       "      <td>...</td>\n",
       "      <td>...</td>\n",
       "    </tr>\n",
       "    <tr>\n",
       "      <th>972086</th>\n",
       "      <td>393215</td>\n",
       "      <td>414099.0</td>\n",
       "      <td>lshforest</td>\n",
       "      <td>bag</td>\n",
       "      <td>77.0</td>\n",
       "      <td>108.0</td>\n",
       "      <td>72.0</td>\n",
       "      <td>72.0</td>\n",
       "      <td>72.0</td>\n",
       "    </tr>\n",
       "    <tr>\n",
       "      <th>972087</th>\n",
       "      <td>393215</td>\n",
       "      <td>99379.0</td>\n",
       "      <td>lshforest</td>\n",
       "      <td>bag</td>\n",
       "      <td>3.0</td>\n",
       "      <td>39.0</td>\n",
       "      <td>72.0</td>\n",
       "      <td>77.0</td>\n",
       "      <td>3.0</td>\n",
       "    </tr>\n",
       "    <tr>\n",
       "      <th>972088</th>\n",
       "      <td>393215</td>\n",
       "      <td>136214.0</td>\n",
       "      <td>lshforest</td>\n",
       "      <td>bag</td>\n",
       "      <td>3.0</td>\n",
       "      <td>39.0</td>\n",
       "      <td>72.0</td>\n",
       "      <td>77.0</td>\n",
       "      <td>3.0</td>\n",
       "    </tr>\n",
       "    <tr>\n",
       "      <th>972089</th>\n",
       "      <td>393215</td>\n",
       "      <td>15064.0</td>\n",
       "      <td>lshforest</td>\n",
       "      <td>bag</td>\n",
       "      <td>3.0</td>\n",
       "      <td>39.0</td>\n",
       "      <td>72.0</td>\n",
       "      <td>77.0</td>\n",
       "      <td>3.0</td>\n",
       "    </tr>\n",
       "    <tr>\n",
       "      <th>972090</th>\n",
       "      <td>393215</td>\n",
       "      <td>209467.0</td>\n",
       "      <td>lshforest</td>\n",
       "      <td>bag</td>\n",
       "      <td>3.0</td>\n",
       "      <td>39.0</td>\n",
       "      <td>72.0</td>\n",
       "      <td>77.0</td>\n",
       "      <td>3.0</td>\n",
       "    </tr>\n",
       "  </tbody>\n",
       "</table>\n",
       "<p>220452 rows × 9 columns</p>\n",
       "</div>"
      ],
      "text/plain": [
       "        query_id  result_id  algorithm mode  algorithm_overlap  sloth_overlap  \\\n",
       "491511    393218   373440.0  lshforest  bag                4.0           88.0   \n",
       "491512    393218   287521.0  lshforest  bag              167.0          237.0   \n",
       "491513    393218    55873.0  lshforest  bag                4.0           88.0   \n",
       "491514    393218   328485.0  lshforest  bag                4.0           88.0   \n",
       "491515    393218    16878.0  lshforest  bag              167.0          237.0   \n",
       "...          ...        ...        ...  ...                ...            ...   \n",
       "972086    393215   414099.0  lshforest  bag               77.0          108.0   \n",
       "972087    393215    99379.0  lshforest  bag                3.0           39.0   \n",
       "972088    393215   136214.0  lshforest  bag                3.0           39.0   \n",
       "972089    393215    15064.0  lshforest  bag                3.0           39.0   \n",
       "972090    393215   209467.0  lshforest  bag                3.0           39.0   \n",
       "\n",
       "        query_size  res_tab_size  intersection_mode_size  \n",
       "491511       143.0         205.0                     3.0  \n",
       "491512       143.0         143.0                   143.0  \n",
       "491513       143.0         205.0                     3.0  \n",
       "491514       143.0         205.0                     3.0  \n",
       "491515       143.0         143.0                   143.0  \n",
       "...            ...           ...                     ...  \n",
       "972086        72.0          72.0                    72.0  \n",
       "972087        72.0          77.0                     3.0  \n",
       "972088        72.0          77.0                     3.0  \n",
       "972089        72.0          77.0                     3.0  \n",
       "972090        72.0          77.0                     3.0  \n",
       "\n",
       "[220452 rows x 9 columns]"
      ]
     },
     "execution_count": 16,
     "metadata": {},
     "output_type": "execute_result"
    }
   ],
   "source": [
    "z"
   ]
  },
  {
   "cell_type": "code",
   "execution_count": 20,
   "metadata": {
    "metadata": {}
   },
   "outputs": [
    {
     "data": {
      "text/html": [
       "<div>\n",
       "<style scoped>\n",
       "    .dataframe tbody tr th:only-of-type {\n",
       "        vertical-align: middle;\n",
       "    }\n",
       "\n",
       "    .dataframe tbody tr th {\n",
       "        vertical-align: top;\n",
       "    }\n",
       "\n",
       "    .dataframe thead th {\n",
       "        text-align: right;\n",
       "    }\n",
       "</style>\n",
       "<table border=\"1\" class=\"dataframe\">\n",
       "  <thead>\n",
       "    <tr style=\"text-align: right;\">\n",
       "      <th></th>\n",
       "      <th>query_id</th>\n",
       "      <th>result_id</th>\n",
       "      <th>algorithm</th>\n",
       "      <th>mode</th>\n",
       "      <th>algorithm_overlap</th>\n",
       "      <th>sloth_overlap</th>\n",
       "      <th>query_size</th>\n",
       "      <th>res_tab_size</th>\n",
       "      <th>intersection_mode_size</th>\n",
       "    </tr>\n",
       "  </thead>\n",
       "  <tbody>\n",
       "    <tr>\n",
       "      <th>972081</th>\n",
       "      <td>393215</td>\n",
       "      <td>641122.0</td>\n",
       "      <td>lshforest</td>\n",
       "      <td>bag</td>\n",
       "      <td>77.0</td>\n",
       "      <td>108.0</td>\n",
       "      <td>72.0</td>\n",
       "      <td>72.0</td>\n",
       "      <td>72.0</td>\n",
       "    </tr>\n",
       "    <tr>\n",
       "      <th>972082</th>\n",
       "      <td>393215</td>\n",
       "      <td>195019.0</td>\n",
       "      <td>lshforest</td>\n",
       "      <td>bag</td>\n",
       "      <td>77.0</td>\n",
       "      <td>108.0</td>\n",
       "      <td>72.0</td>\n",
       "      <td>72.0</td>\n",
       "      <td>72.0</td>\n",
       "    </tr>\n",
       "    <tr>\n",
       "      <th>972083</th>\n",
       "      <td>393215</td>\n",
       "      <td>311000.0</td>\n",
       "      <td>lshforest</td>\n",
       "      <td>bag</td>\n",
       "      <td>3.0</td>\n",
       "      <td>39.0</td>\n",
       "      <td>72.0</td>\n",
       "      <td>77.0</td>\n",
       "      <td>3.0</td>\n",
       "    </tr>\n",
       "    <tr>\n",
       "      <th>972084</th>\n",
       "      <td>393215</td>\n",
       "      <td>729808.0</td>\n",
       "      <td>lshforest</td>\n",
       "      <td>bag</td>\n",
       "      <td>77.0</td>\n",
       "      <td>108.0</td>\n",
       "      <td>72.0</td>\n",
       "      <td>72.0</td>\n",
       "      <td>72.0</td>\n",
       "    </tr>\n",
       "    <tr>\n",
       "      <th>972085</th>\n",
       "      <td>393215</td>\n",
       "      <td>292529.0</td>\n",
       "      <td>lshforest</td>\n",
       "      <td>bag</td>\n",
       "      <td>77.0</td>\n",
       "      <td>108.0</td>\n",
       "      <td>72.0</td>\n",
       "      <td>72.0</td>\n",
       "      <td>72.0</td>\n",
       "    </tr>\n",
       "    <tr>\n",
       "      <th>972086</th>\n",
       "      <td>393215</td>\n",
       "      <td>414099.0</td>\n",
       "      <td>lshforest</td>\n",
       "      <td>bag</td>\n",
       "      <td>77.0</td>\n",
       "      <td>108.0</td>\n",
       "      <td>72.0</td>\n",
       "      <td>72.0</td>\n",
       "      <td>72.0</td>\n",
       "    </tr>\n",
       "    <tr>\n",
       "      <th>972087</th>\n",
       "      <td>393215</td>\n",
       "      <td>99379.0</td>\n",
       "      <td>lshforest</td>\n",
       "      <td>bag</td>\n",
       "      <td>3.0</td>\n",
       "      <td>39.0</td>\n",
       "      <td>72.0</td>\n",
       "      <td>77.0</td>\n",
       "      <td>3.0</td>\n",
       "    </tr>\n",
       "    <tr>\n",
       "      <th>972088</th>\n",
       "      <td>393215</td>\n",
       "      <td>136214.0</td>\n",
       "      <td>lshforest</td>\n",
       "      <td>bag</td>\n",
       "      <td>3.0</td>\n",
       "      <td>39.0</td>\n",
       "      <td>72.0</td>\n",
       "      <td>77.0</td>\n",
       "      <td>3.0</td>\n",
       "    </tr>\n",
       "    <tr>\n",
       "      <th>972089</th>\n",
       "      <td>393215</td>\n",
       "      <td>15064.0</td>\n",
       "      <td>lshforest</td>\n",
       "      <td>bag</td>\n",
       "      <td>3.0</td>\n",
       "      <td>39.0</td>\n",
       "      <td>72.0</td>\n",
       "      <td>77.0</td>\n",
       "      <td>3.0</td>\n",
       "    </tr>\n",
       "    <tr>\n",
       "      <th>972090</th>\n",
       "      <td>393215</td>\n",
       "      <td>209467.0</td>\n",
       "      <td>lshforest</td>\n",
       "      <td>bag</td>\n",
       "      <td>3.0</td>\n",
       "      <td>39.0</td>\n",
       "      <td>72.0</td>\n",
       "      <td>77.0</td>\n",
       "      <td>3.0</td>\n",
       "    </tr>\n",
       "  </tbody>\n",
       "</table>\n",
       "</div>"
      ],
      "text/plain": [
       "        query_id  result_id  algorithm mode  algorithm_overlap  sloth_overlap  \\\n",
       "972081    393215   641122.0  lshforest  bag               77.0          108.0   \n",
       "972082    393215   195019.0  lshforest  bag               77.0          108.0   \n",
       "972083    393215   311000.0  lshforest  bag                3.0           39.0   \n",
       "972084    393215   729808.0  lshforest  bag               77.0          108.0   \n",
       "972085    393215   292529.0  lshforest  bag               77.0          108.0   \n",
       "972086    393215   414099.0  lshforest  bag               77.0          108.0   \n",
       "972087    393215    99379.0  lshforest  bag                3.0           39.0   \n",
       "972088    393215   136214.0  lshforest  bag                3.0           39.0   \n",
       "972089    393215    15064.0  lshforest  bag                3.0           39.0   \n",
       "972090    393215   209467.0  lshforest  bag                3.0           39.0   \n",
       "\n",
       "        query_size  res_tab_size  intersection_mode_size  \n",
       "972081        72.0          72.0                    72.0  \n",
       "972082        72.0          72.0                    72.0  \n",
       "972083        72.0          77.0                     3.0  \n",
       "972084        72.0          72.0                    72.0  \n",
       "972085        72.0          72.0                    72.0  \n",
       "972086        72.0          72.0                    72.0  \n",
       "972087        72.0          77.0                     3.0  \n",
       "972088        72.0          77.0                     3.0  \n",
       "972089        72.0          77.0                     3.0  \n",
       "972090        72.0          77.0                     3.0  "
      ]
     },
     "execution_count": 20,
     "metadata": {},
     "output_type": "execute_result"
    }
   ],
   "source": [
    "z[z['query_id'] == 393215]"
   ]
  },
  {
   "cell_type": "code",
   "execution_count": 24,
   "metadata": {
    "metadata": {}
   },
   "outputs": [
    {
     "data": {
      "text/plain": [
       "42"
      ]
     },
     "execution_count": 24,
     "metadata": {},
     "output_type": "execute_result"
    }
   ],
   "source": [
    "from tools.utils.utils import get_one_document_from_mongodb_by_key\n",
    "from tools.utils.utils import create_token_set\n",
    "\n",
    "qdoc = get_one_document_from_mongodb_by_key('_id_numeric', 393215, *collections)\n",
    "rdoc = get_one_document_from_mongodb_by_key('_id_numeric',311000.0\t, *collections)\n",
    "\n",
    "qset = create_token_set(qdoc['content'], 'bag', qdoc['numeric_columns'])\n",
    "rset = create_token_set(rdoc['content'], 'bag', rdoc['numeric_columns'])\n",
    "\n",
    "len(set(qset).intersection(rset))"
   ]
  },
  {
   "cell_type": "code",
   "execution_count": 25,
   "metadata": {
    "metadata": {}
   },
   "outputs": [],
   "source": [
    "query_id, _id_r = 393215, 311000"
   ]
  },
  {
   "cell_type": "code",
   "execution_count": 26,
   "metadata": {
    "metadata": {}
   },
   "outputs": [],
   "source": [
    "doc_table_q = get_one_document_from_mongodb_by_key('_id_numeric', query_id, *collections)\n",
    "table_q = doc_table_q['content']\n",
    "numeric_columns_q = doc_table_q['numeric_columns']\n",
    "\n",
    "# retrieve the result table information from MongoDB\n",
    "doc_table_r = get_one_document_from_mongodb_by_key('_id_numeric', _id_r, *collections)\n",
    "table_r = doc_table_r['content']\n",
    "numeric_columns_r = doc_table_r['numeric_columns']\n"
   ]
  },
  {
   "cell_type": "code",
   "execution_count": 28,
   "metadata": {
    "metadata": {}
   },
   "outputs": [],
   "source": [
    "mode = 'bag'"
   ]
  },
  {
   "cell_type": "code",
   "execution_count": 29,
   "metadata": {
    "metadata": {}
   },
   "outputs": [
    {
     "ename": "NameError",
     "evalue": "name 'blacklist' is not defined",
     "output_type": "error",
     "traceback": [
      "\u001b[0;31m---------------------------------------------------------------------------\u001b[0m",
      "\u001b[0;31mNameError\u001b[0m                                 Traceback (most recent call last)",
      "Cell \u001b[0;32mIn[29], line 1\u001b[0m\n\u001b[0;32m----> 1\u001b[0m set_q \u001b[38;5;241m=\u001b[39m create_token_set(table_q, \u001b[38;5;124m'\u001b[39m\u001b[38;5;124mset\u001b[39m\u001b[38;5;124m'\u001b[39m \u001b[38;5;28;01mif\u001b[39;00m mode \u001b[38;5;129;01min\u001b[39;00m [\u001b[38;5;124m'\u001b[39m\u001b[38;5;124mfasttext\u001b[39m\u001b[38;5;124m'\u001b[39m, \u001b[38;5;124m'\u001b[39m\u001b[38;5;124mtabert\u001b[39m\u001b[38;5;124m'\u001b[39m] \u001b[38;5;28;01melse\u001b[39;00m mode, numeric_columns_q, blacklist\u001b[38;5;241m=\u001b[39m\u001b[43mblacklist\u001b[49m)\n\u001b[1;32m      2\u001b[0m set_r \u001b[38;5;241m=\u001b[39m create_token_set(table_r, \u001b[38;5;124m'\u001b[39m\u001b[38;5;124mset\u001b[39m\u001b[38;5;124m'\u001b[39m \u001b[38;5;28;01mif\u001b[39;00m mode \u001b[38;5;129;01min\u001b[39;00m [\u001b[38;5;124m'\u001b[39m\u001b[38;5;124mfasttext\u001b[39m\u001b[38;5;124m'\u001b[39m, \u001b[38;5;124m'\u001b[39m\u001b[38;5;124mtabert\u001b[39m\u001b[38;5;124m'\u001b[39m] \u001b[38;5;28;01melse\u001b[39;00m mode, numeric_columns_r, blacklist\u001b[38;5;241m=\u001b[39mblacklist)\n\u001b[1;32m      3\u001b[0m algorithm_overlap \u001b[38;5;241m=\u001b[39m \u001b[38;5;28mlen\u001b[39m(\u001b[38;5;28mset\u001b[39m(set_q)\u001b[38;5;241m.\u001b[39mintersection(set_r))\n",
      "\u001b[0;31mNameError\u001b[0m: name 'blacklist' is not defined"
     ]
    }
   ],
   "source": [
    "set_q = create_token_set(table_q, 'set' if mode in ['fasttext', 'tabert'] else mode, numeric_columns_q, blacklist=blacklist)\n",
    "set_r = create_token_set(table_r, 'set' if mode in ['fasttext', 'tabert'] else mode, numeric_columns_r, blacklist=blacklist)\n",
    "algorithm_overlap = len(set(set_q).intersection(set_r))"
   ]
  },
  {
   "cell_type": "code",
   "execution_count": 19,
   "metadata": {
    "metadata": {}
   },
   "outputs": [],
   "source": [
    "# from tools.utils.utils import ResultDatabase\n",
    "# resultsdb = ResultDatabase('nanni', f'results_table_d{dataset}_s{size}')\n",
    "# resultsdb.lookup_result_table(245, 645)"
   ]
  },
  {
   "cell_type": "code",
   "execution_count": 12,
   "metadata": {
    "metadata": {}
   },
   "outputs": [
    {
     "name": "stdout",
     "output_type": "stream",
     "text": [
      "0,0,0,0,0,0,0,0,0,0,0,0,0,0,0,0,0,1,0,1,1,1,1,1,1,1,1,1,1,1,1,1,1,1,1,1,1,1,1,1,1,1,1,1,1,1,1,1,0,0,1,1,1,1,1,1,1,1,1,1,1,1,1,1,0,1,1,1,1,1,1,1,1,1,1,1,1,1,1,1,1,1,1,1,0,1,1,1,1,1,1,1,1,1,1,1,1,1,1,1,1,1,1,1,1,1,1,1,1,1,0,1,1,1,1,0,0,0,0,0,0,0,0,0,0,0,0,0,0,0,0,0,0,0,0,0,0,1,1,1,1,1,1,1,1,0,0,1,1,1,1,1,1,1,1,0,1,1,1,1,1,1,1,0,1,1,1,1,1,0,1,1,1,1,1,1,1,1,1,1,0,0,0,1,1,1,1,1,1,0,1,1,1,1,1,1,1,1,1,1,0,1,0,0,1,1,1,1,1,0,0,1,1,1,1,1,1,1,0,1,1,1,1,1,0,1,1,1,1,0,0,1,1,1,1,0,1,1,1,1,0,1,1,1,1,0,1,1,1,1,1,1,1,0,1,1,1,0,1,1,1,0,0,1,0,1,1,1,1,1,0,1,1,1,1,0,0,1,1,0,1,0,0,0,0,0,1,1,1,1,0,1,1,1,1,1,0,0,1,1,1,1,0,1,1,1,1,0,1,1,1,1,1,0,0,1,1,1,1,0,0,1,0,1,1,1,1,1,1,1,1,1,1,1,1,1,1,1,1,1,1,1,1,1,1,1,1,1,1,1,1,1,1,1,1,1,1,1,1,1,1,1,1,1,1,1,1,1,1,1,1,1,1,1,1,1,1,1,1,1,1,1,1,1,1,1,1,1,1,1,1,1,1,1,1,1,1,1,1,1,1,1,1,1,1,1,1,1,1,1,1,1,1,1,1,1,1,1,1,1,1,1,1,1,1,1,1,1,1,1,1,1,1,1,1,1,1,1,1,1,1,1,1,1,1,1,1,1,1,1,1,1,1,1,0,0,0,1,1,1,1,0,1,1,1,1,1,1,1,1,1,1,1,1,1,1,0,0,1,0,0,1,0,1,1,1,1,1,1,1,1,1,1,1,1,0,1,1,1,1,0,0,0,0,0,0,0,0,1,1,1,1,1,1,1,1,1,1,1,1,1,1,1,1,0,1,0\n",
      "0,0,0,0,0,0,0,0,0,0,0,0,0,0,0,0,0,0,1,1,1,1,1,1,1,1,1,1,1,1,1,1,1,1,1,1,1,1,1,1,1,1,1,1,1,0,0,1,1,1,1,1,1,1,1,1,1,1,1,1,1,0,1,1,1,1,0,0,0,0,1,0,0,0,0,0,1,0,0,0,0,0,0,0,0,0,0,0,0,1,1,1,1,1,1,1,1,1,1,1,1,1,1,1,1,1,1,1,0,0,0,0,0,0,0,0,0,0,0,0,0,0,0,0,0,0,0,0,0,0,1,1,1,1,0,0,1,1,1,1,1,0,1,1,1,1,0,1,0,1,1,1,1,0,0,1,1,1,1,0,1,1,1,1,0,1,0,0,1,1,1,0,0,1,1,1,1,1,1,1,0,1,1,1,0,1,1,0,0,1,0,1,0,1,0,0,1,1,1,0,1,1,1,0,1,1,1,0,0,1,0,1,1,0,1,1,1,0,0,1,1,0,1,0,0,0,0,0,1,0,1,1,0,0,1,1,1,1,0,1,1,0,1,1,0,0,1,0,0,1,0,1,1,1,1,1,1,1,1,1,1,1,1,1,1,1,1,1,1,1,1,1,1,1,1,1,1,1,1,1,1,1,1,1,1,1,1,1,1,1,1,1,1,1,1,1,1,1,1,1,1,1,1,1,1,1,1,1,1,1,1,1,1,1,1,1,1,1,1,1,1,1,1,1,1,1,1,1,1,1,1,1,1,1,1,1,1,1,1,1,1,1,1,1,1,1,1,1,1,1,1,1,1,1,1,1,1,1,1,1,1,1,1,1,1,1,1,1,0,0,0,1,1,0,1,1,1,1,1,1,1,1,0,1,1,1,1,0,1,1,0,1,0,1,1,1,1,1,1,1,1,1,0,1,1,1,1,0,0,0,0,0,0,1,1,1,1,1,1,1,1,1,1,1,1,1,1,1,0,0,0\n"
     ]
    }
   ],
   "source": [
    "print(','.join(map(str, qdoc['numeric_columns'])))\n",
    "print(','.join(map(str, rdoc['numeric_columns'])))"
   ]
  },
  {
   "cell_type": "code",
   "execution_count": 15,
   "metadata": {
    "metadata": {}
   },
   "outputs": [
    {
     "data": {
      "text/plain": [
       "(417, 304)"
      ]
     },
     "execution_count": 15,
     "metadata": {},
     "output_type": "execute_result"
    }
   ],
   "source": [
    "sum(qdoc['numeric_columns']), sum(rdoc['numeric_columns'])"
   ]
  },
  {
   "cell_type": "code",
   "execution_count": 13,
   "metadata": {
    "metadata": {}
   },
   "outputs": [
    {
     "data": {
      "text/html": [
       "<div>\n",
       "<style scoped>\n",
       "    .dataframe tbody tr th:only-of-type {\n",
       "        vertical-align: middle;\n",
       "    }\n",
       "\n",
       "    .dataframe tbody tr th {\n",
       "        vertical-align: top;\n",
       "    }\n",
       "\n",
       "    .dataframe thead th {\n",
       "        text-align: right;\n",
       "    }\n",
       "</style>\n",
       "<table border=\"1\" class=\"dataframe\">\n",
       "  <thead>\n",
       "    <tr style=\"text-align: right;\">\n",
       "      <th></th>\n",
       "      <th>0</th>\n",
       "      <th>1</th>\n",
       "      <th>2</th>\n",
       "      <th>3</th>\n",
       "      <th>4</th>\n",
       "      <th>5</th>\n",
       "      <th>6</th>\n",
       "      <th>7</th>\n",
       "      <th>8</th>\n",
       "      <th>9</th>\n",
       "      <th>...</th>\n",
       "      <th>517</th>\n",
       "      <th>518</th>\n",
       "      <th>519</th>\n",
       "      <th>520</th>\n",
       "      <th>521</th>\n",
       "      <th>522</th>\n",
       "      <th>523</th>\n",
       "      <th>524</th>\n",
       "      <th>525</th>\n",
       "      <th>526</th>\n",
       "    </tr>\n",
       "  </thead>\n",
       "  <tbody>\n",
       "    <tr>\n",
       "      <th>0</th>\n",
       "      <td>low</td>\n",
       "      <td>low</td>\n",
       "      <td>DK</td>\n",
       "      <td>8888</td>\n",
       "      <td>family_member</td>\n",
       "      <td>yes</td>\n",
       "      <td>Hans Solo</td>\n",
       "      <td>Fri Mar 23 00:00:00 UTC 2018</td>\n",
       "      <td>yes</td>\n",
       "      <td>Fri Mar 23 04:45:49 UTC 2018</td>\n",
       "      <td>...</td>\n",
       "      <td>NaN</td>\n",
       "      <td>NaN</td>\n",
       "      <td>NaN</td>\n",
       "      <td>NaN</td>\n",
       "      <td>NaN</td>\n",
       "      <td>NaN</td>\n",
       "      <td>NaN</td>\n",
       "      <td>Fri Mar 23 05:04:44 UTC 2018</td>\n",
       "      <td>NaN</td>\n",
       "      <td>uuid:aa440b09-6372-4b5c-881a-509b8566d7cc</td>\n",
       "    </tr>\n",
       "    <tr>\n",
       "      <th>1</th>\n",
       "      <td>low</td>\n",
       "      <td>low</td>\n",
       "      <td>DK</td>\n",
       "      <td>101010</td>\n",
       "      <td>family_member</td>\n",
       "      <td>yes</td>\n",
       "      <td>Fransis</td>\n",
       "      <td>Tue Mar 27 00:00:00 UTC 2018</td>\n",
       "      <td>yes</td>\n",
       "      <td>Tue Mar 27 03:25:46 UTC 2018</td>\n",
       "      <td>...</td>\n",
       "      <td>NaN</td>\n",
       "      <td>Jaundice</td>\n",
       "      <td>NaN</td>\n",
       "      <td>NaN</td>\n",
       "      <td>NaN</td>\n",
       "      <td>NaN</td>\n",
       "      <td>NaN</td>\n",
       "      <td>Tue Mar 27 03:47:08 UTC 2018</td>\n",
       "      <td>NaN</td>\n",
       "      <td>uuid:345cc282-6313-4399-8042-55fdf5407d7a</td>\n",
       "    </tr>\n",
       "    <tr>\n",
       "      <th>2</th>\n",
       "      <td>veryl</td>\n",
       "      <td>veryl</td>\n",
       "      <td>DK</td>\n",
       "      <td>Freddy</td>\n",
       "      <td>family_member</td>\n",
       "      <td>yes</td>\n",
       "      <td>Otis Reading</td>\n",
       "      <td>Tue Mar 27 00:00:00 UTC 2018</td>\n",
       "      <td>yes</td>\n",
       "      <td>Tue Mar 27 03:48:41 UTC 2018</td>\n",
       "      <td>...</td>\n",
       "      <td>NaN</td>\n",
       "      <td>NaN</td>\n",
       "      <td>NaN</td>\n",
       "      <td>NaN</td>\n",
       "      <td>NaN</td>\n",
       "      <td>NaN</td>\n",
       "      <td>NaN</td>\n",
       "      <td>Tue Mar 27 04:13:05 UTC 2018</td>\n",
       "      <td>NaN</td>\n",
       "      <td>uuid:dee4bd39-90cf-4a85-b38e-f8805fe15443</td>\n",
       "    </tr>\n",
       "    <tr>\n",
       "      <th>3</th>\n",
       "      <td>veryl</td>\n",
       "      <td>veryl</td>\n",
       "      <td>DK</td>\n",
       "      <td>Jane doe</td>\n",
       "      <td>parent</td>\n",
       "      <td>yes</td>\n",
       "      <td>Fantastic mr fox</td>\n",
       "      <td>Tue Mar 27 00:00:00 UTC 2018</td>\n",
       "      <td>yes</td>\n",
       "      <td>Tue Mar 27 04:15:03 UTC 2018</td>\n",
       "      <td>...</td>\n",
       "      <td>NaN</td>\n",
       "      <td>NaN</td>\n",
       "      <td>dehydration diarrhea fever</td>\n",
       "      <td>NaN</td>\n",
       "      <td>NaN</td>\n",
       "      <td>NaN</td>\n",
       "      <td>NaN</td>\n",
       "      <td>Tue Mar 27 04:27:19 UTC 2018</td>\n",
       "      <td>NaN</td>\n",
       "      <td>uuid:5fa7be04-6fa8-4a2c-a480-77df97e2f390</td>\n",
       "    </tr>\n",
       "    <tr>\n",
       "      <th>4</th>\n",
       "      <td>veryl</td>\n",
       "      <td>veryl</td>\n",
       "      <td>DK</td>\n",
       "      <td>Ross</td>\n",
       "      <td>parent</td>\n",
       "      <td>yes</td>\n",
       "      <td>Polly parrot</td>\n",
       "      <td>Tue Mar 27 00:00:00 UTC 2018</td>\n",
       "      <td>yes</td>\n",
       "      <td>Tue Mar 27 04:27:58 UTC 2018</td>\n",
       "      <td>...</td>\n",
       "      <td>NaN</td>\n",
       "      <td>NaN</td>\n",
       "      <td>NaN</td>\n",
       "      <td>NaN</td>\n",
       "      <td>NaN</td>\n",
       "      <td>NaN</td>\n",
       "      <td>NaN</td>\n",
       "      <td>Tue Mar 27 04:42:43 UTC 2018</td>\n",
       "      <td>NaN</td>\n",
       "      <td>uuid:0d555a32-b21a-4159-a095-01453a33ab94</td>\n",
       "    </tr>\n",
       "    <tr>\n",
       "      <th>5</th>\n",
       "      <td>low</td>\n",
       "      <td>low</td>\n",
       "      <td>DK</td>\n",
       "      <td>Captain Kirk</td>\n",
       "      <td>parent</td>\n",
       "      <td>no</td>\n",
       "      <td>Mr spock</td>\n",
       "      <td>Mon Jun 04 00:00:00 UTC 2018</td>\n",
       "      <td>yes</td>\n",
       "      <td>Mon Jun 04 04:38:29 UTC 2018</td>\n",
       "      <td>...</td>\n",
       "      <td>NaN</td>\n",
       "      <td>NaN</td>\n",
       "      <td>NaN</td>\n",
       "      <td>NaN</td>\n",
       "      <td>NaN</td>\n",
       "      <td>NaN</td>\n",
       "      <td>NaN</td>\n",
       "      <td>Mon Jun 04 05:07:49 UTC 2018</td>\n",
       "      <td>NaN</td>\n",
       "      <td>uuid:e89be22b-c2fd-438b-9653-39cb025a0d82</td>\n",
       "    </tr>\n",
       "    <tr>\n",
       "      <th>6</th>\n",
       "      <td>low</td>\n",
       "      <td>low</td>\n",
       "      <td>DK</td>\n",
       "      <td>Captain Jenway</td>\n",
       "      <td>family_member</td>\n",
       "      <td>dk</td>\n",
       "      <td>Interviewer</td>\n",
       "      <td>Mon Jun 04 00:00:00 UTC 2018</td>\n",
       "      <td>yes</td>\n",
       "      <td>Mon Jun 04 07:13:29 UTC 2018</td>\n",
       "      <td>...</td>\n",
       "      <td>NaN</td>\n",
       "      <td>NaN</td>\n",
       "      <td>NaN</td>\n",
       "      <td>NaN</td>\n",
       "      <td>NaN</td>\n",
       "      <td>NaN</td>\n",
       "      <td>NaN</td>\n",
       "      <td>Mon Jun 04 07:25:40 UTC 2018</td>\n",
       "      <td>NaN</td>\n",
       "      <td>uuid:2cbcd726-2d3b-4b16-a264-2dcc0cbd027a</td>\n",
       "    </tr>\n",
       "  </tbody>\n",
       "</table>\n",
       "<p>7 rows × 527 columns</p>\n",
       "</div>"
      ],
      "text/plain": [
       "     0      1   2               3              4    5                 6    \\\n",
       "0    low    low  DK            8888  family_member  yes         Hans Solo   \n",
       "1    low    low  DK          101010  family_member  yes           Fransis   \n",
       "2  veryl  veryl  DK          Freddy  family_member  yes      Otis Reading   \n",
       "3  veryl  veryl  DK        Jane doe         parent  yes  Fantastic mr fox   \n",
       "4  veryl  veryl  DK            Ross         parent  yes      Polly parrot   \n",
       "5    low    low  DK    Captain Kirk         parent   no          Mr spock   \n",
       "6    low    low  DK  Captain Jenway  family_member   dk       Interviewer   \n",
       "\n",
       "                            7    8                             9    ... 517  \\\n",
       "0  Fri Mar 23 00:00:00 UTC 2018  yes  Fri Mar 23 04:45:49 UTC 2018  ... NaN   \n",
       "1  Tue Mar 27 00:00:00 UTC 2018  yes  Tue Mar 27 03:25:46 UTC 2018  ... NaN   \n",
       "2  Tue Mar 27 00:00:00 UTC 2018  yes  Tue Mar 27 03:48:41 UTC 2018  ... NaN   \n",
       "3  Tue Mar 27 00:00:00 UTC 2018  yes  Tue Mar 27 04:15:03 UTC 2018  ... NaN   \n",
       "4  Tue Mar 27 00:00:00 UTC 2018  yes  Tue Mar 27 04:27:58 UTC 2018  ... NaN   \n",
       "5  Mon Jun 04 00:00:00 UTC 2018  yes  Mon Jun 04 04:38:29 UTC 2018  ... NaN   \n",
       "6  Mon Jun 04 00:00:00 UTC 2018  yes  Mon Jun 04 07:13:29 UTC 2018  ... NaN   \n",
       "\n",
       "        518                         519 520 521 522 523  \\\n",
       "0       NaN                         NaN NaN NaN NaN NaN   \n",
       "1  Jaundice                         NaN NaN NaN NaN NaN   \n",
       "2       NaN                         NaN NaN NaN NaN NaN   \n",
       "3       NaN  dehydration diarrhea fever NaN NaN NaN NaN   \n",
       "4       NaN                         NaN NaN NaN NaN NaN   \n",
       "5       NaN                         NaN NaN NaN NaN NaN   \n",
       "6       NaN                         NaN NaN NaN NaN NaN   \n",
       "\n",
       "                            524 525                                        526  \n",
       "0  Fri Mar 23 05:04:44 UTC 2018 NaN  uuid:aa440b09-6372-4b5c-881a-509b8566d7cc  \n",
       "1  Tue Mar 27 03:47:08 UTC 2018 NaN  uuid:345cc282-6313-4399-8042-55fdf5407d7a  \n",
       "2  Tue Mar 27 04:13:05 UTC 2018 NaN  uuid:dee4bd39-90cf-4a85-b38e-f8805fe15443  \n",
       "3  Tue Mar 27 04:27:19 UTC 2018 NaN  uuid:5fa7be04-6fa8-4a2c-a480-77df97e2f390  \n",
       "4  Tue Mar 27 04:42:43 UTC 2018 NaN  uuid:0d555a32-b21a-4159-a095-01453a33ab94  \n",
       "5  Mon Jun 04 05:07:49 UTC 2018 NaN  uuid:e89be22b-c2fd-438b-9653-39cb025a0d82  \n",
       "6  Mon Jun 04 07:25:40 UTC 2018 NaN  uuid:2cbcd726-2d3b-4b16-a264-2dcc0cbd027a  \n",
       "\n",
       "[7 rows x 527 columns]"
      ]
     },
     "execution_count": 13,
     "metadata": {},
     "output_type": "execute_result"
    }
   ],
   "source": [
    "pd.DataFrame(qdoc['content'])"
   ]
  },
  {
   "cell_type": "code",
   "execution_count": null,
   "metadata": {
    "metadata": {}
   },
   "outputs": [],
   "source": [
    "pd.DataFrame(rdoc['content'])"
   ]
  },
  {
   "cell_type": "code",
   "execution_count": null,
   "metadata": {
    "metadata": {}
   },
   "outputs": [],
   "source": [
    "pd.isna([r[8] for r in qdoc['content']][0])"
   ]
  },
  {
   "cell_type": "code",
   "execution_count": 18,
   "metadata": {
    "metadata": {}
   },
   "outputs": [
    {
     "name": "stdout",
     "output_type": "stream",
     "text": [
      "Detected 2 seed(s) in 0.003610849380493164 seconds.\n",
      "Generated 0 candidate(s) in 0.0 seconds.\n",
      "Verified 0 candidate(s) in 0.0 seconds.\n",
      "Detected 1 largest overlap(s) in 1.5974044799804688e-05 seconds.\n",
      "Size of the detected largest overlap(s): 1 columns, 39 rows, 39 cells.\n",
      "Total elapsed time: 0.003976345062255859 seconds.\n",
      "          0\n",
      "0   comment\n",
      "1   comment\n",
      "2   comment\n",
      "3   comment\n",
      "4   comment\n",
      "5   comment\n",
      "6   comment\n",
      "7   comment\n",
      "8   comment\n",
      "9   comment\n",
      "10  comment\n",
      "11  comment\n",
      "12  comment\n",
      "13  comment\n",
      "14  comment\n",
      "15  comment\n",
      "16  comment\n",
      "17  comment\n",
      "18  comment\n",
      "19  comment\n",
      "20  comment\n",
      "21  comment\n",
      "22  comment\n",
      "23  comment\n",
      "24  comment\n",
      "25  comment\n",
      "26  comment\n",
      "27  comment\n",
      "28  comment\n",
      "29  comment\n",
      "30  comment\n",
      "31  comment\n",
      "32  comment\n",
      "33  comment\n",
      "34    story\n",
      "35    story\n",
      "36    story\n",
      "37    story\n",
      "38    story\n"
     ]
    },
    {
     "data": {
      "text/plain": [
       "39"
      ]
     },
     "execution_count": 18,
     "metadata": {},
     "output_type": "execute_result"
    }
   ],
   "source": [
    "from tools.utils.utils import apply_sloth\n",
    "\n",
    "apply_sloth(qdoc['content'], rdoc['content'], qdoc['numeric_columns'], rdoc['numeric_columns'], verbose=True)"
   ]
  },
  {
   "cell_type": "code",
   "execution_count": null,
   "metadata": {
    "metadata": {}
   },
   "outputs": [],
   "source": [
    "from tools.sloth.sloth import sloth\n",
    "from tools.utils.utils import prepare_token\n",
    "table1 = qdoc['content']\n",
    "table2 = rdoc['content']\n",
    "\n",
    "\n",
    "num_null = 0\n",
    "\n",
    "def format_value_for_excluding_nan(t):\n",
    "    global num_null\n",
    "    if not t or pd.isna(t):\n",
    "        num_null += 1\n",
    "        return f'{t}@{num_null}'\n",
    "    t = prepare_token(t)\n",
    "    return t\n",
    "\n",
    "table1 = [[format_value_for_excluding_nan(row[i]) for row in table1] for i in range(len(table1[0])) if qdoc['numeric_columns'][i] == 0]\n",
    "table2 = [[format_value_for_excluding_nan(row[i]) for row in table2] for i in range(len(table2[0])) if rdoc['numeric_columns'][i] == 0]"
   ]
  },
  {
   "cell_type": "code",
   "execution_count": null,
   "metadata": {
    "metadata": {}
   },
   "outputs": [],
   "source": [
    "print(table2[3])"
   ]
  },
  {
   "cell_type": "code",
   "execution_count": null,
   "metadata": {
    "metadata": {}
   },
   "outputs": [],
   "source": [
    "from tools.sloth.utils import parse_table\n",
    "\n",
    "\n",
    "pd.DataFrame(parse_table(table1, 3, 0))"
   ]
  },
  {
   "cell_type": "code",
   "execution_count": null,
   "metadata": {
    "metadata": {}
   },
   "outputs": [],
   "source": [
    "metrics = []\n",
    "_, metrics = sloth(table1, table2, metrics=metrics, verbose=True)\n",
    "largest_ov_sloth = metrics[-2]"
   ]
  },
  {
   "cell_type": "markdown",
   "metadata": {},
   "source": [
    "## Algorithm vs True Overlap"
   ]
  },
  {
   "cell_type": "code",
   "execution_count": 20,
   "metadata": {
    "metadata": {}
   },
   "outputs": [],
   "source": [
    "data = [(am[0], am[1], group) for am, group in results.groupby(by=['algorithm', 'mode'])]"
   ]
  },
  {
   "cell_type": "code",
   "execution_count": 21,
   "metadata": {
    "metadata": {}
   },
   "outputs": [
    {
     "data": {
      "text/html": [
       "<div>\n",
       "<style scoped>\n",
       "    .dataframe tbody tr th:only-of-type {\n",
       "        vertical-align: middle;\n",
       "    }\n",
       "\n",
       "    .dataframe tbody tr th {\n",
       "        vertical-align: top;\n",
       "    }\n",
       "\n",
       "    .dataframe thead th {\n",
       "        text-align: right;\n",
       "    }\n",
       "</style>\n",
       "<table border=\"1\" class=\"dataframe\">\n",
       "  <thead>\n",
       "    <tr style=\"text-align: right;\">\n",
       "      <th></th>\n",
       "      <th>query_id</th>\n",
       "      <th>result_id</th>\n",
       "      <th>algorithm_overlap</th>\n",
       "      <th>sloth_overlap</th>\n",
       "      <th>query_size</th>\n",
       "      <th>res_tab_size</th>\n",
       "      <th>intersection_mode_size</th>\n",
       "      <th>difference_overlap</th>\n",
       "      <th>algorithm_overlap_norm</th>\n",
       "    </tr>\n",
       "  </thead>\n",
       "  <tbody>\n",
       "    <tr>\n",
       "      <th>count</th>\n",
       "      <td>825.000000</td>\n",
       "      <td>825.000000</td>\n",
       "      <td>825.000000</td>\n",
       "      <td>825.000000</td>\n",
       "      <td>825.000000</td>\n",
       "      <td>825.000000</td>\n",
       "      <td>825.000000</td>\n",
       "      <td>825.000000</td>\n",
       "      <td>825.000000</td>\n",
       "    </tr>\n",
       "    <tr>\n",
       "      <th>mean</th>\n",
       "      <td>541.997576</td>\n",
       "      <td>504.105455</td>\n",
       "      <td>16.545455</td>\n",
       "      <td>61.369697</td>\n",
       "      <td>199.940606</td>\n",
       "      <td>313.895758</td>\n",
       "      <td>16.545455</td>\n",
       "      <td>-44.824242</td>\n",
       "      <td>0.304645</td>\n",
       "    </tr>\n",
       "    <tr>\n",
       "      <th>std</th>\n",
       "      <td>260.106975</td>\n",
       "      <td>280.173061</td>\n",
       "      <td>64.960934</td>\n",
       "      <td>82.612870</td>\n",
       "      <td>281.982803</td>\n",
       "      <td>634.314806</td>\n",
       "      <td>64.960934</td>\n",
       "      <td>52.645263</td>\n",
       "      <td>0.313286</td>\n",
       "    </tr>\n",
       "    <tr>\n",
       "      <th>min</th>\n",
       "      <td>23.000000</td>\n",
       "      <td>2.000000</td>\n",
       "      <td>1.000000</td>\n",
       "      <td>1.000000</td>\n",
       "      <td>10.000000</td>\n",
       "      <td>9.000000</td>\n",
       "      <td>1.000000</td>\n",
       "      <td>-416.000000</td>\n",
       "      <td>0.005236</td>\n",
       "    </tr>\n",
       "    <tr>\n",
       "      <th>25%</th>\n",
       "      <td>392.000000</td>\n",
       "      <td>269.000000</td>\n",
       "      <td>3.000000</td>\n",
       "      <td>10.000000</td>\n",
       "      <td>61.000000</td>\n",
       "      <td>80.000000</td>\n",
       "      <td>3.000000</td>\n",
       "      <td>-74.000000</td>\n",
       "      <td>0.080000</td>\n",
       "    </tr>\n",
       "    <tr>\n",
       "      <th>50%</th>\n",
       "      <td>551.000000</td>\n",
       "      <td>507.000000</td>\n",
       "      <td>5.000000</td>\n",
       "      <td>48.000000</td>\n",
       "      <td>113.000000</td>\n",
       "      <td>169.000000</td>\n",
       "      <td>5.000000</td>\n",
       "      <td>-31.000000</td>\n",
       "      <td>0.153846</td>\n",
       "    </tr>\n",
       "    <tr>\n",
       "      <th>75%</th>\n",
       "      <td>728.000000</td>\n",
       "      <td>748.000000</td>\n",
       "      <td>7.000000</td>\n",
       "      <td>85.000000</td>\n",
       "      <td>201.000000</td>\n",
       "      <td>216.000000</td>\n",
       "      <td>7.000000</td>\n",
       "      <td>0.000000</td>\n",
       "      <td>0.500000</td>\n",
       "    </tr>\n",
       "    <tr>\n",
       "      <th>max</th>\n",
       "      <td>974.000000</td>\n",
       "      <td>996.000000</td>\n",
       "      <td>677.000000</td>\n",
       "      <td>677.000000</td>\n",
       "      <td>1713.000000</td>\n",
       "      <td>5910.000000</td>\n",
       "      <td>677.000000</td>\n",
       "      <td>21.000000</td>\n",
       "      <td>1.952381</td>\n",
       "    </tr>\n",
       "  </tbody>\n",
       "</table>\n",
       "</div>"
      ],
      "text/plain": [
       "         query_id   result_id  algorithm_overlap  sloth_overlap   query_size  \\\n",
       "count  825.000000  825.000000         825.000000     825.000000   825.000000   \n",
       "mean   541.997576  504.105455          16.545455      61.369697   199.940606   \n",
       "std    260.106975  280.173061          64.960934      82.612870   281.982803   \n",
       "min     23.000000    2.000000           1.000000       1.000000    10.000000   \n",
       "25%    392.000000  269.000000           3.000000      10.000000    61.000000   \n",
       "50%    551.000000  507.000000           5.000000      48.000000   113.000000   \n",
       "75%    728.000000  748.000000           7.000000      85.000000   201.000000   \n",
       "max    974.000000  996.000000         677.000000     677.000000  1713.000000   \n",
       "\n",
       "       res_tab_size  intersection_mode_size  difference_overlap  \\\n",
       "count    825.000000              825.000000          825.000000   \n",
       "mean     313.895758               16.545455          -44.824242   \n",
       "std      634.314806               64.960934           52.645263   \n",
       "min        9.000000                1.000000         -416.000000   \n",
       "25%       80.000000                3.000000          -74.000000   \n",
       "50%      169.000000                5.000000          -31.000000   \n",
       "75%      216.000000                7.000000            0.000000   \n",
       "max     5910.000000              677.000000           21.000000   \n",
       "\n",
       "       algorithm_overlap_norm  \n",
       "count              825.000000  \n",
       "mean                 0.304645  \n",
       "std                  0.313286  \n",
       "min                  0.005236  \n",
       "25%                  0.080000  \n",
       "50%                  0.153846  \n",
       "75%                  0.500000  \n",
       "max                  1.952381  "
      ]
     },
     "execution_count": 21,
     "metadata": {},
     "output_type": "execute_result"
    }
   ],
   "source": [
    "results[(results['algorithm'] == 'josie') & (results['mode'] == 'set')].describe()"
   ]
  },
  {
   "cell_type": "code",
   "execution_count": 22,
   "metadata": {
    "metadata": {}
   },
   "outputs": [
    {
     "data": {
      "image/png": "[encoded data removed]",
      "text/plain": [
       "<Figure size 1500x500 with 1 Axes>"
      ]
     },
     "metadata": {},
     "output_type": "display_data"
    }
   ],
   "source": [
    "fig, ax = plt.subplots(1, 1, sharey='row', figsize=(15, 5))\n",
    "xmin, xmax, step = -200, 300, 10\n",
    "\n",
    "ax.hist([d[2]['difference_overlap'] for d in data], \n",
    "         bins=np.arange(xmin, xmax, step), alpha=0.8, \n",
    "         label=[f'{a}-{m}' for a, m, _ in data],\n",
    "         align='mid')\n",
    "ax.set_xlim(xmin, xmax)\n",
    "ax.set_xticks(np.arange(xmin, xmax, step))\n",
    "ax.set_yscale('log')\n",
    "ax.tick_params(axis='x', rotation=45)\n",
    "ax.grid()\n",
    "ax.set_xlabel('ALGORITHM overlap - SLOTH overlap')\n",
    "ax.set_ylabel('frequency')\n",
    "\n",
    "plt.legend()\n",
    "plt.show()"
   ]
  },
  {
   "cell_type": "code",
   "execution_count": 23,
   "metadata": {
    "metadata": {}
   },
   "outputs": [],
   "source": [
    "data = [(am[0], am[1], group) for am, group in results.groupby(by=['algorithm', 'mode'])]"
   ]
  },
  {
   "cell_type": "code",
   "execution_count": 24,
   "metadata": {
    "metadata": {}
   },
   "outputs": [
    {
     "data": {
      "image/png": "[encoded data removed]",
      "text/plain": [
       "<Figure size 1500x500 with 1 Axes>"
      ]
     },
     "metadata": {},
     "output_type": "display_data"
    }
   ],
   "source": [
    "fig, ax = plt.subplots(1, 1, sharey='row', figsize=(15, 5))\n",
    "xmin, xmax, step = 0, 10, 0.2\n",
    "\n",
    "ax.hist([d[2]['algorithm_overlap_norm'] for d in data], \n",
    "         bins=np.arange(xmin, xmax, step), alpha=0.8, \n",
    "         label=[f'{a}-{m}' for a, m, _ in data],\n",
    "         align='mid')\n",
    "ax.set_xlim(xmin, xmax)\n",
    "ax.set_xticks(np.arange(xmin, xmax, step))\n",
    "ax.grid()\n",
    "ax.set_xlabel('ALGORITHM_overlap / (SLOTH_overlap + 1)')\n",
    "ax.set_ylabel('frequency')\n",
    "ax.set_yscale('log')\n",
    "ax.tick_params(axis='x', rotation=45)\n",
    "\n",
    "plt.legend()\n",
    "plt.show()"
   ]
  },
  {
   "cell_type": "code",
   "execution_count": 25,
   "metadata": {
    "metadata": {}
   },
   "outputs": [
    {
     "data": {
      "text/html": [
       "<div>\n",
       "<style scoped>\n",
       "    .dataframe tbody tr th:only-of-type {\n",
       "        vertical-align: middle;\n",
       "    }\n",
       "\n",
       "    .dataframe tbody tr th {\n",
       "        vertical-align: top;\n",
       "    }\n",
       "\n",
       "    .dataframe thead th {\n",
       "        text-align: right;\n",
       "    }\n",
       "</style>\n",
       "<table border=\"1\" class=\"dataframe\">\n",
       "  <thead>\n",
       "    <tr style=\"text-align: right;\">\n",
       "      <th></th>\n",
       "      <th>query_id</th>\n",
       "      <th>result_id</th>\n",
       "      <th>algorithm</th>\n",
       "      <th>mode</th>\n",
       "      <th>algorithm_overlap</th>\n",
       "      <th>sloth_overlap</th>\n",
       "      <th>query_size</th>\n",
       "      <th>res_tab_size</th>\n",
       "      <th>intersection_mode_size</th>\n",
       "      <th>difference_overlap</th>\n",
       "      <th>algorithm_overlap_norm</th>\n",
       "    </tr>\n",
       "  </thead>\n",
       "  <tbody>\n",
       "  </tbody>\n",
       "</table>\n",
       "</div>"
      ],
      "text/plain": [
       "Empty DataFrame\n",
       "Columns: [query_id, result_id, algorithm, mode, algorithm_overlap, sloth_overlap, query_size, res_tab_size, intersection_mode_size, difference_overlap, algorithm_overlap_norm]\n",
       "Index: []"
      ]
     },
     "execution_count": 25,
     "metadata": {},
     "output_type": "execute_result"
    }
   ],
   "source": [
    "results[(results['algorithm'] == 'josie') & (results['mode'] == 'bag') & (results['algorithm_overlap'] < results['sloth_overlap'])]"
   ]
  },
  {
   "cell_type": "markdown",
   "metadata": {},
   "source": [
    "## Creating Silver Standard"
   ]
  },
  {
   "cell_type": "code",
   "execution_count": 26,
   "metadata": {
    "metadata": {}
   },
   "outputs": [],
   "source": [
    "silver_standard = defaultdict(set)\n",
    "\n",
    "results_ids = results.convert_dtypes().groupby(by='query_id')[['result_id', 'sloth_overlap']]\n",
    "\n",
    "for query_id, ids_overlaps in results_ids:\n",
    "    for i in ids_overlaps.values:\n",
    "        _id, _overlap = i\n",
    "        silver_standard[query_id].add((_id, _overlap))\n",
    "\n",
    "for query_id in silver_standard.keys():\n",
    "    silver_standard[query_id] = sorted(list(silver_standard[query_id]), key=lambda x: x[1], reverse=True)"
   ]
  },
  {
   "cell_type": "markdown",
   "metadata": {},
   "source": [
    "## Precision at p - $P@p$\n",
    "Corresponds to the number of relevant results among the top $p$ retrieved documents. Fails to take into account the positions of the relevant documents among the top $p$.Another shortcoming is that on a query with fewer relevant results than $p$, even a perfect system will have a score less than 1.\n"
   ]
  },
  {
   "cell_type": "code",
   "execution_count": 48,
   "metadata": {
    "metadata": {}
   },
   "outputs": [],
   "source": [
    "import multiprocessing as mp\n",
    "\n",
    "num_cpu = min(os.cpu_count(), 96)\n",
    "\n",
    "k_precisions = [1, 3, 5, 10]\n",
    "work = list(silver_standard.keys())\n",
    "\n",
    "precision_at_p_results = []\n",
    "\n",
    "\n",
    "def worker(inp):    \n",
    "    query_id = inp\n",
    "    \n",
    "    qss = [x[1] for x in silver_standard[query_id]]\n",
    "    prec_results = []\n",
    "        \n",
    "    for (algorithm, mode), data in results.groupby(by=[\"algorithm\", \"mode\"]):\n",
    "        ids = data[data['query_id'] == query_id]['result_id'].values.tolist()\n",
    "        for p_precision in k_precisions:\n",
    "            real_topk = [x[0] for x in silver_standard[query_id][:p_precision]]\n",
    "            precision_at_p = set(real_topk).intersection(ids)\n",
    "            \n",
    "            prec_results.append([query_id, len(qss), algorithm, mode, p_precision, len(precision_at_p)])\n",
    "    return prec_results\n",
    "\n",
    "\n",
    "with mp.Pool(processes=num_cpu) as pool:\n",
    "    precision_at_p_results = pool.map(worker, work, chunksize=max(len(work) // num_cpu, 1))\n",
    "    precision_at_p_results = [x for qres in precision_at_p_results for x in qres]\n",
    "\n",
    "columns = ['query_id', 'silver_std_size', 'algorithm', 'mode', 'p', 'precision_at_p']\n",
    "precision_at_p_results = pd.DataFrame(precision_at_p_results, columns=columns)\n",
    "# precision_at_k = precision_at_k_results.sort_values(by=['silver_std_size', 'query_id'], ascending=False)"
   ]
  },
  {
   "cell_type": "code",
   "execution_count": 49,
   "metadata": {
    "metadata": {}
   },
   "outputs": [
    {
     "data": {
      "text/html": [
       "<div>\n",
       "<style scoped>\n",
       "    .dataframe tbody tr th:only-of-type {\n",
       "        vertical-align: middle;\n",
       "    }\n",
       "\n",
       "    .dataframe tbody tr th {\n",
       "        vertical-align: top;\n",
       "    }\n",
       "\n",
       "    .dataframe thead th {\n",
       "        text-align: right;\n",
       "    }\n",
       "</style>\n",
       "<table border=\"1\" class=\"dataframe\">\n",
       "  <thead>\n",
       "    <tr style=\"text-align: right;\">\n",
       "      <th></th>\n",
       "      <th>query_id</th>\n",
       "      <th>silver_std_size</th>\n",
       "      <th>algorithm</th>\n",
       "      <th>mode</th>\n",
       "      <th>p</th>\n",
       "      <th>precision_at_p</th>\n",
       "    </tr>\n",
       "  </thead>\n",
       "  <tbody>\n",
       "    <tr>\n",
       "      <th>0</th>\n",
       "      <td>23</td>\n",
       "      <td>7</td>\n",
       "      <td>josie</td>\n",
       "      <td>bag</td>\n",
       "      <td>1</td>\n",
       "      <td>1</td>\n",
       "    </tr>\n",
       "    <tr>\n",
       "      <th>1</th>\n",
       "      <td>23</td>\n",
       "      <td>7</td>\n",
       "      <td>josie</td>\n",
       "      <td>bag</td>\n",
       "      <td>3</td>\n",
       "      <td>3</td>\n",
       "    </tr>\n",
       "    <tr>\n",
       "      <th>2</th>\n",
       "      <td>23</td>\n",
       "      <td>7</td>\n",
       "      <td>josie</td>\n",
       "      <td>bag</td>\n",
       "      <td>5</td>\n",
       "      <td>5</td>\n",
       "    </tr>\n",
       "    <tr>\n",
       "      <th>3</th>\n",
       "      <td>23</td>\n",
       "      <td>7</td>\n",
       "      <td>josie</td>\n",
       "      <td>bag</td>\n",
       "      <td>10</td>\n",
       "      <td>7</td>\n",
       "    </tr>\n",
       "    <tr>\n",
       "      <th>4</th>\n",
       "      <td>23</td>\n",
       "      <td>7</td>\n",
       "      <td>josie</td>\n",
       "      <td>set</td>\n",
       "      <td>1</td>\n",
       "      <td>1</td>\n",
       "    </tr>\n",
       "  </tbody>\n",
       "</table>\n",
       "</div>"
      ],
      "text/plain": [
       "   query_id  silver_std_size algorithm mode   p  precision_at_p\n",
       "0        23                7     josie  bag   1               1\n",
       "1        23                7     josie  bag   3               3\n",
       "2        23                7     josie  bag   5               5\n",
       "3        23                7     josie  bag  10               7\n",
       "4        23                7     josie  set   1               1"
      ]
     },
     "execution_count": 49,
     "metadata": {},
     "output_type": "execute_result"
    }
   ],
   "source": [
    "precision_at_p_results.head()"
   ]
  },
  {
   "cell_type": "code",
   "execution_count": 50,
   "metadata": {
    "metadata": {}
   },
   "outputs": [
    {
     "data": {
      "text/html": [
       "<div>\n",
       "<style scoped>\n",
       "    .dataframe tbody tr th:only-of-type {\n",
       "        vertical-align: middle;\n",
       "    }\n",
       "\n",
       "    .dataframe tbody tr th {\n",
       "        vertical-align: top;\n",
       "    }\n",
       "\n",
       "    .dataframe thead tr th {\n",
       "        text-align: left;\n",
       "    }\n",
       "\n",
       "    .dataframe thead tr:last-of-type th {\n",
       "        text-align: right;\n",
       "    }\n",
       "</style>\n",
       "<table border=\"1\" class=\"dataframe\">\n",
       "  <thead>\n",
       "    <tr>\n",
       "      <th></th>\n",
       "      <th></th>\n",
       "      <th colspan=\"4\" halign=\"left\">mean</th>\n",
       "      <th colspan=\"4\" halign=\"left\">std</th>\n",
       "      <th colspan=\"4\" halign=\"left\">max</th>\n",
       "    </tr>\n",
       "    <tr>\n",
       "      <th></th>\n",
       "      <th></th>\n",
       "      <th colspan=\"4\" halign=\"left\">precision_at_p</th>\n",
       "      <th colspan=\"4\" halign=\"left\">precision_at_p</th>\n",
       "      <th colspan=\"4\" halign=\"left\">precision_at_p</th>\n",
       "    </tr>\n",
       "    <tr>\n",
       "      <th></th>\n",
       "      <th>p</th>\n",
       "      <th>1</th>\n",
       "      <th>3</th>\n",
       "      <th>5</th>\n",
       "      <th>10</th>\n",
       "      <th>1</th>\n",
       "      <th>3</th>\n",
       "      <th>5</th>\n",
       "      <th>10</th>\n",
       "      <th>1</th>\n",
       "      <th>3</th>\n",
       "      <th>5</th>\n",
       "      <th>10</th>\n",
       "    </tr>\n",
       "    <tr>\n",
       "      <th>algorithm</th>\n",
       "      <th>mode</th>\n",
       "      <th></th>\n",
       "      <th></th>\n",
       "      <th></th>\n",
       "      <th></th>\n",
       "      <th></th>\n",
       "      <th></th>\n",
       "      <th></th>\n",
       "      <th></th>\n",
       "      <th></th>\n",
       "      <th></th>\n",
       "      <th></th>\n",
       "      <th></th>\n",
       "    </tr>\n",
       "  </thead>\n",
       "  <tbody>\n",
       "    <tr>\n",
       "      <th rowspan=\"2\" valign=\"top\">josie</th>\n",
       "      <th>bag</th>\n",
       "      <td>0.827957</td>\n",
       "      <td>2.333333</td>\n",
       "      <td>3.655914</td>\n",
       "      <td>6.763441</td>\n",
       "      <td>0.379463</td>\n",
       "      <td>0.900885</td>\n",
       "      <td>1.470689</td>\n",
       "      <td>2.635039</td>\n",
       "      <td>1</td>\n",
       "      <td>3</td>\n",
       "      <td>5</td>\n",
       "      <td>10</td>\n",
       "    </tr>\n",
       "    <tr>\n",
       "      <th>set</th>\n",
       "      <td>0.634409</td>\n",
       "      <td>1.849462</td>\n",
       "      <td>2.892473</td>\n",
       "      <td>5.010753</td>\n",
       "      <td>0.484206</td>\n",
       "      <td>1.102825</td>\n",
       "      <td>1.741204</td>\n",
       "      <td>2.864682</td>\n",
       "      <td>1</td>\n",
       "      <td>3</td>\n",
       "      <td>5</td>\n",
       "      <td>10</td>\n",
       "    </tr>\n",
       "    <tr>\n",
       "      <th rowspan=\"2\" valign=\"top\">lshforest</th>\n",
       "      <th>bag</th>\n",
       "      <td>0.516129</td>\n",
       "      <td>1.215054</td>\n",
       "      <td>1.806452</td>\n",
       "      <td>3.010753</td>\n",
       "      <td>0.502448</td>\n",
       "      <td>1.159549</td>\n",
       "      <td>1.708407</td>\n",
       "      <td>2.803316</td>\n",
       "      <td>1</td>\n",
       "      <td>3</td>\n",
       "      <td>5</td>\n",
       "      <td>10</td>\n",
       "    </tr>\n",
       "    <tr>\n",
       "      <th>set</th>\n",
       "      <td>0.365591</td>\n",
       "      <td>0.967742</td>\n",
       "      <td>1.559140</td>\n",
       "      <td>2.494624</td>\n",
       "      <td>0.484206</td>\n",
       "      <td>1.087994</td>\n",
       "      <td>1.577439</td>\n",
       "      <td>2.429992</td>\n",
       "      <td>1</td>\n",
       "      <td>3</td>\n",
       "      <td>5</td>\n",
       "      <td>9</td>\n",
       "    </tr>\n",
       "  </tbody>\n",
       "</table>\n",
       "</div>"
      ],
      "text/plain": [
       "                         mean                                          std  \\\n",
       "               precision_at_p                               precision_at_p   \n",
       "p                          1         3         5         10             1    \n",
       "algorithm mode                                                               \n",
       "josie     bag        0.827957  2.333333  3.655914  6.763441       0.379463   \n",
       "          set        0.634409  1.849462  2.892473  5.010753       0.484206   \n",
       "lshforest bag        0.516129  1.215054  1.806452  3.010753       0.502448   \n",
       "          set        0.365591  0.967742  1.559140  2.494624       0.484206   \n",
       "\n",
       "                                                        max            \n",
       "                                             precision_at_p            \n",
       "p                     3         5         10             1  3  5   10  \n",
       "algorithm mode                                                         \n",
       "josie     bag   0.900885  1.470689  2.635039              1  3  5  10  \n",
       "          set   1.102825  1.741204  2.864682              1  3  5  10  \n",
       "lshforest bag   1.159549  1.708407  2.803316              1  3  5  10  \n",
       "          set   1.087994  1.577439  2.429992              1  3  5   9  "
      ]
     },
     "execution_count": 50,
     "metadata": {},
     "output_type": "execute_result"
    }
   ],
   "source": [
    "patp_pivot = pd.pivot_table(precision_at_p_results, values=['precision_at_p'], index=['algorithm', 'mode'], columns=['p'], aggfunc=['mean', 'std', 'max'])\n",
    "patp_pivot"
   ]
  },
  {
   "cell_type": "code",
   "execution_count": 51,
   "metadata": {
    "metadata": {}
   },
   "outputs": [
    {
     "data": {
      "image/png": "[encoded data removed]",
      "text/plain": [
       "<Figure size 640x480 with 1 Axes>"
      ]
     },
     "metadata": {},
     "output_type": "display_data"
    }
   ],
   "source": [
    "for row, label in zip(patp_pivot['mean', 'precision_at_p'].values, patp_pivot.index):\n",
    "    plt.plot([1, 3, 5, 10], row, 'o-', label=f'{label[0]}-{label[1]}')\n",
    "plt.xticks([1, 3, 5, 10], [1, 3, 5, 10])\n",
    "plt.xlabel('p')\n",
    "plt.ylabel('mean precision@p')\n",
    "\n",
    "plt.legend()\n",
    "plt.grid()"
   ]
  },
  {
   "cell_type": "code",
   "execution_count": 52,
   "metadata": {
    "metadata": {}
   },
   "outputs": [
    {
     "data": {
      "text/html": [
       "<div>\n",
       "<style scoped>\n",
       "    .dataframe tbody tr th:only-of-type {\n",
       "        vertical-align: middle;\n",
       "    }\n",
       "\n",
       "    .dataframe tbody tr th {\n",
       "        vertical-align: top;\n",
       "    }\n",
       "\n",
       "    .dataframe thead th {\n",
       "        text-align: right;\n",
       "    }\n",
       "</style>\n",
       "<table border=\"1\" class=\"dataframe\">\n",
       "  <thead>\n",
       "    <tr style=\"text-align: right;\">\n",
       "      <th></th>\n",
       "      <th>p</th>\n",
       "      <th>1</th>\n",
       "      <th>3</th>\n",
       "      <th>5</th>\n",
       "      <th>10</th>\n",
       "    </tr>\n",
       "    <tr>\n",
       "      <th>algorithm</th>\n",
       "      <th>mode</th>\n",
       "      <th></th>\n",
       "      <th></th>\n",
       "      <th></th>\n",
       "      <th></th>\n",
       "    </tr>\n",
       "  </thead>\n",
       "  <tbody>\n",
       "    <tr>\n",
       "      <th rowspan=\"2\" valign=\"top\">josie</th>\n",
       "      <th>bag</th>\n",
       "      <td>0.827957</td>\n",
       "      <td>0.777778</td>\n",
       "      <td>0.731183</td>\n",
       "      <td>0.676344</td>\n",
       "    </tr>\n",
       "    <tr>\n",
       "      <th>set</th>\n",
       "      <td>0.634409</td>\n",
       "      <td>0.616487</td>\n",
       "      <td>0.578495</td>\n",
       "      <td>0.501075</td>\n",
       "    </tr>\n",
       "    <tr>\n",
       "      <th rowspan=\"2\" valign=\"top\">lshforest</th>\n",
       "      <th>bag</th>\n",
       "      <td>0.516129</td>\n",
       "      <td>0.405018</td>\n",
       "      <td>0.361290</td>\n",
       "      <td>0.301075</td>\n",
       "    </tr>\n",
       "    <tr>\n",
       "      <th>set</th>\n",
       "      <td>0.365591</td>\n",
       "      <td>0.322581</td>\n",
       "      <td>0.311828</td>\n",
       "      <td>0.249462</td>\n",
       "    </tr>\n",
       "  </tbody>\n",
       "</table>\n",
       "</div>"
      ],
      "text/plain": [
       "p                     1         3         5         10\n",
       "algorithm mode                                        \n",
       "josie     bag   0.827957  0.777778  0.731183  0.676344\n",
       "          set   0.634409  0.616487  0.578495  0.501075\n",
       "lshforest bag   0.516129  0.405018  0.361290  0.301075\n",
       "          set   0.365591  0.322581  0.311828  0.249462"
      ]
     },
     "execution_count": 52,
     "metadata": {},
     "output_type": "execute_result"
    }
   ],
   "source": [
    "scaled_patp_pivot = patp_pivot['mean']['precision_at_p'] / np.array([1, 3, 5, 10])\n",
    "scaled_patp_pivot"
   ]
  },
  {
   "cell_type": "code",
   "execution_count": 53,
   "metadata": {
    "metadata": {}
   },
   "outputs": [
    {
     "data": {
      "image/png": "[encoded data removed]",
      "text/plain": [
       "<Figure size 640x480 with 1 Axes>"
      ]
     },
     "metadata": {},
     "output_type": "display_data"
    }
   ],
   "source": [
    "for row, label in zip(scaled_patk_pivot.values, patp_pivot.index):\n",
    "    plt.plot([1, 3, 5, 10], row, 'o-', label=f'{label[0]}-{label[1]}')\n",
    "plt.xticks([1, 3, 5, 10], [1, 3, 5, 10])\n",
    "plt.xlabel('p')\n",
    "plt.ylabel('mean precision@p normalised')\n",
    "\n",
    "plt.legend()\n",
    "plt.grid()"
   ]
  },
  {
   "cell_type": "code",
   "execution_count": 54,
   "metadata": {
    "metadata": {}
   },
   "outputs": [],
   "source": [
    "precision_at_p_results['precision_norm'] = precision_at_p_results['precision_at_p'] / precision_at_p_results['p']"
   ]
  },
  {
   "cell_type": "code",
   "execution_count": 56,
   "metadata": {
    "metadata": {}
   },
   "outputs": [
    {
     "data": {
      "text/plain": [
       "['tab:blue',\n",
       " 'tab:orange',\n",
       " 'tab:green',\n",
       " 'tab:red',\n",
       " 'tab:purple',\n",
       " 'tab:brown',\n",
       " 'tab:pink',\n",
       " 'tab:gray',\n",
       " 'tab:olive',\n",
       " 'tab:cyan']"
      ]
     },
     "execution_count": 56,
     "metadata": {},
     "output_type": "execute_result"
    }
   ],
   "source": [
    "import matplotlib.colors as mcolors\n",
    "list(mcolors.TABLEAU_COLORS)"
   ]
  },
  {
   "cell_type": "code",
   "execution_count": 65,
   "metadata": {
    "metadata": {}
   },
   "outputs": [
    {
     "data": {
      "image/png": "[encoded data removed]",
      "text/plain": [
       "<Figure size 1000x1000 with 4 Axes>"
      ]
     },
     "metadata": {},
     "output_type": "display_data"
    }
   ],
   "source": [
    "data = [(amp[0], amp[1], amp[2], group) for amp, group in precision_at_p_results.groupby(by=['algorithm', 'mode', 'p'])]\n",
    "\n",
    "fig, axes = plt.subplots(2, 2, figsize=(10, 10))\n",
    "for i, p in enumerate([1, 3, 5, 10]):\n",
    "    x = i % 4\n",
    "    x, y = x // 2, x % 2\n",
    "    labels = [f'{d[0]}\\n{d[1]}' for d in data if d[2] == p]\n",
    "    colors = list(mcolors.TABLEAU_COLORS)[:len(labels)]\n",
    "\n",
    "    bplot = axes[x][y].boxplot([d[3]['precision_norm'] for d in data if d[2] == p],\n",
    "                patch_artist=True,\n",
    "                labels=labels)\n",
    "    # axes[x][y].set_xticklabels(labels, rotation=45)\n",
    "    for patch, color in zip(bplot['boxes'], colors):\n",
    "        patch.set_facecolor(color)\n",
    "\n",
    "    axes[x][y].set_title(f'p = {p}')\n",
    "\n",
    "plt.show()"
   ]
  },
  {
   "cell_type": "markdown",
   "metadata": {},
   "source": [
    "## Normalized Discontinued Cumulative Gain - $nDCG@p$\n",
    "\n",
    "Search result lists vary in length depending on the query. Comparing a search engine's performance from one query to the next cannot be consistently achieved using DCG alone, so the cumulative gain at each position for a chosen value of $ p $ should be normalized across queries. This is done by sorting all relevant documents in the corpus by their relative relevance, producing the maximum possible DCG through position $p$, also called Ideal DCG (IDCG) through that position. For a query, the normalized discounted cumulative gain, or nDCG, is computed as: \n",
    "\n",
    "$ nDCG_{p} = {DCG_{p} \\over IDCG_{p}} $\n",
    "\n",
    "where $ IDCG_{p} $ is the ideal discounted cumulative gain,\n",
    "\n",
    "$ IDCG_{p} = \\sum_{i=1}^{|REL_{p}|} {2^{rel_{i}} - 1 \\over log_{2}(i + 1)}$\n",
    "\n",
    "where $ REL_{p} $ represents the list of relevant documents (ordered by their relevance) in the corpus up to position $p$"
   ]
  },
  {
   "cell_type": "code",
   "execution_count": null,
   "metadata": {
    "metadata": {}
   },
   "outputs": [],
   "source": [
    "from math import log2\n",
    "\n",
    "def ndcg_at_p(true_relevances, scores, p):\n",
    "    p = min(p, len(true_relevances), len(scores))\n",
    "    if p <= 0: # because computing nDCG is meaningful only if there is more than one document \n",
    "        return 0, 1\n",
    "    idcg = sum(rel / log2(i + 1) for i, rel in enumerate(true_relevances[:p], start=1))\n",
    "    dcg = sum(rel / log2(i + 1) for i, rel in enumerate(scores[:p], start=1))\n",
    "    if idcg < dcg:\n",
    "        raise ZeroDivisionError()\n",
    "\n",
    "    return dcg / idcg, p"
   ]
  },
  {
   "cell_type": "code",
   "execution_count": null,
   "metadata": {
    "metadata": {}
   },
   "outputs": [],
   "source": [
    "\n",
    "def worker_ndcg(query_id):\n",
    "    p = [1, 3, 5, 10]\n",
    "    ndcg_res = []\n",
    "    true_relevances = [x[1] for x in silver_standard[query_id]]\n",
    "    max_silver_standard = true_relevances[0]\n",
    "    for (algorithm, mode), data in results.groupby(by=['algorithm', 'mode']):\n",
    "        r = data[data['query_id'] == query_id][['result_id', 'sloth_overlap']]\n",
    "        result_relevances = [min(max_silver_standard, x[1]) for x in r.values.tolist()]\n",
    "        for _p in p:\n",
    "            try: ndcg, _actual_p = ndcg_at_p(true_relevances, result_relevances, _p)\n",
    "            except ZeroDivisionError: continue\n",
    "            ndcg_res.append([query_id, len(true_relevances), algorithm, mode, _p, _p - _actual_p, ndcg])\n",
    "    return ndcg_res\n",
    "\n",
    "work = list(silver_standard.keys())\n",
    "\n",
    "# same work list of precision@p\n",
    "with mp.Pool(num_cpu) as pool:\n",
    "    ndcg_results = pool.map(worker_ndcg, work, chunksize=len(work) // num_cpu)\n",
    "    ndcg_results = [x for qres in ndcg_results for x in qres]\n"
   ]
  },
  {
   "cell_type": "code",
   "execution_count": null,
   "metadata": {
    "metadata": {}
   },
   "outputs": [],
   "source": [
    "# res = get_nDCG_p(silver_standard, results, 1, 3, 5, 10)"
   ]
  },
  {
   "cell_type": "code",
   "execution_count": null,
   "metadata": {
    "metadata": {}
   },
   "outputs": [],
   "source": [
    "df = pd.DataFrame(ndcg_results, columns=['query_id', 'silver_standard_size', 'algorithm', 'mode', 'p', 'missing_p', 'ndcg_p'])"
   ]
  },
  {
   "cell_type": "code",
   "execution_count": null,
   "metadata": {
    "metadata": {}
   },
   "outputs": [],
   "source": [
    "silver_standard_size_threshold = 0\n",
    "df_thr = df[df['silver_standard_size'] >= silver_standard_size_threshold]"
   ]
  },
  {
   "cell_type": "code",
   "execution_count": null,
   "metadata": {
    "metadata": {}
   },
   "outputs": [],
   "source": [
    "ndcg_pivot = df_thr.pivot_table(index=['algorithm', 'mode'], columns=['p'], values=['ndcg_p', 'missing_p'], aggfunc=['mean', 'max']).convert_dtypes()\n",
    "ndcg_pivot"
   ]
  },
  {
   "cell_type": "code",
   "execution_count": null,
   "metadata": {
    "metadata": {}
   },
   "outputs": [],
   "source": [
    "ndcg_pivot = df_thr.pivot_table(index=['algorithm', 'mode'], columns=['p'], values=['ndcg_p'], aggfunc=['mean', 'max']).convert_dtypes()\n",
    "ndcg_pivot"
   ]
  },
  {
   "cell_type": "code",
   "execution_count": null,
   "metadata": {
    "metadata": {}
   },
   "outputs": [],
   "source": [
    "for row, label in zip(ndcg_pivot['mean', 'ndcg_p'].values, ndcg_pivot.index):\n",
    "    plt.plot([1, 3, 5, 10], row, 'o-', label=f'{label[0]}-{label[1]}')\n",
    "plt.xticks([1, 3, 5, 10], [1, 3, 5, 10])\n",
    "plt.xlabel(\"p\")\n",
    "plt.ylabel(\"mean nDCG@p\")\n",
    "\n",
    "plt.legend()\n",
    "plt.grid()"
   ]
  },
  {
   "cell_type": "code",
   "execution_count": null,
   "metadata": {
    "metadata": {}
   },
   "outputs": [],
   "source": [
    "data = [(am[0], am[1], group) for am, group in df.groupby(by=['algorithm', 'mode'])]\n",
    "labels = [f'{d[0]}-{d[1]}' for d in data]\n",
    "colors = [mcolors.TABLEAU_COLORS['tab:blue'], mcolors.TABLEAU_COLORS['tab:orange'], mcolors.TABLEAU_COLORS['tab:green'], mcolors.TABLEAU_COLORS['tab:red']]\n",
    "\n",
    "plt.figure(figsize=(10, 5))\n",
    "bplot = plt.boxplot([d[2]['ndcg_p'] for d in data],\n",
    "            patch_artist=True,\n",
    "            labels=labels)\n",
    "for patch, color in zip(bplot['boxes'], colors):\n",
    "    patch.set_facecolor(color)\n",
    "plt.legend()\n",
    "plt.show()"
   ]
  },
  {
   "cell_type": "markdown",
   "metadata": {},
   "source": [
    "## Analisi tempo"
   ]
  },
  {
   "cell_type": "code",
   "execution_count": null,
   "metadata": {
    "metadata": {}
   },
   "outputs": [],
   "source": [
    "import itertools\n",
    "\n",
    "x = [ \n",
    "    (\n",
    "        algorithm, mode, nsamples, \n",
    "        pd.read_csv(test_dir + f'/results/base/a{algorithm}_m{mode}_k10_q{nsamples}.csv')['duration'].sum(),  \n",
    "        pd.read_csv(test_dir + f'/results/base/a{algorithm}_m{mode}_k10_q{nsamples}.csv')['duration'].mean()\n",
    "    )\n",
    "    for algorithm, mode, nsamples in itertools.product(['josie', 'lshforest'], ['set', 'bag'], [\"1K\"])\n",
    "]\n",
    "\n",
    "t = pd.DataFrame(x, columns=['algorithm', 'mode', 'num query', 'top-K time total (s)', 'top-K time mean (s)'])\n",
    "t"
   ]
  },
  {
   "cell_type": "code",
   "execution_count": null,
   "metadata": {
    "metadata": {}
   },
   "outputs": [],
   "source": [
    "runtime_stat = pd.read_csv('/data4/nanni/tesi-magistrale/data/tests/a_test/wikipedia/statistics/runtime.csv')"
   ]
  },
  {
   "cell_type": "code",
   "execution_count": null,
   "metadata": {
    "metadata": {}
   },
   "outputs": [],
   "source": [
    "runtime_stat"
   ]
  },
  {
   "cell_type": "code",
   "execution_count": null,
   "metadata": {
    "metadata": {}
   },
   "outputs": [],
   "source": [
    "runtime_stat['time(s)'].sum() // 3600"
   ]
  }
 ],
 "metadata": {
  "kernelspec": {
   "display_name": "nanni-tesi-env",
   "language": "python",
   "name": "python3"
  },
  "language_info": {
   "codemirror_mode": {
    "name": "ipython",
    "version": 3
   },
   "file_extension": ".py",
   "mimetype": "text/x-python",
   "name": "python",
   "nbconvert_exporter": "python",
   "pygments_lexer": "ipython3",
   "version": "3.10.14"
  }
 },
 "nbformat": 4,
 "nbformat_minor": 2
}
