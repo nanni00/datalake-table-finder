{
 "cells": [
  {
   "cell_type": "code",
   "execution_count": 1,
   "metadata": {
    "metadata": {}
   },
   "outputs": [],
   "source": [
    "import os\n",
    "from collections import defaultdict\n",
    "import statistics\n",
    "\n",
    "import numpy as np\n",
    "import pandas as pd\n",
    "import matplotlib.pyplot as plt\n",
    "\n",
    "from tools.utils.settings import DefaultPath as defpath\n",
    "from tools.utils.utils import get_mongodb_collections"
   ]
  },
  {
   "cell_type": "code",
   "execution_count": 2,
   "metadata": {
    "metadata": {}
   },
   "outputs": [],
   "source": [
    "test_name = 'bigtest'"
   ]
  },
  {
   "cell_type": "code",
   "execution_count": 3,
   "metadata": {
    "metadata": {}
   },
   "outputs": [],
   "source": [
    "small = True\n",
    "mongoclient, collections = get_mongodb_collections(small)"
   ]
  },
  {
   "cell_type": "code",
   "execution_count": 4,
   "metadata": {
    "metadata": {}
   },
   "outputs": [],
   "source": [
    "test_dir = defpath.data_path.josie_tests + '/' + test_name\n",
    "results_dir = test_dir + '/results/extracted'\n",
    "images_tables_dir = test_dir + '/images_tables'"
   ]
  },
  {
   "cell_type": "code",
   "execution_count": 11,
   "metadata": {
    "metadata": {}
   },
   "outputs": [
    {
     "name": "stderr",
     "output_type": "stream",
     "text": [
      "/tmp/ipykernel_78260/57617968.py:30: FutureWarning: The behavior of DataFrame concatenation with empty or all-NA entries is deprecated. In a future version, this will no longer exclude empty or all-NA columns when determining the result dtypes. To retain the old behavior, exclude the relevant entries before the concat operation.\n",
      "  results = pd.concat([results, pd.read_csv(fname)])\n"
     ]
    }
   ],
   "source": [
    "p = 10\n",
    "algorithms = ['josie', 'lshforest']\n",
    "modes = ['set', 'bag']\n",
    "\n",
    "solvers = []\n",
    "columns=[\n",
    "    'query_id', \n",
    "    'result_id',\n",
    "    'algorithm',\n",
    "    'mode',\n",
    "    'query_size',\n",
    "    'max_table_overlap_size',\n",
    "    'rank', \n",
    "    'algorithm_overlap', \n",
    "    'sloth_overlap', \n",
    "    'difference_overlap',\n",
    "    'difference_overlap_norm'\n",
    "    ]\n",
    "\n",
    "results = pd.DataFrame(columns=columns)\n",
    "\n",
    "for algorithm in algorithms:\n",
    "    for mode in modes:\n",
    "        fname = f\"{results_dir}/a{algorithm}_m{mode}_k{p}_extracted.csv\"\n",
    "\n",
    "        if not os.path.exists(fname):\n",
    "            continue\n",
    "\n",
    "        solvers.append((algorithm, mode))\n",
    "        results = pd.concat([results, pd.read_csv(fname)])"
   ]
  },
  {
   "cell_type": "code",
   "execution_count": 12,
   "metadata": {
    "metadata": {}
   },
   "outputs": [
    {
     "data": {
      "text/html": [
       "<div>\n",
       "<style scoped>\n",
       "    .dataframe tbody tr th:only-of-type {\n",
       "        vertical-align: middle;\n",
       "    }\n",
       "\n",
       "    .dataframe tbody tr th {\n",
       "        vertical-align: top;\n",
       "    }\n",
       "\n",
       "    .dataframe thead th {\n",
       "        text-align: right;\n",
       "    }\n",
       "</style>\n",
       "<table border=\"1\" class=\"dataframe\">\n",
       "  <thead>\n",
       "    <tr style=\"text-align: right;\">\n",
       "      <th></th>\n",
       "      <th>query_id</th>\n",
       "      <th>result_id</th>\n",
       "      <th>algorithm</th>\n",
       "      <th>mode</th>\n",
       "      <th>query_size</th>\n",
       "      <th>max_table_overlap_size</th>\n",
       "      <th>rank</th>\n",
       "      <th>algorithm_overlap</th>\n",
       "      <th>sloth_overlap</th>\n",
       "      <th>difference_overlap</th>\n",
       "      <th>difference_overlap_norm</th>\n",
       "    </tr>\n",
       "  </thead>\n",
       "  <tbody>\n",
       "    <tr>\n",
       "      <th>0</th>\n",
       "      <td>670597</td>\n",
       "      <td>556697</td>\n",
       "      <td>josie</td>\n",
       "      <td>set</td>\n",
       "      <td>85</td>\n",
       "      <td>105</td>\n",
       "      <td>1</td>\n",
       "      <td>55</td>\n",
       "      <td>42</td>\n",
       "      <td>13</td>\n",
       "      <td>0.123810</td>\n",
       "    </tr>\n",
       "    <tr>\n",
       "      <th>1</th>\n",
       "      <td>670597</td>\n",
       "      <td>2266995</td>\n",
       "      <td>josie</td>\n",
       "      <td>set</td>\n",
       "      <td>85</td>\n",
       "      <td>105</td>\n",
       "      <td>2</td>\n",
       "      <td>10</td>\n",
       "      <td>6</td>\n",
       "      <td>4</td>\n",
       "      <td>0.038095</td>\n",
       "    </tr>\n",
       "    <tr>\n",
       "      <th>2</th>\n",
       "      <td>670597</td>\n",
       "      <td>1452573</td>\n",
       "      <td>josie</td>\n",
       "      <td>set</td>\n",
       "      <td>85</td>\n",
       "      <td>105</td>\n",
       "      <td>3</td>\n",
       "      <td>9</td>\n",
       "      <td>6</td>\n",
       "      <td>3</td>\n",
       "      <td>0.028571</td>\n",
       "    </tr>\n",
       "    <tr>\n",
       "      <th>3</th>\n",
       "      <td>670597</td>\n",
       "      <td>1948443</td>\n",
       "      <td>josie</td>\n",
       "      <td>set</td>\n",
       "      <td>85</td>\n",
       "      <td>105</td>\n",
       "      <td>4</td>\n",
       "      <td>9</td>\n",
       "      <td>6</td>\n",
       "      <td>3</td>\n",
       "      <td>0.028571</td>\n",
       "    </tr>\n",
       "    <tr>\n",
       "      <th>4</th>\n",
       "      <td>670597</td>\n",
       "      <td>1530968</td>\n",
       "      <td>josie</td>\n",
       "      <td>set</td>\n",
       "      <td>85</td>\n",
       "      <td>105</td>\n",
       "      <td>5</td>\n",
       "      <td>9</td>\n",
       "      <td>6</td>\n",
       "      <td>3</td>\n",
       "      <td>0.028571</td>\n",
       "    </tr>\n",
       "    <tr>\n",
       "      <th>...</th>\n",
       "      <td>...</td>\n",
       "      <td>...</td>\n",
       "      <td>...</td>\n",
       "      <td>...</td>\n",
       "      <td>...</td>\n",
       "      <td>...</td>\n",
       "      <td>...</td>\n",
       "      <td>...</td>\n",
       "      <td>...</td>\n",
       "      <td>...</td>\n",
       "      <td>...</td>\n",
       "    </tr>\n",
       "    <tr>\n",
       "      <th>1799</th>\n",
       "      <td>1557345</td>\n",
       "      <td>1418484</td>\n",
       "      <td>lshforest</td>\n",
       "      <td>bag</td>\n",
       "      <td>31</td>\n",
       "      <td>35</td>\n",
       "      <td>5</td>\n",
       "      <td>24</td>\n",
       "      <td>10</td>\n",
       "      <td>14</td>\n",
       "      <td>0.400000</td>\n",
       "    </tr>\n",
       "    <tr>\n",
       "      <th>1800</th>\n",
       "      <td>1557345</td>\n",
       "      <td>1405493</td>\n",
       "      <td>lshforest</td>\n",
       "      <td>bag</td>\n",
       "      <td>31</td>\n",
       "      <td>35</td>\n",
       "      <td>6</td>\n",
       "      <td>26</td>\n",
       "      <td>10</td>\n",
       "      <td>16</td>\n",
       "      <td>0.457143</td>\n",
       "    </tr>\n",
       "    <tr>\n",
       "      <th>1801</th>\n",
       "      <td>1557345</td>\n",
       "      <td>1475417</td>\n",
       "      <td>lshforest</td>\n",
       "      <td>bag</td>\n",
       "      <td>31</td>\n",
       "      <td>35</td>\n",
       "      <td>7</td>\n",
       "      <td>25</td>\n",
       "      <td>10</td>\n",
       "      <td>15</td>\n",
       "      <td>0.428571</td>\n",
       "    </tr>\n",
       "    <tr>\n",
       "      <th>1802</th>\n",
       "      <td>1557345</td>\n",
       "      <td>1475801</td>\n",
       "      <td>lshforest</td>\n",
       "      <td>bag</td>\n",
       "      <td>31</td>\n",
       "      <td>35</td>\n",
       "      <td>8</td>\n",
       "      <td>21</td>\n",
       "      <td>10</td>\n",
       "      <td>11</td>\n",
       "      <td>0.314286</td>\n",
       "    </tr>\n",
       "    <tr>\n",
       "      <th>1803</th>\n",
       "      <td>1557345</td>\n",
       "      <td>1586939</td>\n",
       "      <td>lshforest</td>\n",
       "      <td>bag</td>\n",
       "      <td>31</td>\n",
       "      <td>35</td>\n",
       "      <td>9</td>\n",
       "      <td>26</td>\n",
       "      <td>10</td>\n",
       "      <td>16</td>\n",
       "      <td>0.457143</td>\n",
       "    </tr>\n",
       "  </tbody>\n",
       "</table>\n",
       "<p>7619 rows × 11 columns</p>\n",
       "</div>"
      ],
      "text/plain": [
       "     query_id result_id  algorithm mode query_size max_table_overlap_size  \\\n",
       "0      670597    556697      josie  set         85                    105   \n",
       "1      670597   2266995      josie  set         85                    105   \n",
       "2      670597   1452573      josie  set         85                    105   \n",
       "3      670597   1948443      josie  set         85                    105   \n",
       "4      670597   1530968      josie  set         85                    105   \n",
       "...       ...       ...        ...  ...        ...                    ...   \n",
       "1799  1557345   1418484  lshforest  bag         31                     35   \n",
       "1800  1557345   1405493  lshforest  bag         31                     35   \n",
       "1801  1557345   1475417  lshforest  bag         31                     35   \n",
       "1802  1557345   1475801  lshforest  bag         31                     35   \n",
       "1803  1557345   1586939  lshforest  bag         31                     35   \n",
       "\n",
       "     rank algorithm_overlap sloth_overlap difference_overlap  \\\n",
       "0       1                55            42                 13   \n",
       "1       2                10             6                  4   \n",
       "2       3                 9             6                  3   \n",
       "3       4                 9             6                  3   \n",
       "4       5                 9             6                  3   \n",
       "...   ...               ...           ...                ...   \n",
       "1799    5                24            10                 14   \n",
       "1800    6                26            10                 16   \n",
       "1801    7                25            10                 15   \n",
       "1802    8                21            10                 11   \n",
       "1803    9                26            10                 16   \n",
       "\n",
       "      difference_overlap_norm  \n",
       "0                    0.123810  \n",
       "1                    0.038095  \n",
       "2                    0.028571  \n",
       "3                    0.028571  \n",
       "4                    0.028571  \n",
       "...                       ...  \n",
       "1799                 0.400000  \n",
       "1800                 0.457143  \n",
       "1801                 0.428571  \n",
       "1802                 0.314286  \n",
       "1803                 0.457143  \n",
       "\n",
       "[7619 rows x 11 columns]"
      ]
     },
     "execution_count": 12,
     "metadata": {},
     "output_type": "execute_result"
    }
   ],
   "source": [
    "results"
   ]
  },
  {
   "cell_type": "markdown",
   "metadata": {},
   "source": [
    "## Quanto sono validi i vari metodi? - Tasso di nullità"
   ]
  },
  {
   "cell_type": "markdown",
   "metadata": {},
   "source": [
    "We define the Nullity Ratio the ratio for each query of retrivied IDs which actually have an overlap over a certain thresholds and the retrivied set size "
   ]
  },
  {
   "cell_type": "code",
   "execution_count": 13,
   "metadata": {
    "metadata": {}
   },
   "outputs": [
    {
     "data": {
      "text/html": [
       "<div>\n",
       "<style scoped>\n",
       "    .dataframe tbody tr th:only-of-type {\n",
       "        vertical-align: middle;\n",
       "    }\n",
       "\n",
       "    .dataframe tbody tr th {\n",
       "        vertical-align: top;\n",
       "    }\n",
       "\n",
       "    .dataframe thead tr th {\n",
       "        text-align: left;\n",
       "    }\n",
       "\n",
       "    .dataframe thead tr:last-of-type th {\n",
       "        text-align: right;\n",
       "    }\n",
       "</style>\n",
       "<table border=\"1\" class=\"dataframe\">\n",
       "  <thead>\n",
       "    <tr>\n",
       "      <th></th>\n",
       "      <th></th>\n",
       "      <th>mean</th>\n",
       "      <th>std</th>\n",
       "      <th>min</th>\n",
       "      <th>max</th>\n",
       "    </tr>\n",
       "    <tr>\n",
       "      <th></th>\n",
       "      <th></th>\n",
       "      <th>zero_overlap_ratio</th>\n",
       "      <th>zero_overlap_ratio</th>\n",
       "      <th>zero_overlap_ratio</th>\n",
       "      <th>zero_overlap_ratio</th>\n",
       "    </tr>\n",
       "    <tr>\n",
       "      <th>algorithm</th>\n",
       "      <th>mode</th>\n",
       "      <th></th>\n",
       "      <th></th>\n",
       "      <th></th>\n",
       "      <th></th>\n",
       "    </tr>\n",
       "  </thead>\n",
       "  <tbody>\n",
       "    <tr>\n",
       "      <th rowspan=\"2\" valign=\"top\">josie</th>\n",
       "      <th>bag</th>\n",
       "      <td>0.000000</td>\n",
       "      <td>0.000000</td>\n",
       "      <td>0.0</td>\n",
       "      <td>0.000000</td>\n",
       "    </tr>\n",
       "    <tr>\n",
       "      <th>set</th>\n",
       "      <td>0.000000</td>\n",
       "      <td>0.000000</td>\n",
       "      <td>0.0</td>\n",
       "      <td>0.000000</td>\n",
       "    </tr>\n",
       "    <tr>\n",
       "      <th rowspan=\"2\" valign=\"top\">lshforest</th>\n",
       "      <th>bag</th>\n",
       "      <td>0.001710</td>\n",
       "      <td>0.014023</td>\n",
       "      <td>0.0</td>\n",
       "      <td>0.125000</td>\n",
       "    </tr>\n",
       "    <tr>\n",
       "      <th>set</th>\n",
       "      <td>0.007701</td>\n",
       "      <td>0.061225</td>\n",
       "      <td>0.0</td>\n",
       "      <td>0.666667</td>\n",
       "    </tr>\n",
       "  </tbody>\n",
       "</table>\n",
       "</div>"
      ],
      "text/plain": [
       "                             mean                std                min  \\\n",
       "               zero_overlap_ratio zero_overlap_ratio zero_overlap_ratio   \n",
       "algorithm mode                                                            \n",
       "josie     bag            0.000000           0.000000                0.0   \n",
       "          set            0.000000           0.000000                0.0   \n",
       "lshforest bag            0.001710           0.014023                0.0   \n",
       "          set            0.007701           0.061225                0.0   \n",
       "\n",
       "                              max  \n",
       "               zero_overlap_ratio  \n",
       "algorithm mode                     \n",
       "josie     bag            0.000000  \n",
       "          set            0.000000  \n",
       "lshforest bag            0.125000  \n",
       "          set            0.666667  "
      ]
     },
     "execution_count": 13,
     "metadata": {},
     "output_type": "execute_result"
    }
   ],
   "source": [
    "nullity_threshold = 0   # if the actual overlap between two tables isprint(next(resgroup)) under this threshold, the result is considered bad\n",
    "\n",
    "x = []\n",
    "for am, am_group in results.groupby(by=[\"algorithm\", \"mode\"]):\n",
    "    for query_id, q_group in am_group.groupby(by=[\"query_id\"]):\n",
    "        cnt = ((q_group['sloth_overlap'] <= nullity_threshold) & (q_group['difference_overlap'] <= nullity_threshold)).sum()\n",
    "        num_query_results = q_group.count().values.tolist()[0]\n",
    "        x.append([am[0], am[1], query_id[0], num_query_results, cnt, cnt / num_query_results])\n",
    "\n",
    "x = pd.DataFrame(x, columns=['algorithm', 'mode', 'query_id', 'query_size', 'zero_overlap_cnt', 'zero_overlap_ratio'])\n",
    "\n",
    "null_ratio_pivot = pd.pivot_table(x, values=['zero_overlap_ratio'], index=['algorithm', 'mode'], aggfunc=['mean', 'std', 'min', 'max'])\n",
    "null_ratio_pivot"
   ]
  },
  {
   "cell_type": "markdown",
   "metadata": {},
   "source": [
    "## Algorithm vs True Overlap"
   ]
  },
  {
   "cell_type": "code",
   "execution_count": 25,
   "metadata": {
    "metadata": {}
   },
   "outputs": [],
   "source": [
    "data = [(am[0], am[1], group[(group['sloth_overlap'] != 0) & (group['difference_overlap'] != 0)]) for am, group in results.groupby(by=['algorithm', 'mode'])]"
   ]
  },
  {
   "cell_type": "code",
   "execution_count": 28,
   "metadata": {
    "metadata": {}
   },
   "outputs": [
    {
     "data": {
      "image/png": "[encoded data removed]",
      "text/plain": [
       "<Figure size 1500x500 with 1 Axes>"
      ]
     },
     "metadata": {},
     "output_type": "display_data"
    }
   ],
   "source": [
    "fig, ax = plt.subplots(1, 1, sharey='row', figsize=(15, 5))\n",
    "xmin, xmax, step = -200, 300, 10\n",
    "\n",
    "ax.hist([d[2]['difference_overlap'] for d in data], \n",
    "         bins=np.arange(xmin, xmax, step), alpha=0.8, \n",
    "         label=[f'{a}-{m}' for a, m, _ in data],\n",
    "         align='mid')\n",
    "ax.set_xlim(xmin, xmax)\n",
    "ax.set_xticks(np.arange(xmin, xmax, step))\n",
    "ax.set_yscale('log')\n",
    "ax.tick_params(axis='x', rotation=45)\n",
    "ax.grid()\n",
    "ax.set_xlabel('ALGORITHM overlap - SLOTH overlap')\n",
    "ax.set_ylabel('frequency')\n",
    "\n",
    "plt.legend()\n",
    "plt.show()"
   ]
  },
  {
   "cell_type": "code",
   "execution_count": 46,
   "metadata": {
    "metadata": {}
   },
   "outputs": [],
   "source": [
    "results['boh'] = results['algorithm_overlap'] / (results['sloth_overlap'] + 1)"
   ]
  },
  {
   "cell_type": "code",
   "execution_count": 47,
   "metadata": {
    "metadata": {}
   },
   "outputs": [],
   "source": [
    "data = [(am[0], am[1], group[(group['sloth_overlap'] != 0) & (group['difference_overlap'] != 0)]) for am, group in results.groupby(by=['algorithm', 'mode'])]"
   ]
  },
  {
   "cell_type": "code",
   "execution_count": 52,
   "metadata": {
    "metadata": {}
   },
   "outputs": [
    {
     "data": {
      "image/png": "[encoded data removed]",
      "text/plain": [
       "<Figure size 1500x500 with 1 Axes>"
      ]
     },
     "metadata": {},
     "output_type": "display_data"
    }
   ],
   "source": [
    "fig, ax = plt.subplots(1, 1, sharey='row', figsize=(15, 5))\n",
    "xmin, xmax, step = 0, 9.6, 0.2\n",
    "\n",
    "ax.hist([d[2]['boh'] for d in data], \n",
    "         bins=np.arange(xmin, xmax, step), alpha=0.8, \n",
    "         label=[f'{a}-{m}' for a, m, _ in data],\n",
    "         align='mid')\n",
    "ax.set_xlim(xmin, xmax)\n",
    "ax.set_xticks(np.arange(xmin, xmax, step))\n",
    "ax.grid()\n",
    "ax.set_xlabel('ALGORITHM_overlap / (SLOTH_overlap + 1)')\n",
    "ax.set_ylabel('frequency')\n",
    "ax.set_yscale('log')\n",
    "ax.tick_params(axis='x', rotation=45)\n",
    "plt.legend()\n",
    "plt.show()"
   ]
  },
  {
   "cell_type": "markdown",
   "metadata": {},
   "source": [
    "## Creating Silver Standard"
   ]
  },
  {
   "cell_type": "code",
   "execution_count": 29,
   "metadata": {
    "metadata": {}
   },
   "outputs": [],
   "source": [
    "silver_standard = defaultdict(set)\n",
    "\n",
    "results_ids = results.convert_dtypes().groupby(by='query_id')[['result_id', 'sloth_overlap']]\n",
    "\n",
    "for query_id, ids_overlaps in results_ids:\n",
    "    for i in ids_overlaps.values:\n",
    "        _id, _overlap = i\n",
    "        silver_standard[query_id].add((_id, _overlap))\n",
    "\n",
    "for query_id in silver_standard.keys():\n",
    "    silver_standard[query_id] = sorted(list(silver_standard[query_id]), key=lambda x: x[1], reverse=True)"
   ]
  },
  {
   "cell_type": "markdown",
   "metadata": {},
   "source": [
    "## Precision at p - $P@p$\n",
    "Corresponds to the number of relevant results among the top $p$ retrieved documents. Fails to take into account the positions of the relevant documents among the top $p$.Another shortcoming is that on a query with fewer relevant results than $p$, even a perfect system will have a score less than 1.\n"
   ]
  },
  {
   "cell_type": "code",
   "execution_count": 30,
   "metadata": {
    "metadata": {}
   },
   "outputs": [],
   "source": [
    "k_precisions = [1, 3, 5, 10]\n",
    "\n",
    "precision_at_k_results = []\n",
    "\n",
    "for query_id in silver_standard.keys():\n",
    "    qss = [x[1] for x in silver_standard[query_id]]\n",
    "    avg_overlap = round(statistics.mean(qss), 3)\n",
    "    stdev_overlap = round(statistics.stdev(qss))\n",
    "\n",
    "    for (algorithm, mode), data in results.groupby(by=[\"algorithm\", \"mode\"]):\n",
    "        ids = data[data['query_id'] == query_id]['result_id'].values.tolist()\n",
    "        for k_precision in k_precisions:\n",
    "            real_topk = [x[0] for x in silver_standard[query_id][:k_precision]]\n",
    "            precision_at_k = set(real_topk).intersection(ids)\n",
    "            \n",
    "            precision_at_k_results.append([query_id, len(qss), avg_overlap, stdev_overlap, algorithm, mode, k_precision, len(precision_at_k)])\n",
    "\n",
    "columns = [\n",
    "    'query_id',\n",
    "    'silver_std_size',\n",
    "    'silver_std_ov_mean',\n",
    "    'silver_std_ov_stdev',\n",
    "    'algorithm',\n",
    "    'mode',\n",
    "    'k',\n",
    "    'precision_at_k'\n",
    "]\n",
    "\n",
    "precision_at_k_results = pd.DataFrame(precision_at_k_results, columns=columns)\n",
    "precision_at_k = precision_at_k_results.sort_values(by=['silver_std_size', 'query_id'], ascending=False)\n",
    "# precision_at_k"
   ]
  },
  {
   "cell_type": "code",
   "execution_count": 31,
   "metadata": {
    "metadata": {}
   },
   "outputs": [
    {
     "data": {
      "text/html": [
       "<div>\n",
       "<style scoped>\n",
       "    .dataframe tbody tr th:only-of-type {\n",
       "        vertical-align: middle;\n",
       "    }\n",
       "\n",
       "    .dataframe tbody tr th {\n",
       "        vertical-align: top;\n",
       "    }\n",
       "\n",
       "    .dataframe thead tr th {\n",
       "        text-align: left;\n",
       "    }\n",
       "\n",
       "    .dataframe thead tr:last-of-type th {\n",
       "        text-align: right;\n",
       "    }\n",
       "</style>\n",
       "<table border=\"1\" class=\"dataframe\">\n",
       "  <thead>\n",
       "    <tr>\n",
       "      <th></th>\n",
       "      <th></th>\n",
       "      <th colspan=\"4\" halign=\"left\">mean</th>\n",
       "      <th colspan=\"4\" halign=\"left\">std</th>\n",
       "      <th colspan=\"4\" halign=\"left\">max</th>\n",
       "    </tr>\n",
       "    <tr>\n",
       "      <th></th>\n",
       "      <th></th>\n",
       "      <th colspan=\"4\" halign=\"left\">precision_at_k</th>\n",
       "      <th colspan=\"4\" halign=\"left\">precision_at_k</th>\n",
       "      <th colspan=\"4\" halign=\"left\">precision_at_k</th>\n",
       "    </tr>\n",
       "    <tr>\n",
       "      <th></th>\n",
       "      <th>k</th>\n",
       "      <th>1</th>\n",
       "      <th>3</th>\n",
       "      <th>5</th>\n",
       "      <th>10</th>\n",
       "      <th>1</th>\n",
       "      <th>3</th>\n",
       "      <th>5</th>\n",
       "      <th>10</th>\n",
       "      <th>1</th>\n",
       "      <th>3</th>\n",
       "      <th>5</th>\n",
       "      <th>10</th>\n",
       "    </tr>\n",
       "    <tr>\n",
       "      <th>algorithm</th>\n",
       "      <th>mode</th>\n",
       "      <th></th>\n",
       "      <th></th>\n",
       "      <th></th>\n",
       "      <th></th>\n",
       "      <th></th>\n",
       "      <th></th>\n",
       "      <th></th>\n",
       "      <th></th>\n",
       "      <th></th>\n",
       "      <th></th>\n",
       "      <th></th>\n",
       "      <th></th>\n",
       "    </tr>\n",
       "  </thead>\n",
       "  <tbody>\n",
       "    <tr>\n",
       "      <th rowspan=\"2\" valign=\"top\">josie</th>\n",
       "      <th>bag</th>\n",
       "      <td>0.965517</td>\n",
       "      <td>2.738916</td>\n",
       "      <td>4.349754</td>\n",
       "      <td>7.655172</td>\n",
       "      <td>0.182917</td>\n",
       "      <td>0.559183</td>\n",
       "      <td>0.980421</td>\n",
       "      <td>1.864018</td>\n",
       "      <td>1</td>\n",
       "      <td>3</td>\n",
       "      <td>5</td>\n",
       "      <td>10</td>\n",
       "    </tr>\n",
       "    <tr>\n",
       "      <th>set</th>\n",
       "      <td>0.798030</td>\n",
       "      <td>2.068966</td>\n",
       "      <td>3.177340</td>\n",
       "      <td>5.753695</td>\n",
       "      <td>0.402463</td>\n",
       "      <td>1.031759</td>\n",
       "      <td>1.597671</td>\n",
       "      <td>2.726551</td>\n",
       "      <td>1</td>\n",
       "      <td>3</td>\n",
       "      <td>5</td>\n",
       "      <td>10</td>\n",
       "    </tr>\n",
       "    <tr>\n",
       "      <th rowspan=\"2\" valign=\"top\">lshforest</th>\n",
       "      <th>bag</th>\n",
       "      <td>0.536946</td>\n",
       "      <td>1.103448</td>\n",
       "      <td>1.600985</td>\n",
       "      <td>2.817734</td>\n",
       "      <td>0.499866</td>\n",
       "      <td>1.026451</td>\n",
       "      <td>1.429325</td>\n",
       "      <td>2.136732</td>\n",
       "      <td>1</td>\n",
       "      <td>3</td>\n",
       "      <td>5</td>\n",
       "      <td>9</td>\n",
       "    </tr>\n",
       "    <tr>\n",
       "      <th>set</th>\n",
       "      <td>0.482759</td>\n",
       "      <td>0.960591</td>\n",
       "      <td>1.344828</td>\n",
       "      <td>2.147783</td>\n",
       "      <td>0.500938</td>\n",
       "      <td>0.953588</td>\n",
       "      <td>1.374920</td>\n",
       "      <td>2.098522</td>\n",
       "      <td>1</td>\n",
       "      <td>3</td>\n",
       "      <td>5</td>\n",
       "      <td>9</td>\n",
       "    </tr>\n",
       "  </tbody>\n",
       "</table>\n",
       "</div>"
      ],
      "text/plain": [
       "                         mean                                          std  \\\n",
       "               precision_at_k                               precision_at_k   \n",
       "k                          1         3         5         10             1    \n",
       "algorithm mode                                                               \n",
       "josie     bag        0.965517  2.738916  4.349754  7.655172       0.182917   \n",
       "          set        0.798030  2.068966  3.177340  5.753695       0.402463   \n",
       "lshforest bag        0.536946  1.103448  1.600985  2.817734       0.499866   \n",
       "          set        0.482759  0.960591  1.344828  2.147783       0.500938   \n",
       "\n",
       "                                                        max            \n",
       "                                             precision_at_k            \n",
       "k                     3         5         10             1  3  5   10  \n",
       "algorithm mode                                                         \n",
       "josie     bag   0.559183  0.980421  1.864018              1  3  5  10  \n",
       "          set   1.031759  1.597671  2.726551              1  3  5  10  \n",
       "lshforest bag   1.026451  1.429325  2.136732              1  3  5   9  \n",
       "          set   0.953588  1.374920  2.098522              1  3  5   9  "
      ]
     },
     "execution_count": 31,
     "metadata": {},
     "output_type": "execute_result"
    }
   ],
   "source": [
    "patk_pivot = pd.pivot_table(precision_at_k, values=['precision_at_k'], index=['algorithm', 'mode'], columns=['k'], aggfunc=['mean', 'std', 'max'])\n",
    "patk_pivot"
   ]
  },
  {
   "cell_type": "code",
   "execution_count": null,
   "metadata": {
    "metadata": {}
   },
   "outputs": [],
   "source": [
    "for x in patk_pivot.index:\n",
    "    print(x)"
   ]
  },
  {
   "cell_type": "code",
   "execution_count": 44,
   "metadata": {
    "metadata": {}
   },
   "outputs": [
    {
     "data": {
      "image/png": "[encoded data removed]",
      "text/plain": [
       "<Figure size 640x480 with 1 Axes>"
      ]
     },
     "metadata": {},
     "output_type": "display_data"
    }
   ],
   "source": [
    "for row, label in zip(patk_pivot['mean', 'precision_at_k'].values, patk_pivot.index):\n",
    "    plt.plot([1, 3, 5, 10], row, 'o-', label=f'{label[0]}-{label[1]}')\n",
    "plt.xticks([1, 3, 5, 10], [1, 3, 5, 10])\n",
    "plt.xlabel('p')\n",
    "plt.ylabel('mean precision@p')\n",
    "plt.legend()\n",
    "plt.grid()"
   ]
  },
  {
   "cell_type": "markdown",
   "metadata": {},
   "source": [
    "## Normalized Discontinued Cumulative Gain - $nDCG@p$\n",
    "\n",
    "Search result lists vary in length depending on the query. Comparing a search engine's performance from one query to the next cannot be consistently achieved using DCG alone, so the cumulative gain at each position for a chosen value of $ p $ should be normalized across queries. This is done by sorting all relevant documents in the corpus by their relative relevance, producing the maximum possible DCG through position $p$, also called Ideal DCG (IDCG) through that position. For a query, the normalized discounted cumulative gain, or nDCG, is computed as: \n",
    "\n",
    "$ nDCG_{p} = {DCG_{p} \\over IDCG_{p}} $\n",
    "\n",
    "where $ IDCG_{p} $ is the ideal discounted cumulative gain,\n",
    "\n",
    "$ IDCG_{p} = \\sum_{i=1}^{|REL_{p}|} {2^{rel_{i}} - 1 \\over log_{2}(i + 1)}$\n",
    "\n",
    "where $ REL_{p} $ represents the list of relevant documents (ordered by their relevance) in the corpus up to position $p$"
   ]
  },
  {
   "cell_type": "code",
   "execution_count": 36,
   "metadata": {
    "metadata": {}
   },
   "outputs": [],
   "source": [
    "from math import log2\n",
    "\n",
    "def ndcg_at_p(true_relevances, scores, p):\n",
    "    p = min(p, len(true_relevances), len(scores))\n",
    "    if p <= 0: # because computing nDCG is meaningful only if there is more than one document \n",
    "        return 0, 1\n",
    "    idcg = sum(rel / log2(i + 1) for i, rel in enumerate(true_relevances[:p], start=1))\n",
    "    dcg = sum(rel / log2(i + 1) for i, rel in enumerate(scores[:p], start=1))\n",
    "    if idcg < dcg:\n",
    "        raise Exception()\n",
    "\n",
    "    return dcg / idcg, p "
   ]
  },
  {
   "cell_type": "code",
   "execution_count": 37,
   "metadata": {
    "metadata": {}
   },
   "outputs": [],
   "source": [
    "def get_nDCG_p(silver_standard:defaultdict[int:list[tuple[int,int]]], results:pd.DataFrame, *p):\n",
    "    \"\"\" p values are assumed positive \"\"\"\n",
    "    ndcg_res = []\n",
    "    for query_id in silver_standard:\n",
    "        true_relevances = [x[1] for x in silver_standard[query_id]]\n",
    "        max_silver_standard = true_relevances[0]\n",
    "\n",
    "        for (algorithm, mode), data in results.groupby(by=['algorithm', 'mode']):\n",
    "            r = data[data['query_id'] == query_id][['result_id', 'sloth_overlap']]\n",
    "            result_relevances = [min(max_silver_standard, x[1]) for x in r.values.tolist()]\n",
    "            for _p in p:\n",
    "                ndcg, _actual_p = ndcg_at_p(true_relevances, result_relevances, _p)\n",
    "                if query_id == 29938 and algorithm == 'josie' and mode == 'bag':\n",
    "                    print(ndcg, _p, true_relevances[:_p], result_relevances[:_p])\n",
    "                ndcg_res.append([query_id, len(true_relevances), algorithm, mode, _p, _p - _actual_p, ndcg])\n",
    "    return ndcg_res"
   ]
  },
  {
   "cell_type": "code",
   "execution_count": 38,
   "metadata": {
    "metadata": {}
   },
   "outputs": [
    {
     "name": "stdout",
     "output_type": "stream",
     "text": [
      "1.0 1 [36] [36]\n",
      "1.0 3 [36, 30, 30] [36, 30, 30]\n",
      "1.0 5 [36, 30, 30, 29, 29] [36, 30, 30, 29, 29]\n",
      "1.0 10 [36, 30, 30, 29, 29, 29, 29, 29, 28, 28] [36, 30, 30, 29, 29, 29, 29, 29, 28, 28]\n"
     ]
    }
   ],
   "source": [
    "res = get_nDCG_p(silver_standard, results, 1, 3, 5, 10)"
   ]
  },
  {
   "cell_type": "code",
   "execution_count": 39,
   "metadata": {
    "metadata": {}
   },
   "outputs": [],
   "source": [
    "df = pd.DataFrame(res, columns=['query_id', 'silver_standard_size', 'algorithm', 'mode', 'p', 'missing_p', 'ndcg_p'])"
   ]
  },
  {
   "cell_type": "code",
   "execution_count": 40,
   "metadata": {
    "metadata": {}
   },
   "outputs": [],
   "source": [
    "silver_standard_size_threshold = 20\n",
    "df = df[df['silver_standard_size'] >= silver_standard_size_threshold]"
   ]
  },
  {
   "cell_type": "code",
   "execution_count": 41,
   "metadata": {
    "metadata": {}
   },
   "outputs": [
    {
     "data": {
      "text/html": [
       "<div>\n",
       "<style scoped>\n",
       "    .dataframe tbody tr th:only-of-type {\n",
       "        vertical-align: middle;\n",
       "    }\n",
       "\n",
       "    .dataframe tbody tr th {\n",
       "        vertical-align: top;\n",
       "    }\n",
       "\n",
       "    .dataframe thead tr th {\n",
       "        text-align: left;\n",
       "    }\n",
       "\n",
       "    .dataframe thead tr:last-of-type th {\n",
       "        text-align: right;\n",
       "    }\n",
       "</style>\n",
       "<table border=\"1\" class=\"dataframe\">\n",
       "  <thead>\n",
       "    <tr>\n",
       "      <th></th>\n",
       "      <th></th>\n",
       "      <th colspan=\"8\" halign=\"left\">mean</th>\n",
       "      <th colspan=\"8\" halign=\"left\">max</th>\n",
       "    </tr>\n",
       "    <tr>\n",
       "      <th></th>\n",
       "      <th></th>\n",
       "      <th colspan=\"4\" halign=\"left\">missing_p</th>\n",
       "      <th colspan=\"4\" halign=\"left\">ndcg_p</th>\n",
       "      <th colspan=\"4\" halign=\"left\">missing_p</th>\n",
       "      <th colspan=\"4\" halign=\"left\">ndcg_p</th>\n",
       "    </tr>\n",
       "    <tr>\n",
       "      <th></th>\n",
       "      <th>p</th>\n",
       "      <th>1</th>\n",
       "      <th>3</th>\n",
       "      <th>5</th>\n",
       "      <th>10</th>\n",
       "      <th>1</th>\n",
       "      <th>3</th>\n",
       "      <th>5</th>\n",
       "      <th>10</th>\n",
       "      <th>1</th>\n",
       "      <th>3</th>\n",
       "      <th>5</th>\n",
       "      <th>10</th>\n",
       "      <th>1</th>\n",
       "      <th>3</th>\n",
       "      <th>5</th>\n",
       "      <th>10</th>\n",
       "    </tr>\n",
       "    <tr>\n",
       "      <th>algorithm</th>\n",
       "      <th>mode</th>\n",
       "      <th></th>\n",
       "      <th></th>\n",
       "      <th></th>\n",
       "      <th></th>\n",
       "      <th></th>\n",
       "      <th></th>\n",
       "      <th></th>\n",
       "      <th></th>\n",
       "      <th></th>\n",
       "      <th></th>\n",
       "      <th></th>\n",
       "      <th></th>\n",
       "      <th></th>\n",
       "      <th></th>\n",
       "      <th></th>\n",
       "      <th></th>\n",
       "    </tr>\n",
       "  </thead>\n",
       "  <tbody>\n",
       "    <tr>\n",
       "      <th rowspan=\"2\" valign=\"top\">josie</th>\n",
       "      <th>bag</th>\n",
       "      <td>0</td>\n",
       "      <td>0.0</td>\n",
       "      <td>0.0</td>\n",
       "      <td>0.0</td>\n",
       "      <td>0.947038</td>\n",
       "      <td>0.95595</td>\n",
       "      <td>0.957503</td>\n",
       "      <td>0.966814</td>\n",
       "      <td>0</td>\n",
       "      <td>0</td>\n",
       "      <td>0</td>\n",
       "      <td>0</td>\n",
       "      <td>1</td>\n",
       "      <td>1</td>\n",
       "      <td>1</td>\n",
       "      <td>1</td>\n",
       "    </tr>\n",
       "    <tr>\n",
       "      <th>set</th>\n",
       "      <td>0</td>\n",
       "      <td>0.0</td>\n",
       "      <td>0.0</td>\n",
       "      <td>0.0</td>\n",
       "      <td>0.912608</td>\n",
       "      <td>0.891245</td>\n",
       "      <td>0.885061</td>\n",
       "      <td>0.879332</td>\n",
       "      <td>0</td>\n",
       "      <td>0</td>\n",
       "      <td>0</td>\n",
       "      <td>0</td>\n",
       "      <td>1</td>\n",
       "      <td>1</td>\n",
       "      <td>1</td>\n",
       "      <td>1</td>\n",
       "    </tr>\n",
       "    <tr>\n",
       "      <th rowspan=\"2\" valign=\"top\">lshforest</th>\n",
       "      <th>bag</th>\n",
       "      <td>0</td>\n",
       "      <td>0.0</td>\n",
       "      <td>0.005525</td>\n",
       "      <td>1.049724</td>\n",
       "      <td>0.459255</td>\n",
       "      <td>0.516847</td>\n",
       "      <td>0.540462</td>\n",
       "      <td>0.592615</td>\n",
       "      <td>0</td>\n",
       "      <td>0</td>\n",
       "      <td>1</td>\n",
       "      <td>6</td>\n",
       "      <td>1</td>\n",
       "      <td>1</td>\n",
       "      <td>1</td>\n",
       "      <td>1</td>\n",
       "    </tr>\n",
       "    <tr>\n",
       "      <th>set</th>\n",
       "      <td>0</td>\n",
       "      <td>0.033149</td>\n",
       "      <td>0.116022</td>\n",
       "      <td>1.314917</td>\n",
       "      <td>0.413987</td>\n",
       "      <td>0.446782</td>\n",
       "      <td>0.467481</td>\n",
       "      <td>0.498379</td>\n",
       "      <td>0</td>\n",
       "      <td>2</td>\n",
       "      <td>4</td>\n",
       "      <td>9</td>\n",
       "      <td>1</td>\n",
       "      <td>1</td>\n",
       "      <td>1</td>\n",
       "      <td>1</td>\n",
       "    </tr>\n",
       "  </tbody>\n",
       "</table>\n",
       "</div>"
      ],
      "text/plain": [
       "                    mean                                                    \\\n",
       "               missing_p                                  ndcg_p             \n",
       "p                     1         3         5         10        1         3    \n",
       "algorithm mode                                                               \n",
       "josie     bag          0       0.0       0.0       0.0  0.947038   0.95595   \n",
       "          set          0       0.0       0.0       0.0  0.912608  0.891245   \n",
       "lshforest bag          0       0.0  0.005525  1.049724  0.459255  0.516847   \n",
       "          set          0  0.033149  0.116022  1.314917  0.413987  0.446782   \n",
       "\n",
       "                                         max                           \n",
       "                                   missing_p          ndcg_p           \n",
       "p                     5         10        1  3  5  10     1  3  5  10  \n",
       "algorithm mode                                                         \n",
       "josie     bag   0.957503  0.966814         0  0  0  0      1  1  1  1  \n",
       "          set   0.885061  0.879332         0  0  0  0      1  1  1  1  \n",
       "lshforest bag   0.540462  0.592615         0  0  1  6      1  1  1  1  \n",
       "          set   0.467481  0.498379         0  2  4  9      1  1  1  1  "
      ]
     },
     "execution_count": 41,
     "metadata": {},
     "output_type": "execute_result"
    }
   ],
   "source": [
    "ndcg_pivot = df.pivot_table(index=['algorithm', 'mode'], columns=['p'], values=['ndcg_p', 'missing_p'], aggfunc=['mean', 'max']).convert_dtypes()\n",
    "ndcg_pivot"
   ]
  },
  {
   "cell_type": "code",
   "execution_count": 53,
   "metadata": {
    "metadata": {}
   },
   "outputs": [
    {
     "data": {
      "text/html": [
       "<div>\n",
       "<style scoped>\n",
       "    .dataframe tbody tr th:only-of-type {\n",
       "        vertical-align: middle;\n",
       "    }\n",
       "\n",
       "    .dataframe tbody tr th {\n",
       "        vertical-align: top;\n",
       "    }\n",
       "\n",
       "    .dataframe thead tr th {\n",
       "        text-align: left;\n",
       "    }\n",
       "\n",
       "    .dataframe thead tr:last-of-type th {\n",
       "        text-align: right;\n",
       "    }\n",
       "</style>\n",
       "<table border=\"1\" class=\"dataframe\">\n",
       "  <thead>\n",
       "    <tr>\n",
       "      <th></th>\n",
       "      <th></th>\n",
       "      <th colspan=\"4\" halign=\"left\">mean</th>\n",
       "      <th colspan=\"4\" halign=\"left\">max</th>\n",
       "    </tr>\n",
       "    <tr>\n",
       "      <th></th>\n",
       "      <th></th>\n",
       "      <th colspan=\"4\" halign=\"left\">ndcg_p</th>\n",
       "      <th colspan=\"4\" halign=\"left\">ndcg_p</th>\n",
       "    </tr>\n",
       "    <tr>\n",
       "      <th></th>\n",
       "      <th>p</th>\n",
       "      <th>1</th>\n",
       "      <th>3</th>\n",
       "      <th>5</th>\n",
       "      <th>10</th>\n",
       "      <th>1</th>\n",
       "      <th>3</th>\n",
       "      <th>5</th>\n",
       "      <th>10</th>\n",
       "    </tr>\n",
       "    <tr>\n",
       "      <th>algorithm</th>\n",
       "      <th>mode</th>\n",
       "      <th></th>\n",
       "      <th></th>\n",
       "      <th></th>\n",
       "      <th></th>\n",
       "      <th></th>\n",
       "      <th></th>\n",
       "      <th></th>\n",
       "      <th></th>\n",
       "    </tr>\n",
       "  </thead>\n",
       "  <tbody>\n",
       "    <tr>\n",
       "      <th rowspan=\"2\" valign=\"top\">josie</th>\n",
       "      <th>bag</th>\n",
       "      <td>0.947038</td>\n",
       "      <td>0.95595</td>\n",
       "      <td>0.957503</td>\n",
       "      <td>0.966814</td>\n",
       "      <td>1</td>\n",
       "      <td>1</td>\n",
       "      <td>1</td>\n",
       "      <td>1</td>\n",
       "    </tr>\n",
       "    <tr>\n",
       "      <th>set</th>\n",
       "      <td>0.912608</td>\n",
       "      <td>0.891245</td>\n",
       "      <td>0.885061</td>\n",
       "      <td>0.879332</td>\n",
       "      <td>1</td>\n",
       "      <td>1</td>\n",
       "      <td>1</td>\n",
       "      <td>1</td>\n",
       "    </tr>\n",
       "    <tr>\n",
       "      <th rowspan=\"2\" valign=\"top\">lshforest</th>\n",
       "      <th>bag</th>\n",
       "      <td>0.459255</td>\n",
       "      <td>0.516847</td>\n",
       "      <td>0.540462</td>\n",
       "      <td>0.592615</td>\n",
       "      <td>1</td>\n",
       "      <td>1</td>\n",
       "      <td>1</td>\n",
       "      <td>1</td>\n",
       "    </tr>\n",
       "    <tr>\n",
       "      <th>set</th>\n",
       "      <td>0.413987</td>\n",
       "      <td>0.446782</td>\n",
       "      <td>0.467481</td>\n",
       "      <td>0.498379</td>\n",
       "      <td>1</td>\n",
       "      <td>1</td>\n",
       "      <td>1</td>\n",
       "      <td>1</td>\n",
       "    </tr>\n",
       "  </tbody>\n",
       "</table>\n",
       "</div>"
      ],
      "text/plain": [
       "                    mean                                  max         \n",
       "                  ndcg_p                               ndcg_p         \n",
       "p                     1         3         5         10     1  3  5  10\n",
       "algorithm mode                                                        \n",
       "josie     bag   0.947038   0.95595  0.957503  0.966814      1  1  1  1\n",
       "          set   0.912608  0.891245  0.885061  0.879332      1  1  1  1\n",
       "lshforest bag   0.459255  0.516847  0.540462  0.592615      1  1  1  1\n",
       "          set   0.413987  0.446782  0.467481  0.498379      1  1  1  1"
      ]
     },
     "execution_count": 53,
     "metadata": {},
     "output_type": "execute_result"
    }
   ],
   "source": [
    "ndcg_pivot = df.pivot_table(index=['algorithm', 'mode'], columns=['p'], values=['ndcg_p'], aggfunc=['mean', 'max']).convert_dtypes()\n",
    "ndcg_pivot"
   ]
  },
  {
   "cell_type": "code",
   "execution_count": 57,
   "metadata": {
    "metadata": {}
   },
   "outputs": [
    {
     "data": {
      "image/png": "[encoded data removed]",
      "text/plain": [
       "<Figure size 640x480 with 1 Axes>"
      ]
     },
     "metadata": {},
     "output_type": "display_data"
    }
   ],
   "source": [
    "for row, label in zip(ndcg_pivot['mean', 'ndcg_p'].values, ndcg_pivot.index):\n",
    "    plt.plot([1, 3, 5, 10], row, 'o-', label=f'{label[0]}-{label[1]}')\n",
    "plt.xticks([1, 3, 5, 10], [1, 3, 5, 10])\n",
    "plt.legend()\n",
    "plt.xlabel(\"p\")\n",
    "plt.ylabel(\"mean nDCG@p\")\n",
    "plt.grid()"
   ]
  },
  {
   "cell_type": "code",
   "execution_count": null,
   "metadata": {
    "metadata": {}
   },
   "outputs": [],
   "source": [
    "query_id = 29938\n",
    "silver_standard[query_id]"
   ]
  },
  {
   "cell_type": "code",
   "execution_count": null,
   "metadata": {},
   "outputs": [],
   "source": [
    "data = [(am[0], am[1], group[(group['sloth_overlap'] != 0) & (group['difference_overlap'] != 0)]) for am, group in results.groupby(by=['algorithm', 'mode'])]"
   ]
  },
  {
   "cell_type": "code",
   "execution_count": null,
   "metadata": {
    "metadata": {}
   },
   "outputs": [],
   "source": [
    "df = results[(results['algorithm'] == 'josie') & (results['mode'] == 'bag') & (results['query_id'] == query_id)]\n",
    "df"
   ]
  },
  {
   "cell_type": "code",
   "execution_count": null,
   "metadata": {},
   "outputs": [],
   "source": [
    "df"
   ]
  }
 ],
 "metadata": {
  "kernelspec": {
   "display_name": "nanni-tesi-env",
   "language": "python",
   "name": "python3"
  },
  "language_info": {
   "codemirror_mode": {
    "name": "ipython",
    "version": 3
   },
   "file_extension": ".py",
   "mimetype": "text/x-python",
   "name": "python",
   "nbconvert_exporter": "python",
   "pygments_lexer": "ipython3",
   "version": "3.10.13"
  }
 },
 "nbformat": 4,
 "nbformat_minor": 2
}
