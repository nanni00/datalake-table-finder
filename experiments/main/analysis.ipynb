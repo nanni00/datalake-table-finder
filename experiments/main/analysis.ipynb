{
 "cells": [
  {
   "cell_type": "code",
   "execution_count": 2,
   "metadata": {
    "metadata": {}
   },
   "outputs": [],
   "source": [
    "import os\n",
    "from collections import defaultdict\n",
    "import statistics\n",
    "\n",
    "import numpy as np\n",
    "import pandas as pd\n",
    "import matplotlib.pyplot as plt\n",
    "\n",
    "from tools.utils.settings import DefaultPath as defpath\n",
    "from tools.utils.utils import get_mongodb_collections"
   ]
  },
  {
   "cell_type": "code",
   "execution_count": 2,
   "metadata": {
    "metadata": {}
   },
   "outputs": [],
   "source": [
    "test_name = 'bigtest'"
   ]
  },
  {
   "cell_type": "code",
   "execution_count": 3,
   "metadata": {
    "metadata": {}
   },
   "outputs": [],
   "source": [
    "small = True\n",
    "mongoclient, collections = get_mongodb_collections(small)"
   ]
  },
  {
   "cell_type": "code",
   "execution_count": 4,
   "metadata": {
    "metadata": {}
   },
   "outputs": [],
   "source": [
    "test_dir = defpath.data_path.josie_tests + '/' + test_name\n",
    "results_dir = test_dir + '/results/extracted'\n",
    "images_tables_dir = test_dir + '/images_tables'"
   ]
  },
  {
   "cell_type": "code",
   "execution_count": 40,
   "metadata": {
    "metadata": {}
   },
   "outputs": [],
   "source": [
    "columns=[\n",
    "    'query_id', \n",
    "    'result_id',\n",
    "    'algorithm',\n",
    "    'mode',\n",
    "    'query_size',\n",
    "    'max_table_overlap_size',\n",
    "    'rank', \n",
    "    'algorithm_overlap', \n",
    "    'sloth_overlap', \n",
    "    'difference_overlap',\n",
    "    'difference_overlap_norm'\n",
    "    ]\n",
    "\n",
    "results = pd.DataFrame(columns=columns)\n",
    "\n",
    "p = 10\n",
    "algorithms = ['josie', 'lshforest']"
   ]
  },
  {
   "cell_type": "code",
   "execution_count": 11,
   "metadata": {
    "metadata": {}
   },
   "outputs": [
    {
     "name": "stderr",
     "output_type": "stream",
     "text": [
      "/tmp/ipykernel_78260/57617968.py:30: FutureWarning: The behavior of DataFrame concatenation with empty or all-NA entries is deprecated. In a future version, this will no longer exclude empty or all-NA columns when determining the result dtypes. To retain the old behavior, exclude the relevant entries before the concat operation.\n",
      "  results = pd.concat([results, pd.read_csv(fname)])\n"
     ]
    }
   ],
   "source": [
    "modes = ['set', 'bag']\n",
    "\n",
    "solvers = []\n",
    "\n",
    "for algorithm in algorithms:\n",
    "    for mode in modes:\n",
    "        fname = f\"{results_dir}/a{algorithm}_m{mode}_k{p}_extracted.csv\"\n",
    "\n",
    "        if not os.path.exists(fname):\n",
    "            continue\n",
    "\n",
    "        solvers.append((algorithm, mode))\n",
    "        results = pd.concat([results, pd.read_csv(fname)])"
   ]
  },
  {
   "cell_type": "code",
   "execution_count": 42,
   "metadata": {
    "metadata": {}
   },
   "outputs": [],
   "source": [
    "lsh256_16 = pd.read_csv('/data4/nanni/tesi-magistrale/data/josie-tests/lsh_256_16/results/extracted/alshforest_mset_k10_extracted.csv')\n",
    "lsh512_16 = pd.read_csv('/data4/nanni/tesi-magistrale/data/josie-tests/lsh_512_16/results/extracted/alshforest_mset_k10_extracted.csv')\n",
    "lsh512_32 = pd.read_csv('/data4/nanni/tesi-magistrale/data/josie-tests/lsh_512_32/results/extracted/alshforest_mset_k10_extracted.csv')\n",
    "\n",
    "lsh256_16['mode'] = lsh256_16['mode'] + '_256'\n",
    "lsh512_16['mode'] = lsh512_16['mode'] + '_512_16'\n",
    "lsh512_32['mode'] = lsh512_32['mode'] + '_512_32'\n",
    "\n",
    "\n",
    "josie_set = pd.read_csv('/data4/nanni/tesi-magistrale/data/josie-tests/bigtest/results/extracted/ajosie_mset_k10_extracted.csv')\n",
    "\n",
    "results = pd.concat([lsh256_16, lsh512_16, lsh512_32, josie_set])"
   ]
  },
  {
   "cell_type": "code",
   "execution_count": 43,
   "metadata": {
    "metadata": {}
   },
   "outputs": [
    {
     "data": {
      "text/html": [
       "<div>\n",
       "<style scoped>\n",
       "    .dataframe tbody tr th:only-of-type {\n",
       "        vertical-align: middle;\n",
       "    }\n",
       "\n",
       "    .dataframe tbody tr th {\n",
       "        vertical-align: top;\n",
       "    }\n",
       "\n",
       "    .dataframe thead th {\n",
       "        text-align: right;\n",
       "    }\n",
       "</style>\n",
       "<table border=\"1\" class=\"dataframe\">\n",
       "  <thead>\n",
       "    <tr style=\"text-align: right;\">\n",
       "      <th></th>\n",
       "      <th>query_id</th>\n",
       "      <th>result_id</th>\n",
       "      <th>algorithm</th>\n",
       "      <th>mode</th>\n",
       "      <th>query_size</th>\n",
       "      <th>max_table_overlap_size</th>\n",
       "      <th>rank</th>\n",
       "      <th>algorithm_overlap</th>\n",
       "      <th>sloth_overlap</th>\n",
       "      <th>difference_overlap</th>\n",
       "      <th>difference_overlap_norm</th>\n",
       "    </tr>\n",
       "  </thead>\n",
       "  <tbody>\n",
       "    <tr>\n",
       "      <th>0</th>\n",
       "      <td>183504</td>\n",
       "      <td>1036002</td>\n",
       "      <td>lshforest</td>\n",
       "      <td>set_256</td>\n",
       "      <td>58</td>\n",
       "      <td>162</td>\n",
       "      <td>1</td>\n",
       "      <td>10</td>\n",
       "      <td>8</td>\n",
       "      <td>2</td>\n",
       "      <td>0.012346</td>\n",
       "    </tr>\n",
       "    <tr>\n",
       "      <th>1</th>\n",
       "      <td>183504</td>\n",
       "      <td>106412</td>\n",
       "      <td>lshforest</td>\n",
       "      <td>set_256</td>\n",
       "      <td>58</td>\n",
       "      <td>162</td>\n",
       "      <td>2</td>\n",
       "      <td>2</td>\n",
       "      <td>3</td>\n",
       "      <td>-1</td>\n",
       "      <td>-0.006173</td>\n",
       "    </tr>\n",
       "    <tr>\n",
       "      <th>2</th>\n",
       "      <td>183504</td>\n",
       "      <td>1635471</td>\n",
       "      <td>lshforest</td>\n",
       "      <td>set_256</td>\n",
       "      <td>58</td>\n",
       "      <td>162</td>\n",
       "      <td>3</td>\n",
       "      <td>5</td>\n",
       "      <td>8</td>\n",
       "      <td>-3</td>\n",
       "      <td>-0.018519</td>\n",
       "    </tr>\n",
       "    <tr>\n",
       "      <th>3</th>\n",
       "      <td>183504</td>\n",
       "      <td>183505</td>\n",
       "      <td>lshforest</td>\n",
       "      <td>set_256</td>\n",
       "      <td>58</td>\n",
       "      <td>162</td>\n",
       "      <td>4</td>\n",
       "      <td>33</td>\n",
       "      <td>31</td>\n",
       "      <td>2</td>\n",
       "      <td>0.012346</td>\n",
       "    </tr>\n",
       "    <tr>\n",
       "      <th>4</th>\n",
       "      <td>183504</td>\n",
       "      <td>2154773</td>\n",
       "      <td>lshforest</td>\n",
       "      <td>set_256</td>\n",
       "      <td>58</td>\n",
       "      <td>162</td>\n",
       "      <td>5</td>\n",
       "      <td>2</td>\n",
       "      <td>1</td>\n",
       "      <td>1</td>\n",
       "      <td>0.006173</td>\n",
       "    </tr>\n",
       "    <tr>\n",
       "      <th>...</th>\n",
       "      <td>...</td>\n",
       "      <td>...</td>\n",
       "      <td>...</td>\n",
       "      <td>...</td>\n",
       "      <td>...</td>\n",
       "      <td>...</td>\n",
       "      <td>...</td>\n",
       "      <td>...</td>\n",
       "      <td>...</td>\n",
       "      <td>...</td>\n",
       "      <td>...</td>\n",
       "    </tr>\n",
       "    <tr>\n",
       "      <th>2025</th>\n",
       "      <td>170197</td>\n",
       "      <td>374269</td>\n",
       "      <td>josie</td>\n",
       "      <td>set</td>\n",
       "      <td>11</td>\n",
       "      <td>20</td>\n",
       "      <td>6</td>\n",
       "      <td>10</td>\n",
       "      <td>9</td>\n",
       "      <td>1</td>\n",
       "      <td>0.050000</td>\n",
       "    </tr>\n",
       "    <tr>\n",
       "      <th>2026</th>\n",
       "      <td>170197</td>\n",
       "      <td>170196</td>\n",
       "      <td>josie</td>\n",
       "      <td>set</td>\n",
       "      <td>11</td>\n",
       "      <td>20</td>\n",
       "      <td>7</td>\n",
       "      <td>10</td>\n",
       "      <td>10</td>\n",
       "      <td>0</td>\n",
       "      <td>0.000000</td>\n",
       "    </tr>\n",
       "    <tr>\n",
       "      <th>2027</th>\n",
       "      <td>170197</td>\n",
       "      <td>294503</td>\n",
       "      <td>josie</td>\n",
       "      <td>set</td>\n",
       "      <td>11</td>\n",
       "      <td>20</td>\n",
       "      <td>8</td>\n",
       "      <td>10</td>\n",
       "      <td>10</td>\n",
       "      <td>0</td>\n",
       "      <td>0.000000</td>\n",
       "    </tr>\n",
       "    <tr>\n",
       "      <th>2028</th>\n",
       "      <td>170197</td>\n",
       "      <td>503089</td>\n",
       "      <td>josie</td>\n",
       "      <td>set</td>\n",
       "      <td>11</td>\n",
       "      <td>20</td>\n",
       "      <td>9</td>\n",
       "      <td>9</td>\n",
       "      <td>9</td>\n",
       "      <td>0</td>\n",
       "      <td>0.000000</td>\n",
       "    </tr>\n",
       "    <tr>\n",
       "      <th>2029</th>\n",
       "      <td>170197</td>\n",
       "      <td>374350</td>\n",
       "      <td>josie</td>\n",
       "      <td>set</td>\n",
       "      <td>11</td>\n",
       "      <td>20</td>\n",
       "      <td>10</td>\n",
       "      <td>9</td>\n",
       "      <td>9</td>\n",
       "      <td>0</td>\n",
       "      <td>0.000000</td>\n",
       "    </tr>\n",
       "  </tbody>\n",
       "</table>\n",
       "<p>7051 rows × 11 columns</p>\n",
       "</div>"
      ],
      "text/plain": [
       "      query_id  result_id  algorithm     mode  query_size  \\\n",
       "0       183504    1036002  lshforest  set_256          58   \n",
       "1       183504     106412  lshforest  set_256          58   \n",
       "2       183504    1635471  lshforest  set_256          58   \n",
       "3       183504     183505  lshforest  set_256          58   \n",
       "4       183504    2154773  lshforest  set_256          58   \n",
       "...        ...        ...        ...      ...         ...   \n",
       "2025    170197     374269      josie      set          11   \n",
       "2026    170197     170196      josie      set          11   \n",
       "2027    170197     294503      josie      set          11   \n",
       "2028    170197     503089      josie      set          11   \n",
       "2029    170197     374350      josie      set          11   \n",
       "\n",
       "      max_table_overlap_size  rank  algorithm_overlap  sloth_overlap  \\\n",
       "0                        162     1                 10              8   \n",
       "1                        162     2                  2              3   \n",
       "2                        162     3                  5              8   \n",
       "3                        162     4                 33             31   \n",
       "4                        162     5                  2              1   \n",
       "...                      ...   ...                ...            ...   \n",
       "2025                      20     6                 10              9   \n",
       "2026                      20     7                 10             10   \n",
       "2027                      20     8                 10             10   \n",
       "2028                      20     9                  9              9   \n",
       "2029                      20    10                  9              9   \n",
       "\n",
       "      difference_overlap  difference_overlap_norm  \n",
       "0                      2                 0.012346  \n",
       "1                     -1                -0.006173  \n",
       "2                     -3                -0.018519  \n",
       "3                      2                 0.012346  \n",
       "4                      1                 0.006173  \n",
       "...                  ...                      ...  \n",
       "2025                   1                 0.050000  \n",
       "2026                   0                 0.000000  \n",
       "2027                   0                 0.000000  \n",
       "2028                   0                 0.000000  \n",
       "2029                   0                 0.000000  \n",
       "\n",
       "[7051 rows x 11 columns]"
      ]
     },
     "execution_count": 43,
     "metadata": {},
     "output_type": "execute_result"
    }
   ],
   "source": [
    "results"
   ]
  },
  {
   "cell_type": "markdown",
   "metadata": {},
   "source": [
    "## Quanto sono validi i vari metodi? - Tasso di nullità"
   ]
  },
  {
   "cell_type": "markdown",
   "metadata": {},
   "source": [
    "We define the Nullity Ratio the ratio for each query of retrivied IDs which actually have an overlap over a certain thresholds and the retrivied set size "
   ]
  },
  {
   "cell_type": "code",
   "execution_count": 44,
   "metadata": {
    "metadata": {}
   },
   "outputs": [
    {
     "data": {
      "text/html": [
       "<div>\n",
       "<style scoped>\n",
       "    .dataframe tbody tr th:only-of-type {\n",
       "        vertical-align: middle;\n",
       "    }\n",
       "\n",
       "    .dataframe tbody tr th {\n",
       "        vertical-align: top;\n",
       "    }\n",
       "\n",
       "    .dataframe thead tr th {\n",
       "        text-align: left;\n",
       "    }\n",
       "\n",
       "    .dataframe thead tr:last-of-type th {\n",
       "        text-align: right;\n",
       "    }\n",
       "</style>\n",
       "<table border=\"1\" class=\"dataframe\">\n",
       "  <thead>\n",
       "    <tr>\n",
       "      <th></th>\n",
       "      <th></th>\n",
       "      <th>mean</th>\n",
       "      <th>std</th>\n",
       "      <th>min</th>\n",
       "      <th>max</th>\n",
       "    </tr>\n",
       "    <tr>\n",
       "      <th></th>\n",
       "      <th></th>\n",
       "      <th>zero_overlap_ratio</th>\n",
       "      <th>zero_overlap_ratio</th>\n",
       "      <th>zero_overlap_ratio</th>\n",
       "      <th>zero_overlap_ratio</th>\n",
       "    </tr>\n",
       "    <tr>\n",
       "      <th>algorithm</th>\n",
       "      <th>mode</th>\n",
       "      <th></th>\n",
       "      <th></th>\n",
       "      <th></th>\n",
       "      <th></th>\n",
       "    </tr>\n",
       "  </thead>\n",
       "  <tbody>\n",
       "    <tr>\n",
       "      <th>josie</th>\n",
       "      <th>set</th>\n",
       "      <td>0.000000</td>\n",
       "      <td>0.000000</td>\n",
       "      <td>0.0</td>\n",
       "      <td>0.000000</td>\n",
       "    </tr>\n",
       "    <tr>\n",
       "      <th rowspan=\"3\" valign=\"top\">lshforest</th>\n",
       "      <th>set_256</th>\n",
       "      <td>0.000594</td>\n",
       "      <td>0.008125</td>\n",
       "      <td>0.0</td>\n",
       "      <td>0.111111</td>\n",
       "    </tr>\n",
       "    <tr>\n",
       "      <th>set_512_16</th>\n",
       "      <td>0.001773</td>\n",
       "      <td>0.013961</td>\n",
       "      <td>0.0</td>\n",
       "      <td>0.111111</td>\n",
       "    </tr>\n",
       "    <tr>\n",
       "      <th>set_512_32</th>\n",
       "      <td>0.000585</td>\n",
       "      <td>0.008061</td>\n",
       "      <td>0.0</td>\n",
       "      <td>0.111111</td>\n",
       "    </tr>\n",
       "  </tbody>\n",
       "</table>\n",
       "</div>"
      ],
      "text/plain": [
       "                                   mean                std                min  \\\n",
       "                     zero_overlap_ratio zero_overlap_ratio zero_overlap_ratio   \n",
       "algorithm mode                                                                  \n",
       "josie     set                  0.000000           0.000000                0.0   \n",
       "lshforest set_256              0.000594           0.008125                0.0   \n",
       "          set_512_16           0.001773           0.013961                0.0   \n",
       "          set_512_32           0.000585           0.008061                0.0   \n",
       "\n",
       "                                    max  \n",
       "                     zero_overlap_ratio  \n",
       "algorithm mode                           \n",
       "josie     set                  0.000000  \n",
       "lshforest set_256              0.111111  \n",
       "          set_512_16           0.111111  \n",
       "          set_512_32           0.111111  "
      ]
     },
     "execution_count": 44,
     "metadata": {},
     "output_type": "execute_result"
    }
   ],
   "source": [
    "nullity_threshold = 0   # if the actual overlap between two tables isprint(next(resgroup)) under this threshold, the result is considered bad\n",
    "\n",
    "x = []\n",
    "for am, am_group in results.groupby(by=[\"algorithm\", \"mode\"]):\n",
    "    for query_id, q_group in am_group.groupby(by=[\"query_id\"]):\n",
    "        cnt = ((q_group['sloth_overlap'] <= nullity_threshold) & (q_group['difference_overlap'] <= nullity_threshold)).sum()\n",
    "        num_query_results = q_group.count().values.tolist()[0]\n",
    "        x.append([am[0], am[1], query_id[0], num_query_results, cnt, cnt / num_query_results])\n",
    "\n",
    "x = pd.DataFrame(x, columns=['algorithm', 'mode', 'query_id', 'query_size', 'zero_overlap_cnt', 'zero_overlap_ratio'])\n",
    "\n",
    "null_ratio_pivot = pd.pivot_table(x, values=['zero_overlap_ratio'], index=['algorithm', 'mode'], aggfunc=['mean', 'std', 'min', 'max'])\n",
    "null_ratio_pivot"
   ]
  },
  {
   "cell_type": "markdown",
   "metadata": {},
   "source": [
    "## Algorithm vs True Overlap"
   ]
  },
  {
   "cell_type": "code",
   "execution_count": 45,
   "metadata": {
    "metadata": {}
   },
   "outputs": [],
   "source": [
    "data = [(am[0], am[1], group[(group['sloth_overlap'] != 0) & (group['difference_overlap'] != 0)]) for am, group in results.groupby(by=['algorithm', 'mode'])]"
   ]
  },
  {
   "cell_type": "code",
   "execution_count": 46,
   "metadata": {
    "metadata": {}
   },
   "outputs": [
    {
     "data": {
      "image/png": "[encoded data removed]",
      "text/plain": [
       "<Figure size 1500x500 with 1 Axes>"
      ]
     },
     "metadata": {},
     "output_type": "display_data"
    }
   ],
   "source": [
    "fig, ax = plt.subplots(1, 1, sharey='row', figsize=(15, 5))\n",
    "xmin, xmax, step = -200, 300, 10\n",
    "\n",
    "ax.hist([d[2]['difference_overlap'] for d in data], \n",
    "         bins=np.arange(xmin, xmax, step), alpha=0.8, \n",
    "         label=[f'{a}-{m}' for a, m, _ in data],\n",
    "         align='mid')\n",
    "ax.set_xlim(xmin, xmax)\n",
    "ax.set_xticks(np.arange(xmin, xmax, step))\n",
    "ax.set_yscale('log')\n",
    "ax.tick_params(axis='x', rotation=45)\n",
    "ax.grid()\n",
    "ax.set_xlabel('ALGORITHM overlap - SLOTH overlap')\n",
    "ax.set_ylabel('frequency')\n",
    "\n",
    "plt.legend()\n",
    "plt.show()"
   ]
  },
  {
   "cell_type": "code",
   "execution_count": 47,
   "metadata": {
    "metadata": {}
   },
   "outputs": [],
   "source": [
    "results['boh'] = results['algorithm_overlap'] / (results['sloth_overlap'] + 1)"
   ]
  },
  {
   "cell_type": "code",
   "execution_count": 48,
   "metadata": {
    "metadata": {}
   },
   "outputs": [],
   "source": [
    "data = [(am[0], am[1], group[(group['sloth_overlap'] != 0) & (group['difference_overlap'] != 0)]) for am, group in results.groupby(by=['algorithm', 'mode'])]"
   ]
  },
  {
   "cell_type": "code",
   "execution_count": 49,
   "metadata": {
    "metadata": {}
   },
   "outputs": [
    {
     "data": {
      "image/png": "[encoded data removed]",
      "text/plain": [
       "<Figure size 1500x500 with 1 Axes>"
      ]
     },
     "metadata": {},
     "output_type": "display_data"
    }
   ],
   "source": [
    "fig, ax = plt.subplots(1, 1, sharey='row', figsize=(15, 5))\n",
    "xmin, xmax, step = 0, 9.6, 0.2\n",
    "\n",
    "ax.hist([d[2]['boh'] for d in data], \n",
    "         bins=np.arange(xmin, xmax, step), alpha=0.8, \n",
    "         label=[f'{a}-{m}' for a, m, _ in data],\n",
    "         align='mid')\n",
    "ax.set_xlim(xmin, xmax)\n",
    "ax.set_xticks(np.arange(xmin, xmax, step))\n",
    "ax.grid()\n",
    "ax.set_xlabel('ALGORITHM_overlap / (SLOTH_overlap + 1)')\n",
    "ax.set_ylabel('frequency')\n",
    "ax.set_yscale('log')\n",
    "ax.tick_params(axis='x', rotation=45)\n",
    "plt.legend()\n",
    "plt.show()"
   ]
  },
  {
   "cell_type": "markdown",
   "metadata": {},
   "source": [
    "## Creating Silver Standard"
   ]
  },
  {
   "cell_type": "code",
   "execution_count": 50,
   "metadata": {
    "metadata": {}
   },
   "outputs": [],
   "source": [
    "silver_standard = defaultdict(set)\n",
    "\n",
    "results_ids = results.convert_dtypes().groupby(by='query_id')[['result_id', 'sloth_overlap']]\n",
    "\n",
    "for query_id, ids_overlaps in results_ids:\n",
    "    for i in ids_overlaps.values:\n",
    "        _id, _overlap = i\n",
    "        silver_standard[query_id].add((_id, _overlap))\n",
    "\n",
    "for query_id in silver_standard.keys():\n",
    "    silver_standard[query_id] = sorted(list(silver_standard[query_id]), key=lambda x: x[1], reverse=True)"
   ]
  },
  {
   "cell_type": "markdown",
   "metadata": {},
   "source": [
    "## Precision at p - $P@p$\n",
    "Corresponds to the number of relevant results among the top $p$ retrieved documents. Fails to take into account the positions of the relevant documents among the top $p$.Another shortcoming is that on a query with fewer relevant results than $p$, even a perfect system will have a score less than 1.\n"
   ]
  },
  {
   "cell_type": "code",
   "execution_count": 51,
   "metadata": {
    "metadata": {}
   },
   "outputs": [],
   "source": [
    "k_precisions = [1, 3, 5, 10]\n",
    "\n",
    "precision_at_k_results = []\n",
    "\n",
    "for query_id in silver_standard.keys():\n",
    "    qss = [x[1] for x in silver_standard[query_id]]\n",
    "    avg_overlap = round(statistics.mean(qss), 3)\n",
    "    stdev_overlap = round(statistics.stdev(qss))\n",
    "\n",
    "    for (algorithm, mode), data in results.groupby(by=[\"algorithm\", \"mode\"]):\n",
    "        ids = data[data['query_id'] == query_id]['result_id'].values.tolist()\n",
    "        for k_precision in k_precisions:\n",
    "            real_topk = [x[0] for x in silver_standard[query_id][:k_precision]]\n",
    "            precision_at_k = set(real_topk).intersection(ids)\n",
    "            \n",
    "            precision_at_k_results.append([query_id, len(qss), avg_overlap, stdev_overlap, algorithm, mode, k_precision, len(precision_at_k)])\n",
    "\n",
    "columns = [\n",
    "    'query_id',\n",
    "    'silver_std_size',\n",
    "    'silver_std_ov_mean',\n",
    "    'silver_std_ov_stdev',\n",
    "    'algorithm',\n",
    "    'mode',\n",
    "    'k',\n",
    "    'precision_at_k'\n",
    "]\n",
    "\n",
    "precision_at_k_results = pd.DataFrame(precision_at_k_results, columns=columns)\n",
    "precision_at_k = precision_at_k_results.sort_values(by=['silver_std_size', 'query_id'], ascending=False)\n",
    "# precision_at_k"
   ]
  },
  {
   "cell_type": "code",
   "execution_count": 52,
   "metadata": {
    "metadata": {}
   },
   "outputs": [
    {
     "data": {
      "text/html": [
       "<div>\n",
       "<style scoped>\n",
       "    .dataframe tbody tr th:only-of-type {\n",
       "        vertical-align: middle;\n",
       "    }\n",
       "\n",
       "    .dataframe tbody tr th {\n",
       "        vertical-align: top;\n",
       "    }\n",
       "\n",
       "    .dataframe thead tr th {\n",
       "        text-align: left;\n",
       "    }\n",
       "\n",
       "    .dataframe thead tr:last-of-type th {\n",
       "        text-align: right;\n",
       "    }\n",
       "</style>\n",
       "<table border=\"1\" class=\"dataframe\">\n",
       "  <thead>\n",
       "    <tr>\n",
       "      <th></th>\n",
       "      <th></th>\n",
       "      <th colspan=\"4\" halign=\"left\">mean</th>\n",
       "      <th colspan=\"4\" halign=\"left\">std</th>\n",
       "      <th colspan=\"4\" halign=\"left\">max</th>\n",
       "    </tr>\n",
       "    <tr>\n",
       "      <th></th>\n",
       "      <th></th>\n",
       "      <th colspan=\"4\" halign=\"left\">precision_at_k</th>\n",
       "      <th colspan=\"4\" halign=\"left\">precision_at_k</th>\n",
       "      <th colspan=\"4\" halign=\"left\">precision_at_k</th>\n",
       "    </tr>\n",
       "    <tr>\n",
       "      <th></th>\n",
       "      <th>k</th>\n",
       "      <th>1</th>\n",
       "      <th>3</th>\n",
       "      <th>5</th>\n",
       "      <th>10</th>\n",
       "      <th>1</th>\n",
       "      <th>3</th>\n",
       "      <th>5</th>\n",
       "      <th>10</th>\n",
       "      <th>1</th>\n",
       "      <th>3</th>\n",
       "      <th>5</th>\n",
       "      <th>10</th>\n",
       "    </tr>\n",
       "    <tr>\n",
       "      <th>algorithm</th>\n",
       "      <th>mode</th>\n",
       "      <th></th>\n",
       "      <th></th>\n",
       "      <th></th>\n",
       "      <th></th>\n",
       "      <th></th>\n",
       "      <th></th>\n",
       "      <th></th>\n",
       "      <th></th>\n",
       "      <th></th>\n",
       "      <th></th>\n",
       "      <th></th>\n",
       "      <th></th>\n",
       "    </tr>\n",
       "  </thead>\n",
       "  <tbody>\n",
       "    <tr>\n",
       "      <th>josie</th>\n",
       "      <th>set</th>\n",
       "      <td>0.516539</td>\n",
       "      <td>1.549618</td>\n",
       "      <td>2.582697</td>\n",
       "      <td>5.165394</td>\n",
       "      <td>0.500363</td>\n",
       "      <td>1.501090</td>\n",
       "      <td>2.501817</td>\n",
       "      <td>5.003634</td>\n",
       "      <td>1</td>\n",
       "      <td>3</td>\n",
       "      <td>5</td>\n",
       "      <td>10</td>\n",
       "    </tr>\n",
       "    <tr>\n",
       "      <th rowspan=\"3\" valign=\"top\">lshforest</th>\n",
       "      <th>set_256</th>\n",
       "      <td>0.379135</td>\n",
       "      <td>1.033079</td>\n",
       "      <td>1.704835</td>\n",
       "      <td>3.307888</td>\n",
       "      <td>0.485790</td>\n",
       "      <td>1.262256</td>\n",
       "      <td>2.048992</td>\n",
       "      <td>3.775507</td>\n",
       "      <td>1</td>\n",
       "      <td>3</td>\n",
       "      <td>5</td>\n",
       "      <td>9</td>\n",
       "    </tr>\n",
       "    <tr>\n",
       "      <th>set_512_16</th>\n",
       "      <td>0.384224</td>\n",
       "      <td>1.096692</td>\n",
       "      <td>1.781170</td>\n",
       "      <td>3.282443</td>\n",
       "      <td>0.487031</td>\n",
       "      <td>1.278078</td>\n",
       "      <td>2.057329</td>\n",
       "      <td>3.731980</td>\n",
       "      <td>1</td>\n",
       "      <td>3</td>\n",
       "      <td>5</td>\n",
       "      <td>9</td>\n",
       "    </tr>\n",
       "    <tr>\n",
       "      <th>set_512_32</th>\n",
       "      <td>0.404580</td>\n",
       "      <td>1.127226</td>\n",
       "      <td>1.844784</td>\n",
       "      <td>3.524173</td>\n",
       "      <td>0.491436</td>\n",
       "      <td>1.307005</td>\n",
       "      <td>2.115017</td>\n",
       "      <td>3.860455</td>\n",
       "      <td>1</td>\n",
       "      <td>3</td>\n",
       "      <td>5</td>\n",
       "      <td>9</td>\n",
       "    </tr>\n",
       "  </tbody>\n",
       "</table>\n",
       "</div>"
      ],
      "text/plain": [
       "                               mean                                \\\n",
       "                     precision_at_k                                 \n",
       "k                                1         3         5         10   \n",
       "algorithm mode                                                      \n",
       "josie     set              0.516539  1.549618  2.582697  5.165394   \n",
       "lshforest set_256          0.379135  1.033079  1.704835  3.307888   \n",
       "          set_512_16       0.384224  1.096692  1.781170  3.282443   \n",
       "          set_512_32       0.404580  1.127226  1.844784  3.524173   \n",
       "\n",
       "                                std                                \\\n",
       "                     precision_at_k                                 \n",
       "k                                1         3         5         10   \n",
       "algorithm mode                                                      \n",
       "josie     set              0.500363  1.501090  2.501817  5.003634   \n",
       "lshforest set_256          0.485790  1.262256  2.048992  3.775507   \n",
       "          set_512_16       0.487031  1.278078  2.057329  3.731980   \n",
       "          set_512_32       0.491436  1.307005  2.115017  3.860455   \n",
       "\n",
       "                                max            \n",
       "                     precision_at_k            \n",
       "k                                1  3  5   10  \n",
       "algorithm mode                                 \n",
       "josie     set                     1  3  5  10  \n",
       "lshforest set_256                 1  3  5   9  \n",
       "          set_512_16              1  3  5   9  \n",
       "          set_512_32              1  3  5   9  "
      ]
     },
     "execution_count": 52,
     "metadata": {},
     "output_type": "execute_result"
    }
   ],
   "source": [
    "patk_pivot = pd.pivot_table(precision_at_k, values=['precision_at_k'], index=['algorithm', 'mode'], columns=['k'], aggfunc=['mean', 'std', 'max'])\n",
    "patk_pivot"
   ]
  },
  {
   "cell_type": "code",
   "execution_count": 54,
   "metadata": {
    "metadata": {}
   },
   "outputs": [
    {
     "data": {
      "image/png": "[encoded data removed]",
      "text/plain": [
       "<Figure size 640x480 with 1 Axes>"
      ]
     },
     "metadata": {},
     "output_type": "display_data"
    }
   ],
   "source": [
    "for row, label in zip(patk_pivot['mean', 'precision_at_k'].values, patk_pivot.index):\n",
    "    plt.plot([1, 3, 5, 10], row, 'o-', label=f'{label[0]}-{label[1]}')\n",
    "plt.xticks([1, 3, 5, 10], [1, 3, 5, 10])\n",
    "plt.xlabel('p')\n",
    "plt.ylabel('mean precision@p')\n",
    "plt.legend()\n",
    "plt.grid()"
   ]
  },
  {
   "cell_type": "markdown",
   "metadata": {},
   "source": [
    "## Normalized Discontinued Cumulative Gain - $nDCG@p$\n",
    "\n",
    "Search result lists vary in length depending on the query. Comparing a search engine's performance from one query to the next cannot be consistently achieved using DCG alone, so the cumulative gain at each position for a chosen value of $ p $ should be normalized across queries. This is done by sorting all relevant documents in the corpus by their relative relevance, producing the maximum possible DCG through position $p$, also called Ideal DCG (IDCG) through that position. For a query, the normalized discounted cumulative gain, or nDCG, is computed as: \n",
    "\n",
    "$ nDCG_{p} = {DCG_{p} \\over IDCG_{p}} $\n",
    "\n",
    "where $ IDCG_{p} $ is the ideal discounted cumulative gain,\n",
    "\n",
    "$ IDCG_{p} = \\sum_{i=1}^{|REL_{p}|} {2^{rel_{i}} - 1 \\over log_{2}(i + 1)}$\n",
    "\n",
    "where $ REL_{p} $ represents the list of relevant documents (ordered by their relevance) in the corpus up to position $p$"
   ]
  },
  {
   "cell_type": "code",
   "execution_count": 26,
   "metadata": {
    "metadata": {}
   },
   "outputs": [],
   "source": [
    "from math import log2\n",
    "\n",
    "def ndcg_at_p(true_relevances, scores, p):\n",
    "    p = min(p, len(true_relevances), len(scores))\n",
    "    if p <= 0: # because computing nDCG is meaningful only if there is more than one document \n",
    "        return 0, 1\n",
    "    idcg = sum(rel / log2(i + 1) for i, rel in enumerate(true_relevances[:p], start=1))\n",
    "    dcg = sum(rel / log2(i + 1) for i, rel in enumerate(scores[:p], start=1))\n",
    "    if idcg < dcg:\n",
    "        raise Exception()\n",
    "\n",
    "    return dcg / idcg, p "
   ]
  },
  {
   "cell_type": "code",
   "execution_count": 27,
   "metadata": {
    "metadata": {}
   },
   "outputs": [],
   "source": [
    "def get_nDCG_p(silver_standard:defaultdict[int:list[tuple[int,int]]], results:pd.DataFrame, *p):\n",
    "    \"\"\" p values are assumed positive \"\"\"\n",
    "    ndcg_res = []\n",
    "    for query_id in silver_standard:\n",
    "        true_relevances = [x[1] for x in silver_standard[query_id]]\n",
    "        max_silver_standard = true_relevances[0]\n",
    "\n",
    "        for (algorithm, mode), data in results.groupby(by=['algorithm', 'mode']):\n",
    "            r = data[data['query_id'] == query_id][['result_id', 'sloth_overlap']]\n",
    "            result_relevances = [min(max_silver_standard, x[1]) for x in r.values.tolist()]\n",
    "            for _p in p:\n",
    "                ndcg, _actual_p = ndcg_at_p(true_relevances, result_relevances, _p)\n",
    "                if query_id == 29938 and algorithm == 'josie' and mode == 'bag':\n",
    "                    print(ndcg, _p, true_relevances[:_p], result_relevances[:_p])\n",
    "                ndcg_res.append([query_id, len(true_relevances), algorithm, mode, _p, _p - _actual_p, ndcg])\n",
    "    return ndcg_res"
   ]
  },
  {
   "cell_type": "code",
   "execution_count": 56,
   "metadata": {
    "metadata": {}
   },
   "outputs": [],
   "source": [
    "res = get_nDCG_p(silver_standard, results, 1, 3, 5, 10)"
   ]
  },
  {
   "cell_type": "code",
   "execution_count": 57,
   "metadata": {
    "metadata": {}
   },
   "outputs": [],
   "source": [
    "df = pd.DataFrame(res, columns=['query_id', 'silver_standard_size', 'algorithm', 'mode', 'p', 'missing_p', 'ndcg_p'])"
   ]
  },
  {
   "cell_type": "code",
   "execution_count": 58,
   "metadata": {
    "metadata": {}
   },
   "outputs": [],
   "source": [
    "silver_standard_size_threshold = 5\n",
    "df = df[df['silver_standard_size'] >= silver_standard_size_threshold]"
   ]
  },
  {
   "cell_type": "code",
   "execution_count": 59,
   "metadata": {
    "metadata": {}
   },
   "outputs": [
    {
     "data": {
      "text/html": [
       "<div>\n",
       "<style scoped>\n",
       "    .dataframe tbody tr th:only-of-type {\n",
       "        vertical-align: middle;\n",
       "    }\n",
       "\n",
       "    .dataframe tbody tr th {\n",
       "        vertical-align: top;\n",
       "    }\n",
       "\n",
       "    .dataframe thead tr th {\n",
       "        text-align: left;\n",
       "    }\n",
       "\n",
       "    .dataframe thead tr:last-of-type th {\n",
       "        text-align: right;\n",
       "    }\n",
       "</style>\n",
       "<table border=\"1\" class=\"dataframe\">\n",
       "  <thead>\n",
       "    <tr>\n",
       "      <th></th>\n",
       "      <th></th>\n",
       "      <th colspan=\"8\" halign=\"left\">mean</th>\n",
       "      <th colspan=\"8\" halign=\"left\">max</th>\n",
       "    </tr>\n",
       "    <tr>\n",
       "      <th></th>\n",
       "      <th></th>\n",
       "      <th colspan=\"4\" halign=\"left\">missing_p</th>\n",
       "      <th colspan=\"4\" halign=\"left\">ndcg_p</th>\n",
       "      <th colspan=\"4\" halign=\"left\">missing_p</th>\n",
       "      <th colspan=\"4\" halign=\"left\">ndcg_p</th>\n",
       "    </tr>\n",
       "    <tr>\n",
       "      <th></th>\n",
       "      <th>p</th>\n",
       "      <th>1</th>\n",
       "      <th>3</th>\n",
       "      <th>5</th>\n",
       "      <th>10</th>\n",
       "      <th>1</th>\n",
       "      <th>3</th>\n",
       "      <th>5</th>\n",
       "      <th>10</th>\n",
       "      <th>1</th>\n",
       "      <th>3</th>\n",
       "      <th>5</th>\n",
       "      <th>10</th>\n",
       "      <th>1</th>\n",
       "      <th>3</th>\n",
       "      <th>5</th>\n",
       "      <th>10</th>\n",
       "    </tr>\n",
       "    <tr>\n",
       "      <th>algorithm</th>\n",
       "      <th>mode</th>\n",
       "      <th></th>\n",
       "      <th></th>\n",
       "      <th></th>\n",
       "      <th></th>\n",
       "      <th></th>\n",
       "      <th></th>\n",
       "      <th></th>\n",
       "      <th></th>\n",
       "      <th></th>\n",
       "      <th></th>\n",
       "      <th></th>\n",
       "      <th></th>\n",
       "      <th></th>\n",
       "      <th></th>\n",
       "      <th></th>\n",
       "      <th></th>\n",
       "    </tr>\n",
       "  </thead>\n",
       "  <tbody>\n",
       "    <tr>\n",
       "      <th>josie</th>\n",
       "      <th>set</th>\n",
       "      <td>0</td>\n",
       "      <td>0.958974</td>\n",
       "      <td>1.917949</td>\n",
       "      <td>4.315385</td>\n",
       "      <td>0.487151</td>\n",
       "      <td>0.485279</td>\n",
       "      <td>0.489437</td>\n",
       "      <td>0.507093</td>\n",
       "      <td>0</td>\n",
       "      <td>2</td>\n",
       "      <td>4</td>\n",
       "      <td>9</td>\n",
       "      <td>1</td>\n",
       "      <td>1</td>\n",
       "      <td>1</td>\n",
       "      <td>1</td>\n",
       "    </tr>\n",
       "    <tr>\n",
       "      <th rowspan=\"3\" valign=\"top\">lshforest</th>\n",
       "      <th>set_256</th>\n",
       "      <td>0</td>\n",
       "      <td>1.051282</td>\n",
       "      <td>2.102564</td>\n",
       "      <td>5.223077</td>\n",
       "      <td>0.229799</td>\n",
       "      <td>0.273109</td>\n",
       "      <td>0.304966</td>\n",
       "      <td>0.343269</td>\n",
       "      <td>0</td>\n",
       "      <td>2</td>\n",
       "      <td>4</td>\n",
       "      <td>9</td>\n",
       "      <td>1</td>\n",
       "      <td>1</td>\n",
       "      <td>1</td>\n",
       "      <td>1</td>\n",
       "    </tr>\n",
       "    <tr>\n",
       "      <th>set_512_16</th>\n",
       "      <td>0</td>\n",
       "      <td>1.046154</td>\n",
       "      <td>2.092308</td>\n",
       "      <td>5.217949</td>\n",
       "      <td>0.247176</td>\n",
       "      <td>0.284317</td>\n",
       "      <td>0.311325</td>\n",
       "      <td>0.349532</td>\n",
       "      <td>0</td>\n",
       "      <td>2</td>\n",
       "      <td>4</td>\n",
       "      <td>9</td>\n",
       "      <td>1</td>\n",
       "      <td>1</td>\n",
       "      <td>1</td>\n",
       "      <td>1</td>\n",
       "    </tr>\n",
       "    <tr>\n",
       "      <th>set_512_32</th>\n",
       "      <td>0</td>\n",
       "      <td>1.041026</td>\n",
       "      <td>2.082051</td>\n",
       "      <td>5.164103</td>\n",
       "      <td>0.252186</td>\n",
       "      <td>0.288156</td>\n",
       "      <td>0.321373</td>\n",
       "      <td>0.363151</td>\n",
       "      <td>0</td>\n",
       "      <td>2</td>\n",
       "      <td>4</td>\n",
       "      <td>9</td>\n",
       "      <td>1</td>\n",
       "      <td>1</td>\n",
       "      <td>1</td>\n",
       "      <td>1</td>\n",
       "    </tr>\n",
       "  </tbody>\n",
       "</table>\n",
       "</div>"
      ],
      "text/plain": [
       "                          mean                                          \\\n",
       "                     missing_p                                  ndcg_p   \n",
       "p                           1         3         5         10        1    \n",
       "algorithm mode                                                           \n",
       "josie     set                0  0.958974  1.917949  4.315385  0.487151   \n",
       "lshforest set_256            0  1.051282  2.102564  5.223077  0.229799   \n",
       "          set_512_16         0  1.046154  2.092308  5.217949  0.247176   \n",
       "          set_512_32         0  1.041026  2.082051  5.164103  0.252186   \n",
       "\n",
       "                                                         max                  \\\n",
       "                                                   missing_p          ndcg_p   \n",
       "p                           3         5         10        1  3  5  10     1    \n",
       "algorithm mode                                                                 \n",
       "josie     set         0.485279  0.489437  0.507093         0  2  4  9      1   \n",
       "lshforest set_256     0.273109  0.304966  0.343269         0  2  4  9      1   \n",
       "          set_512_16  0.284317  0.311325  0.349532         0  2  4  9      1   \n",
       "          set_512_32  0.288156  0.321373  0.363151         0  2  4  9      1   \n",
       "\n",
       "                               \n",
       "                               \n",
       "p                    3  5  10  \n",
       "algorithm mode                 \n",
       "josie     set         1  1  1  \n",
       "lshforest set_256     1  1  1  \n",
       "          set_512_16  1  1  1  \n",
       "          set_512_32  1  1  1  "
      ]
     },
     "execution_count": 59,
     "metadata": {},
     "output_type": "execute_result"
    }
   ],
   "source": [
    "ndcg_pivot = df.pivot_table(index=['algorithm', 'mode'], columns=['p'], values=['ndcg_p', 'missing_p'], aggfunc=['mean', 'max']).convert_dtypes()\n",
    "ndcg_pivot"
   ]
  },
  {
   "cell_type": "code",
   "execution_count": 60,
   "metadata": {
    "metadata": {}
   },
   "outputs": [
    {
     "data": {
      "text/html": [
       "<div>\n",
       "<style scoped>\n",
       "    .dataframe tbody tr th:only-of-type {\n",
       "        vertical-align: middle;\n",
       "    }\n",
       "\n",
       "    .dataframe tbody tr th {\n",
       "        vertical-align: top;\n",
       "    }\n",
       "\n",
       "    .dataframe thead tr th {\n",
       "        text-align: left;\n",
       "    }\n",
       "\n",
       "    .dataframe thead tr:last-of-type th {\n",
       "        text-align: right;\n",
       "    }\n",
       "</style>\n",
       "<table border=\"1\" class=\"dataframe\">\n",
       "  <thead>\n",
       "    <tr>\n",
       "      <th></th>\n",
       "      <th></th>\n",
       "      <th colspan=\"4\" halign=\"left\">mean</th>\n",
       "      <th colspan=\"4\" halign=\"left\">max</th>\n",
       "    </tr>\n",
       "    <tr>\n",
       "      <th></th>\n",
       "      <th></th>\n",
       "      <th colspan=\"4\" halign=\"left\">ndcg_p</th>\n",
       "      <th colspan=\"4\" halign=\"left\">ndcg_p</th>\n",
       "    </tr>\n",
       "    <tr>\n",
       "      <th></th>\n",
       "      <th>p</th>\n",
       "      <th>1</th>\n",
       "      <th>3</th>\n",
       "      <th>5</th>\n",
       "      <th>10</th>\n",
       "      <th>1</th>\n",
       "      <th>3</th>\n",
       "      <th>5</th>\n",
       "      <th>10</th>\n",
       "    </tr>\n",
       "    <tr>\n",
       "      <th>algorithm</th>\n",
       "      <th>mode</th>\n",
       "      <th></th>\n",
       "      <th></th>\n",
       "      <th></th>\n",
       "      <th></th>\n",
       "      <th></th>\n",
       "      <th></th>\n",
       "      <th></th>\n",
       "      <th></th>\n",
       "    </tr>\n",
       "  </thead>\n",
       "  <tbody>\n",
       "    <tr>\n",
       "      <th>josie</th>\n",
       "      <th>set</th>\n",
       "      <td>0.487151</td>\n",
       "      <td>0.485279</td>\n",
       "      <td>0.489437</td>\n",
       "      <td>0.507093</td>\n",
       "      <td>1</td>\n",
       "      <td>1</td>\n",
       "      <td>1</td>\n",
       "      <td>1</td>\n",
       "    </tr>\n",
       "    <tr>\n",
       "      <th rowspan=\"3\" valign=\"top\">lshforest</th>\n",
       "      <th>set_256</th>\n",
       "      <td>0.229799</td>\n",
       "      <td>0.273109</td>\n",
       "      <td>0.304966</td>\n",
       "      <td>0.343269</td>\n",
       "      <td>1</td>\n",
       "      <td>1</td>\n",
       "      <td>1</td>\n",
       "      <td>1</td>\n",
       "    </tr>\n",
       "    <tr>\n",
       "      <th>set_512_16</th>\n",
       "      <td>0.247176</td>\n",
       "      <td>0.284317</td>\n",
       "      <td>0.311325</td>\n",
       "      <td>0.349532</td>\n",
       "      <td>1</td>\n",
       "      <td>1</td>\n",
       "      <td>1</td>\n",
       "      <td>1</td>\n",
       "    </tr>\n",
       "    <tr>\n",
       "      <th>set_512_32</th>\n",
       "      <td>0.252186</td>\n",
       "      <td>0.288156</td>\n",
       "      <td>0.321373</td>\n",
       "      <td>0.363151</td>\n",
       "      <td>1</td>\n",
       "      <td>1</td>\n",
       "      <td>1</td>\n",
       "      <td>1</td>\n",
       "    </tr>\n",
       "  </tbody>\n",
       "</table>\n",
       "</div>"
      ],
      "text/plain": [
       "                          mean                                  max         \n",
       "                        ndcg_p                               ndcg_p         \n",
       "p                           1         3         5         10     1  3  5  10\n",
       "algorithm mode                                                              \n",
       "josie     set         0.487151  0.485279  0.489437  0.507093      1  1  1  1\n",
       "lshforest set_256     0.229799  0.273109  0.304966  0.343269      1  1  1  1\n",
       "          set_512_16  0.247176  0.284317  0.311325  0.349532      1  1  1  1\n",
       "          set_512_32  0.252186  0.288156  0.321373  0.363151      1  1  1  1"
      ]
     },
     "execution_count": 60,
     "metadata": {},
     "output_type": "execute_result"
    }
   ],
   "source": [
    "ndcg_pivot = df.pivot_table(index=['algorithm', 'mode'], columns=['p'], values=['ndcg_p'], aggfunc=['mean', 'max']).convert_dtypes()\n",
    "ndcg_pivot"
   ]
  },
  {
   "cell_type": "code",
   "execution_count": 61,
   "metadata": {
    "metadata": {}
   },
   "outputs": [
    {
     "data": {
      "image/png": "[encoded data removed]",
      "text/plain": [
       "<Figure size 640x480 with 1 Axes>"
      ]
     },
     "metadata": {},
     "output_type": "display_data"
    }
   ],
   "source": [
    "for row, label in zip(ndcg_pivot['mean', 'ndcg_p'].values, ndcg_pivot.index):\n",
    "    plt.plot([1, 3, 5, 10], row, 'o-', label=f'{label[0]}-{label[1]}')\n",
    "plt.xticks([1, 3, 5, 10], [1, 3, 5, 10])\n",
    "plt.legend()\n",
    "plt.xlabel(\"p\")\n",
    "plt.ylabel(\"mean nDCG@p\")\n",
    "plt.grid()"
   ]
  },
  {
   "cell_type": "code",
   "execution_count": null,
   "metadata": {
    "metadata": {}
   },
   "outputs": [],
   "source": [
    "query_id = 29938\n",
    "silver_standard[query_id]"
   ]
  },
  {
   "cell_type": "code",
   "execution_count": null,
   "metadata": {},
   "outputs": [],
   "source": [
    "data = [(am[0], am[1], group[(group['sloth_overlap'] != 0) & (group['difference_overlap'] != 0)]) for am, group in results.groupby(by=['algorithm', 'mode'])]"
   ]
  },
  {
   "cell_type": "code",
   "execution_count": null,
   "metadata": {
    "metadata": {}
   },
   "outputs": [],
   "source": [
    "df = results[(results['algorithm'] == 'josie') & (results['mode'] == 'bag') & (results['query_id'] == query_id)]\n",
    "df"
   ]
  },
  {
   "cell_type": "code",
   "execution_count": null,
   "metadata": {},
   "outputs": [],
   "source": [
    "df"
   ]
  }
 ],
 "metadata": {
  "kernelspec": {
   "display_name": "nanni-tesi-env",
   "language": "python",
   "name": "python3"
  },
  "language_info": {
   "codemirror_mode": {
    "name": "ipython",
    "version": 3
   },
   "file_extension": ".py",
   "mimetype": "text/x-python",
   "name": "python",
   "nbconvert_exporter": "python",
   "pygments_lexer": "ipython3",
   "version": "3.10.13"
  }
 },
 "nbformat": 4,
 "nbformat_minor": 2
}
