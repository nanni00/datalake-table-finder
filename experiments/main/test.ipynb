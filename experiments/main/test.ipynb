{
 "cells": [
  {
   "cell_type": "code",
   "execution_count": 14,
   "metadata": {
    "metadata": {}
   },
   "outputs": [
    {
     "name": "stdout",
     "output_type": "stream",
     "text": [
      "Results table already exists\n",
      "Results table already exists\n",
      "32\n"
     ]
    }
   ],
   "source": [
    "# create a simple database where store the relation <r_id; s_id; SLOTH_overlap>\n",
    "import psycopg\n",
    "import psycopg.rows\n",
    "\n",
    "\n",
    "class ResultDatabase:\n",
    "        \n",
    "    def __init__(self, dbname, table_name='results_table'):\n",
    "        self.dbname = dbname\n",
    "        self.table_name = table_name\n",
    "        self._dbconn = psycopg.connect(f\"port=5442 host=/tmp dbname={self.dbname}\", row_factory=psycopg.rows.dict_row)\n",
    "\n",
    "        q = f\"\"\"\n",
    "            SELECT EXISTS (\n",
    "                SELECT FROM information_schema.tables \n",
    "                WHERE table_name   = '{self.table_name}'\n",
    "            );\n",
    "        \"\"\"\n",
    "\n",
    "        exists = self._dbconn.execute(q).fetchone()['exists'] == True\n",
    "        if not exists:\n",
    "            self._dbconn.execute(\n",
    "                f\"\"\"\n",
    "                CREATE TABLE {table_name} (\n",
    "                    r_id integer NOT NULL,\n",
    "                    s_id integer NOT NULL,\n",
    "                    sloth_overlap integer NOT NULL,\n",
    "                    PRIMARY KEY (r_id, s_id)\n",
    "                );\n",
    "\n",
    "                CREATE INDEX {table_name}_r_id_index ON {table_name}(r_id);\n",
    "                \"\"\"\n",
    "            )\n",
    "        else:\n",
    "            print('Results table already exists')\n",
    "\n",
    "        self._dbconn.commit()\n",
    "\n",
    "    def insert_results(self, values:list[list[int,int,int]]):\n",
    "        self._dbconn.cursor().executemany(f\"INSERT INTO {self.table_name} VALUES(%s, %s, %s)\", values)\n",
    "        self._dbconn.commit()\n",
    "\n",
    "    def lookup_result_table(self, r_id, s_id):\n",
    "        \"\"\" Where the r_id < s_id \"\"\"\n",
    "\n",
    "        result = self._dbconn.execute(\n",
    "            f\"\"\"\n",
    "            SELECT sloth_overlap FROM {self.table_name}\n",
    "            WHERE r_id = {r_id} AND s_id = {s_id}\n",
    "            \"\"\"\n",
    "        ).fetchone()\n",
    "\n",
    "        return None if len(result) == 0 else result['sloth_overlap']\n",
    "        \n",
    "    def clear(self):\n",
    "        self._dbconn.execute(f\"TRUNCATE {self.table_name};\")\n",
    "        self._dbconn.commit()\n",
    "\n",
    "    def close(self):\n",
    "        self._dbconn.close()\n",
    "\n",
    "\n",
    "rdb = ResultDatabase('nanni')\n",
    "rdb.insert_results([[111, 222, 6], [111, 555, 32], [333, 777, 9]])\n",
    "\n",
    "print(rdb.lookup_result_table(111, 555))\n",
    "rdb.close()\n",
    "\n"
   ]
  }
 ],
 "metadata": {
  "kernelspec": {
   "display_name": "nanni-tesi-env",
   "language": "python",
   "name": "python3"
  },
  "language_info": {
   "codemirror_mode": {
    "name": "ipython",
    "version": 3
   },
   "file_extension": ".py",
   "mimetype": "text/x-python",
   "name": "python",
   "nbconvert_exporter": "python",
   "pygments_lexer": "ipython3",
   "version": "3.10.14"
  }
 },
 "nbformat": 4,
 "nbformat_minor": 2
}
