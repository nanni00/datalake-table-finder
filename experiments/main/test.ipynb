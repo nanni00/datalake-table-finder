{
 "cells": [
  {
   "cell_type": "code",
   "execution_count": 1,
   "metadata": {
    "metadata": {}
   },
   "outputs": [],
   "source": [
    "import os\n",
    "import psycopg\n",
    "import pymongo\n",
    "import statistics\n",
    "import pandas as pd\n",
    "from tqdm import tqdm\n",
    "from collections import defaultdict \n",
    "import binascii\n",
    "\n",
    "from tools.utils.utils import get_mongodb_collections, get_one_document_from_mongodb_by_key, _create_token_set, get_initial_spark_rdd"
   ]
  },
  {
   "cell_type": "code",
   "execution_count": null,
   "metadata": {
    "metadata": {}
   },
   "outputs": [],
   "source": [
    "mc, coll = get_mongodb_collections('gittables', False)\n",
    "\n",
    "doc = get_one_document_from_mongodb_by_key('_id_numeric', 8, *coll)\n",
    "pd.DataFrame(doc['content'])"
   ]
  },
  {
   "cell_type": "code",
   "execution_count": null,
   "metadata": {
    "metadata": {}
   },
   "outputs": [],
   "source": [
    "pd.isna(doc['content'][26][1])"
   ]
  },
  {
   "cell_type": "code",
   "execution_count": null,
   "metadata": {
    "metadata": {}
   },
   "outputs": [],
   "source": [
    "pd.DataFrame(doc['content']).isna().sum()"
   ]
  },
  {
   "cell_type": "code",
   "execution_count": null,
   "metadata": {
    "metadata": {}
   },
   "outputs": [],
   "source": [
    "ts = _create_token_set(doc['content'], 'set', doc['numeric_columns'])\n",
    "sorted(ts)"
   ]
  },
  {
   "cell_type": "code",
   "execution_count": null,
   "metadata": {
    "metadata": {}
   },
   "outputs": [],
   "source": [
    "'{\"$numberDouble\": \"NaN\"}' in ts, \"NaN\" in ts"
   ]
  },
  {
   "cell_type": "code",
   "execution_count": 2,
   "metadata": {
    "metadata": {}
   },
   "outputs": [
    {
     "name": "stdout",
     "output_type": "stream",
     "text": [
      ":: loading settings :: url = jar:file:/data4/nanni/anaconda3/envs/nanni-tesi-env/lib/python3.10/site-packages/pyspark/jars/ivy-2.5.1.jar!/org/apache/ivy/core/settings/ivysettings.xml\n"
     ]
    },
    {
     "name": "stderr",
     "output_type": "stream",
     "text": [
      "Ivy Default Cache set to: /home/nanni/.ivy2/cache\n",
      "The jars for the packages stored in: /home/nanni/.ivy2/jars\n",
      "org.postgresql#postgresql added as a dependency\n",
      "org.mongodb.spark#mongo-spark-connector_2.12 added as a dependency\n",
      ":: resolving dependencies :: org.apache.spark#spark-submit-parent-43a0d198-42cd-4796-98ab-15b891de7387;1.0\n",
      "\tconfs: [default]\n",
      "\tfound org.postgresql#postgresql;42.7.3 in central\n",
      "\tfound org.checkerframework#checker-qual;3.42.0 in central\n",
      "\tfound org.mongodb.spark#mongo-spark-connector_2.12;10.3.0 in central\n",
      "\tfound org.mongodb#mongodb-driver-sync;4.8.2 in central\n",
      "\t[4.8.2] org.mongodb#mongodb-driver-sync;[4.8.1,4.8.99)\n",
      "\tfound org.mongodb#bson;4.8.2 in central\n",
      "\tfound org.mongodb#mongodb-driver-core;4.8.2 in central\n",
      "\tfound org.mongodb#bson-record-codec;4.8.2 in central\n",
      ":: resolution report :: resolve 2004ms :: artifacts dl 8ms\n",
      "\t:: modules in use:\n",
      "\torg.checkerframework#checker-qual;3.42.0 from central in [default]\n",
      "\torg.mongodb#bson;4.8.2 from central in [default]\n",
      "\torg.mongodb#bson-record-codec;4.8.2 from central in [default]\n",
      "\torg.mongodb#mongodb-driver-core;4.8.2 from central in [default]\n",
      "\torg.mongodb#mongodb-driver-sync;4.8.2 from central in [default]\n",
      "\torg.mongodb.spark#mongo-spark-connector_2.12;10.3.0 from central in [default]\n",
      "\torg.postgresql#postgresql;42.7.3 from central in [default]\n",
      "\t---------------------------------------------------------------------\n",
      "\t|                  |            modules            ||   artifacts   |\n",
      "\t|       conf       | number| search|dwnlded|evicted|| number|dwnlded|\n",
      "\t---------------------------------------------------------------------\n",
      "\t|      default     |   7   |   1   |   0   |   0   ||   7   |   0   |\n",
      "\t---------------------------------------------------------------------\n",
      ":: retrieving :: org.apache.spark#spark-submit-parent-43a0d198-42cd-4796-98ab-15b891de7387\n",
      "\tconfs: [default]\n",
      "\t0 artifacts copied, 7 already retrieved (0kB/7ms)\n",
      "24/07/27 10:00:08 WARN NativeCodeLoader: Unable to load native-hadoop library for your platform... using builtin-java classes where applicable\n",
      "Setting default log level to \"WARN\".\n",
      "To adjust logging level use sc.setLogLevel(newLevel). For SparkR, use setLogLevel(newLevel).\n",
      "24/07/27 10:00:08 WARN SparkConf: Note that spark.local.dir will be overridden by the value set by the cluster manager (via SPARK_LOCAL_DIRS in mesos/standalone/kubernetes and LOCAL_DIRS in YARN).\n",
      "{\"$numberDouble\": \"NaN\"} <class 'str'> False True                   (0 + 1) / 1]\n",
      "                                                                                \r"
     ]
    }
   ],
   "source": [
    "spark_jars_packages = [\n",
    "    'org.postgresql:postgresql:42.7.3',\n",
    "    'org.mongodb.spark:mongo-spark-connector_2.12:10.3.0'\n",
    "]\n",
    "\n",
    "# filtering only those tables that have very few cells (<10)\n",
    "tables_thresholds = {\n",
    "    'min_row':      5,\n",
    "    'min_column':   2,\n",
    "    'min_area':     0,\n",
    "    'max_row':      999999,\n",
    "    'max_column':   999999,\n",
    "    'max_area':     999999,\n",
    "}\n",
    "\n",
    "spark, initial_rdd = get_initial_spark_rdd('gittables', True, 72, tables_thresholds, spark_jars_packages)\n",
    "\n",
    "mode = 'set'\n",
    "\n",
    "def prepare_tuple(t):\n",
    "    global mode\n",
    "    # t = (_id_numeric, content, numeric_columns)\n",
    "    if t[0] == 8:\n",
    "        print(t[1][26][1], type(t[1][26][1]), pd.isna(t[1][26][1]), bool(t[1][26][1]))\n",
    "    return [t[0], _create_token_set(t[1], mode, t[2])]    \n",
    "\n",
    "token_sets = (\n",
    "    initial_rdd\n",
    "        .map(\n",
    "            # from MongoDB directly\n",
    "            # (_id_numeric, content, numeric_columns) -> (_id_numeric, [token1, token2, token3, ...])\n",
    "            lambda t: prepare_tuple(t)\n",
    "        )\n",
    "            .flatMap(\n",
    "                # (set_id, [tok1, tok2, tok3, ...]) -> [(tok1, set_id), (tok2, set_id), ...]\n",
    "                lambda t: [ (token, t[0]) for token in t[1]]\n",
    "            )\n",
    ")\n",
    "\n",
    "import mmh3\n",
    "import numpy as np\n",
    "\n",
    "\n",
    "posting_lists_sorted = (\n",
    "    token_sets\n",
    "        .groupByKey()\n",
    "            .map(\n",
    "                # (token, [set_idK, set_idJ, set_idM, ...]) -> (token, [set_id1, set_id2, set_id3, ..., set_idZ]) \n",
    "                lambda t: (t[0], sorted(list(t[1]))))\n",
    "                .map(\n",
    "                    # (token, set_ids) -> (token, set_ids, set_ids_hash)\n",
    "                    lambda t:\n",
    "                        (\n",
    "                            t[0], \n",
    "                            t[1]\n",
    "                        )\n",
    "                    )\n",
    "                    .sortBy(\n",
    "                        # t: (token, setIDs, hash)\n",
    "                        lambda t: (len(t[1]), t[1]))                            \n",
    ").collect()"
   ]
  },
  {
   "cell_type": "code",
   "execution_count": 3,
   "metadata": {
    "metadata": {}
   },
   "outputs": [],
   "source": [
    "posting_lists_sorted = {p[0]: p[1] for p in posting_lists_sorted}"
   ]
  },
  {
   "cell_type": "code",
   "execution_count": 4,
   "metadata": {
    "metadata": {}
   },
   "outputs": [
    {
     "ename": "KeyError",
     "evalue": "'{\"$numberDouble\": \"NaN\"}'",
     "output_type": "error",
     "traceback": [
      "\u001b[0;31m---------------------------------------------------------------------------\u001b[0m",
      "\u001b[0;31mKeyError\u001b[0m                                  Traceback (most recent call last)",
      "Cell \u001b[0;32mIn[4], line 1\u001b[0m\n\u001b[0;32m----> 1\u001b[0m \u001b[43mposting_lists_sorted\u001b[49m\u001b[43m[\u001b[49m\u001b[38;5;124;43m'\u001b[39;49m\u001b[38;5;124;43m{\u001b[39;49m\u001b[38;5;124;43m\"\u001b[39;49m\u001b[38;5;124;43m$numberDouble\u001b[39;49m\u001b[38;5;124;43m\"\u001b[39;49m\u001b[38;5;124;43m: \u001b[39;49m\u001b[38;5;124;43m\"\u001b[39;49m\u001b[38;5;124;43mNaN\u001b[39;49m\u001b[38;5;124;43m\"\u001b[39;49m\u001b[38;5;124;43m}\u001b[39;49m\u001b[38;5;124;43m'\u001b[39;49m\u001b[43m]\u001b[49m\n",
      "\u001b[0;31mKeyError\u001b[0m: '{\"$numberDouble\": \"NaN\"}'"
     ]
    }
   ],
   "source": [
    "posting_lists_sorted['{\"$numberDouble\": \"NaN\"}']"
   ]
  },
  {
   "cell_type": "code",
   "execution_count": null,
   "metadata": {
    "metadata": {}
   },
   "outputs": [],
   "source": [
    "str(posting_lists_sorted)[3540079-50:3540079+5]"
   ]
  }
 ],
 "metadata": {
  "kernelspec": {
   "display_name": "nanni-tesi-env",
   "language": "python",
   "name": "python3"
  },
  "language_info": {
   "codemirror_mode": {
    "name": "ipython",
    "version": 3
   },
   "file_extension": ".py",
   "mimetype": "text/x-python",
   "name": "python",
   "nbconvert_exporter": "python",
   "pygments_lexer": "ipython3",
   "version": "3.10.14"
  }
 },
 "nbformat": 4,
 "nbformat_minor": 2
}
