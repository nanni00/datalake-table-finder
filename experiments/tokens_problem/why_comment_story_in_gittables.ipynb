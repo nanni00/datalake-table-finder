{
 "cells": [
  {
   "cell_type": "code",
   "execution_count": 114,
   "metadata": {
    "metadata": {}
   },
   "outputs": [],
   "source": [
    "import os\n",
    "import subprocess\n",
    "import pandas as pd\n",
    "import pyarrow.parquet"
   ]
  },
  {
   "cell_type": "code",
   "execution_count": 16,
   "metadata": {
    "metadata": {}
   },
   "outputs": [],
   "source": [
    "table_id = \"question_time_csv_licensed.zip_02-03_352.csv\"\n",
    "csv_folder_path = \"/data3/zecca/projects/sloth/armadillo/gittables/dataset/tables_csv\"\n",
    "\n",
    "table_path = f'{csv_folder_path}/{table_id}'"
   ]
  },
  {
   "cell_type": "code",
   "execution_count": 18,
   "metadata": {
    "metadata": {}
   },
   "outputs": [
    {
     "data": {
      "text/plain": [
       "False"
      ]
     },
     "execution_count": 18,
     "metadata": {},
     "output_type": "execute_result"
    }
   ],
   "source": [
    "os.path.exists(csv_folder_path)"
   ]
  },
  {
   "cell_type": "code",
   "execution_count": 17,
   "metadata": {
    "metadata": {}
   },
   "outputs": [
    {
     "ename": "FileNotFoundError",
     "evalue": "[Errno 2] No such file or directory: '/data3/zecca/projects/sloth/armadillo/gittables/dataset/parquet_tables/0_Sheik_0_tweets.parquet'",
     "output_type": "error",
     "traceback": [
      "\u001b[0;31m---------------------------------------------------------------------------\u001b[0m",
      "\u001b[0;31mFileNotFoundError\u001b[0m                         Traceback (most recent call last)",
      "Cell \u001b[0;32mIn[17], line 1\u001b[0m\n\u001b[0;32m----> 1\u001b[0m table \u001b[38;5;241m=\u001b[39m \u001b[43mpd\u001b[49m\u001b[38;5;241;43m.\u001b[39;49m\u001b[43mread_csv\u001b[49m\u001b[43m(\u001b[49m\u001b[43mtable_path\u001b[49m\u001b[43m)\u001b[49m\n\u001b[1;32m      2\u001b[0m table\n",
      "File \u001b[0;32m/data4/nanni/anaconda3/envs/nanni-tesi-env/lib/python3.10/site-packages/pandas/io/parsers/readers.py:1026\u001b[0m, in \u001b[0;36mread_csv\u001b[0;34m(filepath_or_buffer, sep, delimiter, header, names, index_col, usecols, dtype, engine, converters, true_values, false_values, skipinitialspace, skiprows, skipfooter, nrows, na_values, keep_default_na, na_filter, verbose, skip_blank_lines, parse_dates, infer_datetime_format, keep_date_col, date_parser, date_format, dayfirst, cache_dates, iterator, chunksize, compression, thousands, decimal, lineterminator, quotechar, quoting, doublequote, escapechar, comment, encoding, encoding_errors, dialect, on_bad_lines, delim_whitespace, low_memory, memory_map, float_precision, storage_options, dtype_backend)\u001b[0m\n\u001b[1;32m   1013\u001b[0m kwds_defaults \u001b[38;5;241m=\u001b[39m _refine_defaults_read(\n\u001b[1;32m   1014\u001b[0m     dialect,\n\u001b[1;32m   1015\u001b[0m     delimiter,\n\u001b[0;32m   (...)\u001b[0m\n\u001b[1;32m   1022\u001b[0m     dtype_backend\u001b[38;5;241m=\u001b[39mdtype_backend,\n\u001b[1;32m   1023\u001b[0m )\n\u001b[1;32m   1024\u001b[0m kwds\u001b[38;5;241m.\u001b[39mupdate(kwds_defaults)\n\u001b[0;32m-> 1026\u001b[0m \u001b[38;5;28;01mreturn\u001b[39;00m \u001b[43m_read\u001b[49m\u001b[43m(\u001b[49m\u001b[43mfilepath_or_buffer\u001b[49m\u001b[43m,\u001b[49m\u001b[43m \u001b[49m\u001b[43mkwds\u001b[49m\u001b[43m)\u001b[49m\n",
      "File \u001b[0;32m/data4/nanni/anaconda3/envs/nanni-tesi-env/lib/python3.10/site-packages/pandas/io/parsers/readers.py:620\u001b[0m, in \u001b[0;36m_read\u001b[0;34m(filepath_or_buffer, kwds)\u001b[0m\n\u001b[1;32m    617\u001b[0m _validate_names(kwds\u001b[38;5;241m.\u001b[39mget(\u001b[38;5;124m\"\u001b[39m\u001b[38;5;124mnames\u001b[39m\u001b[38;5;124m\"\u001b[39m, \u001b[38;5;28;01mNone\u001b[39;00m))\n\u001b[1;32m    619\u001b[0m \u001b[38;5;66;03m# Create the parser.\u001b[39;00m\n\u001b[0;32m--> 620\u001b[0m parser \u001b[38;5;241m=\u001b[39m \u001b[43mTextFileReader\u001b[49m\u001b[43m(\u001b[49m\u001b[43mfilepath_or_buffer\u001b[49m\u001b[43m,\u001b[49m\u001b[43m \u001b[49m\u001b[38;5;241;43m*\u001b[39;49m\u001b[38;5;241;43m*\u001b[39;49m\u001b[43mkwds\u001b[49m\u001b[43m)\u001b[49m\n\u001b[1;32m    622\u001b[0m \u001b[38;5;28;01mif\u001b[39;00m chunksize \u001b[38;5;129;01mor\u001b[39;00m iterator:\n\u001b[1;32m    623\u001b[0m     \u001b[38;5;28;01mreturn\u001b[39;00m parser\n",
      "File \u001b[0;32m/data4/nanni/anaconda3/envs/nanni-tesi-env/lib/python3.10/site-packages/pandas/io/parsers/readers.py:1620\u001b[0m, in \u001b[0;36mTextFileReader.__init__\u001b[0;34m(self, f, engine, **kwds)\u001b[0m\n\u001b[1;32m   1617\u001b[0m     \u001b[38;5;28mself\u001b[39m\u001b[38;5;241m.\u001b[39moptions[\u001b[38;5;124m\"\u001b[39m\u001b[38;5;124mhas_index_names\u001b[39m\u001b[38;5;124m\"\u001b[39m] \u001b[38;5;241m=\u001b[39m kwds[\u001b[38;5;124m\"\u001b[39m\u001b[38;5;124mhas_index_names\u001b[39m\u001b[38;5;124m\"\u001b[39m]\n\u001b[1;32m   1619\u001b[0m \u001b[38;5;28mself\u001b[39m\u001b[38;5;241m.\u001b[39mhandles: IOHandles \u001b[38;5;241m|\u001b[39m \u001b[38;5;28;01mNone\u001b[39;00m \u001b[38;5;241m=\u001b[39m \u001b[38;5;28;01mNone\u001b[39;00m\n\u001b[0;32m-> 1620\u001b[0m \u001b[38;5;28mself\u001b[39m\u001b[38;5;241m.\u001b[39m_engine \u001b[38;5;241m=\u001b[39m \u001b[38;5;28;43mself\u001b[39;49m\u001b[38;5;241;43m.\u001b[39;49m\u001b[43m_make_engine\u001b[49m\u001b[43m(\u001b[49m\u001b[43mf\u001b[49m\u001b[43m,\u001b[49m\u001b[43m \u001b[49m\u001b[38;5;28;43mself\u001b[39;49m\u001b[38;5;241;43m.\u001b[39;49m\u001b[43mengine\u001b[49m\u001b[43m)\u001b[49m\n",
      "File \u001b[0;32m/data4/nanni/anaconda3/envs/nanni-tesi-env/lib/python3.10/site-packages/pandas/io/parsers/readers.py:1880\u001b[0m, in \u001b[0;36mTextFileReader._make_engine\u001b[0;34m(self, f, engine)\u001b[0m\n\u001b[1;32m   1878\u001b[0m     \u001b[38;5;28;01mif\u001b[39;00m \u001b[38;5;124m\"\u001b[39m\u001b[38;5;124mb\u001b[39m\u001b[38;5;124m\"\u001b[39m \u001b[38;5;129;01mnot\u001b[39;00m \u001b[38;5;129;01min\u001b[39;00m mode:\n\u001b[1;32m   1879\u001b[0m         mode \u001b[38;5;241m+\u001b[39m\u001b[38;5;241m=\u001b[39m \u001b[38;5;124m\"\u001b[39m\u001b[38;5;124mb\u001b[39m\u001b[38;5;124m\"\u001b[39m\n\u001b[0;32m-> 1880\u001b[0m \u001b[38;5;28mself\u001b[39m\u001b[38;5;241m.\u001b[39mhandles \u001b[38;5;241m=\u001b[39m \u001b[43mget_handle\u001b[49m\u001b[43m(\u001b[49m\n\u001b[1;32m   1881\u001b[0m \u001b[43m    \u001b[49m\u001b[43mf\u001b[49m\u001b[43m,\u001b[49m\n\u001b[1;32m   1882\u001b[0m \u001b[43m    \u001b[49m\u001b[43mmode\u001b[49m\u001b[43m,\u001b[49m\n\u001b[1;32m   1883\u001b[0m \u001b[43m    \u001b[49m\u001b[43mencoding\u001b[49m\u001b[38;5;241;43m=\u001b[39;49m\u001b[38;5;28;43mself\u001b[39;49m\u001b[38;5;241;43m.\u001b[39;49m\u001b[43moptions\u001b[49m\u001b[38;5;241;43m.\u001b[39;49m\u001b[43mget\u001b[49m\u001b[43m(\u001b[49m\u001b[38;5;124;43m\"\u001b[39;49m\u001b[38;5;124;43mencoding\u001b[39;49m\u001b[38;5;124;43m\"\u001b[39;49m\u001b[43m,\u001b[49m\u001b[43m \u001b[49m\u001b[38;5;28;43;01mNone\u001b[39;49;00m\u001b[43m)\u001b[49m\u001b[43m,\u001b[49m\n\u001b[1;32m   1884\u001b[0m \u001b[43m    \u001b[49m\u001b[43mcompression\u001b[49m\u001b[38;5;241;43m=\u001b[39;49m\u001b[38;5;28;43mself\u001b[39;49m\u001b[38;5;241;43m.\u001b[39;49m\u001b[43moptions\u001b[49m\u001b[38;5;241;43m.\u001b[39;49m\u001b[43mget\u001b[49m\u001b[43m(\u001b[49m\u001b[38;5;124;43m\"\u001b[39;49m\u001b[38;5;124;43mcompression\u001b[39;49m\u001b[38;5;124;43m\"\u001b[39;49m\u001b[43m,\u001b[49m\u001b[43m \u001b[49m\u001b[38;5;28;43;01mNone\u001b[39;49;00m\u001b[43m)\u001b[49m\u001b[43m,\u001b[49m\n\u001b[1;32m   1885\u001b[0m \u001b[43m    \u001b[49m\u001b[43mmemory_map\u001b[49m\u001b[38;5;241;43m=\u001b[39;49m\u001b[38;5;28;43mself\u001b[39;49m\u001b[38;5;241;43m.\u001b[39;49m\u001b[43moptions\u001b[49m\u001b[38;5;241;43m.\u001b[39;49m\u001b[43mget\u001b[49m\u001b[43m(\u001b[49m\u001b[38;5;124;43m\"\u001b[39;49m\u001b[38;5;124;43mmemory_map\u001b[39;49m\u001b[38;5;124;43m\"\u001b[39;49m\u001b[43m,\u001b[49m\u001b[43m \u001b[49m\u001b[38;5;28;43;01mFalse\u001b[39;49;00m\u001b[43m)\u001b[49m\u001b[43m,\u001b[49m\n\u001b[1;32m   1886\u001b[0m \u001b[43m    \u001b[49m\u001b[43mis_text\u001b[49m\u001b[38;5;241;43m=\u001b[39;49m\u001b[43mis_text\u001b[49m\u001b[43m,\u001b[49m\n\u001b[1;32m   1887\u001b[0m \u001b[43m    \u001b[49m\u001b[43merrors\u001b[49m\u001b[38;5;241;43m=\u001b[39;49m\u001b[38;5;28;43mself\u001b[39;49m\u001b[38;5;241;43m.\u001b[39;49m\u001b[43moptions\u001b[49m\u001b[38;5;241;43m.\u001b[39;49m\u001b[43mget\u001b[49m\u001b[43m(\u001b[49m\u001b[38;5;124;43m\"\u001b[39;49m\u001b[38;5;124;43mencoding_errors\u001b[39;49m\u001b[38;5;124;43m\"\u001b[39;49m\u001b[43m,\u001b[49m\u001b[43m \u001b[49m\u001b[38;5;124;43m\"\u001b[39;49m\u001b[38;5;124;43mstrict\u001b[39;49m\u001b[38;5;124;43m\"\u001b[39;49m\u001b[43m)\u001b[49m\u001b[43m,\u001b[49m\n\u001b[1;32m   1888\u001b[0m \u001b[43m    \u001b[49m\u001b[43mstorage_options\u001b[49m\u001b[38;5;241;43m=\u001b[39;49m\u001b[38;5;28;43mself\u001b[39;49m\u001b[38;5;241;43m.\u001b[39;49m\u001b[43moptions\u001b[49m\u001b[38;5;241;43m.\u001b[39;49m\u001b[43mget\u001b[49m\u001b[43m(\u001b[49m\u001b[38;5;124;43m\"\u001b[39;49m\u001b[38;5;124;43mstorage_options\u001b[39;49m\u001b[38;5;124;43m\"\u001b[39;49m\u001b[43m,\u001b[49m\u001b[43m \u001b[49m\u001b[38;5;28;43;01mNone\u001b[39;49;00m\u001b[43m)\u001b[49m\u001b[43m,\u001b[49m\n\u001b[1;32m   1889\u001b[0m \u001b[43m\u001b[49m\u001b[43m)\u001b[49m\n\u001b[1;32m   1890\u001b[0m \u001b[38;5;28;01massert\u001b[39;00m \u001b[38;5;28mself\u001b[39m\u001b[38;5;241m.\u001b[39mhandles \u001b[38;5;129;01mis\u001b[39;00m \u001b[38;5;129;01mnot\u001b[39;00m \u001b[38;5;28;01mNone\u001b[39;00m\n\u001b[1;32m   1891\u001b[0m f \u001b[38;5;241m=\u001b[39m \u001b[38;5;28mself\u001b[39m\u001b[38;5;241m.\u001b[39mhandles\u001b[38;5;241m.\u001b[39mhandle\n",
      "File \u001b[0;32m/data4/nanni/anaconda3/envs/nanni-tesi-env/lib/python3.10/site-packages/pandas/io/common.py:873\u001b[0m, in \u001b[0;36mget_handle\u001b[0;34m(path_or_buf, mode, encoding, compression, memory_map, is_text, errors, storage_options)\u001b[0m\n\u001b[1;32m    868\u001b[0m \u001b[38;5;28;01melif\u001b[39;00m \u001b[38;5;28misinstance\u001b[39m(handle, \u001b[38;5;28mstr\u001b[39m):\n\u001b[1;32m    869\u001b[0m     \u001b[38;5;66;03m# Check whether the filename is to be opened in binary mode.\u001b[39;00m\n\u001b[1;32m    870\u001b[0m     \u001b[38;5;66;03m# Binary mode does not support 'encoding' and 'newline'.\u001b[39;00m\n\u001b[1;32m    871\u001b[0m     \u001b[38;5;28;01mif\u001b[39;00m ioargs\u001b[38;5;241m.\u001b[39mencoding \u001b[38;5;129;01mand\u001b[39;00m \u001b[38;5;124m\"\u001b[39m\u001b[38;5;124mb\u001b[39m\u001b[38;5;124m\"\u001b[39m \u001b[38;5;129;01mnot\u001b[39;00m \u001b[38;5;129;01min\u001b[39;00m ioargs\u001b[38;5;241m.\u001b[39mmode:\n\u001b[1;32m    872\u001b[0m         \u001b[38;5;66;03m# Encoding\u001b[39;00m\n\u001b[0;32m--> 873\u001b[0m         handle \u001b[38;5;241m=\u001b[39m \u001b[38;5;28;43mopen\u001b[39;49m\u001b[43m(\u001b[49m\n\u001b[1;32m    874\u001b[0m \u001b[43m            \u001b[49m\u001b[43mhandle\u001b[49m\u001b[43m,\u001b[49m\n\u001b[1;32m    875\u001b[0m \u001b[43m            \u001b[49m\u001b[43mioargs\u001b[49m\u001b[38;5;241;43m.\u001b[39;49m\u001b[43mmode\u001b[49m\u001b[43m,\u001b[49m\n\u001b[1;32m    876\u001b[0m \u001b[43m            \u001b[49m\u001b[43mencoding\u001b[49m\u001b[38;5;241;43m=\u001b[39;49m\u001b[43mioargs\u001b[49m\u001b[38;5;241;43m.\u001b[39;49m\u001b[43mencoding\u001b[49m\u001b[43m,\u001b[49m\n\u001b[1;32m    877\u001b[0m \u001b[43m            \u001b[49m\u001b[43merrors\u001b[49m\u001b[38;5;241;43m=\u001b[39;49m\u001b[43merrors\u001b[49m\u001b[43m,\u001b[49m\n\u001b[1;32m    878\u001b[0m \u001b[43m            \u001b[49m\u001b[43mnewline\u001b[49m\u001b[38;5;241;43m=\u001b[39;49m\u001b[38;5;124;43m\"\u001b[39;49m\u001b[38;5;124;43m\"\u001b[39;49m\u001b[43m,\u001b[49m\n\u001b[1;32m    879\u001b[0m \u001b[43m        \u001b[49m\u001b[43m)\u001b[49m\n\u001b[1;32m    880\u001b[0m     \u001b[38;5;28;01melse\u001b[39;00m:\n\u001b[1;32m    881\u001b[0m         \u001b[38;5;66;03m# Binary mode\u001b[39;00m\n\u001b[1;32m    882\u001b[0m         handle \u001b[38;5;241m=\u001b[39m \u001b[38;5;28mopen\u001b[39m(handle, ioargs\u001b[38;5;241m.\u001b[39mmode)\n",
      "\u001b[0;31mFileNotFoundError\u001b[0m: [Errno 2] No such file or directory: '/data3/zecca/projects/sloth/armadillo/gittables/dataset/parquet_tables/0_Sheik_0_tweets.parquet'"
     ]
    }
   ],
   "source": [
    "table = pd.read_csv(table_path)\n",
    "table"
   ]
  },
  {
   "cell_type": "code",
   "execution_count": 9,
   "metadata": {
    "metadata": {}
   },
   "outputs": [
    {
     "data": {
      "text/plain": [
       "'We\\'re not trying to compete for attention in the social web. Part of that is reflected in our involvement with the W3C Open Annotation Working Group (<a href=\"http://www.w3.org/community/openannotation/\" rel=\"nofollow\">http://www.w3.org/community/openannotation/</a>). While Hypothes.is may be one place to publish, the goal is to provide better linking and referencing tools to facilitate aggregators and plugins that can bring the conversation back to the source material. In other words, to bring this conversation on HN into the RWW frame and vice versa and to allow better quoting and transclusion between these content silos.'"
      ]
     },
     "execution_count": 9,
     "metadata": {},
     "output_type": "execute_result"
    }
   ],
   "source": [
    "table['Content'][3]"
   ]
  },
  {
   "cell_type": "code",
   "execution_count": 138,
   "metadata": {
    "metadata": {}
   },
   "outputs": [
    {
     "name": "stderr",
     "output_type": "stream",
     "text": [
      "100%|██████████| 759970/759970 [05:30<00:00, 2301.10it/s]\n"
     ]
    }
   ],
   "source": [
    "from tqdm import tqdm\n",
    "from tools.utils.mongodb_utils import get_mongodb_collections\n",
    "\n",
    "\n",
    "mongoclient, collections = get_mongodb_collections('gittables', 'standard')\n",
    "\n",
    "tables_story = []\n",
    "tables_comment = []\n",
    "\n",
    "for collection in collections:\n",
    "    for document in tqdm(collection.find({}), total=collection.count_documents({})):\n",
    "        content = document['content']\n",
    "        content = {cell for row in content for cell in row}\n",
    "        if 'story' in content:\n",
    "            tables_story.append(document['_id'])\n",
    "        if 'comment' in content:\n",
    "            tables_comment.append(document['_id'])\n"
   ]
  },
  {
   "cell_type": "code",
   "execution_count": 139,
   "metadata": {
    "metadata": {}
   },
   "outputs": [
    {
     "name": "stderr",
     "output_type": "stream",
     "text": [
      "100%|██████████| 296041/296041 [00:00<00:00, 1506231.40it/s]\n"
     ]
    }
   ],
   "source": [
    "with open('tables_story.txt', 'w') as fs:\n",
    "    for tabid in tqdm(tables_story):\n",
    "        fs.write(f'{tabid}\\n')"
   ]
  },
  {
   "cell_type": "code",
   "execution_count": 140,
   "metadata": {
    "metadata": {}
   },
   "outputs": [
    {
     "name": "stderr",
     "output_type": "stream",
     "text": [
      "100%|██████████| 295973/295973 [00:00<00:00, 1625044.49it/s]\n"
     ]
    }
   ],
   "source": [
    "with open('tables_comment.txt', 'w') as fs:\n",
    "    for tabid in tqdm(tables_comment):\n",
    "        fs.write(f'{tabid}\\n')"
   ]
  },
  {
   "cell_type": "code",
   "execution_count": 23,
   "metadata": {
    "metadata": {}
   },
   "outputs": [],
   "source": [
    "with open('tables_story.txt', 'r') as fs:\n",
    "    tables_story = fs.readlines()"
   ]
  },
  {
   "cell_type": "code",
   "execution_count": 134,
   "metadata": {
    "metadata": {}
   },
   "outputs": [],
   "source": [
    "with open('tables_comment.txt', 'r') as fs:\n",
    "    tables_comment = fs.readlines()"
   ]
  },
  {
   "cell_type": "code",
   "execution_count": 141,
   "metadata": {
    "metadata": {}
   },
   "outputs": [
    {
     "data": {
      "text/plain": [
       "(296041, 295973)"
      ]
     },
     "execution_count": 141,
     "metadata": {},
     "output_type": "execute_result"
    }
   ],
   "source": [
    "len(tables_story), len(tables_comment)"
   ]
  },
  {
   "cell_type": "code",
   "execution_count": 142,
   "metadata": {
    "metadata": {}
   },
   "outputs": [
    {
     "data": {
      "text/plain": [
       "292792"
      ]
     },
     "execution_count": 142,
     "metadata": {},
     "output_type": "execute_result"
    }
   ],
   "source": [
    "len(set(tables_story).intersection(set(tables_comment)))"
   ]
  },
  {
   "cell_type": "code",
   "execution_count": 137,
   "metadata": {
    "metadata": {}
   },
   "outputs": [
    {
     "data": {
      "text/plain": [
       "['0\\n', '2\\n', '3\\n']"
      ]
     },
     "execution_count": 137,
     "metadata": {},
     "output_type": "execute_result"
    }
   ],
   "source": [
    "tables_comment[:3]"
   ]
  },
  {
   "cell_type": "code",
   "execution_count": 25,
   "metadata": {
    "metadata": {}
   },
   "outputs": [
    {
     "data": {
      "text/plain": [
       "['question_time_csv_licensed.zip_02-03_352.csv\\n',\n",
       " 'whole_csv_licensed.zip_01-02_411.csv\\n',\n",
       " 'parent_csv_licensed.zip_10-11_968.csv\\n',\n",
       " 'terminal_velocity_csv_licensed.zip_03-04_1.csv\\n',\n",
       " 'living_thing_csv_licensed.zip_02-03_231.csv\\n',\n",
       " 'whole_csv_licensed.zip_07-08_941.csv\\n',\n",
       " 'living_thing_csv_licensed.zip_00-01_331.csv\\n',\n",
       " 'parent_csv_licensed.zip_15-16_600.csv\\n',\n",
       " 'parent_csv_licensed.zip_03-04_88.csv\\n',\n",
       " 'whole_csv_licensed.zip_02-03_1059.csv\\n']"
      ]
     },
     "execution_count": 25,
     "metadata": {},
     "output_type": "execute_result"
    }
   ],
   "source": [
    "tables_story[:10]"
   ]
  },
  {
   "cell_type": "code",
   "execution_count": 26,
   "metadata": {
    "metadata": {}
   },
   "outputs": [
    {
     "data": {
      "text/plain": [
       "True"
      ]
     },
     "execution_count": 26,
     "metadata": {},
     "output_type": "execute_result"
    }
   ],
   "source": [
    "all('zip' in s for s in tables_story)"
   ]
  },
  {
   "cell_type": "code",
   "execution_count": 27,
   "metadata": {
    "metadata": {}
   },
   "outputs": [],
   "source": [
    "tables_story_clean = tables_story\n",
    "tables_story_clean = [s[:s.find('.zip')] for s in tables_story_clean]"
   ]
  },
  {
   "cell_type": "code",
   "execution_count": 28,
   "metadata": {
    "metadata": {}
   },
   "outputs": [],
   "source": [
    "from collections import Counter\n",
    "\n",
    "freq = Counter(tables_story_clean)"
   ]
  },
  {
   "cell_type": "code",
   "execution_count": 29,
   "metadata": {
    "metadata": {}
   },
   "outputs": [
    {
     "data": {
      "text/plain": [
       "Counter({'parent_csv_licensed': 34367,\n",
       "         'thing_csv_licensed': 30887,\n",
       "         'then_csv_licensed': 26664,\n",
       "         'whole_csv_licensed': 21626,\n",
       "         'question_time_csv_licensed': 21273,\n",
       "         'real_time_csv_licensed': 20936,\n",
       "         'show_time_csv_licensed': 17350,\n",
       "         'running_time_csv_licensed': 15112,\n",
       "         'living_thing_csv_licensed': 11602,\n",
       "         'half_life_csv_licensed': 10183,\n",
       "         'lead_time_csv_licensed': 9799,\n",
       "         'data_rate_csv_licensed': 9426,\n",
       "         'quick_time_csv_licensed': 8834,\n",
       "         'object_csv_licensed': 7256,\n",
       "         'processing_time_csv_licensed': 5643,\n",
       "         'rate_of_return_csv_licensed': 4166,\n",
       "         'reaction_time_csv_licensed': 3978,\n",
       "         'growth_rate_csv_licensed': 3501,\n",
       "         'abstraction_csv_licensed': 2615,\n",
       "         'speed_of_light_csv_licensed': 2613,\n",
       "         'bits_per_second_csv_licensed': 2479,\n",
       "         'id_csv_licensed': 2355,\n",
       "         'seek_time_csv_licensed': 2219,\n",
       "         'safe_period_csv_licensed': 2169,\n",
       "         'stopping_point_csv_licensed': 2031,\n",
       "         'dead_air_csv_licensed': 2008,\n",
       "         'crime_rate_csv_licensed': 1831,\n",
       "         'inflation_rate_csv_licensed': 1255,\n",
       "         'in_time_csv_licensed': 1038,\n",
       "         'miles_per_hour_csv_licensed': 868,\n",
       "         'physical_entity_csv_licensed': 866,\n",
       "         'count_per_minute_csv_licensed': 837,\n",
       "         'split_shift_csv_licensed': 723,\n",
       "         'channel_capacity_csv_licensed': 536,\n",
       "         'time_slot_csv_licensed': 530,\n",
       "         'cease_csv_licensed': 523,\n",
       "         'solar_constant_csv_licensed': 495,\n",
       "         'time_interval_csv_licensed': 436,\n",
       "         'beauty_sleep_csv_licensed': 423,\n",
       "         'dose_rate_csv_licensed': 407,\n",
       "         'dwarf_csv_licensed': 377,\n",
       "         'sampling_rate_csv_licensed': 355,\n",
       "         'organism_csv_licensed': 348,\n",
       "         'return_on_invested_capital_csv_licensed': 313,\n",
       "         'orbit_period_csv_licensed': 305,\n",
       "         'beats_per_minute_csv_licensed': 302,\n",
       "         'relaxation_time_csv_licensed': 200,\n",
       "         'interim_csv_licensed': 175,\n",
       "         'command_processing_overhead_time_csv_licensed': 155,\n",
       "         'terminal_velocity_csv_licensed': 152,\n",
       "         'last_gasp_csv_licensed': 141,\n",
       "         'rotational_latency_csv_licensed': 139,\n",
       "         'lapse_csv_licensed': 132,\n",
       "         'rainy_day_csv_licensed': 129,\n",
       "         'attrition_rate_csv_licensed': 95,\n",
       "         'escape_velocity_csv_licensed': 95,\n",
       "         'wartime_csv_licensed': 85,\n",
       "         'metabolic_rate_csv_licensed': 74,\n",
       "         'sampling_frequency_csv_licensed': 63,\n",
       "         'incubation_period_csv_licensed': 57,\n",
       "         'revolutions_per_minute_csv_licensed': 52,\n",
       "         'latent_period_csv_licensed': 51,\n",
       "         'fertile_period_csv_licensed': 46,\n",
       "         'graveyard_watch_csv_licensed': 44,\n",
       "         'respiratory_rate_csv_licensed': 43,\n",
       "         'kilometers_per_hour_csv_licensed': 31,\n",
       "         'time-out_csv_licensed': 27,\n",
       "         'centripetal_acceleration_csv_licensed': 26,\n",
       "         'hypervelocity_csv_licensed': 23,\n",
       "         'cardiac_output_csv_licensed': 21,\n",
       "         'peculiar_velocity_csv_licensed': 20,\n",
       "         'shiva_csv_licensed': 19,\n",
       "         'kilohertz_csv_licensed': 18,\n",
       "         'halftime_csv_licensed': 16,\n",
       "         'multistage_csv_licensed': 9,\n",
       "         'clotting_time_csv_licensed': 8,\n",
       "         'menstrual_cycle_csv_licensed': 7,\n",
       "         'neonatal_mortality_csv_licensed': 4,\n",
       "         'musth_csv_licensed': 4,\n",
       "         'usance_csv_licensed': 4,\n",
       "         'terminus_ad_quem_csv_licensed': 3,\n",
       "         'radial_pulse_csv_licensed': 3,\n",
       "         'peacetime_csv_licensed': 2,\n",
       "         'steerageway_csv_licensed': 1,\n",
       "         'meno_mosso_csv_licensed': 1,\n",
       "         'heterotroph_csv_licensed': 1,\n",
       "         'episcopate_csv_licensed': 1,\n",
       "         'indiction_csv_licensed': 1,\n",
       "         'dogwatch_csv_licensed': 1,\n",
       "         'entr%27acte_csv_licensed': 1,\n",
       "         'erythrocyte_sedimentation_rate_csv_licensed': 1})"
      ]
     },
     "execution_count": 29,
     "metadata": {},
     "output_type": "execute_result"
    }
   ],
   "source": [
    "freq"
   ]
  },
  {
   "cell_type": "code",
   "execution_count": 144,
   "metadata": {
    "metadata": {}
   },
   "outputs": [
    {
     "data": {
      "text/plain": [
       "['question_time_csv_licensed.zip_02-03_352.csv',\n",
       " 'whole_csv_licensed.zip_01-02_411.csv',\n",
       " 'parent_csv_licensed.zip_10-11_968.csv',\n",
       " 'terminal_velocity_csv_licensed.zip_03-04_1.csv',\n",
       " 'living_thing_csv_licensed.zip_02-03_231.csv',\n",
       " 'whole_csv_licensed.zip_07-08_941.csv',\n",
       " 'living_thing_csv_licensed.zip_00-01_331.csv',\n",
       " 'parent_csv_licensed.zip_15-16_600.csv',\n",
       " 'parent_csv_licensed.zip_03-04_88.csv',\n",
       " 'whole_csv_licensed.zip_02-03_1059.csv']"
      ]
     },
     "execution_count": 144,
     "metadata": {},
     "output_type": "execute_result"
    }
   ],
   "source": [
    "tables_story[:10]"
   ]
  },
  {
   "cell_type": "code",
   "execution_count": 145,
   "metadata": {
    "metadata": {}
   },
   "outputs": [
    {
     "data": {
      "text/plain": [
       "292526"
      ]
     },
     "execution_count": 145,
     "metadata": {},
     "output_type": "execute_result"
    }
   ],
   "source": [
    "import re\n",
    "pattern = re.compile(r'[0-9]{2}-[0-9]{2}')\n",
    "x = 0\n",
    "for table_id in tables_story:\n",
    "    if pattern.search(table_id):\n",
    "        x += 1\n",
    "x"
   ]
  },
  {
   "cell_type": "code",
   "execution_count": 147,
   "metadata": {
    "metadata": {}
   },
   "outputs": [
    {
     "data": {
      "text/plain": [
       "98.81266446201708"
      ]
     },
     "execution_count": 147,
     "metadata": {},
     "output_type": "execute_result"
    }
   ],
   "source": [
    "x * 100 / len(tables_story)"
   ]
  },
  {
   "cell_type": "code",
   "execution_count": null,
   "metadata": {},
   "outputs": [
    {
     "data": {
      "text/plain": [
       "('parquet_tables.zip', <http.client.HTTPMessage at 0x7fb575cc3730>)"
      ]
     },
     "metadata": {},
     "output_type": "display_data"
    }
   ],
   "source": [
    "from urllib.request import urlretrieve\n",
    "\n",
    "url = 'https://zenodo.org/records/6517052/files/time_interval_tables_licensed.zip?download=1'\n",
    "# url = 'https://zenodo.org/records/6517052/files/living_thing_tables_licensed.zip?download=1'\n",
    "# url = 'https://zenodo.org/records/6517052/files/half_life_tables_licensed.zip?download=1'\n",
    "zip_path = 'parquet_tables.zip'\n",
    "\n",
    "urlretrieve(url, zip_path)"
   ]
  },
  {
   "cell_type": "code",
   "execution_count": 126,
   "metadata": {
    "metadata": {}
   },
   "outputs": [],
   "source": [
    "# topic = 'time_interval'\n",
    "# topic = 'living_thing'\n",
    "topic = 'half_life'"
   ]
  },
  {
   "cell_type": "code",
   "execution_count": 127,
   "metadata": {
    "metadata": {}
   },
   "outputs": [],
   "source": [
    "matching_tables = [s for s in tables_story if s.startswith(topic)]"
   ]
  },
  {
   "cell_type": "code",
   "execution_count": 128,
   "metadata": {
    "metadata": {}
   },
   "outputs": [
    {
     "data": {
      "text/plain": [
       "['half_life_csv_licensed.zip_07-08_198.csv\\n',\n",
       " 'half_life_csv_licensed.zip_perpich.csv\\n',\n",
       " 'half_life_csv_licensed.zip_17-18_84.csv\\n']"
      ]
     },
     "execution_count": 128,
     "metadata": {},
     "output_type": "execute_result"
    }
   ],
   "source": [
    "matching_tables[:3]"
   ]
  },
  {
   "cell_type": "code",
   "execution_count": 129,
   "metadata": {
    "metadata": {}
   },
   "outputs": [
    {
     "data": {
      "text/plain": [
       "10183"
      ]
     },
     "execution_count": 129,
     "metadata": {},
     "output_type": "execute_result"
    }
   ],
   "source": [
    "len(matching_tables)"
   ]
  },
  {
   "cell_type": "code",
   "execution_count": 130,
   "metadata": {
    "metadata": {}
   },
   "outputs": [
    {
     "name": "stdout",
     "output_type": "stream",
     "text": [
      "j= 10005\n"
     ]
    }
   ],
   "source": [
    "j = 0\n",
    "for i in range(len(matching_tables)):\n",
    "    try:\n",
    "        id = matching_tables[i].strip()[len(f'{topic}_csv_licensed.zip_'):-4]\n",
    "        table = pyarrow.parquet.read_schema(f'parquet_tables_{topic}/{id}.parquet')\n",
    "        if 'ali' not in str(table):\n",
    "            # print(i)\n",
    "            pass\n",
    "        else:\n",
    "            j += 1\n",
    "    except: continue    \n",
    "print('j=', j)"
   ]
  },
  {
   "cell_type": "code",
   "execution_count": 131,
   "metadata": {
    "metadata": {}
   },
   "outputs": [
    {
     "data": {
      "text/plain": [
       "98.25198860846508"
      ]
     },
     "execution_count": 131,
     "metadata": {},
     "output_type": "execute_result"
    }
   ],
   "source": [
    "j * 100 / len(matching_tables)"
   ]
  },
  {
   "cell_type": "code",
   "execution_count": 148,
   "metadata": {
    "metadata": {}
   },
   "outputs": [
    {
     "data": {
      "text/plain": [
       "{b'gittables': b'{\"license\": \"MIT License\", \"csv_url\": \"https://github.com/alixaxel/dump.HN/blob/11fd7291c89c68daf4196a47e8cfa47e4df30c8d/data/items/2009/12/22/23-24.csv\", \"dtypes\": {\"ID\": \"int64\", \"Type\": \"object\", \"Story\": \"float64\", \"Parent\": \"float64\", \"Points\": \"int64\", \"Comments\": \"int64\", \"Author\": \"object\", \"Title\": \"object\", \"URL\": \"object\", \"Content\": \"object\", \"Created\": \"float64\"}, \"number_rows\": 103, \"number_columns\": 11, \"dtypes_percentages\": {\"int64\": 0.2727272727272727, \"object\": 0.45454545454545453, \"float64\": 0.2727272727272727}, \"dbpedia_syntactic_column_types\": {\"Author\": {\"cleaned_label\": \"author\", \"description\": null, \"domain\": [\"http://dbpedia.org/ontology/Work\"], \"id\": \"http://dbpedia.org/ontology/author\", \"range\": [\"http://dbpedia.org/ontology/Person\"], \"superproperty\": [\"http://www.ontologydesignpatterns.org/ont/dul/DUL.owl#coparticipatesWith\"]}, \"Created\": {\"cleaned_label\": \"created\", \"description\": null, \"domain\": [\"http://dbpedia.org/ontology/Person\"], \"id\": \"http://dbpedia.org/ontology/created\", \"range\": [\"http://dbpedia.org/ontology/Work\"], \"superproperty\": null}, \"ID\": {\"cleaned_label\": \"id\", \"description\": null, \"domain\": [\"http://dbpedia.org/ontology/WorldHeritageSite\"], \"id\": \"http://dbpedia.org/ontology/id\", \"range\": [\"http://www.w3.org/2001/XMLSchema#string\"], \"superproperty\": null}, \"Parent\": {\"cleaned_label\": \"parent\", \"description\": null, \"domain\": [\"http://dbpedia.org/ontology/Person\"], \"id\": \"http://dbpedia.org/ontology/parent\", \"range\": [\"http://dbpedia.org/ontology/Person\"], \"superproperty\": [\"http://www.ontologydesignpatterns.org/ont/dul/DUL.owl#sameSettingAs\"]}, \"Title\": {\"cleaned_label\": \"title\", \"description\": null, \"domain\": null, \"id\": \"http://dbpedia.org/ontology/title\", \"range\": [\"http://www.w3.org/1999/02/22-rdf-syntax-ns#langString\"], \"superproperty\": null}, \"Type\": {\"cleaned_label\": \"type\", \"description\": null, \"domain\": null, \"id\": \"http://dbpedia.org/ontology/type\", \"range\": null, \"superproperty\": [\"http://www.ontologydesignpatterns.org/ont/dul/DUL.owl#isClassifiedBy\"]}}, \"schema_syntactic_column_types\": {\"Author\": {\"id\": \"schema:author\", \"cleaned_label\": \"author\", \"description\": \"The author of this content or rating. Please note that author is special in that HTML 5 provides a special mechanism for indicating authorship via the rel tag. That is equivalent to this and may be used interchangeably.\", \"type\": \"rdf:Property\", \"domain\": [\"schema:CreativeWork\", \"schema:Rating\"], \"range\": [\"schema:Person\", \"schema:Organization\"], \"superclasses\": null, \"superproperties\": null}, \"ID\": {\"id\": \"schema:identifier\", \"cleaned_label\": \"id\", \"description\": \"The identifier property represents any kind of identifier for any kind of [[Thing]], such as ISBNs, GTIN codes, UUIDs etc. Schema.org provides dedicated properties for representing many of these, either as textual strings or as URL (URI) links. See [background notes](/docs/datamodel.html#identifierBg) for more details.\\\\n        \", \"type\": \"rdf:Property\", \"domain\": [\"schema:Thing\"], \"range\": [\"schema:PropertyValue\", \"schema:URL\", \"schema:Text\"], \"superclasses\": null, \"superproperties\": null}, \"Parent\": {\"id\": \"schema:parent\", \"cleaned_label\": \"parent\", \"description\": \"A parent of this person.\", \"type\": \"rdf:Property\", \"domain\": [\"schema:Person\"], \"range\": [\"schema:Person\"], \"superclasses\": null, \"superproperties\": null}, \"Title\": {\"id\": \"schema:title\", \"cleaned_label\": \"title\", \"description\": \"The title of the job.\", \"type\": \"rdf:Property\", \"domain\": [\"schema:JobPosting\"], \"range\": [\"schema:Text\"], \"superclasses\": null, \"superproperties\": null}, \"URL\": {\"id\": \"schema:URL\", \"cleaned_label\": \"url\", \"description\": \"Data type: URL.\", \"type\": \"rdfs:Class\", \"domain\": null, \"range\": null, \"superclasses\": [\"schema:Text\"], \"superproperties\": null}}, \"dbpedia_semantic_column_types\": {\"ID\": {\"cleaned_label\": \"id\", \"description\": null, \"domain\": [\"http://dbpedia.org/ontology/WorldHeritageSite\"], \"id\": \"http://dbpedia.org/ontology/id\", \"range\": [\"http://www.w3.org/2001/XMLSchema#string\"], \"superproperty\": null}, \"Type\": {\"cleaned_label\": \"type\", \"description\": null, \"domain\": null, \"id\": \"http://dbpedia.org/ontology/type\", \"range\": null, \"superproperty\": [\"http://www.ontologydesignpatterns.org/ont/dul/DUL.owl#isClassifiedBy\"]}, \"Story\": {\"cleaned_label\": \"story editor\", \"description\": null, \"domain\": [\"http://dbpedia.org/ontology/TelevisionShow\"], \"id\": \"http://dbpedia.org/ontology/storyEditor\", \"range\": [\"http://dbpedia.org/ontology/Person\"], \"superproperty\": [\"http://www.ontologydesignpatterns.org/ont/dul/DUL.owl#sameSettingAs\"]}, \"Parent\": {\"cleaned_label\": \"parent\", \"description\": null, \"domain\": [\"http://dbpedia.org/ontology/Person\"], \"id\": \"http://dbpedia.org/ontology/parent\", \"range\": [\"http://dbpedia.org/ontology/Person\"], \"superproperty\": [\"http://www.ontologydesignpatterns.org/ont/dul/DUL.owl#sameSettingAs\"]}, \"Points\": {\"cleaned_label\": \"career points\", \"description\": null, \"domain\": [\"http://dbpedia.org/ontology/FormulaOneRacer\"], \"id\": \"http://dbpedia.org/ontology/careerPoints\", \"range\": [\"http://www.w3.org/2001/XMLSchema#integer\"], \"superproperty\": null}, \"Comments\": {\"cleaned_label\": \"comment\", \"description\": null, \"domain\": null, \"id\": \"http://dbpedia.org/ontology/comment\", \"range\": [\"http://www.w3.org/2001/XMLSchema#string\"], \"superproperty\": null}, \"Author\": {\"cleaned_label\": \"author\", \"description\": null, \"domain\": [\"http://dbpedia.org/ontology/Work\"], \"id\": \"http://dbpedia.org/ontology/author\", \"range\": [\"http://dbpedia.org/ontology/Person\"], \"superproperty\": [\"http://www.ontologydesignpatterns.org/ont/dul/DUL.owl#coparticipatesWith\"]}, \"Title\": {\"cleaned_label\": \"title\", \"description\": null, \"domain\": null, \"id\": \"http://dbpedia.org/ontology/title\", \"range\": [\"http://www.w3.org/1999/02/22-rdf-syntax-ns#langString\"], \"superproperty\": null}, \"URL\": {\"cleaned_label\": \"file url\", \"description\": null, \"domain\": [\"http://dbpedia.org/ontology/File\"], \"id\": \"http://dbpedia.org/ontology/fileURL\", \"range\": [\"http://dbpedia.org/ontology/File\"], \"superproperty\": null}, \"Content\": {\"cleaned_label\": \"open access content\", \"description\": \"Availability of open access content.\", \"domain\": [\"http://dbpedia.org/ontology/PeriodicalLiterature\"], \"id\": \"http://dbpedia.org/ontology/openAccessContent\", \"range\": [\"http://www.w3.org/2001/XMLSchema#string\"], \"superproperty\": null}, \"Created\": {\"cleaned_label\": \"created\", \"description\": null, \"domain\": [\"http://dbpedia.org/ontology/Person\"], \"id\": \"http://dbpedia.org/ontology/created\", \"range\": [\"http://dbpedia.org/ontology/Work\"], \"superproperty\": null}}, \"dbpedia_semantic_similarities\": {\"ID\": 1.0, \"Type\": 1.0, \"Story\": 0.7859, \"Parent\": 1.0, \"Points\": 0.7756, \"Comments\": 0.792, \"Author\": 1.0, \"Title\": 1.0, \"URL\": 0.7583, \"Content\": 0.6709, \"Created\": 1.0}, \"schema_semantic_column_types\": {\"ID\": {\"id\": \"schema:identifier\", \"cleaned_label\": \"id\", \"description\": \"The identifier property represents any kind of identifier for any kind of [[Thing]], such as ISBNs, GTIN codes, UUIDs etc. Schema.org provides dedicated properties for representing many of these, either as textual strings or as URL (URI) links. See [background notes](/docs/datamodel.html#identifierBg) for more details.\\\\n        \", \"type\": \"rdf:Property\", \"domain\": [\"schema:Thing\"], \"range\": [\"schema:PropertyValue\", \"schema:URL\", \"schema:Text\"], \"superclasses\": null, \"superproperties\": null}, \"Type\": {\"id\": \"schema:procedureType\", \"cleaned_label\": \"procedure type\", \"description\": \"The type of procedure, for example Surgical, Noninvasive, or Percutaneous.\", \"type\": \"rdf:Property\", \"domain\": [\"schema:MedicalProcedure\"], \"range\": [\"schema:MedicalProcedureType\"], \"superclasses\": null, \"superproperties\": null}, \"Story\": {\"id\": \"schema:ShortStory\", \"cleaned_label\": \"short story\", \"description\": \"Short story or tale. A brief work of literature, usually written in narrative prose.\", \"type\": \"rdfs:Class\", \"domain\": null, \"range\": null, \"superclasses\": [\"schema:CreativeWork\"], \"superproperties\": null}, \"Parent\": {\"id\": \"schema:parent\", \"cleaned_label\": \"parent\", \"description\": \"A parent of this person.\", \"type\": \"rdf:Property\", \"domain\": [\"schema:Person\"], \"range\": [\"schema:Person\"], \"superclasses\": null, \"superproperties\": null}, \"Points\": {\"id\": \"schema:contactPoints\", \"cleaned_label\": \"contact points\", \"description\": \"A contact point for a person or organization.\", \"type\": \"rdf:Property\", \"domain\": [\"schema:Organization\", \"schema:Person\"], \"range\": [\"schema:ContactPoint\"], \"superclasses\": null, \"superproperties\": null}, \"Comments\": {\"id\": \"schema:comment\", \"cleaned_label\": \"comment\", \"description\": \"Comments, typically from users.\", \"type\": \"rdf:Property\", \"domain\": [\"schema:RsvpAction\", \"schema:CreativeWork\"], \"range\": [\"schema:Comment\"], \"superclasses\": null, \"superproperties\": null}, \"Author\": {\"id\": \"schema:author\", \"cleaned_label\": \"author\", \"description\": \"The author of this content or rating. Please note that author is special in that HTML 5 provides a special mechanism for indicating authorship via the rel tag. That is equivalent to this and may be used interchangeably.\", \"type\": \"rdf:Property\", \"domain\": [\"schema:CreativeWork\", \"schema:Rating\"], \"range\": [\"schema:Person\", \"schema:Organization\"], \"superclasses\": null, \"superproperties\": null}, \"Title\": {\"id\": \"schema:title\", \"cleaned_label\": \"title\", \"description\": \"The title of the job.\", \"type\": \"rdf:Property\", \"domain\": [\"schema:JobPosting\"], \"range\": [\"schema:Text\"], \"superclasses\": null, \"superproperties\": null}, \"URL\": {\"id\": \"schema:URL\", \"cleaned_label\": \"url\", \"description\": \"Data type: URL.\", \"type\": \"rdfs:Class\", \"domain\": null, \"range\": null, \"superclasses\": [\"schema:Text\"], \"superproperties\": null}, \"Content\": {\"id\": \"schema:WebContent\", \"cleaned_label\": \"web content\", \"description\": \"WebContent is a type representing all [[WebPage]], [[WebSite]] and [[WebPageElement]] content. It is sometimes the case that detailed distinctions between Web pages, sites and their parts is not always important or obvious. The  [[WebContent]] type makes it easier to describe Web-addressable content without requiring such distinctions to always be stated. (The intent is that the existing types [[WebPage]], [[WebSite]] and [[WebPageElement]] will eventually be declared as subtypes of [[WebContent]]).\", \"type\": \"rdfs:Class\", \"domain\": null, \"range\": null, \"superclasses\": [\"schema:CreativeWork\"], \"superproperties\": null}, \"Created\": {\"id\": \"schema:locationCreated\", \"cleaned_label\": \"location created\", \"description\": \"The location where the CreativeWork was created, which may not be the same as the location depicted in the CreativeWork.\", \"type\": \"rdf:Property\", \"domain\": [\"schema:CreativeWork\"], \"range\": [\"schema:Place\"], \"superclasses\": null, \"superproperties\": null}}, \"schema_semantic_similarities\": {\"ID\": 1.0, \"Type\": 0.8027, \"Story\": 0.8327, \"Parent\": 1.0, \"Points\": 0.75, \"Comments\": 0.792, \"Author\": 1.0, \"Title\": 1.0, \"URL\": 1.0, \"Content\": 0.8487, \"Created\": 0.7486}, \"table_domain\": {\"schema_syntactic\": \"schema:Rating\", \"schema_semantic\": \"schema:CreativeWork\", \"dbpedia_syntactic\": \"http://dbpedia.org/ontology/Person\", \"dbpedia_semantic\": \"http://dbpedia.org/ontology/Person\"}, \"anonymized_columns\": [], \"table_id\": 11946}',\n",
       " b'pandas': b'{\"index_columns\": [{\"kind\": \"range\", \"name\": null, \"start\": 0, \"stop\": 103, \"step\": 1}], \"column_indexes\": [{\"name\": null, \"field_name\": null, \"pandas_type\": \"unicode\", \"numpy_type\": \"object\", \"metadata\": {\"encoding\": \"UTF-8\"}}], \"columns\": [{\"name\": \"ID\", \"field_name\": \"ID\", \"pandas_type\": \"int64\", \"numpy_type\": \"int64\", \"metadata\": null}, {\"name\": \"Type\", \"field_name\": \"Type\", \"pandas_type\": \"unicode\", \"numpy_type\": \"object\", \"metadata\": null}, {\"name\": \"Story\", \"field_name\": \"Story\", \"pandas_type\": \"float64\", \"numpy_type\": \"float64\", \"metadata\": null}, {\"name\": \"Parent\", \"field_name\": \"Parent\", \"pandas_type\": \"float64\", \"numpy_type\": \"float64\", \"metadata\": null}, {\"name\": \"Points\", \"field_name\": \"Points\", \"pandas_type\": \"int64\", \"numpy_type\": \"int64\", \"metadata\": null}, {\"name\": \"Comments\", \"field_name\": \"Comments\", \"pandas_type\": \"int64\", \"numpy_type\": \"int64\", \"metadata\": null}, {\"name\": \"Author\", \"field_name\": \"Author\", \"pandas_type\": \"unicode\", \"numpy_type\": \"object\", \"metadata\": null}, {\"name\": \"Title\", \"field_name\": \"Title\", \"pandas_type\": \"unicode\", \"numpy_type\": \"object\", \"metadata\": null}, {\"name\": \"URL\", \"field_name\": \"URL\", \"pandas_type\": \"unicode\", \"numpy_type\": \"object\", \"metadata\": null}, {\"name\": \"Content\", \"field_name\": \"Content\", \"pandas_type\": \"unicode\", \"numpy_type\": \"object\", \"metadata\": null}, {\"name\": \"Created\", \"field_name\": \"Created\", \"pandas_type\": \"float64\", \"numpy_type\": \"float64\", \"metadata\": null}], \"creator\": {\"library\": \"pyarrow\", \"version\": \"4.0.0\"}, \"pandas_version\": \"1.4.1\"}'}"
      ]
     },
     "execution_count": 148,
     "metadata": {},
     "output_type": "execute_result"
    }
   ],
   "source": [
    "i = 134\n",
    "id = matching_tables[i].strip()[len(f'{topic}_csv_licensed.zip_'):-4]\n",
    "table = pyarrow.parquet.read_schema(f'parquet_tables_{topic}/{id}.parquet')\n",
    "table.metadata"
   ]
  },
  {
   "cell_type": "code",
   "execution_count": 178,
   "metadata": {
    "metadata": {}
   },
   "outputs": [],
   "source": [
    "import urllib.parse"
   ]
  },
  {
   "cell_type": "code",
   "execution_count": 179,
   "metadata": {
    "metadata": {}
   },
   "outputs": [
    {
     "data": {
      "text/plain": [
       "ParseResult(scheme='https', netloc='github.com', path='/alixaxel/dump.HN/blob/11fd7291c89c68daf4196a47e8cfa47e4df30c8d/data/items/2009/12/22/23-24.csv', params='', query='', fragment='')"
      ]
     },
     "execution_count": 179,
     "metadata": {},
     "output_type": "execute_result"
    }
   ],
   "source": [
    "urllib.parse.urlparse(\n",
    "    eval(table.metadata[b'gittables'].decode().replace('null', 'None'))['csv_url']\n",
    ")"
   ]
  },
  {
   "cell_type": "code",
   "execution_count": 168,
   "metadata": {
    "metadata": {}
   },
   "outputs": [
    {
     "ename": "NameError",
     "evalue": "name 'null' is not defined",
     "output_type": "error",
     "traceback": [
      "\u001b[0;31m---------------------------------------------------------------------------\u001b[0m",
      "\u001b[0;31mNameError\u001b[0m                                 Traceback (most recent call last)",
      "Cell \u001b[0;32mIn[168], line 1\u001b[0m\n\u001b[0;32m----> 1\u001b[0m \u001b[38;5;28;43meval\u001b[39;49m\u001b[43m(\u001b[49m\u001b[38;5;124;43m'\u001b[39;49m\u001b[38;5;124;43m{\u001b[39;49m\u001b[38;5;124;43m\"\u001b[39;49m\u001b[38;5;124;43ma\u001b[39;49m\u001b[38;5;124;43m\"\u001b[39;49m\u001b[38;5;124;43m: null}\u001b[39;49m\u001b[38;5;124;43m'\u001b[39;49m\u001b[43m)\u001b[49m\n",
      "File \u001b[0;32m<string>:1\u001b[0m\n",
      "\u001b[0;31mNameError\u001b[0m: name 'null' is not defined"
     ]
    }
   ],
   "source": [
    "eval('{\"a\": null}')"
   ]
  },
  {
   "cell_type": "code",
   "execution_count": 62,
   "metadata": {
    "metadata": {}
   },
   "outputs": [
    {
     "data": {
      "text/html": [
       "<div><style>\n",
       ".dataframe > thead > tr,\n",
       ".dataframe > tbody > tr {\n",
       "  text-align: right;\n",
       "  white-space: pre-wrap;\n",
       "}\n",
       "</style>\n",
       "<small>shape: (99, 11)</small><table border=\"1\" class=\"dataframe\"><thead><tr><th>ID</th><th>Type</th><th>Story</th><th>Parent</th><th>Points</th><th>Comments</th><th>Author</th><th>Title</th><th>URL</th><th>Content</th><th>Created</th></tr><tr><td>i64</td><td>str</td><td>f64</td><td>f64</td><td>i64</td><td>i64</td><td>str</td><td>str</td><td>str</td><td>str</td><td>f64</td></tr></thead><tbody><tr><td>523902</td><td>&quot;comment&quot;</td><td>523760.0</td><td>523882.0</td><td>0</td><td>0</td><td>&quot;dbul&quot;</td><td>null</td><td>null</td><td>&quot;My comment shouldn&#x27;t be taken …</td><td>1.2375e9</td></tr><tr><td>523901</td><td>&quot;comment&quot;</td><td>523280.0</td><td>523776.0</td><td>0</td><td>0</td><td>&quot;zepolen&quot;</td><td>null</td><td>null</td><td>&quot;Scaling = Increasing capacity …</td><td>1.2375e9</td></tr><tr><td>523900</td><td>&quot;comment&quot;</td><td>523108.0</td><td>523108.0</td><td>0</td><td>0</td><td>&quot;c0un7d0wn&quot;</td><td>null</td><td>null</td><td>&quot;What are the advantages of thi…</td><td>1.2375e9</td></tr><tr><td>523899</td><td>&quot;story&quot;</td><td>null</td><td>null</td><td>1</td><td>2</td><td>&quot;amichail&quot;</td><td>&quot;Do academics exaggerate startu…</td><td>null</td><td>&quot;Having people succeed on their…</td><td>1.2375e9</td></tr><tr><td>523898</td><td>&quot;comment&quot;</td><td>523760.0</td><td>523891.0</td><td>0</td><td>0</td><td>&quot;fixie&quot;</td><td>null</td><td>null</td><td>&quot;Reference for ~700,000 new use…</td><td>1.2375e9</td></tr><tr><td>&hellip;</td><td>&hellip;</td><td>&hellip;</td><td>&hellip;</td><td>&hellip;</td><td>&hellip;</td><td>&hellip;</td><td>&hellip;</td><td>&hellip;</td><td>&hellip;</td><td>&hellip;</td></tr><tr><td>523805</td><td>&quot;comment&quot;</td><td>523687.0</td><td>523726.0</td><td>0</td><td>0</td><td>&quot;ntyntyesr&quot;</td><td>null</td><td>null</td><td>&quot;Which means you wouldn&#x27;t be re…</td><td>1.2375e9</td></tr><tr><td>523804</td><td>&quot;comment&quot;</td><td>523078.0</td><td>523715.0</td><td>0</td><td>0</td><td>&quot;run4yourlives&quot;</td><td>null</td><td>null</td><td>&quot;But what&#x27;s the point of leavin…</td><td>1.2375e9</td></tr><tr><td>523803</td><td>&quot;story&quot;</td><td>null</td><td>null</td><td>2</td><td>0</td><td>&quot;jaspertheghost&quot;</td><td>&quot;Harness the power of XML to Op…</td><td>&quot;http://www.ibm.com/developerwo…</td><td>null</td><td>1.2375e9</td></tr><tr><td>523802</td><td>&quot;comment&quot;</td><td>523687.0</td><td>523726.0</td><td>0</td><td>0</td><td>&quot;harshavr&quot;</td><td>null</td><td>null</td><td>&quot;Is it necessary for the agent …</td><td>1.2375e9</td></tr><tr><td>523801</td><td>&quot;story&quot;</td><td>null</td><td>null</td><td>1</td><td>0</td><td>&quot;jaspertheghost&quot;</td><td>&quot;Develop an Ajax Chat program&quot;</td><td>&quot;http://www.ibm.com/developerwo…</td><td>null</td><td>1.2375e9</td></tr></tbody></table></div>"
      ],
      "text/plain": [
       "shape: (99, 11)\n",
       "┌────────┬─────────┬──────────┬──────────┬───┬──────────────┬─────────────┬─────────────┬──────────┐\n",
       "│ ID     ┆ Type    ┆ Story    ┆ Parent   ┆ … ┆ Title        ┆ URL         ┆ Content     ┆ Created  │\n",
       "│ ---    ┆ ---     ┆ ---      ┆ ---      ┆   ┆ ---          ┆ ---         ┆ ---         ┆ ---      │\n",
       "│ i64    ┆ str     ┆ f64      ┆ f64      ┆   ┆ str          ┆ str         ┆ str         ┆ f64      │\n",
       "╞════════╪═════════╪══════════╪══════════╪═══╪══════════════╪═════════════╪═════════════╪══════════╡\n",
       "│ 523902 ┆ comment ┆ 523760.0 ┆ 523882.0 ┆ … ┆ null         ┆ null        ┆ My comment  ┆ 1.2375e9 │\n",
       "│        ┆         ┆          ┆          ┆   ┆              ┆             ┆ shouldn't   ┆          │\n",
       "│        ┆         ┆          ┆          ┆   ┆              ┆             ┆ be taken …  ┆          │\n",
       "│ 523901 ┆ comment ┆ 523280.0 ┆ 523776.0 ┆ … ┆ null         ┆ null        ┆ Scaling =   ┆ 1.2375e9 │\n",
       "│        ┆         ┆          ┆          ┆   ┆              ┆             ┆ Increasing  ┆          │\n",
       "│        ┆         ┆          ┆          ┆   ┆              ┆             ┆ capacity …  ┆          │\n",
       "│ 523900 ┆ comment ┆ 523108.0 ┆ 523108.0 ┆ … ┆ null         ┆ null        ┆ What are    ┆ 1.2375e9 │\n",
       "│        ┆         ┆          ┆          ┆   ┆              ┆             ┆ the         ┆          │\n",
       "│        ┆         ┆          ┆          ┆   ┆              ┆             ┆ advantages  ┆          │\n",
       "│        ┆         ┆          ┆          ┆   ┆              ┆             ┆ of thi…     ┆          │\n",
       "│ 523899 ┆ story   ┆ null     ┆ null     ┆ … ┆ Do academics ┆ null        ┆ Having      ┆ 1.2375e9 │\n",
       "│        ┆         ┆          ┆          ┆   ┆ exaggerate   ┆             ┆ people      ┆          │\n",
       "│        ┆         ┆          ┆          ┆   ┆ startu…      ┆             ┆ succeed on  ┆          │\n",
       "│        ┆         ┆          ┆          ┆   ┆              ┆             ┆ their…      ┆          │\n",
       "│ 523898 ┆ comment ┆ 523760.0 ┆ 523891.0 ┆ … ┆ null         ┆ null        ┆ Reference   ┆ 1.2375e9 │\n",
       "│        ┆         ┆          ┆          ┆   ┆              ┆             ┆ for         ┆          │\n",
       "│        ┆         ┆          ┆          ┆   ┆              ┆             ┆ ~700,000    ┆          │\n",
       "│        ┆         ┆          ┆          ┆   ┆              ┆             ┆ new use…    ┆          │\n",
       "│ …      ┆ …       ┆ …        ┆ …        ┆ … ┆ …            ┆ …           ┆ …           ┆ …        │\n",
       "│ 523805 ┆ comment ┆ 523687.0 ┆ 523726.0 ┆ … ┆ null         ┆ null        ┆ Which means ┆ 1.2375e9 │\n",
       "│        ┆         ┆          ┆          ┆   ┆              ┆             ┆ you         ┆          │\n",
       "│        ┆         ┆          ┆          ┆   ┆              ┆             ┆ wouldn't be ┆          │\n",
       "│        ┆         ┆          ┆          ┆   ┆              ┆             ┆ re…         ┆          │\n",
       "│ 523804 ┆ comment ┆ 523078.0 ┆ 523715.0 ┆ … ┆ null         ┆ null        ┆ But what's  ┆ 1.2375e9 │\n",
       "│        ┆         ┆          ┆          ┆   ┆              ┆             ┆ the point   ┆          │\n",
       "│        ┆         ┆          ┆          ┆   ┆              ┆             ┆ of leavin…  ┆          │\n",
       "│ 523803 ┆ story   ┆ null     ┆ null     ┆ … ┆ Harness the  ┆ http://www. ┆ null        ┆ 1.2375e9 │\n",
       "│        ┆         ┆          ┆          ┆   ┆ power of XML ┆ ibm.com/dev ┆             ┆          │\n",
       "│        ┆         ┆          ┆          ┆   ┆ to Op…       ┆ eloperwo…   ┆             ┆          │\n",
       "│ 523802 ┆ comment ┆ 523687.0 ┆ 523726.0 ┆ … ┆ null         ┆ null        ┆ Is it       ┆ 1.2375e9 │\n",
       "│        ┆         ┆          ┆          ┆   ┆              ┆             ┆ necessary   ┆          │\n",
       "│        ┆         ┆          ┆          ┆   ┆              ┆             ┆ for the     ┆          │\n",
       "│        ┆         ┆          ┆          ┆   ┆              ┆             ┆ agent …     ┆          │\n",
       "│ 523801 ┆ story   ┆ null     ┆ null     ┆ … ┆ Develop an   ┆ http://www. ┆ null        ┆ 1.2375e9 │\n",
       "│        ┆         ┆          ┆          ┆   ┆ Ajax Chat    ┆ ibm.com/dev ┆             ┆          │\n",
       "│        ┆         ┆          ┆          ┆   ┆ program      ┆ eloperwo…   ┆             ┆          │\n",
       "└────────┴─────────┴──────────┴──────────┴───┴──────────────┴─────────────┴─────────────┴──────────┘"
      ]
     },
     "execution_count": 62,
     "metadata": {},
     "output_type": "execute_result"
    }
   ],
   "source": [
    "import polars as pl\n",
    "df = pl.read_parquet(f'parquet_tables_{topic}/{id}.parquet')\n",
    "df"
   ]
  },
  {
   "cell_type": "code",
   "execution_count": 64,
   "metadata": {
    "metadata": {}
   },
   "outputs": [
    {
     "data": {
      "text/plain": [
       "{b'gittables': b'{\"license\": \"MIT License\", \"csv_url\": \"https://github.com/alixaxel/dump.HN/blob/11fd7291c89c68daf4196a47e8cfa47e4df30c8d/data/items/2009/03/19/19-20.csv\", \"dtypes\": {\"ID\": \"int64\", \"Type\": \"object\", \"Story\": \"float64\", \"Parent\": \"float64\", \"Points\": \"int64\", \"Comments\": \"int64\", \"Author\": \"object\", \"Title\": \"object\", \"URL\": \"object\", \"Content\": \"object\", \"Created\": \"float64\"}, \"number_rows\": 99, \"number_columns\": 11, \"dtypes_percentages\": {\"int64\": 0.2727272727272727, \"object\": 0.45454545454545453, \"float64\": 0.2727272727272727}, \"dbpedia_syntactic_column_types\": {\"Author\": {\"cleaned_label\": \"author\", \"description\": null, \"domain\": [\"http://dbpedia.org/ontology/Work\"], \"id\": \"http://dbpedia.org/ontology/author\", \"range\": [\"http://dbpedia.org/ontology/Person\"], \"superproperty\": [\"http://www.ontologydesignpatterns.org/ont/dul/DUL.owl#coparticipatesWith\"]}, \"Created\": {\"cleaned_label\": \"created\", \"description\": null, \"domain\": [\"http://dbpedia.org/ontology/Person\"], \"id\": \"http://dbpedia.org/ontology/created\", \"range\": [\"http://dbpedia.org/ontology/Work\"], \"superproperty\": null}, \"ID\": {\"cleaned_label\": \"id\", \"description\": null, \"domain\": [\"http://dbpedia.org/ontology/WorldHeritageSite\"], \"id\": \"http://dbpedia.org/ontology/id\", \"range\": [\"http://www.w3.org/2001/XMLSchema#string\"], \"superproperty\": null}, \"Parent\": {\"cleaned_label\": \"parent\", \"description\": null, \"domain\": [\"http://dbpedia.org/ontology/Person\"], \"id\": \"http://dbpedia.org/ontology/parent\", \"range\": [\"http://dbpedia.org/ontology/Person\"], \"superproperty\": [\"http://www.ontologydesignpatterns.org/ont/dul/DUL.owl#sameSettingAs\"]}, \"Title\": {\"cleaned_label\": \"title\", \"description\": null, \"domain\": null, \"id\": \"http://dbpedia.org/ontology/title\", \"range\": [\"http://www.w3.org/1999/02/22-rdf-syntax-ns#langString\"], \"superproperty\": null}, \"Type\": {\"cleaned_label\": \"type\", \"description\": null, \"domain\": null, \"id\": \"http://dbpedia.org/ontology/type\", \"range\": null, \"superproperty\": [\"http://www.ontologydesignpatterns.org/ont/dul/DUL.owl#isClassifiedBy\"]}}, \"schema_syntactic_column_types\": {\"Author\": {\"id\": \"schema:author\", \"cleaned_label\": \"author\", \"description\": \"The author of this content or rating. Please note that author is special in that HTML 5 provides a special mechanism for indicating authorship via the rel tag. That is equivalent to this and may be used interchangeably.\", \"type\": \"rdf:Property\", \"domain\": [\"schema:CreativeWork\", \"schema:Rating\"], \"range\": [\"schema:Person\", \"schema:Organization\"], \"superclasses\": null, \"superproperties\": null}, \"ID\": {\"id\": \"schema:identifier\", \"cleaned_label\": \"id\", \"description\": \"The identifier property represents any kind of identifier for any kind of [[Thing]], such as ISBNs, GTIN codes, UUIDs etc. Schema.org provides dedicated properties for representing many of these, either as textual strings or as URL (URI) links. See [background notes](/docs/datamodel.html#identifierBg) for more details.\\\\n        \", \"type\": \"rdf:Property\", \"domain\": [\"schema:Thing\"], \"range\": [\"schema:PropertyValue\", \"schema:URL\", \"schema:Text\"], \"superclasses\": null, \"superproperties\": null}, \"Parent\": {\"id\": \"schema:parent\", \"cleaned_label\": \"parent\", \"description\": \"A parent of this person.\", \"type\": \"rdf:Property\", \"domain\": [\"schema:Person\"], \"range\": [\"schema:Person\"], \"superclasses\": null, \"superproperties\": null}, \"Title\": {\"id\": \"schema:title\", \"cleaned_label\": \"title\", \"description\": \"The title of the job.\", \"type\": \"rdf:Property\", \"domain\": [\"schema:JobPosting\"], \"range\": [\"schema:Text\"], \"superclasses\": null, \"superproperties\": null}, \"URL\": {\"id\": \"schema:URL\", \"cleaned_label\": \"url\", \"description\": \"Data type: URL.\", \"type\": \"rdfs:Class\", \"domain\": null, \"range\": null, \"superclasses\": [\"schema:Text\"], \"superproperties\": null}}, \"dbpedia_semantic_column_types\": {\"ID\": {\"cleaned_label\": \"id\", \"description\": null, \"domain\": [\"http://dbpedia.org/ontology/WorldHeritageSite\"], \"id\": \"http://dbpedia.org/ontology/id\", \"range\": [\"http://www.w3.org/2001/XMLSchema#string\"], \"superproperty\": null}, \"Type\": {\"cleaned_label\": \"type\", \"description\": null, \"domain\": null, \"id\": \"http://dbpedia.org/ontology/type\", \"range\": null, \"superproperty\": [\"http://www.ontologydesignpatterns.org/ont/dul/DUL.owl#isClassifiedBy\"]}, \"Story\": {\"cleaned_label\": \"story editor\", \"description\": null, \"domain\": [\"http://dbpedia.org/ontology/TelevisionShow\"], \"id\": \"http://dbpedia.org/ontology/storyEditor\", \"range\": [\"http://dbpedia.org/ontology/Person\"], \"superproperty\": [\"http://www.ontologydesignpatterns.org/ont/dul/DUL.owl#sameSettingAs\"]}, \"Parent\": {\"cleaned_label\": \"parent\", \"description\": null, \"domain\": [\"http://dbpedia.org/ontology/Person\"], \"id\": \"http://dbpedia.org/ontology/parent\", \"range\": [\"http://dbpedia.org/ontology/Person\"], \"superproperty\": [\"http://www.ontologydesignpatterns.org/ont/dul/DUL.owl#sameSettingAs\"]}, \"Points\": {\"cleaned_label\": \"career points\", \"description\": null, \"domain\": [\"http://dbpedia.org/ontology/FormulaOneRacer\"], \"id\": \"http://dbpedia.org/ontology/careerPoints\", \"range\": [\"http://www.w3.org/2001/XMLSchema#integer\"], \"superproperty\": null}, \"Comments\": {\"cleaned_label\": \"comment\", \"description\": null, \"domain\": null, \"id\": \"http://dbpedia.org/ontology/comment\", \"range\": [\"http://www.w3.org/2001/XMLSchema#string\"], \"superproperty\": null}, \"Author\": {\"cleaned_label\": \"author\", \"description\": null, \"domain\": [\"http://dbpedia.org/ontology/Work\"], \"id\": \"http://dbpedia.org/ontology/author\", \"range\": [\"http://dbpedia.org/ontology/Person\"], \"superproperty\": [\"http://www.ontologydesignpatterns.org/ont/dul/DUL.owl#coparticipatesWith\"]}, \"Title\": {\"cleaned_label\": \"title\", \"description\": null, \"domain\": null, \"id\": \"http://dbpedia.org/ontology/title\", \"range\": [\"http://www.w3.org/1999/02/22-rdf-syntax-ns#langString\"], \"superproperty\": null}, \"URL\": {\"cleaned_label\": \"file url\", \"description\": null, \"domain\": [\"http://dbpedia.org/ontology/File\"], \"id\": \"http://dbpedia.org/ontology/fileURL\", \"range\": [\"http://dbpedia.org/ontology/File\"], \"superproperty\": null}, \"Content\": {\"cleaned_label\": \"open access content\", \"description\": \"Availability of open access content.\", \"domain\": [\"http://dbpedia.org/ontology/PeriodicalLiterature\"], \"id\": \"http://dbpedia.org/ontology/openAccessContent\", \"range\": [\"http://www.w3.org/2001/XMLSchema#string\"], \"superproperty\": null}, \"Created\": {\"cleaned_label\": \"created\", \"description\": null, \"domain\": [\"http://dbpedia.org/ontology/Person\"], \"id\": \"http://dbpedia.org/ontology/created\", \"range\": [\"http://dbpedia.org/ontology/Work\"], \"superproperty\": null}}, \"dbpedia_semantic_similarities\": {\"ID\": 1.0, \"Type\": 1.0, \"Story\": 0.7859, \"Parent\": 1.0, \"Points\": 0.7756, \"Comments\": 0.792, \"Author\": 1.0, \"Title\": 1.0, \"URL\": 0.7583, \"Content\": 0.6709, \"Created\": 1.0}, \"schema_semantic_column_types\": {\"ID\": {\"id\": \"schema:identifier\", \"cleaned_label\": \"id\", \"description\": \"The identifier property represents any kind of identifier for any kind of [[Thing]], such as ISBNs, GTIN codes, UUIDs etc. Schema.org provides dedicated properties for representing many of these, either as textual strings or as URL (URI) links. See [background notes](/docs/datamodel.html#identifierBg) for more details.\\\\n        \", \"type\": \"rdf:Property\", \"domain\": [\"schema:Thing\"], \"range\": [\"schema:PropertyValue\", \"schema:URL\", \"schema:Text\"], \"superclasses\": null, \"superproperties\": null}, \"Type\": {\"id\": \"schema:procedureType\", \"cleaned_label\": \"procedure type\", \"description\": \"The type of procedure, for example Surgical, Noninvasive, or Percutaneous.\", \"type\": \"rdf:Property\", \"domain\": [\"schema:MedicalProcedure\"], \"range\": [\"schema:MedicalProcedureType\"], \"superclasses\": null, \"superproperties\": null}, \"Story\": {\"id\": \"schema:ShortStory\", \"cleaned_label\": \"short story\", \"description\": \"Short story or tale. A brief work of literature, usually written in narrative prose.\", \"type\": \"rdfs:Class\", \"domain\": null, \"range\": null, \"superclasses\": [\"schema:CreativeWork\"], \"superproperties\": null}, \"Parent\": {\"id\": \"schema:parent\", \"cleaned_label\": \"parent\", \"description\": \"A parent of this person.\", \"type\": \"rdf:Property\", \"domain\": [\"schema:Person\"], \"range\": [\"schema:Person\"], \"superclasses\": null, \"superproperties\": null}, \"Points\": {\"id\": \"schema:contactPoints\", \"cleaned_label\": \"contact points\", \"description\": \"A contact point for a person or organization.\", \"type\": \"rdf:Property\", \"domain\": [\"schema:Organization\", \"schema:Person\"], \"range\": [\"schema:ContactPoint\"], \"superclasses\": null, \"superproperties\": null}, \"Comments\": {\"id\": \"schema:comment\", \"cleaned_label\": \"comment\", \"description\": \"Comments, typically from users.\", \"type\": \"rdf:Property\", \"domain\": [\"schema:RsvpAction\", \"schema:CreativeWork\"], \"range\": [\"schema:Comment\"], \"superclasses\": null, \"superproperties\": null}, \"Author\": {\"id\": \"schema:author\", \"cleaned_label\": \"author\", \"description\": \"The author of this content or rating. Please note that author is special in that HTML 5 provides a special mechanism for indicating authorship via the rel tag. That is equivalent to this and may be used interchangeably.\", \"type\": \"rdf:Property\", \"domain\": [\"schema:CreativeWork\", \"schema:Rating\"], \"range\": [\"schema:Person\", \"schema:Organization\"], \"superclasses\": null, \"superproperties\": null}, \"Title\": {\"id\": \"schema:title\", \"cleaned_label\": \"title\", \"description\": \"The title of the job.\", \"type\": \"rdf:Property\", \"domain\": [\"schema:JobPosting\"], \"range\": [\"schema:Text\"], \"superclasses\": null, \"superproperties\": null}, \"URL\": {\"id\": \"schema:URL\", \"cleaned_label\": \"url\", \"description\": \"Data type: URL.\", \"type\": \"rdfs:Class\", \"domain\": null, \"range\": null, \"superclasses\": [\"schema:Text\"], \"superproperties\": null}, \"Content\": {\"id\": \"schema:WebContent\", \"cleaned_label\": \"web content\", \"description\": \"WebContent is a type representing all [[WebPage]], [[WebSite]] and [[WebPageElement]] content. It is sometimes the case that detailed distinctions between Web pages, sites and their parts is not always important or obvious. The  [[WebContent]] type makes it easier to describe Web-addressable content without requiring such distinctions to always be stated. (The intent is that the existing types [[WebPage]], [[WebSite]] and [[WebPageElement]] will eventually be declared as subtypes of [[WebContent]]).\", \"type\": \"rdfs:Class\", \"domain\": null, \"range\": null, \"superclasses\": [\"schema:CreativeWork\"], \"superproperties\": null}, \"Created\": {\"id\": \"schema:locationCreated\", \"cleaned_label\": \"location created\", \"description\": \"The location where the CreativeWork was created, which may not be the same as the location depicted in the CreativeWork.\", \"type\": \"rdf:Property\", \"domain\": [\"schema:CreativeWork\"], \"range\": [\"schema:Place\"], \"superclasses\": null, \"superproperties\": null}}, \"schema_semantic_similarities\": {\"ID\": 1.0, \"Type\": 0.8027, \"Story\": 0.8327, \"Parent\": 1.0, \"Points\": 0.75, \"Comments\": 0.792, \"Author\": 1.0, \"Title\": 1.0, \"URL\": 1.0, \"Content\": 0.8487, \"Created\": 0.7486}, \"table_domain\": {\"schema_syntactic\": \"schema:Rating\", \"schema_semantic\": \"schema:CreativeWork\", \"dbpedia_syntactic\": \"http://dbpedia.org/ontology/Person\", \"dbpedia_semantic\": \"http://dbpedia.org/ontology/Person\"}, \"anonymized_columns\": [], \"table_id\": 10868}',\n",
       " b'pandas': b'{\"index_columns\": [{\"kind\": \"range\", \"name\": null, \"start\": 0, \"stop\": 99, \"step\": 1}], \"column_indexes\": [{\"name\": null, \"field_name\": null, \"pandas_type\": \"unicode\", \"numpy_type\": \"object\", \"metadata\": {\"encoding\": \"UTF-8\"}}], \"columns\": [{\"name\": \"ID\", \"field_name\": \"ID\", \"pandas_type\": \"int64\", \"numpy_type\": \"int64\", \"metadata\": null}, {\"name\": \"Type\", \"field_name\": \"Type\", \"pandas_type\": \"unicode\", \"numpy_type\": \"object\", \"metadata\": null}, {\"name\": \"Story\", \"field_name\": \"Story\", \"pandas_type\": \"float64\", \"numpy_type\": \"float64\", \"metadata\": null}, {\"name\": \"Parent\", \"field_name\": \"Parent\", \"pandas_type\": \"float64\", \"numpy_type\": \"float64\", \"metadata\": null}, {\"name\": \"Points\", \"field_name\": \"Points\", \"pandas_type\": \"int64\", \"numpy_type\": \"int64\", \"metadata\": null}, {\"name\": \"Comments\", \"field_name\": \"Comments\", \"pandas_type\": \"int64\", \"numpy_type\": \"int64\", \"metadata\": null}, {\"name\": \"Author\", \"field_name\": \"Author\", \"pandas_type\": \"unicode\", \"numpy_type\": \"object\", \"metadata\": null}, {\"name\": \"Title\", \"field_name\": \"Title\", \"pandas_type\": \"unicode\", \"numpy_type\": \"object\", \"metadata\": null}, {\"name\": \"URL\", \"field_name\": \"URL\", \"pandas_type\": \"unicode\", \"numpy_type\": \"object\", \"metadata\": null}, {\"name\": \"Content\", \"field_name\": \"Content\", \"pandas_type\": \"unicode\", \"numpy_type\": \"object\", \"metadata\": null}, {\"name\": \"Created\", \"field_name\": \"Created\", \"pandas_type\": \"float64\", \"numpy_type\": \"float64\", \"metadata\": null}], \"creator\": {\"library\": \"pyarrow\", \"version\": \"4.0.0\"}, \"pandas_version\": \"1.4.1\"}'}"
      ]
     },
     "execution_count": 64,
     "metadata": {},
     "output_type": "execute_result"
    }
   ],
   "source": [
    "pq_table = pyarrow.parquet.read_table(f'parquet_tables_{topic}/{id}.parquet')\n",
    "pq_table.schema.metadata"
   ]
  },
  {
   "cell_type": "code",
   "execution_count": 34,
   "metadata": {
    "metadata": {}
   },
   "outputs": [
    {
     "data": {
      "text/plain": [
       "ID: int64\n",
       "Type: string\n",
       "Story: double\n",
       "Parent: double\n",
       "Points: int64\n",
       "Comments: int64\n",
       "Author: string\n",
       "Title: string\n",
       "URL: string\n",
       "Content: string\n",
       "Created: double\n",
       "-- schema metadata --\n",
       "gittables: '{\"license\": \"MIT License\", \"csv_url\": \"https://github.com/ali' + 11184\n",
       "pandas: '{\"index_columns\": [{\"kind\": \"range\", \"name\": null, \"start\": 0, \"' + 1471"
      ]
     },
     "execution_count": 34,
     "metadata": {},
     "output_type": "execute_result"
    }
   ],
   "source": [
    "pyarrow.parquet.read_schema('time_interval_tables/22-23_1.parquet')"
   ]
  },
  {
   "cell_type": "code",
   "execution_count": 32,
   "metadata": {
    "metadata": {}
   },
   "outputs": [
    {
     "data": {
      "text/plain": [
       "ID: int64\n",
       "Type: string\n",
       "Story: double\n",
       "Parent: double\n",
       "Points: int64\n",
       "Comments: int64\n",
       "Author: string\n",
       "Title: string\n",
       "URL: string\n",
       "Content: string\n",
       "Created: double\n",
       "-- schema metadata --\n",
       "gittables: '{\"license\": \"MIT License\", \"csv_url\": \"https://github.com/ali' + 11184\n",
       "pandas: '{\"index_columns\": [{\"kind\": \"range\", \"name\": null, \"start\": 0, \"' + 1471"
      ]
     },
     "execution_count": 32,
     "metadata": {},
     "output_type": "execute_result"
    }
   ],
   "source": [
    "schema"
   ]
  },
  {
   "cell_type": "code",
   "execution_count": 46,
   "metadata": {
    "metadata": {}
   },
   "outputs": [],
   "source": [
    "import requests\n",
    "\n",
    "session = requests.Session()"
   ]
  },
  {
   "cell_type": "code",
   "execution_count": 47,
   "metadata": {
    "metadata": {}
   },
   "outputs": [],
   "source": [
    "topic = 'marvel'\n",
    "query = f\"https://api.github.com/search/code?q={topic}+in:file+extension:csv&per_page=100\""
   ]
  },
  {
   "cell_type": "code",
   "execution_count": 49,
   "metadata": {
    "metadata": {}
   },
   "outputs": [],
   "source": [
    "response = session.get(query)"
   ]
  },
  {
   "cell_type": "code",
   "execution_count": 51,
   "metadata": {
    "metadata": {}
   },
   "outputs": [
    {
     "data": {
      "text/plain": [
       "{'message': 'Requires authentication',\n",
       " 'errors': [{'message': 'Must be authenticated to access the code search API',\n",
       "   'resource': 'Search',\n",
       "   'field': 'q',\n",
       "   'code': 'invalid'}],\n",
       " 'documentation_url': 'https://docs.github.com/rest/search/search#search-code',\n",
       " 'status': '401'}"
      ]
     },
     "execution_count": 51,
     "metadata": {},
     "output_type": "execute_result"
    }
   ],
   "source": [
    "response.json()"
   ]
  }
 ],
 "metadata": {
  "kernelspec": {
   "display_name": "nanni-tesi-env",
   "language": "python",
   "name": "python3"
  },
  "language_info": {
   "codemirror_mode": {
    "name": "ipython",
    "version": 3
   },
   "file_extension": ".py",
   "mimetype": "text/x-python",
   "name": "python",
   "nbconvert_exporter": "python",
   "pygments_lexer": "ipython3",
   "version": "3.10.14"
  }
 },
 "nbformat": 4,
 "nbformat_minor": 2
}
