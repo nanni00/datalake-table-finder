{
 "cells": [
  {
   "cell_type": "code",
   "execution_count": 7,
   "metadata": {
    "metadata": {}
   },
   "outputs": [],
   "source": [
    "import polars as pl\n",
    "import pandas as pd\n",
    "from tqdm import tqdm\n",
    "import multiprocessing as mp\n",
    "from collections import defaultdict\n",
    "\n",
    "from tools.utils.settings import DefaultPath as defpath"
   ]
  },
  {
   "cell_type": "code",
   "execution_count": 4,
   "metadata": {
    "metadata": {}
   },
   "outputs": [],
   "source": [
    "test_name = 'a_test'\n",
    "dataset = 'wikipedia'\n",
    "size = 'standard'\n",
    "\n",
    "\n",
    "test_dir = f'{defpath.data_path.tests}/{test_name}/{dataset}'\n",
    "results_extr_dir = test_dir + '/results/extracted'\n",
    "q = '100K'\n",
    "\n",
    "solvers = [('josie', 'set'), ('josie', 'bag'), ('lshforest', 'set'), ('lshforest', 'bag'), ('embedding', 'fasttext')]\n",
    "\n",
    "results = pl.read_csv(f'{results_extr_dir}/final_results_q{q}.csv')\n",
    "results = results.drop_nulls() \n",
    "results = results.filter(pl.col('sloth_overlap') != -1)\n",
    "\n",
    "results = results.with_columns((pl.col('algorithm_overlap') - pl.col('sloth_overlap')).alias('difference_overlap'))\n",
    "results = results.with_columns((pl.col('algorithm_overlap') / (pl.col('sloth_overlap') + 1)).alias('difference_overlap_norm'))"
   ]
  },
  {
   "cell_type": "code",
   "execution_count": 4,
   "metadata": {},
   "outputs": [],
   "source": [
    "from tools.utils.parallel_worker import worker_fp_per_query\n",
    "\n",
    "\n",
    "with mp.get_context('spawn').Pool(len(solvers)) as pool:\n",
    "    r = pool.map(worker_fp_per_query, \n",
    "                results.select(['algorithm', 'mode', 'query_id', 'result_id', 'sloth_overlap'])\n",
    "                .to_pandas().groupby(['algorithm', 'mode'], group_keys=True), chunksize=1)"
   ]
  },
  {
   "cell_type": "code",
   "execution_count": 5,
   "metadata": {
    "metadata": {}
   },
   "outputs": [],
   "source": [
    "x = pd.DataFrame([z for y in r for z in y], columns=['algorithm', 'mode', 'FP_count', 'FP_rate'])\n",
    "fp_per_query_pivot = x.pivot_table(values=['FP_rate'], index=['algorithm', 'mode'], aggfunc=['mean', 'std'])"
   ]
  },
  {
   "cell_type": "code",
   "execution_count": 6,
   "metadata": {
    "metadata": {}
   },
   "outputs": [
    {
     "data": {
      "text/html": [
       "<div>\n",
       "<style scoped>\n",
       "    .dataframe tbody tr th:only-of-type {\n",
       "        vertical-align: middle;\n",
       "    }\n",
       "\n",
       "    .dataframe tbody tr th {\n",
       "        vertical-align: top;\n",
       "    }\n",
       "\n",
       "    .dataframe thead tr th {\n",
       "        text-align: left;\n",
       "    }\n",
       "\n",
       "    .dataframe thead tr:last-of-type th {\n",
       "        text-align: right;\n",
       "    }\n",
       "</style>\n",
       "<table border=\"1\" class=\"dataframe\">\n",
       "  <thead>\n",
       "    <tr>\n",
       "      <th></th>\n",
       "      <th></th>\n",
       "      <th>mean</th>\n",
       "      <th>std</th>\n",
       "    </tr>\n",
       "    <tr>\n",
       "      <th></th>\n",
       "      <th></th>\n",
       "      <th>FP_rate</th>\n",
       "      <th>FP_rate</th>\n",
       "    </tr>\n",
       "    <tr>\n",
       "      <th>algorithm</th>\n",
       "      <th>mode</th>\n",
       "      <th></th>\n",
       "      <th></th>\n",
       "    </tr>\n",
       "  </thead>\n",
       "  <tbody>\n",
       "    <tr>\n",
       "      <th>embedding</th>\n",
       "      <th>fasttext</th>\n",
       "      <td>0.653241</td>\n",
       "      <td>0.392916</td>\n",
       "    </tr>\n",
       "    <tr>\n",
       "      <th rowspan=\"2\" valign=\"top\">josie</th>\n",
       "      <th>bag</th>\n",
       "      <td>0.000000</td>\n",
       "      <td>0.000000</td>\n",
       "    </tr>\n",
       "    <tr>\n",
       "      <th>set</th>\n",
       "      <td>0.000000</td>\n",
       "      <td>0.000000</td>\n",
       "    </tr>\n",
       "    <tr>\n",
       "      <th rowspan=\"2\" valign=\"top\">lshforest</th>\n",
       "      <th>bag</th>\n",
       "      <td>0.004055</td>\n",
       "      <td>0.056136</td>\n",
       "    </tr>\n",
       "    <tr>\n",
       "      <th>set</th>\n",
       "      <td>0.004673</td>\n",
       "      <td>0.058694</td>\n",
       "    </tr>\n",
       "  </tbody>\n",
       "</table>\n",
       "</div>"
      ],
      "text/plain": [
       "                        mean       std\n",
       "                     FP_rate   FP_rate\n",
       "algorithm mode                        \n",
       "embedding fasttext  0.653241  0.392916\n",
       "josie     bag       0.000000  0.000000\n",
       "          set       0.000000  0.000000\n",
       "lshforest bag       0.004055  0.056136\n",
       "          set       0.004673  0.058694"
      ]
     },
     "execution_count": 6,
     "metadata": {},
     "output_type": "execute_result"
    }
   ],
   "source": [
    "fp_per_query_pivot"
   ]
  },
  {
   "cell_type": "code",
   "execution_count": 5,
   "metadata": {
    "metadata": {}
   },
   "outputs": [
    {
     "data": {
      "text/html": [
       "<div><style>\n",
       ".dataframe > thead > tr,\n",
       ".dataframe > tbody > tr {\n",
       "  text-align: right;\n",
       "  white-space: pre-wrap;\n",
       "}\n",
       "</style>\n",
       "<small>shape: (4_993_253, 12)</small><table border=\"1\" class=\"dataframe\"><thead><tr><th>query_id</th><th>result_id</th><th>algorithm</th><th>mode</th><th>algorithm_overlap</th><th>sloth_overlap</th><th>query_size</th><th>res_tab_size</th><th>intersection_mode_size</th><th>sloth_time(s)</th><th>difference_overlap</th><th>difference_overlap_norm</th></tr><tr><td>i64</td><td>i64</td><td>str</td><td>str</td><td>i64</td><td>i64</td><td>i64</td><td>i64</td><td>i64</td><td>f64</td><td>i64</td><td>f64</td></tr></thead><tbody><tr><td>1802503</td><td>1801468</td><td>&quot;josie&quot;</td><td>&quot;bag&quot;</td><td>40</td><td>40</td><td>33</td><td>33</td><td>33</td><td>0.001</td><td>0</td><td>0.97561</td></tr><tr><td>1802503</td><td>1818378</td><td>&quot;josie&quot;</td><td>&quot;bag&quot;</td><td>22</td><td>18</td><td>33</td><td>24</td><td>22</td><td>0.0</td><td>4</td><td>1.157895</td></tr><tr><td>1802503</td><td>1802124</td><td>&quot;josie&quot;</td><td>&quot;bag&quot;</td><td>14</td><td>10</td><td>33</td><td>42</td><td>7</td><td>0.0</td><td>4</td><td>1.272727</td></tr><tr><td>1802503</td><td>1800989</td><td>&quot;josie&quot;</td><td>&quot;bag&quot;</td><td>14</td><td>7</td><td>33</td><td>223</td><td>10</td><td>0.001</td><td>7</td><td>1.75</td></tr><tr><td>1802503</td><td>1802543</td><td>&quot;josie&quot;</td><td>&quot;bag&quot;</td><td>13</td><td>9</td><td>33</td><td>43</td><td>7</td><td>0.0</td><td>4</td><td>1.3</td></tr><tr><td>&hellip;</td><td>&hellip;</td><td>&hellip;</td><td>&hellip;</td><td>&hellip;</td><td>&hellip;</td><td>&hellip;</td><td>&hellip;</td><td>&hellip;</td><td>&hellip;</td><td>&hellip;</td><td>&hellip;</td></tr><tr><td>339208</td><td>365099</td><td>&quot;josie&quot;</td><td>&quot;set&quot;</td><td>7</td><td>6</td><td>12</td><td>13</td><td>7</td><td>0.0</td><td>1</td><td>1.0</td></tr><tr><td>339208</td><td>179019</td><td>&quot;josie&quot;</td><td>&quot;set&quot;</td><td>7</td><td>6</td><td>12</td><td>19</td><td>7</td><td>0.0</td><td>1</td><td>1.0</td></tr><tr><td>339208</td><td>117055</td><td>&quot;josie&quot;</td><td>&quot;set&quot;</td><td>7</td><td>5</td><td>12</td><td>23</td><td>7</td><td>0.0</td><td>2</td><td>1.166667</td></tr><tr><td>339208</td><td>78548</td><td>&quot;josie&quot;</td><td>&quot;set&quot;</td><td>7</td><td>6</td><td>12</td><td>12</td><td>7</td><td>0.0</td><td>1</td><td>1.0</td></tr><tr><td>339208</td><td>522737</td><td>&quot;josie&quot;</td><td>&quot;set&quot;</td><td>7</td><td>6</td><td>12</td><td>20</td><td>7</td><td>0.0</td><td>1</td><td>1.0</td></tr></tbody></table></div>"
      ],
      "text/plain": [
       "shape: (4_993_253, 12)\n",
       "┌──────────┬───────────┬───────────┬──────┬───┬─────────────┬────────────┬────────────┬────────────┐\n",
       "│ query_id ┆ result_id ┆ algorithm ┆ mode ┆ … ┆ intersectio ┆ sloth_time ┆ difference ┆ difference │\n",
       "│ ---      ┆ ---       ┆ ---       ┆ ---  ┆   ┆ n_mode_size ┆ (s)        ┆ _overlap   ┆ _overlap_n │\n",
       "│ i64      ┆ i64       ┆ str       ┆ str  ┆   ┆ ---         ┆ ---        ┆ ---        ┆ orm        │\n",
       "│          ┆           ┆           ┆      ┆   ┆ i64         ┆ f64        ┆ i64        ┆ ---        │\n",
       "│          ┆           ┆           ┆      ┆   ┆             ┆            ┆            ┆ f64        │\n",
       "╞══════════╪═══════════╪═══════════╪══════╪═══╪═════════════╪════════════╪════════════╪════════════╡\n",
       "│ 1802503  ┆ 1801468   ┆ josie     ┆ bag  ┆ … ┆ 33          ┆ 0.001      ┆ 0          ┆ 0.97561    │\n",
       "│ 1802503  ┆ 1818378   ┆ josie     ┆ bag  ┆ … ┆ 22          ┆ 0.0        ┆ 4          ┆ 1.157895   │\n",
       "│ 1802503  ┆ 1802124   ┆ josie     ┆ bag  ┆ … ┆ 7           ┆ 0.0        ┆ 4          ┆ 1.272727   │\n",
       "│ 1802503  ┆ 1800989   ┆ josie     ┆ bag  ┆ … ┆ 10          ┆ 0.001      ┆ 7          ┆ 1.75       │\n",
       "│ 1802503  ┆ 1802543   ┆ josie     ┆ bag  ┆ … ┆ 7           ┆ 0.0        ┆ 4          ┆ 1.3        │\n",
       "│ …        ┆ …         ┆ …         ┆ …    ┆ … ┆ …           ┆ …          ┆ …          ┆ …          │\n",
       "│ 339208   ┆ 365099    ┆ josie     ┆ set  ┆ … ┆ 7           ┆ 0.0        ┆ 1          ┆ 1.0        │\n",
       "│ 339208   ┆ 179019    ┆ josie     ┆ set  ┆ … ┆ 7           ┆ 0.0        ┆ 1          ┆ 1.0        │\n",
       "│ 339208   ┆ 117055    ┆ josie     ┆ set  ┆ … ┆ 7           ┆ 0.0        ┆ 2          ┆ 1.166667   │\n",
       "│ 339208   ┆ 78548     ┆ josie     ┆ set  ┆ … ┆ 7           ┆ 0.0        ┆ 1          ┆ 1.0        │\n",
       "│ 339208   ┆ 522737    ┆ josie     ┆ set  ┆ … ┆ 7           ┆ 0.0        ┆ 1          ┆ 1.0        │\n",
       "└──────────┴───────────┴───────────┴──────┴───┴─────────────┴────────────┴────────────┴────────────┘"
      ]
     },
     "execution_count": 5,
     "metadata": {},
     "output_type": "execute_result"
    }
   ],
   "source": [
    "results"
   ]
  },
  {
   "cell_type": "code",
   "execution_count": 5,
   "metadata": {
    "metadata": {}
   },
   "outputs": [],
   "source": [
    "# results.filter((pl.col('query_id') == 350254) & (pl.col('algorithm') == 'josie') & (pl.col('mode') == 'set')).select('result_id').to_numpy()"
   ]
  },
  {
   "cell_type": "code",
   "execution_count": 8,
   "metadata": {
    "metadata": {}
   },
   "outputs": [
    {
     "name": "stderr",
     "output_type": "stream",
     "text": [
      "100%|██████████| 99990/99990 [00:22<00:00, 4458.94it/s]\n"
     ]
    }
   ],
   "source": [
    "silver_standard = defaultdict(set)\n",
    "nqueries = results.select('query_id').unique().shape[0]\n",
    "results_ids = results.select(['query_id', 'result_id', 'sloth_overlap']).unique().group_by(['query_id'])\n",
    "\n",
    "for query_id, ids_overlaps in tqdm(results_ids, total=nqueries):\n",
    "    s = set()\n",
    "    s.update(map(tuple, ids_overlaps.to_numpy()[:, 1:].tolist()))\n",
    "    silver_standard[query_id[0]] = sorted([x for x in list(s) if x[1] > 0], key=lambda x: x[1], reverse=True)"
   ]
  },
  {
   "cell_type": "code",
   "execution_count": 5,
   "metadata": {
    "metadata": {}
   },
   "outputs": [],
   "source": [
    "from tools.utils import parallel_worker\n",
    "import importlib\n",
    "\n",
    "importlib.reload(parallel_worker)\n",
    "\n",
    "p_values = [1, 3, 5, 10]\n",
    "precision_at_p_results = []\n",
    "query_groups = results.select('query_id', 'algorithm', 'mode', 'result_id').to_pandas().groupby(\"query_id\", group_keys=True)\n",
    "# Parallel version needed for large query sets\n",
    "with mp.Pool(processes=72) as pool:\n",
    "    precision_at_p_results = pool.map(\n",
    "        parallel_worker.worker_precision, \n",
    "        ((name, data, p_values, silver_standard[name]) for name, data in query_groups), \n",
    "        )\n",
    "    \n",
    "    precision_at_p_results = [x for qres in precision_at_p_results for x in qres]"
   ]
  },
  {
   "cell_type": "code",
   "execution_count": 6,
   "metadata": {
    "metadata": {}
   },
   "outputs": [
    {
     "data": {
      "text/plain": [
       "986712"
      ]
     },
     "execution_count": 6,
     "metadata": {},
     "output_type": "execute_result"
    }
   ],
   "source": [
    "len(precision_at_p_results)"
   ]
  },
  {
   "cell_type": "code",
   "execution_count": 33,
   "metadata": {
    "metadata": {}
   },
   "outputs": [
    {
     "data": {
      "text/html": [
       "<div><style>\n",
       ".dataframe > thead > tr,\n",
       ".dataframe > tbody > tr {\n",
       "  text-align: right;\n",
       "  white-space: pre-wrap;\n",
       "}\n",
       "</style>\n",
       "<small>shape: (1, 12)</small><table border=\"1\" class=\"dataframe\"><thead><tr><th>query_id</th><th>result_id</th><th>algorithm</th><th>mode</th><th>algorithm_overlap</th><th>sloth_overlap</th><th>query_size</th><th>res_tab_size</th><th>intersection_mode_size</th><th>sloth_time(s)</th><th>difference_overlap</th><th>difference_overlap_norm</th></tr><tr><td>i64</td><td>i64</td><td>str</td><td>str</td><td>i64</td><td>i64</td><td>i64</td><td>i64</td><td>i64</td><td>f64</td><td>i64</td><td>f64</td></tr></thead><tbody><tr><td>425751</td><td>955188</td><td>&quot;josie&quot;</td><td>&quot;set&quot;</td><td>5</td><td>5</td><td>6</td><td>123</td><td>5</td><td>0.0</td><td>0</td><td>0.833333</td></tr></tbody></table></div>"
      ],
      "text/plain": [
       "shape: (1, 12)\n",
       "┌──────────┬───────────┬───────────┬──────┬───┬─────────────┬────────────┬────────────┬────────────┐\n",
       "│ query_id ┆ result_id ┆ algorithm ┆ mode ┆ … ┆ intersectio ┆ sloth_time ┆ difference ┆ difference │\n",
       "│ ---      ┆ ---       ┆ ---       ┆ ---  ┆   ┆ n_mode_size ┆ (s)        ┆ _overlap   ┆ _overlap_n │\n",
       "│ i64      ┆ i64       ┆ str       ┆ str  ┆   ┆ ---         ┆ ---        ┆ ---        ┆ orm        │\n",
       "│          ┆           ┆           ┆      ┆   ┆ i64         ┆ f64        ┆ i64        ┆ ---        │\n",
       "│          ┆           ┆           ┆      ┆   ┆             ┆            ┆            ┆ f64        │\n",
       "╞══════════╪═══════════╪═══════════╪══════╪═══╪═════════════╪════════════╪════════════╪════════════╡\n",
       "│ 425751   ┆ 955188    ┆ josie     ┆ set  ┆ … ┆ 5           ┆ 0.0        ┆ 0          ┆ 0.833333   │\n",
       "└──────────┴───────────┴───────────┴──────┴───┴─────────────┴────────────┴────────────┴────────────┘"
      ]
     },
     "execution_count": 33,
     "metadata": {},
     "output_type": "execute_result"
    }
   ],
   "source": [
    "results.sample()"
   ]
  },
  {
   "cell_type": "code",
   "execution_count": 39,
   "metadata": {
    "metadata": {}
   },
   "outputs": [
    {
     "data": {
      "text/plain": [
       "200928"
      ]
     },
     "execution_count": 39,
     "metadata": {},
     "output_type": "execute_result"
    }
   ],
   "source": [
    "results.select('query_id').sample()['query_id'][0]"
   ]
  },
  {
   "cell_type": "code",
   "execution_count": 40,
   "metadata": {
    "metadata": {}
   },
   "outputs": [
    {
     "data": {
      "text/plain": [
       "(450718, [20, 20, 15, 15, 15, 15, 15, 15, 15, 15])"
      ]
     },
     "execution_count": 40,
     "metadata": {},
     "output_type": "execute_result"
    }
   ],
   "source": [
    "query_id = results.select('query_id').sample()['query_id'][0]\n",
    "query_silver_standard = silver_standard[query_id]\n",
    "true_relevances = [x[1] for x in query_silver_standard]\n",
    "query_id, true_relevances[:10]"
   ]
  },
  {
   "cell_type": "code",
   "execution_count": 41,
   "metadata": {
    "metadata": {}
   },
   "outputs": [
    {
     "name": "stdout",
     "output_type": "stream",
     "text": [
      "('embedding', 'fasttext')\n",
      "[0, 0, 0, 0, 0, 0, 15, 12, 15, 15] 1\n",
      "('josie', 'bag')\n",
      "[20, 20, 15, 15, 15, 15, 15, 15, 15, 15] 3\n",
      "('josie', 'set')\n",
      "[15, 12, 15, 15, 15, 10, 12, 15, 12, 12] 1\n",
      "('lshforest', 'bag')\n",
      "[1, 1, 1, 10, 1, 1, 1, 1, 1, 1] 0\n",
      "('lshforest', 'set')\n",
      "[1, 1, 1, 1, 1, 1, 1, 1, 1, 6] 0\n"
     ]
    }
   ],
   "source": [
    "from collections import Counter as multiset\n",
    "\n",
    "for name, data in results.filter(pl.col('query_id') == query_id).to_pandas().groupby(['algorithm', 'mode'], group_keys=True):\n",
    "    result_relevances = data['sloth_overlap'].values.tolist()\n",
    "    print(name)\n",
    "    tr = multiset(true_relevances[:3])\n",
    "    rr = multiset(result_relevances[:10])\n",
    "    p = sum(x[1] for x in (tr & rr).items())\n",
    "    print(result_relevances[:10], p)"
   ]
  },
  {
   "cell_type": "code",
   "execution_count": 31,
   "metadata": {
    "metadata": {}
   },
   "outputs": [
    {
     "data": {
      "text/plain": [
       "8"
      ]
     },
     "execution_count": 31,
     "metadata": {},
     "output_type": "execute_result"
    }
   ],
   "source": [
    "from collections import Counter as multiset\n",
    "\n",
    "tr = multiset(true_relevances[:10])\n",
    "\n",
    "rr = multiset([40, 18, 10, 7, 9, 9, 9, 6, 9, 8])\n",
    "\n",
    "sum(x[1] for x in (tr & rr).items())"
   ]
  },
  {
   "cell_type": "code",
   "execution_count": 8,
   "metadata": {
    "metadata": {}
   },
   "outputs": [
    {
     "data": {
      "text/plain": [
       "{('josie', 'set'): 'tab:blue',\n",
       " ('josie', 'bag'): 'tab:orange',\n",
       " ('lshforest', 'set'): 'tab:green',\n",
       " ('lshforest', 'bag'): 'tab:red',\n",
       " ('embedding', 'fasttext'): 'tab:purple'}"
      ]
     },
     "execution_count": 8,
     "metadata": {},
     "output_type": "execute_result"
    }
   ],
   "source": [
    "import matplotlib.colors as mcolors\n",
    "\n",
    "colors = list(mcolors.TABLEAU_COLORS.keys())\n",
    "methods = [('josie', 'set'), ('josie', 'bag'), ('lshforest', 'set'), ('lshforest', 'bag'), ('embedding', 'fasttext')]\n",
    "methods = {m: c for m, c in zip(methods, colors[:len(methods)])}\n",
    "methods"
   ]
  },
  {
   "cell_type": "code",
   "execution_count": null,
   "metadata": {},
   "outputs": [],
   "source": []
  }
 ],
 "metadata": {
  "kernelspec": {
   "display_name": "nanni-tesi-env",
   "language": "python",
   "name": "python3"
  },
  "language_info": {
   "codemirror_mode": {
    "name": "ipython",
    "version": 3
   },
   "file_extension": ".py",
   "mimetype": "text/x-python",
   "name": "python",
   "nbconvert_exporter": "python",
   "pygments_lexer": "ipython3",
   "version": "3.10.14"
  }
 },
 "nbformat": 4,
 "nbformat_minor": 2
}
