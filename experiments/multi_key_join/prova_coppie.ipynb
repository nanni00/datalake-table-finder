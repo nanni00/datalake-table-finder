{
 "cells": [
  {
   "cell_type": "code",
   "execution_count": 2,
   "metadata": {
    "metadata": {}
   },
   "outputs": [],
   "source": [
    "import os\n",
    "import re\n",
    "import pandas as pd\n",
    "from tqdm import tqdm\n",
    "from tqdm import tqdm\n",
    "import binascii\n",
    "from collections import defaultdict\n",
    "\n",
    "from tools.josie import JosieDB\n",
    "from tools.utils.datalake import SimpleDataLakeHelper\n",
    "from tools.utils.misc import is_valid_table, create_token_set, apply_sloth\n",
    "from tools.utils.classes import ResultDatabase\n",
    "from tools.utils.metrics import ndcg_at_p"
   ]
  },
  {
   "cell_type": "markdown",
   "metadata": {},
   "source": [
    "## Preparazione"
   ]
  },
  {
   "cell_type": "code",
   "execution_count": null,
   "metadata": {
    "metadata": {}
   },
   "outputs": [],
   "source": [
    "datalake_location, dataset, size = 'mongodb', 'wikiturlsnap', 'standard'\n",
    "\n",
    "dlh = SimpleDataLakeHelper(datalake_location, dataset, size)"
   ]
  },
  {
   "cell_type": "code",
   "execution_count": null,
   "metadata": {
    "metadata": {}
   },
   "outputs": [],
   "source": [
    "test_name, dataset, mode = 'main', 'wikiturlsnap', 'bag'"
   ]
  },
  {
   "cell_type": "code",
   "execution_count": null,
   "metadata": {
    "metadata": {}
   },
   "outputs": [],
   "source": [
    "dbname = 'nanni'\n",
    "tables_prefix = f'{test_name}_d{dataset}_m{mode}'\n",
    "results_directory = '/data4/nanni/tesi-magistrale/notebooks'\n",
    "results_file = '/data4/nanni/tesi-magistrale/notebooks/results.csv'\n",
    "k = 10"
   ]
  },
  {
   "cell_type": "code",
   "execution_count": null,
   "metadata": {
    "metadata": {}
   },
   "outputs": [],
   "source": [
    "josiedb = JosieDB(dbname, tables_prefix)\n",
    "josiedb.open()\n",
    "\n",
    "resultsdb = ResultDatabase(dbname, f'results_d{dataset}_s{size}')\n",
    "resultsdb.open()"
   ]
  },
  {
   "cell_type": "code",
   "execution_count": null,
   "metadata": {
    "metadata": {}
   },
   "outputs": [],
   "source": [
    "get_result_ids = lambda s: list(map(int, re.findall(r'\\d+', s)[::2]))\n",
    "get_result_overlaps = lambda s: list(map(int, re.findall(r'\\d+', s)[1::2]))\n",
    "\n",
    "parse_results = lambda r: list(zip(get_result_ids(r), get_result_overlaps(r)))\n",
    "\n",
    "\n",
    "def create_query_table(queries:dict[int:set[int]], dbname, tables_prefix):    \n",
    "    josiedb.open()\n",
    "    josiedb.clear_query_table()\n",
    "    for table_id, tokens_ids in queries.items():\n",
    "        josiedb._dbconn.execute(f\"INSERT INTO {tables_prefix}_queries VALUES ({table_id}, ARRAY[{','.join(map(str, tokens_ids))}]);\")\n",
    "    \n",
    "    josiedb._dbconn.commit()\n",
    "    GOPATH = os.environ['GOPATH']\n",
    "    josie_cmd_dir = f'{GOPATH}/src/github.com/ekzhu/josie/cmd'\n",
    "    os.chdir(josie_cmd_dir)\n",
    "    \n",
    "    # if cost sampling tables already exist we assume they are correct and won't recreate them\n",
    "    sample_costs_tables_exist = josiedb.cost_tables_exist()\n",
    "    josiedb.close()\n",
    "\n",
    "    if not sample_costs_tables_exist:\n",
    "        os.system(f'go run {josie_cmd_dir}/sample_costs/main.go \\\n",
    "                    --pg-database={dbname} \\\n",
    "                    --test_tag={tables_prefix} \\\n",
    "                    --pg-table-queries={tables_prefix}_queries')\n",
    "\n",
    "def query(results_file, k, results_directory, dbname, tables_prefix):\n",
    "    # we are not considering the query preparation steps, since in some cases this will \n",
    "    # include also the cost sampling phase and in other cases it won't\n",
    "    token_table_on_memory = False\n",
    "    \n",
    "    GOPATH = os.environ['GOPATH']\n",
    "    josie_cmd_dir = f'{GOPATH}/src/github.com/ekzhu/josie/cmd'\n",
    "    os.chdir(josie_cmd_dir)\n",
    "    \n",
    "    x = 'true' if token_table_on_memory else 'false'\n",
    "\n",
    "    os.system(f'go run {josie_cmd_dir}/topk/main.go \\\n",
    "                --pg-database={dbname} \\\n",
    "                --test_tag={tables_prefix} \\\n",
    "                --outputDir={results_directory} \\\n",
    "                --resultsFile={results_file} \\\n",
    "                --useMemTokenTable={x} \\\n",
    "                --k={k} \\\n",
    "                --verbose=false')\n",
    "\n",
    "def compute_sloth_for_the_lists(id1, id2):\n",
    "    id1, id2 = (id1, id2) if id1 <= id2 else (id2, id1)\n",
    "    sloth = resultsdb.lookup_result_table(id1, id2)\n",
    "    if sloth:\n",
    "        return sloth\n",
    "    tobj1 = dlh.get_table_by_numeric_id(id1)\n",
    "    tobj2 = dlh.get_table_by_numeric_id(id2)\n",
    "    sloth = apply_sloth(tobj1['content'], tobj2['content'], tobj1['numeric_columns'], tobj2['numeric_columns'])[0]\n",
    "    resultsdb.insert_results([[id1, id2, sloth]])\n",
    "    return sloth\n",
    "\n",
    "\n",
    "def josie_multi_query(queries:dict[int:set[int]], k, results_file, dbname, tables_prefix):\n",
    "    results_directory = os.path.dirname(results_file)\n",
    "    create_query_table(queries, dbname, tables_prefix)\n",
    "    query(results_file, k, results_directory, dbname, tables_prefix)\n",
    "    df = pd.read_csv(results_file)\n",
    "    return {row[0]: parse_results(row[1]) for row in df[['query_id', 'results']].itertuples(index=False)}\n",
    "\n",
    "\n",
    "def josie_single_query(set_id, token_set, k, results_file, dbname, tables_prefix):\n",
    "    results_directory = os.path.dirname(results_file)\n",
    "    create_query_table({set_id: token_set}, dbname, tables_prefix)\n",
    "    query(results_file, k, results_directory, dbname, tables_prefix)\n",
    "    return parse_results(pd.read_csv(results_file)['results'].values[0])"
   ]
  },
  {
   "cell_type": "markdown",
   "metadata": {},
   "source": [
    "1. Trovare le tabelle con 'Country', 'Team', 'Location'"
   ]
  },
  {
   "cell_type": "code",
   "execution_count": null,
   "metadata": {
    "metadata": {}
   },
   "outputs": [],
   "source": [
    "import random\n",
    "\n",
    "ntables = dlh.get_number_of_tables()\n",
    "names = ['Country', 'Team']\n",
    "\n",
    "N = 50\n",
    "queries = []\n",
    "for table_obj in tqdm(dlh.scan_tables(), total=ntables, leave=False):\n",
    "# while True:\n",
    "#     id = random.randint(0, ntables - 1)\n",
    "#     if id in queries: continue\n",
    "#     table_obj = dlh.get_table_by_numeric_id(id)\n",
    "    if is_valid_table(table_obj['content'], table_obj['numeric_columns']):\n",
    "        tabset = set(create_token_set(table_obj['content'], 'set', table_obj['numeric_columns']))\n",
    "        if sum(token in tabset for token in names) >= 2:\n",
    "            queries.append(table_obj)\n",
    "    if len(queries) >= N:\n",
    "        break"
   ]
  },
  {
   "cell_type": "code",
   "execution_count": null,
   "metadata": {
    "metadata": {}
   },
   "outputs": [],
   "source": [
    "len(queries)"
   ]
  },
  {
   "cell_type": "markdown",
   "metadata": {},
   "source": [
    "2. Dalle tabelle estratte, prendere le colonne con i token richiesti"
   ]
  },
  {
   "cell_type": "code",
   "execution_count": null,
   "metadata": {
    "metadata": {}
   },
   "outputs": [],
   "source": [
    "queries_bags = defaultdict(list)\n",
    "\n",
    "for q in queries:\n",
    "    table = q['content']\n",
    "    numeric_columns = q['numeric_columns']\n",
    "    \n",
    "    table = [[row[i] for row in table] for i in range(len(table[0])) if numeric_columns[i] == 0]\n",
    "    size1 = len(table) * len(table[0])\n",
    "    for column in table:\n",
    "        if any(token in column for token in names):\n",
    "            queries_bags[q['_id_numeric']].append(column)"
   ]
  },
  {
   "cell_type": "markdown",
   "metadata": {},
   "source": [
    "## Trovo i risultati rispetto la modalità a singola colonna"
   ]
  },
  {
   "cell_type": "markdown",
   "metadata": {},
   "source": [
    "3. Per ogni colonna creo il relativo bag"
   ]
  },
  {
   "cell_type": "code",
   "execution_count": null,
   "metadata": {
    "metadata": {}
   },
   "outputs": [],
   "source": [
    "single_column_bags = {qid: [create_token_set([column], 'bag', [0] * len(column)) for column in queries_bags[qid]] for qid in queries_bags.keys()}"
   ]
  },
  {
   "cell_type": "code",
   "execution_count": null,
   "metadata": {
    "metadata": {}
   },
   "outputs": [],
   "source": [
    "queries = defaultdict(list)\n",
    "\n",
    "for qid, qbag_list in single_column_bags.items():\n",
    "    result = josiedb._dbconn.execute(f\"SELECT tokens FROM {josiedb._SET_TABLE_NAME} WHERE id = {qid}\").fetchall()[0][0]\n",
    "\n",
    "    for qbag in qbag_list:\n",
    "        integer_tokens = set()\n",
    "        for id in result:\n",
    "            raw_token = josiedb._dbconn.execute(f\"SELECT raw_token FROM {josiedb._INVERTED_LISTS_TABLE_NAME} WHERE token = {id}\").fetchone()[0]\n",
    "            if binascii.unhexlify(raw_token).decode('utf-8') in qbag:\n",
    "                integer_tokens.add(id)\n",
    "        queries[qid].append(integer_tokens)        "
   ]
  },
  {
   "cell_type": "code",
   "execution_count": null,
   "metadata": {
    "metadata": {}
   },
   "outputs": [],
   "source": [
    "single_column_results = defaultdict(list)\n",
    "\n",
    "for qid, inttok in queries.items():    \n",
    "    for query_tok in inttok:\n",
    "        single_column_results[qid].extend(josie_single_query(qid, query_tok, k, results_file, dbname, tables_prefix))\n",
    "    single_column_results[qid] = sorted(single_column_results[qid], key=lambda r: r[1], reverse=True)[:k]"
   ]
  },
  {
   "cell_type": "markdown",
   "metadata": {},
   "source": [
    "## Poi i risultati con quella multi-column"
   ]
  },
  {
   "cell_type": "markdown",
   "metadata": {},
   "source": [
    "3. Creare l'input per JOSIE, cioè gli integer set"
   ]
  },
  {
   "cell_type": "code",
   "execution_count": null,
   "metadata": {},
   "outputs": [],
   "source": [
    "two_column_bags = {qid: create_token_set(columns, 'bag', [0] * len(columns[0])) for qid, columns in queries_bags.items()}"
   ]
  },
  {
   "cell_type": "code",
   "execution_count": null,
   "metadata": {},
   "outputs": [],
   "source": [
    "queries = defaultdict(set)\n",
    "\n",
    "for qid, qbag in two_column_bags.items():\n",
    "    result = josiedb._dbconn.execute(f\"SELECT tokens FROM {josiedb._SET_TABLE_NAME} WHERE id = {qid}\").fetchall()[0][0]\n",
    "\n",
    "    for id in result:\n",
    "        raw_token = josiedb._dbconn.execute(f\"SELECT raw_token FROM {josiedb._INVERTED_LISTS_TABLE_NAME} WHERE token = {id}\").fetchone()[0]\n",
    "        if binascii.unhexlify(raw_token).decode('utf-8') in qbag:\n",
    "            queries[qid].add(id)"
   ]
  },
  {
   "cell_type": "markdown",
   "metadata": {},
   "source": [
    "4. Eseguire i test con JOSIE"
   ]
  },
  {
   "cell_type": "code",
   "execution_count": null,
   "metadata": {},
   "outputs": [],
   "source": [
    "two_columns_results = josie_multi_query(queries, k, results_file, dbname, tables_prefix)"
   ]
  },
  {
   "cell_type": "markdown",
   "metadata": {},
   "source": [
    "## Creare i silver standard"
   ]
  },
  {
   "cell_type": "markdown",
   "metadata": {},
   "source": [
    "compute SLOTH (rectangular) overlap"
   ]
  },
  {
   "cell_type": "code",
   "execution_count": null,
   "metadata": {
    "metadata": {}
   },
   "outputs": [],
   "source": [
    "for result in [two_columns_results, single_column_results]:\n",
    "    for qid, res_list in tqdm(result.items()):\n",
    "        result[qid] = [[rid, bag_overlap, compute_sloth_for_the_lists(qid, rid)] for rid, bag_overlap in res_list]"
   ]
  },
  {
   "cell_type": "code",
   "execution_count": null,
   "metadata": {
    "metadata": {}
   },
   "outputs": [],
   "source": [
    "def create_silver_standard(*results):\n",
    "    silver_standard = defaultdict(list)\n",
    "\n",
    "    for result in results:\n",
    "        for qid, r in result.items():\n",
    "            silver_standard[qid].extend(r)\n",
    "    \n",
    "    for qid in silver_standard.keys():\n",
    "        silver_standard[qid] = sorted(silver_standard[qid], key=lambda t: t[2], reverse=True)[:k]\n",
    "    return silver_standard\n",
    "\n",
    "silver_standard = create_silver_standard(two_columns_results, single_column_results)"
   ]
  },
  {
   "cell_type": "code",
   "execution_count": null,
   "metadata": {
    "metadata": {}
   },
   "outputs": [],
   "source": [
    "ndcg = []\n",
    "\n",
    "for qid, silstd in silver_standard.items():\n",
    "    true_rel = [x[2] for x in silstd]\n",
    "    p = k\n",
    "    pred_rel = [x[2] for x in two_columns_results[qid]]\n",
    "    two_col_ndcg = ndcg_at_p(true_rel, pred_rel, p)\n",
    "    pred_rel = [x[2] for x in single_column_results[qid]]\n",
    "    one_col_ndcg = ndcg_at_p(true_rel, pred_rel, p)\n",
    "\n",
    "    ndcg.append([qid, two_col_ndcg, one_col_ndcg, k])"
   ]
  },
  {
   "cell_type": "markdown",
   "metadata": {},
   "source": [
    "## Analisi risultati"
   ]
  },
  {
   "cell_type": "code",
   "execution_count": 3,
   "metadata": {
    "metadata": {}
   },
   "outputs": [
    {
     "data": {
      "text/html": [
       "<div>\n",
       "<style scoped>\n",
       "    .dataframe tbody tr th:only-of-type {\n",
       "        vertical-align: middle;\n",
       "    }\n",
       "\n",
       "    .dataframe tbody tr th {\n",
       "        vertical-align: top;\n",
       "    }\n",
       "\n",
       "    .dataframe thead th {\n",
       "        text-align: right;\n",
       "    }\n",
       "</style>\n",
       "<table border=\"1\" class=\"dataframe\">\n",
       "  <thead>\n",
       "    <tr style=\"text-align: right;\">\n",
       "      <th></th>\n",
       "      <th>qid</th>\n",
       "      <th>2-col-ndcg</th>\n",
       "      <th>1-col-ndcg</th>\n",
       "      <th>10</th>\n",
       "    </tr>\n",
       "  </thead>\n",
       "  <tbody>\n",
       "    <tr>\n",
       "      <th>count</th>\n",
       "      <td>5.000000e+02</td>\n",
       "      <td>500.000000</td>\n",
       "      <td>500.000000</td>\n",
       "      <td>500.0</td>\n",
       "    </tr>\n",
       "    <tr>\n",
       "      <th>mean</th>\n",
       "      <td>1.061349e+06</td>\n",
       "      <td>0.888468</td>\n",
       "      <td>0.850134</td>\n",
       "      <td>10.0</td>\n",
       "    </tr>\n",
       "    <tr>\n",
       "      <th>std</th>\n",
       "      <td>2.473241e+05</td>\n",
       "      <td>0.093434</td>\n",
       "      <td>0.117940</td>\n",
       "      <td>0.0</td>\n",
       "    </tr>\n",
       "    <tr>\n",
       "      <th>min</th>\n",
       "      <td>5.648390e+05</td>\n",
       "      <td>0.532327</td>\n",
       "      <td>0.438489</td>\n",
       "      <td>10.0</td>\n",
       "    </tr>\n",
       "    <tr>\n",
       "      <th>25%</th>\n",
       "      <td>8.708492e+05</td>\n",
       "      <td>0.842785</td>\n",
       "      <td>0.763233</td>\n",
       "      <td>10.0</td>\n",
       "    </tr>\n",
       "    <tr>\n",
       "      <th>50%</th>\n",
       "      <td>1.073306e+06</td>\n",
       "      <td>0.908184</td>\n",
       "      <td>0.868279</td>\n",
       "      <td>10.0</td>\n",
       "    </tr>\n",
       "    <tr>\n",
       "      <th>75%</th>\n",
       "      <td>1.255924e+06</td>\n",
       "      <td>0.960920</td>\n",
       "      <td>0.956611</td>\n",
       "      <td>10.0</td>\n",
       "    </tr>\n",
       "    <tr>\n",
       "      <th>max</th>\n",
       "      <td>1.477931e+06</td>\n",
       "      <td>1.000000</td>\n",
       "      <td>1.000000</td>\n",
       "      <td>10.0</td>\n",
       "    </tr>\n",
       "  </tbody>\n",
       "</table>\n",
       "</div>"
      ],
      "text/plain": [
       "                qid  2-col-ndcg  1-col-ndcg     10\n",
       "count  5.000000e+02  500.000000  500.000000  500.0\n",
       "mean   1.061349e+06    0.888468    0.850134   10.0\n",
       "std    2.473241e+05    0.093434    0.117940    0.0\n",
       "min    5.648390e+05    0.532327    0.438489   10.0\n",
       "25%    8.708492e+05    0.842785    0.763233   10.0\n",
       "50%    1.073306e+06    0.908184    0.868279   10.0\n",
       "75%    1.255924e+06    0.960920    0.956611   10.0\n",
       "max    1.477931e+06    1.000000    1.000000   10.0"
      ]
     },
     "execution_count": 3,
     "metadata": {},
     "output_type": "execute_result"
    }
   ],
   "source": [
    "df = pd.read_csv('/data4/nanni/tesi-magistrale/experiments/ndcg_res-Country-Location.csv')\n",
    "df.describe()"
   ]
  },
  {
   "cell_type": "code",
   "execution_count": 5,
   "metadata": {
    "metadata": {}
   },
   "outputs": [
    {
     "data": {
      "text/html": [
       "<div>\n",
       "<style scoped>\n",
       "    .dataframe tbody tr th:only-of-type {\n",
       "        vertical-align: middle;\n",
       "    }\n",
       "\n",
       "    .dataframe tbody tr th {\n",
       "        vertical-align: top;\n",
       "    }\n",
       "\n",
       "    .dataframe thead th {\n",
       "        text-align: right;\n",
       "    }\n",
       "</style>\n",
       "<table border=\"1\" class=\"dataframe\">\n",
       "  <thead>\n",
       "    <tr style=\"text-align: right;\">\n",
       "      <th></th>\n",
       "      <th>qid</th>\n",
       "      <th>2-col-ndcg</th>\n",
       "      <th>1-col-ndcg</th>\n",
       "      <th>10</th>\n",
       "    </tr>\n",
       "  </thead>\n",
       "  <tbody>\n",
       "    <tr>\n",
       "      <th>count</th>\n",
       "      <td>5.000000e+02</td>\n",
       "      <td>500.000000</td>\n",
       "      <td>500.000000</td>\n",
       "      <td>500.0</td>\n",
       "    </tr>\n",
       "    <tr>\n",
       "      <th>mean</th>\n",
       "      <td>1.042024e+06</td>\n",
       "      <td>0.904413</td>\n",
       "      <td>0.818540</td>\n",
       "      <td>10.0</td>\n",
       "    </tr>\n",
       "    <tr>\n",
       "      <th>std</th>\n",
       "      <td>3.368824e+05</td>\n",
       "      <td>0.082035</td>\n",
       "      <td>0.175074</td>\n",
       "      <td>0.0</td>\n",
       "    </tr>\n",
       "    <tr>\n",
       "      <th>min</th>\n",
       "      <td>3.537690e+05</td>\n",
       "      <td>0.502540</td>\n",
       "      <td>0.205160</td>\n",
       "      <td>10.0</td>\n",
       "    </tr>\n",
       "    <tr>\n",
       "      <th>25%</th>\n",
       "      <td>7.772758e+05</td>\n",
       "      <td>0.854050</td>\n",
       "      <td>0.707757</td>\n",
       "      <td>10.0</td>\n",
       "    </tr>\n",
       "    <tr>\n",
       "      <th>50%</th>\n",
       "      <td>9.545530e+05</td>\n",
       "      <td>0.925148</td>\n",
       "      <td>0.870153</td>\n",
       "      <td>10.0</td>\n",
       "    </tr>\n",
       "    <tr>\n",
       "      <th>75%</th>\n",
       "      <td>1.388210e+06</td>\n",
       "      <td>0.968368</td>\n",
       "      <td>0.965032</td>\n",
       "      <td>10.0</td>\n",
       "    </tr>\n",
       "    <tr>\n",
       "      <th>max</th>\n",
       "      <td>1.544148e+06</td>\n",
       "      <td>1.000000</td>\n",
       "      <td>1.000000</td>\n",
       "      <td>10.0</td>\n",
       "    </tr>\n",
       "  </tbody>\n",
       "</table>\n",
       "</div>"
      ],
      "text/plain": [
       "                qid  2-col-ndcg  1-col-ndcg     10\n",
       "count  5.000000e+02  500.000000  500.000000  500.0\n",
       "mean   1.042024e+06    0.904413    0.818540   10.0\n",
       "std    3.368824e+05    0.082035    0.175074    0.0\n",
       "min    3.537690e+05    0.502540    0.205160   10.0\n",
       "25%    7.772758e+05    0.854050    0.707757   10.0\n",
       "50%    9.545530e+05    0.925148    0.870153   10.0\n",
       "75%    1.388210e+06    0.968368    0.965032   10.0\n",
       "max    1.544148e+06    1.000000    1.000000   10.0"
      ]
     },
     "execution_count": 5,
     "metadata": {},
     "output_type": "execute_result"
    }
   ],
   "source": [
    "df = pd.read_csv('/data4/nanni/tesi-magistrale/experiments/ndcg_res-Team-Country.csv')\n",
    "df.describe()"
   ]
  },
  {
   "cell_type": "code",
   "execution_count": 6,
   "metadata": {
    "metadata": {}
   },
   "outputs": [
    {
     "data": {
      "text/html": [
       "<div>\n",
       "<style scoped>\n",
       "    .dataframe tbody tr th:only-of-type {\n",
       "        vertical-align: middle;\n",
       "    }\n",
       "\n",
       "    .dataframe tbody tr th {\n",
       "        vertical-align: top;\n",
       "    }\n",
       "\n",
       "    .dataframe thead th {\n",
       "        text-align: right;\n",
       "    }\n",
       "</style>\n",
       "<table border=\"1\" class=\"dataframe\">\n",
       "  <thead>\n",
       "    <tr style=\"text-align: right;\">\n",
       "      <th></th>\n",
       "      <th>qid</th>\n",
       "      <th>2-col-ndcg</th>\n",
       "      <th>1-col-ndcg</th>\n",
       "      <th>10</th>\n",
       "    </tr>\n",
       "  </thead>\n",
       "  <tbody>\n",
       "    <tr>\n",
       "      <th>count</th>\n",
       "      <td>5.000000e+02</td>\n",
       "      <td>500.000000</td>\n",
       "      <td>500.000000</td>\n",
       "      <td>500.0</td>\n",
       "    </tr>\n",
       "    <tr>\n",
       "      <th>mean</th>\n",
       "      <td>9.023099e+05</td>\n",
       "      <td>0.867839</td>\n",
       "      <td>0.843752</td>\n",
       "      <td>10.0</td>\n",
       "    </tr>\n",
       "    <tr>\n",
       "      <th>std</th>\n",
       "      <td>1.087977e+05</td>\n",
       "      <td>0.088762</td>\n",
       "      <td>0.091706</td>\n",
       "      <td>0.0</td>\n",
       "    </tr>\n",
       "    <tr>\n",
       "      <th>min</th>\n",
       "      <td>5.782870e+05</td>\n",
       "      <td>0.540734</td>\n",
       "      <td>0.554002</td>\n",
       "      <td>10.0</td>\n",
       "    </tr>\n",
       "    <tr>\n",
       "      <th>25%</th>\n",
       "      <td>8.285928e+05</td>\n",
       "      <td>0.810642</td>\n",
       "      <td>0.785321</td>\n",
       "      <td>10.0</td>\n",
       "    </tr>\n",
       "    <tr>\n",
       "      <th>50%</th>\n",
       "      <td>9.114050e+05</td>\n",
       "      <td>0.885461</td>\n",
       "      <td>0.843179</td>\n",
       "      <td>10.0</td>\n",
       "    </tr>\n",
       "    <tr>\n",
       "      <th>75%</th>\n",
       "      <td>9.901992e+05</td>\n",
       "      <td>0.935065</td>\n",
       "      <td>0.913561</td>\n",
       "      <td>10.0</td>\n",
       "    </tr>\n",
       "    <tr>\n",
       "      <th>max</th>\n",
       "      <td>1.040057e+06</td>\n",
       "      <td>1.000000</td>\n",
       "      <td>1.000000</td>\n",
       "      <td>10.0</td>\n",
       "    </tr>\n",
       "  </tbody>\n",
       "</table>\n",
       "</div>"
      ],
      "text/plain": [
       "                qid  2-col-ndcg  1-col-ndcg     10\n",
       "count  5.000000e+02  500.000000  500.000000  500.0\n",
       "mean   9.023099e+05    0.867839    0.843752   10.0\n",
       "std    1.087977e+05    0.088762    0.091706    0.0\n",
       "min    5.782870e+05    0.540734    0.554002   10.0\n",
       "25%    8.285928e+05    0.810642    0.785321   10.0\n",
       "50%    9.114050e+05    0.885461    0.843179   10.0\n",
       "75%    9.901992e+05    0.935065    0.913561   10.0\n",
       "max    1.040057e+06    1.000000    1.000000   10.0"
      ]
     },
     "execution_count": 6,
     "metadata": {},
     "output_type": "execute_result"
    }
   ],
   "source": [
    "df = pd.read_csv('/data4/nanni/tesi-magistrale/experiments/ndcg_res-Athlete-Nationality.csv')\n",
    "df.describe()"
   ]
  },
  {
   "cell_type": "code",
   "execution_count": 7,
   "metadata": {
    "metadata": {}
   },
   "outputs": [
    {
     "data": {
      "text/html": [
       "<div>\n",
       "<style scoped>\n",
       "    .dataframe tbody tr th:only-of-type {\n",
       "        vertical-align: middle;\n",
       "    }\n",
       "\n",
       "    .dataframe tbody tr th {\n",
       "        vertical-align: top;\n",
       "    }\n",
       "\n",
       "    .dataframe thead th {\n",
       "        text-align: right;\n",
       "    }\n",
       "</style>\n",
       "<table border=\"1\" class=\"dataframe\">\n",
       "  <thead>\n",
       "    <tr style=\"text-align: right;\">\n",
       "      <th></th>\n",
       "      <th>qid</th>\n",
       "      <th>2-col-ndcg</th>\n",
       "      <th>1-col-ndcg</th>\n",
       "      <th>10</th>\n",
       "    </tr>\n",
       "  </thead>\n",
       "  <tbody>\n",
       "    <tr>\n",
       "      <th>count</th>\n",
       "      <td>7.000000e+00</td>\n",
       "      <td>7.000000</td>\n",
       "      <td>7.000000</td>\n",
       "      <td>7.0</td>\n",
       "    </tr>\n",
       "    <tr>\n",
       "      <th>mean</th>\n",
       "      <td>1.226013e+06</td>\n",
       "      <td>0.876718</td>\n",
       "      <td>0.850839</td>\n",
       "      <td>10.0</td>\n",
       "    </tr>\n",
       "    <tr>\n",
       "      <th>std</th>\n",
       "      <td>3.686160e+05</td>\n",
       "      <td>0.066320</td>\n",
       "      <td>0.096260</td>\n",
       "      <td>0.0</td>\n",
       "    </tr>\n",
       "    <tr>\n",
       "      <th>min</th>\n",
       "      <td>6.544040e+05</td>\n",
       "      <td>0.782534</td>\n",
       "      <td>0.714799</td>\n",
       "      <td>10.0</td>\n",
       "    </tr>\n",
       "    <tr>\n",
       "      <th>25%</th>\n",
       "      <td>1.058292e+06</td>\n",
       "      <td>0.851009</td>\n",
       "      <td>0.797902</td>\n",
       "      <td>10.0</td>\n",
       "    </tr>\n",
       "    <tr>\n",
       "      <th>50%</th>\n",
       "      <td>1.173581e+06</td>\n",
       "      <td>0.870563</td>\n",
       "      <td>0.831146</td>\n",
       "      <td>10.0</td>\n",
       "    </tr>\n",
       "    <tr>\n",
       "      <th>75%</th>\n",
       "      <td>1.425345e+06</td>\n",
       "      <td>0.891580</td>\n",
       "      <td>0.907062</td>\n",
       "      <td>10.0</td>\n",
       "    </tr>\n",
       "    <tr>\n",
       "      <th>max</th>\n",
       "      <td>1.786835e+06</td>\n",
       "      <td>0.998750</td>\n",
       "      <td>1.000000</td>\n",
       "      <td>10.0</td>\n",
       "    </tr>\n",
       "  </tbody>\n",
       "</table>\n",
       "</div>"
      ],
      "text/plain": [
       "                qid  2-col-ndcg  1-col-ndcg    10\n",
       "count  7.000000e+00    7.000000    7.000000   7.0\n",
       "mean   1.226013e+06    0.876718    0.850839  10.0\n",
       "std    3.686160e+05    0.066320    0.096260   0.0\n",
       "min    6.544040e+05    0.782534    0.714799  10.0\n",
       "25%    1.058292e+06    0.851009    0.797902  10.0\n",
       "50%    1.173581e+06    0.870563    0.831146  10.0\n",
       "75%    1.425345e+06    0.891580    0.907062  10.0\n",
       "max    1.786835e+06    0.998750    1.000000  10.0"
      ]
     },
     "execution_count": 7,
     "metadata": {},
     "output_type": "execute_result"
    }
   ],
   "source": [
    "df = pd.read_csv('/data4/nanni/tesi-magistrale/experiments/ndcg_res-Athlete-Country-Location.csv')\n",
    "df.describe()"
   ]
  },
  {
   "cell_type": "markdown",
   "metadata": {},
   "source": [
    "1 calcolo con singole colonne\n",
    "\n",
    "2 cercare coppie in cui l'overlap SLOTH e vicino a quello di JOSIE\n",
    "\n",
    "2.1 controllare il discorso tail: se con k=10 tutti i risultati sono ottimi, magari occorre prendere k=20 per avere una coda di valori meno buoni da confrontare\n",
    "\n",
    "2.2 considerare le coppie di query-result con differenza tra bag intersection e largest overlap bassa\n",
    "\n",
    "3 calcolo multi column sulle query filtrate dal passaggio precedente\n",
    "\n",
    "4 verifica quale dei due va meglio\n"
   ]
  }
 ],
 "metadata": {
  "kernelspec": {
   "display_name": "nanni-tesi-env",
   "language": "python",
   "name": "python3"
  },
  "language_info": {
   "codemirror_mode": {
    "name": "ipython",
    "version": 3
   },
   "file_extension": ".py",
   "mimetype": "text/x-python",
   "name": "python",
   "nbconvert_exporter": "python",
   "pygments_lexer": "ipython3",
   "version": "3.10.14"
  }
 },
 "nbformat": 4,
 "nbformat_minor": 2
}
