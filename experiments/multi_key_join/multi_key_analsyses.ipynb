{
 "cells": [
  {
   "cell_type": "code",
   "execution_count": 1,
   "metadata": {},
   "outputs": [],
   "source": [
    "import polars as pl\n",
    "import pandas as pd\n",
    "from random import sample\n",
    "from statistics import mean\n",
    "from functools import reduce\n",
    "import multiprocessing as mp\n",
    "from collections import Counter\n",
    "from collections import defaultdict\n",
    "\n",
    "from tqdm import tqdm\n",
    "import matplotlib.pyplot as plt\n",
    "\n",
    "from tools.utils.parallel import chunks\n",
    "from tools.utils.datalake import SimpleDataLakeHelper\n",
    "from tools.utils.misc import table_rows_to_columns, table_to_tokens\n",
    "from tools.utils.metrics import recall_at_k, ndcg_at_k"
   ]
  },
  {
   "cell_type": "code",
   "execution_count": 2,
   "metadata": {},
   "outputs": [],
   "source": [
    "analyses_dir = '/data4/nanni/tesi-magistrale/experiments/multi_key_join/wikiturlsnap_mate'"
   ]
  },
  {
   "cell_type": "markdown",
   "metadata": {},
   "source": [
    "# Time Analyses"
   ]
  },
  {
   "cell_type": "code",
   "execution_count": 172,
   "metadata": {},
   "outputs": [
    {
     "data": {
      "text/plain": [
       "'director-genre'"
      ]
     },
     "execution_count": 172,
     "metadata": {},
     "output_type": "execute_result"
    }
   ],
   "source": [
    "multi_keys = [\n",
    "    'party-district',\n",
    "    'party-member', \n",
    "    'director-genre'\n",
    "]\n",
    "multi_key = multi_keys[2]\n",
    "\n",
    "T = 0.9\n",
    "N = 600\n",
    "K = 50\n",
    "\n",
    "josie_mc = pl.read_csv(f'{analyses_dir}/{multi_key}/N{N}_K{K}_T{T}/results_multi_josie.csv')\n",
    "josie_bl = pl.read_csv(f'{analyses_dir}/{multi_key}/N{N}_K{K}_T{T}/results_single_josie.csv')\n",
    "mate = pl.read_csv(f'{analyses_dir}/{multi_key}/N{N}_K{K}_T{T}/mate_time.txt', has_header=False, separator=';').rename({'column_1': 'duration'})\n",
    "multi_key"
   ]
  },
  {
   "cell_type": "code",
   "execution_count": 173,
   "metadata": {},
   "outputs": [
    {
     "data": {
      "text/html": [
       "<div><style>\n",
       ".dataframe > thead > tr,\n",
       ".dataframe > tbody > tr {\n",
       "  text-align: right;\n",
       "  white-space: pre-wrap;\n",
       "}\n",
       "</style>\n",
       "<small>shape: (9, 6)</small><table border=\"1\" class=\"dataframe\"><thead><tr><th>statistic</th><th>duration</th><th>num_set_read</th><th>num_list_read</th><th>max_set_size_read</th><th>max_list_size_read</th></tr><tr><td>str</td><td>f64</td><td>f64</td><td>f64</td><td>f64</td><td>f64</td></tr></thead><tbody><tr><td>&quot;count&quot;</td><td>600.0</td><td>600.0</td><td>600.0</td><td>600.0</td><td>600.0</td></tr><tr><td>&quot;null_count&quot;</td><td>0.0</td><td>0.0</td><td>0.0</td><td>0.0</td><td>0.0</td></tr><tr><td>&quot;mean&quot;</td><td>0.072365</td><td>23.916667</td><td>58.07</td><td>189.653333</td><td>17115.441667</td></tr><tr><td>&quot;std&quot;</td><td>0.037173</td><td>49.150714</td><td>56.042839</td><td>428.509713</td><td>7397.9414</td></tr><tr><td>&quot;min&quot;</td><td>0.002</td><td>0.0</td><td>7.0</td><td>0.0</td><td>288.0</td></tr><tr><td>&quot;25%&quot;</td><td>0.048</td><td>0.0</td><td>28.0</td><td>0.0</td><td>7129.0</td></tr><tr><td>&quot;50%&quot;</td><td>0.068</td><td>2.0</td><td>48.0</td><td>55.0</td><td>21579.0</td></tr><tr><td>&quot;75%&quot;</td><td>0.092</td><td>24.0</td><td>70.0</td><td>172.0</td><td>21579.0</td></tr><tr><td>&quot;max&quot;</td><td>0.34</td><td>410.0</td><td>555.0</td><td>4213.0</td><td>38152.0</td></tr></tbody></table></div>"
      ],
      "text/plain": [
       "shape: (9, 6)\n",
       "┌────────────┬──────────┬──────────────┬───────────────┬───────────────────┬────────────────────┐\n",
       "│ statistic  ┆ duration ┆ num_set_read ┆ num_list_read ┆ max_set_size_read ┆ max_list_size_read │\n",
       "│ ---        ┆ ---      ┆ ---          ┆ ---           ┆ ---               ┆ ---                │\n",
       "│ str        ┆ f64      ┆ f64          ┆ f64           ┆ f64               ┆ f64                │\n",
       "╞════════════╪══════════╪══════════════╪═══════════════╪═══════════════════╪════════════════════╡\n",
       "│ count      ┆ 600.0    ┆ 600.0        ┆ 600.0         ┆ 600.0             ┆ 600.0              │\n",
       "│ null_count ┆ 0.0      ┆ 0.0          ┆ 0.0           ┆ 0.0               ┆ 0.0                │\n",
       "│ mean       ┆ 0.072365 ┆ 23.916667    ┆ 58.07         ┆ 189.653333        ┆ 17115.441667       │\n",
       "│ std        ┆ 0.037173 ┆ 49.150714    ┆ 56.042839     ┆ 428.509713        ┆ 7397.9414          │\n",
       "│ min        ┆ 0.002    ┆ 0.0          ┆ 7.0           ┆ 0.0               ┆ 288.0              │\n",
       "│ 25%        ┆ 0.048    ┆ 0.0          ┆ 28.0          ┆ 0.0               ┆ 7129.0             │\n",
       "│ 50%        ┆ 0.068    ┆ 2.0          ┆ 48.0          ┆ 55.0              ┆ 21579.0            │\n",
       "│ 75%        ┆ 0.092    ┆ 24.0         ┆ 70.0          ┆ 172.0             ┆ 21579.0            │\n",
       "│ max        ┆ 0.34     ┆ 410.0        ┆ 555.0         ┆ 4213.0            ┆ 38152.0            │\n",
       "└────────────┴──────────┴──────────────┴───────────────┴───────────────────┴────────────────────┘"
      ]
     },
     "execution_count": 173,
     "metadata": {},
     "output_type": "execute_result"
    }
   ],
   "source": [
    "josie_bl.select(['query_id', 'duration',  'num_set_read', 'num_list_read', 'max_set_size_read', 'max_list_size_read']) \\\n",
    "    .group_by('query_id').sum().drop('query_id').with_columns(pl.col('duration') / 1000).describe()"
   ]
  },
  {
   "cell_type": "code",
   "execution_count": 174,
   "metadata": {},
   "outputs": [
    {
     "data": {
      "text/html": [
       "<div><style>\n",
       ".dataframe > thead > tr,\n",
       ".dataframe > tbody > tr {\n",
       "  text-align: right;\n",
       "  white-space: pre-wrap;\n",
       "}\n",
       "</style>\n",
       "<small>shape: (9, 6)</small><table border=\"1\" class=\"dataframe\"><thead><tr><th>statistic</th><th>duration</th><th>num_set_read</th><th>num_list_read</th><th>max_set_size_read</th><th>max_list_size_read</th></tr><tr><td>str</td><td>f64</td><td>f64</td><td>f64</td><td>f64</td><td>f64</td></tr></thead><tbody><tr><td>&quot;count&quot;</td><td>600.0</td><td>600.0</td><td>600.0</td><td>600.0</td><td>600.0</td></tr><tr><td>&quot;null_count&quot;</td><td>0.0</td><td>0.0</td><td>0.0</td><td>0.0</td><td>0.0</td></tr><tr><td>&quot;mean&quot;</td><td>0.070137</td><td>38.668333</td><td>57.953333</td><td>249.315</td><td>13241.795</td></tr><tr><td>&quot;std&quot;</td><td>0.035475</td><td>41.286915</td><td>55.951128</td><td>392.130633</td><td>5407.93709</td></tr><tr><td>&quot;min&quot;</td><td>0.002</td><td>0.0</td><td>7.0</td><td>0.0</td><td>241.0</td></tr><tr><td>&quot;25%&quot;</td><td>0.045</td><td>1.0</td><td>28.0</td><td>21.0</td><td>4903.0</td></tr><tr><td>&quot;50%&quot;</td><td>0.067</td><td>50.0</td><td>48.0</td><td>123.0</td><td>16676.0</td></tr><tr><td>&quot;75%&quot;</td><td>0.09</td><td>54.0</td><td>69.0</td><td>327.0</td><td>16676.0</td></tr><tr><td>&quot;max&quot;</td><td>0.255</td><td>269.0</td><td>553.0</td><td>4067.0</td><td>19076.0</td></tr></tbody></table></div>"
      ],
      "text/plain": [
       "shape: (9, 6)\n",
       "┌────────────┬──────────┬──────────────┬───────────────┬───────────────────┬────────────────────┐\n",
       "│ statistic  ┆ duration ┆ num_set_read ┆ num_list_read ┆ max_set_size_read ┆ max_list_size_read │\n",
       "│ ---        ┆ ---      ┆ ---          ┆ ---           ┆ ---               ┆ ---                │\n",
       "│ str        ┆ f64      ┆ f64          ┆ f64           ┆ f64               ┆ f64                │\n",
       "╞════════════╪══════════╪══════════════╪═══════════════╪═══════════════════╪════════════════════╡\n",
       "│ count      ┆ 600.0    ┆ 600.0        ┆ 600.0         ┆ 600.0             ┆ 600.0              │\n",
       "│ null_count ┆ 0.0      ┆ 0.0          ┆ 0.0           ┆ 0.0               ┆ 0.0                │\n",
       "│ mean       ┆ 0.070137 ┆ 38.668333    ┆ 57.953333     ┆ 249.315           ┆ 13241.795          │\n",
       "│ std        ┆ 0.035475 ┆ 41.286915    ┆ 55.951128     ┆ 392.130633        ┆ 5407.93709         │\n",
       "│ min        ┆ 0.002    ┆ 0.0          ┆ 7.0           ┆ 0.0               ┆ 241.0              │\n",
       "│ 25%        ┆ 0.045    ┆ 1.0          ┆ 28.0          ┆ 21.0              ┆ 4903.0             │\n",
       "│ 50%        ┆ 0.067    ┆ 50.0         ┆ 48.0          ┆ 123.0             ┆ 16676.0            │\n",
       "│ 75%        ┆ 0.09     ┆ 54.0         ┆ 69.0          ┆ 327.0             ┆ 16676.0            │\n",
       "│ max        ┆ 0.255    ┆ 269.0        ┆ 553.0         ┆ 4067.0            ┆ 19076.0            │\n",
       "└────────────┴──────────┴──────────────┴───────────────┴───────────────────┴────────────────────┘"
      ]
     },
     "execution_count": 174,
     "metadata": {},
     "output_type": "execute_result"
    }
   ],
   "source": [
    "josie_mc.select(['query_id', 'duration', 'num_set_read', 'num_list_read', 'max_set_size_read', 'max_list_size_read']) \\\n",
    "    .group_by('query_id').sum().drop('query_id').with_columns(pl.col('duration') / 1000).describe()"
   ]
  },
  {
   "cell_type": "code",
   "execution_count": 177,
   "metadata": {},
   "outputs": [
    {
     "data": {
      "text/html": [
       "<div><style>\n",
       ".dataframe > thead > tr,\n",
       ".dataframe > tbody > tr {\n",
       "  text-align: right;\n",
       "  white-space: pre-wrap;\n",
       "}\n",
       "</style>\n",
       "<small>shape: (9, 2)</small><table border=\"1\" class=\"dataframe\"><thead><tr><th>statistic</th><th>duration</th></tr><tr><td>str</td><td>f64</td></tr></thead><tbody><tr><td>&quot;count&quot;</td><td>600.0</td></tr><tr><td>&quot;null_count&quot;</td><td>0.0</td></tr><tr><td>&quot;mean&quot;</td><td>60.475185</td></tr><tr><td>&quot;std&quot;</td><td>51.368929</td></tr><tr><td>&quot;min&quot;</td><td>7.056</td></tr><tr><td>&quot;25%&quot;</td><td>27.565</td></tr><tr><td>&quot;50%&quot;</td><td>47.833</td></tr><tr><td>&quot;75%&quot;</td><td>77.5</td></tr><tr><td>&quot;max&quot;</td><td>442.531</td></tr></tbody></table></div>"
      ],
      "text/plain": [
       "shape: (9, 2)\n",
       "┌────────────┬───────────┐\n",
       "│ statistic  ┆ duration  │\n",
       "│ ---        ┆ ---       │\n",
       "│ str        ┆ f64       │\n",
       "╞════════════╪═══════════╡\n",
       "│ count      ┆ 600.0     │\n",
       "│ null_count ┆ 0.0       │\n",
       "│ mean       ┆ 60.475185 │\n",
       "│ std        ┆ 51.368929 │\n",
       "│ min        ┆ 7.056     │\n",
       "│ 25%        ┆ 27.565    │\n",
       "│ 50%        ┆ 47.833    │\n",
       "│ 75%        ┆ 77.5      │\n",
       "│ max        ┆ 442.531   │\n",
       "└────────────┴───────────┘"
      ]
     },
     "execution_count": 177,
     "metadata": {},
     "output_type": "execute_result"
    }
   ],
   "source": [
    "mate[:-1].map_rows(lambda t: (eval(t[0]),)).explode('column_0').rename({'column_0': 'duration'}).describe()"
   ]
  },
  {
   "cell_type": "markdown",
   "metadata": {},
   "source": [
    "# Other Analyses"
   ]
  },
  {
   "cell_type": "markdown",
   "metadata": {},
   "source": [
    "## How many results are returned by BSL and MC? And how many results of BSL are included by those from MC? "
   ]
  },
  {
   "cell_type": "code",
   "execution_count": 228,
   "metadata": {},
   "outputs": [],
   "source": [
    "multi_keys = [\n",
    "    'party-district',\n",
    "    'party-member', \n",
    "    # 'director-genre',\n",
    "    # 'home-road'\n",
    "]\n",
    "\n",
    "N = 600\n",
    "K = 50\n",
    "min_h = 0.6\n",
    "k_values = [1, 5, 10, 20, 30]"
   ]
  },
  {
   "cell_type": "code",
   "execution_count": 229,
   "metadata": {},
   "outputs": [
    {
     "data": {
      "image/png": "[encoded data removed]",
      "text/plain": [
       "<Figure size 800x500 with 4 Axes>"
      ]
     },
     "metadata": {},
     "output_type": "display_data"
    }
   ],
   "source": [
    "# fig, (axs_rec, axs_ndcg, axs_num_res) = plt.subplots(3, len(multi_keys), sharey='row', sharex='col', figsize=(4 * len(multi_keys), 5))\n",
    "fig, (axs_rec, axs_num_res) = plt.subplots(2, len(multi_keys), sharey='row', sharex='col', figsize=(4 * len(multi_keys), 5))\n",
    "\n",
    "plt.subplots_adjust(hspace=0.2)\n",
    "\n",
    "versions = ['BSL', 'MC', 'MATE']\n",
    "data = defaultdict(dict)\n",
    "\n",
    "line_color = {\n",
    "    'BSL': {\n",
    "        'line': '-o',\n",
    "        'color': 'tab:blue'\n",
    "    },\n",
    "    'MC': {\n",
    "        'line': '-d', \n",
    "        'color': 'tab:orange'\n",
    "    },\n",
    "    'MATE': {\n",
    "        'line': '--x', \n",
    "        'color': 'tab:green'\n",
    "    }\n",
    "}\n",
    "\n",
    "actually_used_query_ids = defaultdict(list)\n",
    "for multi_key, axrec, axnr in zip(multi_keys, axs_rec, axs_num_res):\n",
    "    results = (\n",
    "            pl\n",
    "            .read_csv(f'{analyses_dir}/{multi_key}/N{N}_K{K}_T{min_h}/final_results.csv')\n",
    "            .filter(pl.col('version').is_in(versions))\n",
    "            .with_columns(\n",
    "                (pl.col('columns_overlap') > 0).cast(pl.Int8).alias('columns_overlap_01'),\n",
    "                pl.col('columns_overlap').replace(-2, 0)\n",
    "            )\n",
    "        )\n",
    "    \n",
    "    # take only those queries that have at least one accepted candidate\n",
    "    # from these, select only the first 100\n",
    "    nresults = 100\n",
    "    analyses_results = [\n",
    "        q for (q, ), group in results.group_by('query_id') \n",
    "        if any(group.select('columns_overlap').filter(pl.col('columns_overlap') > 0).rows())]\n",
    "    analyses_results = sample(analyses_results, min(nresults, len(analyses_results)))\n",
    "    results = results.filter(pl.col('query_id').is_in(analyses_results))\n",
    "\n",
    "    if len(analyses_results) < nresults:\n",
    "        print(f'min_h={min_h} - {multi_key} has not {nresults} results: {len(analyses_results)}')\n",
    "    \n",
    "    for q in analyses_results:\n",
    "        actually_used_query_ids[multi_key].append(q)\n",
    "\n",
    "    # compute the cumulative number of total valid results for both BSL and MC\n",
    "    # and the % of BSL results that is a subset of the MC results (--> this btw doens't tell much about\n",
    "    # values that BSL only discovered) and compute the recall@K (0/1 values with meaning \"not valid/valid candidate\")\n",
    "    num_results_per_k = []\n",
    "    silver_standard = {'01': {}, 'relevance': {}}\n",
    "\n",
    "    for version in versions:\n",
    "        data[version]['final_recall'] = {}\n",
    "        data[version]['final_ndcg'] = {}\n",
    "        data[version]['final_mean_nres'] = {}\n",
    "        \n",
    "        data[version]['results_for_query'] = {}\n",
    "        data[version]['results_for_query_01'] = {}\n",
    "        data[version]['results'] = results.filter((pl.col('version') == version))\n",
    "\n",
    "    query_groups = results.group_by('query_id')\n",
    "\n",
    "    # compute the silver standard, both as 0/1 values (not-valid/valid)\n",
    "    # and relevance values (the overlap between the query columns and the result table)\n",
    "    for (q, ), qgroup in query_groups:\n",
    "        silver_standard['relevance'][q], silver_standard['01'][q] = zip(\n",
    "            *results\n",
    "            .filter(pl.col('query_id') == q)\n",
    "            .unique(subset=['query_id', 'result_id'])\n",
    "            .select(['columns_overlap', 'columns_overlap_01'])\n",
    "            .sort(by='columns_overlap', descending=True)\n",
    "            .rows())\n",
    "    \n",
    "    # for each version and query extract as a list the results, both as 0/1 values and relevance values\n",
    "    for (version, q), qgroup in results.group_by('version', 'query_id'):\n",
    "        data[version]['results_for_query_01'][q] = qgroup.select('columns_overlap_01').to_series().to_list()\n",
    "        data[version]['results_for_query'][q] = qgroup.select('columns_overlap').to_series().to_list()\n",
    "    \n",
    "    # for each K, compute recall@K, nDCG@K \n",
    "    # and the mean number of results found per query\n",
    "    for k in k_values:\n",
    "        for version in versions:\n",
    "            data[version]['recall'] = []\n",
    "            data[version]['ndcg'] = []\n",
    "            data[version]['mean_nres'] = []\n",
    "\n",
    "        for (q, ), qgroup in query_groups:\n",
    "            for version in versions:\n",
    "                r = data[version]['results_for_query_01'][q] if q in data[version]['results_for_query_01'] else []\n",
    "                data[version]['mean_nres'].append(sum(r[:k]))\n",
    "                data[version]['recall'].append(recall_at_k(silver_standard['01'][q], r, k))\n",
    "                \n",
    "                r = data[version]['results_for_query'][q] if q in data[version]['results_for_query'] else []\n",
    "                data[version]['ndcg'].append(ndcg_at_k(silver_standard['relevance'][q], r, k)[0])\n",
    "\n",
    "        for version in versions:\n",
    "            data[version]['final_recall'][k] =      100 * mean(data[version]['recall'])\n",
    "            data[version]['final_ndcg'][k] =        100 * mean(data[version]['ndcg'])\n",
    "            data[version]['final_mean_nres'][k] =   mean(data[version]['mean_nres'])\n",
    "\n",
    "    for i, version in enumerate(versions):\n",
    "        axrec.plot(k_values, list(data[version]['final_recall'].values()),      line_color[version]['line'], label=f'{min_h}-{version}', markersize=5)\n",
    "        # axndcg.plot(k_values, list(data[version]['final_ndcg'].values()),       line_color[version]['line'], label=f'{min_h}-{version}', markersize=5)\n",
    "        axnr.plot(k_values, list(data[version]['final_mean_nres'].values()),    line_color[version]['line'], label=f'{min_h}-{version}', markersize=5)\n",
    "    \n",
    "    axrec.set_xlabel(multi_key)\n",
    "    axrec.xaxis.set_label_position('top')\n",
    "    axnr.set_xlabel(f\"K\")\n",
    "    \n",
    "    axrec.grid(True)\n",
    "    # axndcg.grid(True)\n",
    "    axnr.grid(True)\n",
    "\n",
    "    axnr.set_xticks(k_values)\n",
    "    axnr.set_yscale('log')\n",
    "\n",
    "\n",
    "axs_rec[0].set_ylabel('mean\\nrecall@K %')\n",
    "axs_rec[0].set_ylim(0, 105)\n",
    "# axs_ndcg[0].set_ylabel('mean\\nnDCG@K %')\n",
    "axs_num_res[0].set_ylabel('mean number of\\nvalid top-K results')\n",
    "\n",
    "axs_rec[-1].legend(loc='best',      bbox_to_anchor=(0., 0., 1.5, 1))\n",
    "# axs_ndcg[-1].legend(loc='best',     bbox_to_anchor=(0., 0., 1.5, 1))\n",
    "axs_num_res[-1].legend(loc='best',  bbox_to_anchor=(0., 0., 1.5, 1))\n",
    "fig.suptitle(f'Results for min_h={min_h}')\n",
    "fig.show()"
   ]
  },
  {
   "cell_type": "markdown",
   "metadata": {},
   "source": [
    "## Is there any case where BSL find valid candidates and MC not?"
   ]
  },
  {
   "cell_type": "code",
   "execution_count": 42,
   "metadata": {},
   "outputs": [
    {
     "name": "stdout",
     "output_type": "stream",
     "text": [
      "min_h = 0.6\n",
      "[['home-road', (396269,)], ['home-road', (178448,)], ['home-road', (555382,)], ['home-road', (179220,)], ['home-div', (335320,)], ['home-div', (531762,)], ['home-div', (531891,)], ['home-div', (345132,)], ['home-div', (532106,)], ['home-div', (480864,)], ['party-district', (495363,)], ['party-district', (1381597,)], ['party-district', (1580721,)], ['party-district', (1544348,)], ['party-district', (1376179,)]]\n",
      "min_h = 0.9\n",
      "[['party-member', (1101205,)], ['home-road', (495894,)], ['home-road', (276314,)], ['home-road', (555382,)], ['home-road', (272552,)], ['home-road', (179220,)], ['home-road', (519247,)], ['home-road', (472474,)], ['home-road', (495718,)], ['home-div', (404655,)], ['home-div', (335419,)], ['home-div', (345143,)], ['home-div', (470306,)], ['home-div', (535887,)], ['party-district', (495363,)], ['party-district', (1544348,)]]\n"
     ]
    }
   ],
   "source": [
    "for min_h in min_h_values:\n",
    "    qids = []\n",
    "    for multi_key in multi_keys:\n",
    "        results = pl.read_csv(f'{analyses_dir}/{multi_key}/N{N}_K{K}_T{min_h}/final_results.csv').filter(pl.col('SLOTH_columns_overlap') > 0)\n",
    "        for qid, qgroup in results.group_by('query_id'):\n",
    "            nres_bsl = qgroup.filter(pl.col('version') == 'baseline').shape[0]\n",
    "            nres_mc  = qgroup.filter(pl.col('version') == 'MC').shape[0]\n",
    "            if nres_bsl > nres_mc:\n",
    "                qids.append([multi_key, qid])\n",
    "    print(f'min_h = {min_h}')\n",
    "    print(qids)"
   ]
  },
  {
   "cell_type": "markdown",
   "metadata": {},
   "source": [
    "## How big are the attributes domains (only from queries)?"
   ]
  },
  {
   "cell_type": "code",
   "execution_count": 30,
   "metadata": {},
   "outputs": [
    {
     "name": "stderr",
     "output_type": "stream",
     "text": [
      "  2%|▏         | 306/18800 [00:00<00:14, 1253.72it/s]"
     ]
    },
    {
     "name": "stderr",
     "output_type": "stream",
     "text": [
      "100%|██████████| 18800/18800 [00:06<00:00, 2841.58it/s]\n",
      "100%|██████████| 30000/30000 [00:06<00:00, 4477.07it/s]\n",
      "100%|██████████| 29328/29328 [00:07<00:00, 3993.43it/s]\n",
      "100%|██████████| 30000/30000 [00:07<00:00, 3781.93it/s]\n"
     ]
    }
   ],
   "source": [
    "dlh = SimpleDataLakeHelper('mongodb', 'wikiturlsnap', 'standard')\n",
    "\n",
    "\n",
    "N = 300\n",
    "K = 50\n",
    "T = 0.9\n",
    "\n",
    "domains_set = defaultdict(set)\n",
    "domains_bag = defaultdict(set)\n",
    "\n",
    "for multi_key in multi_keys:\n",
    "    mk_results = pl.read_csv(f\"{analyses_dir}/{multi_key}/N{N}_K{K}_T{T}/final_results.csv\")\n",
    "    keys = multi_key.split('-')\n",
    "    for qid in tqdm(mk_results.select('query_id').rows()):\n",
    "        if qid[0] not in actually_used_query_ids:\n",
    "            continue\n",
    "        table_obj = dlh.get_table_by_numeric_id(qid[0])\n",
    "        bad_columns = table_obj['numeric_columns']\n",
    "        headers = [str(h).lower().strip() for h in (table_obj['headers'] if table_obj['headers'] != None else table_obj['content'][0])]\n",
    "        table = table_rows_to_columns(table_obj['content'], 0, len(table_obj['content'][0]), bad_columns)\n",
    "\n",
    "        for header, column, is_bad in zip(headers, table, bad_columns):\n",
    "            if not is_bad:\n",
    "                for key in keys:\n",
    "                    if header == key:\n",
    "                        for token in table_to_tokens([column], 'set', [0] * len(column)):\n",
    "                            domains_set[key].add(token)\n",
    "                        for token in table_to_tokens([column], 'bag', [0] * len(column)):\n",
    "                            domains_bag[key].add(token)"
   ]
  },
  {
   "cell_type": "code",
   "execution_count": 31,
   "metadata": {},
   "outputs": [
    {
     "data": {
      "text/html": [
       "<div><style>\n",
       ".dataframe > thead > tr,\n",
       ".dataframe > tbody > tr {\n",
       "  text-align: right;\n",
       "  white-space: pre-wrap;\n",
       "}\n",
       "</style>\n",
       "<small>shape: (5, 3)</small><table border=\"1\" class=\"dataframe\"><thead><tr><th>attribute</th><th>set_query_domain_size</th><th>bag_query_domain_size</th></tr><tr><td>str</td><td>i64</td><td>i64</td></tr></thead><tbody><tr><td>&quot;province&quot;</td><td>599</td><td>2214</td></tr><tr><td>&quot;city&quot;</td><td>3506</td><td>4555</td></tr><tr><td>&quot;club&quot;</td><td>2199</td><td>2234</td></tr><tr><td>&quot;stadium&quot;</td><td>1417</td><td>1550</td></tr><tr><td>&quot;country&quot;</td><td>704</td><td>1278</td></tr></tbody></table></div>"
      ],
      "text/plain": [
       "shape: (5, 3)\n",
       "┌───────────┬───────────────────────┬───────────────────────┐\n",
       "│ attribute ┆ set_query_domain_size ┆ bag_query_domain_size │\n",
       "│ ---       ┆ ---                   ┆ ---                   │\n",
       "│ str       ┆ i64                   ┆ i64                   │\n",
       "╞═══════════╪═══════════════════════╪═══════════════════════╡\n",
       "│ province  ┆ 599                   ┆ 2214                  │\n",
       "│ city      ┆ 3506                  ┆ 4555                  │\n",
       "│ club      ┆ 2199                  ┆ 2234                  │\n",
       "│ stadium   ┆ 1417                  ┆ 1550                  │\n",
       "│ country   ┆ 704                   ┆ 1278                  │\n",
       "└───────────┴───────────────────────┴───────────────────────┘"
      ]
     },
     "execution_count": 31,
     "metadata": {},
     "output_type": "execute_result"
    }
   ],
   "source": [
    "data = [[k, len(domains_set[k]), len(domains_bag[k])] for k in domains_set.keys()]\n",
    "pl.DataFrame(data, schema=['attribute', 'set_query_domain_size', 'bag_query_domain_size'], orient='row')"
   ]
  },
  {
   "cell_type": "markdown",
   "metadata": {},
   "source": [
    "## How are distributed the attribute domains across all the tables?"
   ]
  },
  {
   "cell_type": "code",
   "execution_count": 68,
   "metadata": {},
   "outputs": [],
   "source": [
    "def initializer(_domains_set:defaultdict):\n",
    "    global domains_set\n",
    "    domains_set = _domains_set\n",
    "\n",
    "\n",
    "def task(data):\n",
    "    global domains_set\n",
    "    dlh = SimpleDataLakeHelper('mongodb', 'wikiturlsnap', 'standard')\n",
    "    tobj_range = data[0]\n",
    "    set_domain_freq = defaultdict(int)\n",
    "\n",
    "    for i in tobj_range:\n",
    "        tobj = dlh.get_table_by_numeric_id(i)\n",
    "        tset = table_to_tokens(tobj['content'], 'set', tobj['numeric_columns'])\n",
    "        \n",
    "        for attr, values in domains_set.items():\n",
    "            if any(x in tset for x in values):\n",
    "                set_domain_freq[attr] += 1\n",
    "        \n",
    "    return Counter(set_domain_freq)\n",
    "\n",
    "\n",
    "def update_counter(a, b):\n",
    "    a.update(b)\n",
    "    return a\n",
    "\n",
    "p = 32\n",
    "n = 100_000\n",
    "\n",
    "with mp.Pool(p, initializer, (domains_set, )) as pool:\n",
    "    work = sample(range(dlh.get_number_of_tables()), n)\n",
    "    set_domain_freq = pool.map(task, chunks(work, len(work) // p))\n",
    "    set_domain_freq = reduce(update_counter, set_domain_freq)\n"
   ]
  },
  {
   "cell_type": "code",
   "execution_count": 69,
   "metadata": {},
   "outputs": [
    {
     "data": {
      "text/html": [
       "<div><style>\n",
       ".dataframe > thead > tr,\n",
       ".dataframe > tbody > tr {\n",
       "  text-align: right;\n",
       "  white-space: pre-wrap;\n",
       "}\n",
       "</style>\n",
       "<small>shape: (6, 3)</small><table border=\"1\" class=\"dataframe\"><thead><tr><th>attribute</th><th>set_frequency</th><th>set_frequency (% 100000)</th></tr><tr><td>str</td><td>i64</td><td>f64</td></tr></thead><tbody><tr><td>&quot;nationality&quot;</td><td>13966</td><td>14.0</td></tr><tr><td>&quot;name&quot;</td><td>12266</td><td>12.3</td></tr><tr><td>&quot;genre&quot;</td><td>8909</td><td>8.9</td></tr><tr><td>&quot;director&quot;</td><td>10219</td><td>10.2</td></tr><tr><td>&quot;role&quot;</td><td>6697</td><td>6.7</td></tr><tr><td>&quot;actor&quot;</td><td>1429</td><td>1.4</td></tr></tbody></table></div>"
      ],
      "text/plain": [
       "shape: (6, 3)\n",
       "┌─────────────┬───────────────┬──────────────────────────┐\n",
       "│ attribute   ┆ set_frequency ┆ set_frequency (% 100000) │\n",
       "│ ---         ┆ ---           ┆ ---                      │\n",
       "│ str         ┆ i64           ┆ f64                      │\n",
       "╞═════════════╪═══════════════╪══════════════════════════╡\n",
       "│ nationality ┆ 13966         ┆ 14.0                     │\n",
       "│ name        ┆ 12266         ┆ 12.3                     │\n",
       "│ genre       ┆ 8909          ┆ 8.9                      │\n",
       "│ director    ┆ 10219         ┆ 10.2                     │\n",
       "│ role        ┆ 6697          ┆ 6.7                      │\n",
       "│ actor       ┆ 1429          ┆ 1.4                      │\n",
       "└─────────────┴───────────────┴──────────────────────────┘"
      ]
     },
     "execution_count": 69,
     "metadata": {},
     "output_type": "execute_result"
    }
   ],
   "source": [
    "data = [[k, set_domain_freq[k], round(100 * set_domain_freq[k] / n, 1)] for k in set_domain_freq.keys()]\n",
    "pl.DataFrame(data, schema=['attribute', 'set_frequency', f'set_frequency (% {n})'], orient='row')"
   ]
  },
  {
   "cell_type": "markdown",
   "metadata": {},
   "source": [
    "## What kind of results does MATE find?"
   ]
  },
  {
   "cell_type": "code",
   "execution_count": 182,
   "metadata": {},
   "outputs": [
    {
     "data": {
      "text/plain": [
       "[2480982, 466020, 1533803, 391311, 2534475]"
      ]
     },
     "execution_count": 182,
     "metadata": {},
     "output_type": "execute_result"
    }
   ],
   "source": [
    "multi_keys = [\n",
    "    'party-district',\n",
    "    'party-member',\n",
    "    'director-genre'\n",
    "    # 'home-road', \n",
    "    # 'home-div',\n",
    "]\n",
    "multi_key = multi_keys[0]\n",
    "N = 600\n",
    "K = 50\n",
    "min_h = 0.9\n",
    "k = 10\n",
    "results = pl.read_csv(f'{analyses_dir}/{multi_key}/N{N}_K{K}_T{min_h}/final_results.csv')\n",
    "josie_mc_results = pl.read_csv(f'{analyses_dir}/{multi_key}/N{N}_K{K}_T{min_h}/results_multi_josie.csv')\n",
    "results.select('query_id').unique().to_series().to_list()[10:15]"
   ]
  },
  {
   "cell_type": "code",
   "execution_count": 180,
   "metadata": {},
   "outputs": [
    {
     "data": {
      "text/plain": [
       "[20, 20, 20, 18, 18, 18, 18]"
      ]
     },
     "execution_count": 180,
     "metadata": {},
     "output_type": "execute_result"
    }
   ],
   "source": [
    "g = results.filter(pl.col('query_id') == 1192740)\n",
    "\n",
    "silver_standard = g.filter(pl.col('columns_overlap') > 0).unique(subset=['query_id', 'result_id']).sort(by='columns_overlap', descending=True).select('columns_overlap').to_series().to_list()\n",
    "silver_standard"
   ]
  },
  {
   "cell_type": "code",
   "execution_count": 183,
   "metadata": {},
   "outputs": [
    {
     "data": {
      "text/html": [
       "<div><style>\n",
       ".dataframe > thead > tr,\n",
       ".dataframe > tbody > tr {\n",
       "  text-align: right;\n",
       "  white-space: pre-wrap;\n",
       "}\n",
       "</style>\n",
       "<small>shape: (0, 5)</small><table border=\"1\" class=\"dataframe\"><thead><tr><th>version</th><th>query_id</th><th>result_id</th><th>result_rank</th><th>columns_overlap</th></tr><tr><td>str</td><td>i64</td><td>i64</td><td>i64</td><td>i64</td></tr></thead><tbody></tbody></table></div>"
      ],
      "text/plain": [
       "shape: (0, 5)\n",
       "┌─────────┬──────────┬───────────┬─────────────┬─────────────────┐\n",
       "│ version ┆ query_id ┆ result_id ┆ result_rank ┆ columns_overlap │\n",
       "│ ---     ┆ ---      ┆ ---       ┆ ---         ┆ ---             │\n",
       "│ str     ┆ i64      ┆ i64       ┆ i64         ┆ i64             │\n",
       "╞═════════╪══════════╪═══════════╪═════════════╪═════════════════╡\n",
       "└─────────┴──────────┴───────────┴─────────────┴─────────────────┘"
      ]
     },
     "execution_count": 183,
     "metadata": {},
     "output_type": "execute_result"
    }
   ],
   "source": [
    "x = g.filter((pl.col('version') == 'BSL') & (pl.col('columns_overlap') > 0) & (pl.col('result_rank') < k))\n",
    "x"
   ]
  },
  {
   "cell_type": "code",
   "execution_count": 184,
   "metadata": {},
   "outputs": [
    {
     "data": {
      "text/plain": [
       "(0, (0.0, 10))"
      ]
     },
     "execution_count": 184,
     "metadata": {},
     "output_type": "execute_result"
    }
   ],
   "source": [
    "s = x.select('columns_overlap').to_series().to_list()\n",
    "recall_at_k(silver_standard, s, k), ndcg_at_k(silver_standard, s, k)"
   ]
  },
  {
   "cell_type": "code",
   "execution_count": 185,
   "metadata": {},
   "outputs": [
    {
     "data": {
      "text/html": [
       "<div><style>\n",
       ".dataframe > thead > tr,\n",
       ".dataframe > tbody > tr {\n",
       "  text-align: right;\n",
       "  white-space: pre-wrap;\n",
       "}\n",
       "</style>\n",
       "<small>shape: (3, 5)</small><table border=\"1\" class=\"dataframe\"><thead><tr><th>version</th><th>query_id</th><th>result_id</th><th>result_rank</th><th>columns_overlap</th></tr><tr><td>str</td><td>i64</td><td>i64</td><td>i64</td><td>i64</td></tr></thead><tbody><tr><td>&quot;MC&quot;</td><td>1192740</td><td>1242201</td><td>5</td><td>20</td></tr><tr><td>&quot;MC&quot;</td><td>1192740</td><td>1283332</td><td>8</td><td>20</td></tr><tr><td>&quot;MC&quot;</td><td>1192740</td><td>1241729</td><td>9</td><td>20</td></tr></tbody></table></div>"
      ],
      "text/plain": [
       "shape: (3, 5)\n",
       "┌─────────┬──────────┬───────────┬─────────────┬─────────────────┐\n",
       "│ version ┆ query_id ┆ result_id ┆ result_rank ┆ columns_overlap │\n",
       "│ ---     ┆ ---      ┆ ---       ┆ ---         ┆ ---             │\n",
       "│ str     ┆ i64      ┆ i64       ┆ i64         ┆ i64             │\n",
       "╞═════════╪══════════╪═══════════╪═════════════╪═════════════════╡\n",
       "│ MC      ┆ 1192740  ┆ 1242201   ┆ 5           ┆ 20              │\n",
       "│ MC      ┆ 1192740  ┆ 1283332   ┆ 8           ┆ 20              │\n",
       "│ MC      ┆ 1192740  ┆ 1241729   ┆ 9           ┆ 20              │\n",
       "└─────────┴──────────┴───────────┴─────────────┴─────────────────┘"
      ]
     },
     "execution_count": 185,
     "metadata": {},
     "output_type": "execute_result"
    }
   ],
   "source": [
    "x = g.filter((pl.col('version') == 'MC') & (pl.col('columns_overlap') > 0) & (pl.col('result_rank') < k))\n",
    "x"
   ]
  },
  {
   "cell_type": "code",
   "execution_count": 186,
   "metadata": {},
   "outputs": [
    {
     "data": {
      "text/plain": [
       "(0.42857142857142855, (0.6110556144795365, 10))"
      ]
     },
     "execution_count": 186,
     "metadata": {},
     "output_type": "execute_result"
    }
   ],
   "source": [
    "s = x.select('columns_overlap').to_series().to_list()\n",
    "recall_at_k(silver_standard, s, k), ndcg_at_k(silver_standard, s, k)"
   ]
  },
  {
   "cell_type": "code",
   "execution_count": 187,
   "metadata": {},
   "outputs": [
    {
     "data": {
      "text/html": [
       "<div><style>\n",
       ".dataframe > thead > tr,\n",
       ".dataframe > tbody > tr {\n",
       "  text-align: right;\n",
       "  white-space: pre-wrap;\n",
       "}\n",
       "</style>\n",
       "<small>shape: (7, 5)</small><table border=\"1\" class=\"dataframe\"><thead><tr><th>version</th><th>query_id</th><th>result_id</th><th>result_rank</th><th>columns_overlap</th></tr><tr><td>str</td><td>i64</td><td>i64</td><td>i64</td><td>i64</td></tr></thead><tbody><tr><td>&quot;MATE&quot;</td><td>1192740</td><td>1242201</td><td>0</td><td>20</td></tr><tr><td>&quot;MATE&quot;</td><td>1192740</td><td>1283332</td><td>1</td><td>20</td></tr><tr><td>&quot;MATE&quot;</td><td>1192740</td><td>1241729</td><td>2</td><td>20</td></tr><tr><td>&quot;MATE&quot;</td><td>1192740</td><td>1239513</td><td>3</td><td>18</td></tr><tr><td>&quot;MATE&quot;</td><td>1192740</td><td>1239087</td><td>4</td><td>18</td></tr><tr><td>&quot;MATE&quot;</td><td>1192740</td><td>877805</td><td>5</td><td>18</td></tr><tr><td>&quot;MATE&quot;</td><td>1192740</td><td>1243168</td><td>6</td><td>18</td></tr></tbody></table></div>"
      ],
      "text/plain": [
       "shape: (7, 5)\n",
       "┌─────────┬──────────┬───────────┬─────────────┬─────────────────┐\n",
       "│ version ┆ query_id ┆ result_id ┆ result_rank ┆ columns_overlap │\n",
       "│ ---     ┆ ---      ┆ ---       ┆ ---         ┆ ---             │\n",
       "│ str     ┆ i64      ┆ i64       ┆ i64         ┆ i64             │\n",
       "╞═════════╪══════════╪═══════════╪═════════════╪═════════════════╡\n",
       "│ MATE    ┆ 1192740  ┆ 1242201   ┆ 0           ┆ 20              │\n",
       "│ MATE    ┆ 1192740  ┆ 1283332   ┆ 1           ┆ 20              │\n",
       "│ MATE    ┆ 1192740  ┆ 1241729   ┆ 2           ┆ 20              │\n",
       "│ MATE    ┆ 1192740  ┆ 1239513   ┆ 3           ┆ 18              │\n",
       "│ MATE    ┆ 1192740  ┆ 1239087   ┆ 4           ┆ 18              │\n",
       "│ MATE    ┆ 1192740  ┆ 877805    ┆ 5           ┆ 18              │\n",
       "│ MATE    ┆ 1192740  ┆ 1243168   ┆ 6           ┆ 18              │\n",
       "└─────────┴──────────┴───────────┴─────────────┴─────────────────┘"
      ]
     },
     "execution_count": 187,
     "metadata": {},
     "output_type": "execute_result"
    }
   ],
   "source": [
    "x = g.filter((pl.col('version') == 'MATE') & (pl.col('columns_overlap') > 0) & (pl.col('result_rank') < k))\n",
    "x"
   ]
  },
  {
   "cell_type": "code",
   "execution_count": 188,
   "metadata": {},
   "outputs": [
    {
     "data": {
      "text/plain": [
       "(1.0, (1.0, 10))"
      ]
     },
     "execution_count": 188,
     "metadata": {},
     "output_type": "execute_result"
    }
   ],
   "source": [
    "s = x.select('columns_overlap').to_series().to_list()\n",
    "recall_at_k(silver_standard, s, k), ndcg_at_k(silver_standard, s, k)"
   ]
  },
  {
   "cell_type": "code",
   "execution_count": null,
   "metadata": {},
   "outputs": [],
   "source": []
  }
 ],
 "metadata": {
  "kernelspec": {
   "display_name": "nanni-tesi-env",
   "language": "python",
   "name": "python3"
  },
  "language_info": {
   "codemirror_mode": {
    "name": "ipython",
    "version": 3
   },
   "file_extension": ".py",
   "mimetype": "text/x-python",
   "name": "python",
   "nbconvert_exporter": "python",
   "pygments_lexer": "ipython3",
   "version": "3.10.14"
  }
 },
 "nbformat": 4,
 "nbformat_minor": 2
}
