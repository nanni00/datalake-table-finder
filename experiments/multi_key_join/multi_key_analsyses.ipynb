{
 "cells": [
  {
   "cell_type": "code",
   "execution_count": 31,
   "metadata": {},
   "outputs": [],
   "source": [
    "import polars as pl\n",
    "import pandas as pd\n",
    "from random import sample\n",
    "from statistics import mean\n",
    "from functools import reduce\n",
    "import multiprocessing as mp\n",
    "from collections import Counter\n",
    "from collections import defaultdict\n",
    "\n",
    "from tqdm import tqdm\n",
    "import matplotlib.pyplot as plt\n",
    "\n",
    "from tools.utils.parallel import chunks\n",
    "from tools.utils.datalake import SimpleDataLakeHelper\n",
    "from tools.utils.misc import table_rows_to_columns, table_to_tokens\n",
    "from tools.utils.metrics import recall_at_k"
   ]
  },
  {
   "cell_type": "code",
   "execution_count": 2,
   "metadata": {},
   "outputs": [],
   "source": [
    "analyses_dir = '/data4/nanni/tesi-magistrale/experiments/multi_key_join/gittables'"
   ]
  },
  {
   "cell_type": "markdown",
   "metadata": {},
   "source": [
    "# Time Analyses"
   ]
  },
  {
   "cell_type": "code",
   "execution_count": 16,
   "metadata": {},
   "outputs": [
    {
     "data": {
      "text/plain": [
       "'city-club'"
      ]
     },
     "execution_count": 16,
     "metadata": {},
     "output_type": "execute_result"
    }
   ],
   "source": [
    "multi_keys = [\n",
    "    'city-province',\n",
    "    'club-stadium',\n",
    "    'city-club', \n",
    "    'city-country'\n",
    "]\n",
    "multi_key = multi_keys[2]\n",
    "\n",
    "T = 0.9\n",
    "N = 300\n",
    "K = 50\n",
    "\n",
    "josie_mc = pd.read_csv(f'/data4/nanni/tesi-magistrale/experiments/multi_key_join/analyses/{multi_key}/N{N}_K{K}_T{T}/results_multi_josie.csv')\n",
    "josie_bl = pd.read_csv(f'/data4/nanni/tesi-magistrale/experiments/multi_key_join/analyses/{multi_key}/N{N}_K{K}_T{T}/results_single_josie.csv')\n",
    "multi_key"
   ]
  },
  {
   "cell_type": "code",
   "execution_count": 17,
   "metadata": {},
   "outputs": [
    {
     "data": {
      "text/html": [
       "<div>\n",
       "<style scoped>\n",
       "    .dataframe tbody tr th:only-of-type {\n",
       "        vertical-align: middle;\n",
       "    }\n",
       "\n",
       "    .dataframe tbody tr th {\n",
       "        vertical-align: top;\n",
       "    }\n",
       "\n",
       "    .dataframe thead th {\n",
       "        text-align: right;\n",
       "    }\n",
       "</style>\n",
       "<table border=\"1\" class=\"dataframe\">\n",
       "  <thead>\n",
       "    <tr style=\"text-align: right;\">\n",
       "      <th></th>\n",
       "      <th>duration</th>\n",
       "      <th>num_set_read</th>\n",
       "      <th>num_list_read</th>\n",
       "      <th>max_set_size_read</th>\n",
       "      <th>max_list_size_read</th>\n",
       "    </tr>\n",
       "  </thead>\n",
       "  <tbody>\n",
       "    <tr>\n",
       "      <th>count</th>\n",
       "      <td>300.000000</td>\n",
       "      <td>300.000000</td>\n",
       "      <td>300.000000</td>\n",
       "      <td>300.000000</td>\n",
       "      <td>300.000000</td>\n",
       "    </tr>\n",
       "    <tr>\n",
       "      <th>mean</th>\n",
       "      <td>11.386667</td>\n",
       "      <td>0.976667</td>\n",
       "      <td>24.693333</td>\n",
       "      <td>15.053333</td>\n",
       "      <td>2495.206667</td>\n",
       "    </tr>\n",
       "    <tr>\n",
       "      <th>std</th>\n",
       "      <td>20.947869</td>\n",
       "      <td>6.115072</td>\n",
       "      <td>10.928743</td>\n",
       "      <td>151.177797</td>\n",
       "      <td>10965.799783</td>\n",
       "    </tr>\n",
       "    <tr>\n",
       "      <th>min</th>\n",
       "      <td>0.000000</td>\n",
       "      <td>0.000000</td>\n",
       "      <td>5.000000</td>\n",
       "      <td>0.000000</td>\n",
       "      <td>38.000000</td>\n",
       "    </tr>\n",
       "    <tr>\n",
       "      <th>25%</th>\n",
       "      <td>4.000000</td>\n",
       "      <td>0.000000</td>\n",
       "      <td>17.000000</td>\n",
       "      <td>0.000000</td>\n",
       "      <td>373.750000</td>\n",
       "    </tr>\n",
       "    <tr>\n",
       "      <th>50%</th>\n",
       "      <td>7.000000</td>\n",
       "      <td>0.000000</td>\n",
       "      <td>24.000000</td>\n",
       "      <td>0.000000</td>\n",
       "      <td>867.500000</td>\n",
       "    </tr>\n",
       "    <tr>\n",
       "      <th>75%</th>\n",
       "      <td>11.000000</td>\n",
       "      <td>0.000000</td>\n",
       "      <td>32.000000</td>\n",
       "      <td>0.000000</td>\n",
       "      <td>2193.250000</td>\n",
       "    </tr>\n",
       "    <tr>\n",
       "      <th>max</th>\n",
       "      <td>261.000000</td>\n",
       "      <td>51.000000</td>\n",
       "      <td>81.000000</td>\n",
       "      <td>2520.000000</td>\n",
       "      <td>157814.000000</td>\n",
       "    </tr>\n",
       "  </tbody>\n",
       "</table>\n",
       "</div>"
      ],
      "text/plain": [
       "         duration  num_set_read  num_list_read  max_set_size_read  \\\n",
       "count  300.000000    300.000000     300.000000         300.000000   \n",
       "mean    11.386667      0.976667      24.693333          15.053333   \n",
       "std     20.947869      6.115072      10.928743         151.177797   \n",
       "min      0.000000      0.000000       5.000000           0.000000   \n",
       "25%      4.000000      0.000000      17.000000           0.000000   \n",
       "50%      7.000000      0.000000      24.000000           0.000000   \n",
       "75%     11.000000      0.000000      32.000000           0.000000   \n",
       "max    261.000000     51.000000      81.000000        2520.000000   \n",
       "\n",
       "       max_list_size_read  \n",
       "count          300.000000  \n",
       "mean          2495.206667  \n",
       "std          10965.799783  \n",
       "min             38.000000  \n",
       "25%            373.750000  \n",
       "50%            867.500000  \n",
       "75%           2193.250000  \n",
       "max         157814.000000  "
      ]
     },
     "execution_count": 17,
     "metadata": {},
     "output_type": "execute_result"
    }
   ],
   "source": [
    "josie_bl[['query_id', 'duration',  'num_set_read', 'num_list_read', 'max_set_size_read', 'max_list_size_read', ]].groupby('query_id').sum().describe()"
   ]
  },
  {
   "cell_type": "code",
   "execution_count": 18,
   "metadata": {},
   "outputs": [
    {
     "data": {
      "text/html": [
       "<div>\n",
       "<style scoped>\n",
       "    .dataframe tbody tr th:only-of-type {\n",
       "        vertical-align: middle;\n",
       "    }\n",
       "\n",
       "    .dataframe tbody tr th {\n",
       "        vertical-align: top;\n",
       "    }\n",
       "\n",
       "    .dataframe thead th {\n",
       "        text-align: right;\n",
       "    }\n",
       "</style>\n",
       "<table border=\"1\" class=\"dataframe\">\n",
       "  <thead>\n",
       "    <tr style=\"text-align: right;\">\n",
       "      <th></th>\n",
       "      <th>duration</th>\n",
       "      <th>num_set_read</th>\n",
       "      <th>num_list_read</th>\n",
       "      <th>max_set_size_read</th>\n",
       "      <th>max_list_size_read</th>\n",
       "    </tr>\n",
       "  </thead>\n",
       "  <tbody>\n",
       "    <tr>\n",
       "      <th>count</th>\n",
       "      <td>300.00000</td>\n",
       "      <td>300.000000</td>\n",
       "      <td>300.000000</td>\n",
       "      <td>300.000000</td>\n",
       "      <td>300.000000</td>\n",
       "    </tr>\n",
       "    <tr>\n",
       "      <th>mean</th>\n",
       "      <td>12.88000</td>\n",
       "      <td>4.546667</td>\n",
       "      <td>24.346667</td>\n",
       "      <td>64.376667</td>\n",
       "      <td>1930.460000</td>\n",
       "    </tr>\n",
       "    <tr>\n",
       "      <th>std</th>\n",
       "      <td>21.50365</td>\n",
       "      <td>12.257596</td>\n",
       "      <td>11.005311</td>\n",
       "      <td>220.986965</td>\n",
       "      <td>7139.920304</td>\n",
       "    </tr>\n",
       "    <tr>\n",
       "      <th>min</th>\n",
       "      <td>1.00000</td>\n",
       "      <td>0.000000</td>\n",
       "      <td>5.000000</td>\n",
       "      <td>0.000000</td>\n",
       "      <td>29.000000</td>\n",
       "    </tr>\n",
       "    <tr>\n",
       "      <th>25%</th>\n",
       "      <td>4.00000</td>\n",
       "      <td>0.000000</td>\n",
       "      <td>17.000000</td>\n",
       "      <td>0.000000</td>\n",
       "      <td>327.000000</td>\n",
       "    </tr>\n",
       "    <tr>\n",
       "      <th>50%</th>\n",
       "      <td>8.00000</td>\n",
       "      <td>1.000000</td>\n",
       "      <td>23.000000</td>\n",
       "      <td>8.500000</td>\n",
       "      <td>563.500000</td>\n",
       "    </tr>\n",
       "    <tr>\n",
       "      <th>75%</th>\n",
       "      <td>13.00000</td>\n",
       "      <td>3.000000</td>\n",
       "      <td>32.000000</td>\n",
       "      <td>37.250000</td>\n",
       "      <td>1763.250000</td>\n",
       "    </tr>\n",
       "    <tr>\n",
       "      <th>max</th>\n",
       "      <td>232.00000</td>\n",
       "      <td>116.000000</td>\n",
       "      <td>81.000000</td>\n",
       "      <td>2405.000000</td>\n",
       "      <td>78907.000000</td>\n",
       "    </tr>\n",
       "  </tbody>\n",
       "</table>\n",
       "</div>"
      ],
      "text/plain": [
       "        duration  num_set_read  num_list_read  max_set_size_read  \\\n",
       "count  300.00000    300.000000     300.000000         300.000000   \n",
       "mean    12.88000      4.546667      24.346667          64.376667   \n",
       "std     21.50365     12.257596      11.005311         220.986965   \n",
       "min      1.00000      0.000000       5.000000           0.000000   \n",
       "25%      4.00000      0.000000      17.000000           0.000000   \n",
       "50%      8.00000      1.000000      23.000000           8.500000   \n",
       "75%     13.00000      3.000000      32.000000          37.250000   \n",
       "max    232.00000    116.000000      81.000000        2405.000000   \n",
       "\n",
       "       max_list_size_read  \n",
       "count          300.000000  \n",
       "mean          1930.460000  \n",
       "std           7139.920304  \n",
       "min             29.000000  \n",
       "25%            327.000000  \n",
       "50%            563.500000  \n",
       "75%           1763.250000  \n",
       "max          78907.000000  "
      ]
     },
     "execution_count": 18,
     "metadata": {},
     "output_type": "execute_result"
    }
   ],
   "source": [
    "josie_mc[['duration', 'num_set_read', 'num_list_read', 'max_set_size_read', 'max_list_size_read']].describe()"
   ]
  },
  {
   "cell_type": "markdown",
   "metadata": {},
   "source": [
    "# Other Analyses"
   ]
  },
  {
   "cell_type": "markdown",
   "metadata": {},
   "source": [
    "## How many results are returned by BSL and MC? And how many results of BSL are included by those from MC? "
   ]
  },
  {
   "cell_type": "code",
   "execution_count": 53,
   "metadata": {},
   "outputs": [],
   "source": [
    "multi_keys = [\n",
    "    'party-member', \n",
    "    'home-road', \n",
    "    'home-div',\n",
    "    'party-district',\n",
    "]\n",
    "\n",
    "N = 600\n",
    "K = 50\n",
    "min_h_values = [0.6, 0.9]\n",
    "k_values = [1, 5, 10, 20, 30, 40, 50]"
   ]
  },
  {
   "cell_type": "code",
   "execution_count": 55,
   "metadata": {},
   "outputs": [
    {
     "data": {
      "image/png": "[encoded data removed]",
      "text/plain": [
       "<Figure size 1800x500 with 8 Axes>"
      ]
     },
     "metadata": {},
     "output_type": "display_data"
    }
   ],
   "source": [
    "fig, (axs_rec, axs_num_res) = plt.subplots(2, len(multi_keys), sharey='row', sharex='col', figsize=(18, 5))\n",
    "plt.subplots_adjust(hspace=0.2)\n",
    "actually_used_query_ids = []\n",
    "for multi_key, axrec, axnr in zip(multi_keys, axs_rec, axs_num_res):\n",
    "    for min_h, line, color in zip(min_h_values, ['-o', '--x'], ['tab:blue', 'tab:orange']):\n",
    "        results = pl.read_csv(f'{analyses_dir}/{multi_key}/N{N}_K{K}_T{min_h}/final_results.csv') \\\n",
    "            .with_columns((pl.col('SLOTH_columns_overlap') > 0).cast(pl.Int8))\n",
    "\n",
    "        # take only those queries that have at least one accepted candidate\n",
    "        # from these, select only the first 100\n",
    "        nresults = 100\n",
    "        analyses_results = [\n",
    "            q[0] for q, group in results.group_by('query_id') \n",
    "            if any(group.select('SLOTH_columns_overlap').filter(pl.col('SLOTH_columns_overlap') > 0).rows())\n",
    "        ][:nresults]\n",
    "\n",
    "        if len(analyses_results) < nresults:\n",
    "            print(f'min_h={min_h} - {multi_key} has not {nresults} results: {len(analyses_results)}')\n",
    "        results = results.filter(pl.col('query_id').is_in(analyses_results))\n",
    "        \n",
    "        for q in analyses_results:\n",
    "            actually_used_query_ids.append(q)\n",
    "        \n",
    "        baseline =  results.filter((pl.col('version') == 'baseline'))\n",
    "        mc =        results.filter((pl.col('version') == 'MC')      )\n",
    "\n",
    "        # compute the cumulative number of total valid results for both BSL and MC\n",
    "        # and the % of BSL results that is a subset of the MC results (--> this btw doens't tell much about\n",
    "        # values that BSL only discovered) and compute the recall@K (0/1 values with meaning \"not valid/valid candidate\")\n",
    "        num_res_com = []\n",
    "        silver_standard, bsl_res, mc_res = {}, {}, {}\n",
    "        final_bsl_rec, final_mc_rec = [], []\n",
    "        \n",
    "        for q, qgroup in results.group_by('query_id'):\n",
    "                silver_standard[q] = qgroup.select('query_id', 'result_id', 'SLOTH_columns_overlap').unique() \\\n",
    "                    .select('SLOTH_columns_overlap').to_series().to_list()\n",
    "                bsl_res[q] = qgroup.filter(pl.col('version') == 'baseline').select('SLOTH_columns_overlap').to_series().to_list()\n",
    "                mc_res[q] =  qgroup.filter(pl.col('version') == 'MC'      ).select('SLOTH_columns_overlap').to_series().to_list()\n",
    "\n",
    "        for k in k_values:\n",
    "            bsl_rec, mc_rec = [], []\n",
    "\n",
    "            for q, qgroup in results.group_by('query_id'):\n",
    "                bsl_rec.append(recall_at_k(silver_standard[q], bsl_res[q], k))\n",
    "                mc_rec.append(recall_at_k(silver_standard[q], mc_res[q], k))\n",
    "\n",
    "            final_bsl_rec.append(100 * mean(bsl_rec))\n",
    "            final_mc_rec.append(100 * mean(mc_rec))\n",
    "\n",
    "            baseline_res_ids =  set(baseline.filter((pl.col('SLOTH_columns_overlap') > 0) & (pl.col('result_rank') < k)).select('query_id', 'result_id').rows())\n",
    "            mc_res_ids =        set(mc.filter(      (pl.col('SLOTH_columns_overlap') > 0) & (pl.col('result_rank') < k)).select('query_id', 'result_id').rows())\n",
    "            \n",
    "            num_res_com.append([len(baseline_res_ids), len(mc_res_ids)])\n",
    "            \n",
    "        for r, label in [[final_bsl_rec, 'BSL'], [final_mc_rec, 'MC']]:\n",
    "             axrec.plot(k_values, r, line, label=f'{min_h}-{label}', markersize=5)\n",
    "\n",
    "        for i, w in zip([0, 1], ['BSL', 'MC']):\n",
    "            axnr.plot(k_values, [n[i] for n in num_res_com], line, label=f'{min_h}-{w}', markersize=5)\n",
    "\n",
    "    axrec.set_xlabel(multi_key)\n",
    "    axrec.xaxis.set_label_position('top')\n",
    "    axnr.set_xlabel(f\"K\")\n",
    "    \n",
    "    axrec.grid(True)\n",
    "    axnr.grid(True)\n",
    "\n",
    "    axnr.set_xticks(k_values)\n",
    "    axnr.set_yscale('log')\n",
    "\n",
    "\n",
    "axs_rec[0].set_ylabel('mean recall@K %')\n",
    "axs_num_res[0].set_ylabel('number of valid results\\nfrom JOSIE top-K')\n",
    "\n",
    "axs_rec[-1].legend(loc='best',      bbox_to_anchor=(0., 0., 1.4, 1))\n",
    "axs_num_res[-1].legend(loc='best',  bbox_to_anchor=(0., 0., 1.4, 1))\n",
    "fig.show()"
   ]
  },
  {
   "cell_type": "markdown",
   "metadata": {},
   "source": [
    "## Is there any case where BSL find valid candidates and MC not?"
   ]
  },
  {
   "cell_type": "code",
   "execution_count": 42,
   "metadata": {},
   "outputs": [
    {
     "name": "stdout",
     "output_type": "stream",
     "text": [
      "min_h = 0.6\n",
      "[['home-road', (396269,)], ['home-road', (178448,)], ['home-road', (555382,)], ['home-road', (179220,)], ['home-div', (335320,)], ['home-div', (531762,)], ['home-div', (531891,)], ['home-div', (345132,)], ['home-div', (532106,)], ['home-div', (480864,)], ['party-district', (495363,)], ['party-district', (1381597,)], ['party-district', (1580721,)], ['party-district', (1544348,)], ['party-district', (1376179,)]]\n",
      "min_h = 0.9\n",
      "[['party-member', (1101205,)], ['home-road', (495894,)], ['home-road', (276314,)], ['home-road', (555382,)], ['home-road', (272552,)], ['home-road', (179220,)], ['home-road', (519247,)], ['home-road', (472474,)], ['home-road', (495718,)], ['home-div', (404655,)], ['home-div', (335419,)], ['home-div', (345143,)], ['home-div', (470306,)], ['home-div', (535887,)], ['party-district', (495363,)], ['party-district', (1544348,)]]\n"
     ]
    }
   ],
   "source": [
    "for min_h in min_h_values:\n",
    "    qids = []\n",
    "    for multi_key in multi_keys:\n",
    "        results = pl.read_csv(f'{analyses_dir}/{multi_key}/N{N}_K{K}_T{min_h}/final_results.csv').filter(pl.col('SLOTH_columns_overlap') > 0)\n",
    "        for qid, qgroup in results.group_by('query_id'):\n",
    "            nres_bsl = qgroup.filter(pl.col('version') == 'baseline').shape[0]\n",
    "            nres_mc  = qgroup.filter(pl.col('version') == 'MC').shape[0]\n",
    "            if nres_bsl > nres_mc:\n",
    "                qids.append([multi_key, qid])\n",
    "    print(f'min_h = {min_h}')\n",
    "    print(qids)"
   ]
  },
  {
   "cell_type": "markdown",
   "metadata": {},
   "source": [
    "## How big are the attributes domains (only from queries)?"
   ]
  },
  {
   "cell_type": "code",
   "execution_count": 30,
   "metadata": {},
   "outputs": [
    {
     "name": "stderr",
     "output_type": "stream",
     "text": [
      "  2%|▏         | 306/18800 [00:00<00:14, 1253.72it/s]"
     ]
    },
    {
     "name": "stderr",
     "output_type": "stream",
     "text": [
      "100%|██████████| 18800/18800 [00:06<00:00, 2841.58it/s]\n",
      "100%|██████████| 30000/30000 [00:06<00:00, 4477.07it/s]\n",
      "100%|██████████| 29328/29328 [00:07<00:00, 3993.43it/s]\n",
      "100%|██████████| 30000/30000 [00:07<00:00, 3781.93it/s]\n"
     ]
    }
   ],
   "source": [
    "dlh = SimpleDataLakeHelper('mongodb', 'wikiturlsnap', 'standard')\n",
    "\n",
    "\n",
    "N = 300\n",
    "K = 50\n",
    "T = 0.9\n",
    "\n",
    "domains_set = defaultdict(set)\n",
    "domains_bag = defaultdict(set)\n",
    "\n",
    "for multi_key in multi_keys:\n",
    "    mk_results = pl.read_csv(f\"{analyses_dir}/{multi_key}/N{N}_K{K}_T{T}/final_results.csv\")\n",
    "    keys = multi_key.split('-')\n",
    "    for qid in tqdm(mk_results.select('query_id').rows()):\n",
    "        if qid[0] not in actually_used_query_ids:\n",
    "            continue\n",
    "        table_obj = dlh.get_table_by_numeric_id(qid[0])\n",
    "        bad_columns = table_obj['numeric_columns']\n",
    "        headers = [str(h).lower().strip() for h in (table_obj['headers'] if table_obj['headers'] != None else table_obj['content'][0])]\n",
    "        table = table_rows_to_columns(table_obj['content'], 0, len(table_obj['content'][0]), bad_columns)\n",
    "\n",
    "        for header, column, is_bad in zip(headers, table, bad_columns):\n",
    "            if not is_bad:\n",
    "                for key in keys:\n",
    "                    if header == key:\n",
    "                        for token in table_to_tokens([column], 'set', [0] * len(column)):\n",
    "                            domains_set[key].add(token)\n",
    "                        for token in table_to_tokens([column], 'bag', [0] * len(column)):\n",
    "                            domains_bag[key].add(token)"
   ]
  },
  {
   "cell_type": "code",
   "execution_count": 31,
   "metadata": {},
   "outputs": [
    {
     "data": {
      "text/html": [
       "<div><style>\n",
       ".dataframe > thead > tr,\n",
       ".dataframe > tbody > tr {\n",
       "  text-align: right;\n",
       "  white-space: pre-wrap;\n",
       "}\n",
       "</style>\n",
       "<small>shape: (5, 3)</small><table border=\"1\" class=\"dataframe\"><thead><tr><th>attribute</th><th>set_query_domain_size</th><th>bag_query_domain_size</th></tr><tr><td>str</td><td>i64</td><td>i64</td></tr></thead><tbody><tr><td>&quot;province&quot;</td><td>599</td><td>2214</td></tr><tr><td>&quot;city&quot;</td><td>3506</td><td>4555</td></tr><tr><td>&quot;club&quot;</td><td>2199</td><td>2234</td></tr><tr><td>&quot;stadium&quot;</td><td>1417</td><td>1550</td></tr><tr><td>&quot;country&quot;</td><td>704</td><td>1278</td></tr></tbody></table></div>"
      ],
      "text/plain": [
       "shape: (5, 3)\n",
       "┌───────────┬───────────────────────┬───────────────────────┐\n",
       "│ attribute ┆ set_query_domain_size ┆ bag_query_domain_size │\n",
       "│ ---       ┆ ---                   ┆ ---                   │\n",
       "│ str       ┆ i64                   ┆ i64                   │\n",
       "╞═══════════╪═══════════════════════╪═══════════════════════╡\n",
       "│ province  ┆ 599                   ┆ 2214                  │\n",
       "│ city      ┆ 3506                  ┆ 4555                  │\n",
       "│ club      ┆ 2199                  ┆ 2234                  │\n",
       "│ stadium   ┆ 1417                  ┆ 1550                  │\n",
       "│ country   ┆ 704                   ┆ 1278                  │\n",
       "└───────────┴───────────────────────┴───────────────────────┘"
      ]
     },
     "execution_count": 31,
     "metadata": {},
     "output_type": "execute_result"
    }
   ],
   "source": [
    "data = [[k, len(domains_set[k]), len(domains_bag[k])] for k in domains_set.keys()]\n",
    "pl.DataFrame(data, schema=['attribute', 'set_query_domain_size', 'bag_query_domain_size'], orient='row')"
   ]
  },
  {
   "cell_type": "markdown",
   "metadata": {},
   "source": [
    "## How are distributed the attribute domains across all the tables?"
   ]
  },
  {
   "cell_type": "code",
   "execution_count": 68,
   "metadata": {},
   "outputs": [],
   "source": [
    "def initializer(_domains_set:defaultdict):\n",
    "    global domains_set\n",
    "    domains_set = _domains_set\n",
    "\n",
    "\n",
    "def task(data):\n",
    "    global domains_set\n",
    "    dlh = SimpleDataLakeHelper('mongodb', 'wikiturlsnap', 'standard')\n",
    "    tobj_range = data[0]\n",
    "    set_domain_freq = defaultdict(int)\n",
    "\n",
    "    for i in tobj_range:\n",
    "        tobj = dlh.get_table_by_numeric_id(i)\n",
    "        tset = table_to_tokens(tobj['content'], 'set', tobj['numeric_columns'])\n",
    "        \n",
    "        for attr, values in domains_set.items():\n",
    "            if any(x in tset for x in values):\n",
    "                set_domain_freq[attr] += 1\n",
    "        \n",
    "    return Counter(set_domain_freq)\n",
    "\n",
    "\n",
    "def update_counter(a, b):\n",
    "    a.update(b)\n",
    "    return a\n",
    "\n",
    "p = 32\n",
    "n = 100_000\n",
    "\n",
    "with mp.Pool(p, initializer, (domains_set, )) as pool:\n",
    "    work = sample(range(dlh.get_number_of_tables()), n)\n",
    "    set_domain_freq = pool.map(task, chunks(work, len(work) // p))\n",
    "    set_domain_freq = reduce(update_counter, set_domain_freq)\n"
   ]
  },
  {
   "cell_type": "code",
   "execution_count": 69,
   "metadata": {},
   "outputs": [
    {
     "data": {
      "text/html": [
       "<div><style>\n",
       ".dataframe > thead > tr,\n",
       ".dataframe > tbody > tr {\n",
       "  text-align: right;\n",
       "  white-space: pre-wrap;\n",
       "}\n",
       "</style>\n",
       "<small>shape: (6, 3)</small><table border=\"1\" class=\"dataframe\"><thead><tr><th>attribute</th><th>set_frequency</th><th>set_frequency (% 100000)</th></tr><tr><td>str</td><td>i64</td><td>f64</td></tr></thead><tbody><tr><td>&quot;nationality&quot;</td><td>13966</td><td>14.0</td></tr><tr><td>&quot;name&quot;</td><td>12266</td><td>12.3</td></tr><tr><td>&quot;genre&quot;</td><td>8909</td><td>8.9</td></tr><tr><td>&quot;director&quot;</td><td>10219</td><td>10.2</td></tr><tr><td>&quot;role&quot;</td><td>6697</td><td>6.7</td></tr><tr><td>&quot;actor&quot;</td><td>1429</td><td>1.4</td></tr></tbody></table></div>"
      ],
      "text/plain": [
       "shape: (6, 3)\n",
       "┌─────────────┬───────────────┬──────────────────────────┐\n",
       "│ attribute   ┆ set_frequency ┆ set_frequency (% 100000) │\n",
       "│ ---         ┆ ---           ┆ ---                      │\n",
       "│ str         ┆ i64           ┆ f64                      │\n",
       "╞═════════════╪═══════════════╪══════════════════════════╡\n",
       "│ nationality ┆ 13966         ┆ 14.0                     │\n",
       "│ name        ┆ 12266         ┆ 12.3                     │\n",
       "│ genre       ┆ 8909          ┆ 8.9                      │\n",
       "│ director    ┆ 10219         ┆ 10.2                     │\n",
       "│ role        ┆ 6697          ┆ 6.7                      │\n",
       "│ actor       ┆ 1429          ┆ 1.4                      │\n",
       "└─────────────┴───────────────┴──────────────────────────┘"
      ]
     },
     "execution_count": 69,
     "metadata": {},
     "output_type": "execute_result"
    }
   ],
   "source": [
    "data = [[k, set_domain_freq[k], round(100 * set_domain_freq[k] / n, 1)] for k in set_domain_freq.keys()]\n",
    "pl.DataFrame(data, schema=['attribute', 'set_frequency', f'set_frequency (% {n})'], orient='row')"
   ]
  },
  {
   "cell_type": "markdown",
   "metadata": {},
   "source": [
    "## Is there any overlap among the domains?"
   ]
  },
  {
   "cell_type": "markdown",
   "metadata": {},
   "source": [
    "There is a functional dependency between the selected attribute pairs? If so, then may be better to select other pairs of attributes"
   ]
  },
  {
   "cell_type": "code",
   "execution_count": 32,
   "metadata": {},
   "outputs": [
    {
     "data": {
      "text/html": [
       "<div><style>\n",
       ".dataframe > thead > tr,\n",
       ".dataframe > tbody > tr {\n",
       "  text-align: right;\n",
       "  white-space: pre-wrap;\n",
       "}\n",
       "</style>\n",
       "<small>shape: (10, 10)</small><table border=\"1\" class=\"dataframe\"><thead><tr><th>attr_A</th><th>attr_B</th><th>#set_attr_A</th><th>#set_attr_B</th><th>set_overlap</th><th>set_overlap (%)</th><th>#bag_attr_A</th><th>#bag_attr_B</th><th>bag_overlap</th><th>bag_overlap (%)</th></tr><tr><td>str</td><td>str</td><td>i64</td><td>i64</td><td>i64</td><td>i64</td><td>i64</td><td>i64</td><td>i64</td><td>i64</td></tr></thead><tbody><tr><td>&quot;province&quot;</td><td>&quot;city&quot;</td><td>599</td><td>3506</td><td>117</td><td>20</td><td>2214</td><td>4555</td><td>228</td><td>10</td></tr><tr><td>&quot;province&quot;</td><td>&quot;club&quot;</td><td>599</td><td>2199</td><td>16</td><td>3</td><td>2214</td><td>2234</td><td>19</td><td>1</td></tr><tr><td>&quot;province&quot;</td><td>&quot;stadium&quot;</td><td>599</td><td>1417</td><td>1</td><td>0</td><td>2214</td><td>1550</td><td>5</td><td>0</td></tr><tr><td>&quot;province&quot;</td><td>&quot;country&quot;</td><td>599</td><td>704</td><td>1</td><td>0</td><td>2214</td><td>1278</td><td>1</td><td>0</td></tr><tr><td>&quot;city&quot;</td><td>&quot;club&quot;</td><td>3506</td><td>2199</td><td>172</td><td>8</td><td>4555</td><td>2234</td><td>184</td><td>8</td></tr><tr><td>&quot;city&quot;</td><td>&quot;stadium&quot;</td><td>3506</td><td>1417</td><td>6</td><td>0</td><td>4555</td><td>1550</td><td>6</td><td>0</td></tr><tr><td>&quot;city&quot;</td><td>&quot;country&quot;</td><td>3506</td><td>704</td><td>139</td><td>20</td><td>4555</td><td>1278</td><td>213</td><td>17</td></tr><tr><td>&quot;club&quot;</td><td>&quot;stadium&quot;</td><td>2199</td><td>1417</td><td>7</td><td>0</td><td>2234</td><td>1550</td><td>9</td><td>1</td></tr><tr><td>&quot;club&quot;</td><td>&quot;country&quot;</td><td>2199</td><td>704</td><td>29</td><td>4</td><td>2234</td><td>1278</td><td>30</td><td>2</td></tr><tr><td>&quot;stadium&quot;</td><td>&quot;country&quot;</td><td>1417</td><td>704</td><td>1</td><td>0</td><td>1550</td><td>1278</td><td>1</td><td>0</td></tr></tbody></table></div>"
      ],
      "text/plain": [
       "shape: (10, 10)\n",
       "┌──────────┬─────────┬────────────┬────────────┬───┬───────────┬───────────┬───────────┬───────────┐\n",
       "│ attr_A   ┆ attr_B  ┆ #set_attr_ ┆ #set_attr_ ┆ … ┆ #bag_attr ┆ #bag_attr ┆ bag_overl ┆ bag_overl │\n",
       "│ ---      ┆ ---     ┆ A          ┆ B          ┆   ┆ _A        ┆ _B        ┆ ap        ┆ ap (%)    │\n",
       "│ str      ┆ str     ┆ ---        ┆ ---        ┆   ┆ ---       ┆ ---       ┆ ---       ┆ ---       │\n",
       "│          ┆         ┆ i64        ┆ i64        ┆   ┆ i64       ┆ i64       ┆ i64       ┆ i64       │\n",
       "╞══════════╪═════════╪════════════╪════════════╪═══╪═══════════╪═══════════╪═══════════╪═══════════╡\n",
       "│ province ┆ city    ┆ 599        ┆ 3506       ┆ … ┆ 2214      ┆ 4555      ┆ 228       ┆ 10        │\n",
       "│ province ┆ club    ┆ 599        ┆ 2199       ┆ … ┆ 2214      ┆ 2234      ┆ 19        ┆ 1         │\n",
       "│ province ┆ stadium ┆ 599        ┆ 1417       ┆ … ┆ 2214      ┆ 1550      ┆ 5         ┆ 0         │\n",
       "│ province ┆ country ┆ 599        ┆ 704        ┆ … ┆ 2214      ┆ 1278      ┆ 1         ┆ 0         │\n",
       "│ city     ┆ club    ┆ 3506       ┆ 2199       ┆ … ┆ 4555      ┆ 2234      ┆ 184       ┆ 8         │\n",
       "│ city     ┆ stadium ┆ 3506       ┆ 1417       ┆ … ┆ 4555      ┆ 1550      ┆ 6         ┆ 0         │\n",
       "│ city     ┆ country ┆ 3506       ┆ 704        ┆ … ┆ 4555      ┆ 1278      ┆ 213       ┆ 17        │\n",
       "│ club     ┆ stadium ┆ 2199       ┆ 1417       ┆ … ┆ 2234      ┆ 1550      ┆ 9         ┆ 1         │\n",
       "│ club     ┆ country ┆ 2199       ┆ 704        ┆ … ┆ 2234      ┆ 1278      ┆ 30        ┆ 2         │\n",
       "│ stadium  ┆ country ┆ 1417       ┆ 704        ┆ … ┆ 1550      ┆ 1278      ┆ 1         ┆ 0         │\n",
       "└──────────┴─────────┴────────────┴────────────┴───┴───────────┴───────────┴───────────┴───────────┘"
      ]
     },
     "execution_count": 32,
     "metadata": {},
     "output_type": "execute_result"
    }
   ],
   "source": [
    "attributes = list(domains_set.keys())\n",
    "data = []\n",
    "for i, attr in enumerate(attributes):\n",
    "    for attr2 in attributes[i+1:]:\n",
    "        data.append([attr, attr2,\n",
    "                     len(domains_set[attr]), len(domains_set[attr2]),\n",
    "                     len(domains_set[attr].intersection(domains_set[attr2])), round(100 * len(domains_set[attr].intersection(domains_set[attr2])) / min(len(domains_set[attr]), len(domains_set[attr2]))),\n",
    "                     len(domains_bag[attr]), len(domains_bag[attr2]),\n",
    "                     len(domains_bag[attr].intersection(domains_bag[attr2])), round(100 * len(domains_bag[attr].intersection(domains_bag[attr2])) / min(len(domains_bag[attr]), len(domains_bag[attr2])))\n",
    "                     ])\n",
    "pl.DataFrame(data, schema=['attr_A', 'attr_B', '#set_attr_A', '#set_attr_B', 'set_overlap', 'set_overlap (%)', '#bag_attr_A', '#bag_attr_B', 'bag_overlap', 'bag_overlap (%)'], orient='row')"
   ]
  },
  {
   "cell_type": "markdown",
   "metadata": {},
   "source": [
    "## Why there are candidates that are found by BSL but not by MC?"
   ]
  },
  {
   "cell_type": "code",
   "execution_count": 27,
   "metadata": {},
   "outputs": [],
   "source": [
    "multi_keys = [\n",
    "    'city-province',\n",
    "    'club-stadium',\n",
    "    'city-club', \n",
    "    'city-country'\n",
    "]\n",
    "multi_key = multi_keys[3]\n",
    "\n",
    "T = 0.9\n",
    "N = 300\n",
    "K = 50\n",
    "\n",
    "results = pl.read_csv(f'/data4/nanni/tesi-magistrale/experiments/multi_key_join/analyses/{multi_key}/N{N}_K{K}_T{T}/final_results.csv')"
   ]
  },
  {
   "cell_type": "code",
   "execution_count": 28,
   "metadata": {},
   "outputs": [
    {
     "data": {
      "text/plain": [
       "[145, 740, 1983, 2063, 3558, 4044, 4553, 4554, 4555, 4558]"
      ]
     },
     "execution_count": 28,
     "metadata": {},
     "output_type": "execute_result"
    }
   ],
   "source": [
    "query_ids = results.select('query_id').to_series().unique().to_list()\n",
    "query_ids[:10]"
   ]
  },
  {
   "cell_type": "code",
   "execution_count": 29,
   "metadata": {},
   "outputs": [],
   "source": [
    "strange = []\n",
    "for i, qid in enumerate(query_ids):\n",
    "    rn = results.filter((pl.col('query_id') == qid) & (pl.col('SLOTH_columns_overlap') > 0)).shape[0]\n",
    "    if rn > 0 and rn % 2 != 0:\n",
    "        strange.append(qid)"
   ]
  },
  {
   "cell_type": "code",
   "execution_count": 30,
   "metadata": {},
   "outputs": [],
   "source": [
    "qid = strange[2]\n",
    "d = results.filter((pl.col('query_id') == qid) & (pl.col('SLOTH_columns_overlap') > 0))"
   ]
  },
  {
   "cell_type": "markdown",
   "metadata": {},
   "source": [
    "With the query id 124771 we can see that there are some results that aren't included in the MC version: the tables 1222698 and 1080321 provides both a rectangular overlap of 14 with the query table (wrt to its query columns) but they are not considered by the top-50 of the MC version, becouse there are others tables with a set overlap of 7 like them, which accidentally where selected before during the search"
   ]
  },
  {
   "cell_type": "code",
   "execution_count": 31,
   "metadata": {},
   "outputs": [
    {
     "data": {
      "text/html": [
       "<div><style>\n",
       ".dataframe > thead > tr,\n",
       ".dataframe > tbody > tr {\n",
       "  text-align: right;\n",
       "  white-space: pre-wrap;\n",
       "}\n",
       "</style>\n",
       "<small>shape: (3, 6)</small><table border=\"1\" class=\"dataframe\"><thead><tr><th>version</th><th>query_id</th><th>result_id</th><th>result_rank</th><th>JOSIE_overlap</th><th>SLOTH_columns_overlap</th></tr><tr><td>str</td><td>i64</td><td>i64</td><td>i64</td><td>i64</td><td>i64</td></tr></thead><tbody><tr><td>&quot;baseline&quot;</td><td>8770</td><td>1290079</td><td>45</td><td>24</td><td>24</td></tr><tr><td>&quot;baseline&quot;</td><td>8770</td><td>791916</td><td>46</td><td>24</td><td>24</td></tr><tr><td>&quot;baseline&quot;</td><td>8770</td><td>2266365</td><td>47</td><td>22</td><td>22</td></tr></tbody></table></div>"
      ],
      "text/plain": [
       "shape: (3, 6)\n",
       "┌──────────┬──────────┬───────────┬─────────────┬───────────────┬───────────────────────┐\n",
       "│ version  ┆ query_id ┆ result_id ┆ result_rank ┆ JOSIE_overlap ┆ SLOTH_columns_overlap │\n",
       "│ ---      ┆ ---      ┆ ---       ┆ ---         ┆ ---           ┆ ---                   │\n",
       "│ str      ┆ i64      ┆ i64       ┆ i64         ┆ i64           ┆ i64                   │\n",
       "╞══════════╪══════════╪═══════════╪═════════════╪═══════════════╪═══════════════════════╡\n",
       "│ baseline ┆ 8770     ┆ 1290079   ┆ 45          ┆ 24            ┆ 24                    │\n",
       "│ baseline ┆ 8770     ┆ 791916    ┆ 46          ┆ 24            ┆ 24                    │\n",
       "│ baseline ┆ 8770     ┆ 2266365   ┆ 47          ┆ 22            ┆ 22                    │\n",
       "└──────────┴──────────┴───────────┴─────────────┴───────────────┴───────────────────────┘"
      ]
     },
     "execution_count": 31,
     "metadata": {},
     "output_type": "execute_result"
    }
   ],
   "source": [
    "d.filter(pl.col('version') == 'baseline')"
   ]
  },
  {
   "cell_type": "code",
   "execution_count": 32,
   "metadata": {},
   "outputs": [
    {
     "data": {
      "text/html": [
       "<div><style>\n",
       ".dataframe > thead > tr,\n",
       ".dataframe > tbody > tr {\n",
       "  text-align: right;\n",
       "  white-space: pre-wrap;\n",
       "}\n",
       "</style>\n",
       "<small>shape: (10, 6)</small><table border=\"1\" class=\"dataframe\"><thead><tr><th>version</th><th>query_id</th><th>result_id</th><th>result_rank</th><th>JOSIE_overlap</th><th>SLOTH_columns_overlap</th></tr><tr><td>str</td><td>i64</td><td>i64</td><td>i64</td><td>i64</td><td>i64</td></tr></thead><tbody><tr><td>&quot;MC&quot;</td><td>8770</td><td>791916</td><td>0</td><td>25</td><td>24</td></tr><tr><td>&quot;MC&quot;</td><td>8770</td><td>1290079</td><td>1</td><td>25</td><td>24</td></tr><tr><td>&quot;MC&quot;</td><td>8770</td><td>1127113</td><td>2</td><td>24</td><td>22</td></tr><tr><td>&quot;MC&quot;</td><td>8770</td><td>1111214</td><td>3</td><td>24</td><td>22</td></tr><tr><td>&quot;MC&quot;</td><td>8770</td><td>923374</td><td>4</td><td>24</td><td>22</td></tr><tr><td>&quot;MC&quot;</td><td>8770</td><td>1270027</td><td>5</td><td>24</td><td>22</td></tr><tr><td>&quot;MC&quot;</td><td>8770</td><td>2266365</td><td>6</td><td>24</td><td>22</td></tr><tr><td>&quot;MC&quot;</td><td>8770</td><td>916875</td><td>7</td><td>24</td><td>22</td></tr><tr><td>&quot;MC&quot;</td><td>8770</td><td>1919058</td><td>9</td><td>24</td><td>22</td></tr><tr><td>&quot;MC&quot;</td><td>8770</td><td>1005465</td><td>11</td><td>24</td><td>22</td></tr></tbody></table></div>"
      ],
      "text/plain": [
       "shape: (10, 6)\n",
       "┌─────────┬──────────┬───────────┬─────────────┬───────────────┬───────────────────────┐\n",
       "│ version ┆ query_id ┆ result_id ┆ result_rank ┆ JOSIE_overlap ┆ SLOTH_columns_overlap │\n",
       "│ ---     ┆ ---      ┆ ---       ┆ ---         ┆ ---           ┆ ---                   │\n",
       "│ str     ┆ i64      ┆ i64       ┆ i64         ┆ i64           ┆ i64                   │\n",
       "╞═════════╪══════════╪═══════════╪═════════════╪═══════════════╪═══════════════════════╡\n",
       "│ MC      ┆ 8770     ┆ 791916    ┆ 0           ┆ 25            ┆ 24                    │\n",
       "│ MC      ┆ 8770     ┆ 1290079   ┆ 1           ┆ 25            ┆ 24                    │\n",
       "│ MC      ┆ 8770     ┆ 1127113   ┆ 2           ┆ 24            ┆ 22                    │\n",
       "│ MC      ┆ 8770     ┆ 1111214   ┆ 3           ┆ 24            ┆ 22                    │\n",
       "│ MC      ┆ 8770     ┆ 923374    ┆ 4           ┆ 24            ┆ 22                    │\n",
       "│ MC      ┆ 8770     ┆ 1270027   ┆ 5           ┆ 24            ┆ 22                    │\n",
       "│ MC      ┆ 8770     ┆ 2266365   ┆ 6           ┆ 24            ┆ 22                    │\n",
       "│ MC      ┆ 8770     ┆ 916875    ┆ 7           ┆ 24            ┆ 22                    │\n",
       "│ MC      ┆ 8770     ┆ 1919058   ┆ 9           ┆ 24            ┆ 22                    │\n",
       "│ MC      ┆ 8770     ┆ 1005465   ┆ 11          ┆ 24            ┆ 22                    │\n",
       "└─────────┴──────────┴───────────┴─────────────┴───────────────┴───────────────────────┘"
      ]
     },
     "execution_count": 32,
     "metadata": {},
     "output_type": "execute_result"
    }
   ],
   "source": [
    "d.filter(pl.col('version') == 'MC')"
   ]
  },
  {
   "cell_type": "code",
   "execution_count": 86,
   "metadata": {},
   "outputs": [
    {
     "data": {
      "text/html": [
       "<div><style>\n",
       ".dataframe > thead > tr,\n",
       ".dataframe > tbody > tr {\n",
       "  text-align: right;\n",
       "  white-space: pre-wrap;\n",
       "}\n",
       "</style>\n",
       "<small>shape: (15, 6)</small><table border=\"1\" class=\"dataframe\"><thead><tr><th>version</th><th>query_id</th><th>result_id</th><th>result_rank</th><th>JOSIE_overlap</th><th>SLOTH_columns_overlap</th></tr><tr><td>str</td><td>i64</td><td>i64</td><td>i64</td><td>i64</td><td>i64</td></tr></thead><tbody><tr><td>&quot;MC&quot;</td><td>124771</td><td>26883</td><td>35</td><td>8</td><td>-2</td></tr><tr><td>&quot;MC&quot;</td><td>124771</td><td>1378058</td><td>36</td><td>8</td><td>-2</td></tr><tr><td>&quot;MC&quot;</td><td>124771</td><td>1544311</td><td>37</td><td>8</td><td>-2</td></tr><tr><td>&quot;MC&quot;</td><td>124771</td><td>550572</td><td>38</td><td>7</td><td>-2</td></tr><tr><td>&quot;MC&quot;</td><td>124771</td><td>1363667</td><td>39</td><td>7</td><td>-2</td></tr><tr><td>&hellip;</td><td>&hellip;</td><td>&hellip;</td><td>&hellip;</td><td>&hellip;</td><td>&hellip;</td></tr><tr><td>&quot;MC&quot;</td><td>124771</td><td>466519</td><td>45</td><td>7</td><td>-2</td></tr><tr><td>&quot;MC&quot;</td><td>124771</td><td>16944</td><td>46</td><td>7</td><td>-2</td></tr><tr><td>&quot;MC&quot;</td><td>124771</td><td>34090</td><td>47</td><td>7</td><td>-2</td></tr><tr><td>&quot;MC&quot;</td><td>124771</td><td>232058</td><td>48</td><td>7</td><td>-2</td></tr><tr><td>&quot;MC&quot;</td><td>124771</td><td>411086</td><td>49</td><td>7</td><td>-2</td></tr></tbody></table></div>"
      ],
      "text/plain": [
       "shape: (15, 6)\n",
       "┌─────────┬──────────┬───────────┬─────────────┬───────────────┬───────────────────────┐\n",
       "│ version ┆ query_id ┆ result_id ┆ result_rank ┆ JOSIE_overlap ┆ SLOTH_columns_overlap │\n",
       "│ ---     ┆ ---      ┆ ---       ┆ ---         ┆ ---           ┆ ---                   │\n",
       "│ str     ┆ i64      ┆ i64       ┆ i64         ┆ i64           ┆ i64                   │\n",
       "╞═════════╪══════════╪═══════════╪═════════════╪═══════════════╪═══════════════════════╡\n",
       "│ MC      ┆ 124771   ┆ 26883     ┆ 35          ┆ 8             ┆ -2                    │\n",
       "│ MC      ┆ 124771   ┆ 1378058   ┆ 36          ┆ 8             ┆ -2                    │\n",
       "│ MC      ┆ 124771   ┆ 1544311   ┆ 37          ┆ 8             ┆ -2                    │\n",
       "│ MC      ┆ 124771   ┆ 550572    ┆ 38          ┆ 7             ┆ -2                    │\n",
       "│ MC      ┆ 124771   ┆ 1363667   ┆ 39          ┆ 7             ┆ -2                    │\n",
       "│ …       ┆ …        ┆ …         ┆ …           ┆ …             ┆ …                     │\n",
       "│ MC      ┆ 124771   ┆ 466519    ┆ 45          ┆ 7             ┆ -2                    │\n",
       "│ MC      ┆ 124771   ┆ 16944     ┆ 46          ┆ 7             ┆ -2                    │\n",
       "│ MC      ┆ 124771   ┆ 34090     ┆ 47          ┆ 7             ┆ -2                    │\n",
       "│ MC      ┆ 124771   ┆ 232058    ┆ 48          ┆ 7             ┆ -2                    │\n",
       "│ MC      ┆ 124771   ┆ 411086    ┆ 49          ┆ 7             ┆ -2                    │\n",
       "└─────────┴──────────┴───────────┴─────────────┴───────────────┴───────────────────────┘"
      ]
     },
     "execution_count": 86,
     "metadata": {},
     "output_type": "execute_result"
    }
   ],
   "source": [
    "results.filter((pl.col('version') == 'MC') & (pl.col('query_id') == 124771)).tail(15)"
   ]
  }
 ],
 "metadata": {
  "kernelspec": {
   "display_name": "nanni-tesi-env",
   "language": "python",
   "name": "python3"
  },
  "language_info": {
   "codemirror_mode": {
    "name": "ipython",
    "version": 3
   },
   "file_extension": ".py",
   "mimetype": "text/x-python",
   "name": "python",
   "nbconvert_exporter": "python",
   "pygments_lexer": "ipython3",
   "version": "3.10.14"
  }
 },
 "nbformat": 4,
 "nbformat_minor": 2
}
