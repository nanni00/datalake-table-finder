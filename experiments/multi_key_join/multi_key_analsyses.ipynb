{
 "cells": [
  {
   "cell_type": "code",
   "execution_count": 1,
   "metadata": {},
   "outputs": [],
   "source": [
    "import polars as pl\n",
    "import pandas as pd\n",
    "from random import sample\n",
    "from statistics import mean\n",
    "from functools import reduce\n",
    "import multiprocessing as mp\n",
    "from collections import Counter\n",
    "from collections import defaultdict\n",
    "\n",
    "from tqdm import tqdm\n",
    "import matplotlib.pyplot as plt\n",
    "\n",
    "from tools.utils.parallel import chunks\n",
    "from tools.utils.datalake import SimpleDataLakeHelper\n",
    "from tools.utils.misc import table_rows_to_columns, table_to_tokens\n",
    "from tools.utils.metrics import recall_at_k, ndcg_at_k"
   ]
  },
  {
   "cell_type": "code",
   "execution_count": 2,
   "metadata": {},
   "outputs": [],
   "source": [
    "analyses_dir = '/data4/nanni/tesi-magistrale/experiments/multi_key_join/wikiturlsnap_mate'"
   ]
  },
  {
   "cell_type": "markdown",
   "metadata": {},
   "source": [
    "# Time Analyses"
   ]
  },
  {
   "cell_type": "code",
   "execution_count": 4,
   "metadata": {},
   "outputs": [
    {
     "data": {
      "text/plain": [
       "'party-district'"
      ]
     },
     "execution_count": 4,
     "metadata": {},
     "output_type": "execute_result"
    }
   ],
   "source": [
    "multi_keys = [\n",
    "    'party-district',\n",
    "    'party-member', \n",
    "    'home-road', \n",
    "    'home-div',\n",
    "]\n",
    "multi_key = multi_keys[0]\n",
    "\n",
    "T = 0.9\n",
    "N = 600\n",
    "K = 50\n",
    "\n",
    "josie_mc = pl.read_csv(f'{analyses_dir}/{multi_key}/N{N}_K{K}_T{T}/results_multi_josie.csv')\n",
    "josie_bl = pl.read_csv(f'{analyses_dir}/{multi_key}/N{N}_K{K}_T{T}/results_single_josie.csv')\n",
    "mate = pl.read_csv(f'{analyses_dir}/{multi_key}/N{N}_K{K}_T{T}/mate_time.txt', has_header=False, separator=';').rename({'column_1': 'duration'})\n",
    "multi_key"
   ]
  },
  {
   "cell_type": "code",
   "execution_count": 5,
   "metadata": {},
   "outputs": [
    {
     "data": {
      "text/html": [
       "<div><style>\n",
       ".dataframe > thead > tr,\n",
       ".dataframe > tbody > tr {\n",
       "  text-align: right;\n",
       "  white-space: pre-wrap;\n",
       "}\n",
       "</style>\n",
       "<small>shape: (9, 6)</small><table border=\"1\" class=\"dataframe\"><thead><tr><th>statistic</th><th>duration</th><th>num_set_read</th><th>num_list_read</th><th>max_set_size_read</th><th>max_list_size_read</th></tr><tr><td>str</td><td>f64</td><td>f64</td><td>f64</td><td>f64</td><td>f64</td></tr></thead><tbody><tr><td>&quot;count&quot;</td><td>169.0</td><td>169.0</td><td>169.0</td><td>169.0</td><td>169.0</td></tr><tr><td>&quot;null_count&quot;</td><td>0.0</td><td>0.0</td><td>0.0</td><td>0.0</td><td>0.0</td></tr><tr><td>&quot;mean&quot;</td><td>0.328734</td><td>48.538462</td><td>53.621302</td><td>264.591716</td><td>44254.331361</td></tr><tr><td>&quot;std&quot;</td><td>0.318504</td><td>84.693706</td><td>62.586595</td><td>682.434834</td><td>22854.562293</td></tr><tr><td>&quot;min&quot;</td><td>0.002</td><td>0.0</td><td>7.0</td><td>0.0</td><td>358.0</td></tr><tr><td>&quot;25%&quot;</td><td>0.109</td><td>0.0</td><td>16.0</td><td>0.0</td><td>15950.0</td></tr><tr><td>&quot;50%&quot;</td><td>0.178</td><td>0.0</td><td>28.0</td><td>0.0</td><td>48306.0</td></tr><tr><td>&quot;75%&quot;</td><td>0.432</td><td>77.0</td><td>68.0</td><td>255.0</td><td>48306.0</td></tr><tr><td>&quot;max&quot;</td><td>1.561</td><td>620.0</td><td>431.0</td><td>4784.0</td><td>113776.0</td></tr></tbody></table></div>"
      ],
      "text/plain": [
       "shape: (9, 6)\n",
       "┌────────────┬──────────┬──────────────┬───────────────┬───────────────────┬────────────────────┐\n",
       "│ statistic  ┆ duration ┆ num_set_read ┆ num_list_read ┆ max_set_size_read ┆ max_list_size_read │\n",
       "│ ---        ┆ ---      ┆ ---          ┆ ---           ┆ ---               ┆ ---                │\n",
       "│ str        ┆ f64      ┆ f64          ┆ f64           ┆ f64               ┆ f64                │\n",
       "╞════════════╪══════════╪══════════════╪═══════════════╪═══════════════════╪════════════════════╡\n",
       "│ count      ┆ 169.0    ┆ 169.0        ┆ 169.0         ┆ 169.0             ┆ 169.0              │\n",
       "│ null_count ┆ 0.0      ┆ 0.0          ┆ 0.0           ┆ 0.0               ┆ 0.0                │\n",
       "│ mean       ┆ 0.328734 ┆ 48.538462    ┆ 53.621302     ┆ 264.591716        ┆ 44254.331361       │\n",
       "│ std        ┆ 0.318504 ┆ 84.693706    ┆ 62.586595     ┆ 682.434834        ┆ 22854.562293       │\n",
       "│ min        ┆ 0.002    ┆ 0.0          ┆ 7.0           ┆ 0.0               ┆ 358.0              │\n",
       "│ 25%        ┆ 0.109    ┆ 0.0          ┆ 16.0          ┆ 0.0               ┆ 15950.0            │\n",
       "│ 50%        ┆ 0.178    ┆ 0.0          ┆ 28.0          ┆ 0.0               ┆ 48306.0            │\n",
       "│ 75%        ┆ 0.432    ┆ 77.0         ┆ 68.0          ┆ 255.0             ┆ 48306.0            │\n",
       "│ max        ┆ 1.561    ┆ 620.0        ┆ 431.0         ┆ 4784.0            ┆ 113776.0           │\n",
       "└────────────┴──────────┴──────────────┴───────────────┴───────────────────┴────────────────────┘"
      ]
     },
     "execution_count": 5,
     "metadata": {},
     "output_type": "execute_result"
    }
   ],
   "source": [
    "josie_bl.select(['query_id', 'duration',  'num_set_read', 'num_list_read', 'max_set_size_read', 'max_list_size_read']) \\\n",
    "    .group_by('query_id').sum().drop('query_id').with_columns(pl.col('duration') / 1000).describe()"
   ]
  },
  {
   "cell_type": "code",
   "execution_count": 6,
   "metadata": {},
   "outputs": [
    {
     "data": {
      "text/html": [
       "<div><style>\n",
       ".dataframe > thead > tr,\n",
       ".dataframe > tbody > tr {\n",
       "  text-align: right;\n",
       "  white-space: pre-wrap;\n",
       "}\n",
       "</style>\n",
       "<small>shape: (9, 6)</small><table border=\"1\" class=\"dataframe\"><thead><tr><th>statistic</th><th>duration</th><th>num_set_read</th><th>num_list_read</th><th>max_set_size_read</th><th>max_list_size_read</th></tr><tr><td>str</td><td>f64</td><td>f64</td><td>f64</td><td>f64</td><td>f64</td></tr></thead><tbody><tr><td>&quot;count&quot;</td><td>169.0</td><td>169.0</td><td>169.0</td><td>169.0</td><td>169.0</td></tr><tr><td>&quot;null_count&quot;</td><td>0.0</td><td>0.0</td><td>0.0</td><td>0.0</td><td>0.0</td></tr><tr><td>&quot;mean&quot;</td><td>0.263722</td><td>34.763314</td><td>52.715976</td><td>326.64497</td><td>32227.023669</td></tr><tr><td>&quot;std&quot;</td><td>0.25926</td><td>40.873391</td><td>62.962308</td><td>728.429249</td><td>15232.347132</td></tr><tr><td>&quot;min&quot;</td><td>0.004</td><td>0.0</td><td>7.0</td><td>0.0</td><td>282.0</td></tr><tr><td>&quot;25%&quot;</td><td>0.102</td><td>0.0</td><td>16.0</td><td>0.0</td><td>14049.0</td></tr><tr><td>&quot;50%&quot;</td><td>0.156</td><td>27.0</td><td>28.0</td><td>31.0</td><td>40633.0</td></tr><tr><td>&quot;75%&quot;</td><td>0.251</td><td>54.0</td><td>66.0</td><td>279.0</td><td>40633.0</td></tr><tr><td>&quot;max&quot;</td><td>0.934</td><td>229.0</td><td>437.0</td><td>5620.0</td><td>78907.0</td></tr></tbody></table></div>"
      ],
      "text/plain": [
       "shape: (9, 6)\n",
       "┌────────────┬──────────┬──────────────┬───────────────┬───────────────────┬────────────────────┐\n",
       "│ statistic  ┆ duration ┆ num_set_read ┆ num_list_read ┆ max_set_size_read ┆ max_list_size_read │\n",
       "│ ---        ┆ ---      ┆ ---          ┆ ---           ┆ ---               ┆ ---                │\n",
       "│ str        ┆ f64      ┆ f64          ┆ f64           ┆ f64               ┆ f64                │\n",
       "╞════════════╪══════════╪══════════════╪═══════════════╪═══════════════════╪════════════════════╡\n",
       "│ count      ┆ 169.0    ┆ 169.0        ┆ 169.0         ┆ 169.0             ┆ 169.0              │\n",
       "│ null_count ┆ 0.0      ┆ 0.0          ┆ 0.0           ┆ 0.0               ┆ 0.0                │\n",
       "│ mean       ┆ 0.263722 ┆ 34.763314    ┆ 52.715976     ┆ 326.64497         ┆ 32227.023669       │\n",
       "│ std        ┆ 0.25926  ┆ 40.873391    ┆ 62.962308     ┆ 728.429249        ┆ 15232.347132       │\n",
       "│ min        ┆ 0.004    ┆ 0.0          ┆ 7.0           ┆ 0.0               ┆ 282.0              │\n",
       "│ 25%        ┆ 0.102    ┆ 0.0          ┆ 16.0          ┆ 0.0               ┆ 14049.0            │\n",
       "│ 50%        ┆ 0.156    ┆ 27.0         ┆ 28.0          ┆ 31.0              ┆ 40633.0            │\n",
       "│ 75%        ┆ 0.251    ┆ 54.0         ┆ 66.0          ┆ 279.0             ┆ 40633.0            │\n",
       "│ max        ┆ 0.934    ┆ 229.0        ┆ 437.0         ┆ 5620.0            ┆ 78907.0            │\n",
       "└────────────┴──────────┴──────────────┴───────────────┴───────────────────┴────────────────────┘"
      ]
     },
     "execution_count": 6,
     "metadata": {},
     "output_type": "execute_result"
    }
   ],
   "source": [
    "josie_mc.select(['query_id', 'duration', 'num_set_read', 'num_list_read', 'max_set_size_read', 'max_list_size_read']) \\\n",
    "    .group_by('query_id').sum().drop('query_id').with_columns(pl.col('duration') / 1000).describe()"
   ]
  },
  {
   "cell_type": "code",
   "execution_count": 7,
   "metadata": {},
   "outputs": [
    {
     "data": {
      "text/html": [
       "<div><style>\n",
       ".dataframe > thead > tr,\n",
       ".dataframe > tbody > tr {\n",
       "  text-align: right;\n",
       "  white-space: pre-wrap;\n",
       "}\n",
       "</style>\n",
       "<small>shape: (9, 2)</small><table border=\"1\" class=\"dataframe\"><thead><tr><th>statistic</th><th>duration</th></tr><tr><td>str</td><td>f64</td></tr></thead><tbody><tr><td>&quot;count&quot;</td><td>169.0</td></tr><tr><td>&quot;null_count&quot;</td><td>0.0</td></tr><tr><td>&quot;mean&quot;</td><td>69.218456</td></tr><tr><td>&quot;std&quot;</td><td>45.24315</td></tr><tr><td>&quot;min&quot;</td><td>5.258</td></tr><tr><td>&quot;25%&quot;</td><td>41.085</td></tr><tr><td>&quot;50%&quot;</td><td>55.214</td></tr><tr><td>&quot;75%&quot;</td><td>93.453</td></tr><tr><td>&quot;max&quot;</td><td>263.012</td></tr></tbody></table></div>"
      ],
      "text/plain": [
       "shape: (9, 2)\n",
       "┌────────────┬───────────┐\n",
       "│ statistic  ┆ duration  │\n",
       "│ ---        ┆ ---       │\n",
       "│ str        ┆ f64       │\n",
       "╞════════════╪═══════════╡\n",
       "│ count      ┆ 169.0     │\n",
       "│ null_count ┆ 0.0       │\n",
       "│ mean       ┆ 69.218456 │\n",
       "│ std        ┆ 45.24315  │\n",
       "│ min        ┆ 5.258     │\n",
       "│ 25%        ┆ 41.085    │\n",
       "│ 50%        ┆ 55.214    │\n",
       "│ 75%        ┆ 93.453    │\n",
       "│ max        ┆ 263.012   │\n",
       "└────────────┴───────────┘"
      ]
     },
     "execution_count": 7,
     "metadata": {},
     "output_type": "execute_result"
    }
   ],
   "source": [
    "mate[:-1].map_rows(lambda t: (eval(t[0]),)).explode('column_0').rename({'column_0': 'duration'}).describe()"
   ]
  },
  {
   "cell_type": "markdown",
   "metadata": {},
   "source": [
    "# Other Analyses"
   ]
  },
  {
   "cell_type": "markdown",
   "metadata": {},
   "source": [
    "## How many results are returned by BSL and MC? And how many results of BSL are included by those from MC? "
   ]
  },
  {
   "cell_type": "code",
   "execution_count": 5,
   "metadata": {},
   "outputs": [],
   "source": [
    "multi_keys = [\n",
    "    'party-district',\n",
    "    'party-member', \n",
    "    'director-genre',\n",
    "]\n",
    "\n",
    "N = 600\n",
    "K = 50\n",
    "min_h_values = [0.9]\n",
    "k_values = [1, 5, 10, 20, 30, 40, 50]"
   ]
  },
  {
   "cell_type": "code",
   "execution_count": 6,
   "metadata": {},
   "outputs": [
    {
     "name": "stdout",
     "output_type": "stream",
     "text": [
      "min_h=0.9 - director-genre has not 100 results: 91\n"
     ]
    },
    {
     "data": {
      "image/png": "[encoded data removed]",
      "text/plain": [
       "<Figure size 1800x500 with 9 Axes>"
      ]
     },
     "metadata": {},
     "output_type": "display_data"
    }
   ],
   "source": [
    "fig, (axs_rec, axs_ndcg, axs_num_res) = plt.subplots(3, len(multi_keys), sharey='row', sharex='col', figsize=(18, 5))\n",
    "plt.subplots_adjust(hspace=0.2)\n",
    "\n",
    "versions = ['BSL', 'MC', 'MATE']\n",
    "data = defaultdict(dict)\n",
    "\n",
    "actually_used_query_ids = []\n",
    "for multi_key, axrec, axndcg, axnr in zip(multi_keys, axs_rec, axs_ndcg, axs_num_res):\n",
    "    for min_h, line, color in zip(min_h_values, ['-o', '--x'], ['tab:blue', 'tab:orange']):\n",
    "        results = (\n",
    "             pl\n",
    "             .read_csv(f'{analyses_dir}/{multi_key}/N{N}_K{K}_T{min_h}/final_results.csv')\n",
    "             .filter(pl.col('version').is_in(versions))\n",
    "             .with_columns(\n",
    "                 (pl.col('columns_overlap') > 0).cast(pl.Int8).alias('columns_overlap_01'),\n",
    "                 pl.col('columns_overlap').replace(-2, 0)\n",
    "             )\n",
    "            )\n",
    "        \n",
    "        # take only those queries that have at least one accepted candidate\n",
    "        # from these, select only the first 100\n",
    "        nresults = 100\n",
    "        analyses_results = [\n",
    "            q for (q, ), group in results.group_by('query_id') \n",
    "            if any(group.select('columns_overlap').filter(pl.col('columns_overlap') > 0).rows())\n",
    "        ][:nresults]\n",
    "        results = results.filter(pl.col('query_id').is_in(analyses_results))\n",
    "\n",
    "        if len(analyses_results) < nresults:\n",
    "            print(f'min_h={min_h} - {multi_key} has not {nresults} results: {len(analyses_results)}')\n",
    "        \n",
    "        for q in analyses_results:\n",
    "            actually_used_query_ids.append(q)\n",
    "\n",
    "        # compute the cumulative number of total valid results for both BSL and MC\n",
    "        # and the % of BSL results that is a subset of the MC results (--> this btw doens't tell much about\n",
    "        # values that BSL only discovered) and compute the recall@K (0/1 values with meaning \"not valid/valid candidate\")\n",
    "        num_results_per_k = []\n",
    "        silver_standard = {'01': {}, 'relevance': {}}\n",
    "\n",
    "        for version in versions:\n",
    "            data[version]['recall'] = []\n",
    "            data[version]['final_recall'] = {}\n",
    "            data[version]['ndcg'] = []\n",
    "            data[version]['final_ndcg'] = {}\n",
    "            \n",
    "            data[version]['results_for_query'] = {}\n",
    "            data[version]['results_for_query_01'] = {}\n",
    "            data[version]['results'] = results.filter((pl.col('version') == version))\n",
    "\n",
    "        query_groups = results.group_by('query_id')\n",
    "\n",
    "        # compute the silver standard\n",
    "        for (q, ), qgroup in query_groups:\n",
    "            silver_standard['relevance'][q], silver_standard['01'][q] = zip(\n",
    "                *results\n",
    "                .filter(pl.col('query_id') == q)\n",
    "                .unique(subset=['query_id', 'result_id'])\n",
    "                .select(['columns_overlap', 'columns_overlap_01'])\n",
    "                .sort(by='columns_overlap', descending=True)\n",
    "                .rows())\n",
    "            \n",
    "        for (version, q), qgroup in results.group_by('version', 'query_id'):\n",
    "            data[version]['results_for_query_01'][q] = qgroup.select('columns_overlap_01').to_series().to_list()\n",
    "            data[version]['results_for_query'][q] = qgroup.select('columns_overlap').to_series().to_list()\n",
    "            \n",
    "        for k in k_values:\n",
    "            for (q, ), qgroup in query_groups:\n",
    "                for version in versions:\n",
    "                    r = data[version]['results_for_query_01'][q] if q in data[version]['results_for_query_01'] else []\n",
    "                    data[version]['recall'].append(recall_at_k(silver_standard['01'][q], r, k))\n",
    "                    \n",
    "                    r = data[version]['results_for_query'][q] if q in data[version]['results_for_query'] else []\n",
    "                    data[version]['ndcg'].append(ndcg_at_k(silver_standard['relevance'][q], r, k)[0])\n",
    "                    \n",
    "            for version in versions:\n",
    "                data[version]['final_recall'][k] = 100 * mean(data[version]['recall'])\n",
    "                data[version]['final_ndcg'][k] =   100 * mean(data[version]['ndcg'])\n",
    "\n",
    "                data[version]['#topk_results'] = len(set(\n",
    "                    data[version]['results']\n",
    "                    .filter(\n",
    "                        (pl.col('columns_overlap') > 0) & (pl.col('result_rank') < k))\n",
    "                    .select('query_id', 'result_id')\n",
    "                    .rows()))\n",
    "\n",
    "            num_results_per_k.append([data[version]['#topk_results'] for version in versions])\n",
    "            \n",
    "        for i, version in enumerate(versions):\n",
    "            axrec.plot(k_values, list(data[version]['final_recall'].values()), line, label=f'{min_h}-{version}', markersize=5)\n",
    "            axndcg.plot(k_values, list(data[version]['final_ndcg'].values()), line, label=f'{min_h}-{version}', markersize=5)\n",
    "            axnr.plot(k_values, [n[i] for n in num_results_per_k], line, label=f'{min_h}-{version}', markersize=5)\n",
    "        \n",
    "    axrec.set_xlabel(multi_key)\n",
    "    axrec.xaxis.set_label_position('top')\n",
    "    axnr.set_xlabel(f\"K\")\n",
    "    \n",
    "    axrec.grid(True)\n",
    "    axndcg.grid(True)\n",
    "    axnr.grid(True)\n",
    "\n",
    "    axnr.set_xticks(k_values)\n",
    "    axnr.set_yscale('log')\n",
    "\n",
    "\n",
    "axs_rec[0].set_ylabel('mean\\nrecall@K %')\n",
    "axs_ndcg[0].set_ylabel('mean\\nnDCG@K %')\n",
    "axs_num_res[0].set_ylabel('number of valid results\\nfrom JOSIE top-K')\n",
    "\n",
    "axs_rec[-1].legend(loc='best',      bbox_to_anchor=(0., 0., 1.4, 1))\n",
    "axs_ndcg[-1].legend(loc='best',     bbox_to_anchor=(0., 0., 1.4, 1))\n",
    "axs_num_res[-1].legend(loc='best',  bbox_to_anchor=(0., 0., 1.4, 1))\n",
    "fig.show()"
   ]
  },
  {
   "cell_type": "code",
   "execution_count": 31,
   "metadata": {},
   "outputs": [
    {
     "data": {
      "text/html": [
       "<div><style>\n",
       ".dataframe > thead > tr,\n",
       ".dataframe > tbody > tr {\n",
       "  text-align: right;\n",
       "  white-space: pre-wrap;\n",
       "}\n",
       "</style>\n",
       "<small>shape: (13_294, 6)</small><table border=\"1\" class=\"dataframe\"><thead><tr><th>version</th><th>query_id</th><th>result_id</th><th>result_rank</th><th>columns_overlap</th><th>columns_overlap_01</th></tr><tr><td>str</td><td>i64</td><td>i64</td><td>i64</td><td>i64</td><td>i8</td></tr></thead><tbody><tr><td>&quot;BSL&quot;</td><td>162656</td><td>162664</td><td>0</td><td>10</td><td>1</td></tr><tr><td>&quot;BSL&quot;</td><td>162656</td><td>202489</td><td>1</td><td>10</td><td>1</td></tr><tr><td>&quot;BSL&quot;</td><td>162656</td><td>260690</td><td>2</td><td>0</td><td>0</td></tr><tr><td>&quot;BSL&quot;</td><td>162656</td><td>2005509</td><td>3</td><td>0</td><td>0</td></tr><tr><td>&quot;BSL&quot;</td><td>162656</td><td>2424808</td><td>4</td><td>0</td><td>0</td></tr><tr><td>&hellip;</td><td>&hellip;</td><td>&hellip;</td><td>&hellip;</td><td>&hellip;</td><td>&hellip;</td></tr><tr><td>&quot;MATE&quot;</td><td>555345</td><td>447508</td><td>24</td><td>0</td><td>0</td></tr><tr><td>&quot;MATE&quot;</td><td>555345</td><td>555123</td><td>25</td><td>0</td><td>0</td></tr><tr><td>&quot;MATE&quot;</td><td>555345</td><td>179572</td><td>26</td><td>0</td><td>0</td></tr><tr><td>&quot;MATE&quot;</td><td>555345</td><td>254070</td><td>27</td><td>0</td><td>0</td></tr><tr><td>&quot;MATE&quot;</td><td>555345</td><td>554746</td><td>28</td><td>0</td><td>0</td></tr></tbody></table></div>"
      ],
      "text/plain": [
       "shape: (13_294, 6)\n",
       "┌─────────┬──────────┬───────────┬─────────────┬─────────────────┬────────────────────┐\n",
       "│ version ┆ query_id ┆ result_id ┆ result_rank ┆ columns_overlap ┆ columns_overlap_01 │\n",
       "│ ---     ┆ ---      ┆ ---       ┆ ---         ┆ ---             ┆ ---                │\n",
       "│ str     ┆ i64      ┆ i64       ┆ i64         ┆ i64             ┆ i8                 │\n",
       "╞═════════╪══════════╪═══════════╪═════════════╪═════════════════╪════════════════════╡\n",
       "│ BSL     ┆ 162656   ┆ 162664    ┆ 0           ┆ 10              ┆ 1                  │\n",
       "│ BSL     ┆ 162656   ┆ 202489    ┆ 1           ┆ 10              ┆ 1                  │\n",
       "│ BSL     ┆ 162656   ┆ 260690    ┆ 2           ┆ 0               ┆ 0                  │\n",
       "│ BSL     ┆ 162656   ┆ 2005509   ┆ 3           ┆ 0               ┆ 0                  │\n",
       "│ BSL     ┆ 162656   ┆ 2424808   ┆ 4           ┆ 0               ┆ 0                  │\n",
       "│ …       ┆ …        ┆ …         ┆ …           ┆ …               ┆ …                  │\n",
       "│ MATE    ┆ 555345   ┆ 447508    ┆ 24          ┆ 0               ┆ 0                  │\n",
       "│ MATE    ┆ 555345   ┆ 555123    ┆ 25          ┆ 0               ┆ 0                  │\n",
       "│ MATE    ┆ 555345   ┆ 179572    ┆ 26          ┆ 0               ┆ 0                  │\n",
       "│ MATE    ┆ 555345   ┆ 254070    ┆ 27          ┆ 0               ┆ 0                  │\n",
       "│ MATE    ┆ 555345   ┆ 554746    ┆ 28          ┆ 0               ┆ 0                  │\n",
       "└─────────┴──────────┴───────────┴─────────────┴─────────────────┴────────────────────┘"
      ]
     },
     "execution_count": 31,
     "metadata": {},
     "output_type": "execute_result"
    }
   ],
   "source": [
    "results"
   ]
  },
  {
   "cell_type": "markdown",
   "metadata": {},
   "source": [
    "## Is there any case where BSL find valid candidates and MC not?"
   ]
  },
  {
   "cell_type": "code",
   "execution_count": 42,
   "metadata": {},
   "outputs": [
    {
     "name": "stdout",
     "output_type": "stream",
     "text": [
      "min_h = 0.6\n",
      "[['home-road', (396269,)], ['home-road', (178448,)], ['home-road', (555382,)], ['home-road', (179220,)], ['home-div', (335320,)], ['home-div', (531762,)], ['home-div', (531891,)], ['home-div', (345132,)], ['home-div', (532106,)], ['home-div', (480864,)], ['party-district', (495363,)], ['party-district', (1381597,)], ['party-district', (1580721,)], ['party-district', (1544348,)], ['party-district', (1376179,)]]\n",
      "min_h = 0.9\n",
      "[['party-member', (1101205,)], ['home-road', (495894,)], ['home-road', (276314,)], ['home-road', (555382,)], ['home-road', (272552,)], ['home-road', (179220,)], ['home-road', (519247,)], ['home-road', (472474,)], ['home-road', (495718,)], ['home-div', (404655,)], ['home-div', (335419,)], ['home-div', (345143,)], ['home-div', (470306,)], ['home-div', (535887,)], ['party-district', (495363,)], ['party-district', (1544348,)]]\n"
     ]
    }
   ],
   "source": [
    "for min_h in min_h_values:\n",
    "    qids = []\n",
    "    for multi_key in multi_keys:\n",
    "        results = pl.read_csv(f'{analyses_dir}/{multi_key}/N{N}_K{K}_T{min_h}/final_results.csv').filter(pl.col('SLOTH_columns_overlap') > 0)\n",
    "        for qid, qgroup in results.group_by('query_id'):\n",
    "            nres_bsl = qgroup.filter(pl.col('version') == 'baseline').shape[0]\n",
    "            nres_mc  = qgroup.filter(pl.col('version') == 'MC').shape[0]\n",
    "            if nres_bsl > nres_mc:\n",
    "                qids.append([multi_key, qid])\n",
    "    print(f'min_h = {min_h}')\n",
    "    print(qids)"
   ]
  },
  {
   "cell_type": "markdown",
   "metadata": {},
   "source": [
    "## How big are the attributes domains (only from queries)?"
   ]
  },
  {
   "cell_type": "code",
   "execution_count": 30,
   "metadata": {},
   "outputs": [
    {
     "name": "stderr",
     "output_type": "stream",
     "text": [
      "  2%|▏         | 306/18800 [00:00<00:14, 1253.72it/s]"
     ]
    },
    {
     "name": "stderr",
     "output_type": "stream",
     "text": [
      "100%|██████████| 18800/18800 [00:06<00:00, 2841.58it/s]\n",
      "100%|██████████| 30000/30000 [00:06<00:00, 4477.07it/s]\n",
      "100%|██████████| 29328/29328 [00:07<00:00, 3993.43it/s]\n",
      "100%|██████████| 30000/30000 [00:07<00:00, 3781.93it/s]\n"
     ]
    }
   ],
   "source": [
    "dlh = SimpleDataLakeHelper('mongodb', 'wikiturlsnap', 'standard')\n",
    "\n",
    "\n",
    "N = 300\n",
    "K = 50\n",
    "T = 0.9\n",
    "\n",
    "domains_set = defaultdict(set)\n",
    "domains_bag = defaultdict(set)\n",
    "\n",
    "for multi_key in multi_keys:\n",
    "    mk_results = pl.read_csv(f\"{analyses_dir}/{multi_key}/N{N}_K{K}_T{T}/final_results.csv\")\n",
    "    keys = multi_key.split('-')\n",
    "    for qid in tqdm(mk_results.select('query_id').rows()):\n",
    "        if qid[0] not in actually_used_query_ids:\n",
    "            continue\n",
    "        table_obj = dlh.get_table_by_numeric_id(qid[0])\n",
    "        bad_columns = table_obj['numeric_columns']\n",
    "        headers = [str(h).lower().strip() for h in (table_obj['headers'] if table_obj['headers'] != None else table_obj['content'][0])]\n",
    "        table = table_rows_to_columns(table_obj['content'], 0, len(table_obj['content'][0]), bad_columns)\n",
    "\n",
    "        for header, column, is_bad in zip(headers, table, bad_columns):\n",
    "            if not is_bad:\n",
    "                for key in keys:\n",
    "                    if header == key:\n",
    "                        for token in table_to_tokens([column], 'set', [0] * len(column)):\n",
    "                            domains_set[key].add(token)\n",
    "                        for token in table_to_tokens([column], 'bag', [0] * len(column)):\n",
    "                            domains_bag[key].add(token)"
   ]
  },
  {
   "cell_type": "code",
   "execution_count": 31,
   "metadata": {},
   "outputs": [
    {
     "data": {
      "text/html": [
       "<div><style>\n",
       ".dataframe > thead > tr,\n",
       ".dataframe > tbody > tr {\n",
       "  text-align: right;\n",
       "  white-space: pre-wrap;\n",
       "}\n",
       "</style>\n",
       "<small>shape: (5, 3)</small><table border=\"1\" class=\"dataframe\"><thead><tr><th>attribute</th><th>set_query_domain_size</th><th>bag_query_domain_size</th></tr><tr><td>str</td><td>i64</td><td>i64</td></tr></thead><tbody><tr><td>&quot;province&quot;</td><td>599</td><td>2214</td></tr><tr><td>&quot;city&quot;</td><td>3506</td><td>4555</td></tr><tr><td>&quot;club&quot;</td><td>2199</td><td>2234</td></tr><tr><td>&quot;stadium&quot;</td><td>1417</td><td>1550</td></tr><tr><td>&quot;country&quot;</td><td>704</td><td>1278</td></tr></tbody></table></div>"
      ],
      "text/plain": [
       "shape: (5, 3)\n",
       "┌───────────┬───────────────────────┬───────────────────────┐\n",
       "│ attribute ┆ set_query_domain_size ┆ bag_query_domain_size │\n",
       "│ ---       ┆ ---                   ┆ ---                   │\n",
       "│ str       ┆ i64                   ┆ i64                   │\n",
       "╞═══════════╪═══════════════════════╪═══════════════════════╡\n",
       "│ province  ┆ 599                   ┆ 2214                  │\n",
       "│ city      ┆ 3506                  ┆ 4555                  │\n",
       "│ club      ┆ 2199                  ┆ 2234                  │\n",
       "│ stadium   ┆ 1417                  ┆ 1550                  │\n",
       "│ country   ┆ 704                   ┆ 1278                  │\n",
       "└───────────┴───────────────────────┴───────────────────────┘"
      ]
     },
     "execution_count": 31,
     "metadata": {},
     "output_type": "execute_result"
    }
   ],
   "source": [
    "data = [[k, len(domains_set[k]), len(domains_bag[k])] for k in domains_set.keys()]\n",
    "pl.DataFrame(data, schema=['attribute', 'set_query_domain_size', 'bag_query_domain_size'], orient='row')"
   ]
  },
  {
   "cell_type": "markdown",
   "metadata": {},
   "source": [
    "## How are distributed the attribute domains across all the tables?"
   ]
  },
  {
   "cell_type": "code",
   "execution_count": 68,
   "metadata": {},
   "outputs": [],
   "source": [
    "def initializer(_domains_set:defaultdict):\n",
    "    global domains_set\n",
    "    domains_set = _domains_set\n",
    "\n",
    "\n",
    "def task(data):\n",
    "    global domains_set\n",
    "    dlh = SimpleDataLakeHelper('mongodb', 'wikiturlsnap', 'standard')\n",
    "    tobj_range = data[0]\n",
    "    set_domain_freq = defaultdict(int)\n",
    "\n",
    "    for i in tobj_range:\n",
    "        tobj = dlh.get_table_by_numeric_id(i)\n",
    "        tset = table_to_tokens(tobj['content'], 'set', tobj['numeric_columns'])\n",
    "        \n",
    "        for attr, values in domains_set.items():\n",
    "            if any(x in tset for x in values):\n",
    "                set_domain_freq[attr] += 1\n",
    "        \n",
    "    return Counter(set_domain_freq)\n",
    "\n",
    "\n",
    "def update_counter(a, b):\n",
    "    a.update(b)\n",
    "    return a\n",
    "\n",
    "p = 32\n",
    "n = 100_000\n",
    "\n",
    "with mp.Pool(p, initializer, (domains_set, )) as pool:\n",
    "    work = sample(range(dlh.get_number_of_tables()), n)\n",
    "    set_domain_freq = pool.map(task, chunks(work, len(work) // p))\n",
    "    set_domain_freq = reduce(update_counter, set_domain_freq)\n"
   ]
  },
  {
   "cell_type": "code",
   "execution_count": 69,
   "metadata": {},
   "outputs": [
    {
     "data": {
      "text/html": [
       "<div><style>\n",
       ".dataframe > thead > tr,\n",
       ".dataframe > tbody > tr {\n",
       "  text-align: right;\n",
       "  white-space: pre-wrap;\n",
       "}\n",
       "</style>\n",
       "<small>shape: (6, 3)</small><table border=\"1\" class=\"dataframe\"><thead><tr><th>attribute</th><th>set_frequency</th><th>set_frequency (% 100000)</th></tr><tr><td>str</td><td>i64</td><td>f64</td></tr></thead><tbody><tr><td>&quot;nationality&quot;</td><td>13966</td><td>14.0</td></tr><tr><td>&quot;name&quot;</td><td>12266</td><td>12.3</td></tr><tr><td>&quot;genre&quot;</td><td>8909</td><td>8.9</td></tr><tr><td>&quot;director&quot;</td><td>10219</td><td>10.2</td></tr><tr><td>&quot;role&quot;</td><td>6697</td><td>6.7</td></tr><tr><td>&quot;actor&quot;</td><td>1429</td><td>1.4</td></tr></tbody></table></div>"
      ],
      "text/plain": [
       "shape: (6, 3)\n",
       "┌─────────────┬───────────────┬──────────────────────────┐\n",
       "│ attribute   ┆ set_frequency ┆ set_frequency (% 100000) │\n",
       "│ ---         ┆ ---           ┆ ---                      │\n",
       "│ str         ┆ i64           ┆ f64                      │\n",
       "╞═════════════╪═══════════════╪══════════════════════════╡\n",
       "│ nationality ┆ 13966         ┆ 14.0                     │\n",
       "│ name        ┆ 12266         ┆ 12.3                     │\n",
       "│ genre       ┆ 8909          ┆ 8.9                      │\n",
       "│ director    ┆ 10219         ┆ 10.2                     │\n",
       "│ role        ┆ 6697          ┆ 6.7                      │\n",
       "│ actor       ┆ 1429          ┆ 1.4                      │\n",
       "└─────────────┴───────────────┴──────────────────────────┘"
      ]
     },
     "execution_count": 69,
     "metadata": {},
     "output_type": "execute_result"
    }
   ],
   "source": [
    "data = [[k, set_domain_freq[k], round(100 * set_domain_freq[k] / n, 1)] for k in set_domain_freq.keys()]\n",
    "pl.DataFrame(data, schema=['attribute', 'set_frequency', f'set_frequency (% {n})'], orient='row')"
   ]
  },
  {
   "cell_type": "markdown",
   "metadata": {},
   "source": [
    "## What kind of results does MATE find?"
   ]
  },
  {
   "cell_type": "code",
   "execution_count": 139,
   "metadata": {},
   "outputs": [
    {
     "data": {
      "text/plain": [
       "[2470347, 465091, 219453, 543748, 1902132]"
      ]
     },
     "execution_count": 139,
     "metadata": {},
     "output_type": "execute_result"
    }
   ],
   "source": [
    "multi_keys = [\n",
    "    'party-district',\n",
    "    'party-member', \n",
    "    # 'home-road', \n",
    "    # 'home-div',\n",
    "]\n",
    "multi_key = multi_keys[0]\n",
    "N = 600\n",
    "K = 50\n",
    "\n",
    "results = pl.read_csv(f'{analyses_dir}/{multi_key}/N{N}_K{K}_T{T}/final_results.csv')\n",
    "josie_mc_results = pl.read_csv(f'{analyses_dir}/{multi_key}/N{N}_K{K}_T{T}/results_multi_josie.csv')\n",
    "results.select('query_id').unique().to_series().to_list()[5:10]"
   ]
  },
  {
   "cell_type": "code",
   "execution_count": 152,
   "metadata": {},
   "outputs": [],
   "source": [
    "g = results.filter(pl.col('query_id') == 543748)"
   ]
  },
  {
   "cell_type": "code",
   "execution_count": 153,
   "metadata": {},
   "outputs": [
    {
     "data": {
      "text/html": [
       "<div><style>\n",
       ".dataframe > thead > tr,\n",
       ".dataframe > tbody > tr {\n",
       "  text-align: right;\n",
       "  white-space: pre-wrap;\n",
       "}\n",
       "</style>\n",
       "<small>shape: (0, 5)</small><table border=\"1\" class=\"dataframe\"><thead><tr><th>version</th><th>query_id</th><th>result_id</th><th>result_rank</th><th>SLOTH_columns_overlap</th></tr><tr><td>str</td><td>i64</td><td>i64</td><td>i64</td><td>i64</td></tr></thead><tbody></tbody></table></div>"
      ],
      "text/plain": [
       "shape: (0, 5)\n",
       "┌─────────┬──────────┬───────────┬─────────────┬───────────────────────┐\n",
       "│ version ┆ query_id ┆ result_id ┆ result_rank ┆ SLOTH_columns_overlap │\n",
       "│ ---     ┆ ---      ┆ ---       ┆ ---         ┆ ---                   │\n",
       "│ str     ┆ i64      ┆ i64       ┆ i64         ┆ i64                   │\n",
       "╞═════════╪══════════╪═══════════╪═════════════╪═══════════════════════╡\n",
       "└─────────┴──────────┴───────────┴─────────────┴───────────────────────┘"
      ]
     },
     "execution_count": 153,
     "metadata": {},
     "output_type": "execute_result"
    }
   ],
   "source": [
    "g.filter((pl.col('version') == 'BSL') & (pl.col('SLOTH_columns_overlap') > 0))"
   ]
  },
  {
   "cell_type": "code",
   "execution_count": 154,
   "metadata": {},
   "outputs": [
    {
     "data": {
      "text/html": [
       "<div><style>\n",
       ".dataframe > thead > tr,\n",
       ".dataframe > tbody > tr {\n",
       "  text-align: right;\n",
       "  white-space: pre-wrap;\n",
       "}\n",
       "</style>\n",
       "<small>shape: (20, 5)</small><table border=\"1\" class=\"dataframe\"><thead><tr><th>version</th><th>query_id</th><th>result_id</th><th>result_rank</th><th>SLOTH_columns_overlap</th></tr><tr><td>str</td><td>i64</td><td>i64</td><td>i64</td><td>i64</td></tr></thead><tbody><tr><td>&quot;MC&quot;</td><td>543748</td><td>543792</td><td>0</td><td>14</td></tr><tr><td>&quot;MC&quot;</td><td>543748</td><td>544022</td><td>1</td><td>14</td></tr><tr><td>&quot;MC&quot;</td><td>543748</td><td>543840</td><td>2</td><td>14</td></tr><tr><td>&quot;MC&quot;</td><td>543748</td><td>543975</td><td>3</td><td>14</td></tr><tr><td>&quot;MC&quot;</td><td>543748</td><td>466095</td><td>4</td><td>14</td></tr><tr><td>&hellip;</td><td>&hellip;</td><td>&hellip;</td><td>&hellip;</td><td>&hellip;</td></tr><tr><td>&quot;MC&quot;</td><td>543748</td><td>465512</td><td>19</td><td>10</td></tr><tr><td>&quot;MC&quot;</td><td>543748</td><td>465127</td><td>21</td><td>8</td></tr><tr><td>&quot;MC&quot;</td><td>543748</td><td>465405</td><td>22</td><td>10</td></tr><tr><td>&quot;MC&quot;</td><td>543748</td><td>465265</td><td>23</td><td>8</td></tr><tr><td>&quot;MC&quot;</td><td>543748</td><td>465081</td><td>24</td><td>8</td></tr></tbody></table></div>"
      ],
      "text/plain": [
       "shape: (20, 5)\n",
       "┌─────────┬──────────┬───────────┬─────────────┬───────────────────────┐\n",
       "│ version ┆ query_id ┆ result_id ┆ result_rank ┆ SLOTH_columns_overlap │\n",
       "│ ---     ┆ ---      ┆ ---       ┆ ---         ┆ ---                   │\n",
       "│ str     ┆ i64      ┆ i64       ┆ i64         ┆ i64                   │\n",
       "╞═════════╪══════════╪═══════════╪═════════════╪═══════════════════════╡\n",
       "│ MC      ┆ 543748   ┆ 543792    ┆ 0           ┆ 14                    │\n",
       "│ MC      ┆ 543748   ┆ 544022    ┆ 1           ┆ 14                    │\n",
       "│ MC      ┆ 543748   ┆ 543840    ┆ 2           ┆ 14                    │\n",
       "│ MC      ┆ 543748   ┆ 543975    ┆ 3           ┆ 14                    │\n",
       "│ MC      ┆ 543748   ┆ 466095    ┆ 4           ┆ 14                    │\n",
       "│ …       ┆ …        ┆ …         ┆ …           ┆ …                     │\n",
       "│ MC      ┆ 543748   ┆ 465512    ┆ 19          ┆ 10                    │\n",
       "│ MC      ┆ 543748   ┆ 465127    ┆ 21          ┆ 8                     │\n",
       "│ MC      ┆ 543748   ┆ 465405    ┆ 22          ┆ 10                    │\n",
       "│ MC      ┆ 543748   ┆ 465265    ┆ 23          ┆ 8                     │\n",
       "│ MC      ┆ 543748   ┆ 465081    ┆ 24          ┆ 8                     │\n",
       "└─────────┴──────────┴───────────┴─────────────┴───────────────────────┘"
      ]
     },
     "execution_count": 154,
     "metadata": {},
     "output_type": "execute_result"
    }
   ],
   "source": [
    "g.filter((pl.col('version') == 'MC') & (pl.col('SLOTH_columns_overlap') > 0))"
   ]
  },
  {
   "cell_type": "code",
   "execution_count": 155,
   "metadata": {},
   "outputs": [
    {
     "data": {
      "text/html": [
       "<div><style>\n",
       ".dataframe > thead > tr,\n",
       ".dataframe > tbody > tr {\n",
       "  text-align: right;\n",
       "  white-space: pre-wrap;\n",
       "}\n",
       "</style>\n",
       "<small>shape: (9, 5)</small><table border=\"1\" class=\"dataframe\"><thead><tr><th>version</th><th>query_id</th><th>result_id</th><th>result_rank</th><th>SLOTH_columns_overlap</th></tr><tr><td>str</td><td>i64</td><td>i64</td><td>i64</td><td>i64</td></tr></thead><tbody><tr><td>&quot;MATE&quot;</td><td>543748</td><td>466095</td><td>0</td><td>14</td></tr><tr><td>&quot;MATE&quot;</td><td>543748</td><td>543975</td><td>1</td><td>14</td></tr><tr><td>&quot;MATE&quot;</td><td>543748</td><td>543792</td><td>2</td><td>14</td></tr><tr><td>&quot;MATE&quot;</td><td>543748</td><td>543840</td><td>3</td><td>14</td></tr><tr><td>&quot;MATE&quot;</td><td>543748</td><td>544022</td><td>4</td><td>14</td></tr><tr><td>&quot;MATE&quot;</td><td>543748</td><td>465903</td><td>5</td><td>12</td></tr><tr><td>&quot;MATE&quot;</td><td>543748</td><td>465806</td><td>6</td><td>12</td></tr><tr><td>&quot;MATE&quot;</td><td>543748</td><td>466046</td><td>7</td><td>12</td></tr><tr><td>&quot;MATE&quot;</td><td>543748</td><td>543604</td><td>8</td><td>12</td></tr></tbody></table></div>"
      ],
      "text/plain": [
       "shape: (9, 5)\n",
       "┌─────────┬──────────┬───────────┬─────────────┬───────────────────────┐\n",
       "│ version ┆ query_id ┆ result_id ┆ result_rank ┆ SLOTH_columns_overlap │\n",
       "│ ---     ┆ ---      ┆ ---       ┆ ---         ┆ ---                   │\n",
       "│ str     ┆ i64      ┆ i64       ┆ i64         ┆ i64                   │\n",
       "╞═════════╪══════════╪═══════════╪═════════════╪═══════════════════════╡\n",
       "│ MATE    ┆ 543748   ┆ 466095    ┆ 0           ┆ 14                    │\n",
       "│ MATE    ┆ 543748   ┆ 543975    ┆ 1           ┆ 14                    │\n",
       "│ MATE    ┆ 543748   ┆ 543792    ┆ 2           ┆ 14                    │\n",
       "│ MATE    ┆ 543748   ┆ 543840    ┆ 3           ┆ 14                    │\n",
       "│ MATE    ┆ 543748   ┆ 544022    ┆ 4           ┆ 14                    │\n",
       "│ MATE    ┆ 543748   ┆ 465903    ┆ 5           ┆ 12                    │\n",
       "│ MATE    ┆ 543748   ┆ 465806    ┆ 6           ┆ 12                    │\n",
       "│ MATE    ┆ 543748   ┆ 466046    ┆ 7           ┆ 12                    │\n",
       "│ MATE    ┆ 543748   ┆ 543604    ┆ 8           ┆ 12                    │\n",
       "└─────────┴──────────┴───────────┴─────────────┴───────────────────────┘"
      ]
     },
     "execution_count": 155,
     "metadata": {},
     "output_type": "execute_result"
    }
   ],
   "source": [
    "g.filter((pl.col('version') == 'MATE') & (pl.col('SLOTH_columns_overlap') > 0))"
   ]
  },
  {
   "cell_type": "code",
   "execution_count": 120,
   "metadata": {},
   "outputs": [],
   "source": [
    "import re\n",
    "def get_result_ids(s): \n",
    "    return list(map(int, re.findall(r'\\d+', s)[::2])) if s else []\n",
    "def get_result_overlaps(s): \n",
    "    return list(map(int, re.findall(r'\\d+', s)[1::2])) if s else []\n",
    "def parse_results(r): \n",
    "    return list(zip(get_result_ids(r), get_result_overlaps(r))) if str(r) != 'nan' else []"
   ]
  },
  {
   "cell_type": "code",
   "execution_count": 121,
   "metadata": {},
   "outputs": [
    {
     "data": {
      "text/plain": [
       "[(2344868, 103),\n",
       " (2344263, 103),\n",
       " (1613097, 103),\n",
       " (1757308, 103),\n",
       " (1655935, 102),\n",
       " (1768369, 102),\n",
       " (1746536, 102),\n",
       " (2344871, 102),\n",
       " (1776568, 102),\n",
       " (2344546, 102),\n",
       " (2344316, 102),\n",
       " (1803337, 102),\n",
       " (2344540, 102),\n",
       " (1767546, 102),\n",
       " (1818633, 102),\n",
       " (1730773, 102),\n",
       " (1776567, 102),\n",
       " (2344317, 102),\n",
       " (1729148, 102),\n",
       " (2344547, 102),\n",
       " (1820985, 102),\n",
       " (2344872, 102),\n",
       " (1820931, 102),\n",
       " (2344867, 102),\n",
       " (1819100, 102),\n",
       " (2344881, 102),\n",
       " (1753883, 102),\n",
       " (1780461, 102),\n",
       " (1746537, 102),\n",
       " (2344539, 102),\n",
       " (1751008, 102),\n",
       " (1808105, 102),\n",
       " (1738184, 102),\n",
       " (1801954, 102),\n",
       " (1757309, 102),\n",
       " (2344870, 102),\n",
       " (2344873, 102),\n",
       " (2344880, 102),\n",
       " (2344264, 102),\n",
       " (2344874, 102),\n",
       " (1780462, 102),\n",
       " (1707578, 102),\n",
       " (1811023, 102),\n",
       " (1527536, 101),\n",
       " (1436265, 101),\n",
       " (1421982, 101),\n",
       " (2457188, 101),\n",
       " (1580100, 101),\n",
       " (495363, 101),\n",
       " (2571103, 101)]"
      ]
     },
     "execution_count": 121,
     "metadata": {},
     "output_type": "execute_result"
    }
   ],
   "source": [
    "parse_results(josie_mc_results.filter(pl.col('query_id') == 1429434).select('results').to_series().to_list()[0])"
   ]
  },
  {
   "cell_type": "code",
   "execution_count": null,
   "metadata": {},
   "outputs": [],
   "source": []
  }
 ],
 "metadata": {
  "kernelspec": {
   "display_name": "nanni-tesi-env",
   "language": "python",
   "name": "python3"
  },
  "language_info": {
   "codemirror_mode": {
    "name": "ipython",
    "version": 3
   },
   "file_extension": ".py",
   "mimetype": "text/x-python",
   "name": "python",
   "nbconvert_exporter": "python",
   "pygments_lexer": "ipython3",
   "version": "3.10.14"
  }
 },
 "nbformat": 4,
 "nbformat_minor": 2
}
