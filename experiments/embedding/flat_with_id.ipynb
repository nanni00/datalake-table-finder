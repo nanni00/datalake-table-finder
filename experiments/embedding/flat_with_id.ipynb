{
 "cells": [
  {
   "cell_type": "code",
   "execution_count": 2,
   "metadata": {
    "metadata": {}
   },
   "outputs": [],
   "source": [
    "import faiss\n",
    "import numpy as np\n",
    "from tools.utils.settings import DefaultPath as defpath\n",
    "\n",
    "import pandas as pd\n",
    "from tools.utils.utils import create_token_set\n",
    "from tools.utils.mongodb_utils import get_mongodb_collections, get_one_document_from_mongodb_by_key\n",
    "from tools.embedding import FastTextTableEmbedder"
   ]
  },
  {
   "cell_type": "code",
   "execution_count": 3,
   "metadata": {
    "metadata": {}
   },
   "outputs": [],
   "source": [
    "tabenc = FastTextTableEmbedder('/data4/nanni/tesi-magistrale/models/fasttext/cc.en.300.bin')"
   ]
  },
  {
   "cell_type": "code",
   "execution_count": 4,
   "metadata": {
    "metadata": {}
   },
   "outputs": [],
   "source": [
    "mongoclient, collections = get_mongodb_collections('wikipedia', 'standard')"
   ]
  },
  {
   "cell_type": "code",
   "execution_count": 5,
   "metadata": {
    "metadata": {}
   },
   "outputs": [],
   "source": [
    "dataset = 'wikipedia'\n",
    "test_dir = f'{defpath.data_path.tests}/a_test'\n",
    "index_path = f'{test_dir}/wikipedia/embedding/col_idx_mfasttext.index'\n",
    "index = faiss.read_index(index_path)\n",
    "blacklist = {'{\"$numberDouble\": \"NaN\"}', 'comment', 'story'} if dataset == 'gittables' else set()"
   ]
  },
  {
   "cell_type": "code",
   "execution_count": 21,
   "metadata": {
    "metadata": {}
   },
   "outputs": [
    {
     "name": "stdout",
     "output_type": "stream",
     "text": [
      "4 4 (4, 10) (4, 10)\n",
      "[array([[     55, 2662654, 2663531, 2572926, 2577169, 2573285, 2658131,\n",
      "        2638439, 1668581, 1596085],\n",
      "       [     55,      56,   16446,     104,  982073,  982102,  474681,\n",
      "         168415,  168424,      43],\n",
      "       [      4,       8,      10,      13,      43,      55,      74,\n",
      "             75,      81,      84],\n",
      "       [     55,  183505,      79,  238987,  278499,  453288,  593808,\n",
      "         849060,  849803,   36439]])]\n",
      "[array([[0.00000000e+00, 1.86056551e-02, 1.97069198e-02, 2.06442233e-02,\n",
      "        2.27631107e-02, 2.29005609e-02, 2.32388992e-02, 2.37023942e-02,\n",
      "        2.38051321e-02, 2.39079613e-02],\n",
      "       [0.00000000e+00, 1.43143982e-02, 1.52567066e-02, 1.54692223e-02,\n",
      "        2.14616116e-02, 2.14616135e-02, 2.16705482e-02, 2.16865521e-02,\n",
      "        2.16865521e-02, 2.20784545e-02],\n",
      "       [0.00000000e+00, 0.00000000e+00, 0.00000000e+00, 0.00000000e+00,\n",
      "        0.00000000e+00, 0.00000000e+00, 0.00000000e+00, 0.00000000e+00,\n",
      "        0.00000000e+00, 0.00000000e+00],\n",
      "       [0.00000000e+00, 1.32523387e-15, 2.80379171e-15, 2.80379171e-15,\n",
      "        2.80379171e-15, 2.80379171e-15, 2.80379171e-15, 2.80379171e-15,\n",
      "        2.80379171e-15, 3.39972682e-15]])]\n",
      "rI: 1 (4, 10) 1 (4, 1)\n",
      "rD: 1 (4, 10) 1 (4, 1)\n",
      "[55]\n"
     ]
    }
   ],
   "source": [
    "from statistics import mean\n",
    "from itertools import groupby\n",
    "\n",
    "def compute_results(xq_ids, D, I, k):\n",
    "    ids = np.unique(xq_ids)\n",
    "\n",
    "    rI = np.concatenate((xq_ids, I), axis=1)\n",
    "    rI = np.split(rI[:, 1:], np.unique(rI[:, 0], return_index=True)[1][1:])\n",
    "\n",
    "    rD = np.concatenate((xq_ids, D), axis=1)\n",
    "    rD = np.split(rD[:, 1:], np.unique(rD[:, 0], return_index=True)[1][1:])\n",
    "    print(rI)\n",
    "    print(rD)\n",
    "    print('rI:', len(rI), rI[0].shape, len(query_ids), xq_ids.shape)\n",
    "    print('rD:', len(rD), rD[0].shape, len(query_ids), xq_ids.shape)\n",
    "    print(np.unique(xq_ids))\n",
    "\n",
    "    return [\n",
    "            [\n",
    "                int(y[0]) for y in\n",
    "                sorted([[g[0], mean(x[1] for x in g[1])] for g in groupby(raw_group, key=lambda x: x[0])], key=lambda x: x[1])[:k]\n",
    "            ]\n",
    "            for raw_group in \n",
    "                [\n",
    "                    sorted(\n",
    "                        [\n",
    "                            x for j in range(rI[i].shape[0]) for x in zip(rI[i][j], rD[i][j]) if x[0] not in {ids[i], -1}\n",
    "                        ], \n",
    "                        key=lambda x: x[0]) \n",
    "                    for i in range(len(rI))\n",
    "                ]\n",
    "        ]\n",
    "\n",
    "from tqdm import tqdm\n",
    "d = 300\n",
    "xq, xq_ids = np.empty(shape=(0, d), dtype=np.float64), np.empty(shape=(0, 1), dtype=np.int32)\n",
    "batch_size = 0\n",
    "results = []\n",
    "# query_ids = range(980, 100)\n",
    "query_ids = [55]\n",
    "k = 10\n",
    "# batch query processing, because it's significantly faster\n",
    "for qid in tqdm(query_ids, total=len(query_ids), disable=True):\n",
    "    # when reached the batch threshold, execute the search for the \n",
    "    # current batch \n",
    "    doc = get_one_document_from_mongodb_by_key('_id_numeric', int(qid), *collections)\n",
    "    colemb = tabenc.embedding_table(doc['content'], doc['numeric_columns'], blacklist)\n",
    "    ids = np.expand_dims(np.repeat([qid], colemb.shape[0]), axis=0)\n",
    "    xq_ids = np.concatenate((xq_ids, ids.T))\n",
    "    xq = np.concatenate((xq, colemb), axis=0)\n",
    "    \n",
    "    if xq.shape[0] > batch_size:\n",
    "        D, I = index.search(xq, int(k))\n",
    "        print(xq.shape[0], xq_ids.shape[0], D.shape, I.shape)\n",
    "        batch_results = compute_results(xq_ids, D, I, k)\n",
    "        \n",
    "        for j, jqid in enumerate(np.unique(xq_ids)):\n",
    "            results.append((jqid, batch_results[j], []))\n",
    "\n",
    "        xq, xq_ids = np.empty(shape=(0, d), dtype=np.float64), np.empty(shape=(0, 1), dtype=np.int32)\n",
    "    \n"
   ]
  },
  {
   "cell_type": "code",
   "execution_count": 31,
   "metadata": {
    "metadata": {}
   },
   "outputs": [],
   "source": [
    "doc55 = get_one_document_from_mongodb_by_key('_id_numeric', 55, *collections)\n",
    "doc = get_one_document_from_mongodb_by_key('_id_numeric', 5, *collections)"
   ]
  },
  {
   "cell_type": "code",
   "execution_count": 32,
   "metadata": {
    "metadata": {}
   },
   "outputs": [
    {
     "data": {
      "text/html": [
       "<div>\n",
       "<style scoped>\n",
       "    .dataframe tbody tr th:only-of-type {\n",
       "        vertical-align: middle;\n",
       "    }\n",
       "\n",
       "    .dataframe tbody tr th {\n",
       "        vertical-align: top;\n",
       "    }\n",
       "\n",
       "    .dataframe thead th {\n",
       "        text-align: right;\n",
       "    }\n",
       "</style>\n",
       "<table border=\"1\" class=\"dataframe\">\n",
       "  <thead>\n",
       "    <tr style=\"text-align: right;\">\n",
       "      <th></th>\n",
       "      <th>0</th>\n",
       "      <th>1</th>\n",
       "      <th>2</th>\n",
       "      <th>3</th>\n",
       "    </tr>\n",
       "  </thead>\n",
       "  <tbody>\n",
       "    <tr>\n",
       "      <th>0</th>\n",
       "      <td>Hans Woellke</td>\n",
       "      <td>Germany</td>\n",
       "      <td></td>\n",
       "      <td>Q</td>\n",
       "    </tr>\n",
       "    <tr>\n",
       "      <th>1</th>\n",
       "      <td>Sulo Bärlund</td>\n",
       "      <td>Finland</td>\n",
       "      <td></td>\n",
       "      <td>Q</td>\n",
       "    </tr>\n",
       "    <tr>\n",
       "      <th>2</th>\n",
       "      <td>Gerhard Stöck</td>\n",
       "      <td>Germany</td>\n",
       "      <td></td>\n",
       "      <td>Q</td>\n",
       "    </tr>\n",
       "    <tr>\n",
       "      <th>3</th>\n",
       "      <td>Sam Francis</td>\n",
       "      <td>United States</td>\n",
       "      <td></td>\n",
       "      <td>Q</td>\n",
       "    </tr>\n",
       "    <tr>\n",
       "      <th>4</th>\n",
       "      <td>Jack Torrance</td>\n",
       "      <td>United States</td>\n",
       "      <td></td>\n",
       "      <td>Q</td>\n",
       "    </tr>\n",
       "    <tr>\n",
       "      <th>5</th>\n",
       "      <td>Dimitri Zaitz</td>\n",
       "      <td>United States</td>\n",
       "      <td></td>\n",
       "      <td>Q</td>\n",
       "    </tr>\n",
       "    <tr>\n",
       "      <th>6</th>\n",
       "      <td>František Douda</td>\n",
       "      <td>Czechoslovakia</td>\n",
       "      <td></td>\n",
       "      <td>Q</td>\n",
       "    </tr>\n",
       "    <tr>\n",
       "      <th>7</th>\n",
       "      <td>Arnold Viiding</td>\n",
       "      <td>Estonia</td>\n",
       "      <td></td>\n",
       "      <td>Q</td>\n",
       "    </tr>\n",
       "    <tr>\n",
       "      <th>8</th>\n",
       "      <td>Gunnar Bergh</td>\n",
       "      <td>Sweden</td>\n",
       "      <td></td>\n",
       "      <td>Q</td>\n",
       "    </tr>\n",
       "    <tr>\n",
       "      <th>9</th>\n",
       "      <td>Hans-Heinrich Sievert</td>\n",
       "      <td>Germany</td>\n",
       "      <td></td>\n",
       "      <td>Q</td>\n",
       "    </tr>\n",
       "    <tr>\n",
       "      <th>10</th>\n",
       "      <td>Aleksa Kovačević</td>\n",
       "      <td>Yugoslavia</td>\n",
       "      <td></td>\n",
       "      <td>Q</td>\n",
       "    </tr>\n",
       "    <tr>\n",
       "      <th>11</th>\n",
       "      <td>József Darányi</td>\n",
       "      <td>Hungary</td>\n",
       "      <td></td>\n",
       "      <td>Q</td>\n",
       "    </tr>\n",
       "    <tr>\n",
       "      <th>12</th>\n",
       "      <td>Risto Kuntsi</td>\n",
       "      <td>Finland</td>\n",
       "      <td></td>\n",
       "      <td>Q</td>\n",
       "    </tr>\n",
       "    <tr>\n",
       "      <th>13</th>\n",
       "      <td>Karel Hoplíček</td>\n",
       "      <td>Czechoslovakia</td>\n",
       "      <td></td>\n",
       "      <td>Q</td>\n",
       "    </tr>\n",
       "    <tr>\n",
       "      <th>14</th>\n",
       "      <td>Antônio Lira</td>\n",
       "      <td>Brazil</td>\n",
       "      <td></td>\n",
       "      <td></td>\n",
       "    </tr>\n",
       "    <tr>\n",
       "      <th>15</th>\n",
       "      <td>Abdul Rahim</td>\n",
       "      <td>Afghanistan</td>\n",
       "      <td></td>\n",
       "      <td></td>\n",
       "    </tr>\n",
       "    <tr>\n",
       "      <th>16</th>\n",
       "      <td>Chen Baoqiu</td>\n",
       "      <td>China</td>\n",
       "      <td></td>\n",
       "      <td></td>\n",
       "    </tr>\n",
       "    <tr>\n",
       "      <th>17</th>\n",
       "      <td>Jaroslav Vítek</td>\n",
       "      <td>Czechoslovakia</td>\n",
       "      <td></td>\n",
       "      <td></td>\n",
       "    </tr>\n",
       "    <tr>\n",
       "      <th>18</th>\n",
       "      <td>Jean Wagner</td>\n",
       "      <td>Luxembourg</td>\n",
       "      <td></td>\n",
       "      <td></td>\n",
       "    </tr>\n",
       "    <tr>\n",
       "      <th>19</th>\n",
       "      <td>Jules Noël</td>\n",
       "      <td>France</td>\n",
       "      <td></td>\n",
       "      <td></td>\n",
       "    </tr>\n",
       "    <tr>\n",
       "      <th>20</th>\n",
       "      <td>Shizuo Takada</td>\n",
       "      <td>Japan</td>\n",
       "      <td></td>\n",
       "      <td></td>\n",
       "    </tr>\n",
       "  </tbody>\n",
       "</table>\n",
       "</div>"
      ],
      "text/plain": [
       "                        0               1 2  3\n",
       "0            Hans Woellke         Germany    Q\n",
       "1            Sulo Bärlund         Finland    Q\n",
       "2           Gerhard Stöck         Germany    Q\n",
       "3             Sam Francis   United States    Q\n",
       "4           Jack Torrance   United States    Q\n",
       "5           Dimitri Zaitz   United States    Q\n",
       "6         František Douda  Czechoslovakia    Q\n",
       "7          Arnold Viiding         Estonia    Q\n",
       "8            Gunnar Bergh          Sweden    Q\n",
       "9   Hans-Heinrich Sievert         Germany    Q\n",
       "10       Aleksa Kovačević      Yugoslavia    Q\n",
       "11         József Darányi         Hungary    Q\n",
       "12           Risto Kuntsi         Finland    Q\n",
       "13         Karel Hoplíček  Czechoslovakia    Q\n",
       "14           Antônio Lira          Brazil     \n",
       "15            Abdul Rahim     Afghanistan     \n",
       "16            Chen Baoqiu           China     \n",
       "17         Jaroslav Vítek  Czechoslovakia     \n",
       "18            Jean Wagner      Luxembourg     \n",
       "19             Jules Noël          France     \n",
       "20          Shizuo Takada           Japan     "
      ]
     },
     "execution_count": 32,
     "metadata": {},
     "output_type": "execute_result"
    }
   ],
   "source": [
    "pd.DataFrame(doc55['content'])"
   ]
  },
  {
   "cell_type": "code",
   "execution_count": 33,
   "metadata": {
    "metadata": {}
   },
   "outputs": [
    {
     "data": {
      "text/html": [
       "<div>\n",
       "<style scoped>\n",
       "    .dataframe tbody tr th:only-of-type {\n",
       "        vertical-align: middle;\n",
       "    }\n",
       "\n",
       "    .dataframe tbody tr th {\n",
       "        vertical-align: top;\n",
       "    }\n",
       "\n",
       "    .dataframe thead th {\n",
       "        text-align: right;\n",
       "    }\n",
       "</style>\n",
       "<table border=\"1\" class=\"dataframe\">\n",
       "  <thead>\n",
       "    <tr style=\"text-align: right;\">\n",
       "      <th></th>\n",
       "      <th>0</th>\n",
       "      <th>1</th>\n",
       "      <th>2</th>\n",
       "    </tr>\n",
       "  </thead>\n",
       "  <tbody>\n",
       "    <tr>\n",
       "      <th>0</th>\n",
       "      <td>1996</td>\n",
       "      <td>Bottle Rocket</td>\n",
       "      <td>Kumar</td>\n",
       "    </tr>\n",
       "    <tr>\n",
       "      <th>1</th>\n",
       "      <td>1998</td>\n",
       "      <td>Rushmore</td>\n",
       "      <td>Mr. Littlejeans</td>\n",
       "    </tr>\n",
       "    <tr>\n",
       "      <th>2</th>\n",
       "      <td>2001</td>\n",
       "      <td>The Royal Tenenbaums</td>\n",
       "      <td>Pagoda</td>\n",
       "    </tr>\n",
       "    <tr>\n",
       "      <th>3</th>\n",
       "      <td>2002</td>\n",
       "      <td>Bomb the System</td>\n",
       "      <td>Kumar Baba</td>\n",
       "    </tr>\n",
       "    <tr>\n",
       "      <th>4</th>\n",
       "      <td>2003</td>\n",
       "      <td>Duplex</td>\n",
       "      <td>Indian Restaurant Owner (voice only)</td>\n",
       "    </tr>\n",
       "    <tr>\n",
       "      <th>5</th>\n",
       "      <td>2004</td>\n",
       "      <td>The Terminal</td>\n",
       "      <td>Gupta Rajan</td>\n",
       "    </tr>\n",
       "    <tr>\n",
       "      <th>6</th>\n",
       "      <td>2005</td>\n",
       "      <td>Romance &amp; Cigarettes</td>\n",
       "      <td>Da Da Kumar</td>\n",
       "    </tr>\n",
       "    <tr>\n",
       "      <th>7</th>\n",
       "      <td>2005</td>\n",
       "      <td>RevoLOUtion</td>\n",
       "      <td>Kumar</td>\n",
       "    </tr>\n",
       "    <tr>\n",
       "      <th>8</th>\n",
       "      <td>2006</td>\n",
       "      <td>10 Items or Less</td>\n",
       "      <td>Lee</td>\n",
       "    </tr>\n",
       "    <tr>\n",
       "      <th>9</th>\n",
       "      <td>2007</td>\n",
       "      <td>The Darjeeling Limited</td>\n",
       "      <td>Old man on train</td>\n",
       "    </tr>\n",
       "    <tr>\n",
       "      <th>10</th>\n",
       "      <td>2009</td>\n",
       "      <td>Today's Special</td>\n",
       "      <td>Shah</td>\n",
       "    </tr>\n",
       "    <tr>\n",
       "      <th>11</th>\n",
       "      <td>2010</td>\n",
       "      <td>Anjaana Anjaani</td>\n",
       "      <td>Coast guard</td>\n",
       "    </tr>\n",
       "    <tr>\n",
       "      <th>12</th>\n",
       "      <td>2011</td>\n",
       "      <td>Campus Radio</td>\n",
       "      <td>Yogi</td>\n",
       "    </tr>\n",
       "    <tr>\n",
       "      <th>13</th>\n",
       "      <td>2011</td>\n",
       "      <td>Another Earth</td>\n",
       "      <td>Purdeep</td>\n",
       "    </tr>\n",
       "  </tbody>\n",
       "</table>\n",
       "</div>"
      ],
      "text/plain": [
       "       0                       1                                     2\n",
       "0   1996           Bottle Rocket                                 Kumar\n",
       "1   1998                Rushmore                       Mr. Littlejeans\n",
       "2   2001    The Royal Tenenbaums                                Pagoda\n",
       "3   2002         Bomb the System                            Kumar Baba\n",
       "4   2003                  Duplex  Indian Restaurant Owner (voice only)\n",
       "5   2004            The Terminal                           Gupta Rajan\n",
       "6   2005    Romance & Cigarettes                           Da Da Kumar\n",
       "7   2005             RevoLOUtion                                 Kumar\n",
       "8   2006        10 Items or Less                                   Lee\n",
       "9   2007  The Darjeeling Limited                      Old man on train\n",
       "10  2009         Today's Special                                  Shah\n",
       "11  2010         Anjaana Anjaani                           Coast guard\n",
       "12  2011            Campus Radio                                  Yogi\n",
       "13  2011           Another Earth                               Purdeep"
      ]
     },
     "execution_count": 33,
     "metadata": {},
     "output_type": "execute_result"
    }
   ],
   "source": [
    "pd.DataFrame(doc['content'])"
   ]
  },
  {
   "cell_type": "code",
   "execution_count": 34,
   "metadata": {
    "metadata": {}
   },
   "outputs": [],
   "source": [
    "emb55 = tabenc.embedding_table(doc55['content'], doc55['numeric_columns'])\n",
    "emb = tabenc.embedding_table(doc['content'], doc['numeric_columns'])"
   ]
  },
  {
   "cell_type": "code",
   "execution_count": 43,
   "metadata": {
    "metadata": {}
   },
   "outputs": [
    {
     "data": {
      "text/plain": [
       "array([0.49362156, 0.70070606, 0.        , 0.99999994], dtype=float32)"
      ]
     },
     "execution_count": 43,
     "metadata": {},
     "output_type": "execute_result"
    }
   ],
   "source": [
    "np.linalg.norm(emb55, axis=1)"
   ]
  },
  {
   "cell_type": "code",
   "execution_count": 60,
   "metadata": {
    "metadata": {}
   },
   "outputs": [],
   "source": [
    "from tools.sloth.utils import parse_table\n",
    "\n",
    "table = doc55['content']\n",
    "\n",
    "table = [column for i, column in enumerate(parse_table(table, len(table[0]), 0)) if doc55['numeric_columns'][i] == 0 and any(column)]    "
   ]
  },
  {
   "cell_type": "code",
   "execution_count": 64,
   "metadata": {
    "metadata": {}
   },
   "outputs": [
    {
     "data": {
      "text/plain": [
       "(0,)"
      ]
     },
     "execution_count": 64,
     "metadata": {},
     "output_type": "execute_result"
    }
   ],
   "source": [
    "np.array([\n",
    "    tabenc.model.get_sentence_vector('')\n",
    "    for i in range(0)\n",
    "]).shape"
   ]
  },
  {
   "cell_type": "code",
   "execution_count": 61,
   "metadata": {
    "metadata": {}
   },
   "outputs": [
    {
     "data": {
      "text/plain": [
       "3"
      ]
     },
     "execution_count": 61,
     "metadata": {},
     "output_type": "execute_result"
    }
   ],
   "source": [
    "len(table)"
   ]
  },
  {
   "cell_type": "code",
   "execution_count": 62,
   "metadata": {
    "metadata": {}
   },
   "outputs": [
    {
     "data": {
      "text/plain": [
       "['Q',\n",
       " 'Q',\n",
       " 'Q',\n",
       " 'Q',\n",
       " 'Q',\n",
       " 'Q',\n",
       " 'Q',\n",
       " 'Q',\n",
       " 'Q',\n",
       " 'Q',\n",
       " 'Q',\n",
       " 'Q',\n",
       " 'Q',\n",
       " 'Q',\n",
       " '',\n",
       " '',\n",
       " '',\n",
       " '',\n",
       " '',\n",
       " '',\n",
       " '']"
      ]
     },
     "execution_count": 62,
     "metadata": {},
     "output_type": "execute_result"
    }
   ],
   "source": [
    "table[2]"
   ]
  },
  {
   "cell_type": "code",
   "execution_count": 44,
   "metadata": {
    "metadata": {}
   },
   "outputs": [
    {
     "data": {
      "text/plain": [
       "array([0., 0., 0., 0., 0., 0., 0., 0., 0., 0., 0., 0., 0., 0., 0., 0., 0.,\n",
       "       0., 0., 0., 0., 0., 0., 0., 0., 0., 0., 0., 0., 0., 0., 0., 0., 0.,\n",
       "       0., 0., 0., 0., 0., 0., 0., 0., 0., 0., 0., 0., 0., 0., 0., 0., 0.,\n",
       "       0., 0., 0., 0., 0., 0., 0., 0., 0., 0., 0., 0., 0., 0., 0., 0., 0.,\n",
       "       0., 0., 0., 0., 0., 0., 0., 0., 0., 0., 0., 0., 0., 0., 0., 0., 0.,\n",
       "       0., 0., 0., 0., 0., 0., 0., 0., 0., 0., 0., 0., 0., 0., 0., 0., 0.,\n",
       "       0., 0., 0., 0., 0., 0., 0., 0., 0., 0., 0., 0., 0., 0., 0., 0., 0.,\n",
       "       0., 0., 0., 0., 0., 0., 0., 0., 0., 0., 0., 0., 0., 0., 0., 0., 0.,\n",
       "       0., 0., 0., 0., 0., 0., 0., 0., 0., 0., 0., 0., 0., 0., 0., 0., 0.,\n",
       "       0., 0., 0., 0., 0., 0., 0., 0., 0., 0., 0., 0., 0., 0., 0., 0., 0.,\n",
       "       0., 0., 0., 0., 0., 0., 0., 0., 0., 0., 0., 0., 0., 0., 0., 0., 0.,\n",
       "       0., 0., 0., 0., 0., 0., 0., 0., 0., 0., 0., 0., 0., 0., 0., 0., 0.,\n",
       "       0., 0., 0., 0., 0., 0., 0., 0., 0., 0., 0., 0., 0., 0., 0., 0., 0.,\n",
       "       0., 0., 0., 0., 0., 0., 0., 0., 0., 0., 0., 0., 0., 0., 0., 0., 0.,\n",
       "       0., 0., 0., 0., 0., 0., 0., 0., 0., 0., 0., 0., 0., 0., 0., 0., 0.,\n",
       "       0., 0., 0., 0., 0., 0., 0., 0., 0., 0., 0., 0., 0., 0., 0., 0., 0.,\n",
       "       0., 0., 0., 0., 0., 0., 0., 0., 0., 0., 0., 0., 0., 0., 0., 0., 0.,\n",
       "       0., 0., 0., 0., 0., 0., 0., 0., 0., 0., 0.], dtype=float32)"
      ]
     },
     "execution_count": 44,
     "metadata": {},
     "output_type": "execute_result"
    }
   ],
   "source": [
    "emb55[2]"
   ]
  }
 ],
 "metadata": {
  "kernelspec": {
   "display_name": "nanni-tesi-env",
   "language": "python",
   "name": "python3"
  },
  "language_info": {
   "codemirror_mode": {
    "name": "ipython",
    "version": 3
   },
   "file_extension": ".py",
   "mimetype": "text/x-python",
   "name": "python",
   "nbconvert_exporter": "python",
   "pygments_lexer": "ipython3",
   "version": "3.10.14"
  }
 },
 "nbformat": 4,
 "nbformat_minor": 2
}
