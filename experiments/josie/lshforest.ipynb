{
 "cells": [
  {
   "cell_type": "code",
   "execution_count": 2,
   "metadata": {},
   "outputs": [],
   "source": [
    "import base64\n",
    "import json\n",
    "import pymongo\n",
    "import argparse\n",
    "import os\n",
    "from datasketch import MinHashLSHForest, MinHash\n",
    "\n",
    "create = 0\n",
    "num_perm = 128\n",
    "\n",
    "encode_hash = lambda h: base64.b64encode(h).decode('utf-8')\n",
    "decode_hash = lambda h: base64.b64decode(h.encode('utf-8'))\n",
    " \n",
    "with open('input_lshforest.txt') as freader:\n",
    "    data = [d.split() for d in freader.readlines()]\n",
    "\n",
    "def create_minhash(d):\n",
    "    m = MinHash(num_perm)\n",
    "    # m.bulk()\n",
    "    for x in d:\n",
    "        m.update(x.encode('utf-8'))\n",
    "    return m\n",
    "\n",
    "minhashes = [create_minhash(d) for d in data]"
   ]
  },
  {
   "cell_type": "code",
   "execution_count": 3,
   "metadata": {},
   "outputs": [],
   "source": [
    "forest = MinHashLSHForest(num_perm=num_perm)\n",
    "for i, m in enumerate(minhashes):\n",
    "    forest.add(i, m)\n",
    "forest.index()"
   ]
  },
  {
   "cell_type": "code",
   "execution_count": 17,
   "metadata": {},
   "outputs": [
    {
     "data": {
      "text/plain": [
       "(list, collections.defaultdict, bytes, list, int)"
      ]
     },
     "execution_count": 17,
     "metadata": {},
     "output_type": "execute_result"
    }
   ],
   "source": [
    "type(forest.hashtables), \\\n",
    "type(forest.hashtables[0]), \\\n",
    "type(list(forest.hashtables[0].keys())[0]), \\\n",
    "type(list(forest.hashtables[0].values())[0]), \\\n",
    "type(list(forest.hashtables[0].values())[0][0]) "
   ]
  },
  {
   "cell_type": "code",
   "execution_count": 21,
   "metadata": {},
   "outputs": [
    {
     "data": {
      "text/plain": [
       "(list, list, bytes)"
      ]
     },
     "execution_count": 21,
     "metadata": {},
     "output_type": "execute_result"
    }
   ],
   "source": [
    "type(       forest.sorted_hashtables), \\\n",
    "type(       forest.sorted_hashtables[0]), \\\n",
    "type(       forest.sorted_hashtables[0][0]), \\\n",
    "\n",
    "# type(list(  forest.sorted_hashtables[0].keys())[0]), \\\n",
    "# type(list(  forest.sorted_hashtables[0].values())[0]), \\\n",
    "# type(list(  forest.sorted_hashtables[0].values())[0][0]) "
   ]
  },
  {
   "cell_type": "code",
   "execution_count": 27,
   "metadata": {},
   "outputs": [
    {
     "data": {
      "text/plain": [
       "(dict, int, list, bytes)"
      ]
     },
     "execution_count": 27,
     "metadata": {},
     "output_type": "execute_result"
    }
   ],
   "source": [
    "type(forest.keys), \\\n",
    "type(list(forest.keys.keys())[0]), \\\n",
    "type(list(forest.keys.values())[0]), \\\n",
    "type(list(forest.keys.values())[0][0])\n"
   ]
  }
 ],
 "metadata": {
  "kernelspec": {
   "display_name": "nanni-tesi-env",
   "language": "python",
   "name": "python3"
  },
  "language_info": {
   "codemirror_mode": {
    "name": "ipython",
    "version": 3
   },
   "file_extension": ".py",
   "mimetype": "text/x-python",
   "name": "python",
   "nbconvert_exporter": "python",
   "pygments_lexer": "ipython3",
   "version": "3.10.13"
  }
 },
 "nbformat": 4,
 "nbformat_minor": 2
}
