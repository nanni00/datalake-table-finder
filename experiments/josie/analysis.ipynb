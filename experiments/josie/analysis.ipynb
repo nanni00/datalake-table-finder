{
 "cells": [
  {
   "cell_type": "code",
   "execution_count": 3,
   "metadata": {},
   "outputs": [],
   "source": [
    "import matplotlib.pyplot as plt\n",
    "import pandas as pd"
   ]
  },
  {
   "cell_type": "code",
   "execution_count": 18,
   "metadata": {},
   "outputs": [],
   "source": [
    "set_res = pd.read_csv('/data4/nanni/tesi-magistrale/data/josie-tests/test1m_set/results/extracted_josie_sloth_results.csv')\n",
    "bag_res = pd.read_csv('/data4/nanni/tesi-magistrale/data/josie-tests/test1m_bag/results/extracted_josie_sloth_results.csv')"
   ]
  },
  {
   "cell_type": "code",
   "execution_count": 14,
   "metadata": {},
   "outputs": [
    {
     "data": {
      "text/html": [
       "<div>\n",
       "<style scoped>\n",
       "    .dataframe tbody tr th:only-of-type {\n",
       "        vertical-align: middle;\n",
       "    }\n",
       "\n",
       "    .dataframe tbody tr th {\n",
       "        vertical-align: top;\n",
       "    }\n",
       "\n",
       "    .dataframe thead th {\n",
       "        text-align: right;\n",
       "    }\n",
       "</style>\n",
       "<table border=\"1\" class=\"dataframe\">\n",
       "  <thead>\n",
       "    <tr style=\"text-align: right;\">\n",
       "      <th></th>\n",
       "      <th>josie_query_id</th>\n",
       "      <th>wiki_query_id</th>\n",
       "      <th>josie_set_id</th>\n",
       "      <th>wiki_set_id</th>\n",
       "      <th>josie_overlap</th>\n",
       "      <th>checked_overlap</th>\n",
       "      <th>sloth_overlap</th>\n",
       "      <th>difference_josie_sloth_overlap</th>\n",
       "    </tr>\n",
       "  </thead>\n",
       "  <tbody>\n",
       "    <tr>\n",
       "      <th>0</th>\n",
       "      <td>20608</td>\n",
       "      <td>23835351-1</td>\n",
       "      <td>16350</td>\n",
       "      <td>30087090-1</td>\n",
       "      <td>89</td>\n",
       "      <td>90</td>\n",
       "      <td>162</td>\n",
       "      <td>-73</td>\n",
       "    </tr>\n",
       "    <tr>\n",
       "      <th>1</th>\n",
       "      <td>20608</td>\n",
       "      <td>23835351-1</td>\n",
       "      <td>15110760</td>\n",
       "      <td>366.11642</td>\n",
       "      <td>88</td>\n",
       "      <td>89</td>\n",
       "      <td>153</td>\n",
       "      <td>-65</td>\n",
       "    </tr>\n",
       "    <tr>\n",
       "      <th>2</th>\n",
       "      <td>20608</td>\n",
       "      <td>23835351-1</td>\n",
       "      <td>11595740</td>\n",
       "      <td>328.83123</td>\n",
       "      <td>88</td>\n",
       "      <td>89</td>\n",
       "      <td>153</td>\n",
       "      <td>-65</td>\n",
       "    </tr>\n",
       "    <tr>\n",
       "      <th>3</th>\n",
       "      <td>20608</td>\n",
       "      <td>23835351-1</td>\n",
       "      <td>19348600</td>\n",
       "      <td>404.58566</td>\n",
       "      <td>75</td>\n",
       "      <td>76</td>\n",
       "      <td>18</td>\n",
       "      <td>57</td>\n",
       "    </tr>\n",
       "    <tr>\n",
       "      <th>4</th>\n",
       "      <td>20608</td>\n",
       "      <td>23835351-1</td>\n",
       "      <td>10670280</td>\n",
       "      <td>317.46410</td>\n",
       "      <td>71</td>\n",
       "      <td>72</td>\n",
       "      <td>30</td>\n",
       "      <td>41</td>\n",
       "    </tr>\n",
       "    <tr>\n",
       "      <th>...</th>\n",
       "      <td>...</td>\n",
       "      <td>...</td>\n",
       "      <td>...</td>\n",
       "      <td>...</td>\n",
       "      <td>...</td>\n",
       "      <td>...</td>\n",
       "      <td>...</td>\n",
       "      <td>...</td>\n",
       "    </tr>\n",
       "    <tr>\n",
       "      <th>215</th>\n",
       "      <td>18626</td>\n",
       "      <td>17602093-1</td>\n",
       "      <td>18746</td>\n",
       "      <td>17602110-1</td>\n",
       "      <td>36</td>\n",
       "      <td>37</td>\n",
       "      <td>15</td>\n",
       "      <td>21</td>\n",
       "    </tr>\n",
       "    <tr>\n",
       "      <th>216</th>\n",
       "      <td>18626</td>\n",
       "      <td>17602093-1</td>\n",
       "      <td>18646</td>\n",
       "      <td>17602095-1</td>\n",
       "      <td>36</td>\n",
       "      <td>37</td>\n",
       "      <td>24</td>\n",
       "      <td>12</td>\n",
       "    </tr>\n",
       "    <tr>\n",
       "      <th>217</th>\n",
       "      <td>18626</td>\n",
       "      <td>17602093-1</td>\n",
       "      <td>18606</td>\n",
       "      <td>17602090-1</td>\n",
       "      <td>35</td>\n",
       "      <td>36</td>\n",
       "      <td>12</td>\n",
       "      <td>23</td>\n",
       "    </tr>\n",
       "    <tr>\n",
       "      <th>218</th>\n",
       "      <td>18626</td>\n",
       "      <td>17602093-1</td>\n",
       "      <td>18666</td>\n",
       "      <td>17602098-1</td>\n",
       "      <td>35</td>\n",
       "      <td>36</td>\n",
       "      <td>27</td>\n",
       "      <td>8</td>\n",
       "    </tr>\n",
       "    <tr>\n",
       "      <th>219</th>\n",
       "      <td>18626</td>\n",
       "      <td>17602093-1</td>\n",
       "      <td>5798000</td>\n",
       "      <td>215.107122</td>\n",
       "      <td>34</td>\n",
       "      <td>35</td>\n",
       "      <td>12</td>\n",
       "      <td>22</td>\n",
       "    </tr>\n",
       "  </tbody>\n",
       "</table>\n",
       "<p>220 rows × 8 columns</p>\n",
       "</div>"
      ],
      "text/plain": [
       "     josie_query_id wiki_query_id  josie_set_id wiki_set_id  josie_overlap  \\\n",
       "0             20608    23835351-1         16350  30087090-1             89   \n",
       "1             20608    23835351-1      15110760   366.11642             88   \n",
       "2             20608    23835351-1      11595740   328.83123             88   \n",
       "3             20608    23835351-1      19348600   404.58566             75   \n",
       "4             20608    23835351-1      10670280   317.46410             71   \n",
       "..              ...           ...           ...         ...            ...   \n",
       "215           18626    17602093-1         18746  17602110-1             36   \n",
       "216           18626    17602093-1         18646  17602095-1             36   \n",
       "217           18626    17602093-1         18606  17602090-1             35   \n",
       "218           18626    17602093-1         18666  17602098-1             35   \n",
       "219           18626    17602093-1       5798000  215.107122             34   \n",
       "\n",
       "     checked_overlap  sloth_overlap  difference_josie_sloth_overlap  \n",
       "0                 90            162                             -73  \n",
       "1                 89            153                             -65  \n",
       "2                 89            153                             -65  \n",
       "3                 76             18                              57  \n",
       "4                 72             30                              41  \n",
       "..               ...            ...                             ...  \n",
       "215               37             15                              21  \n",
       "216               37             24                              12  \n",
       "217               36             12                              23  \n",
       "218               36             27                               8  \n",
       "219               35             12                              22  \n",
       "\n",
       "[220 rows x 8 columns]"
      ]
     },
     "execution_count": 14,
     "metadata": {},
     "output_type": "execute_result"
    }
   ],
   "source": [
    "set_res"
   ]
  },
  {
   "cell_type": "code",
   "execution_count": 40,
   "metadata": {},
   "outputs": [
    {
     "data": {
      "image/png": "[encoded data removed]",
      "text/plain": [
       "<Figure size 1500x500 with 1 Axes>"
      ]
     },
     "metadata": {},
     "output_type": "display_data"
    }
   ],
   "source": [
    "import numpy as np\n",
    "\n",
    "fig, ax = plt.subplots(1, 1, sharey='row', figsize=(15, 5))\n",
    "\n",
    "ax.hist([set_res['difference_josie_sloth_overlap'], \n",
    "         bag_res['difference_josie_sloth_overlap']], \n",
    "         bins=100, alpha=0.8, \n",
    "         label=['set', 'bag'])\n",
    "ax.set_xlim(-350, 350)\n",
    "ax.set_xticks(np.arange(-350, 350, 50))\n",
    "ax.grid()\n",
    "ax.set_xlabel('difference <JOSIE_overlap - SLOTH_overlap>')\n",
    "ax.set_ylabel('frequency')\n",
    "plt.legend()\n",
    "plt.show()"
   ]
  },
  {
   "cell_type": "code",
   "execution_count": 41,
   "metadata": {},
   "outputs": [],
   "source": [
    "import json\n",
    "\n",
    "with open('/data4/nanni/tesi-magistrale/data/josie-tests/test1m_set/queries.json') as fr:\n",
    "    queries = json.load(fr)"
   ]
  },
  {
   "cell_type": "code",
   "execution_count": 68,
   "metadata": {},
   "outputs": [
    {
     "data": {
      "text/plain": [
       "['18416949-1',\n",
       " '25589117-2',\n",
       " 0.3218390804597701,\n",
       " 10,\n",
       " 0.09090909090909091,\n",
       " 16,\n",
       " 9,\n",
       " 144,\n",
       " 60,\n",
       " 0,\n",
       " 0.0,\n",
       " 10,\n",
       " 11,\n",
       " 110,\n",
       " 55,\n",
       " 6,\n",
       " 0.05454545454545454]"
      ]
     },
     "execution_count": 68,
     "metadata": {},
     "output_type": "execute_result"
    }
   ],
   "source": [
    "sloth_res = queries[1]['sloth_res']\n",
    "sloth_res[0]"
   ]
  },
  {
   "cell_type": "code",
   "execution_count": 69,
   "metadata": {},
   "outputs": [
    {
     "name": "stdout",
     "output_type": "stream",
     "text": [
      "18416949-1\n"
     ]
    }
   ],
   "source": [
    "for r in sloth_res:\n",
    "    r_id, s_id = r[:2]\n",
    "    if r_id in set_res['wiki_query_id'].values and r_id in set_res['wiki_set_id'].values:\n",
    "        print(r_id)\n",
    "    if s_id in set_res['wiki_query_id'].values and s_id in set_res['wiki_set_id'].values:\n",
    "        print(s_id)\n",
    "            "
   ]
  }
 ],
 "metadata": {
  "kernelspec": {
   "display_name": "nanni-tesi-env",
   "language": "python",
   "name": "python3"
  },
  "language_info": {
   "codemirror_mode": {
    "name": "ipython",
    "version": 3
   },
   "file_extension": ".py",
   "mimetype": "text/x-python",
   "name": "python",
   "nbconvert_exporter": "python",
   "pygments_lexer": "ipython3",
   "version": "3.10.13"
  }
 },
 "nbformat": 4,
 "nbformat_minor": 2
}
