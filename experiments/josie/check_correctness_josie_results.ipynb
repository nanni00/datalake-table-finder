{
 "cells": [
  {
   "cell_type": "code",
   "execution_count": 1,
   "metadata": {},
   "outputs": [],
   "source": [
    "import polars as pl\n",
    "import pandas as pd"
   ]
  },
  {
   "cell_type": "code",
   "execution_count": 2,
   "metadata": {},
   "outputs": [],
   "source": [
    "root_dir = '/home/nanni/unimore/tesi-magistrale/data/josie-tests/n45673-mset'\n",
    "\n",
    "tables_csv_dir =        '/home/nanni/unimore/tesi-magistrale/data/turl_sloth_wikitables/sloth-subset/csv'\n",
    "josie_sloth_ids_file =  root_dir + '/josie_sloth_ids.csv'\n",
    "tables_file =           root_dir + '/tables.set'"
   ]
  },
  {
   "cell_type": "code",
   "execution_count": 3,
   "metadata": {},
   "outputs": [],
   "source": [
    "josie_sloth_ids = pd.read_csv(josie_sloth_ids_file)"
   ]
  },
  {
   "cell_type": "code",
   "execution_count": 4,
   "metadata": {},
   "outputs": [],
   "source": [
    "def _create_set_with_all_tokens(df, bag:bool=False):\n",
    "    if not bag:\n",
    "        if type(df) == pd.DataFrame:\n",
    "            return {str(token).replace('\\n', '\\t').replace('|', ' ') for i in range(len(df.columns)) for token in df.iloc[:, i].unique() if not pd.isna(token) and token}\n",
    "        elif type(df) == pl.DataFrame:\n",
    "            pass"
   ]
  },
  {
   "cell_type": "code",
   "execution_count": 5,
   "metadata": {},
   "outputs": [
    {
     "name": "stdout",
     "output_type": "stream",
     "text": [
      "41\n"
     ]
    }
   ],
   "source": [
    "j_id1 = 15754\n",
    "j_id2 = 26149\n",
    "\n",
    "s_id1 = josie_sloth_ids[josie_sloth_ids['josie_id'] == j_id1]['sloth_id'].values[0]\n",
    "s_id2 = josie_sloth_ids[josie_sloth_ids['josie_id'] == j_id2]['sloth_id'].values[0]\n",
    "\n",
    "df1 = pd.read_csv(tables_csv_dir + '/' + s_id1, sep='\\t')\n",
    "df2 = pd.read_csv(tables_csv_dir + '/' + s_id2, sep='\\t')\n",
    "\n",
    "set1 = _create_set_with_all_tokens(df1)\n",
    "set2 = _create_set_with_all_tokens(df2)\n",
    "\n",
    "print(len(set1.intersection(set2)))"
   ]
  },
  {
   "cell_type": "code",
   "execution_count": 6,
   "metadata": {},
   "outputs": [],
   "source": [
    "import re \n",
    "\n",
    "def extract_from_josie_results_pairs_and_overlaps(josie_results_file):\n",
    "    josie_results = pl.scan_csv(josie_results_file).select(['query_id', 'results'])\n",
    "\n",
    "    josie_results = josie_results \\\n",
    "        .with_columns(pl.col('results') \\\n",
    "                      .map_elements(lambda s: [int(x) for x in re.findall(r'\\d+', s)], pl.List(pl.Int64))                      \n",
    "                      ).with_columns(pl.col('results').list.to_struct()).unnest('results')                                                \n",
    "    \n",
    "    mapping = {\n",
    "        'query_id': 'set_id',\n",
    "        'field_0': 's1', 'field_1': 'o1', \n",
    "        'field_2': 's2', 'field_3': 'o2', \n",
    "        'field_4': 's3', 'field_5': 'o3'}\n",
    "    \n",
    "    return josie_results.collect().rename(mapping).sort(by=['o1', 'o2', 'o3'], descending=True).to_pandas()"
   ]
  },
  {
   "cell_type": "code",
   "execution_count": 8,
   "metadata": {},
   "outputs": [
    {
     "data": {
      "text/html": [
       "<div>\n",
       "<style scoped>\n",
       "    .dataframe tbody tr th:only-of-type {\n",
       "        vertical-align: middle;\n",
       "    }\n",
       "\n",
       "    .dataframe tbody tr th {\n",
       "        vertical-align: top;\n",
       "    }\n",
       "\n",
       "    .dataframe thead th {\n",
       "        text-align: right;\n",
       "    }\n",
       "</style>\n",
       "<table border=\"1\" class=\"dataframe\">\n",
       "  <thead>\n",
       "    <tr style=\"text-align: right;\">\n",
       "      <th></th>\n",
       "      <th>set_id</th>\n",
       "      <th>s1</th>\n",
       "      <th>o1</th>\n",
       "      <th>s2</th>\n",
       "      <th>o2</th>\n",
       "      <th>s3</th>\n",
       "      <th>o3</th>\n",
       "    </tr>\n",
       "  </thead>\n",
       "  <tbody>\n",
       "    <tr>\n",
       "      <th>0</th>\n",
       "      <td>8681</td>\n",
       "      <td>77360</td>\n",
       "      <td>1391</td>\n",
       "      <td>9564</td>\n",
       "      <td>378</td>\n",
       "      <td>40437</td>\n",
       "      <td>336</td>\n",
       "    </tr>\n",
       "    <tr>\n",
       "      <th>1</th>\n",
       "      <td>76600</td>\n",
       "      <td>15779</td>\n",
       "      <td>1357</td>\n",
       "      <td>69763</td>\n",
       "      <td>1278</td>\n",
       "      <td>2833</td>\n",
       "      <td>1277</td>\n",
       "    </tr>\n",
       "    <tr>\n",
       "      <th>2</th>\n",
       "      <td>26179</td>\n",
       "      <td>69809</td>\n",
       "      <td>1344</td>\n",
       "      <td>71896</td>\n",
       "      <td>1280</td>\n",
       "      <td>47028</td>\n",
       "      <td>1120</td>\n",
       "    </tr>\n",
       "    <tr>\n",
       "      <th>3</th>\n",
       "      <td>69763</td>\n",
       "      <td>8038</td>\n",
       "      <td>1333</td>\n",
       "      <td>76600</td>\n",
       "      <td>1278</td>\n",
       "      <td>15779</td>\n",
       "      <td>1239</td>\n",
       "    </tr>\n",
       "    <tr>\n",
       "      <th>4</th>\n",
       "      <td>46562</td>\n",
       "      <td>23968</td>\n",
       "      <td>1315</td>\n",
       "      <td>2833</td>\n",
       "      <td>1302</td>\n",
       "      <td>71151</td>\n",
       "      <td>1233</td>\n",
       "    </tr>\n",
       "  </tbody>\n",
       "</table>\n",
       "</div>"
      ],
      "text/plain": [
       "   set_id     s1    o1     s2    o2     s3    o3\n",
       "0    8681  77360  1391   9564   378  40437   336\n",
       "1   76600  15779  1357  69763  1278   2833  1277\n",
       "2   26179  69809  1344  71896  1280  47028  1120\n",
       "3   69763   8038  1333  76600  1278  15779  1239\n",
       "4   46562  23968  1315   2833  1302  71151  1233"
      ]
     },
     "execution_count": 8,
     "metadata": {},
     "output_type": "execute_result"
    }
   ],
   "source": [
    "res_top3 = extract_from_josie_results_pairs_and_overlaps('/home/nanni/unimore/tesi-magistrale/data/josie-tests/n45673-mset/result_k_3.csv')\n",
    "res_top3.head()"
   ]
  },
  {
   "cell_type": "code",
   "execution_count": null,
   "metadata": {},
   "outputs": [],
   "source": [
    "s1579o209s15754o208s57028o206"
   ]
  },
  {
   "cell_type": "code",
   "execution_count": 13,
   "metadata": {},
   "outputs": [],
   "source": [
    "res_top3 = res_top3[['set_id', 's1', 'o1']]"
   ]
  },
  {
   "cell_type": "code",
   "execution_count": 15,
   "metadata": {},
   "outputs": [],
   "source": [
    "l = []\n",
    "for row in res_top3.itertuples(index=False):\n",
    "    j_id1 = row[0]\n",
    "    j_id2 = row[1]\n",
    "\n",
    "    s_id1 = josie_sloth_ids[josie_sloth_ids['josie_id'] == j_id1]['sloth_id'].values[0]\n",
    "    s_id2 = josie_sloth_ids[josie_sloth_ids['josie_id'] == j_id2]['sloth_id'].values[0]\n",
    "\n",
    "    df1 = pd.read_csv(tables_csv_dir + '/' + s_id1, sep='\\t')\n",
    "    df2 = pd.read_csv(tables_csv_dir + '/' + s_id2, sep='\\t')\n",
    "\n",
    "    set1 = _create_set_with_all_tokens(df1)\n",
    "    set2 = _create_set_with_all_tokens(df2)\n",
    "\n",
    "    l.append(len(set1.intersection(set2)))"
   ]
  },
  {
   "cell_type": "code",
   "execution_count": 16,
   "metadata": {},
   "outputs": [],
   "source": [
    "res_top3['myoverlap'] = l"
   ]
  },
  {
   "cell_type": "code",
   "execution_count": 17,
   "metadata": {},
   "outputs": [
    {
     "data": {
      "text/html": [
       "<div>\n",
       "<style scoped>\n",
       "    .dataframe tbody tr th:only-of-type {\n",
       "        vertical-align: middle;\n",
       "    }\n",
       "\n",
       "    .dataframe tbody tr th {\n",
       "        vertical-align: top;\n",
       "    }\n",
       "\n",
       "    .dataframe thead th {\n",
       "        text-align: right;\n",
       "    }\n",
       "</style>\n",
       "<table border=\"1\" class=\"dataframe\">\n",
       "  <thead>\n",
       "    <tr style=\"text-align: right;\">\n",
       "      <th></th>\n",
       "      <th>set_id</th>\n",
       "      <th>s1</th>\n",
       "      <th>o1</th>\n",
       "      <th>myoverlap</th>\n",
       "    </tr>\n",
       "  </thead>\n",
       "  <tbody>\n",
       "    <tr>\n",
       "      <th>0</th>\n",
       "      <td>8681</td>\n",
       "      <td>77360</td>\n",
       "      <td>1391</td>\n",
       "      <td>1473</td>\n",
       "    </tr>\n",
       "    <tr>\n",
       "      <th>1</th>\n",
       "      <td>76600</td>\n",
       "      <td>15779</td>\n",
       "      <td>1357</td>\n",
       "      <td>1344</td>\n",
       "    </tr>\n",
       "    <tr>\n",
       "      <th>2</th>\n",
       "      <td>26179</td>\n",
       "      <td>69809</td>\n",
       "      <td>1344</td>\n",
       "      <td>1337</td>\n",
       "    </tr>\n",
       "    <tr>\n",
       "      <th>3</th>\n",
       "      <td>69763</td>\n",
       "      <td>8038</td>\n",
       "      <td>1333</td>\n",
       "      <td>1298</td>\n",
       "    </tr>\n",
       "    <tr>\n",
       "      <th>4</th>\n",
       "      <td>46562</td>\n",
       "      <td>23968</td>\n",
       "      <td>1315</td>\n",
       "      <td>1303</td>\n",
       "    </tr>\n",
       "    <tr>\n",
       "      <th>...</th>\n",
       "      <td>...</td>\n",
       "      <td>...</td>\n",
       "      <td>...</td>\n",
       "      <td>...</td>\n",
       "    </tr>\n",
       "    <tr>\n",
       "      <th>89</th>\n",
       "      <td>10240</td>\n",
       "      <td>2586</td>\n",
       "      <td>27</td>\n",
       "      <td>27</td>\n",
       "    </tr>\n",
       "    <tr>\n",
       "      <th>90</th>\n",
       "      <td>38524</td>\n",
       "      <td>26304</td>\n",
       "      <td>27</td>\n",
       "      <td>27</td>\n",
       "    </tr>\n",
       "    <tr>\n",
       "      <th>91</th>\n",
       "      <td>64442</td>\n",
       "      <td>77301</td>\n",
       "      <td>27</td>\n",
       "      <td>27</td>\n",
       "    </tr>\n",
       "    <tr>\n",
       "      <th>92</th>\n",
       "      <td>55592</td>\n",
       "      <td>48342</td>\n",
       "      <td>25</td>\n",
       "      <td>7</td>\n",
       "    </tr>\n",
       "    <tr>\n",
       "      <th>93</th>\n",
       "      <td>9168</td>\n",
       "      <td>54806</td>\n",
       "      <td>17</td>\n",
       "      <td>17</td>\n",
       "    </tr>\n",
       "  </tbody>\n",
       "</table>\n",
       "<p>94 rows × 4 columns</p>\n",
       "</div>"
      ],
      "text/plain": [
       "    set_id     s1    o1  myoverlap\n",
       "0     8681  77360  1391       1473\n",
       "1    76600  15779  1357       1344\n",
       "2    26179  69809  1344       1337\n",
       "3    69763   8038  1333       1298\n",
       "4    46562  23968  1315       1303\n",
       "..     ...    ...   ...        ...\n",
       "89   10240   2586    27         27\n",
       "90   38524  26304    27         27\n",
       "91   64442  77301    27         27\n",
       "92   55592  48342    25          7\n",
       "93    9168  54806    17         17\n",
       "\n",
       "[94 rows x 4 columns]"
      ]
     },
     "execution_count": 17,
     "metadata": {},
     "output_type": "execute_result"
    }
   ],
   "source": [
    "res_top3"
   ]
  },
  {
   "cell_type": "code",
   "execution_count": 19,
   "metadata": {},
   "outputs": [
    {
     "data": {
      "text/plain": [
       "'695403-2'"
      ]
     },
     "execution_count": 19,
     "metadata": {},
     "output_type": "execute_result"
    }
   ],
   "source": [
    "s_id1.values[0]"
   ]
  }
 ],
 "metadata": {
  "kernelspec": {
   "display_name": "tesi3.10",
   "language": "python",
   "name": "python3"
  },
  "language_info": {
   "codemirror_mode": {
    "name": "ipython",
    "version": 3
   },
   "file_extension": ".py",
   "mimetype": "text/x-python",
   "name": "python",
   "nbconvert_exporter": "python",
   "pygments_lexer": "ipython3",
   "version": "3.10.13"
  }
 },
 "nbformat": 4,
 "nbformat_minor": 2
}
