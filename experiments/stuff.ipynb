{
 "cells": [
  {
   "cell_type": "code",
   "execution_count": 1,
   "metadata": {
    "metadata": {}
   },
   "outputs": [],
   "source": [
    "import os\n",
    "import psycopg\n",
    "import pandas as pd\n",
    "from tqdm import tqdm\n",
    "from tqdm import tqdm\n",
    "import binascii\n",
    "import polars as pl\n",
    "import numpy as np\n",
    "import psycopg\n",
    "\n",
    "import matplotlib.colors as mcolors    \n",
    "from matplotlib import pyplot as plt\n",
    "\n",
    "from tools.utils import basicconfig\n",
    "from tools.utils.settings import get_all_paths"
   ]
  },
  {
   "cell_type": "code",
   "execution_count": 2,
   "metadata": {
    "metadata": {}
   },
   "outputs": [],
   "source": [
    "from tools.utils.datalake import SimpleDataLakeHelper\n",
    "\n",
    "dataset = 'wikiturlsnap'\n",
    "size = 'standard'\n",
    "datalake_location = 'mongodb'\n",
    "\n",
    "dlh = SimpleDataLakeHelper(datalake_location, dataset, size)"
   ]
  },
  {
   "cell_type": "markdown",
   "metadata": {},
   "source": [
    "## In the best returned results, how are distributed Jaccard, Containment and other metrics w.r.t. the area ratio?"
   ]
  },
  {
   "cell_type": "code",
   "execution_count": null,
   "metadata": {
    "metadata": {}
   },
   "outputs": [],
   "source": [
    "test_name, dataset, k, q = 'a_test', 'wikiturlsnap', 10, '100K'\n",
    "_, _, _, _, _, _, results_extr_dir, _, _, _ = get_all_paths(test_name, dataset, k, q)\n",
    "extrres = pl.read_csv(f'{results_extr_dir}/final_results_k{k}_q{q}.csv')"
   ]
  },
  {
   "cell_type": "code",
   "execution_count": null,
   "metadata": {
    "metadata": {}
   },
   "outputs": [],
   "source": [
    "measure_data = extrres.select(['area_ratio', 'jaccard_sim', 'multi_jaccard_sim', 'containment', 'overlap_set_sim'])"
   ]
  },
  {
   "cell_type": "code",
   "execution_count": null,
   "metadata": {
    "metadata": {}
   },
   "outputs": [],
   "source": [
    "fig, axes = plt.subplots(1, 4, figsize=(20, 5))\n",
    "stat = []\n",
    "sample_size = 10000\n",
    "for (lb, ub) in [(0, 0.4), (0.4, 0.8), (0.8, 1.1)]:\n",
    "    \n",
    "    data = measure_data.filter((lb <= pl.col('area_ratio')) & (pl.col('area_ratio') < ub)).sample(sample_size).to_numpy()\n",
    "    area_ratio, js, mjs, c, osm = data[:, 0], data[:, 1], data[:, 2], data[:, 3], data[:, 4]\n",
    "\n",
    "    l = []\n",
    "    for m in [js, mjs * 2, c, osm]:\n",
    "        x = m > area_ratio * 1.0  # 5% error\n",
    "        l.append((np.mean(x), np.std(x)))\n",
    "\n",
    "    stat += [((lb, ub), l)]\n",
    "    \n",
    "    for ax, m, mlabel in zip(axes, [js, mjs, c, osm], ['jaccard', 'multi-jaccard', 'containmnent', 'overlap set']):\n",
    "        ax.scatter(area_ratio, m, s=0.1)\n",
    "        ax.set_title(mlabel)\n",
    "        ax.set_ylim((0, 1))\n",
    "        ax.set_xlabel('Largest overlap\\n(normalised by smaller table area)')\n",
    "        ax.plot([0, 1] if mlabel != 'multi-jaccard' else [0, 0.5], color='r', linewidth=0.4)"
   ]
  },
  {
   "cell_type": "code",
   "execution_count": null,
   "metadata": {
    "metadata": {}
   },
   "outputs": [],
   "source": [
    "data = [y for x in stat for y in x[1]]"
   ]
  },
  {
   "cell_type": "code",
   "execution_count": null,
   "metadata": {
    "metadata": {}
   },
   "outputs": [],
   "source": [
    "for i in range(4):\n",
    "    x = [i, i+0.2, i+0.4]\n",
    "    y = [w[0] for z in stat for w in z[1]][i::4]\n",
    "    yerr = [w[1] for z in stat for w in z[1]][i::4]\n",
    "    for j in range(3):\n",
    "        plt.errorbar(\n",
    "            x[j], y[j], yerr[j],\n",
    "            fmt='^',\n",
    "            linestyle='',\n",
    "            capsize=3,\n",
    "            color=list(mcolors.TABLEAU_COLORS.keys())[j]\n",
    "            # marker='d',\n",
    "        )\n",
    "plt.ylim((0, 1))\n",
    "plt.xticks([0.2, 1.2, 2.2, 3.2], ['jaccard', 'multi-jaccard', 'containment', 'overlap set'])\n",
    "plt.suptitle('Media e stdev del numero di elementi superiori all\\'area ratio,\\nsuddivisi per metrica e classe di area ratio [0,0.4), [0.4,0.8), [0.8,1]')\n",
    "plt.show()"
   ]
  },
  {
   "cell_type": "code",
   "execution_count": null,
   "metadata": {
    "metadata": {}
   },
   "outputs": [],
   "source": [
    "methods = basicconfig.algmodeconfig\n",
    "colors = list(mcolors.TABLEAU_COLORS.keys())\n",
    "methods = {m: c for m, c in zip(methods, colors[:len(methods)])}\n",
    "\n",
    "sample_size = 5000\n",
    "fig, ax = plt.subplots(1, extrres.select(['algorithm', 'mode']).unique().shape[0], figsize=(15,5))\n",
    "for i, ((alg, mode), data) in enumerate(extrres.sample(sample_size).select(['algorithm', 'mode', 'area_ratio', 'jaccard_sim']).group_by('algorithm', 'mode')):\n",
    "    data = data.select('area_ratio', 'jaccard_sim')\n",
    "    data = data.to_numpy()\n",
    "    area_ratio, js = data[:, 0], data[:, 1]\n",
    "    ax[i].scatter(area_ratio, js, s=0.5, label=f'{alg}-{mode}', color=methods[(alg, mode)])\n",
    "    ax[i].set_title(f\"{alg}-{mode}\")\n",
    "    ax[i].plot([0, 1], color='r', linewidth=0.4)\n",
    "\n",
    "plt.show()"
   ]
  },
  {
   "cell_type": "markdown",
   "metadata": {},
   "source": [
    "## Information from the JOSIE PostgreSQL tables"
   ]
  },
  {
   "cell_type": "code",
   "execution_count": 3,
   "metadata": {
    "metadata": {}
   },
   "outputs": [],
   "source": [
    "_dbconn = psycopg.connect(f\"port=5442 host=/tmp dbname=nanni\")"
   ]
  },
  {
   "cell_type": "markdown",
   "metadata": {},
   "source": [
    "Statistics about the mean, stdev, meadian of the posting lists"
   ]
  },
  {
   "cell_type": "code",
   "execution_count": 4,
   "metadata": {
    "metadata": {}
   },
   "outputs": [
    {
     "data": {
      "text/plain": [
       "<psycopg.Connection [IDLE] (port=5442 database=nanni) at 0x7f0af95dbeb0>"
      ]
     },
     "execution_count": 4,
     "metadata": {},
     "output_type": "execute_result"
    }
   ],
   "source": [
    "_dbconn"
   ]
  },
  {
   "cell_type": "code",
   "execution_count": 5,
   "metadata": {
    "metadata": {}
   },
   "outputs": [],
   "source": [
    "def joise_invlist_stat(test_name, dataset, mode):\n",
    "    res = _dbconn.execute(f\"SELECT frequency FROM {test_name}_d{dataset}_m{mode}_inverted_lists;\")\n",
    "    res = [r[0] for r in res.fetchall()]\n",
    "    print(test_name, dataset, mode)\n",
    "    print(f'count:  {len(res)}')\n",
    "    print(f'mean:   {np.mean(res)}')\n",
    "    print(f'stddev: {np.std(res)}')\n",
    "    print(f'median: {np.median(res)}')\n",
    "    print(f'min:    {np.min(res)}')\n",
    "    print(f'max:    {np.max(res)}')"
   ]
  },
  {
   "cell_type": "code",
   "execution_count": null,
   "metadata": {
    "metadata": {}
   },
   "outputs": [],
   "source": [
    "joise_invlist_stat('main', 'santoslarge', 'set')"
   ]
  },
  {
   "cell_type": "code",
   "execution_count": null,
   "metadata": {
    "metadata": {}
   },
   "outputs": [],
   "source": [
    "joise_invlist_stat('main', 'gittables', 'bag')"
   ]
  },
  {
   "cell_type": "markdown",
   "metadata": {},
   "source": [
    "Get the N most frequent tokens and their original string"
   ]
  },
  {
   "cell_type": "code",
   "execution_count": 6,
   "metadata": {
    "metadata": {}
   },
   "outputs": [],
   "source": [
    "def most_frequent_tokens(test_name, dataset, mode, N):\n",
    "    res = _dbconn.execute(f\"SELECT raw_token, frequency FROM {test_name}_d{dataset}_m{mode}_inverted_lists ORDER BY frequency DESC LIMIT {N};\")\n",
    "\n",
    "    r = [(binascii.unhexlify(rt).decode('utf-8'), f) for (rt, f) in res]\n",
    "\n",
    "    tlj = max(len(x[0]) for x in r)\n",
    "    flj = max(len(str(x[1])) for x in r)\n",
    "\n",
    "    for rt, f in r:\n",
    "        print(rt.ljust(tlj), str(f).rjust(flj))\n",
    "    return r"
   ]
  },
  {
   "cell_type": "code",
   "execution_count": 7,
   "metadata": {
    "metadata": {}
   },
   "outputs": [
    {
     "name": "stdout",
     "output_type": "stream",
     "text": [
      "tptacek         37003\n",
      "jacquesm        34426\n",
      "jrockway        34011\n",
      "davidw          31883\n",
      "patio11         30174\n",
      "Tichy           28124\n",
      "pg              27750\n",
      "gaius           24089\n",
      "tokenadult      23915\n",
      "A               23814\n",
      "rbanffy         23076\n",
      "edw519          22665\n",
      "B               22070\n",
      "vaksel          21854\n",
      "yummyfajitas    21471\n",
      "sd              21341\n",
      "nostrademons    21157\n",
      "sv              21074\n",
      "rms             21009\n",
      "philwelch       20958\n",
      "b               20748\n",
      "aa              20645\n",
      "gojomo          20638\n",
      "%               20401\n",
      "anigbrowl       20345\n",
      "ars             19837\n",
      "+               19763\n",
      "bootload        19651\n",
      "axod            19568\n",
      "swombat         19272\n",
      "eru             18891\n",
      "F               18839\n",
      "Uh-huh/UH ./.   18777\n",
      "Uh-huh. /       18764\n",
      "Yeah/UH ./.     18698\n",
      "Yeah. /         18595\n",
      "DanielBMarkham  18317\n",
      "ba              18079\n",
      "cwan            18073\n",
      "C               17934\n",
      "Yeah/UH ,/,     17922\n",
      "petercooper     17762\n",
      "Yeah, /         17753\n",
      "qy              17679\n",
      "mahmud          17331\n",
      "_delirium       17324\n",
      "stcredzero      17293\n",
      "cperciva        17256\n",
      "InclinedPlane   17172\n",
      "RiderOfGiraffes 17080\n"
     ]
    }
   ],
   "source": [
    "mft = most_frequent_tokens('main', 'gittables', 'set', 50)"
   ]
  },
  {
   "cell_type": "code",
   "execution_count": 12,
   "metadata": {
    "metadata": {}
   },
   "outputs": [
    {
     "data": {
      "image/png": "[encoded data removed]",
      "text/plain": [
       "<Figure size 2500x1000 with 1 Axes>"
      ]
     },
     "metadata": {},
     "output_type": "display_data"
    }
   ],
   "source": [
    "tok = [r[0] for r in mft]\n",
    "f = [r[1] for r in mft]\n",
    "\n",
    "plt.barh(tok, f)\n",
    "plt.rcParams[\"figure.figsize\"] = (10,20)\n",
    "plt.xscale('log')\n",
    "locs, labels = plt.xticks()\n",
    "plt.xticks(locs, labels, rotation=45)\n",
    "plt.show()\n",
    "# plt.savefig('comment_story_freq.png', bbox_inches='tight')"
   ]
  },
  {
   "cell_type": "code",
   "execution_count": 15,
   "metadata": {
    "metadata": {}
   },
   "outputs": [
    {
     "name": "stdout",
     "output_type": "stream",
     "text": [
      "Notes         161479\n",
      "Name          146915\n",
      "Title         113378\n",
      "Date          109959\n",
      "Team           96162\n",
      "Total          78907\n",
      "1              77349\n",
      "4              71275\n",
      "Player         70329\n",
      "Result         69811\n",
      "—              69416\n",
      "2              68234\n",
      "5              62201\n",
      "Role           62187\n",
      "3              60318\n",
      "6              58144\n",
      "Score          54925\n",
      "Country        53585\n",
      "Club           53517\n",
      "Season         50724\n",
      "Time           50721\n",
      "Event          48974\n",
      "0              46995\n",
      "7              46181\n",
      "Nationality    45028\n",
      "Position       44469\n",
      "8              42585\n",
      "Location       42193\n",
      "Party          40633\n",
      "10             40439\n",
      "2nd            40078\n",
      "-              39464\n",
      "3rd            39367\n",
      "1st            38984\n",
      "Athlete        38968\n",
      "League         37609\n",
      "4th            36215\n",
      "Rank           36014\n",
      "9              35439\n",
      "–              34869\n",
      "Winner         34093\n",
      "5th            34035\n",
      "11             33257\n",
      "12             32745\n",
      "Venue          32360\n",
      "Opponent       31392\n",
      "6th            30757\n",
      "Year           29622\n",
      "United States  27927\n",
      "13             27059\n"
     ]
    }
   ],
   "source": [
    "mft = most_frequent_tokens('main', 'wikiturlsnap', 'set', 50)"
   ]
  },
  {
   "cell_type": "code",
   "execution_count": 20,
   "metadata": {
    "metadata": {}
   },
   "outputs": [
    {
     "data": {
      "image/png": "[encoded data removed]",
      "text/plain": [
       "<Figure size 1000x1000 with 1 Axes>"
      ]
     },
     "metadata": {},
     "output_type": "display_data"
    }
   ],
   "source": [
    "tok = [r[0] for r in mft]\n",
    "f = [r[1] for r in mft]\n",
    "\n",
    "plt.barh(tok, f)\n",
    "plt.rcParams[\"figure.figsize\"] = (10,20)\n",
    "plt.xscale('log')\n",
    "locs, labels = plt.xticks()\n",
    "plt.xticks(locs, labels, rotation=45)\n",
    "plt.show()\n",
    "# plt.savefig('comment_story_freq.png', bbox_inches='tight')"
   ]
  },
  {
   "cell_type": "code",
   "execution_count": null,
   "metadata": {
    "metadata": {}
   },
   "outputs": [],
   "source": [
    "_dbconn.close()"
   ]
  },
  {
   "cell_type": "markdown",
   "metadata": {},
   "source": [
    "## How are divided the queries, w.r.t. their table size?"
   ]
  },
  {
   "cell_type": "code",
   "execution_count": 3,
   "metadata": {
    "metadata": {}
   },
   "outputs": [],
   "source": [
    "thresholds = list(range(0, 10 ** 4 + 1, 100)) # [10, 100, 200, 300, 400, 500, 600, 700, 1000, 2000, 5000, 10000]\n",
    "\n",
    "bins=thresholds[1:]"
   ]
  },
  {
   "cell_type": "code",
   "execution_count": 5,
   "metadata": {
    "metadata": {}
   },
   "outputs": [],
   "source": [
    "test_name, dataset, k, q = 'main', 'wikiturlsnap', 20, '50K'\n",
    "_, _, _, _, _, _, results_extr_dir, _, _, _ = get_all_paths(test_name, dataset, k, q)\n",
    "extrres = pd.read_csv(f'{results_extr_dir}/final_results_k{k}_q{q}.csv').dropna()\n",
    "\n",
    "extrres = extrres[['query_id', 'bag_size_q']].drop_duplicates()\n",
    "tot = extrres.shape[0]\n",
    "r = []\n",
    "\n",
    "\n",
    "for i in range(len(thresholds)):    \n",
    "    if i < len(thresholds) - 1:\n",
    "        s = extrres[(extrres['bag_size_q'] >= thresholds[i]) & (extrres['bag_size_q'] < thresholds[i + 1])].shape[0]\n",
    "        r.append([f\"[{thresholds[i]},{thresholds[i + 1]})\", round(s / tot, 5)])\n",
    "    else:\n",
    "        s = extrres[(extrres['bag_size_q'] >= thresholds[i])].shape[0]\n",
    "        r.append([f\"[{thresholds[i]},inf)\", round(s / tot, 5)])\n",
    "    # print(f\"{thresholds[i]}<=X<{thresholds[i + 1]}:\\t{s}\\t{s * 100 / tot}\")"
   ]
  },
  {
   "cell_type": "code",
   "execution_count": null,
   "metadata": {
    "metadata": {}
   },
   "outputs": [],
   "source": [
    "extrres.hist('bag_size_q', bins=bins, width=50)\n",
    "# plt.xscale('log')\n",
    "plt.yscale('log')"
   ]
  },
  {
   "cell_type": "code",
   "execution_count": 6,
   "metadata": {
    "metadata": {}
   },
   "outputs": [],
   "source": [
    "test_name, dataset, k, q = 'main', 'gittables', 20, '50K'\n",
    "_, _, _, _, _, _, results_extr_dir, _, _, _ = get_all_paths(test_name, dataset, k, q)\n",
    "extrres = pd.read_csv(f'{results_extr_dir}/final_results_k{k}_q{q}.csv').dropna()\n",
    "\n",
    "extrres = extrres[['query_id', 'bag_size_q']].drop_duplicates()\n",
    "tot = extrres.shape[0]\n",
    "r1 = []\n",
    "\n",
    "\n",
    "for i in range(len(thresholds)):    \n",
    "    if i < len(thresholds) - 1:\n",
    "        s = extrres[(extrres['bag_size_q'] >= thresholds[i]) & (extrres['bag_size_q'] < thresholds[i + 1])].shape[0]\n",
    "        r1.append([f\"[{thresholds[i]},{thresholds[i + 1]})\", round(s / tot, 5)])\n",
    "    else:\n",
    "        s = extrres[(extrres['bag_size_q'] >= thresholds[i])].shape[0]\n",
    "        r1.append([f\"[{thresholds[i]},inf)\", round(s / tot, 5)])\n",
    "    # print(f\"{thresholds[i]}<=X<{thresholds[i + 1]}:\\t{s}\\t{s * 100 / tot}\")"
   ]
  },
  {
   "cell_type": "code",
   "execution_count": null,
   "metadata": {
    "metadata": {}
   },
   "outputs": [],
   "source": [
    "extrres.hist('bag_size_q', bins=bins, width=50)\n",
    "# plt.xscale('log')\n",
    "plt.yscale('log')"
   ]
  },
  {
   "cell_type": "code",
   "execution_count": 7,
   "metadata": {
    "metadata": {}
   },
   "outputs": [],
   "source": [
    "test_name, dataset, k, q = 'main', 'santoslarge', 20, '500'\n",
    "_, _, _, _, _, _, results_extr_dir, _, _, _ = get_all_paths(test_name, dataset, k, q)\n",
    "extrres = pd.read_csv(f'{results_extr_dir}/final_results_k{k}_q{q}.csv').dropna()\n",
    "\n",
    "extrres = extrres[['query_id', 'bag_size_q']].drop_duplicates()\n",
    "tot = extrres.shape[0]\n",
    "r2 = []\n",
    "\n",
    "for i in range(len(thresholds)):    \n",
    "    if i < len(thresholds) - 1:\n",
    "        s = extrres[(extrres['bag_size_q'] >= thresholds[i]) & (extrres['bag_size_q'] < thresholds[i + 1])].shape[0]\n",
    "        r2.append([f\"[{thresholds[i]},{thresholds[i + 1]})\", round(s / tot, 5)])\n",
    "    else:\n",
    "        s = extrres[(extrres['bag_size_q'] >= thresholds[i])].shape[0]\n",
    "        r2.append([f\"[{thresholds[i]},inf)\", round(s / tot, 5)])\n",
    "    # print(f\"{thresholds[i]}<=X<{thresholds[i + 1]}:\\t{s}\\t{s * 100 / tot}\")"
   ]
  },
  {
   "cell_type": "code",
   "execution_count": null,
   "metadata": {
    "metadata": {}
   },
   "outputs": [],
   "source": [
    "extrres.hist('bag_size_q', bins=thresholds[1:], width=50)\n",
    "plt.yscale('log')"
   ]
  },
  {
   "cell_type": "code",
   "execution_count": 8,
   "metadata": {
    "metadata": {}
   },
   "outputs": [
    {
     "data": {
      "text/plain": [
       "(101, 101, 101)"
      ]
     },
     "execution_count": 8,
     "metadata": {},
     "output_type": "execute_result"
    }
   ],
   "source": [
    "# r.append([0, 0])\n",
    "# r1.append([0, 0])\n",
    "len(r), len(r1), len(r2)"
   ]
  },
  {
   "cell_type": "code",
   "execution_count": null,
   "metadata": {
    "metadata": {}
   },
   "outputs": [],
   "source": [
    "r2[-2] = ['[9500,10000)', 0]\n",
    "r2[-2], r2[-1]"
   ]
  },
  {
   "cell_type": "code",
   "execution_count": null,
   "metadata": {
    "metadata": {}
   },
   "outputs": [],
   "source": [
    "r = r[:-1]\n",
    "r2 = r2[:-1] \n",
    "r1 = r1[:-1]"
   ]
  },
  {
   "cell_type": "code",
   "execution_count": 11,
   "metadata": {
    "metadata": {}
   },
   "outputs": [
    {
     "data": {
      "image/png": "[encoded data removed]",
      "text/plain": [
       "<Figure size 1500x500 with 1 Axes>"
      ]
     },
     "metadata": {},
     "output_type": "display_data"
    }
   ],
   "source": [
    "from matplotlib.colors import TABLEAU_COLORS as tcolors\n",
    "\n",
    "width = 0.25  # the width of the bars\n",
    "multiplier = -0.5\n",
    "\n",
    "x = np.arange(len(r)) \n",
    "fig, ax = plt.subplots(layout='constrained', figsize=(15, 5))\n",
    "\n",
    "for data, label, c in zip([r, r1, r2], ['wikiturlsnap', 'gittables', 'santoslarge'], [tcolors['tab:blue'], tcolors['tab:orange'], tcolors['tab:green']]):\n",
    "    offset = width * multiplier\n",
    "    rects = ax.bar(x + offset, [y[1] for y in data], align='edge', label=label, width=width)\n",
    "    # ax.bar_label(rects, padding=2)\n",
    "    multiplier += 1\n",
    "\n",
    "ax.legend()\n",
    "ax.grid(axis='y')\n",
    "ax.margins(0.01)\n",
    "ax.set_xticks(np.arange(0, len(r), 5) + width, range(0, 10 ** 4 + 1, 500))\n",
    "\n",
    "labels = [item.get_text() for item in ax.get_xticklabels()]\n",
    "labels[0] = '<100'\n",
    "labels[-1] = '>10000'\n",
    "\n",
    "ax.set_xticklabels(labels)\n",
    "\n",
    "ax.tick_params(axis='x', rotation=90)\n",
    "ax.set_yscale('log')"
   ]
  },
  {
   "cell_type": "markdown",
   "metadata": {},
   "source": [
    "## How many queries don't have exactly K returned tables for each algorithm/method?"
   ]
  },
  {
   "cell_type": "code",
   "execution_count": null,
   "metadata": {
    "metadata": {}
   },
   "outputs": [],
   "source": [
    "test_name, dataset, k, q = 'a_test', 'wikiturlsnap', 10, '50K'\n",
    "_, _, _, _, _, _, results_extr_dir, _, _, _ = get_all_paths(test_name, dataset, k, q)\n",
    "extrres = pd.read_csv(f'{results_extr_dir}/final_results_k10_q50K.csv').dropna()"
   ]
  },
  {
   "cell_type": "code",
   "execution_count": null,
   "metadata": {
    "metadata": {}
   },
   "outputs": [],
   "source": [
    "bad_groups = []\n",
    "for query_id, q_group in tqdm(extrres.groupby('query_id'), total=extrres['query_id'].unique().shape[0]):\n",
    "    for (alg, mode), data in q_group.groupby(['algorithm', 'mode']):\n",
    "        if data.shape[0] < 10:\n",
    "            bad_groups.append(query_id)\n",
    "            break"
   ]
  },
  {
   "cell_type": "code",
   "execution_count": null,
   "metadata": {
    "metadata": {}
   },
   "outputs": [],
   "source": [
    "len(bad_groups) * 100 / 50000"
   ]
  },
  {
   "cell_type": "markdown",
   "metadata": {},
   "source": [
    "## How many failures has SLOTH done in computing the largest overlap?"
   ]
  },
  {
   "cell_type": "markdown",
   "metadata": {},
   "source": [
    "During the extraction phase, whenever a failure has occurred, the relative pair \\<query_id, result_id\\> has been stored with a overlap value of -1"
   ]
  },
  {
   "cell_type": "code",
   "execution_count": null,
   "metadata": {
    "metadata": {}
   },
   "outputs": [],
   "source": [
    "dataset = 'gittables'\n",
    "size = 'standard'\n",
    "blacklist = ['story']\n",
    "\n",
    "table_name = f'results_d{dataset}_s{size}'\n",
    "if len(blacklist) >= 1:\n",
    "    table_name += '_blacklist'\n",
    "_dbconn = psycopg.connect(f\"port=5442 host=/tmp dbname=nanni\")\n",
    "failures = _dbconn.execute(f\"SELECT COUNT(*) FROM {table_name} WHERE sloth_overlap = -1\").fetchone()[0]\n",
    "total_computed_overlaps = _dbconn.execute(f\"SELECT COUNT(*) FROM {table_name}\").fetchone()[0]\n",
    "\n",
    "total_computed_overlaps, failures, failures * 100 / total_computed_overlaps"
   ]
  },
  {
   "cell_type": "markdown",
   "metadata": {},
   "source": [
    "## Storage space of FAISS indexes"
   ]
  },
  {
   "cell_type": "code",
   "execution_count": null,
   "metadata": {
    "metadata": {}
   },
   "outputs": [],
   "source": [
    "import faiss\n",
    "\n",
    "faiss_path = '/data4/nanni/tesi-magistrale/data/tests/main/wikiturlsnap/embedding/col_idx_mft.index'\n",
    "\n",
    "index = faiss.read_index(faiss_path)"
   ]
  },
  {
   "cell_type": "code",
   "execution_count": null,
   "metadata": {
    "metadata": {}
   },
   "outputs": [],
   "source": [
    "nvectors = index.ntotal\n",
    "nvectors"
   ]
  },
  {
   "cell_type": "code",
   "execution_count": null,
   "metadata": {
    "metadata": {}
   },
   "outputs": [],
   "source": [
    "embedding_size = 300\n",
    "vector_size = 4 * embedding_size + 8\n",
    "vector_size_hnsw = 4 * embedding_size + 32 * 4 * 2\n",
    "\n",
    "vector_space = vector_size * nvectors\n",
    "vector_space_hnsw = vector_size_hnsw * nvectors\n",
    "\n",
    "vector_space, vector_space / (1024 ** 3), os.path.getsize(faiss_path) / (1024 ** 3), vector_space_hnsw / (1024 ** 3)"
   ]
  },
  {
   "cell_type": "code",
   "execution_count": null,
   "metadata": {
    "metadata": {}
   },
   "outputs": [],
   "source": []
  },
  {
   "cell_type": "markdown",
   "metadata": {},
   "source": [
    "## Mean and StdDev for single query time"
   ]
  },
  {
   "cell_type": "code",
   "execution_count": 6,
   "metadata": {
    "metadata": {}
   },
   "outputs": [
    {
     "name": "stdout",
     "output_type": "stream",
     "text": [
      "aembedding_mftdist.csv\n",
      "mean:  0.002 stdev:  0.0\n",
      "\n",
      "ajosie_mbag.csv\n",
      "mean:  0.2 stdev:  0.29\n",
      "\n",
      "ajosie_mset.csv\n",
      "mean:  0.158 stdev:  0.174\n",
      "\n",
      "alshforest_mbag.csv\n",
      "mean:  0.002 stdev:  0.012\n",
      "\n",
      "alshforest_mset.csv\n",
      "mean:  0.002 stdev:  0.012\n",
      "\n",
      "aembedding_mft.csv\n",
      "mean:  0.0 stdev:  0.0\n",
      "\n"
     ]
    }
   ],
   "source": [
    "paths = get_all_paths('main', 'wikiturlsnap', 20, '50K')\n",
    "results_dir = paths[5]\n",
    "for res_file in os.listdir(results_dir):\n",
    "    if '.raw' in res_file: continue\n",
    "    print(res_file)\n",
    "    df = pl.read_csv(f'{results_dir}/{res_file}')\n",
    "\n",
    "    # print(df.schema)\n",
    "    print('mean: ', round(df.select('duration').mean().rows()[0][0], 3), 'stdev: ', round(df.select('duration').std().rows()[0][0], 3))\n",
    "    print()"
   ]
  },
  {
   "cell_type": "code",
   "execution_count": 11,
   "metadata": {
    "metadata": {}
   },
   "outputs": [
    {
     "name": "stdout",
     "output_type": "stream",
     "text": [
      "ajosie_mbag.csv\n",
      "mean:  1.019 stdev:  3.639\n",
      "\n",
      "ajosie_mset.csv\n",
      "mean:  0.089 stdev:  0.187\n",
      "\n",
      "alshforest_mbag.csv\n",
      "mean:  0.001 stdev:  0.0\n",
      "\n",
      "alshforest_mset.csv\n",
      "mean:  0.001 stdev:  0.0\n",
      "\n",
      "aembedding_mft.csv\n",
      "mean:  0.0 stdev:  0.001\n",
      "\n"
     ]
    }
   ],
   "source": [
    "paths = get_all_paths('main', 'santoslarge', 10, '500')\n",
    "results_dir = paths[5]\n",
    "for res_file in os.listdir(results_dir):\n",
    "    if '.raw' in res_file: continue\n",
    "    print(res_file)\n",
    "    df = pl.read_csv(f'{results_dir}/{res_file}')\n",
    "\n",
    "    # print(df.schema)\n",
    "    print('mean: ', round(df.select('duration').mean().rows()[0][0], 3), 'stdev: ', round(df.select('duration').std().rows()[0][0], 3))\n",
    "    print()"
   ]
  },
  {
   "cell_type": "markdown",
   "metadata": {},
   "source": [
    "## Progress of bag mode size"
   ]
  },
  {
   "cell_type": "markdown",
   "metadata": {},
   "source": [
    "How does the number of elements in bag mode increase in a range of tables (e.g. 10K)?"
   ]
  },
  {
   "cell_type": "code",
   "execution_count": 64,
   "metadata": {
    "metadata": {}
   },
   "outputs": [
    {
     "name": "stdout",
     "output_type": "stream",
     "text": [
      "500\r"
     ]
    },
    {
     "data": {
      "image/png": "[encoded data removed]",
      "text/plain": [
       "<Figure size 1200x400 with 3 Axes>"
      ]
     },
     "metadata": {},
     "output_type": "display_data"
    }
   ],
   "source": [
    "from tools.utils.misc import create_token_set, get_query_ids_from_query_file\n",
    "from collections import defaultdict, Counter\n",
    "\n",
    "datasets = [['wikiturlsnap', '50K'], ['gittables', '50K'], ['santoslarge', '500_v1']]\n",
    "fig, axes = plt.subplots(1, len(datasets), figsize=(12, 4), sharey=True)\n",
    "fig.tight_layout(w_pad=1)\n",
    "N = 10 ** 4 + 1\n",
    "\n",
    "\n",
    "\n",
    "dlhw = SimpleDataLakeHelper('mongodb', 'wikiturlsnap', 'standard')\n",
    "dlhg = SimpleDataLakeHelper('mongodb', 'gittables', 'standard')\n",
    "dlhs = SimpleDataLakeHelper(\"/data4/nanni/data/santos_large/datalake\", 'santoslarge', 'standard', \"/data4/nanni/data/santos_large/mapping_id.pickle\", \"/data4/nanni/data/santos_large/numeric_columns.pickle\")\n",
    "\n",
    "\n",
    "for (dataset, qsize), ax, dlh in zip(datasets, axes, [dlhw, dlhg, dlhs]):\n",
    "    paths = get_all_paths('main', dataset, 20, qsize)\n",
    "    bins = [10, 50, 100, 250, 500]\n",
    "\n",
    "    queries = get_query_ids_from_query_file(paths[1])\n",
    "\n",
    "    for mode, marker in zip(['set', 'bag'], ['--d', '--o']):\n",
    "        probes = []\n",
    "        elements = defaultdict(int)\n",
    "        for i, q in enumerate(queries, start=1):\n",
    "            if i >= bins[-1] + 1:\n",
    "                break\n",
    "\n",
    "            table_obj = dlh.get_table_by_numeric_id(q)\n",
    "            bag = create_token_set(table_obj['content'], mode, table_obj['numeric_columns'])\n",
    "            for e, c in Counter(bag).items():\n",
    "                elements[e] += c\n",
    "\n",
    "            if i in bins:\n",
    "                print(i, end='\\r')\n",
    "                probes.append([i, sum(c for _, c in elements.items())])\n",
    "        x = np.array([p[0] for p in probes])\n",
    "        y = np.array([p[1] for p in probes])\n",
    "        \n",
    "        ax.plot(x, y, marker, label=mode, alpha=0.7)    \n",
    "\n",
    "    ax.set_xscale('log')\n",
    "    ax.set_yscale('log')\n",
    "    ax.set_xlabel('#tabelle scansionate')\n",
    "    ax.grid(True)\n",
    "    ax.set_xlim(min(x), max(x))\n",
    "    # ax.set_ylim(10 ** 2, 10 ** 6)\n",
    "\n",
    "    ax.set_title(dataset)\n",
    "\n",
    "axes[0].set_ylabel('#elemnti distinti per modalità')\n",
    "axes[1].legend()\n",
    "plt.show()"
   ]
  },
  {
   "cell_type": "markdown",
   "metadata": {},
   "source": [
    "## Embedding cosine VS jaccard VS levenshtein"
   ]
  },
  {
   "cell_type": "markdown",
   "metadata": {},
   "source": [
    "When using embeddings, there are a lot of False Positives, but why?"
   ]
  },
  {
   "cell_type": "code",
   "execution_count": null,
   "metadata": {
    "metadata": {}
   },
   "outputs": [],
   "source": [
    "import fasttext\n",
    "import fasttext.FastText\n",
    "from tools.utils.settings import DefaultPath as dp\n",
    "\n",
    "\n",
    "ft = fasttext.load_model(f'{dp.model_path.fasttext}/cc.en.300.bin')"
   ]
  },
  {
   "cell_type": "code",
   "execution_count": null,
   "metadata": {
    "metadata": {}
   },
   "outputs": [],
   "source": [
    "import string\n",
    "import numpy as np\n",
    "import nltk\n",
    "# nltk.download('stopwords')\n",
    "from nltk.corpus import stopwords\n",
    "\n",
    "stopwords = set(stopwords.words())\n",
    "punctuation_translator = str.maketrans(string.punctuation, ' ' * len(string.punctuation))\n",
    "digits_translator = str.maketrans(string.digits, ' ' * len(string.digits))"
   ]
  },
  {
   "cell_type": "code",
   "execution_count": null,
   "metadata": {
    "metadata": {}
   },
   "outputs": [],
   "source": [
    "'Hell4,dud3'.translate(punctuation_translator).translate(digits_translator)"
   ]
  },
  {
   "cell_type": "code",
   "execution_count": null,
   "metadata": {
    "metadata": {}
   },
   "outputs": [],
   "source": [
    "def clean_string(s:str):\n",
    "    s = s.lower().translate(punctuation_translator).translate(digits_translator)\n",
    "    tokens = [t for t in s.split() if t not in stopwords]\n",
    "    # tokens = [t for t in tokens if t not in stopwords]\n",
    "    return ' '.join(tokens)\n",
    "\n",
    "clean_string('The DuD3:he was coming,yeah,coming righ7 towards me!At 7:00 am!')"
   ]
  },
  {
   "cell_type": "code",
   "execution_count": null,
   "metadata": {
    "metadata": {}
   },
   "outputs": [],
   "source": [
    "def embed_string(s:str, embedding_function, embedding_size):\n",
    "    s = clean_string(s)\n",
    "    if len(s) == 0:\n",
    "        return np.zeros((embedding_size, ))\n",
    "    return embedding_function(s)\n",
    "\n",
    "embed_string('The DuD3:he was coming,yeah,coming righ7 towards me!At 7:00 am!', ft.get_sentence_vector, ft.get_dimension()).shape"
   ]
  },
  {
   "cell_type": "code",
   "execution_count": null,
   "metadata": {
    "metadata": {}
   },
   "outputs": [],
   "source": [
    "df = pl.read_csv('/data4/nanni/tesi-magistrale/data/tests/main/wikiturlsnap/results/extracted/final_results_k20_q50K.csv')"
   ]
  },
  {
   "cell_type": "code",
   "execution_count": null,
   "metadata": {
    "metadata": {}
   },
   "outputs": [],
   "source": [
    "df = df.filter((pl.col('algorithm') == 'embedding') & (pl.col('mode') == 'ft'))\n",
    "df.sample(10)"
   ]
  },
  {
   "cell_type": "code",
   "execution_count": null,
   "metadata": {},
   "outputs": [],
   "source": [
    "import faiss\n",
    "\n",
    "faiss.IndexBinaryIVF().add_core"
   ]
  },
  {
   "cell_type": "markdown",
   "metadata": {},
   "source": [
    "## SLOTH example"
   ]
  },
  {
   "cell_type": "code",
   "execution_count": 26,
   "metadata": {
    "metadata": {}
   },
   "outputs": [],
   "source": [
    "from tools.sloth.sloth import sloth\n",
    "from tools.utils.misc import create_token_set"
   ]
  },
  {
   "cell_type": "code",
   "execution_count": 20,
   "metadata": {
    "metadata": {}
   },
   "outputs": [],
   "source": [
    "A = [\n",
    "    ['cat', 'Snow', 'F'],\n",
    "    ['dog', 'Rex', 'M'],\n",
    "    ['cat', 'Ball', 'F'],\n",
    "    ['fish', 'Ball', 'F']\n",
    "]\n",
    "\n",
    "B = [\n",
    "    ['cat', 'Snow', 2, 'F'],\n",
    "    ['cat', 'Leo', 4, 'M'],\n",
    "    ['snake', 'Severus', 13, 'U'],\n",
    "    ['fish', 'Ball', 2, 'F'],\n",
    "    ['cat', 'Ball', 4, 'F']\n",
    "]"
   ]
  },
  {
   "cell_type": "code",
   "execution_count": 27,
   "metadata": {
    "metadata": {}
   },
   "outputs": [],
   "source": [
    "Aset = create_token_set(A, 'set', [0, 0, 0])\n",
    "Abag = create_token_set(A, 'bag', [0, 0, 0])\n",
    "\n",
    "Bset = create_token_set(B, 'set', [0, 0, 0, 0])\n",
    "Bbag = create_token_set(B, 'bag', [0, 0, 0, 0])"
   ]
  },
  {
   "cell_type": "code",
   "execution_count": 28,
   "metadata": {
    "metadata": {}
   },
   "outputs": [
    {
     "data": {
      "text/plain": [
       "(6, 10)"
      ]
     },
     "execution_count": 28,
     "metadata": {},
     "output_type": "execute_result"
    }
   ],
   "source": [
    "len(set(Aset).intersection(Bset)), len(set(Abag).intersection(Bbag))"
   ]
  },
  {
   "cell_type": "code",
   "execution_count": 24,
   "metadata": {
    "metadata": {}
   },
   "outputs": [
    {
     "name": "stdout",
     "output_type": "stream",
     "text": [
      "Detected 12 seed(s) in 0.0004329681396484375 seconds.\n",
      "Generated 1 candidate(s) in 3.4809112548828125e-05 seconds.\n",
      "Verified 1 candidate(s) in 7.367134094238281e-05 seconds.\n",
      "Detected 1 largest overlap(s) in 0.00013399124145507812 seconds.\n",
      "Size of the detected largest overlap(s): 3 columns, 3 rows, 9 cells.\n",
      "Total elapsed time: 0.0017254352569580078 seconds.\n",
      "      0     1     2\n",
      "0     F     F     F\n",
      "1  Snow  Ball  Ball\n",
      "2   cat   cat  fish\n"
     ]
    },
    {
     "data": {
      "text/plain": [
       "([([(0, 0), (3, 3), (2, 4)],\n",
       "   [('cat', 'cat', 'fish'), ('Snow', 'Ball', 'Ball'), ('F', 'F', 'F')])],\n",
       " None)"
      ]
     },
     "execution_count": 24,
     "metadata": {},
     "output_type": "execute_result"
    }
   ],
   "source": [
    "sloth(A, B)"
   ]
  },
  {
   "cell_type": "markdown",
   "metadata": {},
   "source": [
    "## Percentage variation of set/bag semantic over the rectangular overlap"
   ]
  },
  {
   "cell_type": "code",
   "execution_count": 15,
   "metadata": {
    "metadata": {}
   },
   "outputs": [
    {
     "data": {
      "text/html": [
       "<div><style>\n",
       ".dataframe > thead > tr,\n",
       ".dataframe > tbody > tr {\n",
       "  text-align: right;\n",
       "  white-space: pre-wrap;\n",
       "}\n",
       "</style>\n",
       "<small>shape: (10_000, 5)</small><table border=\"1\" class=\"dataframe\"><thead><tr><th>sloth_overlap</th><th>set_intersection_size</th><th>bag_intersection_size</th><th>set_variation</th><th>bag_variation</th></tr><tr><td>i64</td><td>i64</td><td>i64</td><td>f64</td><td>f64</td></tr></thead><tbody><tr><td>14</td><td>5</td><td>29</td><td>0.357143</td><td>2.071429</td></tr><tr><td>15</td><td>18</td><td>26</td><td>1.2</td><td>1.733333</td></tr><tr><td>49</td><td>35</td><td>52</td><td>0.714286</td><td>1.061224</td></tr><tr><td>13</td><td>6</td><td>27</td><td>0.461538</td><td>2.076923</td></tr><tr><td>42</td><td>40</td><td>80</td><td>0.952381</td><td>1.904762</td></tr><tr><td>&hellip;</td><td>&hellip;</td><td>&hellip;</td><td>&hellip;</td><td>&hellip;</td></tr><tr><td>16</td><td>14</td><td>33</td><td>0.875</td><td>2.0625</td></tr><tr><td>35</td><td>61</td><td>75</td><td>1.742857</td><td>2.142857</td></tr><tr><td>94</td><td>129</td><td>221</td><td>1.37234</td><td>2.351064</td></tr><tr><td>16</td><td>9</td><td>27</td><td>0.5625</td><td>1.6875</td></tr><tr><td>15</td><td>24</td><td>37</td><td>1.6</td><td>2.466667</td></tr></tbody></table></div>"
      ],
      "text/plain": [
       "shape: (10_000, 5)\n",
       "┌───────────────┬───────────────────────┬───────────────────────┬───────────────┬───────────────┐\n",
       "│ sloth_overlap ┆ set_intersection_size ┆ bag_intersection_size ┆ set_variation ┆ bag_variation │\n",
       "│ ---           ┆ ---                   ┆ ---                   ┆ ---           ┆ ---           │\n",
       "│ i64           ┆ i64                   ┆ i64                   ┆ f64           ┆ f64           │\n",
       "╞═══════════════╪═══════════════════════╪═══════════════════════╪═══════════════╪═══════════════╡\n",
       "│ 14            ┆ 5                     ┆ 29                    ┆ 0.357143      ┆ 2.071429      │\n",
       "│ 15            ┆ 18                    ┆ 26                    ┆ 1.2           ┆ 1.733333      │\n",
       "│ 49            ┆ 35                    ┆ 52                    ┆ 0.714286      ┆ 1.061224      │\n",
       "│ 13            ┆ 6                     ┆ 27                    ┆ 0.461538      ┆ 2.076923      │\n",
       "│ 42            ┆ 40                    ┆ 80                    ┆ 0.952381      ┆ 1.904762      │\n",
       "│ …             ┆ …                     ┆ …                     ┆ …             ┆ …             │\n",
       "│ 16            ┆ 14                    ┆ 33                    ┆ 0.875         ┆ 2.0625        │\n",
       "│ 35            ┆ 61                    ┆ 75                    ┆ 1.742857      ┆ 2.142857      │\n",
       "│ 94            ┆ 129                   ┆ 221                   ┆ 1.37234       ┆ 2.351064      │\n",
       "│ 16            ┆ 9                     ┆ 27                    ┆ 0.5625        ┆ 1.6875        │\n",
       "│ 15            ┆ 24                    ┆ 37                    ┆ 1.6           ┆ 2.466667      │\n",
       "└───────────────┴───────────────────────┴───────────────────────┴───────────────┴───────────────┘"
      ]
     },
     "execution_count": 15,
     "metadata": {},
     "output_type": "execute_result"
    }
   ],
   "source": [
    "test_name, dataset, k, q = 'main', 'wikiturlsnap', 20, '50K'\n",
    "_, _, _, _, _, _, results_extr_dir, _, _, _ = get_all_paths(test_name, dataset, k, q)\n",
    "extrres = pl.scan_csv(f'{results_extr_dir}/final_results_k{k}_q{q}.csv').drop_nulls()\n",
    "\n",
    "extrres = (\n",
    "    extrres\n",
    "    .filter((pl.col('sloth_overlap') > 10) & (pl.col('sloth_overlap') < 100))\n",
    "    .select(['sloth_overlap', 'set_intersection_size', 'bag_intersection_size'])\n",
    "    .with_columns((pl.col('set_intersection_size') / pl.col('sloth_overlap')).alias('set_variation'))\n",
    "    .with_columns((pl.col('bag_intersection_size') / pl.col('sloth_overlap')).alias('bag_variation'))\n",
    ").collect().sample(10000)\n",
    "\n",
    "extrres"
   ]
  },
  {
   "cell_type": "code",
   "execution_count": 41,
   "metadata": {
    "metadata": {}
   },
   "outputs": [
    {
     "name": "stdout",
     "output_type": "stream",
     "text": [
      "[-5.0, 0.0, 1, 5.0, 10.0, 15.0, 20.0, 25.0, 30.0, 35.0]\n"
     ]
    },
    {
     "data": {
      "image/png": "[encoded data removed]",
      "text/plain": [
       "<Figure size 640x480 with 1 Axes>"
      ]
     },
     "metadata": {},
     "output_type": "display_data"
    }
   ],
   "source": [
    "import numpy as np\n",
    "plt.hist(extrres.select('set_variation'), alpha=0.7, bins=range(0, 30, 1), label='set')\n",
    "plt.hist(extrres.select('bag_variation'), alpha=0.7, bins=range(0, 30, 1), label='bag')\n",
    "plt.legend()\n",
    "xticks, labels = plt.xticks()\n",
    "xticks = xticks.tolist()\n",
    "labels.insert(2, 1)\n",
    "xticks.insert(2, 1)\n",
    "print(xticks)\n",
    "plt.xticks(xticks[1:], labels[1:])\n",
    "plt.grid(axis='y')\n",
    "plt.ylabel(r'$\\frac{mode\\_intersection}{largest\\_overlap}$', labelpad=50, rotation=0, fontsize=14)\n",
    "plt.yscale('log')\n",
    "plt.savefig('/data4/nanni/set_bag_variation.png', bbox_inches='tight')"
   ]
  },
  {
   "cell_type": "code",
   "execution_count": null,
   "metadata": {},
   "outputs": [],
   "source": [
    "\n",
    "extrres = extrres[['query_id', 'bag_size_q']].drop_duplicates()\n",
    "tot = extrres.shape[0]\n",
    "r = []\n",
    "\n",
    "\n",
    "for i in range(len(thresholds)):    \n",
    "    if i < len(thresholds) - 1:\n",
    "        s = extrres[(extrres['bag_size_q'] >= thresholds[i]) & (extrres['bag_size_q'] < thresholds[i + 1])].shape[0]\n",
    "        r.append([f\"[{thresholds[i]},{thresholds[i + 1]})\", round(s / tot, 5)])\n",
    "    else:\n",
    "        s = extrres[(extrres['bag_size_q'] >= thresholds[i])].shape[0]\n",
    "        r.append([f\"[{thresholds[i]},inf)\", round(s / tot, 5)])\n",
    "    # print(f\"{thresholds[i]}<=X<{thresholds[i + 1]}:\\t{s}\\t{s * 100 / tot}\")"
   ]
  },
  {
   "cell_type": "code",
   "execution_count": 4,
   "metadata": {
    "metadata": {}
   },
   "outputs": [],
   "source": [
    "basicconfig.ALGORITHM_MODE_CONFIG\n",
    "colors = list(mcolors.TABLEAU_COLORS.keys())\n",
    "methods = basicconfig.ALGORITHM_MODE_CONFIG\n",
    "methods = {m: c for m, c in zip(methods, colors[:len(methods)])}"
   ]
  },
  {
   "cell_type": "code",
   "execution_count": 17,
   "metadata": {
    "metadata": {}
   },
   "outputs": [
    {
     "data": {
      "text/plain": [
       "['tab:blue',\n",
       " 'tab:orange',\n",
       " 'tab:green',\n",
       " 'tab:red',\n",
       " 'tab:purple',\n",
       " 'tab:brown',\n",
       " 'tab:pink',\n",
       " 'tab:gray',\n",
       " 'tab:olive',\n",
       " 'tab:cyan']"
      ]
     },
     "execution_count": 17,
     "metadata": {},
     "output_type": "execute_result"
    }
   ],
   "source": [
    "colors"
   ]
  },
  {
   "cell_type": "code",
   "execution_count": 15,
   "metadata": {
    "metadata": {}
   },
   "outputs": [
    {
     "data": {
      "text/plain": [
       "[{'algorithm': 'josie', 'mode': 'set'},\n",
       " {'algorithm': 'josie', 'mode': 'bag'},\n",
       " {'algorithm': 'lshforest', 'mode': 'set'},\n",
       " {'algorithm': 'lshforest', 'mode': 'bag'},\n",
       " {'algorithm': 'embedding', 'mode': 'ft'}]"
      ]
     },
     "execution_count": 15,
     "metadata": {},
     "output_type": "execute_result"
    }
   ],
   "source": [
    "list(map(lambda am: {'algorithm': am[0], 'mode': am[1]}, methods.keys()))"
   ]
  },
  {
   "cell_type": "code",
   "execution_count": 16,
   "metadata": {
    "metadata": {}
   },
   "outputs": [],
   "source": [
    "\n",
    "\n",
    "results = pl.read_csv('/data4/nanni/tesi-magistrale/data/tests/main/santoslarge/results/extracted/final_results_k10_q500.csv')\n",
    "\n",
    "results = results.filter(pl.struct(['algorithm', 'mode']).is_in(list(map(lambda am: {'algorithm': am[0], 'mode': am[1]}, methods.keys()))))\n"
   ]
  }
 ],
 "metadata": {
  "kernelspec": {
   "display_name": "nanni-tesi-env",
   "language": "python",
   "name": "python3"
  },
  "language_info": {
   "codemirror_mode": {
    "name": "ipython",
    "version": 3
   },
   "file_extension": ".py",
   "mimetype": "text/x-python",
   "name": "python",
   "nbconvert_exporter": "python",
   "pygments_lexer": "ipython3",
   "version": "3.10.14"
  }
 },
 "nbformat": 4,
 "nbformat_minor": 2
}
