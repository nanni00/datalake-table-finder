{
 "cells": [
  {
   "cell_type": "code",
   "execution_count": 1,
   "metadata": {},
   "outputs": [],
   "source": [
    "import polars as pl\n",
    "\n",
    "from code.utils.utils import get_int_from_\n",
    "from code.utils.settings import DefaultPath"
   ]
  },
  {
   "cell_type": "markdown",
   "metadata": {},
   "source": [
    "Ora ho i risultati di JOSIE-top3 in formato csv 'set_id,s1,o1,s2,o2,s3,o3', voglio andare a ottenere un qualcosa del tipo 'l_id,r_id,o' e raggruppare le coppie così ottenute per l'overlap, con intervali tipo [1,10), [10,50),[50,100)... e poi su questi intervalli vedo quali coppie hanno il corrispetivo nei risultati di SLOTH.\n",
    "\n",
    "Su queste coppie poi si possono fare meglio delle considerazioni sulla similarità data dagli embedding anche, perché è rimosso (?) il bias della Jaccard similarity."
   ]
  },
  {
   "cell_type": "code",
   "execution_count": 2,
   "metadata": {},
   "outputs": [],
   "source": [
    "n = 10000"
   ]
  },
  {
   "cell_type": "code",
   "execution_count": 3,
   "metadata": {},
   "outputs": [],
   "source": [
    "id_table_file = DefaultPath.josie_stuff_path.base + f'josie-test-{n}/id_table.csv'\n",
    "id_conversion_table = pl.read_csv(id_table_file)\n",
    "sloth_results = pl.scan_csv(DefaultPath.data_path.wikitables + 'threshold-r5-c2-a50/sloth-results-r5-c2-a50.csv')\n",
    "\n",
    "josie_ids, sloth_ids = list(id_conversion_table.to_dict(as_series=False).values())"
   ]
  },
  {
   "cell_type": "code",
   "execution_count": 4,
   "metadata": {},
   "outputs": [],
   "source": [
    "converter = {j: s for j, s in zip(josie_ids, sloth_ids)}"
   ]
  },
  {
   "cell_type": "code",
   "execution_count": 5,
   "metadata": {},
   "outputs": [
    {
     "data": {
      "text/html": [
       "<div><style>\n",
       ".dataframe > thead > tr,\n",
       ".dataframe > tbody > tr {\n",
       "  text-align: right;\n",
       "  white-space: pre-wrap;\n",
       "}\n",
       "</style>\n",
       "<small>shape: (29_415, 3)</small><table border=\"1\" class=\"dataframe\"><thead><tr><th>r_id</th><th>s_id</th><th>overlap</th></tr><tr><td>str</td><td>str</td><td>i64</td></tr></thead><tbody><tr><td>&quot;24216428-1&quot;</td><td>&quot;9996355-1&quot;</td><td>20</td></tr><tr><td>&quot;24216428-1&quot;</td><td>&quot;24216428-2&quot;</td><td>19</td></tr><tr><td>&quot;24216428-1&quot;</td><td>&quot;20010164-2&quot;</td><td>11</td></tr><tr><td>&quot;9650855-2&quot;</td><td>&quot;9612244-2&quot;</td><td>27</td></tr><tr><td>&quot;9650855-2&quot;</td><td>&quot;9628519-2&quot;</td><td>27</td></tr><tr><td>&hellip;</td><td>&hellip;</td><td>&hellip;</td></tr><tr><td>&quot;22194385-2&quot;</td><td>&quot;16475656-2&quot;</td><td>2</td></tr><tr><td>&quot;22194385-2&quot;</td><td>&quot;22179947-1&quot;</td><td>2</td></tr><tr><td>&quot;22194841-2&quot;</td><td>&quot;22194359-1&quot;</td><td>3</td></tr><tr><td>&quot;22194841-2&quot;</td><td>&quot;22179933-2&quot;</td><td>3</td></tr><tr><td>&quot;22194841-2&quot;</td><td>&quot;22194805-1&quot;</td><td>3</td></tr></tbody></table></div>"
      ],
      "text/plain": [
       "shape: (29_415, 3)\n",
       "┌────────────┬────────────┬─────────┐\n",
       "│ r_id       ┆ s_id       ┆ overlap │\n",
       "│ ---        ┆ ---        ┆ ---     │\n",
       "│ str        ┆ str        ┆ i64     │\n",
       "╞════════════╪════════════╪═════════╡\n",
       "│ 24216428-1 ┆ 9996355-1  ┆ 20      │\n",
       "│ 24216428-1 ┆ 24216428-2 ┆ 19      │\n",
       "│ 24216428-1 ┆ 20010164-2 ┆ 11      │\n",
       "│ 9650855-2  ┆ 9612244-2  ┆ 27      │\n",
       "│ 9650855-2  ┆ 9628519-2  ┆ 27      │\n",
       "│ …          ┆ …          ┆ …       │\n",
       "│ 22194385-2 ┆ 16475656-2 ┆ 2       │\n",
       "│ 22194385-2 ┆ 22179947-1 ┆ 2       │\n",
       "│ 22194841-2 ┆ 22194359-1 ┆ 3       │\n",
       "│ 22194841-2 ┆ 22179933-2 ┆ 3       │\n",
       "│ 22194841-2 ┆ 22194805-1 ┆ 3       │\n",
       "└────────────┴────────────┴─────────┘"
      ]
     },
     "execution_count": 5,
     "metadata": {},
     "output_type": "execute_result"
    }
   ],
   "source": [
    "def split_numbers(s):\n",
    "    nums = get_int_from_(s)\n",
    "    ids = [nums[0], nums[2], nums[4]]\n",
    "    ovs = [nums[1], nums[3], nums[5]]\n",
    "\n",
    "    return [ids, ovs]\n",
    "\n",
    "josie_results = pl.scan_csv(DefaultPath.josie_stuff_path.base + f'josie-test-{n}/result_k_3.csv')\n",
    "pairs = pl.LazyFrame(schema=['r_id', 's_id', 'overlap'])\n",
    "\n",
    "josie_results = josie_results \\\n",
    "    .select(['query_id', 'results']) \\\n",
    "        .with_columns(\n",
    "            pl.col('results') \\\n",
    "                .map_elements(split_numbers, pl.List(pl.List(pl.Int64)))\n",
    "            ) \\\n",
    "                .with_columns(pl.col('results').list.to_struct()) \\\n",
    "                    .unnest('results') \\\n",
    "                        .explode('field_0', 'field_1') \\\n",
    "                            .collect()               \n",
    "\n",
    "# josie_results.columns = ['r_id', 's_id', 'overlap']\n",
    "# josie_results = josie_results \\\n",
    "#     .drop_nulls() \\\n",
    "#         .select(\n",
    "#             pl.when(pl.col('r_id') < pl.col('s_id')).then(pl.col('s_id')).otherwise(pl.col('r_id')),\n",
    "#             pl.when(pl.col('r_id') < pl.col('s_id')).then(pl.col('r_id')).otherwise(pl.col('s_id')),\n",
    "#             pl.col('overlap')    \n",
    "#         )\n",
    "# josie_results = josie_results.unique(subset=['r_id', 's_id']).sort('overlap')\n",
    "\n",
    "josie_results = josie_results.drop_nulls().map_rows(lambda t: (converter[t[0]], converter[t[1]], t[2]))\n",
    "josie_results.columns = ['r_id', 's_id', 'overlap']\n",
    "josie_results"
   ]
  },
  {
   "cell_type": "code",
   "execution_count": 9,
   "metadata": {},
   "outputs": [
    {
     "data": {
      "text/html": [
       "<div><style>\n",
       ".dataframe > thead > tr,\n",
       ".dataframe > tbody > tr {\n",
       "  text-align: right;\n",
       "  white-space: pre-wrap;\n",
       "}\n",
       "</style>\n",
       "<small>shape: (3_190, 6)</small><table border=\"1\" class=\"dataframe\"><thead><tr><th>r_id</th><th>s_id</th><th>overlap</th><th>jsim</th><th>o_a</th><th>a%</th></tr><tr><td>str</td><td>str</td><td>i64</td><td>f64</td><td>i64</td><td>f64</td></tr></thead><tbody><tr><td>&quot;23797865-1&quot;</td><td>&quot;23797865-6&quot;</td><td>2</td><td>0.724138</td><td>64</td><td>0.888889</td></tr><tr><td>&quot;23797865-1&quot;</td><td>&quot;23797865-7&quot;</td><td>2</td><td>0.724138</td><td>64</td><td>0.888889</td></tr><tr><td>&quot;16475648-3&quot;</td><td>&quot;16475656-2&quot;</td><td>3</td><td>1.0</td><td>56</td><td>1.0</td></tr><tr><td>&quot;23797865-2&quot;</td><td>&quot;23797865-3&quot;</td><td>3</td><td>0.814815</td><td>64</td><td>0.888889</td></tr><tr><td>&quot;30992319-2&quot;</td><td>&quot;30992337-2&quot;</td><td>4</td><td>1.0</td><td>76</td><td>1.0</td></tr><tr><td>&hellip;</td><td>&hellip;</td><td>&hellip;</td><td>&hellip;</td><td>&hellip;</td><td>&hellip;</td></tr><tr><td>&quot;16517223-1&quot;</td><td>&quot;16559174-1&quot;</td><td>765</td><td>0.81258</td><td>1190</td><td>0.449735</td></tr><tr><td>&quot;16559174-1&quot;</td><td>&quot;16682980-1&quot;</td><td>795</td><td>0.842894</td><td>1465</td><td>0.549925</td></tr><tr><td>&quot;16519520-1&quot;</td><td>&quot;16559174-1&quot;</td><td>803</td><td>0.867637</td><td>1345</td><td>0.51063</td></tr><tr><td>&quot;16682980-1&quot;</td><td>&quot;16717744-1&quot;</td><td>808</td><td>0.863576</td><td>1590</td><td>0.600907</td></tr><tr><td>&quot;16517223-1&quot;</td><td>&quot;16519520-1&quot;</td><td>840</td><td>0.915589</td><td>1640</td><td>0.622627</td></tr></tbody></table></div>"
      ],
      "text/plain": [
       "shape: (3_190, 6)\n",
       "┌────────────┬────────────┬─────────┬──────────┬──────┬──────────┐\n",
       "│ r_id       ┆ s_id       ┆ overlap ┆ jsim     ┆ o_a  ┆ a%       │\n",
       "│ ---        ┆ ---        ┆ ---     ┆ ---      ┆ ---  ┆ ---      │\n",
       "│ str        ┆ str        ┆ i64     ┆ f64      ┆ i64  ┆ f64      │\n",
       "╞════════════╪════════════╪═════════╪══════════╪══════╪══════════╡\n",
       "│ 23797865-1 ┆ 23797865-6 ┆ 2       ┆ 0.724138 ┆ 64   ┆ 0.888889 │\n",
       "│ 23797865-1 ┆ 23797865-7 ┆ 2       ┆ 0.724138 ┆ 64   ┆ 0.888889 │\n",
       "│ 16475648-3 ┆ 16475656-2 ┆ 3       ┆ 1.0      ┆ 56   ┆ 1.0      │\n",
       "│ 23797865-2 ┆ 23797865-3 ┆ 3       ┆ 0.814815 ┆ 64   ┆ 0.888889 │\n",
       "│ 30992319-2 ┆ 30992337-2 ┆ 4       ┆ 1.0      ┆ 76   ┆ 1.0      │\n",
       "│ …          ┆ …          ┆ …       ┆ …        ┆ …    ┆ …        │\n",
       "│ 16517223-1 ┆ 16559174-1 ┆ 765     ┆ 0.81258  ┆ 1190 ┆ 0.449735 │\n",
       "│ 16559174-1 ┆ 16682980-1 ┆ 795     ┆ 0.842894 ┆ 1465 ┆ 0.549925 │\n",
       "│ 16519520-1 ┆ 16559174-1 ┆ 803     ┆ 0.867637 ┆ 1345 ┆ 0.51063  │\n",
       "│ 16682980-1 ┆ 16717744-1 ┆ 808     ┆ 0.863576 ┆ 1590 ┆ 0.600907 │\n",
       "│ 16517223-1 ┆ 16519520-1 ┆ 840     ┆ 0.915589 ┆ 1640 ┆ 0.622627 │\n",
       "└────────────┴────────────┴─────────┴──────────┴──────┴──────────┘"
      ]
     },
     "execution_count": 9,
     "metadata": {},
     "output_type": "execute_result"
    }
   ],
   "source": [
    "josie_results.lazy().join(sloth_results, on=['r_id', 's_id']).collect().sort('overlap')"
   ]
  }
 ],
 "metadata": {
  "kernelspec": {
   "display_name": "tesi",
   "language": "python",
   "name": "python3"
  },
  "language_info": {
   "codemirror_mode": {
    "name": "ipython",
    "version": 3
   },
   "file_extension": ".py",
   "mimetype": "text/x-python",
   "name": "python",
   "nbconvert_exporter": "python",
   "pygments_lexer": "ipython3",
   "version": "3.10.12"
  }
 },
 "nbformat": 4,
 "nbformat_minor": 2
}
