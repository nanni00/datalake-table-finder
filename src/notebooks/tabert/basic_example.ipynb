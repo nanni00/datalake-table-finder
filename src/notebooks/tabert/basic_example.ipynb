{
 "cells": [
  {
   "cell_type": "code",
   "execution_count": 1,
   "metadata": {},
   "outputs": [
    {
     "name": "stderr",
     "output_type": "stream",
     "text": [
      "WARNING:root:You are using the old version of `pytorch_pretrained_bert`\n",
      "100%|██████████| 231508/231508 [00:00<00:00, 569611.12B/s]\n",
      "100%|██████████| 407873900/407873900 [01:59<00:00, 3424299.71B/s]\n"
     ]
    }
   ],
   "source": [
    "from table_bert import TableBertModel\n",
    "\n",
    "model = TableBertModel.from_pretrained(\n",
    "    '/home/giovanni/unimore/TESI/TaBERT/pre-trained-models/tabert_base_k1/model.bin',\n",
    ")"
   ]
  },
  {
   "cell_type": "code",
   "execution_count": 2,
   "metadata": {},
   "outputs": [],
   "source": [
    "from table_bert import Table, Column\n",
    "\n",
    "table = Table(\n",
    "    id='List of countries by GDP (PPP)',\n",
    "    header=[\n",
    "        Column('Nation', 'text', sample_value='United States'),\n",
    "        Column('Gross Domestic Product', 'real', sample_value='21,439,453')\n",
    "    ],\n",
    "    data=[\n",
    "        ['United States', '21,439,453'],\n",
    "        ['China', '27,308,857'],\n",
    "        ['European Union', '22,774,165'],\n",
    "    ]\n",
    ").tokenize(model.tokenizer)\n",
    "\n",
    "# To visualize table in an IPython notebook:\n",
    "# display(table.to_data_frame(), detokenize=True)\n",
    "\n",
    "context = 'show me countries ranked by GDP'\n",
    "\n",
    "# model takes batched, tokenized inputs\n",
    "context_encoding, column_encoding, info_dict = model.encode(\n",
    "    contexts=[model.tokenizer.tokenize(context)],\n",
    "    tables=[table]\n",
    ")"
   ]
  },
  {
   "cell_type": "code",
   "execution_count": 27,
   "metadata": {},
   "outputs": [],
   "source": [
    "table2 = Table(\n",
    "    id='A basic list of country names',\n",
    "    header=[\n",
    "        Column('Country', 'text', sample_value='Italy'),\n",
    "    ],\n",
    "    data=[\n",
    "        ['Italy'],\n",
    "        ['India'],\n",
    "        ['Taiwan'],\n",
    "        ['Sweden'],\n",
    "        ['Angola']\n",
    "    ]\n",
    ").tokenize(model.tokenizer)\n",
    "\n",
    "context2 = 'show me countries alphabetically ordered'\n",
    "\n",
    "context_encoding2, column_encoding2, info_dict2 = model.encode(\n",
    "    contexts=[model.tokenizer.tokenize(context2)],\n",
    "    tables=[table2]\n",
    ")"
   ]
  },
  {
   "cell_type": "code",
   "execution_count": 4,
   "metadata": {},
   "outputs": [
    {
     "data": {
      "text/plain": [
       "(torch.Size([1, 7, 768]), torch.Size([1, 7, 768]))"
      ]
     },
     "execution_count": 4,
     "metadata": {},
     "output_type": "execute_result"
    }
   ],
   "source": [
    "context_encoding.shape, context_encoding2.shape"
   ]
  },
  {
   "cell_type": "code",
   "execution_count": 5,
   "metadata": {},
   "outputs": [
    {
     "data": {
      "text/plain": [
       "(torch.Size([1, 2, 768]), torch.Size([1, 1, 768]))"
      ]
     },
     "execution_count": 5,
     "metadata": {},
     "output_type": "execute_result"
    }
   ],
   "source": [
    "column_encoding.shape, column_encoding2.shape"
   ]
  },
  {
   "cell_type": "code",
   "execution_count": 29,
   "metadata": {},
   "outputs": [
    {
     "name": "stdout",
     "output_type": "stream",
     "text": [
      "Cosine similarity between country names columns = \n"
     ]
    },
    {
     "data": {
      "text/plain": [
       "tensor(0.7882)"
      ]
     },
     "execution_count": 29,
     "metadata": {},
     "output_type": "execute_result"
    }
   ],
   "source": [
    "import torch\n",
    "\n",
    "cos = torch.nn.CosineSimilarity(dim=0)\n",
    "print('Cosine similarity between country names columns = ')\n",
    "cos(column_encoding[0, 0, :], column_encoding2[0, 0, :]).data"
   ]
  },
  {
   "cell_type": "code",
   "execution_count": 30,
   "metadata": {},
   "outputs": [
    {
     "name": "stdout",
     "output_type": "stream",
     "text": [
      "Cosine similarity(GDP, country names) = \n"
     ]
    },
    {
     "data": {
      "text/plain": [
       "tensor(0.6661)"
      ]
     },
     "execution_count": 30,
     "metadata": {},
     "output_type": "execute_result"
    }
   ],
   "source": [
    "print('Cosine similarity(GDP, country names) = ')\n",
    "cos(column_encoding[0, 1, :], column_encoding2[0, 0, :]).data"
   ]
  },
  {
   "cell_type": "code",
   "execution_count": 39,
   "metadata": {},
   "outputs": [],
   "source": [
    "table3 = Table(\n",
    "    id='A list of character names',\n",
    "    header=[\n",
    "        Column('Character', 'text', sample_value='Pluto'),\n",
    "    ],\n",
    "    data=[\n",
    "        ['Minnie'],\n",
    "        ['Snoopy'],\n",
    "        ['Cattivik'],\n",
    "        ['Spongebob'],\n",
    "        ['It'],\n",
    "        ['Pluto']\n",
    "    ]\n",
    ").tokenize(model.tokenizer)\n",
    "\n",
    "context3 = 'show me the shortest name'\n",
    "\n",
    "context_encoding3, column_encoding3, info_dict3 = model.encode(\n",
    "    contexts=[model.tokenizer.tokenize(context3)],\n",
    "    tables=[table3]\n",
    ")"
   ]
  },
  {
   "cell_type": "code",
   "execution_count": 37,
   "metadata": {},
   "outputs": [
    {
     "data": {
      "text/plain": [
       "torch.Size([1, 7, 768])"
      ]
     },
     "execution_count": 37,
     "metadata": {},
     "output_type": "execute_result"
    }
   ],
   "source": [
    "context_encoding3.shape"
   ]
  },
  {
   "cell_type": "code",
   "execution_count": 41,
   "metadata": {},
   "outputs": [
    {
     "name": "stdout",
     "output_type": "stream",
     "text": [
      "Cosine similarity(GDP, character names) = \n"
     ]
    },
    {
     "data": {
      "text/plain": [
       "tensor(0.6278)"
      ]
     },
     "execution_count": 41,
     "metadata": {},
     "output_type": "execute_result"
    }
   ],
   "source": [
    "print('Cosine similarity(GDP, character names) = ')\n",
    "cos(column_encoding[0, 1, :], column_encoding3[0, 0, :]).data"
   ]
  }
 ],
 "metadata": {
  "kernelspec": {
   "display_name": "tabert",
   "language": "python",
   "name": "python3"
  },
  "language_info": {
   "codemirror_mode": {
    "name": "ipython",
    "version": 3
   },
   "file_extension": ".py",
   "mimetype": "text/x-python",
   "name": "python",
   "nbconvert_exporter": "python",
   "pygments_lexer": "ipython3",
   "version": "3.6.13"
  }
 },
 "nbformat": 4,
 "nbformat_minor": 2
}
