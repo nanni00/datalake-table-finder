{
 "cells": [
  {
   "cell_type": "code",
   "execution_count": 1,
   "metadata": {},
   "outputs": [
    {
     "name": "stderr",
     "output_type": "stream",
     "text": [
      "WARNING:root:You are using the old version of `pytorch_pretrained_bert`\n"
     ]
    }
   ],
   "source": [
    "from table_bert import TableBertModel\n",
    "\n",
    "model = TableBertModel.from_pretrained(\n",
    "    '/home/giovanni/unimore/TESI/TaBERT/pre-trained-models/tabert_base_k3/model.bin',\n",
    ")"
   ]
  },
  {
   "cell_type": "code",
   "execution_count": 3,
   "metadata": {},
   "outputs": [],
   "source": [
    "from table_bert import Table, Column\n",
    "\n",
    "table = Table(\n",
    "    id='List of countries by GDP (PPP)',\n",
    "    header=[\n",
    "        Column('Nation', 'text', sample_value='United States'),\n",
    "        Column('Gross Domestic Product', 'real', sample_value='21,439,453')\n",
    "    ],\n",
    "    data=[\n",
    "        ['United States', '21,439,453'],\n",
    "        ['China', '27,308,857'],\n",
    "        ['European Union', '22,774,165'],\n",
    "    ]\n",
    ").tokenize(model.tokenizer)\n",
    "\n",
    "# To visualize table in an IPython notebook:\n",
    "# display(table.to_data_frame(), detokenize=True)\n",
    "\n",
    "context = 'show me countries ranked by GDP'\n",
    "\n",
    "# model takes batched, tokenized inputs\n",
    "context_encoding, column_encoding, info_dict = model.encode(\n",
    "    contexts=[model.tokenizer.tokenize(context)],\n",
    "    tables=[table]\n",
    ")"
   ]
  },
  {
   "cell_type": "code",
   "execution_count": 4,
   "metadata": {},
   "outputs": [],
   "source": [
    "table2 = Table(\n",
    "    id='List of comix',\n",
    "    header=[\n",
    "        Column('Name', 'text', sample_value='Mafalda'),\n",
    "        Column('Author', 'real', sample_value='Quino')\n",
    "    ],\n",
    "    data=[\n",
    "        ['Mafalda', 'Quino'],\n",
    "        ['The Peanuts', 'Charles M. Schulz'],\n",
    "        ['Spiderman', 'Stan Lee'],\n",
    "    ]\n",
    ").tokenize(model.tokenizer)\n",
    "\n",
    "# To visualize table in an IPython notebook:\n",
    "# display(table.to_data_frame(), detokenize=True)\n",
    "\n",
    "context2 = 'show me countries in alphabetical order'\n",
    "\n",
    "context_encoding2, column_encoding2, info_dict2 = model.encode(\n",
    "    contexts=[model.tokenizer.tokenize(context2)],\n",
    "    tables=[table2]\n",
    ")"
   ]
  },
  {
   "cell_type": "code",
   "execution_count": 5,
   "metadata": {},
   "outputs": [
    {
     "data": {
      "text/plain": [
       "(torch.Size([1, 2, 768]), torch.Size([1, 2, 768]))"
      ]
     },
     "execution_count": 5,
     "metadata": {},
     "output_type": "execute_result"
    }
   ],
   "source": [
    "column_encoding.shape, column_encoding2.shape"
   ]
  },
  {
   "cell_type": "code",
   "execution_count": 6,
   "metadata": {},
   "outputs": [],
   "source": [
    "nation_emb, gdp_emb = column_encoding[0, 0, :], column_encoding[0, 1, :]\n",
    "comix_emb, author_emb = column_encoding2[0, 0, :], column_encoding2[0, 1, :]"
   ]
  },
  {
   "cell_type": "code",
   "execution_count": 7,
   "metadata": {},
   "outputs": [],
   "source": [
    "import torch\n",
    "cosim = torch.nn.CosineSimilarity(dim=0)"
   ]
  },
  {
   "cell_type": "code",
   "execution_count": 11,
   "metadata": {},
   "outputs": [
    {
     "data": {
      "text/plain": [
       "0.7505868673324585"
      ]
     },
     "execution_count": 11,
     "metadata": {},
     "output_type": "execute_result"
    }
   ],
   "source": [
    "float(cosim(nation_emb, gdp_emb))"
   ]
  },
  {
   "cell_type": "code",
   "execution_count": 9,
   "metadata": {},
   "outputs": [
    {
     "data": {
      "text/plain": [
       "0.7814876437187195"
      ]
     },
     "execution_count": 9,
     "metadata": {},
     "output_type": "execute_result"
    }
   ],
   "source": [
    "float(cosim(nation_emb, comix_emb))"
   ]
  },
  {
   "cell_type": "code",
   "execution_count": 10,
   "metadata": {},
   "outputs": [
    {
     "data": {
      "text/plain": [
       "0.9396275877952576"
      ]
     },
     "execution_count": 10,
     "metadata": {},
     "output_type": "execute_result"
    }
   ],
   "source": [
    "float(cosim(comix_emb, author_emb))"
   ]
  },
  {
   "cell_type": "code",
   "execution_count": null,
   "metadata": {},
   "outputs": [],
   "source": []
  }
 ],
 "metadata": {
  "kernelspec": {
   "display_name": "tabert",
   "language": "python",
   "name": "python3"
  },
  "language_info": {
   "codemirror_mode": {
    "name": "ipython",
    "version": 3
   },
   "file_extension": ".py",
   "mimetype": "text/x-python",
   "name": "python",
   "nbconvert_exporter": "python",
   "pygments_lexer": "ipython3",
   "version": "3.6.13"
  }
 },
 "nbformat": 4,
 "nbformat_minor": 2
}
