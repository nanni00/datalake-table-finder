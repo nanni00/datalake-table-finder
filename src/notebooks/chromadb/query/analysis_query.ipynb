{
 "cells": [
  {
   "cell_type": "code",
   "execution_count": 45,
   "metadata": {},
   "outputs": [],
   "source": [
    "import chromadb\n",
    "import time\n",
    "\n",
    "import jsonlines\n",
    "from tqdm.notebook import tqdm\n",
    "from collections import defaultdict\n",
    "\n",
    "import polars as pl\n",
    "import pandas as pd\n",
    "import numpy as np\n",
    "\n",
    "from code.fasttext.embedding_utils import TableEncoder\n",
    "from code.utils.utils import rebuild_table\n",
    "from code.utils.settings import DefaultPath"
   ]
  },
  {
   "cell_type": "code",
   "execution_count": 7,
   "metadata": {},
   "outputs": [],
   "source": [
    "tabenc = TableEncoder ()"
   ]
  },
  {
   "cell_type": "code",
   "execution_count": 10,
   "metadata": {},
   "outputs": [
    {
     "data": {
      "text/plain": [
       "[Collection(name=rows), Collection(name=columns)]"
      ]
     },
     "execution_count": 10,
     "metadata": {},
     "output_type": "execute_result"
    }
   ],
   "source": [
    "chroma_client = chromadb.PersistentClient(\n",
    "    DefaultPath.db_path.chroma + 'double_collection_v1/' + 'v_35_50000_add_label_True_with_metadatas_True'\n",
    "    )\n",
    "chroma_client.list_collections()"
   ]
  },
  {
   "cell_type": "code",
   "execution_count": 11,
   "metadata": {},
   "outputs": [],
   "source": [
    "row_collection = chroma_client.get_collection('rows')\n",
    "column_collection = chroma_client.get_collection('columns')"
   ]
  },
  {
   "cell_type": "code",
   "execution_count": 9,
   "metadata": {},
   "outputs": [],
   "source": [
    "sloth_tables = {json_table['_id']: rebuild_table(json_table) \n",
    "             for i, json_table in enumerate(jsonlines.open(DefaultPath.data_path.wikitables + 'sloth_tables.jsonl'))\n",
    "             if i < 50000}"
   ]
  },
  {
   "cell_type": "code",
   "execution_count": 128,
   "metadata": {},
   "outputs": [],
   "source": [
    "sloth_results = pl.read_csv(DefaultPath.data_path.wikitables + 'train_set_turl_malaguti.csv') \\\n",
    "                    .sort(by=['o_a', 'jsim', 'a%'], descending=[True, True, True])"
   ]
  },
  {
   "cell_type": "code",
   "execution_count": 129,
   "metadata": {},
   "outputs": [
    {
     "data": {
      "text/html": [
       "<div><style>\n",
       ".dataframe > thead > tr,\n",
       ".dataframe > tbody > tr {\n",
       "  text-align: right;\n",
       "  white-space: pre-wrap;\n",
       "}\n",
       "</style>\n",
       "<small>shape: (5, 5)</small><table border=\"1\" class=\"dataframe\"><thead><tr><th>r_id</th><th>s_id</th><th>jsim</th><th>o_a</th><th>a%</th></tr><tr><td>str</td><td>str</td><td>f64</td><td>i64</td><td>f64</td></tr></thead><tbody><tr><td>&quot;12158330-1&quot;</td><td>&quot;3341919-1&quot;</td><td>0.965971</td><td>3036</td><td>0.932432</td></tr><tr><td>&quot;30210174-4&quot;</td><td>&quot;6897174-2&quot;</td><td>1.0</td><td>2646</td><td>1.0</td></tr><tr><td>&quot;6374194-6&quot;</td><td>&quot;6374194-7&quot;</td><td>0.783883</td><td>2142</td><td>0.468197</td></tr><tr><td>&quot;14342092-1&quot;</td><td>&quot;37953453-1&quot;</td><td>0.55753</td><td>1778</td><td>0.958491</td></tr><tr><td>&quot;16517223-1&quot;</td><td>&quot;16519520-1&quot;</td><td>0.915589</td><td>1640</td><td>0.622627</td></tr></tbody></table></div>"
      ],
      "text/plain": [
       "shape: (5, 5)\n",
       "┌────────────┬────────────┬──────────┬──────┬──────────┐\n",
       "│ r_id       ┆ s_id       ┆ jsim     ┆ o_a  ┆ a%       │\n",
       "│ ---        ┆ ---        ┆ ---      ┆ ---  ┆ ---      │\n",
       "│ str        ┆ str        ┆ f64      ┆ i64  ┆ f64      │\n",
       "╞════════════╪════════════╪══════════╪══════╪══════════╡\n",
       "│ 12158330-1 ┆ 3341919-1  ┆ 0.965971 ┆ 3036 ┆ 0.932432 │\n",
       "│ 30210174-4 ┆ 6897174-2  ┆ 1.0      ┆ 2646 ┆ 1.0      │\n",
       "│ 6374194-6  ┆ 6374194-7  ┆ 0.783883 ┆ 2142 ┆ 0.468197 │\n",
       "│ 14342092-1 ┆ 37953453-1 ┆ 0.55753  ┆ 1778 ┆ 0.958491 │\n",
       "│ 16517223-1 ┆ 16519520-1 ┆ 0.915589 ┆ 1640 ┆ 0.622627 │\n",
       "└────────────┴────────────┴──────────┴──────┴──────────┘"
      ]
     },
     "execution_count": 129,
     "metadata": {},
     "output_type": "execute_result"
    }
   ],
   "source": [
    "sloth_results.head()"
   ]
  },
  {
   "cell_type": "markdown",
   "metadata": {},
   "source": [
    "## Test: Identical tables"
   ]
  },
  {
   "cell_type": "code",
   "execution_count": 102,
   "metadata": {},
   "outputs": [
    {
     "name": "stdout",
     "output_type": "stream",
     "text": [
      "True\n"
     ]
    },
    {
     "data": {
      "text/html": [
       "<div><style>\n",
       ".dataframe > thead > tr,\n",
       ".dataframe > tbody > tr {\n",
       "  text-align: right;\n",
       "  white-space: pre-wrap;\n",
       "}\n",
       "</style>\n",
       "<small>shape: (1, 5)</small><table border=\"1\" class=\"dataframe\"><thead><tr><th>r_id</th><th>s_id</th><th>jsim</th><th>o_a</th><th>a%</th></tr><tr><td>str</td><td>str</td><td>f64</td><td>i64</td><td>f64</td></tr></thead><tbody><tr><td>&quot;30210174-4&quot;</td><td>&quot;6897174-2&quot;</td><td>1.0</td><td>2646</td><td>1.0</td></tr></tbody></table></div>"
      ],
      "text/plain": [
       "shape: (1, 5)\n",
       "┌────────────┬───────────┬──────┬──────┬─────┐\n",
       "│ r_id       ┆ s_id      ┆ jsim ┆ o_a  ┆ a%  │\n",
       "│ ---        ┆ ---       ┆ ---  ┆ ---  ┆ --- │\n",
       "│ str        ┆ str       ┆ f64  ┆ i64  ┆ f64 │\n",
       "╞════════════╪═══════════╪══════╪══════╪═════╡\n",
       "│ 30210174-4 ┆ 6897174-2 ┆ 1.0  ┆ 2646 ┆ 1.0 │\n",
       "└────────────┴───────────┴──────┴──────┴─────┘"
      ]
     },
     "execution_count": 102,
     "metadata": {},
     "output_type": "execute_result"
    }
   ],
   "source": [
    "idx_row = 1\n",
    "print(sloth_results[idx_row]['r_id'].item() in sloth_tables.keys() and sloth_results[idx_row]['s_id'].item() in sloth_tables.keys())\n",
    "sloth_results[idx_row]"
   ]
  },
  {
   "cell_type": "code",
   "execution_count": 40,
   "metadata": {},
   "outputs": [],
   "source": [
    "sloth_result_rec = sloth_results[1]\n",
    "r_id = sloth_result_rec['r_id'].item()\n",
    "s_id = sloth_result_rec['s_id'].item()\n",
    "r_table = sloth_tables[r_id]\n",
    "s_table = sloth_tables[s_id]\n",
    "\n",
    "r_row_embeddings, r_column_embeddings = tabenc.full_embedding(r_table, True)\n",
    "r_row_embeddings.shape, r_column_embeddings.shape "
   ]
  },
  {
   "cell_type": "code",
   "execution_count": 41,
   "metadata": {},
   "outputs": [
    {
     "data": {
      "text/html": [
       "<div>\n",
       "<style scoped>\n",
       "    .dataframe tbody tr th:only-of-type {\n",
       "        vertical-align: middle;\n",
       "    }\n",
       "\n",
       "    .dataframe tbody tr th {\n",
       "        vertical-align: top;\n",
       "    }\n",
       "\n",
       "    .dataframe thead th {\n",
       "        text-align: right;\n",
       "    }\n",
       "</style>\n",
       "<table border=\"1\" class=\"dataframe\">\n",
       "  <thead>\n",
       "    <tr style=\"text-align: right;\">\n",
       "      <th></th>\n",
       "      <th>AC #</th>\n",
       "      <th>Assembly Constituency Name</th>\n",
       "      <th>Reserved for</th>\n",
       "      <th>District</th>\n",
       "      <th>Winner</th>\n",
       "      <th>No. of Votes</th>\n",
       "      <th>% of Votes</th>\n",
       "      <th>Party</th>\n",
       "      <th>Party</th>\n",
       "    </tr>\n",
       "  </thead>\n",
       "  <tbody>\n",
       "    <tr>\n",
       "      <th>0</th>\n",
       "      <td>1</td>\n",
       "      <td>Mekliganj</td>\n",
       "      <td>Scheduled Caste</td>\n",
       "      <td>Cooch Behar</td>\n",
       "      <td>Paresh Chandra Adhikari</td>\n",
       "      <td>72,040</td>\n",
       "      <td>48.88%</td>\n",
       "      <td></td>\n",
       "      <td>All India Forward Bloc</td>\n",
       "    </tr>\n",
       "    <tr>\n",
       "      <th>1</th>\n",
       "      <td>2</td>\n",
       "      <td>Mathabhanga</td>\n",
       "      <td>Scheduled Caste</td>\n",
       "      <td>Cooch Behar</td>\n",
       "      <td>Binay Krishna Barman</td>\n",
       "      <td>78,249</td>\n",
       "      <td>46.45%</td>\n",
       "      <td></td>\n",
       "      <td>All India Trinamool Congress</td>\n",
       "    </tr>\n",
       "    <tr>\n",
       "      <th>2</th>\n",
       "      <td>3</td>\n",
       "      <td>Cooch Behar Uttar</td>\n",
       "      <td>Scheduled Caste</td>\n",
       "      <td>Cooch Behar</td>\n",
       "      <td>Nagendra Nath Roy</td>\n",
       "      <td>84,825</td>\n",
       "      <td>45.11%</td>\n",
       "      <td></td>\n",
       "      <td>All India Forward Bloc</td>\n",
       "    </tr>\n",
       "    <tr>\n",
       "      <th>3</th>\n",
       "      <td>4</td>\n",
       "      <td>Cooch Behar Dakshin</td>\n",
       "      <td>N/A</td>\n",
       "      <td>Cooch Behar</td>\n",
       "      <td>Akshay Thakur</td>\n",
       "      <td>72,028</td>\n",
       "      <td>47.04%</td>\n",
       "      <td></td>\n",
       "      <td>All India Forward Bloc</td>\n",
       "    </tr>\n",
       "    <tr>\n",
       "      <th>4</th>\n",
       "      <td>5</td>\n",
       "      <td>Sitalkuchi</td>\n",
       "      <td>Scheduled Caste</td>\n",
       "      <td>Cooch Behar</td>\n",
       "      <td>Hiten Barman</td>\n",
       "      <td>84,651</td>\n",
       "      <td>44.21%</td>\n",
       "      <td></td>\n",
       "      <td>All India Trinamool Congress</td>\n",
       "    </tr>\n",
       "    <tr>\n",
       "      <th>...</th>\n",
       "      <td>...</td>\n",
       "      <td>...</td>\n",
       "      <td>...</td>\n",
       "      <td>...</td>\n",
       "      <td>...</td>\n",
       "      <td>...</td>\n",
       "      <td>...</td>\n",
       "      <td>...</td>\n",
       "      <td>...</td>\n",
       "    </tr>\n",
       "    <tr>\n",
       "      <th>289</th>\n",
       "      <td>290</td>\n",
       "      <td>Mayureswar</td>\n",
       "      <td>N/A</td>\n",
       "      <td>Birbhum</td>\n",
       "      <td>Asoke Roy</td>\n",
       "      <td>67,478</td>\n",
       "      <td>42.31%</td>\n",
       "      <td></td>\n",
       "      <td>Communist Party of India (Marxist)</td>\n",
       "    </tr>\n",
       "    <tr>\n",
       "      <th>290</th>\n",
       "      <td>291</td>\n",
       "      <td>Rampurhat</td>\n",
       "      <td>N/A</td>\n",
       "      <td>Birbhum</td>\n",
       "      <td>Asish Banerjee</td>\n",
       "      <td>75,066</td>\n",
       "      <td>45.79%</td>\n",
       "      <td></td>\n",
       "      <td>All India Trinamool Congress</td>\n",
       "    </tr>\n",
       "    <tr>\n",
       "      <th>291</th>\n",
       "      <td>292</td>\n",
       "      <td>Hansan</td>\n",
       "      <td>N/A</td>\n",
       "      <td>Birbhum</td>\n",
       "      <td>Asit Mal</td>\n",
       "      <td>73,370</td>\n",
       "      <td>46.72%</td>\n",
       "      <td></td>\n",
       "      <td>Indian National Congress</td>\n",
       "    </tr>\n",
       "    <tr>\n",
       "      <th>292</th>\n",
       "      <td>293</td>\n",
       "      <td>Nalhati</td>\n",
       "      <td>N/A</td>\n",
       "      <td>Birbhum</td>\n",
       "      <td>Abhijit Mukherjee</td>\n",
       "      <td>76,047</td>\n",
       "      <td>49.02%</td>\n",
       "      <td></td>\n",
       "      <td>Indian National Congress</td>\n",
       "    </tr>\n",
       "    <tr>\n",
       "      <th>293</th>\n",
       "      <td>294</td>\n",
       "      <td>Murarai</td>\n",
       "      <td>N/A</td>\n",
       "      <td>Birbhum</td>\n",
       "      <td>Noor Alam Chowdhury</td>\n",
       "      <td>77,817</td>\n",
       "      <td>47.75%</td>\n",
       "      <td></td>\n",
       "      <td>All India Trinamool Congress</td>\n",
       "    </tr>\n",
       "  </tbody>\n",
       "</table>\n",
       "<p>294 rows × 9 columns</p>\n",
       "</div>"
      ],
      "text/plain": [
       "    AC # Assembly Constituency Name  ... Party                               Party\n",
       "0      1                  Mekliganj  ...                    All India Forward Bloc\n",
       "1      2                Mathabhanga  ...              All India Trinamool Congress\n",
       "2      3          Cooch Behar Uttar  ...                    All India Forward Bloc\n",
       "3      4        Cooch Behar Dakshin  ...                    All India Forward Bloc\n",
       "4      5                 Sitalkuchi  ...              All India Trinamool Congress\n",
       "..   ...                        ...  ...   ...                                 ...\n",
       "289  290                 Mayureswar  ...        Communist Party of India (Marxist)\n",
       "290  291                  Rampurhat  ...              All India Trinamool Congress\n",
       "291  292                     Hansan  ...                  Indian National Congress\n",
       "292  293                    Nalhati  ...                  Indian National Congress\n",
       "293  294                    Murarai  ...              All India Trinamool Congress\n",
       "\n",
       "[294 rows x 9 columns]"
      ]
     },
     "execution_count": 41,
     "metadata": {},
     "output_type": "execute_result"
    }
   ],
   "source": [
    "r_table"
   ]
  },
  {
   "cell_type": "code",
   "execution_count": 38,
   "metadata": {},
   "outputs": [
    {
     "data": {
      "text/html": [
       "<div>\n",
       "<style scoped>\n",
       "    .dataframe tbody tr th:only-of-type {\n",
       "        vertical-align: middle;\n",
       "    }\n",
       "\n",
       "    .dataframe tbody tr th {\n",
       "        vertical-align: top;\n",
       "    }\n",
       "\n",
       "    .dataframe thead th {\n",
       "        text-align: right;\n",
       "    }\n",
       "</style>\n",
       "<table border=\"1\" class=\"dataframe\">\n",
       "  <thead>\n",
       "    <tr style=\"text-align: right;\">\n",
       "      <th></th>\n",
       "      <th>AC #</th>\n",
       "      <th>Assembly Constituency Name</th>\n",
       "      <th>Reserved for</th>\n",
       "      <th>District</th>\n",
       "      <th>Winner</th>\n",
       "      <th>No. of Votes</th>\n",
       "      <th>% of Votes</th>\n",
       "      <th>Party</th>\n",
       "      <th>Party</th>\n",
       "    </tr>\n",
       "  </thead>\n",
       "  <tbody>\n",
       "    <tr>\n",
       "      <th>0</th>\n",
       "      <td>1</td>\n",
       "      <td>Mekliganj</td>\n",
       "      <td>Scheduled Caste</td>\n",
       "      <td>Cooch Behar</td>\n",
       "      <td>Paresh Chandra Adhikari</td>\n",
       "      <td>72,040</td>\n",
       "      <td>48.88%</td>\n",
       "      <td></td>\n",
       "      <td>All India Forward Bloc</td>\n",
       "    </tr>\n",
       "    <tr>\n",
       "      <th>1</th>\n",
       "      <td>2</td>\n",
       "      <td>Mathabhanga</td>\n",
       "      <td>Scheduled Caste</td>\n",
       "      <td>Cooch Behar</td>\n",
       "      <td>Binay Krishna Barman</td>\n",
       "      <td>78,249</td>\n",
       "      <td>46.45%</td>\n",
       "      <td></td>\n",
       "      <td>All India Trinamool Congress</td>\n",
       "    </tr>\n",
       "    <tr>\n",
       "      <th>2</th>\n",
       "      <td>3</td>\n",
       "      <td>Cooch Behar Uttar</td>\n",
       "      <td>Scheduled Caste</td>\n",
       "      <td>Cooch Behar</td>\n",
       "      <td>Nagendra Nath Roy</td>\n",
       "      <td>84,825</td>\n",
       "      <td>45.11%</td>\n",
       "      <td></td>\n",
       "      <td>All India Forward Bloc</td>\n",
       "    </tr>\n",
       "    <tr>\n",
       "      <th>3</th>\n",
       "      <td>4</td>\n",
       "      <td>Cooch Behar Dakshin</td>\n",
       "      <td>N/A</td>\n",
       "      <td>Cooch Behar</td>\n",
       "      <td>Akshay Thakur</td>\n",
       "      <td>72,028</td>\n",
       "      <td>47.04%</td>\n",
       "      <td></td>\n",
       "      <td>All India Forward Bloc</td>\n",
       "    </tr>\n",
       "    <tr>\n",
       "      <th>4</th>\n",
       "      <td>5</td>\n",
       "      <td>Sitalkuchi</td>\n",
       "      <td>Scheduled Caste</td>\n",
       "      <td>Cooch Behar</td>\n",
       "      <td>Hiten Barman</td>\n",
       "      <td>84,651</td>\n",
       "      <td>44.21%</td>\n",
       "      <td></td>\n",
       "      <td>All India Trinamool Congress</td>\n",
       "    </tr>\n",
       "    <tr>\n",
       "      <th>...</th>\n",
       "      <td>...</td>\n",
       "      <td>...</td>\n",
       "      <td>...</td>\n",
       "      <td>...</td>\n",
       "      <td>...</td>\n",
       "      <td>...</td>\n",
       "      <td>...</td>\n",
       "      <td>...</td>\n",
       "      <td>...</td>\n",
       "    </tr>\n",
       "    <tr>\n",
       "      <th>289</th>\n",
       "      <td>290</td>\n",
       "      <td>Mayureswar</td>\n",
       "      <td>N/A</td>\n",
       "      <td>Birbhum</td>\n",
       "      <td>Asoke Roy</td>\n",
       "      <td>67,478</td>\n",
       "      <td>42.31%</td>\n",
       "      <td></td>\n",
       "      <td>Communist Party of India (Marxist)</td>\n",
       "    </tr>\n",
       "    <tr>\n",
       "      <th>290</th>\n",
       "      <td>291</td>\n",
       "      <td>Rampurhat</td>\n",
       "      <td>N/A</td>\n",
       "      <td>Birbhum</td>\n",
       "      <td>Asish Banerjee</td>\n",
       "      <td>75,066</td>\n",
       "      <td>45.79%</td>\n",
       "      <td></td>\n",
       "      <td>All India Trinamool Congress</td>\n",
       "    </tr>\n",
       "    <tr>\n",
       "      <th>291</th>\n",
       "      <td>292</td>\n",
       "      <td>Hansan</td>\n",
       "      <td>N/A</td>\n",
       "      <td>Birbhum</td>\n",
       "      <td>Asit Mal</td>\n",
       "      <td>73,370</td>\n",
       "      <td>46.72%</td>\n",
       "      <td></td>\n",
       "      <td>Indian National Congress</td>\n",
       "    </tr>\n",
       "    <tr>\n",
       "      <th>292</th>\n",
       "      <td>293</td>\n",
       "      <td>Nalhati</td>\n",
       "      <td>N/A</td>\n",
       "      <td>Birbhum</td>\n",
       "      <td>Abhijit Mukherjee</td>\n",
       "      <td>76,047</td>\n",
       "      <td>49.02%</td>\n",
       "      <td></td>\n",
       "      <td>Indian National Congress</td>\n",
       "    </tr>\n",
       "    <tr>\n",
       "      <th>293</th>\n",
       "      <td>294</td>\n",
       "      <td>Murarai</td>\n",
       "      <td>N/A</td>\n",
       "      <td>Birbhum</td>\n",
       "      <td>Noor Alam Chowdhury</td>\n",
       "      <td>77,817</td>\n",
       "      <td>47.75%</td>\n",
       "      <td></td>\n",
       "      <td>All India Trinamool Congress</td>\n",
       "    </tr>\n",
       "  </tbody>\n",
       "</table>\n",
       "<p>294 rows × 9 columns</p>\n",
       "</div>"
      ],
      "text/plain": [
       "    AC # Assembly Constituency Name  ... Party                               Party\n",
       "0      1                  Mekliganj  ...                    All India Forward Bloc\n",
       "1      2                Mathabhanga  ...              All India Trinamool Congress\n",
       "2      3          Cooch Behar Uttar  ...                    All India Forward Bloc\n",
       "3      4        Cooch Behar Dakshin  ...                    All India Forward Bloc\n",
       "4      5                 Sitalkuchi  ...              All India Trinamool Congress\n",
       "..   ...                        ...  ...   ...                                 ...\n",
       "289  290                 Mayureswar  ...        Communist Party of India (Marxist)\n",
       "290  291                  Rampurhat  ...              All India Trinamool Congress\n",
       "291  292                     Hansan  ...                  Indian National Congress\n",
       "292  293                    Nalhati  ...                  Indian National Congress\n",
       "293  294                    Murarai  ...              All India Trinamool Congress\n",
       "\n",
       "[294 rows x 9 columns]"
      ]
     },
     "execution_count": 38,
     "metadata": {},
     "output_type": "execute_result"
    }
   ],
   "source": [
    "s_table"
   ]
  },
  {
   "cell_type": "markdown",
   "metadata": {},
   "source": [
    "### Row querying"
   ]
  },
  {
   "cell_type": "code",
   "execution_count": 42,
   "metadata": {},
   "outputs": [],
   "source": [
    "res = row_collection.query(\n",
    "    query_embeddings=r_row_embeddings.tolist(),\n",
    "    n_results=20,\n",
    "    include=['metadatas', 'distances'],\n",
    "    where={'table_id': {'$ne': r_id}}\n",
    ")"
   ]
  },
  {
   "cell_type": "code",
   "execution_count": 60,
   "metadata": {},
   "outputs": [],
   "source": [
    "# counting table_id frequencies\n",
    "table_id_freq = defaultdict(int)\n",
    "for res_metadatas in res['metadatas']:\n",
    "    for single_rec in res_metadatas:\n",
    "        table_id_freq[single_rec['table_id']] += 1\n",
    "table_id_freq = sorted(list(table_id_freq.items()), key=lambda id_freq: id_freq[1], reverse=True)\n",
    "table_id_freq[:5]        "
   ]
  },
  {
   "cell_type": "markdown",
   "metadata": {},
   "source": [
    "### Column querying"
   ]
  },
  {
   "cell_type": "code",
   "execution_count": 63,
   "metadata": {},
   "outputs": [],
   "source": [
    "res = column_collection.query(\n",
    "    query_embeddings=r_column_embeddings.tolist(),\n",
    "    n_results=20,\n",
    "    include=['metadatas', 'distances'],\n",
    "    where={'table_id': {'$ne': r_id}}\n",
    ")"
   ]
  },
  {
   "cell_type": "code",
   "execution_count": 64,
   "metadata": {},
   "outputs": [],
   "source": [
    "# counting table_id frequencies\n",
    "table_id_freq = defaultdict(int)\n",
    "for res_metadatas in res['metadatas']:\n",
    "    for single_rec in res_metadatas:\n",
    "        table_id_freq[single_rec['table_id']] += 1\n",
    "table_id_freq = sorted(list(table_id_freq.items()), key=lambda id_freq: id_freq[1], reverse=True)\n",
    "table_id_freq[:5]        "
   ]
  },
  {
   "cell_type": "markdown",
   "metadata": {},
   "source": [
    "### Conclusions"
   ]
  },
  {
   "cell_type": "code",
   "execution_count": 66,
   "metadata": {},
   "outputs": [
    {
     "data": {
      "text/html": [
       "<div><style>\n",
       ".dataframe > thead > tr,\n",
       ".dataframe > tbody > tr {\n",
       "  text-align: right;\n",
       "  white-space: pre-wrap;\n",
       "}\n",
       "</style>\n",
       "<small>shape: (1, 5)</small><table border=\"1\" class=\"dataframe\"><thead><tr><th>r_id</th><th>s_id</th><th>jsim</th><th>o_a</th><th>a%</th></tr><tr><td>str</td><td>str</td><td>f64</td><td>i64</td><td>f64</td></tr></thead><tbody><tr><td>&quot;30210174-4&quot;</td><td>&quot;6897174-2&quot;</td><td>1.0</td><td>2646</td><td>1.0</td></tr></tbody></table></div>"
      ],
      "text/plain": [
       "shape: (1, 5)\n",
       "┌────────────┬───────────┬──────┬──────┬─────┐\n",
       "│ r_id       ┆ s_id      ┆ jsim ┆ o_a  ┆ a%  │\n",
       "│ ---        ┆ ---       ┆ ---  ┆ ---  ┆ --- │\n",
       "│ str        ┆ str       ┆ f64  ┆ i64  ┆ f64 │\n",
       "╞════════════╪═══════════╪══════╪══════╪═════╡\n",
       "│ 30210174-4 ┆ 6897174-2 ┆ 1.0  ┆ 2646 ┆ 1.0 │\n",
       "└────────────┴───────────┴──────┴──────┴─────┘"
      ]
     },
     "execution_count": 66,
     "metadata": {},
     "output_type": "execute_result"
    }
   ],
   "source": [
    "sloth_result_rec"
   ]
  },
  {
   "cell_type": "markdown",
   "metadata": {},
   "source": [
    "In both cases, row and column, the best-matcher is the table with id '6897174-2', which is also the one with a total overlapping with our starting table. We can suppose that\n",
    "the method can find identical tables."
   ]
  },
  {
   "cell_type": "markdown",
   "metadata": {},
   "source": [
    "## Test: Low Jaccard - High Overlap"
   ]
  },
  {
   "cell_type": "code",
   "execution_count": 130,
   "metadata": {},
   "outputs": [
    {
     "name": "stdout",
     "output_type": "stream",
     "text": [
      "True\n"
     ]
    },
    {
     "data": {
      "text/html": [
       "<div><style>\n",
       ".dataframe > thead > tr,\n",
       ".dataframe > tbody > tr {\n",
       "  text-align: right;\n",
       "  white-space: pre-wrap;\n",
       "}\n",
       "</style>\n",
       "<small>shape: (1, 5)</small><table border=\"1\" class=\"dataframe\"><thead><tr><th>r_id</th><th>s_id</th><th>jsim</th><th>o_a</th><th>a%</th></tr><tr><td>str</td><td>str</td><td>f64</td><td>i64</td><td>f64</td></tr></thead><tbody><tr><td>&quot;14342092-1&quot;</td><td>&quot;37953453-1&quot;</td><td>0.55753</td><td>1778</td><td>0.958491</td></tr></tbody></table></div>"
      ],
      "text/plain": [
       "shape: (1, 5)\n",
       "┌────────────┬────────────┬─────────┬──────┬──────────┐\n",
       "│ r_id       ┆ s_id       ┆ jsim    ┆ o_a  ┆ a%       │\n",
       "│ ---        ┆ ---        ┆ ---     ┆ ---  ┆ ---      │\n",
       "│ str        ┆ str        ┆ f64     ┆ i64  ┆ f64      │\n",
       "╞════════════╪════════════╪═════════╪══════╪══════════╡\n",
       "│ 14342092-1 ┆ 37953453-1 ┆ 0.55753 ┆ 1778 ┆ 0.958491 │\n",
       "└────────────┴────────────┴─────────┴──────┴──────────┘"
      ]
     },
     "execution_count": 130,
     "metadata": {},
     "output_type": "execute_result"
    }
   ],
   "source": [
    "idx_row = 3\n",
    "print(sloth_results[idx_row]['r_id'].item() in sloth_tables.keys() and sloth_results[idx_row]['s_id'].item() in sloth_tables.keys())\n",
    "sloth_results[idx_row]"
   ]
  },
  {
   "cell_type": "code",
   "execution_count": 73,
   "metadata": {},
   "outputs": [],
   "source": [
    "sloth_result_rec = sloth_results[idx_row]\n",
    "r_id = sloth_result_rec['r_id'].item()\n",
    "s_id = sloth_result_rec['s_id'].item()\n",
    "r_table = sloth_tables[r_id]\n",
    "s_table = sloth_tables[s_id]\n",
    "\n",
    "r_row_embeddings, r_column_embeddings = tabenc.full_embedding(r_table, True)\n",
    "r_row_embeddings.shape, r_column_embeddings.shape "
   ]
  },
  {
   "cell_type": "code",
   "execution_count": 74,
   "metadata": {},
   "outputs": [
    {
     "data": {
      "text/html": [
       "<div>\n",
       "<style scoped>\n",
       "    .dataframe tbody tr th:only-of-type {\n",
       "        vertical-align: middle;\n",
       "    }\n",
       "\n",
       "    .dataframe tbody tr th {\n",
       "        vertical-align: top;\n",
       "    }\n",
       "\n",
       "    .dataframe thead th {\n",
       "        text-align: right;\n",
       "    }\n",
       "</style>\n",
       "<table border=\"1\" class=\"dataframe\">\n",
       "  <thead>\n",
       "    <tr style=\"text-align: right;\">\n",
       "      <th></th>\n",
       "      <th>Name</th>\n",
       "      <th>Rural municipality (RM)</th>\n",
       "      <th>Population (2011)</th>\n",
       "      <th>Population (2006)</th>\n",
       "      <th>Change (%)</th>\n",
       "      <th>Land area (km²)</th>\n",
       "      <th>Population density (per km²)</th>\n",
       "    </tr>\n",
       "  </thead>\n",
       "  <tbody>\n",
       "    <tr>\n",
       "      <th>0</th>\n",
       "      <td>Abbey</td>\n",
       "      <td>Miry Creek No. 229</td>\n",
       "      <td>115</td>\n",
       "      <td>130</td>\n",
       "      <td>-11.5</td>\n",
       "      <td>0.77</td>\n",
       "      <td>149.1</td>\n",
       "    </tr>\n",
       "    <tr>\n",
       "      <th>1</th>\n",
       "      <td>Abernethy</td>\n",
       "      <td>Abernethy No. 186</td>\n",
       "      <td>196</td>\n",
       "      <td>197</td>\n",
       "      <td>-0.5</td>\n",
       "      <td>1.03</td>\n",
       "      <td>189.9</td>\n",
       "    </tr>\n",
       "    <tr>\n",
       "      <th>2</th>\n",
       "      <td>Albertville</td>\n",
       "      <td>Wise Creek No. 77</td>\n",
       "      <td>140</td>\n",
       "      <td>110</td>\n",
       "      <td>27.3</td>\n",
       "      <td>1.12</td>\n",
       "      <td>124.7</td>\n",
       "    </tr>\n",
       "    <tr>\n",
       "      <th>3</th>\n",
       "      <td>Alida</td>\n",
       "      <td>Reciprocity No. 32</td>\n",
       "      <td>131</td>\n",
       "      <td>106</td>\n",
       "      <td>23.6</td>\n",
       "      <td>0.37</td>\n",
       "      <td>357.1</td>\n",
       "    </tr>\n",
       "    <tr>\n",
       "      <th>4</th>\n",
       "      <td>Alvena</td>\n",
       "      <td>Fish Creek No. 402</td>\n",
       "      <td>55</td>\n",
       "      <td>55</td>\n",
       "      <td>0</td>\n",
       "      <td>0.43</td>\n",
       "      <td>128</td>\n",
       "    </tr>\n",
       "    <tr>\n",
       "      <th>...</th>\n",
       "      <td>...</td>\n",
       "      <td>...</td>\n",
       "      <td>...</td>\n",
       "      <td>...</td>\n",
       "      <td>...</td>\n",
       "      <td>...</td>\n",
       "      <td>...</td>\n",
       "    </tr>\n",
       "    <tr>\n",
       "      <th>260</th>\n",
       "      <td>Yarbo</td>\n",
       "      <td>Langenburg No. 181</td>\n",
       "      <td>53</td>\n",
       "      <td>72</td>\n",
       "      <td>-26.4</td>\n",
       "      <td>0.83</td>\n",
       "      <td>63.9</td>\n",
       "    </tr>\n",
       "    <tr>\n",
       "      <th>261</th>\n",
       "      <td>Young</td>\n",
       "      <td>Morris No. 312</td>\n",
       "      <td>239</td>\n",
       "      <td>263</td>\n",
       "      <td>-9.1</td>\n",
       "      <td>2.51</td>\n",
       "      <td>95.2</td>\n",
       "    </tr>\n",
       "    <tr>\n",
       "      <th>262</th>\n",
       "      <td>Zelma</td>\n",
       "      <td>Bayne No. 371</td>\n",
       "      <td>35</td>\n",
       "      <td>30</td>\n",
       "      <td>16.7</td>\n",
       "      <td>0.72</td>\n",
       "      <td>48.9</td>\n",
       "    </tr>\n",
       "    <tr>\n",
       "      <th>263</th>\n",
       "      <td>Zenon Park</td>\n",
       "      <td>Arborfield No. 456</td>\n",
       "      <td>187</td>\n",
       "      <td>192</td>\n",
       "      <td>-2.6</td>\n",
       "      <td>0.56</td>\n",
       "      <td>336.1</td>\n",
       "    </tr>\n",
       "    <tr>\n",
       "      <th>264</th>\n",
       "      <td>Total villages</td>\n",
       "      <td>Total villages</td>\n",
       "      <td>43130</td>\n",
       "      <td>41091</td>\n",
       "      <td>5.0</td>\n",
       "      <td>302.29</td>\n",
       "      <td>142.7</td>\n",
       "    </tr>\n",
       "  </tbody>\n",
       "</table>\n",
       "<p>265 rows × 7 columns</p>\n",
       "</div>"
      ],
      "text/plain": [
       "               Name  ... Population density (per km²)\n",
       "0             Abbey  ...                        149.1\n",
       "1         Abernethy  ...                        189.9\n",
       "2       Albertville  ...                        124.7\n",
       "3             Alida  ...                        357.1\n",
       "4            Alvena  ...                          128\n",
       "..              ...  ...                          ...\n",
       "260           Yarbo  ...                         63.9\n",
       "261           Young  ...                         95.2\n",
       "262           Zelma  ...                         48.9\n",
       "263      Zenon Park  ...                        336.1\n",
       "264  Total villages  ...                        142.7\n",
       "\n",
       "[265 rows x 7 columns]"
      ]
     },
     "execution_count": 74,
     "metadata": {},
     "output_type": "execute_result"
    }
   ],
   "source": [
    "r_table"
   ]
  },
  {
   "cell_type": "code",
   "execution_count": 75,
   "metadata": {},
   "outputs": [
    {
     "data": {
      "text/html": [
       "<div>\n",
       "<style scoped>\n",
       "    .dataframe tbody tr th:only-of-type {\n",
       "        vertical-align: middle;\n",
       "    }\n",
       "\n",
       "    .dataframe tbody tr th {\n",
       "        vertical-align: top;\n",
       "    }\n",
       "\n",
       "    .dataframe thead th {\n",
       "        text-align: right;\n",
       "    }\n",
       "</style>\n",
       "<table border=\"1\" class=\"dataframe\">\n",
       "  <thead>\n",
       "    <tr style=\"text-align: right;\">\n",
       "      <th></th>\n",
       "      <th>Name</th>\n",
       "      <th>Status</th>\n",
       "      <th>Rural municipality</th>\n",
       "      <th>Population (2011)</th>\n",
       "      <th>Population (2006)</th>\n",
       "      <th>Change (%)</th>\n",
       "      <th>Land area (km²)</th>\n",
       "      <th>Population density (per km 2 )</th>\n",
       "    </tr>\n",
       "  </thead>\n",
       "  <tbody>\n",
       "    <tr>\n",
       "      <th>0</th>\n",
       "      <td>Estevan</td>\n",
       "      <td>City</td>\n",
       "      <td>Estevan No. 5</td>\n",
       "      <td>11054</td>\n",
       "      <td>10084</td>\n",
       "      <td>9.6</td>\n",
       "      <td>18.85</td>\n",
       "      <td>586.6</td>\n",
       "    </tr>\n",
       "    <tr>\n",
       "      <th>1</th>\n",
       "      <td>Flin Flon (part)</td>\n",
       "      <td>City</td>\n",
       "      <td>—</td>\n",
       "      <td>229 This population does not include 5,363 in ...</td>\n",
       "      <td>242</td>\n",
       "      <td>-5.4</td>\n",
       "      <td>2.37 This area does not include km2 (sqmi) in ...</td>\n",
       "      <td>96.4</td>\n",
       "    </tr>\n",
       "    <tr>\n",
       "      <th>2</th>\n",
       "      <td>Humboldt</td>\n",
       "      <td>City</td>\n",
       "      <td>Humboldt No. 370</td>\n",
       "      <td>5678</td>\n",
       "      <td>4998</td>\n",
       "      <td>13.6</td>\n",
       "      <td>13.46</td>\n",
       "      <td>421.9</td>\n",
       "    </tr>\n",
       "    <tr>\n",
       "      <th>3</th>\n",
       "      <td>Lloydminster (part) The balance of Lloydminste...</td>\n",
       "      <td>City</td>\n",
       "      <td>Britannia No. 502</td>\n",
       "      <td>9772 This population does not include 18,032 i...</td>\n",
       "      <td>8118</td>\n",
       "      <td>20.4</td>\n",
       "      <td>17.34 This area does not include km2 (sqmi) in...</td>\n",
       "      <td>563.6</td>\n",
       "    </tr>\n",
       "    <tr>\n",
       "      <th>4</th>\n",
       "      <td>Martensville Martensville is Saskatchewan's sm...</td>\n",
       "      <td>City</td>\n",
       "      <td>Corman Park No. 344</td>\n",
       "      <td>7716</td>\n",
       "      <td>4978</td>\n",
       "      <td>55</td>\n",
       "      <td>6.23</td>\n",
       "      <td>1239.3</td>\n",
       "    </tr>\n",
       "    <tr>\n",
       "      <th>...</th>\n",
       "      <td>...</td>\n",
       "      <td>...</td>\n",
       "      <td>...</td>\n",
       "      <td>...</td>\n",
       "      <td>...</td>\n",
       "      <td>...</td>\n",
       "      <td>...</td>\n",
       "      <td>...</td>\n",
       "    </tr>\n",
       "    <tr>\n",
       "      <th>466</th>\n",
       "      <td>West End</td>\n",
       "      <td>Resort village</td>\n",
       "      <td>Fertile Belt No. 183</td>\n",
       "      <td>17</td>\n",
       "      <td>26</td>\n",
       "      <td>-34.6</td>\n",
       "      <td>0.34</td>\n",
       "      <td>50.4</td>\n",
       "    </tr>\n",
       "    <tr>\n",
       "      <th>467</th>\n",
       "      <td>Total City</td>\n",
       "      <td>–</td>\n",
       "      <td>–</td>\n",
       "      <td>595678</td>\n",
       "      <td>547615</td>\n",
       "      <td>8.8</td>\n",
       "      <td>675.25</td>\n",
       "      <td>811.0</td>\n",
       "    </tr>\n",
       "    <tr>\n",
       "      <th>468</th>\n",
       "      <td>Total Town</td>\n",
       "      <td>–</td>\n",
       "      <td>–</td>\n",
       "      <td>137611</td>\n",
       "      <td>127795</td>\n",
       "      <td>7.7</td>\n",
       "      <td>473.50</td>\n",
       "      <td>290.6</td>\n",
       "    </tr>\n",
       "    <tr>\n",
       "      <th>469</th>\n",
       "      <td>Total Village</td>\n",
       "      <td>–</td>\n",
       "      <td>–</td>\n",
       "      <td>43130</td>\n",
       "      <td>41091</td>\n",
       "      <td>5.0</td>\n",
       "      <td>302.29</td>\n",
       "      <td>142.7</td>\n",
       "    </tr>\n",
       "    <tr>\n",
       "      <th>470</th>\n",
       "      <td>Total Resort Village</td>\n",
       "      <td>–</td>\n",
       "      <td>–</td>\n",
       "      <td>4126</td>\n",
       "      <td>4497</td>\n",
       "      <td>−8.2</td>\n",
       "      <td>102.98</td>\n",
       "      <td>40.1</td>\n",
       "    </tr>\n",
       "  </tbody>\n",
       "</table>\n",
       "<p>471 rows × 8 columns</p>\n",
       "</div>"
      ],
      "text/plain": [
       "                                                  Name  ... Population density (per km 2 )\n",
       "0                                              Estevan  ...                          586.6\n",
       "1                                     Flin Flon (part)  ...                           96.4\n",
       "2                                             Humboldt  ...                          421.9\n",
       "3    Lloydminster (part) The balance of Lloydminste...  ...                          563.6\n",
       "4    Martensville Martensville is Saskatchewan's sm...  ...                         1239.3\n",
       "..                                                 ...  ...                            ...\n",
       "466                                           West End  ...                           50.4\n",
       "467                                         Total City  ...                          811.0\n",
       "468                                         Total Town  ...                          290.6\n",
       "469                                      Total Village  ...                          142.7\n",
       "470                               Total Resort Village  ...                           40.1\n",
       "\n",
       "[471 rows x 8 columns]"
      ]
     },
     "execution_count": 75,
     "metadata": {},
     "output_type": "execute_result"
    }
   ],
   "source": [
    "s_table"
   ]
  },
  {
   "cell_type": "markdown",
   "metadata": {},
   "source": [
    "### Row querying"
   ]
  },
  {
   "cell_type": "code",
   "execution_count": 78,
   "metadata": {},
   "outputs": [],
   "source": [
    "res = row_collection.query(\n",
    "    query_embeddings=r_row_embeddings.tolist(),\n",
    "    n_results=20,\n",
    "    include=['metadatas', 'distances'],\n",
    "    where={'table_id': {'$ne': r_id}}\n",
    ")"
   ]
  },
  {
   "cell_type": "code",
   "execution_count": 79,
   "metadata": {},
   "outputs": [],
   "source": [
    "# counting table_id frequencies\n",
    "row_table_id_freq = defaultdict(int)\n",
    "for res_metadatas in res['metadatas']:\n",
    "    for single_rec in res_metadatas:\n",
    "        row_table_id_freq[single_rec['table_id']] += 1\n",
    "row_table_id_freq = sorted(list(row_table_id_freq.items()), key=lambda id_freq: id_freq[1], reverse=True)\n",
    "row_table_id_freq[:5]        "
   ]
  },
  {
   "cell_type": "markdown",
   "metadata": {},
   "source": [
    "### Column querying"
   ]
  },
  {
   "cell_type": "code",
   "execution_count": 81,
   "metadata": {},
   "outputs": [],
   "source": [
    "col_res = column_collection.query(\n",
    "    query_embeddings=r_column_embeddings.tolist(),\n",
    "    n_results=20,\n",
    "    include=['metadatas', 'distances'],\n",
    "    where={'table_id': {'$ne': r_id}}\n",
    ")"
   ]
  },
  {
   "cell_type": "code",
   "execution_count": 82,
   "metadata": {},
   "outputs": [],
   "source": [
    "col_table_id_freq = defaultdict(int)\n",
    "for res_metadatas in col_res['metadatas']:\n",
    "    for single_rec in res_metadatas:\n",
    "        col_table_id_freq[single_rec['table_id']] += 1\n",
    "col_table_id_freq = sorted(list(col_table_id_freq.items()), key=lambda id_freq: id_freq[1], reverse=True)\n",
    "col_table_id_freq[:5]        "
   ]
  },
  {
   "cell_type": "markdown",
   "metadata": {},
   "source": [
    "### Conclusions"
   ]
  },
  {
   "cell_type": "code",
   "execution_count": 84,
   "metadata": {},
   "outputs": [
    {
     "data": {
      "text/html": [
       "<div><style>\n",
       ".dataframe > thead > tr,\n",
       ".dataframe > tbody > tr {\n",
       "  text-align: right;\n",
       "  white-space: pre-wrap;\n",
       "}\n",
       "</style>\n",
       "<small>shape: (1, 5)</small><table border=\"1\" class=\"dataframe\"><thead><tr><th>r_id</th><th>s_id</th><th>jsim</th><th>o_a</th><th>a%</th></tr><tr><td>str</td><td>str</td><td>f64</td><td>i64</td><td>f64</td></tr></thead><tbody><tr><td>&quot;14342092-1&quot;</td><td>&quot;37953453-1&quot;</td><td>0.55753</td><td>1778</td><td>0.958491</td></tr></tbody></table></div>"
      ],
      "text/plain": [
       "shape: (1, 5)\n",
       "┌────────────┬────────────┬─────────┬──────┬──────────┐\n",
       "│ r_id       ┆ s_id       ┆ jsim    ┆ o_a  ┆ a%       │\n",
       "│ ---        ┆ ---        ┆ ---     ┆ ---  ┆ ---      │\n",
       "│ str        ┆ str        ┆ f64     ┆ i64  ┆ f64      │\n",
       "╞════════════╪════════════╪═════════╪══════╪══════════╡\n",
       "│ 14342092-1 ┆ 37953453-1 ┆ 0.55753 ┆ 1778 ┆ 0.958491 │\n",
       "└────────────┴────────────┴─────────┴──────┴──────────┘"
      ]
     },
     "execution_count": 84,
     "metadata": {},
     "output_type": "execute_result"
    }
   ],
   "source": [
    "sloth_result_rec"
   ]
  },
  {
   "cell_type": "markdown",
   "metadata": {},
   "source": [
    "Mh, ok, are these results ok for us? On rows the table id \"37953453-1\" has a frequency in the results of >4000, ok that's fine, but on columns we still have a top score of the\n",
    "table \"37953453-1\", even if it hasn't a very high Jaccard similarity. "
   ]
  },
  {
   "cell_type": "markdown",
   "metadata": {},
   "source": [
    "## Test: High Jaccard - Low Overlap"
   ]
  },
  {
   "cell_type": "code",
   "execution_count": 85,
   "metadata": {},
   "outputs": [
    {
     "data": {
      "text/html": [
       "<div><style>\n",
       ".dataframe > thead > tr,\n",
       ".dataframe > tbody > tr {\n",
       "  text-align: right;\n",
       "  white-space: pre-wrap;\n",
       "}\n",
       "</style>\n",
       "<small>shape: (1, 5)</small><table border=\"1\" class=\"dataframe\"><thead><tr><th>r_id</th><th>s_id</th><th>jsim</th><th>o_a</th><th>a%</th></tr><tr><td>str</td><td>str</td><td>f64</td><td>i64</td><td>f64</td></tr></thead><tbody><tr><td>&quot;16517223-1&quot;</td><td>&quot;16519520-1&quot;</td><td>0.915589</td><td>1640</td><td>0.622627</td></tr></tbody></table></div>"
      ],
      "text/plain": [
       "shape: (1, 5)\n",
       "┌────────────┬────────────┬──────────┬──────┬──────────┐\n",
       "│ r_id       ┆ s_id       ┆ jsim     ┆ o_a  ┆ a%       │\n",
       "│ ---        ┆ ---        ┆ ---      ┆ ---  ┆ ---      │\n",
       "│ str        ┆ str        ┆ f64      ┆ i64  ┆ f64      │\n",
       "╞════════════╪════════════╪══════════╪══════╪══════════╡\n",
       "│ 16517223-1 ┆ 16519520-1 ┆ 0.915589 ┆ 1640 ┆ 0.622627 │\n",
       "└────────────┴────────────┴──────────┴──────┴──────────┘"
      ]
     },
     "execution_count": 85,
     "metadata": {},
     "output_type": "execute_result"
    }
   ],
   "source": [
    "idx_row = 4\n",
    "print(sloth_results[idx_row]['r_id'].item() in sloth_tables.keys() and sloth_results[idx_row]['s_id'].item() in sloth_tables.keys())\n",
    "sloth_results[idx_row]"
   ]
  },
  {
   "cell_type": "code",
   "execution_count": 87,
   "metadata": {},
   "outputs": [],
   "source": [
    "sloth_result_rec = sloth_results[idx_row]\n",
    "r_id = sloth_result_rec['r_id'].item()\n",
    "s_id = sloth_result_rec['s_id'].item()\n",
    "r_table = sloth_tables[r_id]\n",
    "s_table = sloth_tables[s_id]\n",
    "\n",
    "r_row_embeddings, r_column_embeddings = tabenc.full_embedding(r_table, True)\n",
    "r_row_embeddings.shape, r_column_embeddings.shape "
   ]
  },
  {
   "cell_type": "code",
   "execution_count": 88,
   "metadata": {},
   "outputs": [
    {
     "data": {
      "text/html": [
       "<div>\n",
       "<style scoped>\n",
       "    .dataframe tbody tr th:only-of-type {\n",
       "        vertical-align: middle;\n",
       "    }\n",
       "\n",
       "    .dataframe tbody tr th {\n",
       "        vertical-align: top;\n",
       "    }\n",
       "\n",
       "    .dataframe thead th {\n",
       "        text-align: right;\n",
       "    }\n",
       "</style>\n",
       "<table border=\"1\" class=\"dataframe\">\n",
       "  <thead>\n",
       "    <tr style=\"text-align: right;\">\n",
       "      <th></th>\n",
       "      <th>Rank</th>\n",
       "      <th>Representative</th>\n",
       "      <th>Party</th>\n",
       "      <th>District</th>\n",
       "      <th>Seniority date</th>\n",
       "      <th>Notes</th>\n",
       "    </tr>\n",
       "  </thead>\n",
       "  <tbody>\n",
       "    <tr>\n",
       "      <th>0</th>\n",
       "      <td>1</td>\n",
       "      <td>John Dingell</td>\n",
       "      <td>D</td>\n",
       "      <td>MI-15</td>\n",
       "      <td>December 13, 1955</td>\n",
       "      <td></td>\n",
       "    </tr>\n",
       "    <tr>\n",
       "      <th>1</th>\n",
       "      <td>2</td>\n",
       "      <td>John Conyers</td>\n",
       "      <td>D</td>\n",
       "      <td>MI-14</td>\n",
       "      <td>January 3, 1965</td>\n",
       "      <td></td>\n",
       "    </tr>\n",
       "    <tr>\n",
       "      <th>2</th>\n",
       "      <td>3</td>\n",
       "      <td>Dave Obey</td>\n",
       "      <td>D</td>\n",
       "      <td>WI-7</td>\n",
       "      <td>April 1, 1969</td>\n",
       "      <td></td>\n",
       "    </tr>\n",
       "    <tr>\n",
       "      <th>3</th>\n",
       "      <td>4</td>\n",
       "      <td>Charles B. Rangel</td>\n",
       "      <td>D</td>\n",
       "      <td>NY-15</td>\n",
       "      <td>January 3, 1971</td>\n",
       "      <td></td>\n",
       "    </tr>\n",
       "    <tr>\n",
       "      <th>4</th>\n",
       "      <td>5</td>\n",
       "      <td>Bill Young</td>\n",
       "      <td>R</td>\n",
       "      <td>FL-10</td>\n",
       "      <td>January 3, 1971</td>\n",
       "      <td></td>\n",
       "    </tr>\n",
       "    <tr>\n",
       "      <th>...</th>\n",
       "      <td>...</td>\n",
       "      <td>...</td>\n",
       "      <td>...</td>\n",
       "      <td>...</td>\n",
       "      <td>...</td>\n",
       "      <td>...</td>\n",
       "    </tr>\n",
       "    <tr>\n",
       "      <th>436</th>\n",
       "      <td></td>\n",
       "      <td>Jean Schmidt</td>\n",
       "      <td>R</td>\n",
       "      <td>OH-02</td>\n",
       "      <td>August 3, 2005</td>\n",
       "      <td></td>\n",
       "    </tr>\n",
       "    <tr>\n",
       "      <th>437</th>\n",
       "      <td></td>\n",
       "      <td>John Campbell</td>\n",
       "      <td>R</td>\n",
       "      <td>CA-48</td>\n",
       "      <td>December 7, 2005</td>\n",
       "      <td></td>\n",
       "    </tr>\n",
       "    <tr>\n",
       "      <th>438</th>\n",
       "      <td></td>\n",
       "      <td>Brian Bilbray</td>\n",
       "      <td>R</td>\n",
       "      <td>CA-50</td>\n",
       "      <td>June 13, 2006</td>\n",
       "      <td>Also served from 1995 to 2001.</td>\n",
       "    </tr>\n",
       "    <tr>\n",
       "      <th>439</th>\n",
       "      <td></td>\n",
       "      <td>Shelley Sekula-Gibbs</td>\n",
       "      <td>R</td>\n",
       "      <td>TX-22</td>\n",
       "      <td>November 13, 2006</td>\n",
       "      <td>Left the House in 2007 .</td>\n",
       "    </tr>\n",
       "    <tr>\n",
       "      <th>440</th>\n",
       "      <td></td>\n",
       "      <td>Albio Sires</td>\n",
       "      <td>D</td>\n",
       "      <td>NJ-13</td>\n",
       "      <td>November 13, 2006</td>\n",
       "      <td></td>\n",
       "    </tr>\n",
       "  </tbody>\n",
       "</table>\n",
       "<p>441 rows × 6 columns</p>\n",
       "</div>"
      ],
      "text/plain": [
       "    Rank  ...                           Notes\n",
       "0      1  ...                                \n",
       "1      2  ...                                \n",
       "2      3  ...                                \n",
       "3      4  ...                                \n",
       "4      5  ...                                \n",
       "..   ...  ...                             ...\n",
       "436       ...                                \n",
       "437       ...                                \n",
       "438       ...  Also served from 1995 to 2001.\n",
       "439       ...        Left the House in 2007 .\n",
       "440       ...                                \n",
       "\n",
       "[441 rows x 6 columns]"
      ]
     },
     "execution_count": 88,
     "metadata": {},
     "output_type": "execute_result"
    }
   ],
   "source": [
    "r_table"
   ]
  },
  {
   "cell_type": "code",
   "execution_count": 89,
   "metadata": {},
   "outputs": [
    {
     "data": {
      "text/html": [
       "<div>\n",
       "<style scoped>\n",
       "    .dataframe tbody tr th:only-of-type {\n",
       "        vertical-align: middle;\n",
       "    }\n",
       "\n",
       "    .dataframe tbody tr th {\n",
       "        vertical-align: top;\n",
       "    }\n",
       "\n",
       "    .dataframe thead th {\n",
       "        text-align: right;\n",
       "    }\n",
       "</style>\n",
       "<table border=\"1\" class=\"dataframe\">\n",
       "  <thead>\n",
       "    <tr style=\"text-align: right;\">\n",
       "      <th></th>\n",
       "      <th>Rank</th>\n",
       "      <th>Representative</th>\n",
       "      <th>Party</th>\n",
       "      <th>District</th>\n",
       "      <th>Seniority date</th>\n",
       "      <th>Notes</th>\n",
       "    </tr>\n",
       "  </thead>\n",
       "  <tbody>\n",
       "    <tr>\n",
       "      <th>0</th>\n",
       "      <td>1</td>\n",
       "      <td>John Dingell</td>\n",
       "      <td>D</td>\n",
       "      <td>MI-15</td>\n",
       "      <td>December 13, 1955</td>\n",
       "      <td></td>\n",
       "    </tr>\n",
       "    <tr>\n",
       "      <th>1</th>\n",
       "      <td>2</td>\n",
       "      <td>John Conyers</td>\n",
       "      <td>D</td>\n",
       "      <td>MI-14</td>\n",
       "      <td>January 3, 1965</td>\n",
       "      <td></td>\n",
       "    </tr>\n",
       "    <tr>\n",
       "      <th>2</th>\n",
       "      <td>3</td>\n",
       "      <td>Dave Obey</td>\n",
       "      <td>D</td>\n",
       "      <td>WI-7</td>\n",
       "      <td>April 1, 1969</td>\n",
       "      <td></td>\n",
       "    </tr>\n",
       "    <tr>\n",
       "      <th>3</th>\n",
       "      <td>4</td>\n",
       "      <td>Phil Crane</td>\n",
       "      <td>R</td>\n",
       "      <td>IL-08</td>\n",
       "      <td>November 25, 1969</td>\n",
       "      <td>Left the House in 2005 .</td>\n",
       "    </tr>\n",
       "    <tr>\n",
       "      <th>4</th>\n",
       "      <td>5</td>\n",
       "      <td>Charles B. Rangel</td>\n",
       "      <td>D</td>\n",
       "      <td>NY-15</td>\n",
       "      <td>January 3, 1971</td>\n",
       "      <td></td>\n",
       "    </tr>\n",
       "    <tr>\n",
       "      <th>...</th>\n",
       "      <td>...</td>\n",
       "      <td>...</td>\n",
       "      <td>...</td>\n",
       "      <td>...</td>\n",
       "      <td>...</td>\n",
       "      <td>...</td>\n",
       "    </tr>\n",
       "    <tr>\n",
       "      <th>434</th>\n",
       "      <td>435</td>\n",
       "      <td>Chris Van Hollen</td>\n",
       "      <td>D</td>\n",
       "      <td>MD-8</td>\n",
       "      <td>January 3, 2003</td>\n",
       "      <td></td>\n",
       "    </tr>\n",
       "    <tr>\n",
       "      <th>435</th>\n",
       "      <td></td>\n",
       "      <td>Randy Neugebauer</td>\n",
       "      <td>R</td>\n",
       "      <td>TX-19</td>\n",
       "      <td>June 3, 2003</td>\n",
       "      <td></td>\n",
       "    </tr>\n",
       "    <tr>\n",
       "      <th>436</th>\n",
       "      <td></td>\n",
       "      <td>Ben Chandler</td>\n",
       "      <td>D</td>\n",
       "      <td>KY-6</td>\n",
       "      <td>February 17, 2004</td>\n",
       "      <td></td>\n",
       "    </tr>\n",
       "    <tr>\n",
       "      <th>437</th>\n",
       "      <td></td>\n",
       "      <td>Stephanie Herseth</td>\n",
       "      <td>D</td>\n",
       "      <td>SD</td>\n",
       "      <td>June 1, 2004</td>\n",
       "      <td></td>\n",
       "    </tr>\n",
       "    <tr>\n",
       "      <th>438</th>\n",
       "      <td></td>\n",
       "      <td>G. K. Butterfield</td>\n",
       "      <td>D</td>\n",
       "      <td>NC-01</td>\n",
       "      <td>July 20, 2004</td>\n",
       "      <td></td>\n",
       "    </tr>\n",
       "  </tbody>\n",
       "</table>\n",
       "<p>439 rows × 6 columns</p>\n",
       "</div>"
      ],
      "text/plain": [
       "    Rank     Representative  ...     Seniority date                     Notes\n",
       "0      1       John Dingell  ...  December 13, 1955                          \n",
       "1      2       John Conyers  ...    January 3, 1965                          \n",
       "2      3          Dave Obey  ...      April 1, 1969                          \n",
       "3      4         Phil Crane  ...  November 25, 1969  Left the House in 2005 .\n",
       "4      5  Charles B. Rangel  ...    January 3, 1971                          \n",
       "..   ...                ...  ...                ...                       ...\n",
       "434  435   Chris Van Hollen  ...    January 3, 2003                          \n",
       "435        Randy Neugebauer  ...       June 3, 2003                          \n",
       "436            Ben Chandler  ...  February 17, 2004                          \n",
       "437       Stephanie Herseth  ...       June 1, 2004                          \n",
       "438       G. K. Butterfield  ...      July 20, 2004                          \n",
       "\n",
       "[439 rows x 6 columns]"
      ]
     },
     "execution_count": 89,
     "metadata": {},
     "output_type": "execute_result"
    }
   ],
   "source": [
    "s_table"
   ]
  },
  {
   "cell_type": "markdown",
   "metadata": {},
   "source": [
    "### Row querying"
   ]
  },
  {
   "cell_type": "code",
   "execution_count": 92,
   "metadata": {},
   "outputs": [],
   "source": [
    "res = row_collection.query(\n",
    "    query_embeddings=r_row_embeddings.tolist(),\n",
    "    n_results=20,\n",
    "    include=['metadatas', 'distances'],\n",
    "    where={'table_id': {'$ne': r_id}}\n",
    ")\n",
    "\n",
    "row_table_id_freq = defaultdict(int)\n",
    "for res_metadatas in res['metadatas']:\n",
    "    for single_rec in res_metadatas:\n",
    "        row_table_id_freq[single_rec['table_id']] += 1\n",
    "row_table_id_freq = sorted(list(row_table_id_freq.items()), key=lambda id_freq: id_freq[1], reverse=True)\n",
    "row_table_id_freq[:5]"
   ]
  },
  {
   "cell_type": "markdown",
   "metadata": {},
   "source": [
    "### Column querying"
   ]
  },
  {
   "cell_type": "code",
   "execution_count": 95,
   "metadata": {},
   "outputs": [],
   "source": [
    "col_res = column_collection.query(\n",
    "    query_embeddings=r_column_embeddings.tolist(),\n",
    "    n_results=20,\n",
    "    include=['metadatas', 'distances'],\n",
    "    where={'table_id': {'$ne': r_id}}\n",
    ")\n",
    "\n",
    "col_table_id_freq = defaultdict(int)\n",
    "for res_metadatas in col_res['metadatas']:\n",
    "    for single_rec in res_metadatas:\n",
    "        col_table_id_freq[single_rec['table_id']] += 1\n",
    "col_table_id_freq = sorted(list(col_table_id_freq.items()), key=lambda id_freq: id_freq[1], reverse=True)\n",
    "col_table_id_freq[:10]"
   ]
  },
  {
   "cell_type": "markdown",
   "metadata": {},
   "source": [
    "### Conclusions"
   ]
  },
  {
   "cell_type": "code",
   "execution_count": 96,
   "metadata": {},
   "outputs": [
    {
     "data": {
      "text/html": [
       "<div><style>\n",
       ".dataframe > thead > tr,\n",
       ".dataframe > tbody > tr {\n",
       "  text-align: right;\n",
       "  white-space: pre-wrap;\n",
       "}\n",
       "</style>\n",
       "<small>shape: (1, 5)</small><table border=\"1\" class=\"dataframe\"><thead><tr><th>r_id</th><th>s_id</th><th>jsim</th><th>o_a</th><th>a%</th></tr><tr><td>str</td><td>str</td><td>f64</td><td>i64</td><td>f64</td></tr></thead><tbody><tr><td>&quot;16517223-1&quot;</td><td>&quot;16519520-1&quot;</td><td>0.915589</td><td>1640</td><td>0.622627</td></tr></tbody></table></div>"
      ],
      "text/plain": [
       "shape: (1, 5)\n",
       "┌────────────┬────────────┬──────────┬──────┬──────────┐\n",
       "│ r_id       ┆ s_id       ┆ jsim     ┆ o_a  ┆ a%       │\n",
       "│ ---        ┆ ---        ┆ ---      ┆ ---  ┆ ---      │\n",
       "│ str        ┆ str        ┆ f64      ┆ i64  ┆ f64      │\n",
       "╞════════════╪════════════╪══════════╪══════╪══════════╡\n",
       "│ 16517223-1 ┆ 16519520-1 ┆ 0.915589 ┆ 1640 ┆ 0.622627 │\n",
       "└────────────┴────────────┴──────────┴──────┴──────────┘"
      ]
     },
     "execution_count": 96,
     "metadata": {},
     "output_type": "execute_result"
    }
   ],
   "source": [
    "sloth_result_rec"
   ]
  },
  {
   "cell_type": "markdown",
   "metadata": {},
   "source": [
    "That's interesting: even if the s_table with id \"16519520-1\" is the best in the row classification, the frequency distance from the 2nd is short (1786 to 1625), compared to the previous cases. In addiction, the s_table is yet the top with frequency score 5, but also other tables has the same result."
   ]
  },
  {
   "cell_type": "markdown",
   "metadata": {},
   "source": [
    "## Testing: Low Jaccard - Low Overlap"
   ]
  },
  {
   "cell_type": "code",
   "execution_count": 143,
   "metadata": {},
   "outputs": [
    {
     "name": "stdout",
     "output_type": "stream",
     "text": [
      "160614 True\n"
     ]
    },
    {
     "data": {
      "text/html": [
       "<div><style>\n",
       ".dataframe > thead > tr,\n",
       ".dataframe > tbody > tr {\n",
       "  text-align: right;\n",
       "  white-space: pre-wrap;\n",
       "}\n",
       "</style>\n",
       "<small>shape: (1, 5)</small><table border=\"1\" class=\"dataframe\"><thead><tr><th>r_id</th><th>s_id</th><th>jsim</th><th>o_a</th><th>a%</th></tr><tr><td>str</td><td>str</td><td>f64</td><td>i64</td><td>f64</td></tr></thead><tbody><tr><td>&quot;22130361-4&quot;</td><td>&quot;27804692-10&quot;</td><td>0.684211</td><td>20</td><td>0.416667</td></tr></tbody></table></div>"
      ],
      "text/plain": [
       "shape: (1, 5)\n",
       "┌────────────┬─────────────┬──────────┬─────┬──────────┐\n",
       "│ r_id       ┆ s_id        ┆ jsim     ┆ o_a ┆ a%       │\n",
       "│ ---        ┆ ---         ┆ ---      ┆ --- ┆ ---      │\n",
       "│ str        ┆ str         ┆ f64      ┆ i64 ┆ f64      │\n",
       "╞════════════╪═════════════╪══════════╪═════╪══════════╡\n",
       "│ 22130361-4 ┆ 27804692-10 ┆ 0.684211 ┆ 20  ┆ 0.416667 │\n",
       "└────────────┴─────────────┴──────────┴─────┴──────────┘"
      ]
     },
     "execution_count": 143,
     "metadata": {},
     "output_type": "execute_result"
    }
   ],
   "source": [
    "# import random\n",
    "# idx_row = random.randint(0, sloth_results.shape[0])\n",
    "idx_row = 160614\n",
    "print(idx_row, sloth_results[idx_row]['r_id'].item() in sloth_tables.keys() and sloth_results[idx_row]['s_id'].item() in sloth_tables.keys())\n",
    "sloth_results[idx_row]"
   ]
  },
  {
   "cell_type": "code",
   "execution_count": 144,
   "metadata": {},
   "outputs": [
    {
     "data": {
      "text/plain": [
       "((8, 300), (6, 300))"
      ]
     },
     "execution_count": 144,
     "metadata": {},
     "output_type": "execute_result"
    }
   ],
   "source": [
    "sloth_result_rec = sloth_results[idx_row]\n",
    "r_id = sloth_result_rec['r_id'].item()\n",
    "s_id = sloth_result_rec['s_id'].item()\n",
    "r_table = sloth_tables[r_id]\n",
    "s_table = sloth_tables[s_id]\n",
    "\n",
    "r_row_embeddings, r_column_embeddings = tabenc.full_embedding(r_table, True)\n",
    "r_row_embeddings.shape, r_column_embeddings.shape "
   ]
  },
  {
   "cell_type": "code",
   "execution_count": 145,
   "metadata": {},
   "outputs": [
    {
     "data": {
      "text/html": [
       "<div>\n",
       "<style scoped>\n",
       "    .dataframe tbody tr th:only-of-type {\n",
       "        vertical-align: middle;\n",
       "    }\n",
       "\n",
       "    .dataframe tbody tr th {\n",
       "        vertical-align: top;\n",
       "    }\n",
       "\n",
       "    .dataframe thead th {\n",
       "        text-align: right;\n",
       "    }\n",
       "</style>\n",
       "<table border=\"1\" class=\"dataframe\">\n",
       "  <thead>\n",
       "    <tr style=\"text-align: right;\">\n",
       "      <th></th>\n",
       "      <th>Rank</th>\n",
       "      <th>Nation</th>\n",
       "      <th>Gold</th>\n",
       "      <th>Silver</th>\n",
       "      <th>Bronze</th>\n",
       "      <th>Total</th>\n",
       "    </tr>\n",
       "  </thead>\n",
       "  <tbody>\n",
       "    <tr>\n",
       "      <th>0</th>\n",
       "      <td>1</td>\n",
       "      <td>Canada</td>\n",
       "      <td>2</td>\n",
       "      <td>0</td>\n",
       "      <td>0</td>\n",
       "      <td>2</td>\n",
       "    </tr>\n",
       "    <tr>\n",
       "      <th>1</th>\n",
       "      <td>2</td>\n",
       "      <td>South Korea</td>\n",
       "      <td>1</td>\n",
       "      <td>0</td>\n",
       "      <td>0</td>\n",
       "      <td>1</td>\n",
       "    </tr>\n",
       "    <tr>\n",
       "      <th>2</th>\n",
       "      <td>2</td>\n",
       "      <td>China</td>\n",
       "      <td>1</td>\n",
       "      <td>0</td>\n",
       "      <td>0</td>\n",
       "      <td>1</td>\n",
       "    </tr>\n",
       "    <tr>\n",
       "      <th>3</th>\n",
       "      <td>4</td>\n",
       "      <td>Japan</td>\n",
       "      <td>0</td>\n",
       "      <td>2</td>\n",
       "      <td>1</td>\n",
       "      <td>3</td>\n",
       "    </tr>\n",
       "    <tr>\n",
       "      <th>4</th>\n",
       "      <td>5</td>\n",
       "      <td>United States</td>\n",
       "      <td>0</td>\n",
       "      <td>1</td>\n",
       "      <td>0</td>\n",
       "      <td>1</td>\n",
       "    </tr>\n",
       "    <tr>\n",
       "      <th>5</th>\n",
       "      <td>5</td>\n",
       "      <td>Germany</td>\n",
       "      <td>0</td>\n",
       "      <td>1</td>\n",
       "      <td>0</td>\n",
       "      <td>1</td>\n",
       "    </tr>\n",
       "    <tr>\n",
       "      <th>6</th>\n",
       "      <td>7</td>\n",
       "      <td>Russia</td>\n",
       "      <td>0</td>\n",
       "      <td>0</td>\n",
       "      <td>2</td>\n",
       "      <td>2</td>\n",
       "    </tr>\n",
       "    <tr>\n",
       "      <th>7</th>\n",
       "      <td>8</td>\n",
       "      <td>France</td>\n",
       "      <td>0</td>\n",
       "      <td>0</td>\n",
       "      <td>1</td>\n",
       "      <td>1</td>\n",
       "    </tr>\n",
       "  </tbody>\n",
       "</table>\n",
       "</div>"
      ],
      "text/plain": [
       "  Rank         Nation Gold Silver Bronze Total\n",
       "0    1         Canada    2      0      0     2\n",
       "1    2    South Korea    1      0      0     1\n",
       "2    2          China    1      0      0     1\n",
       "3    4          Japan    0      2      1     3\n",
       "4    5  United States    0      1      0     1\n",
       "5    5        Germany    0      1      0     1\n",
       "6    7         Russia    0      0      2     2\n",
       "7    8         France    0      0      1     1"
      ]
     },
     "execution_count": 145,
     "metadata": {},
     "output_type": "execute_result"
    }
   ],
   "source": [
    "r_table"
   ]
  },
  {
   "cell_type": "code",
   "execution_count": 146,
   "metadata": {},
   "outputs": [
    {
     "data": {
      "text/html": [
       "<div>\n",
       "<style scoped>\n",
       "    .dataframe tbody tr th:only-of-type {\n",
       "        vertical-align: middle;\n",
       "    }\n",
       "\n",
       "    .dataframe tbody tr th {\n",
       "        vertical-align: top;\n",
       "    }\n",
       "\n",
       "    .dataframe thead th {\n",
       "        text-align: right;\n",
       "    }\n",
       "</style>\n",
       "<table border=\"1\" class=\"dataframe\">\n",
       "  <thead>\n",
       "    <tr style=\"text-align: right;\">\n",
       "      <th></th>\n",
       "      <th>Rank</th>\n",
       "      <th>Nation</th>\n",
       "      <th>Gold</th>\n",
       "      <th>Silver</th>\n",
       "      <th>Bronze</th>\n",
       "      <th>Total</th>\n",
       "    </tr>\n",
       "  </thead>\n",
       "  <tbody>\n",
       "    <tr>\n",
       "      <th>0</th>\n",
       "      <td>1</td>\n",
       "      <td>United States</td>\n",
       "      <td>1</td>\n",
       "      <td>0</td>\n",
       "      <td>0</td>\n",
       "      <td>1</td>\n",
       "    </tr>\n",
       "    <tr>\n",
       "      <th>1</th>\n",
       "      <td>1</td>\n",
       "      <td>Russia</td>\n",
       "      <td>1</td>\n",
       "      <td>0</td>\n",
       "      <td>0</td>\n",
       "      <td>1</td>\n",
       "    </tr>\n",
       "    <tr>\n",
       "      <th>2</th>\n",
       "      <td>1</td>\n",
       "      <td>South Korea</td>\n",
       "      <td>1</td>\n",
       "      <td>0</td>\n",
       "      <td>0</td>\n",
       "      <td>1</td>\n",
       "    </tr>\n",
       "    <tr>\n",
       "      <th>3</th>\n",
       "      <td>1</td>\n",
       "      <td>Kazakhstan</td>\n",
       "      <td>1</td>\n",
       "      <td>0</td>\n",
       "      <td>0</td>\n",
       "      <td>1</td>\n",
       "    </tr>\n",
       "    <tr>\n",
       "      <th>4</th>\n",
       "      <td>5</td>\n",
       "      <td>Canada</td>\n",
       "      <td>0</td>\n",
       "      <td>2</td>\n",
       "      <td>1</td>\n",
       "      <td>3</td>\n",
       "    </tr>\n",
       "    <tr>\n",
       "      <th>5</th>\n",
       "      <td>6</td>\n",
       "      <td>Japan</td>\n",
       "      <td>0</td>\n",
       "      <td>1</td>\n",
       "      <td>1</td>\n",
       "      <td>2</td>\n",
       "    </tr>\n",
       "    <tr>\n",
       "      <th>6</th>\n",
       "      <td>7</td>\n",
       "      <td>Germany</td>\n",
       "      <td>0</td>\n",
       "      <td>1</td>\n",
       "      <td>0</td>\n",
       "      <td>1</td>\n",
       "    </tr>\n",
       "    <tr>\n",
       "      <th>7</th>\n",
       "      <td>8</td>\n",
       "      <td>Italy</td>\n",
       "      <td>0</td>\n",
       "      <td>0</td>\n",
       "      <td>2</td>\n",
       "      <td>2</td>\n",
       "    </tr>\n",
       "  </tbody>\n",
       "</table>\n",
       "</div>"
      ],
      "text/plain": [
       "  Rank         Nation Gold Silver Bronze Total\n",
       "0    1  United States    1      0      0     1\n",
       "1    1         Russia    1      0      0     1\n",
       "2    1    South Korea    1      0      0     1\n",
       "3    1     Kazakhstan    1      0      0     1\n",
       "4    5         Canada    0      2      1     3\n",
       "5    6          Japan    0      1      1     2\n",
       "6    7        Germany    0      1      0     1\n",
       "7    8          Italy    0      0      2     2"
      ]
     },
     "execution_count": 146,
     "metadata": {},
     "output_type": "execute_result"
    }
   ],
   "source": [
    "s_table"
   ]
  },
  {
   "cell_type": "markdown",
   "metadata": {},
   "source": [
    "### Row querying"
   ]
  },
  {
   "cell_type": "code",
   "execution_count": 147,
   "metadata": {},
   "outputs": [
    {
     "data": {
      "text/plain": [
       "[('40038256-2', 3),\n",
       " ('31765907-1', 2),\n",
       " ('25399779-9', 2),\n",
       " ('25399779-8', 2),\n",
       " ('7913218-1', 2)]"
      ]
     },
     "execution_count": 147,
     "metadata": {},
     "output_type": "execute_result"
    }
   ],
   "source": [
    "res = row_collection.query(\n",
    "    query_embeddings=r_row_embeddings.tolist(),\n",
    "    n_results=20,\n",
    "    include=['metadatas', 'distances'],\n",
    "    where={'table_id': {'$ne': r_id}}\n",
    ")\n",
    "\n",
    "row_table_id_freq = defaultdict(int)\n",
    "for res_metadatas in res['metadatas']:\n",
    "    for single_rec in res_metadatas:\n",
    "        row_table_id_freq[single_rec['table_id']] += 1\n",
    "row_table_id_freq = sorted(list(row_table_id_freq.items()), key=lambda id_freq: id_freq[1], reverse=True)"
   ]
  },
  {
   "cell_type": "code",
   "execution_count": 153,
   "metadata": {},
   "outputs": [
    {
     "data": {
      "text/plain": [
       "'27804692-10'"
      ]
     },
     "execution_count": 153,
     "metadata": {},
     "output_type": "execute_result"
    }
   ],
   "source": [
    "s_id"
   ]
  },
  {
   "cell_type": "markdown",
   "metadata": {},
   "source": [
    "### Column querying"
   ]
  },
  {
   "cell_type": "code",
   "execution_count": 148,
   "metadata": {},
   "outputs": [
    {
     "data": {
      "text/plain": [
       "[('855087-1', 8),\n",
       " ('27804692-10', 7),\n",
       " ('27804692-9', 3),\n",
       " ('2687410-1', 3),\n",
       " ('494758-1', 3),\n",
       " ('19238108-2', 3),\n",
       " ('25399779-8', 2),\n",
       " ('6746942-2', 2),\n",
       " ('19239156-2', 2),\n",
       " ('28352026-1', 2)]"
      ]
     },
     "execution_count": 148,
     "metadata": {},
     "output_type": "execute_result"
    }
   ],
   "source": [
    "col_res = column_collection.query(\n",
    "    query_embeddings=r_column_embeddings.tolist(),\n",
    "    n_results=20,\n",
    "    include=['metadatas', 'distances'],\n",
    "    where={'table_id': {'$ne': r_id}}\n",
    ")\n",
    "\n",
    "col_table_id_freq = defaultdict(int)\n",
    "for res_metadatas in col_res['metadatas']:\n",
    "    for single_rec in res_metadatas:\n",
    "        col_table_id_freq[single_rec['table_id']] += 1\n",
    "col_table_id_freq = sorted(list(col_table_id_freq.items()), key=lambda id_freq: id_freq[1], reverse=True)\n",
    "col_table_id_freq[:10]"
   ]
  },
  {
   "cell_type": "markdown",
   "metadata": {},
   "source": [
    "### Conclusions"
   ]
  },
  {
   "cell_type": "code",
   "execution_count": 154,
   "metadata": {},
   "outputs": [
    {
     "data": {
      "text/html": [
       "<div><style>\n",
       ".dataframe > thead > tr,\n",
       ".dataframe > tbody > tr {\n",
       "  text-align: right;\n",
       "  white-space: pre-wrap;\n",
       "}\n",
       "</style>\n",
       "<small>shape: (1, 5)</small><table border=\"1\" class=\"dataframe\"><thead><tr><th>r_id</th><th>s_id</th><th>jsim</th><th>o_a</th><th>a%</th></tr><tr><td>str</td><td>str</td><td>f64</td><td>i64</td><td>f64</td></tr></thead><tbody><tr><td>&quot;22130361-4&quot;</td><td>&quot;27804692-10&quot;</td><td>0.684211</td><td>20</td><td>0.416667</td></tr></tbody></table></div>"
      ],
      "text/plain": [
       "shape: (1, 5)\n",
       "┌────────────┬─────────────┬──────────┬─────┬──────────┐\n",
       "│ r_id       ┆ s_id        ┆ jsim     ┆ o_a ┆ a%       │\n",
       "│ ---        ┆ ---         ┆ ---      ┆ --- ┆ ---      │\n",
       "│ str        ┆ str         ┆ f64      ┆ i64 ┆ f64      │\n",
       "╞════════════╪═════════════╪══════════╪═════╪══════════╡\n",
       "│ 22130361-4 ┆ 27804692-10 ┆ 0.684211 ┆ 20  ┆ 0.416667 │\n",
       "└────────────┴─────────────┴──────────┴─────┴──────────┘"
      ]
     },
     "execution_count": 154,
     "metadata": {},
     "output_type": "execute_result"
    }
   ],
   "source": [
    "sloth_result_rec"
   ]
  },
  {
   "cell_type": "markdown",
   "metadata": {},
   "source": [
    "Ok, s_id doesn't appear in the row frequency table and neither doesn't appear as the best on column frequency table. That seems in according to our sloth values. "
   ]
  }
 ],
 "metadata": {
  "kernelspec": {
   "display_name": "chroma",
   "language": "python",
   "name": "python3"
  },
  "language_info": {
   "codemirror_mode": {
    "name": "ipython",
    "version": 3
   },
   "file_extension": ".py",
   "mimetype": "text/x-python",
   "name": "python",
   "nbconvert_exporter": "python",
   "pygments_lexer": "ipython3",
   "version": "3.10.12"
  }
 },
 "nbformat": 4,
 "nbformat_minor": 2
}
