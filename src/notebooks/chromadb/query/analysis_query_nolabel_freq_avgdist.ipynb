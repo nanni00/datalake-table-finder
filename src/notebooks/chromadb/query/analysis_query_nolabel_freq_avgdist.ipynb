{
 "cells": [
  {
   "cell_type": "code",
   "execution_count": 1,
   "metadata": {},
   "outputs": [],
   "source": [
    "import chromadb\n",
    "import time\n",
    "\n",
    "import jsonlines\n",
    "from tqdm.notebook import tqdm\n",
    "from collections import defaultdict\n",
    "\n",
    "from matplotlib import pyplot as plt\n",
    "\n",
    "import polars as pl\n",
    "import pandas as pd\n",
    "import numpy as np\n",
    "\n",
    "from code.fasttext.embedding_utils import TableEncoder, compare_embeddings\n",
    "from code.utils.utils import rebuild_table\n",
    "from code.utils.settings import DefaultPath"
   ]
  },
  {
   "cell_type": "code",
   "execution_count": 2,
   "metadata": {},
   "outputs": [],
   "source": [
    "tabenc = TableEncoder ()"
   ]
  },
  {
   "cell_type": "code",
   "execution_count": 4,
   "metadata": {},
   "outputs": [
    {
     "data": {
      "text/plain": [
       "[Collection(name=columns), Collection(name=rows)]"
      ]
     },
     "execution_count": 4,
     "metadata": {},
     "output_type": "execute_result"
    }
   ],
   "source": [
    "chroma_client = chromadb.PersistentClient(\n",
    "    DefaultPath.db_path.chroma + 'double_collection_v1/' + 'v_29_25000_add_label_False_with_metadatas_True'\n",
    "    )\n",
    "chroma_client.list_collections()"
   ]
  },
  {
   "cell_type": "code",
   "execution_count": 5,
   "metadata": {},
   "outputs": [],
   "source": [
    "row_collection = chroma_client.get_collection('rows')\n",
    "column_collection = chroma_client.get_collection('columns')"
   ]
  },
  {
   "cell_type": "code",
   "execution_count": 6,
   "metadata": {},
   "outputs": [],
   "source": [
    "sloth_results = pl.read_csv(DefaultPath.data_path.wikitables + 'train_set_turl_malaguti.csv') \\\n",
    "                    .sort(by=['o_a', 'jsim', 'a%'], descending=[True, True, True])"
   ]
  },
  {
   "cell_type": "code",
   "execution_count": 7,
   "metadata": {},
   "outputs": [],
   "source": [
    "def get_from_jsonl_table_df(table_id: str):\n",
    "    with jsonlines.open(DefaultPath.data_path.wikitables + 'sloth_tables.jsonl') as reader:\n",
    "        while (json_table := reader.read())['_id'] != table_id:\n",
    "            continue\n",
    "        return rebuild_table(json_table)"
   ]
  },
  {
   "cell_type": "code",
   "execution_count": 8,
   "metadata": {},
   "outputs": [],
   "source": [
    "with jsonlines.open(DefaultPath.data_path.wikitables + 'sloth_tables.jsonl') as reader:\n",
    "    sloth_tables_ids = {json_table['_id'] for i, json_table in enumerate(reader) if i < 25000}"
   ]
  },
  {
   "cell_type": "code",
   "execution_count": 10,
   "metadata": {},
   "outputs": [],
   "source": [
    "# version 1 - pre-load all tables\n",
    "# in_db = sloth_results[['r_id', 's_id']].apply(lambda x: x[0] in sloth_tables.keys() and x[1] in sloth_tables.keys())\n",
    "# sloth_results = sloth_results.with_columns(pl.Series(name='in-db', values=in_db)).filter(pl.col('in-db') == True).drop('in-db')\n",
    "\n",
    "# version 2 - on-demand loading\n",
    "in_db = sloth_results[['r_id', 's_id']].apply(lambda x: x[0] in sloth_tables_ids and x[1] in sloth_tables_ids)\n",
    "sloth_results = sloth_results.with_columns(pl.Series(name='in-db', values=in_db)).filter(pl.col('in-db') == True).drop('in-db')"
   ]
  },
  {
   "cell_type": "code",
   "execution_count": 11,
   "metadata": {},
   "outputs": [
    {
     "data": {
      "text/html": [
       "<div><style>\n",
       ".dataframe > thead > tr,\n",
       ".dataframe > tbody > tr {\n",
       "  text-align: right;\n",
       "  white-space: pre-wrap;\n",
       "}\n",
       "</style>\n",
       "<small>shape: (5, 5)</small><table border=\"1\" class=\"dataframe\"><thead><tr><th>r_id</th><th>s_id</th><th>jsim</th><th>o_a</th><th>a%</th></tr><tr><td>str</td><td>str</td><td>f64</td><td>i64</td><td>f64</td></tr></thead><tbody><tr><td>&quot;14342092-1&quot;</td><td>&quot;37953453-1&quot;</td><td>0.55753</td><td>1778</td><td>0.958491</td></tr><tr><td>&quot;16517223-1&quot;</td><td>&quot;16519520-1&quot;</td><td>0.915589</td><td>1640</td><td>0.622627</td></tr><tr><td>&quot;16682980-1&quot;</td><td>&quot;16717744-1&quot;</td><td>0.863576</td><td>1590</td><td>0.600907</td></tr><tr><td>&quot;16559174-1&quot;</td><td>&quot;16682980-1&quot;</td><td>0.842894</td><td>1465</td><td>0.549925</td></tr><tr><td>&quot;16519520-1&quot;</td><td>&quot;16559174-1&quot;</td><td>0.867637</td><td>1345</td><td>0.51063</td></tr></tbody></table></div>"
      ],
      "text/plain": [
       "shape: (5, 5)\n",
       "┌────────────┬────────────┬──────────┬──────┬──────────┐\n",
       "│ r_id       ┆ s_id       ┆ jsim     ┆ o_a  ┆ a%       │\n",
       "│ ---        ┆ ---        ┆ ---      ┆ ---  ┆ ---      │\n",
       "│ str        ┆ str        ┆ f64      ┆ i64  ┆ f64      │\n",
       "╞════════════╪════════════╪══════════╪══════╪══════════╡\n",
       "│ 14342092-1 ┆ 37953453-1 ┆ 0.55753  ┆ 1778 ┆ 0.958491 │\n",
       "│ 16517223-1 ┆ 16519520-1 ┆ 0.915589 ┆ 1640 ┆ 0.622627 │\n",
       "│ 16682980-1 ┆ 16717744-1 ┆ 0.863576 ┆ 1590 ┆ 0.600907 │\n",
       "│ 16559174-1 ┆ 16682980-1 ┆ 0.842894 ┆ 1465 ┆ 0.549925 │\n",
       "│ 16519520-1 ┆ 16559174-1 ┆ 0.867637 ┆ 1345 ┆ 0.51063  │\n",
       "└────────────┴────────────┴──────────┴──────┴──────────┘"
      ]
     },
     "execution_count": 11,
     "metadata": {},
     "output_type": "execute_result"
    }
   ],
   "source": [
    "sloth_results.head()"
   ]
  },
  {
   "cell_type": "markdown",
   "metadata": {},
   "source": [
    "# Computing the similarity mean to rank the tables"
   ]
  },
  {
   "cell_type": "markdown",
   "metadata": {},
   "source": [
    "## Test 1: Low Jaccard - High Overlap"
   ]
  },
  {
   "cell_type": "code",
   "execution_count": 12,
   "metadata": {},
   "outputs": [
    {
     "data": {
      "text/html": [
       "<div><style>\n",
       ".dataframe > thead > tr,\n",
       ".dataframe > tbody > tr {\n",
       "  text-align: right;\n",
       "  white-space: pre-wrap;\n",
       "}\n",
       "</style>\n",
       "<small>shape: (1, 5)</small><table border=\"1\" class=\"dataframe\"><thead><tr><th>r_id</th><th>s_id</th><th>jsim</th><th>o_a</th><th>a%</th></tr><tr><td>str</td><td>str</td><td>f64</td><td>i64</td><td>f64</td></tr></thead><tbody><tr><td>&quot;14342092-1&quot;</td><td>&quot;37953453-1&quot;</td><td>0.55753</td><td>1778</td><td>0.958491</td></tr></tbody></table></div>"
      ],
      "text/plain": [
       "shape: (1, 5)\n",
       "┌────────────┬────────────┬─────────┬──────┬──────────┐\n",
       "│ r_id       ┆ s_id       ┆ jsim    ┆ o_a  ┆ a%       │\n",
       "│ ---        ┆ ---        ┆ ---     ┆ ---  ┆ ---      │\n",
       "│ str        ┆ str        ┆ f64     ┆ i64  ┆ f64      │\n",
       "╞════════════╪════════════╪═════════╪══════╪══════════╡\n",
       "│ 14342092-1 ┆ 37953453-1 ┆ 0.55753 ┆ 1778 ┆ 0.958491 │\n",
       "└────────────┴────────────┴─────────┴──────┴──────────┘"
      ]
     },
     "execution_count": 12,
     "metadata": {},
     "output_type": "execute_result"
    }
   ],
   "source": [
    "idx_row = 0\n",
    "sloth_result_rec = sloth_results[idx_row]\n",
    "sloth_result_rec"
   ]
  },
  {
   "cell_type": "code",
   "execution_count": 13,
   "metadata": {},
   "outputs": [
    {
     "data": {
      "text/plain": [
       "((265, 300), (7, 300))"
      ]
     },
     "execution_count": 13,
     "metadata": {},
     "output_type": "execute_result"
    }
   ],
   "source": [
    "r_id = sloth_result_rec['r_id'].item()\n",
    "s_id = sloth_result_rec['s_id'].item()\n",
    "r_table = get_from_jsonl_table_df(r_id) # sloth_tables[r_id]\n",
    "s_table = get_from_jsonl_table_df(s_id) # sloth_tables[s_id]\n",
    "\n",
    "r_row_embeddings, r_column_embeddings = tabenc.full_embedding(r_table, True)\n",
    "r_row_embeddings.shape, r_column_embeddings.shape "
   ]
  },
  {
   "cell_type": "code",
   "execution_count": 14,
   "metadata": {},
   "outputs": [
    {
     "data": {
      "text/html": [
       "<div>\n",
       "<style scoped>\n",
       "    .dataframe tbody tr th:only-of-type {\n",
       "        vertical-align: middle;\n",
       "    }\n",
       "\n",
       "    .dataframe tbody tr th {\n",
       "        vertical-align: top;\n",
       "    }\n",
       "\n",
       "    .dataframe thead th {\n",
       "        text-align: right;\n",
       "    }\n",
       "</style>\n",
       "<table border=\"1\" class=\"dataframe\">\n",
       "  <thead>\n",
       "    <tr style=\"text-align: right;\">\n",
       "      <th></th>\n",
       "      <th>Name</th>\n",
       "      <th>Rural municipality (RM)</th>\n",
       "      <th>Population (2011)</th>\n",
       "      <th>Population (2006)</th>\n",
       "      <th>Change (%)</th>\n",
       "      <th>Land area (km²)</th>\n",
       "      <th>Population density (per km²)</th>\n",
       "    </tr>\n",
       "  </thead>\n",
       "  <tbody>\n",
       "    <tr>\n",
       "      <th>0</th>\n",
       "      <td>Abbey</td>\n",
       "      <td>Miry Creek No. 229</td>\n",
       "      <td>115</td>\n",
       "      <td>130</td>\n",
       "      <td>-11.5</td>\n",
       "      <td>0.77</td>\n",
       "      <td>149.1</td>\n",
       "    </tr>\n",
       "    <tr>\n",
       "      <th>1</th>\n",
       "      <td>Abernethy</td>\n",
       "      <td>Abernethy No. 186</td>\n",
       "      <td>196</td>\n",
       "      <td>197</td>\n",
       "      <td>-0.5</td>\n",
       "      <td>1.03</td>\n",
       "      <td>189.9</td>\n",
       "    </tr>\n",
       "    <tr>\n",
       "      <th>2</th>\n",
       "      <td>Albertville</td>\n",
       "      <td>Wise Creek No. 77</td>\n",
       "      <td>140</td>\n",
       "      <td>110</td>\n",
       "      <td>27.3</td>\n",
       "      <td>1.12</td>\n",
       "      <td>124.7</td>\n",
       "    </tr>\n",
       "    <tr>\n",
       "      <th>3</th>\n",
       "      <td>Alida</td>\n",
       "      <td>Reciprocity No. 32</td>\n",
       "      <td>131</td>\n",
       "      <td>106</td>\n",
       "      <td>23.6</td>\n",
       "      <td>0.37</td>\n",
       "      <td>357.1</td>\n",
       "    </tr>\n",
       "    <tr>\n",
       "      <th>4</th>\n",
       "      <td>Alvena</td>\n",
       "      <td>Fish Creek No. 402</td>\n",
       "      <td>55</td>\n",
       "      <td>55</td>\n",
       "      <td>0</td>\n",
       "      <td>0.43</td>\n",
       "      <td>128</td>\n",
       "    </tr>\n",
       "  </tbody>\n",
       "</table>\n",
       "</div>"
      ],
      "text/plain": [
       "          Name Rural municipality (RM) Population (2011) Population (2006)  \\\n",
       "0        Abbey      Miry Creek No. 229               115               130   \n",
       "1    Abernethy       Abernethy No. 186               196               197   \n",
       "2  Albertville       Wise Creek No. 77               140               110   \n",
       "3        Alida      Reciprocity No. 32               131               106   \n",
       "4       Alvena      Fish Creek No. 402                55                55   \n",
       "\n",
       "  Change (%) Land area (km²) Population density (per km²)  \n",
       "0      -11.5            0.77                        149.1  \n",
       "1       -0.5            1.03                        189.9  \n",
       "2       27.3            1.12                        124.7  \n",
       "3       23.6            0.37                        357.1  \n",
       "4          0            0.43                          128  "
      ]
     },
     "execution_count": 14,
     "metadata": {},
     "output_type": "execute_result"
    }
   ],
   "source": [
    "r_table.head()"
   ]
  },
  {
   "cell_type": "code",
   "execution_count": 15,
   "metadata": {},
   "outputs": [
    {
     "data": {
      "text/html": [
       "<div>\n",
       "<style scoped>\n",
       "    .dataframe tbody tr th:only-of-type {\n",
       "        vertical-align: middle;\n",
       "    }\n",
       "\n",
       "    .dataframe tbody tr th {\n",
       "        vertical-align: top;\n",
       "    }\n",
       "\n",
       "    .dataframe thead th {\n",
       "        text-align: right;\n",
       "    }\n",
       "</style>\n",
       "<table border=\"1\" class=\"dataframe\">\n",
       "  <thead>\n",
       "    <tr style=\"text-align: right;\">\n",
       "      <th></th>\n",
       "      <th>Name</th>\n",
       "      <th>Status</th>\n",
       "      <th>Rural municipality</th>\n",
       "      <th>Population (2011)</th>\n",
       "      <th>Population (2006)</th>\n",
       "      <th>Change (%)</th>\n",
       "      <th>Land area (km²)</th>\n",
       "      <th>Population density (per km 2 )</th>\n",
       "    </tr>\n",
       "  </thead>\n",
       "  <tbody>\n",
       "    <tr>\n",
       "      <th>0</th>\n",
       "      <td>Estevan</td>\n",
       "      <td>City</td>\n",
       "      <td>Estevan No. 5</td>\n",
       "      <td>11054</td>\n",
       "      <td>10084</td>\n",
       "      <td>9.6</td>\n",
       "      <td>18.85</td>\n",
       "      <td>586.6</td>\n",
       "    </tr>\n",
       "    <tr>\n",
       "      <th>1</th>\n",
       "      <td>Flin Flon (part)</td>\n",
       "      <td>City</td>\n",
       "      <td>—</td>\n",
       "      <td>229 This population does not include 5,363 in ...</td>\n",
       "      <td>242</td>\n",
       "      <td>-5.4</td>\n",
       "      <td>2.37 This area does not include km2 (sqmi) in ...</td>\n",
       "      <td>96.4</td>\n",
       "    </tr>\n",
       "    <tr>\n",
       "      <th>2</th>\n",
       "      <td>Humboldt</td>\n",
       "      <td>City</td>\n",
       "      <td>Humboldt No. 370</td>\n",
       "      <td>5678</td>\n",
       "      <td>4998</td>\n",
       "      <td>13.6</td>\n",
       "      <td>13.46</td>\n",
       "      <td>421.9</td>\n",
       "    </tr>\n",
       "    <tr>\n",
       "      <th>3</th>\n",
       "      <td>Lloydminster (part) The balance of Lloydminste...</td>\n",
       "      <td>City</td>\n",
       "      <td>Britannia No. 502</td>\n",
       "      <td>9772 This population does not include 18,032 i...</td>\n",
       "      <td>8118</td>\n",
       "      <td>20.4</td>\n",
       "      <td>17.34 This area does not include km2 (sqmi) in...</td>\n",
       "      <td>563.6</td>\n",
       "    </tr>\n",
       "    <tr>\n",
       "      <th>4</th>\n",
       "      <td>Martensville Martensville is Saskatchewan's sm...</td>\n",
       "      <td>City</td>\n",
       "      <td>Corman Park No. 344</td>\n",
       "      <td>7716</td>\n",
       "      <td>4978</td>\n",
       "      <td>55</td>\n",
       "      <td>6.23</td>\n",
       "      <td>1239.3</td>\n",
       "    </tr>\n",
       "  </tbody>\n",
       "</table>\n",
       "</div>"
      ],
      "text/plain": [
       "                                                Name Status  \\\n",
       "0                                            Estevan   City   \n",
       "1                                   Flin Flon (part)   City   \n",
       "2                                           Humboldt   City   \n",
       "3  Lloydminster (part) The balance of Lloydminste...   City   \n",
       "4  Martensville Martensville is Saskatchewan's sm...   City   \n",
       "\n",
       "    Rural municipality                                  Population (2011)  \\\n",
       "0        Estevan No. 5                                              11054   \n",
       "1                    —  229 This population does not include 5,363 in ...   \n",
       "2     Humboldt No. 370                                               5678   \n",
       "3    Britannia No. 502  9772 This population does not include 18,032 i...   \n",
       "4  Corman Park No. 344                                               7716   \n",
       "\n",
       "  Population (2006) Change (%)  \\\n",
       "0             10084        9.6   \n",
       "1               242       -5.4   \n",
       "2              4998       13.6   \n",
       "3              8118       20.4   \n",
       "4              4978         55   \n",
       "\n",
       "                                     Land area (km²)  \\\n",
       "0                                              18.85   \n",
       "1  2.37 This area does not include km2 (sqmi) in ...   \n",
       "2                                              13.46   \n",
       "3  17.34 This area does not include km2 (sqmi) in...   \n",
       "4                                               6.23   \n",
       "\n",
       "  Population density (per km 2 )  \n",
       "0                          586.6  \n",
       "1                           96.4  \n",
       "2                          421.9  \n",
       "3                          563.6  \n",
       "4                         1239.3  "
      ]
     },
     "execution_count": 15,
     "metadata": {},
     "output_type": "execute_result"
    }
   ],
   "source": [
    "s_table.head()"
   ]
  },
  {
   "cell_type": "markdown",
   "metadata": {},
   "source": [
    "### Row querying"
   ]
  },
  {
   "cell_type": "code",
   "execution_count": 16,
   "metadata": {},
   "outputs": [],
   "source": [
    "res = row_collection.query(\n",
    "    query_embeddings=r_row_embeddings.tolist(),\n",
    "    n_results=20,\n",
    "    include=['metadatas', 'distances'],\n",
    "    where={'table_id': {'$ne': r_id}}\n",
    ")"
   ]
  },
  {
   "cell_type": "code",
   "execution_count": 17,
   "metadata": {},
   "outputs": [],
   "source": [
    "row_tid_freq_simlist = defaultdict(list)\n",
    "for i, res_metadatas in enumerate(res['metadatas']):\n",
    "    for j, single_rec in enumerate(res_metadatas):\n",
    "        row_tid_freq_simlist[single_rec['table_id']].append(res['distances'][i][j])"
   ]
  },
  {
   "cell_type": "code",
   "execution_count": 18,
   "metadata": {},
   "outputs": [
    {
     "data": {
      "text/html": [
       "<div>\n",
       "<style scoped>\n",
       "    .dataframe tbody tr th:only-of-type {\n",
       "        vertical-align: middle;\n",
       "    }\n",
       "\n",
       "    .dataframe tbody tr th {\n",
       "        vertical-align: top;\n",
       "    }\n",
       "\n",
       "    .dataframe thead th {\n",
       "        text-align: right;\n",
       "    }\n",
       "</style>\n",
       "<table border=\"1\" class=\"dataframe\">\n",
       "  <thead>\n",
       "    <tr style=\"text-align: right;\">\n",
       "      <th></th>\n",
       "      <th>table_id</th>\n",
       "      <th>freq</th>\n",
       "      <th>avg-cosine-distance</th>\n",
       "    </tr>\n",
       "  </thead>\n",
       "  <tbody>\n",
       "    <tr>\n",
       "      <th>0</th>\n",
       "      <td>30307073-2</td>\n",
       "      <td>2</td>\n",
       "      <td>0.015381</td>\n",
       "    </tr>\n",
       "    <tr>\n",
       "      <th>1</th>\n",
       "      <td>1650910-2</td>\n",
       "      <td>3</td>\n",
       "      <td>0.015790</td>\n",
       "    </tr>\n",
       "    <tr>\n",
       "      <th>2</th>\n",
       "      <td>3310797-3</td>\n",
       "      <td>4</td>\n",
       "      <td>0.015809</td>\n",
       "    </tr>\n",
       "    <tr>\n",
       "      <th>3</th>\n",
       "      <td>1650901-2</td>\n",
       "      <td>2</td>\n",
       "      <td>0.015842</td>\n",
       "    </tr>\n",
       "    <tr>\n",
       "      <th>4</th>\n",
       "      <td>16332699-1</td>\n",
       "      <td>2</td>\n",
       "      <td>0.016801</td>\n",
       "    </tr>\n",
       "    <tr>\n",
       "      <th>5</th>\n",
       "      <td>16709873-2</td>\n",
       "      <td>2</td>\n",
       "      <td>0.017015</td>\n",
       "    </tr>\n",
       "    <tr>\n",
       "      <th>6</th>\n",
       "      <td>23890542-5</td>\n",
       "      <td>2</td>\n",
       "      <td>0.017039</td>\n",
       "    </tr>\n",
       "    <tr>\n",
       "      <th>7</th>\n",
       "      <td>3149882-1</td>\n",
       "      <td>2</td>\n",
       "      <td>0.017543</td>\n",
       "    </tr>\n",
       "    <tr>\n",
       "      <th>8</th>\n",
       "      <td>40305504-5</td>\n",
       "      <td>3</td>\n",
       "      <td>0.017564</td>\n",
       "    </tr>\n",
       "    <tr>\n",
       "      <th>9</th>\n",
       "      <td>35838476-2</td>\n",
       "      <td>2</td>\n",
       "      <td>0.017569</td>\n",
       "    </tr>\n",
       "  </tbody>\n",
       "</table>\n",
       "</div>"
      ],
      "text/plain": [
       "     table_id  freq  avg-cosine-distance\n",
       "0  30307073-2     2             0.015381\n",
       "1   1650910-2     3             0.015790\n",
       "2   3310797-3     4             0.015809\n",
       "3   1650901-2     2             0.015842\n",
       "4  16332699-1     2             0.016801\n",
       "5  16709873-2     2             0.017015\n",
       "6  23890542-5     2             0.017039\n",
       "7   3149882-1     2             0.017543\n",
       "8  40305504-5     3             0.017564\n",
       "9  35838476-2     2             0.017569"
      ]
     },
     "execution_count": 18,
     "metadata": {},
     "output_type": "execute_result"
    }
   ],
   "source": [
    "row_freq_avgcos_df = pd.DataFrame(\n",
    "    list(map(lambda t: (t[0], len(t[1]), sum(t[1])/len(t[1])), row_tid_freq_simlist.items())), columns=['table_id', 'freq', 'avg-cosine-distance']\n",
    "    )\n",
    "row_freq_avgcos_df.sort_values(by=['avg-cosine-distance', 'freq'], ascending=[True, False], inplace=True, ignore_index=True)\n",
    "row_freq_avgcos_df = row_freq_avgcos_df[row_freq_avgcos_df['freq'] > 1].reset_index().drop('index', axis=1)\n",
    "row_freq_avgcos_df.head(10)"
   ]
  },
  {
   "cell_type": "code",
   "execution_count": 25,
   "metadata": {},
   "outputs": [
    {
     "data": {
      "text/html": [
       "<div>\n",
       "<style scoped>\n",
       "    .dataframe tbody tr th:only-of-type {\n",
       "        vertical-align: middle;\n",
       "    }\n",
       "\n",
       "    .dataframe tbody tr th {\n",
       "        vertical-align: top;\n",
       "    }\n",
       "\n",
       "    .dataframe thead th {\n",
       "        text-align: right;\n",
       "    }\n",
       "</style>\n",
       "<table border=\"1\" class=\"dataframe\">\n",
       "  <thead>\n",
       "    <tr style=\"text-align: right;\">\n",
       "      <th></th>\n",
       "      <th>table_id</th>\n",
       "      <th>freq</th>\n",
       "      <th>avg-cosine-distance</th>\n",
       "    </tr>\n",
       "  </thead>\n",
       "  <tbody>\n",
       "    <tr>\n",
       "      <th>310</th>\n",
       "      <td>37953453-1</td>\n",
       "      <td>1742</td>\n",
       "      <td>0.036194</td>\n",
       "    </tr>\n",
       "  </tbody>\n",
       "</table>\n",
       "</div>"
      ],
      "text/plain": [
       "       table_id  freq  avg-cosine-distance\n",
       "310  37953453-1  1742             0.036194"
      ]
     },
     "execution_count": 25,
     "metadata": {},
     "output_type": "execute_result"
    }
   ],
   "source": [
    "s_rec = row_freq_avgcos_df[row_freq_avgcos_df['table_id'] == s_id]\n",
    "s_id_idx = int(s_rec.index.values)\n",
    "s_rec"
   ]
  },
  {
   "cell_type": "code",
   "execution_count": null,
   "metadata": {},
   "outputs": [],
   "source": [
    "get_from_jsonl_table_df(row_freq_avgcos_df.loc[s_id_idx, 'table_id'])"
   ]
  },
  {
   "cell_type": "code",
   "execution_count": 28,
   "metadata": {},
   "outputs": [
    {
     "data": {
      "image/png": "[encoded data removed]",
      "text/plain": [
       "<Figure size 640x480 with 1 Axes>"
      ]
     },
     "metadata": {},
     "output_type": "display_data"
    }
   ],
   "source": [
    "plt.yscale('log')\n",
    "plt.hist(row_tid_freq_simlist[row_freq_avgcos_df.loc[s_id_idx, 'table_id']], bins=20, alpha=0.7)\n",
    "for idx in range(0, s_id_idx - 1, 10):\n",
    "    plt.hist(row_tid_freq_simlist[row_freq_avgcos_df.loc[idx, 'table_id']], bins=20)\n",
    "\n",
    "plt.axvline(x=row_freq_avgcos_df.loc[s_id_idx, 'avg-cosine-distance'], color='r')\n",
    "plt.show()"
   ]
  },
  {
   "cell_type": "code",
   "execution_count": 48,
   "metadata": {},
   "outputs": [
    {
     "data": {
      "image/png": "[encoded data removed]",
      "text/plain": [
       "<Figure size 640x480 with 1 Axes>"
      ]
     },
     "metadata": {},
     "output_type": "display_data"
    }
   ],
   "source": [
    "plt.yscale('log')\n",
    "plt.hist(row_freq_avgcos_df['freq'], bins=20, rwidth=1)\n",
    "plt.show()"
   ]
  },
  {
   "cell_type": "markdown",
   "metadata": {},
   "source": [
    "### Column querying"
   ]
  },
  {
   "cell_type": "code",
   "execution_count": 29,
   "metadata": {},
   "outputs": [],
   "source": [
    "col_res = column_collection.query(\n",
    "    query_embeddings=r_column_embeddings.tolist(),\n",
    "    n_results=20,\n",
    "    include=['metadatas', 'distances'],\n",
    "    where={'table_id': {'$ne': r_id}}\n",
    ")"
   ]
  },
  {
   "cell_type": "code",
   "execution_count": 30,
   "metadata": {},
   "outputs": [],
   "source": [
    "col_tid_freq_simlist = defaultdict(list)\n",
    "for i, res_metadatas in enumerate(col_res['metadatas']):\n",
    "    for j, single_rec in enumerate(res_metadatas):\n",
    "        col_tid_freq_simlist[single_rec['table_id']].append(col_res['distances'][i][j])"
   ]
  },
  {
   "cell_type": "code",
   "execution_count": 39,
   "metadata": {},
   "outputs": [
    {
     "data": {
      "text/html": [
       "<div>\n",
       "<style scoped>\n",
       "    .dataframe tbody tr th:only-of-type {\n",
       "        vertical-align: middle;\n",
       "    }\n",
       "\n",
       "    .dataframe tbody tr th {\n",
       "        vertical-align: top;\n",
       "    }\n",
       "\n",
       "    .dataframe thead th {\n",
       "        text-align: right;\n",
       "    }\n",
       "</style>\n",
       "<table border=\"1\" class=\"dataframe\">\n",
       "  <thead>\n",
       "    <tr style=\"text-align: right;\">\n",
       "      <th></th>\n",
       "      <th>table_id</th>\n",
       "      <th>freq</th>\n",
       "      <th>avg-cosine-distance</th>\n",
       "    </tr>\n",
       "  </thead>\n",
       "  <tbody>\n",
       "    <tr>\n",
       "      <th>0</th>\n",
       "      <td>20010164-2</td>\n",
       "      <td>4</td>\n",
       "      <td>0.001202</td>\n",
       "    </tr>\n",
       "    <tr>\n",
       "      <th>1</th>\n",
       "      <td>5116633-1</td>\n",
       "      <td>2</td>\n",
       "      <td>0.001346</td>\n",
       "    </tr>\n",
       "    <tr>\n",
       "      <th>2</th>\n",
       "      <td>33895892-8</td>\n",
       "      <td>2</td>\n",
       "      <td>0.001476</td>\n",
       "    </tr>\n",
       "    <tr>\n",
       "      <th>3</th>\n",
       "      <td>37953453-1</td>\n",
       "      <td>9</td>\n",
       "      <td>0.002961</td>\n",
       "    </tr>\n",
       "    <tr>\n",
       "      <th>4</th>\n",
       "      <td>10848656-1</td>\n",
       "      <td>2</td>\n",
       "      <td>0.005462</td>\n",
       "    </tr>\n",
       "  </tbody>\n",
       "</table>\n",
       "</div>"
      ],
      "text/plain": [
       "     table_id  freq  avg-cosine-distance\n",
       "0  20010164-2     4             0.001202\n",
       "1   5116633-1     2             0.001346\n",
       "2  33895892-8     2             0.001476\n",
       "3  37953453-1     9             0.002961\n",
       "4  10848656-1     2             0.005462"
      ]
     },
     "execution_count": 39,
     "metadata": {},
     "output_type": "execute_result"
    }
   ],
   "source": [
    "col_freq_avgcos_df = pd.DataFrame(\n",
    "    list(map(lambda t: (t[0], len(t[1]), sum(t[1])/len(t[1])), col_tid_freq_simlist.items())), columns=['table_id', 'freq', 'avg-cosine-distance']\n",
    "    )\n",
    "col_freq_avgcos_df.sort_values(by=['avg-cosine-distance', 'freq'], ascending=[True, False], inplace=True)\n",
    "\n",
    "# discarding tables which appears only once, since they aren't actually significative\n",
    "col_freq_avgcos_df = col_freq_avgcos_df[col_freq_avgcos_df['freq'] > 1].reset_index().drop('index', axis=1)\n",
    "col_freq_avgcos_df.head()"
   ]
  },
  {
   "cell_type": "code",
   "execution_count": 40,
   "metadata": {},
   "outputs": [
    {
     "data": {
      "text/html": [
       "<div>\n",
       "<style scoped>\n",
       "    .dataframe tbody tr th:only-of-type {\n",
       "        vertical-align: middle;\n",
       "    }\n",
       "\n",
       "    .dataframe tbody tr th {\n",
       "        vertical-align: top;\n",
       "    }\n",
       "\n",
       "    .dataframe thead th {\n",
       "        text-align: right;\n",
       "    }\n",
       "</style>\n",
       "<table border=\"1\" class=\"dataframe\">\n",
       "  <thead>\n",
       "    <tr style=\"text-align: right;\">\n",
       "      <th></th>\n",
       "      <th>table_id</th>\n",
       "      <th>freq</th>\n",
       "      <th>avg-cosine-distance</th>\n",
       "    </tr>\n",
       "  </thead>\n",
       "  <tbody>\n",
       "    <tr>\n",
       "      <th>3</th>\n",
       "      <td>37953453-1</td>\n",
       "      <td>9</td>\n",
       "      <td>0.002961</td>\n",
       "    </tr>\n",
       "  </tbody>\n",
       "</table>\n",
       "</div>"
      ],
      "text/plain": [
       "     table_id  freq  avg-cosine-distance\n",
       "3  37953453-1     9             0.002961"
      ]
     },
     "execution_count": 40,
     "metadata": {},
     "output_type": "execute_result"
    }
   ],
   "source": [
    "col_freq_avgcos_df[col_freq_avgcos_df['table_id'] == s_id]"
   ]
  },
  {
   "cell_type": "code",
   "execution_count": 41,
   "metadata": {},
   "outputs": [
    {
     "data": {
      "text/plain": [
       "<Axes: >"
      ]
     },
     "execution_count": 41,
     "metadata": {},
     "output_type": "execute_result"
    },
    {
     "data": {
      "image/png": "[encoded data removed]",
      "text/plain": [
       "<Figure size 640x480 with 1 Axes>"
      ]
     },
     "metadata": {},
     "output_type": "display_data"
    }
   ],
   "source": [
    "col_freq_avgcos_df['freq'].hist()"
   ]
  },
  {
   "cell_type": "markdown",
   "metadata": {},
   "source": [
    "### Conclusions"
   ]
  },
  {
   "cell_type": "code",
   "execution_count": 49,
   "metadata": {},
   "outputs": [
    {
     "data": {
      "text/html": [
       "<div><style>\n",
       ".dataframe > thead > tr,\n",
       ".dataframe > tbody > tr {\n",
       "  text-align: right;\n",
       "  white-space: pre-wrap;\n",
       "}\n",
       "</style>\n",
       "<small>shape: (1, 5)</small><table border=\"1\" class=\"dataframe\"><thead><tr><th>r_id</th><th>s_id</th><th>jsim</th><th>o_a</th><th>a%</th></tr><tr><td>str</td><td>str</td><td>f64</td><td>i64</td><td>f64</td></tr></thead><tbody><tr><td>&quot;14342092-1&quot;</td><td>&quot;37953453-1&quot;</td><td>0.55753</td><td>1778</td><td>0.958491</td></tr></tbody></table></div>"
      ],
      "text/plain": [
       "shape: (1, 5)\n",
       "┌────────────┬────────────┬─────────┬──────┬──────────┐\n",
       "│ r_id       ┆ s_id       ┆ jsim    ┆ o_a  ┆ a%       │\n",
       "│ ---        ┆ ---        ┆ ---     ┆ ---  ┆ ---      │\n",
       "│ str        ┆ str        ┆ f64     ┆ i64  ┆ f64      │\n",
       "╞════════════╪════════════╪═════════╪══════╪══════════╡\n",
       "│ 14342092-1 ┆ 37953453-1 ┆ 0.55753 ┆ 1778 ┆ 0.958491 │\n",
       "└────────────┴────────────┴─────────┴──────┴──────────┘"
      ]
     },
     "execution_count": 49,
     "metadata": {},
     "output_type": "execute_result"
    }
   ],
   "source": [
    "sloth_result_rec"
   ]
  },
  {
   "cell_type": "markdown",
   "metadata": {},
   "source": [
    "Nonostante la jsim molto bassa, anche in questo caso nel ranking sia tra colonne che tra righe la s_table di partenza è prima se si considera innnanzitutto la frequenza come fattore di ordinamento, altrimenti con la cosine distance media è comunque tra le prime\n",
    "\n",
    "Come relazionare bene eventualmente questi due parametri?"
   ]
  },
  {
   "cell_type": "markdown",
   "metadata": {},
   "source": [
    "## Test 2: High Jaccard - High Overlap"
   ]
  },
  {
   "cell_type": "code",
   "execution_count": 50,
   "metadata": {},
   "outputs": [
    {
     "data": {
      "text/html": [
       "<div><style>\n",
       ".dataframe > thead > tr,\n",
       ".dataframe > tbody > tr {\n",
       "  text-align: right;\n",
       "  white-space: pre-wrap;\n",
       "}\n",
       "</style>\n",
       "<small>shape: (10, 5)</small><table border=\"1\" class=\"dataframe\"><thead><tr><th>r_id</th><th>s_id</th><th>jsim</th><th>o_a</th><th>a%</th></tr><tr><td>str</td><td>str</td><td>f64</td><td>i64</td><td>f64</td></tr></thead><tbody><tr><td>&quot;8246204-5&quot;</td><td>&quot;8246204-8&quot;</td><td>0.666667</td><td>588</td><td>0.913043</td></tr><tr><td>&quot;33589658-1&quot;</td><td>&quot;33589658-2&quot;</td><td>0.7875</td><td>540</td><td>0.952381</td></tr><tr><td>&quot;40275491-1&quot;</td><td>&quot;40275563-1&quot;</td><td>0.931579</td><td>504</td><td>0.965517</td></tr><tr><td>&quot;16288618-2&quot;</td><td>&quot;16288731-3&quot;</td><td>0.744186</td><td>484</td><td>0.768254</td></tr><tr><td>&quot;16288306-2&quot;</td><td>&quot;16288618-2&quot;</td><td>0.754098</td><td>462</td><td>0.785714</td></tr><tr><td>&quot;36630062-1&quot;</td><td>&quot;40275491-1&quot;</td><td>0.658824</td><td>462</td><td>0.885057</td></tr><tr><td>&quot;23266117-5&quot;</td><td>&quot;37438685-5&quot;</td><td>1.0</td><td>451</td><td>1.0</td></tr><tr><td>&quot;29361244-2&quot;</td><td>&quot;29361282-2&quot;</td><td>0.798165</td><td>440</td><td>0.785714</td></tr><tr><td>&quot;16288224-2&quot;</td><td>&quot;16288306-2&quot;</td><td>0.765217</td><td>429</td><td>0.766071</td></tr><tr><td>&quot;28463506-1&quot;</td><td>&quot;40482432-1&quot;</td><td>0.70516</td><td>425</td><td>0.566667</td></tr></tbody></table></div>"
      ],
      "text/plain": [
       "shape: (10, 5)\n",
       "┌────────────┬────────────┬──────────┬─────┬──────────┐\n",
       "│ r_id       ┆ s_id       ┆ jsim     ┆ o_a ┆ a%       │\n",
       "│ ---        ┆ ---        ┆ ---      ┆ --- ┆ ---      │\n",
       "│ str        ┆ str        ┆ f64      ┆ i64 ┆ f64      │\n",
       "╞════════════╪════════════╪══════════╪═════╪══════════╡\n",
       "│ 8246204-5  ┆ 8246204-8  ┆ 0.666667 ┆ 588 ┆ 0.913043 │\n",
       "│ 33589658-1 ┆ 33589658-2 ┆ 0.7875   ┆ 540 ┆ 0.952381 │\n",
       "│ 40275491-1 ┆ 40275563-1 ┆ 0.931579 ┆ 504 ┆ 0.965517 │\n",
       "│ 16288618-2 ┆ 16288731-3 ┆ 0.744186 ┆ 484 ┆ 0.768254 │\n",
       "│ 16288306-2 ┆ 16288618-2 ┆ 0.754098 ┆ 462 ┆ 0.785714 │\n",
       "│ 36630062-1 ┆ 40275491-1 ┆ 0.658824 ┆ 462 ┆ 0.885057 │\n",
       "│ 23266117-5 ┆ 37438685-5 ┆ 1.0      ┆ 451 ┆ 1.0      │\n",
       "│ 29361244-2 ┆ 29361282-2 ┆ 0.798165 ┆ 440 ┆ 0.785714 │\n",
       "│ 16288224-2 ┆ 16288306-2 ┆ 0.765217 ┆ 429 ┆ 0.766071 │\n",
       "│ 28463506-1 ┆ 40482432-1 ┆ 0.70516  ┆ 425 ┆ 0.566667 │\n",
       "└────────────┴────────────┴──────────┴─────┴──────────┘"
      ]
     },
     "execution_count": 50,
     "metadata": {},
     "output_type": "execute_result"
    }
   ],
   "source": [
    "sloth_results[10:20]"
   ]
  },
  {
   "cell_type": "code",
   "execution_count": 51,
   "metadata": {},
   "outputs": [
    {
     "data": {
      "text/html": [
       "<div><style>\n",
       ".dataframe > thead > tr,\n",
       ".dataframe > tbody > tr {\n",
       "  text-align: right;\n",
       "  white-space: pre-wrap;\n",
       "}\n",
       "</style>\n",
       "<small>shape: (1, 5)</small><table border=\"1\" class=\"dataframe\"><thead><tr><th>r_id</th><th>s_id</th><th>jsim</th><th>o_a</th><th>a%</th></tr><tr><td>str</td><td>str</td><td>f64</td><td>i64</td><td>f64</td></tr></thead><tbody><tr><td>&quot;40275491-1&quot;</td><td>&quot;40275563-1&quot;</td><td>0.931579</td><td>504</td><td>0.965517</td></tr></tbody></table></div>"
      ],
      "text/plain": [
       "shape: (1, 5)\n",
       "┌────────────┬────────────┬──────────┬─────┬──────────┐\n",
       "│ r_id       ┆ s_id       ┆ jsim     ┆ o_a ┆ a%       │\n",
       "│ ---        ┆ ---        ┆ ---      ┆ --- ┆ ---      │\n",
       "│ str        ┆ str        ┆ f64      ┆ i64 ┆ f64      │\n",
       "╞════════════╪════════════╪══════════╪═════╪══════════╡\n",
       "│ 40275491-1 ┆ 40275563-1 ┆ 0.931579 ┆ 504 ┆ 0.965517 │\n",
       "└────────────┴────────────┴──────────┴─────┴──────────┘"
      ]
     },
     "execution_count": 51,
     "metadata": {},
     "output_type": "execute_result"
    }
   ],
   "source": [
    "idx_row = 12\n",
    "sloth_result_rec = sloth_results[idx_row]\n",
    "sloth_result_rec"
   ]
  },
  {
   "cell_type": "code",
   "execution_count": 52,
   "metadata": {},
   "outputs": [
    {
     "data": {
      "text/plain": [
       "((174, 300), (3, 300))"
      ]
     },
     "execution_count": 52,
     "metadata": {},
     "output_type": "execute_result"
    }
   ],
   "source": [
    "r_id = sloth_result_rec['r_id'].item()\n",
    "s_id = sloth_result_rec['s_id'].item()\n",
    "r_table = get_from_jsonl_table_df(r_id) # sloth_tables[r_id]\n",
    "s_table = get_from_jsonl_table_df(s_id) # sloth_tables[s_id]\n",
    "\n",
    "r_row_embeddings, r_column_embeddings = tabenc.full_embedding(r_table, True)\n",
    "r_row_embeddings.shape, r_column_embeddings.shape "
   ]
  },
  {
   "cell_type": "code",
   "execution_count": null,
   "metadata": {},
   "outputs": [
    {
     "data": {
      "text/html": [
       "<div>\n",
       "<style scoped>\n",
       "    .dataframe tbody tr th:only-of-type {\n",
       "        vertical-align: middle;\n",
       "    }\n",
       "\n",
       "    .dataframe tbody tr th {\n",
       "        vertical-align: top;\n",
       "    }\n",
       "\n",
       "    .dataframe thead th {\n",
       "        text-align: right;\n",
       "    }\n",
       "</style>\n",
       "<table border=\"1\" class=\"dataframe\">\n",
       "  <thead>\n",
       "    <tr style=\"text-align: right;\">\n",
       "      <th></th>\n",
       "      <th>State</th>\n",
       "      <th>Defence minister</th>\n",
       "      <th>Party</th>\n",
       "    </tr>\n",
       "  </thead>\n",
       "  <tbody>\n",
       "    <tr>\n",
       "      <th>37</th>\n",
       "      <td>Comoros</td>\n",
       "      <td></td>\n",
       "      <td></td>\n",
       "    </tr>\n",
       "    <tr>\n",
       "      <th>94</th>\n",
       "      <td>Lebanon</td>\n",
       "      <td></td>\n",
       "      <td></td>\n",
       "    </tr>\n",
       "    <tr>\n",
       "      <th>1</th>\n",
       "      <td>Albania</td>\n",
       "      <td></td>\n",
       "      <td></td>\n",
       "    </tr>\n",
       "    <tr>\n",
       "      <th>60</th>\n",
       "      <td>France</td>\n",
       "      <td></td>\n",
       "      <td></td>\n",
       "    </tr>\n",
       "    <tr>\n",
       "      <th>165</th>\n",
       "      <td>United States</td>\n",
       "      <td>Treasury Secretary Chuck Hagel</td>\n",
       "      <td>Republican</td>\n",
       "    </tr>\n",
       "  </tbody>\n",
       "</table>\n",
       "</div>"
      ],
      "text/plain": [
       "             State                Defence minister       Party\n",
       "37         Comoros                                            \n",
       "94         Lebanon                                            \n",
       "1          Albania                                            \n",
       "60          France                                            \n",
       "165  United States  Treasury Secretary Chuck Hagel  Republican"
      ]
     },
     "metadata": {},
     "output_type": "display_data"
    }
   ],
   "source": [
    "r_table.sample(5)"
   ]
  },
  {
   "cell_type": "code",
   "execution_count": 53,
   "metadata": {},
   "outputs": [
    {
     "data": {
      "text/html": [
       "<div>\n",
       "<style scoped>\n",
       "    .dataframe tbody tr th:only-of-type {\n",
       "        vertical-align: middle;\n",
       "    }\n",
       "\n",
       "    .dataframe tbody tr th {\n",
       "        vertical-align: top;\n",
       "    }\n",
       "\n",
       "    .dataframe thead th {\n",
       "        text-align: right;\n",
       "    }\n",
       "</style>\n",
       "<table border=\"1\" class=\"dataframe\">\n",
       "  <thead>\n",
       "    <tr style=\"text-align: right;\">\n",
       "      <th></th>\n",
       "      <th>State</th>\n",
       "      <th>Interior minister</th>\n",
       "      <th>Party</th>\n",
       "    </tr>\n",
       "  </thead>\n",
       "  <tbody>\n",
       "    <tr>\n",
       "      <th>65</th>\n",
       "      <td>Ghana</td>\n",
       "      <td></td>\n",
       "      <td></td>\n",
       "    </tr>\n",
       "    <tr>\n",
       "      <th>58</th>\n",
       "      <td>Fiji</td>\n",
       "      <td></td>\n",
       "      <td></td>\n",
       "    </tr>\n",
       "    <tr>\n",
       "      <th>24</th>\n",
       "      <td>Brunei</td>\n",
       "      <td></td>\n",
       "      <td></td>\n",
       "    </tr>\n",
       "    <tr>\n",
       "      <th>101</th>\n",
       "      <td>Macedonia</td>\n",
       "      <td></td>\n",
       "      <td></td>\n",
       "    </tr>\n",
       "    <tr>\n",
       "      <th>156</th>\n",
       "      <td>Slovakia</td>\n",
       "      <td></td>\n",
       "      <td></td>\n",
       "    </tr>\n",
       "  </tbody>\n",
       "</table>\n",
       "</div>"
      ],
      "text/plain": [
       "         State Interior minister Party\n",
       "65       Ghana                        \n",
       "58        Fiji                        \n",
       "24      Brunei                        \n",
       "101  Macedonia                        \n",
       "156   Slovakia                        "
      ]
     },
     "execution_count": 53,
     "metadata": {},
     "output_type": "execute_result"
    }
   ],
   "source": [
    "s_table.sample(5)"
   ]
  },
  {
   "cell_type": "markdown",
   "metadata": {},
   "source": [
    "### Row querying"
   ]
  },
  {
   "cell_type": "code",
   "execution_count": 54,
   "metadata": {},
   "outputs": [],
   "source": [
    "res = row_collection.query(\n",
    "    query_embeddings=r_row_embeddings.tolist(),\n",
    "    n_results=10,\n",
    "    include=['metadatas', 'distances'],\n",
    "    where={'table_id': {'$ne': r_id}}\n",
    ")"
   ]
  },
  {
   "cell_type": "code",
   "execution_count": 55,
   "metadata": {},
   "outputs": [],
   "source": [
    "row_tid_freq_simlist = defaultdict(list)\n",
    "for i, res_metadatas in enumerate(res['metadatas']):\n",
    "    for j, single_rec in enumerate(res_metadatas):\n",
    "        row_tid_freq_simlist[single_rec['table_id']].append(res['distances'][i][j])"
   ]
  },
  {
   "cell_type": "code",
   "execution_count": 56,
   "metadata": {},
   "outputs": [
    {
     "data": {
      "text/html": [
       "<div>\n",
       "<style scoped>\n",
       "    .dataframe tbody tr th:only-of-type {\n",
       "        vertical-align: middle;\n",
       "    }\n",
       "\n",
       "    .dataframe tbody tr th {\n",
       "        vertical-align: top;\n",
       "    }\n",
       "\n",
       "    .dataframe thead th {\n",
       "        text-align: right;\n",
       "    }\n",
       "</style>\n",
       "<table border=\"1\" class=\"dataframe\">\n",
       "  <thead>\n",
       "    <tr style=\"text-align: right;\">\n",
       "      <th></th>\n",
       "      <th>table_id</th>\n",
       "      <th>freq</th>\n",
       "      <th>avg-cosine-distance</th>\n",
       "    </tr>\n",
       "  </thead>\n",
       "  <tbody>\n",
       "    <tr>\n",
       "      <th>40</th>\n",
       "      <td>11963783-1</td>\n",
       "      <td>2</td>\n",
       "      <td>0.175682</td>\n",
       "    </tr>\n",
       "    <tr>\n",
       "      <th>36</th>\n",
       "      <td>325218-1</td>\n",
       "      <td>2</td>\n",
       "      <td>0.201609</td>\n",
       "    </tr>\n",
       "    <tr>\n",
       "      <th>4</th>\n",
       "      <td>39598332-1</td>\n",
       "      <td>44</td>\n",
       "      <td>0.227124</td>\n",
       "    </tr>\n",
       "    <tr>\n",
       "      <th>0</th>\n",
       "      <td>37799969-8</td>\n",
       "      <td>36</td>\n",
       "      <td>0.233921</td>\n",
       "    </tr>\n",
       "    <tr>\n",
       "      <th>2</th>\n",
       "      <td>12739506-4</td>\n",
       "      <td>37</td>\n",
       "      <td>0.234216</td>\n",
       "    </tr>\n",
       "    <tr>\n",
       "      <th>1</th>\n",
       "      <td>29417661-2</td>\n",
       "      <td>38</td>\n",
       "      <td>0.234331</td>\n",
       "    </tr>\n",
       "    <tr>\n",
       "      <th>3</th>\n",
       "      <td>24254496-1</td>\n",
       "      <td>256</td>\n",
       "      <td>0.242562</td>\n",
       "    </tr>\n",
       "    <tr>\n",
       "      <th>5</th>\n",
       "      <td>19291505-1</td>\n",
       "      <td>149</td>\n",
       "      <td>0.248328</td>\n",
       "    </tr>\n",
       "    <tr>\n",
       "      <th>33</th>\n",
       "      <td>40275563-1</td>\n",
       "      <td>8</td>\n",
       "      <td>0.255610</td>\n",
       "    </tr>\n",
       "    <tr>\n",
       "      <th>23</th>\n",
       "      <td>1973157-2</td>\n",
       "      <td>7</td>\n",
       "      <td>0.261315</td>\n",
       "    </tr>\n",
       "  </tbody>\n",
       "</table>\n",
       "</div>"
      ],
      "text/plain": [
       "      table_id  freq  avg-cosine-distance\n",
       "40  11963783-1     2             0.175682\n",
       "36    325218-1     2             0.201609\n",
       "4   39598332-1    44             0.227124\n",
       "0   37799969-8    36             0.233921\n",
       "2   12739506-4    37             0.234216\n",
       "1   29417661-2    38             0.234331\n",
       "3   24254496-1   256             0.242562\n",
       "5   19291505-1   149             0.248328\n",
       "33  40275563-1     8             0.255610\n",
       "23   1973157-2     7             0.261315"
      ]
     },
     "execution_count": 56,
     "metadata": {},
     "output_type": "execute_result"
    }
   ],
   "source": [
    "row_freq_avgcos_df = pd.DataFrame(\n",
    "    list(map(lambda t: (t[0], len(t[1]), sum(t[1])/len(t[1])), row_tid_freq_simlist.items())), columns=['table_id', 'freq', 'avg-cosine-distance']\n",
    "    )\n",
    "row_freq_avgcos_df.sort_values(by=['avg-cosine-distance', 'freq'], ascending=[True, False], inplace=True)\n",
    "row_freq_avgcos_df = row_freq_avgcos_df[row_freq_avgcos_df['freq'] > 1]\n",
    "row_freq_avgcos_df.head(10)"
   ]
  },
  {
   "cell_type": "code",
   "execution_count": 57,
   "metadata": {},
   "outputs": [
    {
     "data": {
      "text/html": [
       "<div>\n",
       "<style scoped>\n",
       "    .dataframe tbody tr th:only-of-type {\n",
       "        vertical-align: middle;\n",
       "    }\n",
       "\n",
       "    .dataframe tbody tr th {\n",
       "        vertical-align: top;\n",
       "    }\n",
       "\n",
       "    .dataframe thead th {\n",
       "        text-align: right;\n",
       "    }\n",
       "</style>\n",
       "<table border=\"1\" class=\"dataframe\">\n",
       "  <thead>\n",
       "    <tr style=\"text-align: right;\">\n",
       "      <th></th>\n",
       "      <th>table_id</th>\n",
       "      <th>freq</th>\n",
       "      <th>avg-cosine-distance</th>\n",
       "    </tr>\n",
       "  </thead>\n",
       "  <tbody>\n",
       "    <tr>\n",
       "      <th>33</th>\n",
       "      <td>40275563-1</td>\n",
       "      <td>8</td>\n",
       "      <td>0.25561</td>\n",
       "    </tr>\n",
       "  </tbody>\n",
       "</table>\n",
       "</div>"
      ],
      "text/plain": [
       "      table_id  freq  avg-cosine-distance\n",
       "33  40275563-1     8              0.25561"
      ]
     },
     "execution_count": 57,
     "metadata": {},
     "output_type": "execute_result"
    }
   ],
   "source": [
    "s_rec = row_freq_avgcos_df[row_freq_avgcos_df['table_id'] == s_id]\n",
    "s_id_idx = int(s_rec.index.values)\n",
    "s_rec"
   ]
  },
  {
   "cell_type": "code",
   "execution_count": 58,
   "metadata": {},
   "outputs": [
    {
     "data": {
      "image/png": "[encoded data removed]",
      "text/plain": [
       "<Figure size 640x480 with 1 Axes>"
      ]
     },
     "metadata": {},
     "output_type": "display_data"
    }
   ],
   "source": [
    "plt.hist(row_tid_freq_simlist[row_freq_avgcos_df.loc[s_id_idx, 'table_id']], bins=20)\n",
    "plt.axvline(x=row_freq_avgcos_df.loc[s_id_idx, 'avg-cosine-distance'], color='r')\n",
    "plt.show()"
   ]
  },
  {
   "cell_type": "code",
   "execution_count": 60,
   "metadata": {},
   "outputs": [
    {
     "data": {
      "image/png": "[encoded data removed]",
      "text/plain": [
       "<Figure size 640x480 with 1 Axes>"
      ]
     },
     "metadata": {},
     "output_type": "display_data"
    }
   ],
   "source": [
    "plt.hist(row_freq_avgcos_df['freq'], bins=30)\n",
    "plt.show()"
   ]
  },
  {
   "cell_type": "code",
   "execution_count": 65,
   "metadata": {},
   "outputs": [
    {
     "data": {
      "text/html": [
       "<div>\n",
       "<style scoped>\n",
       "    .dataframe tbody tr th:only-of-type {\n",
       "        vertical-align: middle;\n",
       "    }\n",
       "\n",
       "    .dataframe tbody tr th {\n",
       "        vertical-align: top;\n",
       "    }\n",
       "\n",
       "    .dataframe thead th {\n",
       "        text-align: right;\n",
       "    }\n",
       "</style>\n",
       "<table border=\"1\" class=\"dataframe\">\n",
       "  <thead>\n",
       "    <tr style=\"text-align: right;\">\n",
       "      <th></th>\n",
       "      <th>table_id</th>\n",
       "      <th>freq</th>\n",
       "      <th>avg-cosine-distance</th>\n",
       "    </tr>\n",
       "  </thead>\n",
       "  <tbody>\n",
       "    <tr>\n",
       "      <th>3</th>\n",
       "      <td>24254496-1</td>\n",
       "      <td>256</td>\n",
       "      <td>0.242562</td>\n",
       "    </tr>\n",
       "    <tr>\n",
       "      <th>5</th>\n",
       "      <td>19291505-1</td>\n",
       "      <td>149</td>\n",
       "      <td>0.248328</td>\n",
       "    </tr>\n",
       "    <tr>\n",
       "      <th>6</th>\n",
       "      <td>78455-12</td>\n",
       "      <td>226</td>\n",
       "      <td>0.294262</td>\n",
       "    </tr>\n",
       "    <tr>\n",
       "      <th>9</th>\n",
       "      <td>308781-7</td>\n",
       "      <td>105</td>\n",
       "      <td>0.309271</td>\n",
       "    </tr>\n",
       "    <tr>\n",
       "      <th>8</th>\n",
       "      <td>78443-4</td>\n",
       "      <td>116</td>\n",
       "      <td>0.311521</td>\n",
       "    </tr>\n",
       "    <tr>\n",
       "      <th>7</th>\n",
       "      <td>40286332-1</td>\n",
       "      <td>120</td>\n",
       "      <td>0.311884</td>\n",
       "    </tr>\n",
       "    <tr>\n",
       "      <th>15</th>\n",
       "      <td>22212487-3</td>\n",
       "      <td>114</td>\n",
       "      <td>0.325860</td>\n",
       "    </tr>\n",
       "    <tr>\n",
       "      <th>14</th>\n",
       "      <td>22225468-4</td>\n",
       "      <td>108</td>\n",
       "      <td>0.328051</td>\n",
       "    </tr>\n",
       "  </tbody>\n",
       "</table>\n",
       "</div>"
      ],
      "text/plain": [
       "      table_id  freq  avg-cosine-distance\n",
       "3   24254496-1   256             0.242562\n",
       "5   19291505-1   149             0.248328\n",
       "6     78455-12   226             0.294262\n",
       "9     308781-7   105             0.309271\n",
       "8      78443-4   116             0.311521\n",
       "7   40286332-1   120             0.311884\n",
       "15  22212487-3   114             0.325860\n",
       "14  22225468-4   108             0.328051"
      ]
     },
     "execution_count": 65,
     "metadata": {},
     "output_type": "execute_result"
    }
   ],
   "source": [
    "row_freq_avgcos_df[row_freq_avgcos_df['freq'] > 100]"
   ]
  },
  {
   "cell_type": "code",
   "execution_count": 62,
   "metadata": {},
   "outputs": [
    {
     "data": {
      "text/html": [
       "<div>\n",
       "<style scoped>\n",
       "    .dataframe tbody tr th:only-of-type {\n",
       "        vertical-align: middle;\n",
       "    }\n",
       "\n",
       "    .dataframe tbody tr th {\n",
       "        vertical-align: top;\n",
       "    }\n",
       "\n",
       "    .dataframe thead th {\n",
       "        text-align: right;\n",
       "    }\n",
       "</style>\n",
       "<table border=\"1\" class=\"dataframe\">\n",
       "  <thead>\n",
       "    <tr style=\"text-align: right;\">\n",
       "      <th></th>\n",
       "      <th>Member</th>\n",
       "      <th>Party</th>\n",
       "      <th>Notes</th>\n",
       "    </tr>\n",
       "  </thead>\n",
       "  <tbody>\n",
       "    <tr>\n",
       "      <th>0</th>\n",
       "      <td>Yosef Almogi</td>\n",
       "      <td>Mapai</td>\n",
       "      <td></td>\n",
       "    </tr>\n",
       "    <tr>\n",
       "      <th>1</th>\n",
       "      <td>Zalman Aran</td>\n",
       "      <td>Mapai</td>\n",
       "      <td></td>\n",
       "    </tr>\n",
       "    <tr>\n",
       "      <th>2</th>\n",
       "      <td>Meir Argov</td>\n",
       "      <td>Mapai</td>\n",
       "      <td></td>\n",
       "    </tr>\n",
       "    <tr>\n",
       "      <th>3</th>\n",
       "      <td>Ami Assaf</td>\n",
       "      <td>Mapai</td>\n",
       "      <td></td>\n",
       "    </tr>\n",
       "    <tr>\n",
       "      <th>4</th>\n",
       "      <td>David Bar-Rav-Hai</td>\n",
       "      <td>Mapai</td>\n",
       "      <td></td>\n",
       "    </tr>\n",
       "  </tbody>\n",
       "</table>\n",
       "</div>"
      ],
      "text/plain": [
       "              Member  Party Notes\n",
       "0       Yosef Almogi  Mapai      \n",
       "1        Zalman Aran  Mapai      \n",
       "2         Meir Argov  Mapai      \n",
       "3          Ami Assaf  Mapai      \n",
       "4  David Bar-Rav-Hai  Mapai      "
      ]
     },
     "execution_count": 62,
     "metadata": {},
     "output_type": "execute_result"
    }
   ],
   "source": [
    "get_from_jsonl_table_df(row_freq_avgcos_df.loc[3, 'table_id']).head()"
   ]
  },
  {
   "cell_type": "code",
   "execution_count": 63,
   "metadata": {},
   "outputs": [
    {
     "data": {
      "text/html": [
       "<div>\n",
       "<style scoped>\n",
       "    .dataframe tbody tr th:only-of-type {\n",
       "        vertical-align: middle;\n",
       "    }\n",
       "\n",
       "    .dataframe tbody tr th {\n",
       "        vertical-align: top;\n",
       "    }\n",
       "\n",
       "    .dataframe thead th {\n",
       "        text-align: right;\n",
       "    }\n",
       "</style>\n",
       "<table border=\"1\" class=\"dataframe\">\n",
       "  <thead>\n",
       "    <tr style=\"text-align: right;\">\n",
       "      <th></th>\n",
       "      <th>North Division</th>\n",
       "      <th>South Division</th>\n",
       "    </tr>\n",
       "  </thead>\n",
       "  <tbody>\n",
       "    <tr>\n",
       "      <th>0</th>\n",
       "      <td>Oregon</td>\n",
       "      <td>Arizona</td>\n",
       "    </tr>\n",
       "    <tr>\n",
       "      <th>1</th>\n",
       "      <td>Oregon State</td>\n",
       "      <td>Arizona State</td>\n",
       "    </tr>\n",
       "    <tr>\n",
       "      <th>2</th>\n",
       "      <td>Washington</td>\n",
       "      <td>Colorado</td>\n",
       "    </tr>\n",
       "    <tr>\n",
       "      <th>3</th>\n",
       "      <td>Washington State</td>\n",
       "      <td>Utah</td>\n",
       "    </tr>\n",
       "    <tr>\n",
       "      <th>4</th>\n",
       "      <td>California</td>\n",
       "      <td>UCLA</td>\n",
       "    </tr>\n",
       "  </tbody>\n",
       "</table>\n",
       "</div>"
      ],
      "text/plain": [
       "     North Division South Division\n",
       "0            Oregon        Arizona\n",
       "1      Oregon State  Arizona State\n",
       "2        Washington       Colorado\n",
       "3  Washington State           Utah\n",
       "4        California           UCLA"
      ]
     },
     "execution_count": 63,
     "metadata": {},
     "output_type": "execute_result"
    }
   ],
   "source": [
    "get_from_jsonl_table_df(row_freq_avgcos_df.loc[6, 'table_id']).head()"
   ]
  },
  {
   "cell_type": "code",
   "execution_count": 64,
   "metadata": {},
   "outputs": [
    {
     "data": {
      "text/html": [
       "<div>\n",
       "<style scoped>\n",
       "    .dataframe tbody tr th:only-of-type {\n",
       "        vertical-align: middle;\n",
       "    }\n",
       "\n",
       "    .dataframe tbody tr th {\n",
       "        vertical-align: top;\n",
       "    }\n",
       "\n",
       "    .dataframe thead th {\n",
       "        text-align: right;\n",
       "    }\n",
       "</style>\n",
       "<table border=\"1\" class=\"dataframe\">\n",
       "  <thead>\n",
       "    <tr style=\"text-align: right;\">\n",
       "      <th></th>\n",
       "      <th>State</th>\n",
       "      <th>Defence minister</th>\n",
       "      <th>Party</th>\n",
       "    </tr>\n",
       "  </thead>\n",
       "  <tbody>\n",
       "    <tr>\n",
       "      <th>0</th>\n",
       "      <td>Afghanistan</td>\n",
       "      <td></td>\n",
       "      <td></td>\n",
       "    </tr>\n",
       "    <tr>\n",
       "      <th>1</th>\n",
       "      <td>Albania</td>\n",
       "      <td></td>\n",
       "      <td></td>\n",
       "    </tr>\n",
       "    <tr>\n",
       "      <th>2</th>\n",
       "      <td>Algeria</td>\n",
       "      <td></td>\n",
       "      <td></td>\n",
       "    </tr>\n",
       "    <tr>\n",
       "      <th>3</th>\n",
       "      <td>Andorra</td>\n",
       "      <td></td>\n",
       "      <td></td>\n",
       "    </tr>\n",
       "    <tr>\n",
       "      <th>4</th>\n",
       "      <td>Angola</td>\n",
       "      <td></td>\n",
       "      <td></td>\n",
       "    </tr>\n",
       "  </tbody>\n",
       "</table>\n",
       "</div>"
      ],
      "text/plain": [
       "         State Defence minister Party\n",
       "0  Afghanistan                       \n",
       "1      Albania                       \n",
       "2      Algeria                       \n",
       "3      Andorra                       \n",
       "4       Angola                       "
      ]
     },
     "execution_count": 64,
     "metadata": {},
     "output_type": "execute_result"
    }
   ],
   "source": [
    "r_table.head()"
   ]
  },
  {
   "cell_type": "markdown",
   "metadata": {},
   "source": [
    "### Column querying"
   ]
  },
  {
   "cell_type": "code",
   "execution_count": 66,
   "metadata": {},
   "outputs": [],
   "source": [
    "col_res = column_collection.query(\n",
    "    query_embeddings=r_column_embeddings.tolist(),\n",
    "    n_results=20,\n",
    "    include=['metadatas', 'distances'],\n",
    "    where={'table_id': {'$ne': r_id}}\n",
    ")"
   ]
  },
  {
   "cell_type": "code",
   "execution_count": 67,
   "metadata": {},
   "outputs": [],
   "source": [
    "col_tid_freq_simlist = defaultdict(list)\n",
    "for i, res_metadatas in enumerate(col_res['metadatas']):\n",
    "    for j, single_rec in enumerate(res_metadatas):\n",
    "        col_tid_freq_simlist[single_rec['table_id']].append(col_res['distances'][i][j])"
   ]
  },
  {
   "cell_type": "code",
   "execution_count": 69,
   "metadata": {},
   "outputs": [
    {
     "data": {
      "text/html": [
       "<div>\n",
       "<style scoped>\n",
       "    .dataframe tbody tr th:only-of-type {\n",
       "        vertical-align: middle;\n",
       "    }\n",
       "\n",
       "    .dataframe tbody tr th {\n",
       "        vertical-align: top;\n",
       "    }\n",
       "\n",
       "    .dataframe thead th {\n",
       "        text-align: right;\n",
       "    }\n",
       "</style>\n",
       "<table border=\"1\" class=\"dataframe\">\n",
       "  <thead>\n",
       "    <tr style=\"text-align: right;\">\n",
       "      <th></th>\n",
       "      <th>table_id</th>\n",
       "      <th>freq</th>\n",
       "      <th>avg-cosine-distance</th>\n",
       "    </tr>\n",
       "  </thead>\n",
       "  <tbody>\n",
       "    <tr>\n",
       "      <th>0</th>\n",
       "      <td>40275563-1</td>\n",
       "      <td>1</td>\n",
       "      <td>0.000147</td>\n",
       "    </tr>\n",
       "    <tr>\n",
       "      <th>1</th>\n",
       "      <td>10826158-1</td>\n",
       "      <td>1</td>\n",
       "      <td>0.001405</td>\n",
       "    </tr>\n",
       "    <tr>\n",
       "      <th>2</th>\n",
       "      <td>325218-1</td>\n",
       "      <td>1</td>\n",
       "      <td>0.001563</td>\n",
       "    </tr>\n",
       "    <tr>\n",
       "      <th>3</th>\n",
       "      <td>26443006-1</td>\n",
       "      <td>1</td>\n",
       "      <td>0.001648</td>\n",
       "    </tr>\n",
       "    <tr>\n",
       "      <th>4</th>\n",
       "      <td>38018425-1</td>\n",
       "      <td>1</td>\n",
       "      <td>0.001744</td>\n",
       "    </tr>\n",
       "  </tbody>\n",
       "</table>\n",
       "</div>"
      ],
      "text/plain": [
       "     table_id  freq  avg-cosine-distance\n",
       "0  40275563-1     1             0.000147\n",
       "1  10826158-1     1             0.001405\n",
       "2    325218-1     1             0.001563\n",
       "3  26443006-1     1             0.001648\n",
       "4  38018425-1     1             0.001744"
      ]
     },
     "execution_count": 69,
     "metadata": {},
     "output_type": "execute_result"
    }
   ],
   "source": [
    "col_freq_avgcos_df = pd.DataFrame(\n",
    "    list(map(lambda t: (t[0], len(t[1]), sum(t[1])/len(t[1])), col_tid_freq_simlist.items())), columns=['table_id', 'freq', 'avg-cosine-distance']\n",
    "    )\n",
    "col_freq_avgcos_df.sort_values(by=['avg-cosine-distance', 'freq'], ascending=[True, False], inplace=True)\n",
    "\n",
    "# all the tables has at most frequency 1!!!\n",
    "# col_freq_avgcos_df[col_freq_avgcos_df['freq'] > 1].head()\n",
    "col_freq_avgcos_df.head()"
   ]
  },
  {
   "cell_type": "code",
   "execution_count": 71,
   "metadata": {},
   "outputs": [
    {
     "data": {
      "text/plain": [
       "'40275563-1'"
      ]
     },
     "execution_count": 71,
     "metadata": {},
     "output_type": "execute_result"
    }
   ],
   "source": [
    "s_id"
   ]
  },
  {
   "cell_type": "markdown",
   "metadata": {},
   "source": [
    "### Conclusions"
   ]
  },
  {
   "cell_type": "code",
   "execution_count": 72,
   "metadata": {},
   "outputs": [
    {
     "data": {
      "text/html": [
       "<div><style>\n",
       ".dataframe > thead > tr,\n",
       ".dataframe > tbody > tr {\n",
       "  text-align: right;\n",
       "  white-space: pre-wrap;\n",
       "}\n",
       "</style>\n",
       "<small>shape: (1, 5)</small><table border=\"1\" class=\"dataframe\"><thead><tr><th>r_id</th><th>s_id</th><th>jsim</th><th>o_a</th><th>a%</th></tr><tr><td>str</td><td>str</td><td>f64</td><td>i64</td><td>f64</td></tr></thead><tbody><tr><td>&quot;40275491-1&quot;</td><td>&quot;40275563-1&quot;</td><td>0.931579</td><td>504</td><td>0.965517</td></tr></tbody></table></div>"
      ],
      "text/plain": [
       "shape: (1, 5)\n",
       "┌────────────┬────────────┬──────────┬─────┬──────────┐\n",
       "│ r_id       ┆ s_id       ┆ jsim     ┆ o_a ┆ a%       │\n",
       "│ ---        ┆ ---        ┆ ---      ┆ --- ┆ ---      │\n",
       "│ str        ┆ str        ┆ f64      ┆ i64 ┆ f64      │\n",
       "╞════════════╪════════════╪══════════╪═════╪══════════╡\n",
       "│ 40275491-1 ┆ 40275563-1 ┆ 0.931579 ┆ 504 ┆ 0.965517 │\n",
       "└────────────┴────────────┴──────────┴─────┴──────────┘"
      ]
     },
     "execution_count": 72,
     "metadata": {},
     "output_type": "execute_result"
    }
   ],
   "source": [
    "sloth_result_rec"
   ]
  },
  {
   "cell_type": "markdown",
   "metadata": {},
   "source": [
    "## Test 3: Low Jaccard - Low Overlap"
   ]
  },
  {
   "cell_type": "code",
   "execution_count": null,
   "metadata": {},
   "outputs": [
    {
     "data": {
      "text/html": [
       "<div><style>\n",
       ".dataframe > thead > tr,\n",
       ".dataframe > tbody > tr {\n",
       "  text-align: right;\n",
       "  white-space: pre-wrap;\n",
       "}\n",
       "</style>\n",
       "<small>shape: (10, 5)</small><table border=\"1\" class=\"dataframe\"><thead><tr><th>r_id</th><th>s_id</th><th>jsim</th><th>o_a</th><th>a%</th></tr><tr><td>str</td><td>str</td><td>f64</td><td>i64</td><td>f64</td></tr></thead><tbody><tr><td>&quot;14342092-1&quot;</td><td>&quot;37953453-1&quot;</td><td>0.55753</td><td>1778</td><td>0.958491</td></tr><tr><td>&quot;16517223-1&quot;</td><td>&quot;16519520-1&quot;</td><td>0.915589</td><td>1640</td><td>0.622627</td></tr><tr><td>&quot;16682980-1&quot;</td><td>&quot;16717744-1&quot;</td><td>0.863576</td><td>1590</td><td>0.600907</td></tr><tr><td>&quot;16559174-1&quot;</td><td>&quot;16682980-1&quot;</td><td>0.842894</td><td>1465</td><td>0.549925</td></tr><tr><td>&quot;16519520-1&quot;</td><td>&quot;16559174-1&quot;</td><td>0.867637</td><td>1345</td><td>0.51063</td></tr><tr><td>&quot;16517223-1&quot;</td><td>&quot;16559174-1&quot;</td><td>0.81258</td><td>1190</td><td>0.449735</td></tr><tr><td>&quot;16519520-1&quot;</td><td>&quot;16682980-1&quot;</td><td>0.750777</td><td>1030</td><td>0.39104</td></tr><tr><td>&quot;16517223-1&quot;</td><td>&quot;16682980-1&quot;</td><td>0.717855</td><td>910</td><td>0.343915</td></tr><tr><td>&quot;16517223-1&quot;</td><td>&quot;16717744-1&quot;</td><td>0.657429</td><td>729</td><td>0.27551</td></tr><tr><td>&quot;269064-2&quot;</td><td>&quot;3881235-1&quot;</td><td>0.474112</td><td>640</td><td>0.302172</td></tr></tbody></table></div>"
      ],
      "text/plain": [
       "shape: (10, 5)\n",
       "┌────────────┬────────────┬──────────┬──────┬──────────┐\n",
       "│ r_id       ┆ s_id       ┆ jsim     ┆ o_a  ┆ a%       │\n",
       "│ ---        ┆ ---        ┆ ---      ┆ ---  ┆ ---      │\n",
       "│ str        ┆ str        ┆ f64      ┆ i64  ┆ f64      │\n",
       "╞════════════╪════════════╪══════════╪══════╪══════════╡\n",
       "│ 14342092-1 ┆ 37953453-1 ┆ 0.55753  ┆ 1778 ┆ 0.958491 │\n",
       "│ 16517223-1 ┆ 16519520-1 ┆ 0.915589 ┆ 1640 ┆ 0.622627 │\n",
       "│ 16682980-1 ┆ 16717744-1 ┆ 0.863576 ┆ 1590 ┆ 0.600907 │\n",
       "│ 16559174-1 ┆ 16682980-1 ┆ 0.842894 ┆ 1465 ┆ 0.549925 │\n",
       "│ 16519520-1 ┆ 16559174-1 ┆ 0.867637 ┆ 1345 ┆ 0.51063  │\n",
       "│ 16517223-1 ┆ 16559174-1 ┆ 0.81258  ┆ 1190 ┆ 0.449735 │\n",
       "│ 16519520-1 ┆ 16682980-1 ┆ 0.750777 ┆ 1030 ┆ 0.39104  │\n",
       "│ 16517223-1 ┆ 16682980-1 ┆ 0.717855 ┆ 910  ┆ 0.343915 │\n",
       "│ 16517223-1 ┆ 16717744-1 ┆ 0.657429 ┆ 729  ┆ 0.27551  │\n",
       "│ 269064-2   ┆ 3881235-1  ┆ 0.474112 ┆ 640  ┆ 0.302172 │\n",
       "└────────────┴────────────┴──────────┴──────┴──────────┘"
      ]
     },
     "metadata": {},
     "output_type": "display_data"
    }
   ],
   "source": [
    "sloth_results[:10]"
   ]
  },
  {
   "cell_type": "code",
   "execution_count": 73,
   "metadata": {},
   "outputs": [
    {
     "data": {
      "text/html": [
       "<div><style>\n",
       ".dataframe > thead > tr,\n",
       ".dataframe > tbody > tr {\n",
       "  text-align: right;\n",
       "  white-space: pre-wrap;\n",
       "}\n",
       "</style>\n",
       "<small>shape: (1, 5)</small><table border=\"1\" class=\"dataframe\"><thead><tr><th>r_id</th><th>s_id</th><th>jsim</th><th>o_a</th><th>a%</th></tr><tr><td>str</td><td>str</td><td>f64</td><td>i64</td><td>f64</td></tr></thead><tbody><tr><td>&quot;269064-2&quot;</td><td>&quot;3881235-1&quot;</td><td>0.474112</td><td>640</td><td>0.302172</td></tr></tbody></table></div>"
      ],
      "text/plain": [
       "shape: (1, 5)\n",
       "┌──────────┬───────────┬──────────┬─────┬──────────┐\n",
       "│ r_id     ┆ s_id      ┆ jsim     ┆ o_a ┆ a%       │\n",
       "│ ---      ┆ ---       ┆ ---      ┆ --- ┆ ---      │\n",
       "│ str      ┆ str       ┆ f64      ┆ i64 ┆ f64      │\n",
       "╞══════════╪═══════════╪══════════╪═════╪══════════╡\n",
       "│ 269064-2 ┆ 3881235-1 ┆ 0.474112 ┆ 640 ┆ 0.302172 │\n",
       "└──────────┴───────────┴──────────┴─────┴──────────┘"
      ]
     },
     "execution_count": 73,
     "metadata": {},
     "output_type": "execute_result"
    }
   ],
   "source": [
    "idx_row = 9\n",
    "sloth_result_rec = sloth_results[idx_row]\n",
    "sloth_result_rec"
   ]
  },
  {
   "cell_type": "code",
   "execution_count": 74,
   "metadata": {},
   "outputs": [
    {
     "data": {
      "text/plain": [
       "((755, 300), (4, 300))"
      ]
     },
     "execution_count": 74,
     "metadata": {},
     "output_type": "execute_result"
    }
   ],
   "source": [
    "r_id = sloth_result_rec['r_id'].item()\n",
    "s_id = sloth_result_rec['s_id'].item()\n",
    "r_table = get_from_jsonl_table_df(r_id) # sloth_tables[r_id]\n",
    "s_table = get_from_jsonl_table_df(s_id) # sloth_tables[s_id]\n",
    "\n",
    "r_row_embeddings, r_column_embeddings = tabenc.full_embedding(r_table, True)\n",
    "r_row_embeddings.shape, r_column_embeddings.shape "
   ]
  },
  {
   "cell_type": "code",
   "execution_count": 75,
   "metadata": {},
   "outputs": [
    {
     "data": {
      "text/html": [
       "<div>\n",
       "<style scoped>\n",
       "    .dataframe tbody tr th:only-of-type {\n",
       "        vertical-align: middle;\n",
       "    }\n",
       "\n",
       "    .dataframe tbody tr th {\n",
       "        vertical-align: top;\n",
       "    }\n",
       "\n",
       "    .dataframe thead th {\n",
       "        text-align: right;\n",
       "    }\n",
       "</style>\n",
       "<table border=\"1\" class=\"dataframe\">\n",
       "  <thead>\n",
       "    <tr style=\"text-align: right;\">\n",
       "      <th></th>\n",
       "      <th>Lord</th>\n",
       "      <th>Party</th>\n",
       "      <th>Type</th>\n",
       "      <th>Notes</th>\n",
       "    </tr>\n",
       "  </thead>\n",
       "  <tbody>\n",
       "    <tr>\n",
       "      <th>0</th>\n",
       "      <td>The Lord Aberdare</td>\n",
       "      <td>Crossbench</td>\n",
       "      <td>Excepted hereditary peer</td>\n",
       "      <td></td>\n",
       "    </tr>\n",
       "    <tr>\n",
       "      <th>1</th>\n",
       "      <td>The Baroness Adams of Craigielea</td>\n",
       "      <td>Labour</td>\n",
       "      <td>Life peer</td>\n",
       "      <td></td>\n",
       "    </tr>\n",
       "    <tr>\n",
       "      <th>2</th>\n",
       "      <td>The Lord Addington</td>\n",
       "      <td>Liberal Democrat</td>\n",
       "      <td>Excepted hereditary peer</td>\n",
       "      <td></td>\n",
       "    </tr>\n",
       "    <tr>\n",
       "      <th>3</th>\n",
       "      <td>The Lord Adebowale</td>\n",
       "      <td>Crossbench</td>\n",
       "      <td>Life peer</td>\n",
       "      <td>Member of the Advisory Council on the Misuse o...</td>\n",
       "    </tr>\n",
       "    <tr>\n",
       "      <th>4</th>\n",
       "      <td>The Lord Adonis</td>\n",
       "      <td>Labour</td>\n",
       "      <td>Life peer</td>\n",
       "      <td>Former Secretary of State for Transport</td>\n",
       "    </tr>\n",
       "  </tbody>\n",
       "</table>\n",
       "</div>"
      ],
      "text/plain": [
       "                               Lord             Party  \\\n",
       "0                 The Lord Aberdare        Crossbench   \n",
       "1  The Baroness Adams of Craigielea            Labour   \n",
       "2                The Lord Addington  Liberal Democrat   \n",
       "3                The Lord Adebowale        Crossbench   \n",
       "4                   The Lord Adonis            Labour   \n",
       "\n",
       "                       Type                                              Notes  \n",
       "0  Excepted hereditary peer                                                     \n",
       "1                 Life peer                                                     \n",
       "2  Excepted hereditary peer                                                     \n",
       "3                 Life peer  Member of the Advisory Council on the Misuse o...  \n",
       "4                 Life peer            Former Secretary of State for Transport  "
      ]
     },
     "execution_count": 75,
     "metadata": {},
     "output_type": "execute_result"
    }
   ],
   "source": [
    "r_table.head()"
   ]
  },
  {
   "cell_type": "code",
   "execution_count": 76,
   "metadata": {},
   "outputs": [
    {
     "data": {
      "text/html": [
       "<div>\n",
       "<style scoped>\n",
       "    .dataframe tbody tr th:only-of-type {\n",
       "        vertical-align: middle;\n",
       "    }\n",
       "\n",
       "    .dataframe tbody tr th {\n",
       "        vertical-align: top;\n",
       "    }\n",
       "\n",
       "    .dataframe thead th {\n",
       "        text-align: right;\n",
       "    }\n",
       "</style>\n",
       "<table border=\"1\" class=\"dataframe\">\n",
       "  <thead>\n",
       "    <tr style=\"text-align: right;\">\n",
       "      <th></th>\n",
       "      <th>Title</th>\n",
       "      <th>Creation</th>\n",
       "      <th>Other titles</th>\n",
       "    </tr>\n",
       "  </thead>\n",
       "  <tbody>\n",
       "    <tr>\n",
       "      <th>0</th>\n",
       "      <td>The Lord Chalfont</td>\n",
       "      <td>1964</td>\n",
       "      <td></td>\n",
       "    </tr>\n",
       "    <tr>\n",
       "      <th>1</th>\n",
       "      <td>The Baroness Masham of Ilton</td>\n",
       "      <td>1970</td>\n",
       "      <td></td>\n",
       "    </tr>\n",
       "    <tr>\n",
       "      <th>2</th>\n",
       "      <td>The Lord Tanlaw</td>\n",
       "      <td>1971</td>\n",
       "      <td></td>\n",
       "    </tr>\n",
       "    <tr>\n",
       "      <th>3</th>\n",
       "      <td>The Baroness Sharples</td>\n",
       "      <td>1973</td>\n",
       "      <td></td>\n",
       "    </tr>\n",
       "    <tr>\n",
       "      <th>4</th>\n",
       "      <td>The Lord Mackie of Benshie</td>\n",
       "      <td>1974</td>\n",
       "      <td></td>\n",
       "    </tr>\n",
       "  </tbody>\n",
       "</table>\n",
       "</div>"
      ],
      "text/plain": [
       "                          Title Creation Other titles\n",
       "0             The Lord Chalfont     1964             \n",
       "1  The Baroness Masham of Ilton     1970             \n",
       "2               The Lord Tanlaw     1971             \n",
       "3         The Baroness Sharples     1973             \n",
       "4    The Lord Mackie of Benshie     1974             "
      ]
     },
     "execution_count": 76,
     "metadata": {},
     "output_type": "execute_result"
    }
   ],
   "source": [
    "s_table.head()"
   ]
  },
  {
   "cell_type": "markdown",
   "metadata": {},
   "source": [
    "### Row querying"
   ]
  },
  {
   "cell_type": "code",
   "execution_count": 77,
   "metadata": {},
   "outputs": [],
   "source": [
    "res = row_collection.query(\n",
    "    query_embeddings=r_row_embeddings.tolist(),\n",
    "    n_results=20,\n",
    "    include=['metadatas', 'distances'],\n",
    "    where={'table_id': {'$ne': r_id}}\n",
    ")"
   ]
  },
  {
   "cell_type": "code",
   "execution_count": 78,
   "metadata": {},
   "outputs": [],
   "source": [
    "row_tid_freq_simlist = defaultdict(list)\n",
    "for i, res_metadatas in enumerate(res['metadatas']):\n",
    "    for j, single_rec in enumerate(res_metadatas):\n",
    "        row_tid_freq_simlist[single_rec['table_id']].append(res['distances'][i][j])"
   ]
  },
  {
   "cell_type": "code",
   "execution_count": 79,
   "metadata": {},
   "outputs": [
    {
     "data": {
      "text/html": [
       "<div>\n",
       "<style scoped>\n",
       "    .dataframe tbody tr th:only-of-type {\n",
       "        vertical-align: middle;\n",
       "    }\n",
       "\n",
       "    .dataframe tbody tr th {\n",
       "        vertical-align: top;\n",
       "    }\n",
       "\n",
       "    .dataframe thead th {\n",
       "        text-align: right;\n",
       "    }\n",
       "</style>\n",
       "<table border=\"1\" class=\"dataframe\">\n",
       "  <thead>\n",
       "    <tr style=\"text-align: right;\">\n",
       "      <th></th>\n",
       "      <th>table_id</th>\n",
       "      <th>freq</th>\n",
       "      <th>avg-cosine-distance</th>\n",
       "    </tr>\n",
       "  </thead>\n",
       "  <tbody>\n",
       "    <tr>\n",
       "      <th>0</th>\n",
       "      <td>5943114-1</td>\n",
       "      <td>635</td>\n",
       "      <td>0.330173</td>\n",
       "    </tr>\n",
       "    <tr>\n",
       "      <th>58</th>\n",
       "      <td>31800753-59</td>\n",
       "      <td>2</td>\n",
       "      <td>0.341039</td>\n",
       "    </tr>\n",
       "    <tr>\n",
       "      <th>80</th>\n",
       "      <td>1258197-1</td>\n",
       "      <td>3</td>\n",
       "      <td>0.347006</td>\n",
       "    </tr>\n",
       "    <tr>\n",
       "      <th>3</th>\n",
       "      <td>20461378-3</td>\n",
       "      <td>527</td>\n",
       "      <td>0.349394</td>\n",
       "    </tr>\n",
       "    <tr>\n",
       "      <th>20</th>\n",
       "      <td>19285466-5</td>\n",
       "      <td>208</td>\n",
       "      <td>0.355047</td>\n",
       "    </tr>\n",
       "  </tbody>\n",
       "</table>\n",
       "</div>"
      ],
      "text/plain": [
       "       table_id  freq  avg-cosine-distance\n",
       "0     5943114-1   635             0.330173\n",
       "58  31800753-59     2             0.341039\n",
       "80    1258197-1     3             0.347006\n",
       "3    20461378-3   527             0.349394\n",
       "20   19285466-5   208             0.355047"
      ]
     },
     "execution_count": 79,
     "metadata": {},
     "output_type": "execute_result"
    }
   ],
   "source": [
    "row_freq_avgcos_df = pd.DataFrame(\n",
    "    list(map(lambda t: (t[0], len(t[1]), sum(t[1])/len(t[1])), row_tid_freq_simlist.items())), columns=['table_id', 'freq', 'avg-cosine-distance']\n",
    "    )\n",
    "row_freq_avgcos_df.sort_values(by=['avg-cosine-distance', 'freq'], ascending=[True, False], inplace=True)\n",
    "row_freq_avgcos_df = row_freq_avgcos_df[row_freq_avgcos_df['freq'] > 1]\n",
    "row_freq_avgcos_df.head()"
   ]
  },
  {
   "cell_type": "code",
   "execution_count": 82,
   "metadata": {},
   "outputs": [
    {
     "data": {
      "text/plain": [
       "'3881235-1'"
      ]
     },
     "execution_count": 82,
     "metadata": {},
     "output_type": "execute_result"
    }
   ],
   "source": [
    "s_id"
   ]
  },
  {
   "cell_type": "code",
   "execution_count": 83,
   "metadata": {},
   "outputs": [
    {
     "data": {
      "text/plain": [
       "False"
      ]
     },
     "execution_count": 83,
     "metadata": {},
     "output_type": "execute_result"
    }
   ],
   "source": [
    "s_id in row_freq_avgcos_df['table_id']"
   ]
  },
  {
   "cell_type": "code",
   "execution_count": 84,
   "metadata": {},
   "outputs": [
    {
     "data": {
      "text/plain": [
       "<Axes: >"
      ]
     },
     "execution_count": 84,
     "metadata": {},
     "output_type": "execute_result"
    },
    {
     "data": {
      "image/png": "[encoded data removed]",
      "text/plain": [
       "<Figure size 640x480 with 1 Axes>"
      ]
     },
     "metadata": {},
     "output_type": "display_data"
    }
   ],
   "source": [
    "row_freq_avgcos_df['freq'].hist()"
   ]
  },
  {
   "cell_type": "code",
   "execution_count": 90,
   "metadata": {},
   "outputs": [
    {
     "data": {
      "image/png": "[encoded data removed]",
      "text/plain": [
       "<Figure size 640x480 with 1 Axes>"
      ]
     },
     "metadata": {},
     "output_type": "display_data"
    }
   ],
   "source": [
    "plt.hist(row_freq_avgcos_df['avg-cosine-distance'])\n",
    "plt.axvline(np.mean(row_freq_avgcos_df['avg-cosine-distance']), color='r')\n",
    "plt.show()"
   ]
  },
  {
   "cell_type": "markdown",
   "metadata": {},
   "source": [
    "In generale, qui la similarità media è piuttosto bassa..."
   ]
  },
  {
   "cell_type": "markdown",
   "metadata": {},
   "source": [
    "### Column querying"
   ]
  },
  {
   "cell_type": "code",
   "execution_count": 91,
   "metadata": {},
   "outputs": [],
   "source": [
    "col_res = column_collection.query(\n",
    "    query_embeddings=r_column_embeddings.tolist(),\n",
    "    n_results=20,\n",
    "    include=['metadatas', 'distances'],\n",
    "    where={'table_id': {'$ne': r_id}}\n",
    ")"
   ]
  },
  {
   "cell_type": "code",
   "execution_count": 92,
   "metadata": {},
   "outputs": [],
   "source": [
    "col_tid_freq_simlist = defaultdict(list)\n",
    "for i, res_metadatas in enumerate(col_res['metadatas']):\n",
    "    for j, single_rec in enumerate(res_metadatas):\n",
    "        col_tid_freq_simlist[single_rec['table_id']].append(col_res['distances'][i][j])"
   ]
  },
  {
   "cell_type": "code",
   "execution_count": 94,
   "metadata": {},
   "outputs": [
    {
     "data": {
      "text/html": [
       "<div>\n",
       "<style scoped>\n",
       "    .dataframe tbody tr th:only-of-type {\n",
       "        vertical-align: middle;\n",
       "    }\n",
       "\n",
       "    .dataframe tbody tr th {\n",
       "        vertical-align: top;\n",
       "    }\n",
       "\n",
       "    .dataframe thead th {\n",
       "        text-align: right;\n",
       "    }\n",
       "</style>\n",
       "<table border=\"1\" class=\"dataframe\">\n",
       "  <thead>\n",
       "    <tr style=\"text-align: right;\">\n",
       "      <th></th>\n",
       "      <th>table_id</th>\n",
       "      <th>freq</th>\n",
       "      <th>avg-cosine-distance</th>\n",
       "    </tr>\n",
       "  </thead>\n",
       "  <tbody>\n",
       "    <tr>\n",
       "      <th>20</th>\n",
       "      <td>93961-2</td>\n",
       "      <td>1</td>\n",
       "      <td>0.023283</td>\n",
       "    </tr>\n",
       "    <tr>\n",
       "      <th>21</th>\n",
       "      <td>31585511-1</td>\n",
       "      <td>1</td>\n",
       "      <td>0.023283</td>\n",
       "    </tr>\n",
       "    <tr>\n",
       "      <th>22</th>\n",
       "      <td>31386331-1</td>\n",
       "      <td>1</td>\n",
       "      <td>0.023283</td>\n",
       "    </tr>\n",
       "    <tr>\n",
       "      <th>23</th>\n",
       "      <td>9536531-18</td>\n",
       "      <td>1</td>\n",
       "      <td>0.044121</td>\n",
       "    </tr>\n",
       "    <tr>\n",
       "      <th>24</th>\n",
       "      <td>9536531-4</td>\n",
       "      <td>1</td>\n",
       "      <td>0.044121</td>\n",
       "    </tr>\n",
       "  </tbody>\n",
       "</table>\n",
       "</div>"
      ],
      "text/plain": [
       "      table_id  freq  avg-cosine-distance\n",
       "20     93961-2     1             0.023283\n",
       "21  31585511-1     1             0.023283\n",
       "22  31386331-1     1             0.023283\n",
       "23  9536531-18     1             0.044121\n",
       "24   9536531-4     1             0.044121"
      ]
     },
     "execution_count": 94,
     "metadata": {},
     "output_type": "execute_result"
    }
   ],
   "source": [
    "col_freq_avgcos_df = pd.DataFrame(\n",
    "    list(map(lambda t: (t[0], len(t[1]), sum(t[1])/len(t[1])), col_tid_freq_simlist.items())), columns=['table_id', 'freq', 'avg-cosine-distance']\n",
    "    )\n",
    "col_freq_avgcos_df.sort_values(by=['avg-cosine-distance', 'freq'], ascending=[True, False], inplace=True)\n",
    "\n",
    "# discarding tables which appears only once, since they aren't actually significative\n",
    "# there isn't any table with freq>1!!!\n",
    "# col_freq_avgcos_df[col_freq_avgcos_df['freq'] > 1].head()\n",
    "col_freq_avgcos_df.head()"
   ]
  },
  {
   "cell_type": "code",
   "execution_count": 97,
   "metadata": {},
   "outputs": [
    {
     "data": {
      "text/plain": [
       "False"
      ]
     },
     "execution_count": 97,
     "metadata": {},
     "output_type": "execute_result"
    }
   ],
   "source": [
    "s_id in col_freq_avgcos_df['table_id']"
   ]
  },
  {
   "cell_type": "markdown",
   "metadata": {},
   "source": [
    "Anche qua la s_table non rientra nemmeno tra i match trovati..."
   ]
  },
  {
   "cell_type": "markdown",
   "metadata": {},
   "source": [
    "### Conclusions"
   ]
  },
  {
   "cell_type": "code",
   "execution_count": 99,
   "metadata": {},
   "outputs": [
    {
     "data": {
      "text/html": [
       "<div><style>\n",
       ".dataframe > thead > tr,\n",
       ".dataframe > tbody > tr {\n",
       "  text-align: right;\n",
       "  white-space: pre-wrap;\n",
       "}\n",
       "</style>\n",
       "<small>shape: (1, 5)</small><table border=\"1\" class=\"dataframe\"><thead><tr><th>r_id</th><th>s_id</th><th>jsim</th><th>o_a</th><th>a%</th></tr><tr><td>str</td><td>str</td><td>f64</td><td>i64</td><td>f64</td></tr></thead><tbody><tr><td>&quot;269064-2&quot;</td><td>&quot;3881235-1&quot;</td><td>0.474112</td><td>640</td><td>0.302172</td></tr></tbody></table></div>"
      ],
      "text/plain": [
       "shape: (1, 5)\n",
       "┌──────────┬───────────┬──────────┬─────┬──────────┐\n",
       "│ r_id     ┆ s_id      ┆ jsim     ┆ o_a ┆ a%       │\n",
       "│ ---      ┆ ---       ┆ ---      ┆ --- ┆ ---      │\n",
       "│ str      ┆ str       ┆ f64      ┆ i64 ┆ f64      │\n",
       "╞══════════╪═══════════╪══════════╪═════╪══════════╡\n",
       "│ 269064-2 ┆ 3881235-1 ┆ 0.474112 ┆ 640 ┆ 0.302172 │\n",
       "└──────────┴───────────┴──────────┴─────┴──────────┘"
      ]
     },
     "execution_count": 99,
     "metadata": {},
     "output_type": "execute_result"
    }
   ],
   "source": [
    "sloth_result_rec"
   ]
  }
 ],
 "metadata": {
  "kernelspec": {
   "display_name": "chroma",
   "language": "python",
   "name": "python3"
  },
  "language_info": {
   "codemirror_mode": {
    "name": "ipython",
    "version": 3
   },
   "file_extension": ".py",
   "mimetype": "text/x-python",
   "name": "python",
   "nbconvert_exporter": "python",
   "pygments_lexer": "ipython3",
   "version": "3.10.12"
  }
 },
 "nbformat": 4,
 "nbformat_minor": 2
}
