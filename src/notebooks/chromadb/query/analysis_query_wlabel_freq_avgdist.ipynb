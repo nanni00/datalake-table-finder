{
 "cells": [
  {
   "cell_type": "code",
   "execution_count": 1,
   "metadata": {},
   "outputs": [],
   "source": [
    "import chromadb\n",
    "import time\n",
    "\n",
    "import jsonlines\n",
    "from tqdm.notebook import tqdm\n",
    "from collections import defaultdict\n",
    "\n",
    "from matplotlib import pyplot as plt\n",
    "\n",
    "import polars as pl\n",
    "import pandas as pd\n",
    "import numpy as np\n",
    "\n",
    "from code.fasttext.embedding_utils import TableEncoder, compare_embeddings\n",
    "from code.utils.utils import rebuild_table\n",
    "from code.utils.settings import DefaultPath"
   ]
  },
  {
   "cell_type": "code",
   "execution_count": 2,
   "metadata": {},
   "outputs": [],
   "source": [
    "tabenc = TableEncoder ()"
   ]
  },
  {
   "cell_type": "code",
   "execution_count": 3,
   "metadata": {},
   "outputs": [
    {
     "data": {
      "text/plain": [
       "[Collection(name=columns), Collection(name=rows)]"
      ]
     },
     "execution_count": 3,
     "metadata": {},
     "output_type": "execute_result"
    }
   ],
   "source": [
    "chroma_client = chromadb.PersistentClient(\n",
    "    # DefaultPath.db_path.chroma + 'double_collection_v1/' + 'v_35_50000_add_label_True_with_metadatas_True'\n",
    "    DefaultPath.db_path.chroma + 'double_collection_v1/' + 'v_31_25000_add_label_True_with_metadatas_True'\n",
    "    )\n",
    "chroma_client.list_collections()"
   ]
  },
  {
   "cell_type": "code",
   "execution_count": 4,
   "metadata": {},
   "outputs": [],
   "source": [
    "row_collection = chroma_client.get_collection('rows')\n",
    "column_collection = chroma_client.get_collection('columns')"
   ]
  },
  {
   "cell_type": "code",
   "execution_count": 7,
   "metadata": {},
   "outputs": [],
   "source": [
    "# quite RAM-intensive...\n",
    "# sloth_tables = {json_table['_id']: rebuild_table(json_table) \n",
    "#              for i, json_table in enumerate(jsonlines.open(DefaultPath.data_path.wikitables + 'sloth_tables.jsonl'))\n",
    "#              if i < 25000}"
   ]
  },
  {
   "cell_type": "code",
   "execution_count": 5,
   "metadata": {},
   "outputs": [],
   "source": [
    "sloth_results = pl.read_csv(DefaultPath.data_path.wikitables + 'train_set_turl_malaguti.csv') \\\n",
    "                    .sort(by=['o_a', 'jsim', 'a%'], descending=[True, True, True])"
   ]
  },
  {
   "cell_type": "code",
   "execution_count": 6,
   "metadata": {},
   "outputs": [],
   "source": [
    "def get_from_jsonl_table_df(table_id: str):\n",
    "    with jsonlines.open(DefaultPath.data_path.wikitables + 'sloth_tables.jsonl') as reader:\n",
    "        while (json_table := reader.read())['_id'] != table_id:\n",
    "            continue\n",
    "        return rebuild_table(json_table)"
   ]
  },
  {
   "cell_type": "code",
   "execution_count": 7,
   "metadata": {},
   "outputs": [],
   "source": [
    "with jsonlines.open(DefaultPath.data_path.wikitables + 'sloth_tables.jsonl') as reader:\n",
    "    sloth_tables_ids = {json_table['_id'] for i, json_table in enumerate(reader) if i < 25000}"
   ]
  },
  {
   "cell_type": "code",
   "execution_count": 8,
   "metadata": {},
   "outputs": [],
   "source": [
    "# version 1 - pre-load all tables\n",
    "# in_db = sloth_results[['r_id', 's_id']].apply(lambda x: x[0] in sloth_tables.keys() and x[1] in sloth_tables.keys())\n",
    "# sloth_results = sloth_results.with_columns(pl.Series(name='in-db', values=in_db)).filter(pl.col('in-db') == True).drop('in-db')\n",
    "\n",
    "# version 2 - on-demand loading\n",
    "in_db = sloth_results[['r_id', 's_id']].apply(lambda x: x[0] in sloth_tables_ids and x[1] in sloth_tables_ids)\n",
    "sloth_results = sloth_results.with_columns(pl.Series(name='in-db', values=in_db)).filter(pl.col('in-db') == True).drop('in-db')"
   ]
  },
  {
   "cell_type": "code",
   "execution_count": 9,
   "metadata": {},
   "outputs": [
    {
     "data": {
      "text/html": [
       "<div><style>\n",
       ".dataframe > thead > tr,\n",
       ".dataframe > tbody > tr {\n",
       "  text-align: right;\n",
       "  white-space: pre-wrap;\n",
       "}\n",
       "</style>\n",
       "<small>shape: (5, 5)</small><table border=\"1\" class=\"dataframe\"><thead><tr><th>r_id</th><th>s_id</th><th>jsim</th><th>o_a</th><th>a%</th></tr><tr><td>str</td><td>str</td><td>f64</td><td>i64</td><td>f64</td></tr></thead><tbody><tr><td>&quot;14342092-1&quot;</td><td>&quot;37953453-1&quot;</td><td>0.55753</td><td>1778</td><td>0.958491</td></tr><tr><td>&quot;16517223-1&quot;</td><td>&quot;16519520-1&quot;</td><td>0.915589</td><td>1640</td><td>0.622627</td></tr><tr><td>&quot;16682980-1&quot;</td><td>&quot;16717744-1&quot;</td><td>0.863576</td><td>1590</td><td>0.600907</td></tr><tr><td>&quot;16559174-1&quot;</td><td>&quot;16682980-1&quot;</td><td>0.842894</td><td>1465</td><td>0.549925</td></tr><tr><td>&quot;16519520-1&quot;</td><td>&quot;16559174-1&quot;</td><td>0.867637</td><td>1345</td><td>0.51063</td></tr></tbody></table></div>"
      ],
      "text/plain": [
       "shape: (5, 5)\n",
       "┌────────────┬────────────┬──────────┬──────┬──────────┐\n",
       "│ r_id       ┆ s_id       ┆ jsim     ┆ o_a  ┆ a%       │\n",
       "│ ---        ┆ ---        ┆ ---      ┆ ---  ┆ ---      │\n",
       "│ str        ┆ str        ┆ f64      ┆ i64  ┆ f64      │\n",
       "╞════════════╪════════════╪══════════╪══════╪══════════╡\n",
       "│ 14342092-1 ┆ 37953453-1 ┆ 0.55753  ┆ 1778 ┆ 0.958491 │\n",
       "│ 16517223-1 ┆ 16519520-1 ┆ 0.915589 ┆ 1640 ┆ 0.622627 │\n",
       "│ 16682980-1 ┆ 16717744-1 ┆ 0.863576 ┆ 1590 ┆ 0.600907 │\n",
       "│ 16559174-1 ┆ 16682980-1 ┆ 0.842894 ┆ 1465 ┆ 0.549925 │\n",
       "│ 16519520-1 ┆ 16559174-1 ┆ 0.867637 ┆ 1345 ┆ 0.51063  │\n",
       "└────────────┴────────────┴──────────┴──────┴──────────┘"
      ]
     },
     "execution_count": 9,
     "metadata": {},
     "output_type": "execute_result"
    }
   ],
   "source": [
    "sloth_results.head()\n"
   ]
  },
  {
   "cell_type": "code",
   "execution_count": 13,
   "metadata": {},
   "outputs": [
    {
     "data": {
      "text/html": [
       "<div><style>\n",
       ".dataframe > thead > tr,\n",
       ".dataframe > tbody > tr {\n",
       "  text-align: right;\n",
       "  white-space: pre-wrap;\n",
       "}\n",
       "</style>\n",
       "<small>shape: (5, 5)</small><table border=\"1\" class=\"dataframe\"><thead><tr><th>r_id</th><th>s_id</th><th>jsim</th><th>o_a</th><th>a%</th></tr><tr><td>str</td><td>str</td><td>f64</td><td>i64</td><td>f64</td></tr></thead><tbody><tr><td>&quot;14342092-1&quot;</td><td>&quot;37953453-1&quot;</td><td>0.55753</td><td>1778</td><td>0.958491</td></tr><tr><td>&quot;16517223-1&quot;</td><td>&quot;16519520-1&quot;</td><td>0.915589</td><td>1640</td><td>0.622627</td></tr><tr><td>&quot;16682980-1&quot;</td><td>&quot;16717744-1&quot;</td><td>0.863576</td><td>1590</td><td>0.600907</td></tr><tr><td>&quot;16559174-1&quot;</td><td>&quot;16682980-1&quot;</td><td>0.842894</td><td>1465</td><td>0.549925</td></tr><tr><td>&quot;16519520-1&quot;</td><td>&quot;16559174-1&quot;</td><td>0.867637</td><td>1345</td><td>0.51063</td></tr></tbody></table></div>"
      ],
      "text/plain": [
       "shape: (5, 5)\n",
       "┌────────────┬────────────┬──────────┬──────┬──────────┐\n",
       "│ r_id       ┆ s_id       ┆ jsim     ┆ o_a  ┆ a%       │\n",
       "│ ---        ┆ ---        ┆ ---      ┆ ---  ┆ ---      │\n",
       "│ str        ┆ str        ┆ f64      ┆ i64  ┆ f64      │\n",
       "╞════════════╪════════════╪══════════╪══════╪══════════╡\n",
       "│ 14342092-1 ┆ 37953453-1 ┆ 0.55753  ┆ 1778 ┆ 0.958491 │\n",
       "│ 16517223-1 ┆ 16519520-1 ┆ 0.915589 ┆ 1640 ┆ 0.622627 │\n",
       "│ 16682980-1 ┆ 16717744-1 ┆ 0.863576 ┆ 1590 ┆ 0.600907 │\n",
       "│ 16559174-1 ┆ 16682980-1 ┆ 0.842894 ┆ 1465 ┆ 0.549925 │\n",
       "│ 16519520-1 ┆ 16559174-1 ┆ 0.867637 ┆ 1345 ┆ 0.51063  │\n",
       "└────────────┴────────────┴──────────┴──────┴──────────┘"
      ]
     },
     "execution_count": 13,
     "metadata": {},
     "output_type": "execute_result"
    }
   ],
   "source": [
    "sloth_results.head()"
   ]
  },
  {
   "cell_type": "markdown",
   "metadata": {},
   "source": [
    "# Computing the similarity mean to rank the tables"
   ]
  },
  {
   "cell_type": "markdown",
   "metadata": {},
   "source": [
    "## Test 1: Low Jaccard - High Overlap"
   ]
  },
  {
   "cell_type": "code",
   "execution_count": 42,
   "metadata": {},
   "outputs": [
    {
     "data": {
      "text/html": [
       "<div><style>\n",
       ".dataframe > thead > tr,\n",
       ".dataframe > tbody > tr {\n",
       "  text-align: right;\n",
       "  white-space: pre-wrap;\n",
       "}\n",
       "</style>\n",
       "<small>shape: (1, 5)</small><table border=\"1\" class=\"dataframe\"><thead><tr><th>r_id</th><th>s_id</th><th>jsim</th><th>o_a</th><th>a%</th></tr><tr><td>str</td><td>str</td><td>f64</td><td>i64</td><td>f64</td></tr></thead><tbody><tr><td>&quot;14342092-1&quot;</td><td>&quot;37953453-1&quot;</td><td>0.55753</td><td>1778</td><td>0.958491</td></tr></tbody></table></div>"
      ],
      "text/plain": [
       "shape: (1, 5)\n",
       "┌────────────┬────────────┬─────────┬──────┬──────────┐\n",
       "│ r_id       ┆ s_id       ┆ jsim    ┆ o_a  ┆ a%       │\n",
       "│ ---        ┆ ---        ┆ ---     ┆ ---  ┆ ---      │\n",
       "│ str        ┆ str        ┆ f64     ┆ i64  ┆ f64      │\n",
       "╞════════════╪════════════╪═════════╪══════╪══════════╡\n",
       "│ 14342092-1 ┆ 37953453-1 ┆ 0.55753 ┆ 1778 ┆ 0.958491 │\n",
       "└────────────┴────────────┴─────────┴──────┴──────────┘"
      ]
     },
     "execution_count": 42,
     "metadata": {},
     "output_type": "execute_result"
    }
   ],
   "source": [
    "idx_row = 0\n",
    "sloth_result_rec = sloth_results[idx_row]\n",
    "sloth_result_rec"
   ]
  },
  {
   "cell_type": "code",
   "execution_count": 43,
   "metadata": {},
   "outputs": [
    {
     "data": {
      "text/plain": [
       "((265, 300), (7, 300))"
      ]
     },
     "execution_count": 43,
     "metadata": {},
     "output_type": "execute_result"
    }
   ],
   "source": [
    "r_id = sloth_result_rec['r_id'].item()\n",
    "s_id = sloth_result_rec['s_id'].item()\n",
    "r_table = get_from_jsonl_table_df(r_id) # sloth_tables[r_id]\n",
    "s_table = get_from_jsonl_table_df(s_id) # sloth_tables[s_id]\n",
    "\n",
    "r_row_embeddings, r_column_embeddings = tabenc.full_embedding(r_table, True)\n",
    "r_row_embeddings.shape, r_column_embeddings.shape "
   ]
  },
  {
   "cell_type": "code",
   "execution_count": 19,
   "metadata": {},
   "outputs": [
    {
     "data": {
      "text/html": [
       "<div>\n",
       "<style scoped>\n",
       "    .dataframe tbody tr th:only-of-type {\n",
       "        vertical-align: middle;\n",
       "    }\n",
       "\n",
       "    .dataframe tbody tr th {\n",
       "        vertical-align: top;\n",
       "    }\n",
       "\n",
       "    .dataframe thead th {\n",
       "        text-align: right;\n",
       "    }\n",
       "</style>\n",
       "<table border=\"1\" class=\"dataframe\">\n",
       "  <thead>\n",
       "    <tr style=\"text-align: right;\">\n",
       "      <th></th>\n",
       "      <th>Name</th>\n",
       "      <th>Rural municipality (RM)</th>\n",
       "      <th>Population (2011)</th>\n",
       "      <th>Population (2006)</th>\n",
       "      <th>Change (%)</th>\n",
       "      <th>Land area (km²)</th>\n",
       "      <th>Population density (per km²)</th>\n",
       "    </tr>\n",
       "  </thead>\n",
       "  <tbody>\n",
       "    <tr>\n",
       "      <th>0</th>\n",
       "      <td>Abbey</td>\n",
       "      <td>Miry Creek No. 229</td>\n",
       "      <td>115</td>\n",
       "      <td>130</td>\n",
       "      <td>-11.5</td>\n",
       "      <td>0.77</td>\n",
       "      <td>149.1</td>\n",
       "    </tr>\n",
       "    <tr>\n",
       "      <th>1</th>\n",
       "      <td>Abernethy</td>\n",
       "      <td>Abernethy No. 186</td>\n",
       "      <td>196</td>\n",
       "      <td>197</td>\n",
       "      <td>-0.5</td>\n",
       "      <td>1.03</td>\n",
       "      <td>189.9</td>\n",
       "    </tr>\n",
       "    <tr>\n",
       "      <th>2</th>\n",
       "      <td>Albertville</td>\n",
       "      <td>Wise Creek No. 77</td>\n",
       "      <td>140</td>\n",
       "      <td>110</td>\n",
       "      <td>27.3</td>\n",
       "      <td>1.12</td>\n",
       "      <td>124.7</td>\n",
       "    </tr>\n",
       "    <tr>\n",
       "      <th>3</th>\n",
       "      <td>Alida</td>\n",
       "      <td>Reciprocity No. 32</td>\n",
       "      <td>131</td>\n",
       "      <td>106</td>\n",
       "      <td>23.6</td>\n",
       "      <td>0.37</td>\n",
       "      <td>357.1</td>\n",
       "    </tr>\n",
       "    <tr>\n",
       "      <th>4</th>\n",
       "      <td>Alvena</td>\n",
       "      <td>Fish Creek No. 402</td>\n",
       "      <td>55</td>\n",
       "      <td>55</td>\n",
       "      <td>0</td>\n",
       "      <td>0.43</td>\n",
       "      <td>128</td>\n",
       "    </tr>\n",
       "  </tbody>\n",
       "</table>\n",
       "</div>"
      ],
      "text/plain": [
       "          Name Rural municipality (RM) Population (2011) Population (2006)  \\\n",
       "0        Abbey      Miry Creek No. 229               115               130   \n",
       "1    Abernethy       Abernethy No. 186               196               197   \n",
       "2  Albertville       Wise Creek No. 77               140               110   \n",
       "3        Alida      Reciprocity No. 32               131               106   \n",
       "4       Alvena      Fish Creek No. 402                55                55   \n",
       "\n",
       "  Change (%) Land area (km²) Population density (per km²)  \n",
       "0      -11.5            0.77                        149.1  \n",
       "1       -0.5            1.03                        189.9  \n",
       "2       27.3            1.12                        124.7  \n",
       "3       23.6            0.37                        357.1  \n",
       "4          0            0.43                          128  "
      ]
     },
     "execution_count": 19,
     "metadata": {},
     "output_type": "execute_result"
    }
   ],
   "source": [
    "r_table.head()"
   ]
  },
  {
   "cell_type": "code",
   "execution_count": 20,
   "metadata": {},
   "outputs": [
    {
     "data": {
      "text/html": [
       "<div>\n",
       "<style scoped>\n",
       "    .dataframe tbody tr th:only-of-type {\n",
       "        vertical-align: middle;\n",
       "    }\n",
       "\n",
       "    .dataframe tbody tr th {\n",
       "        vertical-align: top;\n",
       "    }\n",
       "\n",
       "    .dataframe thead th {\n",
       "        text-align: right;\n",
       "    }\n",
       "</style>\n",
       "<table border=\"1\" class=\"dataframe\">\n",
       "  <thead>\n",
       "    <tr style=\"text-align: right;\">\n",
       "      <th></th>\n",
       "      <th>Name</th>\n",
       "      <th>Status</th>\n",
       "      <th>Rural municipality</th>\n",
       "      <th>Population (2011)</th>\n",
       "      <th>Population (2006)</th>\n",
       "      <th>Change (%)</th>\n",
       "      <th>Land area (km²)</th>\n",
       "      <th>Population density (per km 2 )</th>\n",
       "    </tr>\n",
       "  </thead>\n",
       "  <tbody>\n",
       "    <tr>\n",
       "      <th>0</th>\n",
       "      <td>Estevan</td>\n",
       "      <td>City</td>\n",
       "      <td>Estevan No. 5</td>\n",
       "      <td>11054</td>\n",
       "      <td>10084</td>\n",
       "      <td>9.6</td>\n",
       "      <td>18.85</td>\n",
       "      <td>586.6</td>\n",
       "    </tr>\n",
       "    <tr>\n",
       "      <th>1</th>\n",
       "      <td>Flin Flon (part)</td>\n",
       "      <td>City</td>\n",
       "      <td>—</td>\n",
       "      <td>229 This population does not include 5,363 in ...</td>\n",
       "      <td>242</td>\n",
       "      <td>-5.4</td>\n",
       "      <td>2.37 This area does not include km2 (sqmi) in ...</td>\n",
       "      <td>96.4</td>\n",
       "    </tr>\n",
       "    <tr>\n",
       "      <th>2</th>\n",
       "      <td>Humboldt</td>\n",
       "      <td>City</td>\n",
       "      <td>Humboldt No. 370</td>\n",
       "      <td>5678</td>\n",
       "      <td>4998</td>\n",
       "      <td>13.6</td>\n",
       "      <td>13.46</td>\n",
       "      <td>421.9</td>\n",
       "    </tr>\n",
       "    <tr>\n",
       "      <th>3</th>\n",
       "      <td>Lloydminster (part) The balance of Lloydminste...</td>\n",
       "      <td>City</td>\n",
       "      <td>Britannia No. 502</td>\n",
       "      <td>9772 This population does not include 18,032 i...</td>\n",
       "      <td>8118</td>\n",
       "      <td>20.4</td>\n",
       "      <td>17.34 This area does not include km2 (sqmi) in...</td>\n",
       "      <td>563.6</td>\n",
       "    </tr>\n",
       "    <tr>\n",
       "      <th>4</th>\n",
       "      <td>Martensville Martensville is Saskatchewan's sm...</td>\n",
       "      <td>City</td>\n",
       "      <td>Corman Park No. 344</td>\n",
       "      <td>7716</td>\n",
       "      <td>4978</td>\n",
       "      <td>55</td>\n",
       "      <td>6.23</td>\n",
       "      <td>1239.3</td>\n",
       "    </tr>\n",
       "  </tbody>\n",
       "</table>\n",
       "</div>"
      ],
      "text/plain": [
       "                                                Name Status  \\\n",
       "0                                            Estevan   City   \n",
       "1                                   Flin Flon (part)   City   \n",
       "2                                           Humboldt   City   \n",
       "3  Lloydminster (part) The balance of Lloydminste...   City   \n",
       "4  Martensville Martensville is Saskatchewan's sm...   City   \n",
       "\n",
       "    Rural municipality                                  Population (2011)  \\\n",
       "0        Estevan No. 5                                              11054   \n",
       "1                    —  229 This population does not include 5,363 in ...   \n",
       "2     Humboldt No. 370                                               5678   \n",
       "3    Britannia No. 502  9772 This population does not include 18,032 i...   \n",
       "4  Corman Park No. 344                                               7716   \n",
       "\n",
       "  Population (2006) Change (%)  \\\n",
       "0             10084        9.6   \n",
       "1               242       -5.4   \n",
       "2              4998       13.6   \n",
       "3              8118       20.4   \n",
       "4              4978         55   \n",
       "\n",
       "                                     Land area (km²)  \\\n",
       "0                                              18.85   \n",
       "1  2.37 This area does not include km2 (sqmi) in ...   \n",
       "2                                              13.46   \n",
       "3  17.34 This area does not include km2 (sqmi) in...   \n",
       "4                                               6.23   \n",
       "\n",
       "  Population density (per km 2 )  \n",
       "0                          586.6  \n",
       "1                           96.4  \n",
       "2                          421.9  \n",
       "3                          563.6  \n",
       "4                         1239.3  "
      ]
     },
     "execution_count": 20,
     "metadata": {},
     "output_type": "execute_result"
    }
   ],
   "source": [
    "s_table.head()"
   ]
  },
  {
   "cell_type": "markdown",
   "metadata": {},
   "source": [
    "### Row querying"
   ]
  },
  {
   "cell_type": "code",
   "execution_count": 79,
   "metadata": {},
   "outputs": [],
   "source": [
    "res = row_collection.query(\n",
    "    query_embeddings=r_row_embeddings.tolist(),\n",
    "    n_results=20,\n",
    "    include=['metadatas', 'distances'],\n",
    "    where={'table_id': {'$ne': r_id}}\n",
    ")"
   ]
  },
  {
   "cell_type": "code",
   "execution_count": 76,
   "metadata": {},
   "outputs": [],
   "source": [
    "row_tid_freq_simlist = defaultdict(list)\n",
    "for i, res_metadatas in enumerate(res['metadatas']):\n",
    "    for j, single_rec in enumerate(res_metadatas):\n",
    "        row_tid_freq_simlist[single_rec['table_id']].append(res['distances'][i][j])"
   ]
  },
  {
   "cell_type": "code",
   "execution_count": 91,
   "metadata": {},
   "outputs": [
    {
     "data": {
      "text/html": [
       "<div>\n",
       "<style scoped>\n",
       "    .dataframe tbody tr th:only-of-type {\n",
       "        vertical-align: middle;\n",
       "    }\n",
       "\n",
       "    .dataframe tbody tr th {\n",
       "        vertical-align: top;\n",
       "    }\n",
       "\n",
       "    .dataframe thead th {\n",
       "        text-align: right;\n",
       "    }\n",
       "</style>\n",
       "<table border=\"1\" class=\"dataframe\">\n",
       "  <thead>\n",
       "    <tr style=\"text-align: right;\">\n",
       "      <th></th>\n",
       "      <th>table_id</th>\n",
       "      <th>freq</th>\n",
       "      <th>avg-cosine-distance</th>\n",
       "    </tr>\n",
       "  </thead>\n",
       "  <tbody>\n",
       "    <tr>\n",
       "      <th>0</th>\n",
       "      <td>31485195-15</td>\n",
       "      <td>7</td>\n",
       "      <td>0.016165</td>\n",
       "    </tr>\n",
       "    <tr>\n",
       "      <th>1</th>\n",
       "      <td>17785973-1</td>\n",
       "      <td>2</td>\n",
       "      <td>0.016683</td>\n",
       "    </tr>\n",
       "    <tr>\n",
       "      <th>2</th>\n",
       "      <td>17790191-2</td>\n",
       "      <td>2</td>\n",
       "      <td>0.017373</td>\n",
       "    </tr>\n",
       "    <tr>\n",
       "      <th>3</th>\n",
       "      <td>20846402-3</td>\n",
       "      <td>8</td>\n",
       "      <td>0.017820</td>\n",
       "    </tr>\n",
       "    <tr>\n",
       "      <th>4</th>\n",
       "      <td>3623768-4</td>\n",
       "      <td>5</td>\n",
       "      <td>0.019024</td>\n",
       "    </tr>\n",
       "    <tr>\n",
       "      <th>5</th>\n",
       "      <td>37953453-1</td>\n",
       "      <td>2384</td>\n",
       "      <td>0.019614</td>\n",
       "    </tr>\n",
       "    <tr>\n",
       "      <th>6</th>\n",
       "      <td>20840027-3</td>\n",
       "      <td>4</td>\n",
       "      <td>0.021972</td>\n",
       "    </tr>\n",
       "    <tr>\n",
       "      <th>7</th>\n",
       "      <td>2064943-1</td>\n",
       "      <td>3</td>\n",
       "      <td>0.022173</td>\n",
       "    </tr>\n",
       "    <tr>\n",
       "      <th>8</th>\n",
       "      <td>601446-2</td>\n",
       "      <td>2</td>\n",
       "      <td>0.022264</td>\n",
       "    </tr>\n",
       "    <tr>\n",
       "      <th>9</th>\n",
       "      <td>3624090-3</td>\n",
       "      <td>2</td>\n",
       "      <td>0.022752</td>\n",
       "    </tr>\n",
       "  </tbody>\n",
       "</table>\n",
       "</div>"
      ],
      "text/plain": [
       "      table_id  freq  avg-cosine-distance\n",
       "0  31485195-15     7             0.016165\n",
       "1   17785973-1     2             0.016683\n",
       "2   17790191-2     2             0.017373\n",
       "3   20846402-3     8             0.017820\n",
       "4    3623768-4     5             0.019024\n",
       "5   37953453-1  2384             0.019614\n",
       "6   20840027-3     4             0.021972\n",
       "7    2064943-1     3             0.022173\n",
       "8     601446-2     2             0.022264\n",
       "9    3624090-3     2             0.022752"
      ]
     },
     "execution_count": 91,
     "metadata": {},
     "output_type": "execute_result"
    }
   ],
   "source": [
    "row_freq_avgcos_df = pd.DataFrame(\n",
    "    list(map(lambda t: (t[0], len(t[1]), sum(t[1])/len(t[1])), row_tid_freq_simlist.items())), columns=['table_id', 'freq', 'avg-cosine-distance']\n",
    "    )\n",
    "row_freq_avgcos_df.sort_values(by=['avg-cosine-distance', 'freq'], ascending=[True, False], inplace=True, ignore_index=True)\n",
    "row_freq_avgcos_df = row_freq_avgcos_df[row_freq_avgcos_df['freq'] > 1].reset_index().drop('index', axis=1)\n",
    "row_freq_avgcos_df.head(10)"
   ]
  },
  {
   "cell_type": "code",
   "execution_count": null,
   "metadata": {},
   "outputs": [],
   "source": [
    "s_rec = row_freq_avgcos_df[row_freq_avgcos_df['table_id'] == s_id]\n",
    "s_id_idx = int(s_rec.index.values)\n",
    "s_rec"
   ]
  },
  {
   "cell_type": "code",
   "execution_count": 96,
   "metadata": {},
   "outputs": [
    {
     "data": {
      "text/html": [
       "<div>\n",
       "<style scoped>\n",
       "    .dataframe tbody tr th:only-of-type {\n",
       "        vertical-align: middle;\n",
       "    }\n",
       "\n",
       "    .dataframe tbody tr th {\n",
       "        vertical-align: top;\n",
       "    }\n",
       "\n",
       "    .dataframe thead th {\n",
       "        text-align: right;\n",
       "    }\n",
       "</style>\n",
       "<table border=\"1\" class=\"dataframe\">\n",
       "  <thead>\n",
       "    <tr style=\"text-align: right;\">\n",
       "      <th></th>\n",
       "      <th>Name</th>\n",
       "      <th>Status</th>\n",
       "      <th>Rural municipality</th>\n",
       "      <th>Population (2011)</th>\n",
       "      <th>Population (2006)</th>\n",
       "      <th>Change (%)</th>\n",
       "      <th>Land area (km²)</th>\n",
       "      <th>Population density (per km 2 )</th>\n",
       "    </tr>\n",
       "  </thead>\n",
       "  <tbody>\n",
       "    <tr>\n",
       "      <th>0</th>\n",
       "      <td>Estevan</td>\n",
       "      <td>City</td>\n",
       "      <td>Estevan No. 5</td>\n",
       "      <td>11054</td>\n",
       "      <td>10084</td>\n",
       "      <td>9.6</td>\n",
       "      <td>18.85</td>\n",
       "      <td>586.6</td>\n",
       "    </tr>\n",
       "    <tr>\n",
       "      <th>1</th>\n",
       "      <td>Flin Flon (part)</td>\n",
       "      <td>City</td>\n",
       "      <td>—</td>\n",
       "      <td>229 This population does not include 5,363 in ...</td>\n",
       "      <td>242</td>\n",
       "      <td>-5.4</td>\n",
       "      <td>2.37 This area does not include km2 (sqmi) in ...</td>\n",
       "      <td>96.4</td>\n",
       "    </tr>\n",
       "    <tr>\n",
       "      <th>2</th>\n",
       "      <td>Humboldt</td>\n",
       "      <td>City</td>\n",
       "      <td>Humboldt No. 370</td>\n",
       "      <td>5678</td>\n",
       "      <td>4998</td>\n",
       "      <td>13.6</td>\n",
       "      <td>13.46</td>\n",
       "      <td>421.9</td>\n",
       "    </tr>\n",
       "    <tr>\n",
       "      <th>3</th>\n",
       "      <td>Lloydminster (part) The balance of Lloydminste...</td>\n",
       "      <td>City</td>\n",
       "      <td>Britannia No. 502</td>\n",
       "      <td>9772 This population does not include 18,032 i...</td>\n",
       "      <td>8118</td>\n",
       "      <td>20.4</td>\n",
       "      <td>17.34 This area does not include km2 (sqmi) in...</td>\n",
       "      <td>563.6</td>\n",
       "    </tr>\n",
       "    <tr>\n",
       "      <th>4</th>\n",
       "      <td>Martensville Martensville is Saskatchewan's sm...</td>\n",
       "      <td>City</td>\n",
       "      <td>Corman Park No. 344</td>\n",
       "      <td>7716</td>\n",
       "      <td>4978</td>\n",
       "      <td>55</td>\n",
       "      <td>6.23</td>\n",
       "      <td>1239.3</td>\n",
       "    </tr>\n",
       "    <tr>\n",
       "      <th>...</th>\n",
       "      <td>...</td>\n",
       "      <td>...</td>\n",
       "      <td>...</td>\n",
       "      <td>...</td>\n",
       "      <td>...</td>\n",
       "      <td>...</td>\n",
       "      <td>...</td>\n",
       "      <td>...</td>\n",
       "    </tr>\n",
       "    <tr>\n",
       "      <th>466</th>\n",
       "      <td>West End</td>\n",
       "      <td>Resort village</td>\n",
       "      <td>Fertile Belt No. 183</td>\n",
       "      <td>17</td>\n",
       "      <td>26</td>\n",
       "      <td>-34.6</td>\n",
       "      <td>0.34</td>\n",
       "      <td>50.4</td>\n",
       "    </tr>\n",
       "    <tr>\n",
       "      <th>467</th>\n",
       "      <td>Total City</td>\n",
       "      <td>–</td>\n",
       "      <td>–</td>\n",
       "      <td>595678</td>\n",
       "      <td>547615</td>\n",
       "      <td>8.8</td>\n",
       "      <td>675.25</td>\n",
       "      <td>811.0</td>\n",
       "    </tr>\n",
       "    <tr>\n",
       "      <th>468</th>\n",
       "      <td>Total Town</td>\n",
       "      <td>–</td>\n",
       "      <td>–</td>\n",
       "      <td>137611</td>\n",
       "      <td>127795</td>\n",
       "      <td>7.7</td>\n",
       "      <td>473.50</td>\n",
       "      <td>290.6</td>\n",
       "    </tr>\n",
       "    <tr>\n",
       "      <th>469</th>\n",
       "      <td>Total Village</td>\n",
       "      <td>–</td>\n",
       "      <td>–</td>\n",
       "      <td>43130</td>\n",
       "      <td>41091</td>\n",
       "      <td>5.0</td>\n",
       "      <td>302.29</td>\n",
       "      <td>142.7</td>\n",
       "    </tr>\n",
       "    <tr>\n",
       "      <th>470</th>\n",
       "      <td>Total Resort Village</td>\n",
       "      <td>–</td>\n",
       "      <td>–</td>\n",
       "      <td>4126</td>\n",
       "      <td>4497</td>\n",
       "      <td>−8.2</td>\n",
       "      <td>102.98</td>\n",
       "      <td>40.1</td>\n",
       "    </tr>\n",
       "  </tbody>\n",
       "</table>\n",
       "<p>471 rows × 8 columns</p>\n",
       "</div>"
      ],
      "text/plain": [
       "                                                  Name          Status  \\\n",
       "0                                              Estevan            City   \n",
       "1                                     Flin Flon (part)            City   \n",
       "2                                             Humboldt            City   \n",
       "3    Lloydminster (part) The balance of Lloydminste...            City   \n",
       "4    Martensville Martensville is Saskatchewan's sm...            City   \n",
       "..                                                 ...             ...   \n",
       "466                                           West End  Resort village   \n",
       "467                                         Total City               –   \n",
       "468                                         Total Town               –   \n",
       "469                                      Total Village               –   \n",
       "470                               Total Resort Village               –   \n",
       "\n",
       "       Rural municipality                                  Population (2011)  \\\n",
       "0           Estevan No. 5                                              11054   \n",
       "1                       —  229 This population does not include 5,363 in ...   \n",
       "2        Humboldt No. 370                                               5678   \n",
       "3       Britannia No. 502  9772 This population does not include 18,032 i...   \n",
       "4     Corman Park No. 344                                               7716   \n",
       "..                    ...                                                ...   \n",
       "466  Fertile Belt No. 183                                                 17   \n",
       "467                     –                                             595678   \n",
       "468                     –                                             137611   \n",
       "469                     –                                              43130   \n",
       "470                     –                                               4126   \n",
       "\n",
       "    Population (2006) Change (%)  \\\n",
       "0               10084        9.6   \n",
       "1                 242       -5.4   \n",
       "2                4998       13.6   \n",
       "3                8118       20.4   \n",
       "4                4978         55   \n",
       "..                ...        ...   \n",
       "466                26      -34.6   \n",
       "467            547615        8.8   \n",
       "468            127795        7.7   \n",
       "469             41091        5.0   \n",
       "470              4497       −8.2   \n",
       "\n",
       "                                       Land area (km²)  \\\n",
       "0                                                18.85   \n",
       "1    2.37 This area does not include km2 (sqmi) in ...   \n",
       "2                                                13.46   \n",
       "3    17.34 This area does not include km2 (sqmi) in...   \n",
       "4                                                 6.23   \n",
       "..                                                 ...   \n",
       "466                                               0.34   \n",
       "467                                             675.25   \n",
       "468                                             473.50   \n",
       "469                                             302.29   \n",
       "470                                             102.98   \n",
       "\n",
       "    Population density (per km 2 )  \n",
       "0                            586.6  \n",
       "1                             96.4  \n",
       "2                            421.9  \n",
       "3                            563.6  \n",
       "4                           1239.3  \n",
       "..                             ...  \n",
       "466                           50.4  \n",
       "467                          811.0  \n",
       "468                          290.6  \n",
       "469                          142.7  \n",
       "470                           40.1  \n",
       "\n",
       "[471 rows x 8 columns]"
      ]
     },
     "execution_count": 96,
     "metadata": {},
     "output_type": "execute_result"
    }
   ],
   "source": [
    "s_id_idx = 5\n",
    "\n",
    "sloth_tables[row_freq_avgcos_df.loc[s_id_idx, 'table_id']]"
   ]
  },
  {
   "cell_type": "code",
   "execution_count": 102,
   "metadata": {},
   "outputs": [
    {
     "data": {
      "image/png": "[encoded data removed]",
      "text/plain": [
       "<Figure size 640x480 with 1 Axes>"
      ]
     },
     "metadata": {},
     "output_type": "display_data"
    }
   ],
   "source": [
    "plt.yscale('log')\n",
    "plt.hist(row_tid_freq_simlist[row_freq_avgcos_df.loc[s_id_idx, 'table_id']], bins=20, alpha=0.7)\n",
    "for idx in range(0, s_id_idx - 1):\n",
    "    plt.hist(row_tid_freq_simlist[row_freq_avgcos_df.loc[idx, 'table_id']], bins=20)\n",
    "\n",
    "plt.axvline(x=row_freq_avgcos_df.loc[s_id_idx, 'avg-cosine-distance'], color='r')\n",
    "plt.show()"
   ]
  },
  {
   "cell_type": "markdown",
   "metadata": {},
   "source": [
    "### Column querying"
   ]
  },
  {
   "cell_type": "code",
   "execution_count": 103,
   "metadata": {},
   "outputs": [],
   "source": [
    "col_res = column_collection.query(\n",
    "    query_embeddings=r_column_embeddings.tolist(),\n",
    "    n_results=20,\n",
    "    include=['metadatas', 'distances'],\n",
    "    where={'table_id': {'$ne': r_id}}\n",
    ")"
   ]
  },
  {
   "cell_type": "code",
   "execution_count": 104,
   "metadata": {},
   "outputs": [],
   "source": [
    "col_tid_freq_simlist = defaultdict(list)\n",
    "for i, res_metadatas in enumerate(col_res['metadatas']):\n",
    "    for j, single_rec in enumerate(res_metadatas):\n",
    "        col_tid_freq_simlist[single_rec['table_id']].append(col_res['distances'][i][j])"
   ]
  },
  {
   "cell_type": "code",
   "execution_count": 108,
   "metadata": {},
   "outputs": [
    {
     "data": {
      "text/html": [
       "<div>\n",
       "<style scoped>\n",
       "    .dataframe tbody tr th:only-of-type {\n",
       "        vertical-align: middle;\n",
       "    }\n",
       "\n",
       "    .dataframe tbody tr th {\n",
       "        vertical-align: top;\n",
       "    }\n",
       "\n",
       "    .dataframe thead th {\n",
       "        text-align: right;\n",
       "    }\n",
       "</style>\n",
       "<table border=\"1\" class=\"dataframe\">\n",
       "  <thead>\n",
       "    <tr style=\"text-align: right;\">\n",
       "      <th></th>\n",
       "      <th>table_id</th>\n",
       "      <th>freq</th>\n",
       "      <th>avg-cosine-distance</th>\n",
       "    </tr>\n",
       "  </thead>\n",
       "  <tbody>\n",
       "    <tr>\n",
       "      <th>58</th>\n",
       "      <td>20010164-2</td>\n",
       "      <td>4</td>\n",
       "      <td>0.001194</td>\n",
       "    </tr>\n",
       "    <tr>\n",
       "      <th>62</th>\n",
       "      <td>5116633-1</td>\n",
       "      <td>2</td>\n",
       "      <td>0.001388</td>\n",
       "    </tr>\n",
       "    <tr>\n",
       "      <th>64</th>\n",
       "      <td>33895892-8</td>\n",
       "      <td>2</td>\n",
       "      <td>0.001460</td>\n",
       "    </tr>\n",
       "    <tr>\n",
       "      <th>0</th>\n",
       "      <td>37953453-1</td>\n",
       "      <td>9</td>\n",
       "      <td>0.002979</td>\n",
       "    </tr>\n",
       "    <tr>\n",
       "      <th>39</th>\n",
       "      <td>10848656-1</td>\n",
       "      <td>2</td>\n",
       "      <td>0.005462</td>\n",
       "    </tr>\n",
       "  </tbody>\n",
       "</table>\n",
       "</div>"
      ],
      "text/plain": [
       "      table_id  freq  avg-cosine-distance\n",
       "58  20010164-2     4             0.001194\n",
       "62   5116633-1     2             0.001388\n",
       "64  33895892-8     2             0.001460\n",
       "0   37953453-1     9             0.002979\n",
       "39  10848656-1     2             0.005462"
      ]
     },
     "execution_count": 108,
     "metadata": {},
     "output_type": "execute_result"
    }
   ],
   "source": [
    "col_freq_avgcos_df = pd.DataFrame(\n",
    "    list(map(lambda t: (t[0], len(t[1]), sum(t[1])/len(t[1])), col_tid_freq_simlist.items())), columns=['table_id', 'freq', 'avg-cosine-distance']\n",
    "    )\n",
    "col_freq_avgcos_df.sort_values(by=['avg-cosine-distance', 'freq'], ascending=[True, False], inplace=True)\n",
    "\n",
    "# discarding tables which appears only once, since they aren't actually significative\n",
    "col_freq_avgcos_df[col_freq_avgcos_df['freq'] > 1].head()"
   ]
  },
  {
   "cell_type": "code",
   "execution_count": 112,
   "metadata": {},
   "outputs": [
    {
     "data": {
      "text/html": [
       "<div>\n",
       "<style scoped>\n",
       "    .dataframe tbody tr th:only-of-type {\n",
       "        vertical-align: middle;\n",
       "    }\n",
       "\n",
       "    .dataframe tbody tr th {\n",
       "        vertical-align: top;\n",
       "    }\n",
       "\n",
       "    .dataframe thead th {\n",
       "        text-align: right;\n",
       "    }\n",
       "</style>\n",
       "<table border=\"1\" class=\"dataframe\">\n",
       "  <thead>\n",
       "    <tr style=\"text-align: right;\">\n",
       "      <th></th>\n",
       "      <th>table_id</th>\n",
       "      <th>freq</th>\n",
       "      <th>avg-cosine-distance</th>\n",
       "    </tr>\n",
       "  </thead>\n",
       "  <tbody>\n",
       "    <tr>\n",
       "      <th>0</th>\n",
       "      <td>37953453-1</td>\n",
       "      <td>9</td>\n",
       "      <td>0.002979</td>\n",
       "    </tr>\n",
       "    <tr>\n",
       "      <th>58</th>\n",
       "      <td>20010164-2</td>\n",
       "      <td>4</td>\n",
       "      <td>0.001194</td>\n",
       "    </tr>\n",
       "    <tr>\n",
       "      <th>62</th>\n",
       "      <td>5116633-1</td>\n",
       "      <td>2</td>\n",
       "      <td>0.001388</td>\n",
       "    </tr>\n",
       "    <tr>\n",
       "      <th>64</th>\n",
       "      <td>33895892-8</td>\n",
       "      <td>2</td>\n",
       "      <td>0.001460</td>\n",
       "    </tr>\n",
       "    <tr>\n",
       "      <th>39</th>\n",
       "      <td>10848656-1</td>\n",
       "      <td>2</td>\n",
       "      <td>0.005462</td>\n",
       "    </tr>\n",
       "  </tbody>\n",
       "</table>\n",
       "</div>"
      ],
      "text/plain": [
       "      table_id  freq  avg-cosine-distance\n",
       "0   37953453-1     9             0.002979\n",
       "58  20010164-2     4             0.001194\n",
       "62   5116633-1     2             0.001388\n",
       "64  33895892-8     2             0.001460\n",
       "39  10848656-1     2             0.005462"
      ]
     },
     "execution_count": 112,
     "metadata": {},
     "output_type": "execute_result"
    }
   ],
   "source": [
    "col_freq_avgcos_df.sort_values(by=['freq', 'avg-cosine-distance'], ascending=[False, True]).head()"
   ]
  },
  {
   "cell_type": "code",
   "execution_count": 106,
   "metadata": {},
   "outputs": [
    {
     "data": {
      "text/plain": [
       "'37953453-1'"
      ]
     },
     "execution_count": 106,
     "metadata": {},
     "output_type": "execute_result"
    }
   ],
   "source": [
    "s_id"
   ]
  },
  {
   "cell_type": "markdown",
   "metadata": {},
   "source": [
    "### Conclusions"
   ]
  },
  {
   "cell_type": "code",
   "execution_count": 109,
   "metadata": {},
   "outputs": [
    {
     "data": {
      "text/html": [
       "<div><style>\n",
       ".dataframe > thead > tr,\n",
       ".dataframe > tbody > tr {\n",
       "  text-align: right;\n",
       "  white-space: pre-wrap;\n",
       "}\n",
       "</style>\n",
       "<small>shape: (1, 5)</small><table border=\"1\" class=\"dataframe\"><thead><tr><th>r_id</th><th>s_id</th><th>jsim</th><th>o_a</th><th>a%</th></tr><tr><td>str</td><td>str</td><td>f64</td><td>i64</td><td>f64</td></tr></thead><tbody><tr><td>&quot;14342092-1&quot;</td><td>&quot;37953453-1&quot;</td><td>0.55753</td><td>1778</td><td>0.958491</td></tr></tbody></table></div>"
      ],
      "text/plain": [
       "shape: (1, 5)\n",
       "┌────────────┬────────────┬─────────┬──────┬──────────┐\n",
       "│ r_id       ┆ s_id       ┆ jsim    ┆ o_a  ┆ a%       │\n",
       "│ ---        ┆ ---        ┆ ---     ┆ ---  ┆ ---      │\n",
       "│ str        ┆ str        ┆ f64     ┆ i64  ┆ f64      │\n",
       "╞════════════╪════════════╪═════════╪══════╪══════════╡\n",
       "│ 14342092-1 ┆ 37953453-1 ┆ 0.55753 ┆ 1778 ┆ 0.958491 │\n",
       "└────────────┴────────────┴─────────┴──────┴──────────┘"
      ]
     },
     "execution_count": 109,
     "metadata": {},
     "output_type": "execute_result"
    }
   ],
   "source": [
    "sloth_result_rec"
   ]
  },
  {
   "cell_type": "markdown",
   "metadata": {},
   "source": [
    "Nonostante la jsim molto bassa, anche in questo caso nel ranking sia tra colonne che tra righe la s_table di partenza è prima se si considera innnanzitutto la frequenza come fattore di ordinamento, altrimenti con la cosine distance media è comunque tra le prime\n",
    "\n",
    "Come relazionare bene eventualmente questi due parametri?"
   ]
  },
  {
   "cell_type": "markdown",
   "metadata": {},
   "source": [
    "## Test 2: High Jaccard - High Overlap"
   ]
  },
  {
   "cell_type": "code",
   "execution_count": 59,
   "metadata": {},
   "outputs": [
    {
     "data": {
      "text/html": [
       "<div><style>\n",
       ".dataframe > thead > tr,\n",
       ".dataframe > tbody > tr {\n",
       "  text-align: right;\n",
       "  white-space: pre-wrap;\n",
       "}\n",
       "</style>\n",
       "<small>shape: (10, 5)</small><table border=\"1\" class=\"dataframe\"><thead><tr><th>r_id</th><th>s_id</th><th>jsim</th><th>o_a</th><th>a%</th></tr><tr><td>str</td><td>str</td><td>f64</td><td>i64</td><td>f64</td></tr></thead><tbody><tr><td>&quot;8246204-5&quot;</td><td>&quot;8246204-8&quot;</td><td>0.666667</td><td>588</td><td>0.913043</td></tr><tr><td>&quot;33589658-1&quot;</td><td>&quot;33589658-2&quot;</td><td>0.7875</td><td>540</td><td>0.952381</td></tr><tr><td>&quot;40275491-1&quot;</td><td>&quot;40275563-1&quot;</td><td>0.931579</td><td>504</td><td>0.965517</td></tr><tr><td>&quot;16288618-2&quot;</td><td>&quot;16288731-3&quot;</td><td>0.744186</td><td>484</td><td>0.768254</td></tr><tr><td>&quot;16288306-2&quot;</td><td>&quot;16288618-2&quot;</td><td>0.754098</td><td>462</td><td>0.785714</td></tr><tr><td>&quot;36630062-1&quot;</td><td>&quot;40275491-1&quot;</td><td>0.658824</td><td>462</td><td>0.885057</td></tr><tr><td>&quot;23266117-5&quot;</td><td>&quot;37438685-5&quot;</td><td>1.0</td><td>451</td><td>1.0</td></tr><tr><td>&quot;29361244-2&quot;</td><td>&quot;29361282-2&quot;</td><td>0.798165</td><td>440</td><td>0.785714</td></tr><tr><td>&quot;16288224-2&quot;</td><td>&quot;16288306-2&quot;</td><td>0.765217</td><td>429</td><td>0.766071</td></tr><tr><td>&quot;28463506-1&quot;</td><td>&quot;40482432-1&quot;</td><td>0.70516</td><td>425</td><td>0.566667</td></tr></tbody></table></div>"
      ],
      "text/plain": [
       "shape: (10, 5)\n",
       "┌────────────┬────────────┬──────────┬─────┬──────────┐\n",
       "│ r_id       ┆ s_id       ┆ jsim     ┆ o_a ┆ a%       │\n",
       "│ ---        ┆ ---        ┆ ---      ┆ --- ┆ ---      │\n",
       "│ str        ┆ str        ┆ f64      ┆ i64 ┆ f64      │\n",
       "╞════════════╪════════════╪══════════╪═════╪══════════╡\n",
       "│ 8246204-5  ┆ 8246204-8  ┆ 0.666667 ┆ 588 ┆ 0.913043 │\n",
       "│ 33589658-1 ┆ 33589658-2 ┆ 0.7875   ┆ 540 ┆ 0.952381 │\n",
       "│ 40275491-1 ┆ 40275563-1 ┆ 0.931579 ┆ 504 ┆ 0.965517 │\n",
       "│ 16288618-2 ┆ 16288731-3 ┆ 0.744186 ┆ 484 ┆ 0.768254 │\n",
       "│ 16288306-2 ┆ 16288618-2 ┆ 0.754098 ┆ 462 ┆ 0.785714 │\n",
       "│ 36630062-1 ┆ 40275491-1 ┆ 0.658824 ┆ 462 ┆ 0.885057 │\n",
       "│ 23266117-5 ┆ 37438685-5 ┆ 1.0      ┆ 451 ┆ 1.0      │\n",
       "│ 29361244-2 ┆ 29361282-2 ┆ 0.798165 ┆ 440 ┆ 0.785714 │\n",
       "│ 16288224-2 ┆ 16288306-2 ┆ 0.765217 ┆ 429 ┆ 0.766071 │\n",
       "│ 28463506-1 ┆ 40482432-1 ┆ 0.70516  ┆ 425 ┆ 0.566667 │\n",
       "└────────────┴────────────┴──────────┴─────┴──────────┘"
      ]
     },
     "execution_count": 59,
     "metadata": {},
     "output_type": "execute_result"
    }
   ],
   "source": [
    "sloth_results[10:20]"
   ]
  },
  {
   "cell_type": "code",
   "execution_count": 60,
   "metadata": {},
   "outputs": [
    {
     "data": {
      "text/html": [
       "<div><style>\n",
       ".dataframe > thead > tr,\n",
       ".dataframe > tbody > tr {\n",
       "  text-align: right;\n",
       "  white-space: pre-wrap;\n",
       "}\n",
       "</style>\n",
       "<small>shape: (1, 5)</small><table border=\"1\" class=\"dataframe\"><thead><tr><th>r_id</th><th>s_id</th><th>jsim</th><th>o_a</th><th>a%</th></tr><tr><td>str</td><td>str</td><td>f64</td><td>i64</td><td>f64</td></tr></thead><tbody><tr><td>&quot;40275491-1&quot;</td><td>&quot;40275563-1&quot;</td><td>0.931579</td><td>504</td><td>0.965517</td></tr></tbody></table></div>"
      ],
      "text/plain": [
       "shape: (1, 5)\n",
       "┌────────────┬────────────┬──────────┬─────┬──────────┐\n",
       "│ r_id       ┆ s_id       ┆ jsim     ┆ o_a ┆ a%       │\n",
       "│ ---        ┆ ---        ┆ ---      ┆ --- ┆ ---      │\n",
       "│ str        ┆ str        ┆ f64      ┆ i64 ┆ f64      │\n",
       "╞════════════╪════════════╪══════════╪═════╪══════════╡\n",
       "│ 40275491-1 ┆ 40275563-1 ┆ 0.931579 ┆ 504 ┆ 0.965517 │\n",
       "└────────────┴────────────┴──────────┴─────┴──────────┘"
      ]
     },
     "execution_count": 60,
     "metadata": {},
     "output_type": "execute_result"
    }
   ],
   "source": [
    "idx_row = 12\n",
    "sloth_result_rec = sloth_results[idx_row]\n",
    "sloth_result_rec"
   ]
  },
  {
   "cell_type": "code",
   "execution_count": 61,
   "metadata": {},
   "outputs": [
    {
     "data": {
      "text/plain": [
       "((174, 300), (3, 300))"
      ]
     },
     "execution_count": 61,
     "metadata": {},
     "output_type": "execute_result"
    }
   ],
   "source": [
    "r_id = sloth_result_rec['r_id'].item()\n",
    "s_id = sloth_result_rec['s_id'].item()\n",
    "r_table = get_from_jsonl_table_df(r_id) # sloth_tables[r_id]\n",
    "s_table = get_from_jsonl_table_df(s_id) # sloth_tables[s_id]\n",
    "\n",
    "r_row_embeddings, r_column_embeddings = tabenc.full_embedding(r_table, True)\n",
    "r_row_embeddings.shape, r_column_embeddings.shape "
   ]
  },
  {
   "cell_type": "code",
   "execution_count": 81,
   "metadata": {},
   "outputs": [
    {
     "data": {
      "text/html": [
       "<div>\n",
       "<style scoped>\n",
       "    .dataframe tbody tr th:only-of-type {\n",
       "        vertical-align: middle;\n",
       "    }\n",
       "\n",
       "    .dataframe tbody tr th {\n",
       "        vertical-align: top;\n",
       "    }\n",
       "\n",
       "    .dataframe thead th {\n",
       "        text-align: right;\n",
       "    }\n",
       "</style>\n",
       "<table border=\"1\" class=\"dataframe\">\n",
       "  <thead>\n",
       "    <tr style=\"text-align: right;\">\n",
       "      <th></th>\n",
       "      <th>State</th>\n",
       "      <th>Defence minister</th>\n",
       "      <th>Party</th>\n",
       "    </tr>\n",
       "  </thead>\n",
       "  <tbody>\n",
       "    <tr>\n",
       "      <th>37</th>\n",
       "      <td>Comoros</td>\n",
       "      <td></td>\n",
       "      <td></td>\n",
       "    </tr>\n",
       "    <tr>\n",
       "      <th>94</th>\n",
       "      <td>Lebanon</td>\n",
       "      <td></td>\n",
       "      <td></td>\n",
       "    </tr>\n",
       "    <tr>\n",
       "      <th>1</th>\n",
       "      <td>Albania</td>\n",
       "      <td></td>\n",
       "      <td></td>\n",
       "    </tr>\n",
       "    <tr>\n",
       "      <th>60</th>\n",
       "      <td>France</td>\n",
       "      <td></td>\n",
       "      <td></td>\n",
       "    </tr>\n",
       "    <tr>\n",
       "      <th>165</th>\n",
       "      <td>United States</td>\n",
       "      <td>Treasury Secretary Chuck Hagel</td>\n",
       "      <td>Republican</td>\n",
       "    </tr>\n",
       "  </tbody>\n",
       "</table>\n",
       "</div>"
      ],
      "text/plain": [
       "             State                Defence minister       Party\n",
       "37         Comoros                                            \n",
       "94         Lebanon                                            \n",
       "1          Albania                                            \n",
       "60          France                                            \n",
       "165  United States  Treasury Secretary Chuck Hagel  Republican"
      ]
     },
     "execution_count": 81,
     "metadata": {},
     "output_type": "execute_result"
    }
   ],
   "source": [
    "r_table.sample(5)"
   ]
  },
  {
   "cell_type": "code",
   "execution_count": 82,
   "metadata": {},
   "outputs": [
    {
     "data": {
      "text/html": [
       "<div>\n",
       "<style scoped>\n",
       "    .dataframe tbody tr th:only-of-type {\n",
       "        vertical-align: middle;\n",
       "    }\n",
       "\n",
       "    .dataframe tbody tr th {\n",
       "        vertical-align: top;\n",
       "    }\n",
       "\n",
       "    .dataframe thead th {\n",
       "        text-align: right;\n",
       "    }\n",
       "</style>\n",
       "<table border=\"1\" class=\"dataframe\">\n",
       "  <thead>\n",
       "    <tr style=\"text-align: right;\">\n",
       "      <th></th>\n",
       "      <th>State</th>\n",
       "      <th>Interior minister</th>\n",
       "      <th>Party</th>\n",
       "    </tr>\n",
       "  </thead>\n",
       "  <tbody>\n",
       "    <tr>\n",
       "      <th>53</th>\n",
       "      <td>El Salvador</td>\n",
       "      <td></td>\n",
       "      <td></td>\n",
       "    </tr>\n",
       "    <tr>\n",
       "      <th>74</th>\n",
       "      <td>Honduras</td>\n",
       "      <td></td>\n",
       "      <td></td>\n",
       "    </tr>\n",
       "    <tr>\n",
       "      <th>35</th>\n",
       "      <td>China</td>\n",
       "      <td></td>\n",
       "      <td></td>\n",
       "    </tr>\n",
       "    <tr>\n",
       "      <th>90</th>\n",
       "      <td>Kuwait</td>\n",
       "      <td></td>\n",
       "      <td></td>\n",
       "    </tr>\n",
       "    <tr>\n",
       "      <th>1</th>\n",
       "      <td>Albania</td>\n",
       "      <td></td>\n",
       "      <td></td>\n",
       "    </tr>\n",
       "  </tbody>\n",
       "</table>\n",
       "</div>"
      ],
      "text/plain": [
       "          State Interior minister Party\n",
       "53  El Salvador                        \n",
       "74     Honduras                        \n",
       "35        China                        \n",
       "90       Kuwait                        \n",
       "1       Albania                        "
      ]
     },
     "execution_count": 82,
     "metadata": {},
     "output_type": "execute_result"
    }
   ],
   "source": [
    "s_table.sample(5)"
   ]
  },
  {
   "cell_type": "markdown",
   "metadata": {},
   "source": [
    "### Row querying"
   ]
  },
  {
   "cell_type": "code",
   "execution_count": 83,
   "metadata": {},
   "outputs": [],
   "source": [
    "res = row_collection.query(\n",
    "    query_embeddings=r_row_embeddings.tolist(),\n",
    "    n_results=10,\n",
    "    include=['metadatas', 'distances'],\n",
    "    where={'table_id': {'$ne': r_id}}\n",
    ")"
   ]
  },
  {
   "cell_type": "code",
   "execution_count": 84,
   "metadata": {},
   "outputs": [],
   "source": [
    "row_tid_freq_simlist = defaultdict(list)\n",
    "for i, res_metadatas in enumerate(res['metadatas']):\n",
    "    for j, single_rec in enumerate(res_metadatas):\n",
    "        row_tid_freq_simlist[single_rec['table_id']].append(res['distances'][i][j])"
   ]
  },
  {
   "cell_type": "code",
   "execution_count": 85,
   "metadata": {},
   "outputs": [
    {
     "data": {
      "text/html": [
       "<div>\n",
       "<style scoped>\n",
       "    .dataframe tbody tr th:only-of-type {\n",
       "        vertical-align: middle;\n",
       "    }\n",
       "\n",
       "    .dataframe tbody tr th {\n",
       "        vertical-align: top;\n",
       "    }\n",
       "\n",
       "    .dataframe thead th {\n",
       "        text-align: right;\n",
       "    }\n",
       "</style>\n",
       "<table border=\"1\" class=\"dataframe\">\n",
       "  <thead>\n",
       "    <tr style=\"text-align: right;\">\n",
       "      <th></th>\n",
       "      <th>table_id</th>\n",
       "      <th>freq</th>\n",
       "      <th>avg-cosine-distance</th>\n",
       "    </tr>\n",
       "  </thead>\n",
       "  <tbody>\n",
       "    <tr>\n",
       "      <th>0</th>\n",
       "      <td>40275563-1</td>\n",
       "      <td>1677</td>\n",
       "      <td>0.049392</td>\n",
       "    </tr>\n",
       "    <tr>\n",
       "      <th>1</th>\n",
       "      <td>40275394-3</td>\n",
       "      <td>23</td>\n",
       "      <td>0.064590</td>\n",
       "    </tr>\n",
       "    <tr>\n",
       "      <th>2</th>\n",
       "      <td>40275394-2</td>\n",
       "      <td>31</td>\n",
       "      <td>0.086508</td>\n",
       "    </tr>\n",
       "  </tbody>\n",
       "</table>\n",
       "</div>"
      ],
      "text/plain": [
       "     table_id  freq  avg-cosine-distance\n",
       "0  40275563-1  1677             0.049392\n",
       "1  40275394-3    23             0.064590\n",
       "2  40275394-2    31             0.086508"
      ]
     },
     "execution_count": 85,
     "metadata": {},
     "output_type": "execute_result"
    }
   ],
   "source": [
    "row_freq_avgcos_df = pd.DataFrame(\n",
    "    list(map(lambda t: (t[0], len(t[1]), sum(t[1])/len(t[1])), row_tid_freq_simlist.items())), columns=['table_id', 'freq', 'avg-cosine-distance']\n",
    "    )\n",
    "row_freq_avgcos_df.sort_values(by=['avg-cosine-distance', 'freq'], ascending=[True, False], inplace=True)\n",
    "row_freq_avgcos_df = row_freq_avgcos_df[row_freq_avgcos_df['freq'] > 1]\n",
    "row_freq_avgcos_df.head(10)"
   ]
  },
  {
   "cell_type": "code",
   "execution_count": 90,
   "metadata": {},
   "outputs": [
    {
     "data": {
      "text/plain": [
       "'40275563-1'"
      ]
     },
     "execution_count": 90,
     "metadata": {},
     "output_type": "execute_result"
    }
   ],
   "source": [
    "s_id_idx = 0\n",
    "s_id"
   ]
  },
  {
   "cell_type": "code",
   "execution_count": 91,
   "metadata": {},
   "outputs": [
    {
     "data": {
      "image/png": "[encoded data removed]",
      "text/plain": [
       "<Figure size 640x480 with 1 Axes>"
      ]
     },
     "metadata": {},
     "output_type": "display_data"
    }
   ],
   "source": [
    "plt.hist(row_tid_freq_simlist[row_freq_avgcos_df.loc[s_id_idx, 'table_id']], bins=20)\n",
    "plt.axvline(x=row_freq_avgcos_df.loc[s_id_idx, 'avg-cosine-distance'], color='r')\n",
    "plt.show()"
   ]
  },
  {
   "cell_type": "markdown",
   "metadata": {},
   "source": [
    "### Column querying"
   ]
  },
  {
   "cell_type": "code",
   "execution_count": 92,
   "metadata": {},
   "outputs": [],
   "source": [
    "col_res = column_collection.query(\n",
    "    query_embeddings=r_column_embeddings.tolist(),\n",
    "    n_results=20,\n",
    "    include=['metadatas', 'distances'],\n",
    "    where={'table_id': {'$ne': r_id}}\n",
    ")"
   ]
  },
  {
   "cell_type": "code",
   "execution_count": 93,
   "metadata": {},
   "outputs": [],
   "source": [
    "col_tid_freq_simlist = defaultdict(list)\n",
    "for i, res_metadatas in enumerate(col_res['metadatas']):\n",
    "    for j, single_rec in enumerate(res_metadatas):\n",
    "        col_tid_freq_simlist[single_rec['table_id']].append(col_res['distances'][i][j])"
   ]
  },
  {
   "cell_type": "code",
   "execution_count": 94,
   "metadata": {},
   "outputs": [
    {
     "data": {
      "text/html": [
       "<div>\n",
       "<style scoped>\n",
       "    .dataframe tbody tr th:only-of-type {\n",
       "        vertical-align: middle;\n",
       "    }\n",
       "\n",
       "    .dataframe tbody tr th {\n",
       "        vertical-align: top;\n",
       "    }\n",
       "\n",
       "    .dataframe thead th {\n",
       "        text-align: right;\n",
       "    }\n",
       "</style>\n",
       "<table border=\"1\" class=\"dataframe\">\n",
       "  <thead>\n",
       "    <tr style=\"text-align: right;\">\n",
       "      <th></th>\n",
       "      <th>table_id</th>\n",
       "      <th>freq</th>\n",
       "      <th>avg-cosine-distance</th>\n",
       "    </tr>\n",
       "  </thead>\n",
       "  <tbody>\n",
       "    <tr>\n",
       "      <th>0</th>\n",
       "      <td>40275563-1</td>\n",
       "      <td>2</td>\n",
       "      <td>0.029001</td>\n",
       "    </tr>\n",
       "  </tbody>\n",
       "</table>\n",
       "</div>"
      ],
      "text/plain": [
       "     table_id  freq  avg-cosine-distance\n",
       "0  40275563-1     2             0.029001"
      ]
     },
     "execution_count": 94,
     "metadata": {},
     "output_type": "execute_result"
    }
   ],
   "source": [
    "col_freq_avgcos_df = pd.DataFrame(\n",
    "    list(map(lambda t: (t[0], len(t[1]), sum(t[1])/len(t[1])), col_tid_freq_simlist.items())), columns=['table_id', 'freq', 'avg-cosine-distance']\n",
    "    )\n",
    "col_freq_avgcos_df.sort_values(by=['avg-cosine-distance', 'freq'], ascending=[True, False], inplace=True)\n",
    "\n",
    "# discarding tables which appears only once, since they aren't actually significative\n",
    "col_freq_avgcos_df[col_freq_avgcos_df['freq'] > 1].head()"
   ]
  },
  {
   "cell_type": "code",
   "execution_count": 95,
   "metadata": {},
   "outputs": [
    {
     "data": {
      "text/plain": [
       "'40275563-1'"
      ]
     },
     "execution_count": 95,
     "metadata": {},
     "output_type": "execute_result"
    }
   ],
   "source": [
    "s_id"
   ]
  },
  {
   "cell_type": "markdown",
   "metadata": {},
   "source": [
    "### Conclusions"
   ]
  },
  {
   "cell_type": "code",
   "execution_count": 96,
   "metadata": {},
   "outputs": [
    {
     "data": {
      "text/html": [
       "<div><style>\n",
       ".dataframe > thead > tr,\n",
       ".dataframe > tbody > tr {\n",
       "  text-align: right;\n",
       "  white-space: pre-wrap;\n",
       "}\n",
       "</style>\n",
       "<small>shape: (1, 5)</small><table border=\"1\" class=\"dataframe\"><thead><tr><th>r_id</th><th>s_id</th><th>jsim</th><th>o_a</th><th>a%</th></tr><tr><td>str</td><td>str</td><td>f64</td><td>i64</td><td>f64</td></tr></thead><tbody><tr><td>&quot;40275491-1&quot;</td><td>&quot;40275563-1&quot;</td><td>0.931579</td><td>504</td><td>0.965517</td></tr></tbody></table></div>"
      ],
      "text/plain": [
       "shape: (1, 5)\n",
       "┌────────────┬────────────┬──────────┬─────┬──────────┐\n",
       "│ r_id       ┆ s_id       ┆ jsim     ┆ o_a ┆ a%       │\n",
       "│ ---        ┆ ---        ┆ ---      ┆ --- ┆ ---      │\n",
       "│ str        ┆ str        ┆ f64      ┆ i64 ┆ f64      │\n",
       "╞════════════╪════════════╪══════════╪═════╪══════════╡\n",
       "│ 40275491-1 ┆ 40275563-1 ┆ 0.931579 ┆ 504 ┆ 0.965517 │\n",
       "└────────────┴────────────┴──────────┴─────┴──────────┘"
      ]
     },
     "execution_count": 96,
     "metadata": {},
     "output_type": "execute_result"
    }
   ],
   "source": [
    "sloth_result_rec"
   ]
  },
  {
   "cell_type": "markdown",
   "metadata": {},
   "source": [
    "We have found that in this case, the table with s_id=\"16519520-1\" is the best one both with rows and columns, but on the rows part, it's very near to other results, in terms\n",
    "of frequency and average similarity. Is this an indicator of a not-so-high true overlap ratio? "
   ]
  },
  {
   "cell_type": "markdown",
   "metadata": {},
   "source": [
    "## Test 3: Low Jaccard - Low Overlap"
   ]
  },
  {
   "cell_type": "code",
   "execution_count": 97,
   "metadata": {},
   "outputs": [
    {
     "data": {
      "text/html": [
       "<div><style>\n",
       ".dataframe > thead > tr,\n",
       ".dataframe > tbody > tr {\n",
       "  text-align: right;\n",
       "  white-space: pre-wrap;\n",
       "}\n",
       "</style>\n",
       "<small>shape: (10, 5)</small><table border=\"1\" class=\"dataframe\"><thead><tr><th>r_id</th><th>s_id</th><th>jsim</th><th>o_a</th><th>a%</th></tr><tr><td>str</td><td>str</td><td>f64</td><td>i64</td><td>f64</td></tr></thead><tbody><tr><td>&quot;14342092-1&quot;</td><td>&quot;37953453-1&quot;</td><td>0.55753</td><td>1778</td><td>0.958491</td></tr><tr><td>&quot;16517223-1&quot;</td><td>&quot;16519520-1&quot;</td><td>0.915589</td><td>1640</td><td>0.622627</td></tr><tr><td>&quot;16682980-1&quot;</td><td>&quot;16717744-1&quot;</td><td>0.863576</td><td>1590</td><td>0.600907</td></tr><tr><td>&quot;16559174-1&quot;</td><td>&quot;16682980-1&quot;</td><td>0.842894</td><td>1465</td><td>0.549925</td></tr><tr><td>&quot;16519520-1&quot;</td><td>&quot;16559174-1&quot;</td><td>0.867637</td><td>1345</td><td>0.51063</td></tr><tr><td>&quot;16517223-1&quot;</td><td>&quot;16559174-1&quot;</td><td>0.81258</td><td>1190</td><td>0.449735</td></tr><tr><td>&quot;16519520-1&quot;</td><td>&quot;16682980-1&quot;</td><td>0.750777</td><td>1030</td><td>0.39104</td></tr><tr><td>&quot;16517223-1&quot;</td><td>&quot;16682980-1&quot;</td><td>0.717855</td><td>910</td><td>0.343915</td></tr><tr><td>&quot;16517223-1&quot;</td><td>&quot;16717744-1&quot;</td><td>0.657429</td><td>729</td><td>0.27551</td></tr><tr><td>&quot;269064-2&quot;</td><td>&quot;3881235-1&quot;</td><td>0.474112</td><td>640</td><td>0.302172</td></tr></tbody></table></div>"
      ],
      "text/plain": [
       "shape: (10, 5)\n",
       "┌────────────┬────────────┬──────────┬──────┬──────────┐\n",
       "│ r_id       ┆ s_id       ┆ jsim     ┆ o_a  ┆ a%       │\n",
       "│ ---        ┆ ---        ┆ ---      ┆ ---  ┆ ---      │\n",
       "│ str        ┆ str        ┆ f64      ┆ i64  ┆ f64      │\n",
       "╞════════════╪════════════╪══════════╪══════╪══════════╡\n",
       "│ 14342092-1 ┆ 37953453-1 ┆ 0.55753  ┆ 1778 ┆ 0.958491 │\n",
       "│ 16517223-1 ┆ 16519520-1 ┆ 0.915589 ┆ 1640 ┆ 0.622627 │\n",
       "│ 16682980-1 ┆ 16717744-1 ┆ 0.863576 ┆ 1590 ┆ 0.600907 │\n",
       "│ 16559174-1 ┆ 16682980-1 ┆ 0.842894 ┆ 1465 ┆ 0.549925 │\n",
       "│ 16519520-1 ┆ 16559174-1 ┆ 0.867637 ┆ 1345 ┆ 0.51063  │\n",
       "│ 16517223-1 ┆ 16559174-1 ┆ 0.81258  ┆ 1190 ┆ 0.449735 │\n",
       "│ 16519520-1 ┆ 16682980-1 ┆ 0.750777 ┆ 1030 ┆ 0.39104  │\n",
       "│ 16517223-1 ┆ 16682980-1 ┆ 0.717855 ┆ 910  ┆ 0.343915 │\n",
       "│ 16517223-1 ┆ 16717744-1 ┆ 0.657429 ┆ 729  ┆ 0.27551  │\n",
       "│ 269064-2   ┆ 3881235-1  ┆ 0.474112 ┆ 640  ┆ 0.302172 │\n",
       "└────────────┴────────────┴──────────┴──────┴──────────┘"
      ]
     },
     "execution_count": 97,
     "metadata": {},
     "output_type": "execute_result"
    }
   ],
   "source": [
    "sloth_results[:10]"
   ]
  },
  {
   "cell_type": "code",
   "execution_count": 98,
   "metadata": {},
   "outputs": [
    {
     "data": {
      "text/html": [
       "<div><style>\n",
       ".dataframe > thead > tr,\n",
       ".dataframe > tbody > tr {\n",
       "  text-align: right;\n",
       "  white-space: pre-wrap;\n",
       "}\n",
       "</style>\n",
       "<small>shape: (1, 5)</small><table border=\"1\" class=\"dataframe\"><thead><tr><th>r_id</th><th>s_id</th><th>jsim</th><th>o_a</th><th>a%</th></tr><tr><td>str</td><td>str</td><td>f64</td><td>i64</td><td>f64</td></tr></thead><tbody><tr><td>&quot;269064-2&quot;</td><td>&quot;3881235-1&quot;</td><td>0.474112</td><td>640</td><td>0.302172</td></tr></tbody></table></div>"
      ],
      "text/plain": [
       "shape: (1, 5)\n",
       "┌──────────┬───────────┬──────────┬─────┬──────────┐\n",
       "│ r_id     ┆ s_id      ┆ jsim     ┆ o_a ┆ a%       │\n",
       "│ ---      ┆ ---       ┆ ---      ┆ --- ┆ ---      │\n",
       "│ str      ┆ str       ┆ f64      ┆ i64 ┆ f64      │\n",
       "╞══════════╪═══════════╪══════════╪═════╪══════════╡\n",
       "│ 269064-2 ┆ 3881235-1 ┆ 0.474112 ┆ 640 ┆ 0.302172 │\n",
       "└──────────┴───────────┴──────────┴─────┴──────────┘"
      ]
     },
     "execution_count": 98,
     "metadata": {},
     "output_type": "execute_result"
    }
   ],
   "source": [
    "idx_row = 9\n",
    "sloth_result_rec = sloth_results[idx_row]\n",
    "sloth_result_rec"
   ]
  },
  {
   "cell_type": "code",
   "execution_count": 99,
   "metadata": {},
   "outputs": [
    {
     "data": {
      "text/plain": [
       "((755, 300), (4, 300))"
      ]
     },
     "execution_count": 99,
     "metadata": {},
     "output_type": "execute_result"
    }
   ],
   "source": [
    "r_id = sloth_result_rec['r_id'].item()\n",
    "s_id = sloth_result_rec['s_id'].item()\n",
    "r_table = get_from_jsonl_table_df(r_id) # sloth_tables[r_id]\n",
    "s_table = get_from_jsonl_table_df(s_id) # sloth_tables[s_id]\n",
    "\n",
    "r_row_embeddings, r_column_embeddings = tabenc.full_embedding(r_table, True)\n",
    "r_row_embeddings.shape, r_column_embeddings.shape "
   ]
  },
  {
   "cell_type": "code",
   "execution_count": 100,
   "metadata": {},
   "outputs": [
    {
     "data": {
      "text/html": [
       "<div>\n",
       "<style scoped>\n",
       "    .dataframe tbody tr th:only-of-type {\n",
       "        vertical-align: middle;\n",
       "    }\n",
       "\n",
       "    .dataframe tbody tr th {\n",
       "        vertical-align: top;\n",
       "    }\n",
       "\n",
       "    .dataframe thead th {\n",
       "        text-align: right;\n",
       "    }\n",
       "</style>\n",
       "<table border=\"1\" class=\"dataframe\">\n",
       "  <thead>\n",
       "    <tr style=\"text-align: right;\">\n",
       "      <th></th>\n",
       "      <th>Lord</th>\n",
       "      <th>Party</th>\n",
       "      <th>Type</th>\n",
       "      <th>Notes</th>\n",
       "    </tr>\n",
       "  </thead>\n",
       "  <tbody>\n",
       "    <tr>\n",
       "      <th>0</th>\n",
       "      <td>The Lord Aberdare</td>\n",
       "      <td>Crossbench</td>\n",
       "      <td>Excepted hereditary peer</td>\n",
       "      <td></td>\n",
       "    </tr>\n",
       "    <tr>\n",
       "      <th>1</th>\n",
       "      <td>The Baroness Adams of Craigielea</td>\n",
       "      <td>Labour</td>\n",
       "      <td>Life peer</td>\n",
       "      <td></td>\n",
       "    </tr>\n",
       "    <tr>\n",
       "      <th>2</th>\n",
       "      <td>The Lord Addington</td>\n",
       "      <td>Liberal Democrat</td>\n",
       "      <td>Excepted hereditary peer</td>\n",
       "      <td></td>\n",
       "    </tr>\n",
       "    <tr>\n",
       "      <th>3</th>\n",
       "      <td>The Lord Adebowale</td>\n",
       "      <td>Crossbench</td>\n",
       "      <td>Life peer</td>\n",
       "      <td>Member of the Advisory Council on the Misuse o...</td>\n",
       "    </tr>\n",
       "    <tr>\n",
       "      <th>4</th>\n",
       "      <td>The Lord Adonis</td>\n",
       "      <td>Labour</td>\n",
       "      <td>Life peer</td>\n",
       "      <td>Former Secretary of State for Transport</td>\n",
       "    </tr>\n",
       "  </tbody>\n",
       "</table>\n",
       "</div>"
      ],
      "text/plain": [
       "                               Lord             Party  \\\n",
       "0                 The Lord Aberdare        Crossbench   \n",
       "1  The Baroness Adams of Craigielea            Labour   \n",
       "2                The Lord Addington  Liberal Democrat   \n",
       "3                The Lord Adebowale        Crossbench   \n",
       "4                   The Lord Adonis            Labour   \n",
       "\n",
       "                       Type                                              Notes  \n",
       "0  Excepted hereditary peer                                                     \n",
       "1                 Life peer                                                     \n",
       "2  Excepted hereditary peer                                                     \n",
       "3                 Life peer  Member of the Advisory Council on the Misuse o...  \n",
       "4                 Life peer            Former Secretary of State for Transport  "
      ]
     },
     "execution_count": 100,
     "metadata": {},
     "output_type": "execute_result"
    }
   ],
   "source": [
    "r_table.head()"
   ]
  },
  {
   "cell_type": "code",
   "execution_count": 101,
   "metadata": {},
   "outputs": [
    {
     "data": {
      "text/html": [
       "<div>\n",
       "<style scoped>\n",
       "    .dataframe tbody tr th:only-of-type {\n",
       "        vertical-align: middle;\n",
       "    }\n",
       "\n",
       "    .dataframe tbody tr th {\n",
       "        vertical-align: top;\n",
       "    }\n",
       "\n",
       "    .dataframe thead th {\n",
       "        text-align: right;\n",
       "    }\n",
       "</style>\n",
       "<table border=\"1\" class=\"dataframe\">\n",
       "  <thead>\n",
       "    <tr style=\"text-align: right;\">\n",
       "      <th></th>\n",
       "      <th>Title</th>\n",
       "      <th>Creation</th>\n",
       "      <th>Other titles</th>\n",
       "    </tr>\n",
       "  </thead>\n",
       "  <tbody>\n",
       "    <tr>\n",
       "      <th>0</th>\n",
       "      <td>The Lord Chalfont</td>\n",
       "      <td>1964</td>\n",
       "      <td></td>\n",
       "    </tr>\n",
       "    <tr>\n",
       "      <th>1</th>\n",
       "      <td>The Baroness Masham of Ilton</td>\n",
       "      <td>1970</td>\n",
       "      <td></td>\n",
       "    </tr>\n",
       "    <tr>\n",
       "      <th>2</th>\n",
       "      <td>The Lord Tanlaw</td>\n",
       "      <td>1971</td>\n",
       "      <td></td>\n",
       "    </tr>\n",
       "    <tr>\n",
       "      <th>3</th>\n",
       "      <td>The Baroness Sharples</td>\n",
       "      <td>1973</td>\n",
       "      <td></td>\n",
       "    </tr>\n",
       "    <tr>\n",
       "      <th>4</th>\n",
       "      <td>The Lord Mackie of Benshie</td>\n",
       "      <td>1974</td>\n",
       "      <td></td>\n",
       "    </tr>\n",
       "  </tbody>\n",
       "</table>\n",
       "</div>"
      ],
      "text/plain": [
       "                          Title Creation Other titles\n",
       "0             The Lord Chalfont     1964             \n",
       "1  The Baroness Masham of Ilton     1970             \n",
       "2               The Lord Tanlaw     1971             \n",
       "3         The Baroness Sharples     1973             \n",
       "4    The Lord Mackie of Benshie     1974             "
      ]
     },
     "execution_count": 101,
     "metadata": {},
     "output_type": "execute_result"
    }
   ],
   "source": [
    "s_table.head()"
   ]
  },
  {
   "cell_type": "markdown",
   "metadata": {},
   "source": [
    "### Row querying"
   ]
  },
  {
   "cell_type": "code",
   "execution_count": 102,
   "metadata": {},
   "outputs": [],
   "source": [
    "res = row_collection.query(\n",
    "    query_embeddings=r_row_embeddings.tolist(),\n",
    "    n_results=20,\n",
    "    include=['metadatas', 'distances'],\n",
    "    where={'table_id': {'$ne': r_id}}\n",
    ")"
   ]
  },
  {
   "cell_type": "code",
   "execution_count": 103,
   "metadata": {},
   "outputs": [],
   "source": [
    "row_tid_freq_simlist = defaultdict(list)\n",
    "for i, res_metadatas in enumerate(res['metadatas']):\n",
    "    for j, single_rec in enumerate(res_metadatas):\n",
    "        row_tid_freq_simlist[single_rec['table_id']].append(res['distances'][i][j])"
   ]
  },
  {
   "cell_type": "code",
   "execution_count": 104,
   "metadata": {},
   "outputs": [
    {
     "data": {
      "text/html": [
       "<div>\n",
       "<style scoped>\n",
       "    .dataframe tbody tr th:only-of-type {\n",
       "        vertical-align: middle;\n",
       "    }\n",
       "\n",
       "    .dataframe tbody tr th {\n",
       "        vertical-align: top;\n",
       "    }\n",
       "\n",
       "    .dataframe thead th {\n",
       "        text-align: right;\n",
       "    }\n",
       "</style>\n",
       "<table border=\"1\" class=\"dataframe\">\n",
       "  <thead>\n",
       "    <tr style=\"text-align: right;\">\n",
       "      <th></th>\n",
       "      <th>table_id</th>\n",
       "      <th>freq</th>\n",
       "      <th>avg-cosine-distance</th>\n",
       "    </tr>\n",
       "  </thead>\n",
       "  <tbody>\n",
       "    <tr>\n",
       "      <th>89</th>\n",
       "      <td>11976561-2</td>\n",
       "      <td>2</td>\n",
       "      <td>0.247149</td>\n",
       "    </tr>\n",
       "    <tr>\n",
       "      <th>95</th>\n",
       "      <td>663889-2</td>\n",
       "      <td>2</td>\n",
       "      <td>0.262573</td>\n",
       "    </tr>\n",
       "    <tr>\n",
       "      <th>90</th>\n",
       "      <td>9039166-2</td>\n",
       "      <td>4</td>\n",
       "      <td>0.264383</td>\n",
       "    </tr>\n",
       "    <tr>\n",
       "      <th>92</th>\n",
       "      <td>11950902-2</td>\n",
       "      <td>5</td>\n",
       "      <td>0.265302</td>\n",
       "    </tr>\n",
       "    <tr>\n",
       "      <th>41</th>\n",
       "      <td>661462-2</td>\n",
       "      <td>2094</td>\n",
       "      <td>0.267720</td>\n",
       "    </tr>\n",
       "  </tbody>\n",
       "</table>\n",
       "</div>"
      ],
      "text/plain": [
       "      table_id  freq  avg-cosine-distance\n",
       "89  11976561-2     2             0.247149\n",
       "95    663889-2     2             0.262573\n",
       "90   9039166-2     4             0.264383\n",
       "92  11950902-2     5             0.265302\n",
       "41    661462-2  2094             0.267720"
      ]
     },
     "execution_count": 104,
     "metadata": {},
     "output_type": "execute_result"
    }
   ],
   "source": [
    "row_freq_avgcos_df = pd.DataFrame(\n",
    "    list(map(lambda t: (t[0], len(t[1]), sum(t[1])/len(t[1])), row_tid_freq_simlist.items())), columns=['table_id', 'freq', 'avg-cosine-distance']\n",
    "    )\n",
    "row_freq_avgcos_df.sort_values(by=['avg-cosine-distance', 'freq'], ascending=[True, False], inplace=True)\n",
    "row_freq_avgcos_df = row_freq_avgcos_df[row_freq_avgcos_df['freq'] > 1]\n",
    "row_freq_avgcos_df.head()"
   ]
  },
  {
   "cell_type": "code",
   "execution_count": 105,
   "metadata": {},
   "outputs": [
    {
     "data": {
      "text/html": [
       "<div>\n",
       "<style scoped>\n",
       "    .dataframe tbody tr th:only-of-type {\n",
       "        vertical-align: middle;\n",
       "    }\n",
       "\n",
       "    .dataframe tbody tr th {\n",
       "        vertical-align: top;\n",
       "    }\n",
       "\n",
       "    .dataframe thead th {\n",
       "        text-align: right;\n",
       "    }\n",
       "</style>\n",
       "<table border=\"1\" class=\"dataframe\">\n",
       "  <thead>\n",
       "    <tr style=\"text-align: right;\">\n",
       "      <th></th>\n",
       "      <th>table_id</th>\n",
       "      <th>freq</th>\n",
       "      <th>avg-cosine-distance</th>\n",
       "    </tr>\n",
       "  </thead>\n",
       "  <tbody>\n",
       "  </tbody>\n",
       "</table>\n",
       "</div>"
      ],
      "text/plain": [
       "Empty DataFrame\n",
       "Columns: [table_id, freq, avg-cosine-distance]\n",
       "Index: []"
      ]
     },
     "execution_count": 105,
     "metadata": {},
     "output_type": "execute_result"
    }
   ],
   "source": [
    "row_freq_avgcos_df[row_freq_avgcos_df['table_id'] == s_id]"
   ]
  },
  {
   "cell_type": "code",
   "execution_count": 108,
   "metadata": {},
   "outputs": [
    {
     "data": {
      "text/html": [
       "<div>\n",
       "<style scoped>\n",
       "    .dataframe tbody tr th:only-of-type {\n",
       "        vertical-align: middle;\n",
       "    }\n",
       "\n",
       "    .dataframe tbody tr th {\n",
       "        vertical-align: top;\n",
       "    }\n",
       "\n",
       "    .dataframe thead th {\n",
       "        text-align: right;\n",
       "    }\n",
       "</style>\n",
       "<table border=\"1\" class=\"dataframe\">\n",
       "  <thead>\n",
       "    <tr style=\"text-align: right;\">\n",
       "      <th></th>\n",
       "      <th></th>\n",
       "      <th>Name</th>\n",
       "      <th>Party</th>\n",
       "      <th>Riding</th>\n",
       "      <th>Notes</th>\n",
       "    </tr>\n",
       "  </thead>\n",
       "  <tbody>\n",
       "    <tr>\n",
       "      <th>0</th>\n",
       "      <td></td>\n",
       "      <td>Joe Dickson</td>\n",
       "      <td>Liberal</td>\n",
       "      <td>Ajax—Pickering</td>\n",
       "      <td></td>\n",
       "    </tr>\n",
       "    <tr>\n",
       "      <th>1</th>\n",
       "      <td></td>\n",
       "      <td>Michael Mantha</td>\n",
       "      <td>New Democrat</td>\n",
       "      <td>Algoma—Manitoulin</td>\n",
       "      <td></td>\n",
       "    </tr>\n",
       "    <tr>\n",
       "      <th>2</th>\n",
       "      <td></td>\n",
       "      <td>Ted McMeekin</td>\n",
       "      <td>Liberal</td>\n",
       "      <td>Ancaster—Dundas—Flamborough—Westdale</td>\n",
       "      <td></td>\n",
       "    </tr>\n",
       "    <tr>\n",
       "      <th>3</th>\n",
       "      <td></td>\n",
       "      <td>Rod Jackson</td>\n",
       "      <td>Progressive Conservative</td>\n",
       "      <td>Barrie</td>\n",
       "      <td></td>\n",
       "    </tr>\n",
       "    <tr>\n",
       "      <th>4</th>\n",
       "      <td></td>\n",
       "      <td>Michael Prue</td>\n",
       "      <td>New Democrat</td>\n",
       "      <td>Beaches—East York</td>\n",
       "      <td></td>\n",
       "    </tr>\n",
       "    <tr>\n",
       "      <th>...</th>\n",
       "      <td>...</td>\n",
       "      <td>...</td>\n",
       "      <td>...</td>\n",
       "      <td>...</td>\n",
       "      <td>...</td>\n",
       "    </tr>\n",
       "    <tr>\n",
       "      <th>102</th>\n",
       "      <td></td>\n",
       "      <td>Teresa Piruzza</td>\n",
       "      <td>Liberal</td>\n",
       "      <td>Windsor West</td>\n",
       "      <td></td>\n",
       "    </tr>\n",
       "    <tr>\n",
       "      <th>103</th>\n",
       "      <td></td>\n",
       "      <td>Monte Kwinter</td>\n",
       "      <td>Liberal</td>\n",
       "      <td>York Centre</td>\n",
       "      <td></td>\n",
       "    </tr>\n",
       "    <tr>\n",
       "      <th>104</th>\n",
       "      <td></td>\n",
       "      <td>Julia Munro</td>\n",
       "      <td>Progressive Conservative</td>\n",
       "      <td>York—Simcoe</td>\n",
       "      <td></td>\n",
       "    </tr>\n",
       "    <tr>\n",
       "      <th>105</th>\n",
       "      <td></td>\n",
       "      <td>Laura Albanese</td>\n",
       "      <td>Liberal</td>\n",
       "      <td>York South—Weston</td>\n",
       "      <td></td>\n",
       "    </tr>\n",
       "    <tr>\n",
       "      <th>106</th>\n",
       "      <td></td>\n",
       "      <td>Mario Sergio</td>\n",
       "      <td>Liberal</td>\n",
       "      <td>York West</td>\n",
       "      <td></td>\n",
       "    </tr>\n",
       "  </tbody>\n",
       "</table>\n",
       "<p>107 rows × 5 columns</p>\n",
       "</div>"
      ],
      "text/plain": [
       "                  Name                     Party  \\\n",
       "0          Joe Dickson                   Liberal   \n",
       "1       Michael Mantha              New Democrat   \n",
       "2         Ted McMeekin                   Liberal   \n",
       "3          Rod Jackson  Progressive Conservative   \n",
       "4         Michael Prue              New Democrat   \n",
       "..  ..             ...                       ...   \n",
       "102     Teresa Piruzza                   Liberal   \n",
       "103      Monte Kwinter                   Liberal   \n",
       "104        Julia Munro  Progressive Conservative   \n",
       "105     Laura Albanese                   Liberal   \n",
       "106       Mario Sergio                   Liberal   \n",
       "\n",
       "                                   Riding Notes  \n",
       "0                          Ajax—Pickering        \n",
       "1                       Algoma—Manitoulin        \n",
       "2    Ancaster—Dundas—Flamborough—Westdale        \n",
       "3                                  Barrie        \n",
       "4                       Beaches—East York        \n",
       "..                                    ...   ...  \n",
       "102                          Windsor West        \n",
       "103                           York Centre        \n",
       "104                           York—Simcoe        \n",
       "105                     York South—Weston        \n",
       "106                             York West        \n",
       "\n",
       "[107 rows x 5 columns]"
      ]
     },
     "execution_count": 108,
     "metadata": {},
     "output_type": "execute_result"
    }
   ],
   "source": [
    "idx = 41\n",
    "get_from_jsonl_table_df(row_freq_avgcos_df.loc[idx, 'table_id'])"
   ]
  },
  {
   "cell_type": "markdown",
   "metadata": {},
   "source": [
    "### Column querying"
   ]
  },
  {
   "cell_type": "code",
   "execution_count": 109,
   "metadata": {},
   "outputs": [],
   "source": [
    "col_res = column_collection.query(\n",
    "    query_embeddings=r_column_embeddings.tolist(),\n",
    "    n_results=20,\n",
    "    include=['metadatas', 'distances'],\n",
    "    where={'table_id': {'$ne': r_id}}\n",
    ")"
   ]
  },
  {
   "cell_type": "code",
   "execution_count": 110,
   "metadata": {},
   "outputs": [],
   "source": [
    "col_tid_freq_simlist = defaultdict(list)\n",
    "for i, res_metadatas in enumerate(col_res['metadatas']):\n",
    "    for j, single_rec in enumerate(res_metadatas):\n",
    "        col_tid_freq_simlist[single_rec['table_id']].append(col_res['distances'][i][j])"
   ]
  },
  {
   "cell_type": "code",
   "execution_count": 111,
   "metadata": {},
   "outputs": [
    {
     "data": {
      "text/html": [
       "<div>\n",
       "<style scoped>\n",
       "    .dataframe tbody tr th:only-of-type {\n",
       "        vertical-align: middle;\n",
       "    }\n",
       "\n",
       "    .dataframe tbody tr th {\n",
       "        vertical-align: top;\n",
       "    }\n",
       "\n",
       "    .dataframe thead th {\n",
       "        text-align: right;\n",
       "    }\n",
       "</style>\n",
       "<table border=\"1\" class=\"dataframe\">\n",
       "  <thead>\n",
       "    <tr style=\"text-align: right;\">\n",
       "      <th></th>\n",
       "      <th>table_id</th>\n",
       "      <th>freq</th>\n",
       "      <th>avg-cosine-distance</th>\n",
       "    </tr>\n",
       "  </thead>\n",
       "  <tbody>\n",
       "    <tr>\n",
       "      <th>25</th>\n",
       "      <td>29390830-8</td>\n",
       "      <td>2</td>\n",
       "      <td>0.114611</td>\n",
       "    </tr>\n",
       "    <tr>\n",
       "      <th>26</th>\n",
       "      <td>29390830-4</td>\n",
       "      <td>2</td>\n",
       "      <td>0.121321</td>\n",
       "    </tr>\n",
       "    <tr>\n",
       "      <th>0</th>\n",
       "      <td>3881235-1</td>\n",
       "      <td>2</td>\n",
       "      <td>0.193273</td>\n",
       "    </tr>\n",
       "    <tr>\n",
       "      <th>37</th>\n",
       "      <td>771758-1</td>\n",
       "      <td>4</td>\n",
       "      <td>0.356797</td>\n",
       "    </tr>\n",
       "    <tr>\n",
       "      <th>39</th>\n",
       "      <td>20461378-7</td>\n",
       "      <td>2</td>\n",
       "      <td>0.505278</td>\n",
       "    </tr>\n",
       "  </tbody>\n",
       "</table>\n",
       "</div>"
      ],
      "text/plain": [
       "      table_id  freq  avg-cosine-distance\n",
       "25  29390830-8     2             0.114611\n",
       "26  29390830-4     2             0.121321\n",
       "0    3881235-1     2             0.193273\n",
       "37    771758-1     4             0.356797\n",
       "39  20461378-7     2             0.505278"
      ]
     },
     "execution_count": 111,
     "metadata": {},
     "output_type": "execute_result"
    }
   ],
   "source": [
    "col_freq_avgcos_df = pd.DataFrame(\n",
    "    list(map(lambda t: (t[0], len(t[1]), sum(t[1])/len(t[1])), col_tid_freq_simlist.items())), columns=['table_id', 'freq', 'avg-cosine-distance']\n",
    "    )\n",
    "col_freq_avgcos_df.sort_values(by=['avg-cosine-distance', 'freq'], ascending=[True, False], inplace=True)\n",
    "\n",
    "# discarding tables which appears only once, since they aren't actually significative\n",
    "col_freq_avgcos_df[col_freq_avgcos_df['freq'] > 1].head()"
   ]
  },
  {
   "cell_type": "code",
   "execution_count": 112,
   "metadata": {},
   "outputs": [
    {
     "data": {
      "text/plain": [
       "'3881235-1'"
      ]
     },
     "execution_count": 112,
     "metadata": {},
     "output_type": "execute_result"
    }
   ],
   "source": [
    "s_id"
   ]
  },
  {
   "cell_type": "code",
   "execution_count": 113,
   "metadata": {},
   "outputs": [
    {
     "data": {
      "text/html": [
       "<div>\n",
       "<style scoped>\n",
       "    .dataframe tbody tr th:only-of-type {\n",
       "        vertical-align: middle;\n",
       "    }\n",
       "\n",
       "    .dataframe tbody tr th {\n",
       "        vertical-align: top;\n",
       "    }\n",
       "\n",
       "    .dataframe thead th {\n",
       "        text-align: right;\n",
       "    }\n",
       "</style>\n",
       "<table border=\"1\" class=\"dataframe\">\n",
       "  <thead>\n",
       "    <tr style=\"text-align: right;\">\n",
       "      <th></th>\n",
       "      <th>table_id</th>\n",
       "      <th>freq</th>\n",
       "      <th>avg-cosine-distance</th>\n",
       "    </tr>\n",
       "  </thead>\n",
       "  <tbody>\n",
       "    <tr>\n",
       "      <th>0</th>\n",
       "      <td>3881235-1</td>\n",
       "      <td>2</td>\n",
       "      <td>0.193273</td>\n",
       "    </tr>\n",
       "  </tbody>\n",
       "</table>\n",
       "</div>"
      ],
      "text/plain": [
       "    table_id  freq  avg-cosine-distance\n",
       "0  3881235-1     2             0.193273"
      ]
     },
     "execution_count": 113,
     "metadata": {},
     "output_type": "execute_result"
    }
   ],
   "source": [
    "s_id_idx = 0\n",
    "col_freq_avgcos_df[col_freq_avgcos_df['table_id'] == s_id]"
   ]
  },
  {
   "cell_type": "code",
   "execution_count": 114,
   "metadata": {},
   "outputs": [
    {
     "data": {
      "text/plain": [
       "[0.0005834698677062988, 0.38596200942993164]"
      ]
     },
     "execution_count": 114,
     "metadata": {},
     "output_type": "execute_result"
    }
   ],
   "source": [
    "col_tid_freq_simlist[s_id]"
   ]
  },
  {
   "cell_type": "markdown",
   "metadata": {},
   "source": [
    "Here we have a very similar column, near to 0, and a very dissimilar columns: should be considered the variance in some kind of metrics?"
   ]
  },
  {
   "cell_type": "markdown",
   "metadata": {},
   "source": [
    "### Conclusions"
   ]
  },
  {
   "cell_type": "code",
   "execution_count": 115,
   "metadata": {},
   "outputs": [
    {
     "data": {
      "text/html": [
       "<div><style>\n",
       ".dataframe > thead > tr,\n",
       ".dataframe > tbody > tr {\n",
       "  text-align: right;\n",
       "  white-space: pre-wrap;\n",
       "}\n",
       "</style>\n",
       "<small>shape: (1, 5)</small><table border=\"1\" class=\"dataframe\"><thead><tr><th>r_id</th><th>s_id</th><th>jsim</th><th>o_a</th><th>a%</th></tr><tr><td>str</td><td>str</td><td>f64</td><td>i64</td><td>f64</td></tr></thead><tbody><tr><td>&quot;269064-2&quot;</td><td>&quot;3881235-1&quot;</td><td>0.474112</td><td>640</td><td>0.302172</td></tr></tbody></table></div>"
      ],
      "text/plain": [
       "shape: (1, 5)\n",
       "┌──────────┬───────────┬──────────┬─────┬──────────┐\n",
       "│ r_id     ┆ s_id      ┆ jsim     ┆ o_a ┆ a%       │\n",
       "│ ---      ┆ ---       ┆ ---      ┆ --- ┆ ---      │\n",
       "│ str      ┆ str       ┆ f64      ┆ i64 ┆ f64      │\n",
       "╞══════════╪═══════════╪══════════╪═════╪══════════╡\n",
       "│ 269064-2 ┆ 3881235-1 ┆ 0.474112 ┆ 640 ┆ 0.302172 │\n",
       "└──────────┴───────────┴──────────┴─────┴──────────┘"
      ]
     },
     "execution_count": 115,
     "metadata": {},
     "output_type": "execute_result"
    }
   ],
   "source": [
    "sloth_result_rec"
   ]
  },
  {
   "cell_type": "markdown",
   "metadata": {},
   "source": [
    "In questo caso in effetti le due tabelle non vengono ben relazionate: tra i confronti di riga la s_table non compare nemmeno, e tra quelli di colonna non risulta esseere la migliore, appunto per via della presenza di una seconda colonna con similarità bassa"
   ]
  },
  {
   "cell_type": "markdown",
   "metadata": {},
   "source": []
  }
 ],
 "metadata": {
  "kernelspec": {
   "display_name": "chroma",
   "language": "python",
   "name": "python3"
  },
  "language_info": {
   "codemirror_mode": {
    "name": "ipython",
    "version": 3
   },
   "file_extension": ".py",
   "mimetype": "text/x-python",
   "name": "python",
   "nbconvert_exporter": "python",
   "pygments_lexer": "ipython3",
   "version": "3.10.12"
  }
 },
 "nbformat": 4,
 "nbformat_minor": 2
}
