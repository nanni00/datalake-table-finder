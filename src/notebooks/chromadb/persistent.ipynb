{
 "cells": [
  {
   "cell_type": "code",
   "execution_count": 2,
   "metadata": {},
   "outputs": [],
   "source": [
    "import pandas as pd\n",
    "import jsonlines\n",
    "from tqdm.notebook import tqdm\n",
    "from time import time\n",
    "import chromadb\n",
    "\n",
    "from code.fasttext.embedding_utils import TableEncoder"
   ]
  },
  {
   "cell_type": "code",
   "execution_count": 3,
   "metadata": {},
   "outputs": [],
   "source": [
    "chroma_client = chromadb.PersistentClient()\n",
    "\n",
    "tabenc = TableEncoder()"
   ]
  },
  {
   "cell_type": "code",
   "execution_count": 4,
   "metadata": {},
   "outputs": [],
   "source": [
    "def rebuild_table(table):\n",
    "    return pd.DataFrame(\n",
    "        data=[\n",
    "            [entry_data['text'] \n",
    "             for entry_data in entry]\n",
    "            for entry in table['tableData']\n",
    "        ],\n",
    "        columns=table['tableHeaders'][0]\n",
    "        )"
   ]
  },
  {
   "cell_type": "code",
   "execution_count": 5,
   "metadata": {},
   "outputs": [],
   "source": [
    "sloth_tested_pairs = pd.read_csv(\n",
    "    '/home/giovanni/unimore/TESI/src/data/train_set_turl_malaguti.csv',\n",
    "    nrows=1000\n",
    "    )"
   ]
  },
  {
   "cell_type": "code",
   "execution_count": 6,
   "metadata": {},
   "outputs": [
    {
     "data": {
      "text/plain": [
       "1905"
      ]
     },
     "execution_count": 6,
     "metadata": {},
     "output_type": "execute_result"
    }
   ],
   "source": [
    "ids = list(set(sloth_tested_pairs['r_id']).union(sloth_tested_pairs['s_id']))\n",
    "len(ids)"
   ]
  },
  {
   "cell_type": "code",
   "execution_count": 7,
   "metadata": {},
   "outputs": [],
   "source": [
    "wikitables = {}\n",
    "with jsonlines.open('/home/giovanni/unimore/TESI/src/data/small_train_tables.jsonl', 'r') as reader:\n",
    "    for obj in reader:\n",
    "        wikitables[obj['_id']] = obj"
   ]
  },
  {
   "cell_type": "code",
   "execution_count": 8,
   "metadata": {},
   "outputs": [
    {
     "name": "stdout",
     "output_type": "stream",
     "text": [
      "Collections created\n"
     ]
    }
   ],
   "source": [
    "try:\n",
    "    chroma_client.delete_collection(\"column-base\")\n",
    "    chroma_client.delete_collection(\"row-base\")\n",
    "    print('Collections deleted')\n",
    "except: pass\n",
    "finally:\n",
    "    collection_column_base = chroma_client.create_collection(name='column-base')\n",
    "    collection_row_base = chroma_client.create_collection(name='row-base')\n",
    "    print('Collections created')"
   ]
  },
  {
   "cell_type": "markdown",
   "metadata": {},
   "source": [
    "### Storing on persistent chroma client - batch  "
   ]
  },
  {
   "cell_type": "code",
   "execution_count": 10,
   "metadata": {},
   "outputs": [
    {
     "name": "stdout",
     "output_type": "stream",
     "text": [
      "100\n",
      "200\n",
      "300\n",
      "400\n",
      "500\n",
      "600\n",
      "700\n",
      "800\n",
      "900\n",
      "1000\n",
      "1100\n",
      "1200\n",
      "1300\n",
      "1400\n",
      "1500\n",
      "1600\n",
      "1700\n",
      "1800\n",
      "1900\n"
     ]
    }
   ],
   "source": [
    "batch_size = 100\n",
    "batch_column_ids, batch_row_ids = [], []\n",
    "batch_column_embeddings, batch_row_embeddings = [], []\n",
    "\n",
    "i = 0 \n",
    "\n",
    "#with jsonlines.open('/home/giovanni/unimore/TESI/src/data/small_train_tables.jsonl', 'r') as reader:\n",
    "#    for wikitable in reader:\n",
    "\n",
    "if 1:        \n",
    "    for table_id in tqdm(ids):\n",
    "        try:\n",
    "            wikitable = wikitables[table_id]\n",
    "        except KeyError:\n",
    "            print(f'Table ID {table_id} not found')\n",
    "            continue\n",
    "        \n",
    "        table_id = wikitable['_id']\n",
    "        i += 1\n",
    "\n",
    "        table = rebuild_table(wikitable)\n",
    "        row_embeddings, column_embeddings = tabenc.full_embedding(table, False, False)\n",
    "\n",
    "\n",
    "        batch_column_ids.extend([f\"{table_id}#{i}\" for i in range(column_embeddings.shape[0])])\n",
    "        batch_row_ids.extend([f\"{table_id}#{i}\" for i in range(row_embeddings.shape[0])])\n",
    "        \n",
    "        batch_column_embeddings.extend(column_embeddings.tolist())\n",
    "        batch_row_embeddings.extend(row_embeddings.tolist())\n",
    "\n",
    "        if i % batch_size == 0 and i != 0:\n",
    "            print(i)\n",
    "            collection_column_base.add(\n",
    "                ids=batch_column_ids,\n",
    "                embeddings=batch_column_embeddings\n",
    "            )\n",
    "\n",
    "            collection_row_base.add(\n",
    "                ids=batch_row_ids,\n",
    "                embeddings=batch_row_embeddings\n",
    "            )\n",
    "            \n",
    "            batch_column_ids, batch_row_ids = [], []\n",
    "            batch_column_embeddings, batch_row_embeddings = [], []"
   ]
  }
 ],
 "metadata": {
  "kernelspec": {
   "display_name": "chroma",
   "language": "python",
   "name": "python3"
  },
  "language_info": {
   "codemirror_mode": {
    "name": "ipython",
    "version": 3
   },
   "file_extension": ".py",
   "mimetype": "text/x-python",
   "name": "python",
   "nbconvert_exporter": "python",
   "pygments_lexer": "ipython3",
   "version": "3.10.12"
  }
 },
 "nbformat": 4,
 "nbformat_minor": 2
}
