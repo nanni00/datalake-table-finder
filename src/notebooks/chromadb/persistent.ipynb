{
 "cells": [
  {
   "cell_type": "code",
   "execution_count": 9,
   "metadata": {},
   "outputs": [],
   "source": [
    "import pandas as pd\n",
    "import jsonlines\n",
    "from tqdm.notebook import tqdm\n",
    "from time import time\n",
    "import chromadb\n",
    "\n",
    "from code.fasttext.embedding_utils import TableEncoder\n",
    "from code.utils.settings import DefaultPath\n",
    "from code.utils.utils import rebuild_table"
   ]
  },
  {
   "cell_type": "code",
   "execution_count": 2,
   "metadata": {},
   "outputs": [],
   "source": [
    "tabenc = TableEncoder()"
   ]
  },
  {
   "cell_type": "code",
   "execution_count": 4,
   "metadata": {},
   "outputs": [],
   "source": [
    "sloth_tested_pairs = pd.read_csv(\n",
    "    DefaultPath.data_path.wikitables + 'train_set_turl_malaguti.csv',\n",
    "    nrows=10000\n",
    "    )"
   ]
  },
  {
   "cell_type": "code",
   "execution_count": 5,
   "metadata": {},
   "outputs": [
    {
     "data": {
      "text/plain": [
       "14209"
      ]
     },
     "execution_count": 5,
     "metadata": {},
     "output_type": "execute_result"
    }
   ],
   "source": [
    "ids = list(set(sloth_tested_pairs['r_id']).union(sloth_tested_pairs['s_id']))\n",
    "len(ids)"
   ]
  },
  {
   "cell_type": "code",
   "execution_count": 6,
   "metadata": {},
   "outputs": [
    {
     "name": "stdout",
     "output_type": "stream",
     "text": [
      "Collections created\n"
     ]
    }
   ],
   "source": [
    "chroma_client = chromadb.PersistentClient(DefaultPath.db_path.chroma + 'v0')\n",
    "\n",
    "try:\n",
    "    chroma_client.delete_collection(\"column-base\")\n",
    "    chroma_client.delete_collection(\"row-base\")\n",
    "    print('Collections deleted')\n",
    "except: pass\n",
    "finally:\n",
    "    collection_column_base = chroma_client.create_collection(name='column-base')\n",
    "    collection_row_base = chroma_client.create_collection(name='row-base')\n",
    "    print('Collections created')"
   ]
  },
  {
   "cell_type": "markdown",
   "metadata": {},
   "source": [
    "### Storing on persistent chroma client - batch  "
   ]
  },
  {
   "cell_type": "code",
   "execution_count": 8,
   "metadata": {},
   "outputs": [
    {
     "data": {
      "application/vnd.jupyter.widget-view+json": {
       "model_id": "f12fae7ed831402890caab0ea0325d59",
       "version_major": 2,
       "version_minor": 0
      },
      "text/plain": [
       "  0%|          | 0/1904 [00:00<?, ?it/s]"
      ]
     },
     "metadata": {},
     "output_type": "display_data"
    }
   ],
   "source": [
    "batch_size = 500\n",
    "batch_column_ids, batch_row_ids = [], []\n",
    "batch_column_embeddings, batch_row_embeddings = [], []\n",
    "\n",
    "wikitables = {}\n",
    "with jsonlines.open(DefaultPath.data_path.wikitables + 'small_train_tables.jsonl', 'r') as reader:\n",
    "    for obj in reader:\n",
    "        wikitables[obj['_id']] = obj\n",
    "\n",
    "i = 0 \n",
    "\n",
    "for table_id in tqdm(wikitables.keys()):\n",
    "    try:\n",
    "        wikitable = wikitables[table_id]\n",
    "    except KeyError:\n",
    "        print(f'Table ID {table_id} not found')\n",
    "        continue\n",
    "    \n",
    "    table_id = wikitable['_id']\n",
    "    i += 1\n",
    "\n",
    "    table = rebuild_table(wikitable)\n",
    "    row_embeddings, column_embeddings = tabenc.full_embedding(table, False, False)\n",
    "\n",
    "    # batch_column_ids.extend(list(range(column_embeddings.shape[0])))\n",
    "    # batch_row_ids.extend(list(range(row_embeddings.shape[0]))) \n",
    "\n",
    "    # ID - version 1\n",
    "    batch_column_ids.extend([f'{table_id}#{idx}' for idx in range(column_embeddings.shape[0])])\n",
    "    batch_row_ids.extend([f'{table_id}#{idx}' for idx in range(row_embeddings.shape[0])]) \n",
    "\n",
    "    batch_column_embeddings.extend(column_embeddings.tolist())\n",
    "    batch_row_embeddings.extend(row_embeddings.tolist())\n",
    "\n",
    "    if i % batch_size == 0 and i != 0:\n",
    "        collection_column_base.add(\n",
    "            ids=batch_column_ids,\n",
    "            #metadatas=[{'table_id': table_id}] * column_embeddings.shape[0],\n",
    "            embeddings=batch_column_embeddings\n",
    "        )\n",
    "\n",
    "        collection_row_base.add(\n",
    "            ids=batch_row_ids,\n",
    "            #metadatas=[{'table_id': table_id}] * row_embeddings.shape[0],\n",
    "            embeddings=batch_row_embeddings\n",
    "        )\n",
    "        \n",
    "        batch_column_ids, batch_row_ids = [], []\n",
    "        batch_column_embeddings, batch_row_embeddings = [], []"
   ]
  },
  {
   "cell_type": "markdown",
   "metadata": {},
   "source": [
    "### The same, but working with jsonl reader directly"
   ]
  },
  {
   "cell_type": "code",
   "execution_count": 8,
   "metadata": {},
   "outputs": [
    {
     "name": "stdout",
     "output_type": "stream",
     "text": [
      "Loaded in db 14000...\r"
     ]
    }
   ],
   "source": [
    "batch_size = 500\n",
    "batch_column_ids, batch_row_ids = [], []\n",
    "batch_column_embeddings, batch_row_embeddings = [], []\n",
    "\n",
    "i = 0 \n",
    "\n",
    "with jsonlines.open(DefaultPath.data_path.wikitables + 'medium_train_tables.jsonl', 'r') as reader:\n",
    "    for wikitable in reader:\n",
    "        \n",
    "        table_id = wikitable['_id']\n",
    "        i += 1\n",
    "\n",
    "        table = rebuild_table(wikitable)\n",
    "        row_embeddings, column_embeddings = tabenc.full_embedding(table, False, False)\n",
    "\n",
    "        batch_column_ids.extend([f\"{table_id}#{i}\" for i in range(column_embeddings.shape[0])])\n",
    "        batch_row_ids.extend([f\"{table_id}#{i}\" for i in range(row_embeddings.shape[0])])\n",
    "        \n",
    "        batch_column_embeddings.extend(column_embeddings.tolist())\n",
    "        batch_row_embeddings.extend(row_embeddings.tolist())\n",
    "\n",
    "        if (i % batch_size == 0 and i != 0):\n",
    "            collection_column_base.add(\n",
    "                ids=batch_column_ids,\n",
    "                embeddings=batch_column_embeddings\n",
    "            )\n",
    "\n",
    "            collection_row_base.add(\n",
    "                ids=batch_row_ids,\n",
    "                embeddings=batch_row_embeddings\n",
    "            )\n",
    "            \n",
    "            batch_column_ids, batch_row_ids = [], []\n",
    "            batch_column_embeddings, batch_row_embeddings = [], []\n",
    "            print(f\"Loaded in db {i}...\", end='\\r')\n",
    "    \n",
    "    if batch_column_ids:\n",
    "        # if case the batch isn't empty but it hasn't been loaded previously\n",
    "        collection_column_base.add(\n",
    "            ids=batch_column_ids,\n",
    "            embeddings=batch_column_embeddings\n",
    "        )\n",
    "\n",
    "        collection_row_base.add(\n",
    "            ids=batch_row_ids,\n",
    "            embeddings=batch_row_embeddings\n",
    "        )\n",
    "        \n",
    "        batch_column_ids, batch_row_ids = [], []\n",
    "        batch_column_embeddings, batch_row_embeddings = [], []\n",
    "        print(f\"Loaded in db {i}...\", end='\\r')"
   ]
  }
 ],
 "metadata": {
  "kernelspec": {
   "display_name": "chroma",
   "language": "python",
   "name": "python3"
  },
  "language_info": {
   "codemirror_mode": {
    "name": "ipython",
    "version": 3
   },
   "file_extension": ".py",
   "mimetype": "text/x-python",
   "name": "python",
   "nbconvert_exporter": "python",
   "pygments_lexer": "ipython3",
   "version": "3.10.12"
  }
 },
 "nbformat": 4,
 "nbformat_minor": 2
}
