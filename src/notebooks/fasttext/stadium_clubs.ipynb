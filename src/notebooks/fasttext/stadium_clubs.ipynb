{
 "cells": [
  {
   "cell_type": "code",
   "execution_count": 1,
   "metadata": {},
   "outputs": [],
   "source": [
    "import numpy as np\n",
    "import pandas as pd\n",
    "import matplotlib.pyplot as plt\n",
    "\n",
    "from code.fasttext.embedding_utils import TableEncoder, compare_embeddings_of, show_most_similar_rows"
   ]
  },
  {
   "cell_type": "code",
   "execution_count": 2,
   "metadata": {},
   "outputs": [],
   "source": [
    "stadium_df = pd.read_csv(\n",
    "    '/home/giovanni/unimore/TESI/src/data/uk_football/List_of_football_stadiums_in_England_1.csv'\n",
    ")\n",
    "pl1_df = pd.read_csv(\n",
    "    '/home/giovanni/unimore/TESI/src/data/uk_football/Premier_League_1.csv'\n",
    ")"
   ]
  },
  {
   "cell_type": "code",
   "execution_count": 3,
   "metadata": {},
   "outputs": [],
   "source": [
    "stadium_df.dropna(axis='columns', how='all', inplace=True)\n",
    "pl1_df.dropna(axis='columns', how='all', inplace=True)"
   ]
  },
  {
   "cell_type": "code",
   "execution_count": 4,
   "metadata": {},
   "outputs": [],
   "source": [
    "tabenc = TableEncoder()"
   ]
  },
  {
   "cell_type": "markdown",
   "metadata": {},
   "source": [
    "## Comparing Columns"
   ]
  },
  {
   "cell_type": "code",
   "execution_count": 5,
   "metadata": {},
   "outputs": [],
   "source": [
    "def round_to(n, precision):\n",
    "    if n >= 0 or n < 0:\n",
    "        correction = 0.5 if n >= 0 else -0.5\n",
    "        return int(n / precision + correction) * precision\n",
    "    else:\n",
    "        return n\n",
    "\n",
    "def round_to_05(n):\n",
    "    return float(format(round_to(n, 0.05), \".2f\"))"
   ]
  },
  {
   "cell_type": "code",
   "execution_count": 6,
   "metadata": {},
   "outputs": [],
   "source": [
    "mc = pd.merge(\n",
    "        pd.merge(\n",
    "        compare_embeddings_of(stadium_df, pl1_df, tabenc, 'columns'),\n",
    "        compare_embeddings_of(stadium_df, pl1_df, tabenc, 'columns', add_label=True),\n",
    "        on=['C1', 'C2'],\n",
    "        suffixes=['', '-wlabel']\n",
    "    ),\n",
    "    compare_embeddings_of(stadium_df, pl1_df, tabenc, 'columns', keepnumbers=False),\n",
    "    on=['C1', 'C2'],\n",
    "    suffixes=['', '-nonum']\n",
    ")\n",
    "mc['delta1'] = (mc['cosine similarity'] - mc['cosine similarity-wlabel']).apply(lambda x: format(x, \".3f\"))\n",
    "mc['delta2'] = (mc['cosine similarity'] - mc['cosine similarity-nonum']).apply(lambda x: format(x, \".3f\"))"
   ]
  },
  {
   "cell_type": "code",
   "execution_count": 7,
   "metadata": {},
   "outputs": [
    {
     "data": {
      "text/html": [
       "<div>\n",
       "<style scoped>\n",
       "    .dataframe tbody tr th:only-of-type {\n",
       "        vertical-align: middle;\n",
       "    }\n",
       "\n",
       "    .dataframe tbody tr th {\n",
       "        vertical-align: top;\n",
       "    }\n",
       "\n",
       "    .dataframe thead th {\n",
       "        text-align: right;\n",
       "    }\n",
       "</style>\n",
       "<table border=\"1\" class=\"dataframe\">\n",
       "  <thead>\n",
       "    <tr style=\"text-align: right;\">\n",
       "      <th></th>\n",
       "      <th>C1</th>\n",
       "      <th>C2</th>\n",
       "      <th>cosine similarity</th>\n",
       "      <th>cosine similarity-wlabel</th>\n",
       "      <th>cosine similarity-nonum</th>\n",
       "      <th>delta1</th>\n",
       "      <th>delta2</th>\n",
       "    </tr>\n",
       "  </thead>\n",
       "  <tbody>\n",
       "    <tr>\n",
       "      <th>0</th>\n",
       "      <td>Stadium</td>\n",
       "      <td>Stadium</td>\n",
       "      <td>0.974484</td>\n",
       "      <td>0.972607</td>\n",
       "      <td>0.973984</td>\n",
       "      <td>0.002</td>\n",
       "      <td>0.000</td>\n",
       "    </tr>\n",
       "    <tr>\n",
       "      <th>1</th>\n",
       "      <td>Capacity</td>\n",
       "      <td>Capacity</td>\n",
       "      <td>0.970957</td>\n",
       "      <td>0.970664</td>\n",
       "      <td>&lt;NA&gt;</td>\n",
       "      <td>0.000</td>\n",
       "      <td>nan</td>\n",
       "    </tr>\n",
       "    <tr>\n",
       "      <th>2</th>\n",
       "      <td>Town / City</td>\n",
       "      <td>Location</td>\n",
       "      <td>0.941814</td>\n",
       "      <td>0.940012</td>\n",
       "      <td>0.941814</td>\n",
       "      <td>0.002</td>\n",
       "      <td>0.000</td>\n",
       "    </tr>\n",
       "    <tr>\n",
       "      <th>3</th>\n",
       "      <td>Team</td>\n",
       "      <td>Team</td>\n",
       "      <td>0.911942</td>\n",
       "      <td>0.910833</td>\n",
       "      <td>0.911942</td>\n",
       "      <td>0.001</td>\n",
       "      <td>0.000</td>\n",
       "    </tr>\n",
       "    <tr>\n",
       "      <th>4</th>\n",
       "      <td>Rank\n",
       "(England only)</td>\n",
       "      <td>Capacity</td>\n",
       "      <td>0.87017</td>\n",
       "      <td>0.870064</td>\n",
       "      <td>&lt;NA&gt;</td>\n",
       "      <td>0.000</td>\n",
       "      <td>nan</td>\n",
       "    </tr>\n",
       "    <tr>\n",
       "      <th>19</th>\n",
       "      <td>Stadium</td>\n",
       "      <td>Capacity</td>\n",
       "      <td>0.10255</td>\n",
       "      <td>0.10519</td>\n",
       "      <td>&lt;NA&gt;</td>\n",
       "      <td>-0.003</td>\n",
       "      <td>nan</td>\n",
       "    </tr>\n",
       "    <tr>\n",
       "      <th>20</th>\n",
       "      <td>Rank\n",
       "(England only)</td>\n",
       "      <td>Stadium</td>\n",
       "      <td>0.094739</td>\n",
       "      <td>0.090565</td>\n",
       "      <td>0.280367</td>\n",
       "      <td>0.004</td>\n",
       "      <td>-0.186</td>\n",
       "    </tr>\n",
       "    <tr>\n",
       "      <th>21</th>\n",
       "      <td>Capacity</td>\n",
       "      <td>Stadium</td>\n",
       "      <td>0.086786</td>\n",
       "      <td>0.081897</td>\n",
       "      <td>&lt;NA&gt;</td>\n",
       "      <td>0.005</td>\n",
       "      <td>nan</td>\n",
       "    </tr>\n",
       "    <tr>\n",
       "      <th>22</th>\n",
       "      <td>Capacity</td>\n",
       "      <td>Team</td>\n",
       "      <td>0.072298</td>\n",
       "      <td>0.079158</td>\n",
       "      <td>&lt;NA&gt;</td>\n",
       "      <td>-0.007</td>\n",
       "      <td>nan</td>\n",
       "    </tr>\n",
       "    <tr>\n",
       "      <th>23</th>\n",
       "      <td>Rank\n",
       "(England only)</td>\n",
       "      <td>Team</td>\n",
       "      <td>0.048012</td>\n",
       "      <td>0.058208</td>\n",
       "      <td>0.504894</td>\n",
       "      <td>-0.010</td>\n",
       "      <td>-0.457</td>\n",
       "    </tr>\n",
       "  </tbody>\n",
       "</table>\n",
       "</div>"
      ],
      "text/plain": [
       "                     C1        C2  cosine similarity  \\\n",
       "0               Stadium   Stadium           0.974484   \n",
       "1              Capacity  Capacity           0.970957   \n",
       "2           Town / City  Location           0.941814   \n",
       "3                  Team      Team           0.911942   \n",
       "4   Rank\n",
       "(England only)  Capacity            0.87017   \n",
       "19              Stadium  Capacity            0.10255   \n",
       "20  Rank\n",
       "(England only)   Stadium           0.094739   \n",
       "21             Capacity   Stadium           0.086786   \n",
       "22             Capacity      Team           0.072298   \n",
       "23  Rank\n",
       "(England only)      Team           0.048012   \n",
       "\n",
       "    cosine similarity-wlabel  cosine similarity-nonum  delta1  delta2  \n",
       "0                   0.972607                 0.973984   0.002   0.000  \n",
       "1                   0.970664                     <NA>   0.000     nan  \n",
       "2                   0.940012                 0.941814   0.002   0.000  \n",
       "3                   0.910833                 0.911942   0.001   0.000  \n",
       "4                   0.870064                     <NA>   0.000     nan  \n",
       "19                   0.10519                     <NA>  -0.003     nan  \n",
       "20                  0.090565                 0.280367   0.004  -0.186  \n",
       "21                  0.081897                     <NA>   0.005     nan  \n",
       "22                  0.079158                     <NA>  -0.007     nan  \n",
       "23                  0.058208                 0.504894  -0.010  -0.457  "
      ]
     },
     "execution_count": 7,
     "metadata": {},
     "output_type": "execute_result"
    }
   ],
   "source": [
    "pd.concat([mc.head(), mc.tail()])"
   ]
  },
  {
   "cell_type": "code",
   "execution_count": 8,
   "metadata": {},
   "outputs": [
    {
     "data": {
      "image/png": "[encoded data removed]",
      "text/plain": [
       "<Figure size 2000x500 with 1 Axes>"
      ]
     },
     "metadata": {},
     "output_type": "display_data"
    }
   ],
   "source": [
    "plt.figure(figsize=(20, 5))\n",
    "prec = 0.1\n",
    "bins = np.arange(0, 1.01, prec)\n",
    "\n",
    "plt.hist(\n",
    "    [\n",
    "        mc['cosine similarity'].apply(round_to, args=(prec,)),\n",
    "        mc['cosine similarity-wlabel'].apply(round_to, args=(prec,)),\n",
    "        mc['cosine similarity-nonum'].apply(round_to, args=(prec,))\n",
    "    ],\n",
    "    bins=bins,\n",
    "    label=['base', 'wlabel', 'nonum'],\n",
    "    align='left'\n",
    ")\n",
    "plt.xticks(bins, rotation=45)\n",
    "plt.legend()\n",
    "plt.title('Stadium VS Clubs - columns')\n",
    "plt.show()"
   ]
  },
  {
   "cell_type": "markdown",
   "metadata": {},
   "source": [
    "Some columns disappear from the graph when we exclude numbers in tokenization since they cannot be embedded anymore.\n",
    "\n",
    "However, in this case it seems that the situation is keep stable among the three variants, except for a general reduction when we exclude numbers."
   ]
  },
  {
   "cell_type": "markdown",
   "metadata": {},
   "source": [
    "## Comparing Rows"
   ]
  },
  {
   "cell_type": "code",
   "execution_count": 9,
   "metadata": {},
   "outputs": [],
   "source": [
    "mr = pd.merge(\n",
    "        pd.merge(\n",
    "        compare_embeddings_of(stadium_df, pl1_df, tabenc, 'rows'),\n",
    "        compare_embeddings_of(stadium_df, pl1_df, tabenc, 'rows', add_label=True),\n",
    "        on=['R1', 'R2'],\n",
    "        suffixes=['', '-wlabel']\n",
    "    ),\n",
    "    compare_embeddings_of(stadium_df, pl1_df, tabenc, 'rows', keepnumbers=False),\n",
    "    on=['R1', 'R2'],\n",
    "    suffixes=['', '-nonum']\n",
    ")\n",
    "mr['delta1'] = (mr['cosine similarity'] - mr['cosine similarity-wlabel']).apply(lambda x: format(x, \".3f\"))\n",
    "mr['delta2'] = (mr['cosine similarity'] - mr['cosine similarity-nonum']).apply(lambda x: format(x, \".3f\"))"
   ]
  },
  {
   "cell_type": "code",
   "execution_count": null,
   "metadata": {},
   "outputs": [],
   "source": [
    "mr"
   ]
  },
  {
   "cell_type": "code",
   "execution_count": 11,
   "metadata": {},
   "outputs": [
    {
     "data": {
      "image/png": "[encoded data removed]",
      "text/plain": [
       "<Figure size 2000x500 with 1 Axes>"
      ]
     },
     "metadata": {},
     "output_type": "display_data"
    }
   ],
   "source": [
    "plt.figure(figsize=(20, 5))\n",
    "prec = 0.05\n",
    "plt.hist(mr['cosine similarity'].apply(         round_to, args=(prec,)).values, label='base',   bins=10, alpha=.7)\n",
    "plt.hist(mr['cosine similarity-wlabel'].apply(  round_to, args=(prec,)).values, label='wlabel', bins=10, alpha=.7)\n",
    "plt.hist(mr['cosine similarity-nonum'].apply(   round_to, args=(prec,)).values, label='nonum',  bins=10, alpha=.7)\n",
    "\n",
    "plt.xticks(rotation=45)\n",
    "plt.title('Stadium VS Clubs - rows')\n",
    "plt.legend()\n",
    "plt.show()"
   ]
  },
  {
   "cell_type": "markdown",
   "metadata": {},
   "source": [
    "Here we can see that dropping numbers from embeddings creation maybe reduces \"confusion\". Could this be helpful in scoring tables similarity or similar tasks?"
   ]
  },
  {
   "cell_type": "code",
   "execution_count": 21,
   "metadata": {},
   "outputs": [
    {
     "name": "stdout",
     "output_type": "stream",
     "text": [
      "#0: 0.9344521592517391\n",
      "\t57: 50.0 Brentford Community Stadium Brentford, London 17,250 Brentford Premier League\n",
      "\t3: Brentford London (Brentford) Gtech Community Stadium 17,250\n",
      "\n",
      "#1: 0.9253134559337446\n",
      "\t6: 7.0 City of Manchester Stadium Bradford, Manchester 53,400 Manchester City Premier League\n",
      "\t12: Manchester City Manchester (Bradford) Etihad Stadium 53,400\n",
      "\n",
      "#2: 0.9240801612670546\n",
      "\t23: 22.0 Molineux Wolverhampton 31,750 Wolverhampton Wanderers Premier League\n",
      "\t19: Wolverhampton Wanderers Wolverhampton Molineux Stadium 31,750\n",
      "\n",
      "#3: 0.9221801295183742\n",
      "\t58: 50.0 Brentford Community Stadium Brentford, London 17,250 London Irish (rugby) Premiership Rugby\n",
      "\t3: Brentford London (Brentford) Gtech Community Stadium 17,250\n",
      "\n",
      "#4: 0.9151764280204044\n",
      "\t7: 8.0 St James' Park Newcastle upon Tyne 52,257 Newcastle United Premier League\n",
      "\t14: Newcastle United Newcastle upon Tyne St James' Park 52,257\n",
      "\n",
      "#5: 0.9089268908373154\n",
      "\t3: 4.0 London Stadium Stratford, London 62,500 West Ham United Premier League\n",
      "\t18: West Ham United London (Stratford) London Stadium 62,500\n",
      "\n",
      "#6: 0.907783091064822\n",
      "\t25: 24.0 City Ground West Bridgford 30,404 Nottingham Forest Premier League\n",
      "\t15: Nottingham Forest West Bridgford City Ground 30,404\n",
      "\n",
      "#7: 0.9013949065472006\n",
      "\t20: 20.0 Bramall Lane Sheffield 32,050 Sheffield United Premier League\n",
      "\t16: Sheffield United Sheffield Bramall Lane 32,050\n",
      "\n",
      "#8: 0.8988956916839228\n",
      "\t22: 21.0 Falmer Stadium Falmer, Brighton & Hove 31,876 Brighton & Hove Albion Premier League\n",
      "\t4: Brighton & Hove Albion Brighton American Express Stadium 31,876\n",
      "\n",
      "#9: 0.8985906576604364\n",
      "\t49: 43.0 Vicarage Road Watford 22,200 Watford EFL Championship\n",
      "\t3: Brentford London (Brentford) Gtech Community Stadium 17,250\n",
      "\n"
     ]
    }
   ],
   "source": [
    "show_most_similar_rows(mr[['R1', 'R2', 'cosine similarity']], stadium_df, pl1_df, 10)"
   ]
  },
  {
   "cell_type": "code",
   "execution_count": 23,
   "metadata": {},
   "outputs": [
    {
     "name": "stdout",
     "output_type": "stream",
     "text": [
      "#0: 0.95757831064105\n",
      "\t3: 4.0 London Stadium Stratford, London 62,500 West Ham United Premier League\n",
      "\t18: West Ham United London (Stratford) London Stadium 62,500\n",
      "\n",
      "#1: 0.9538456969603144\n",
      "\t7: 8.0 St James' Park Newcastle upon Tyne 52,257 Newcastle United Premier League\n",
      "\t14: Newcastle United Newcastle upon Tyne St James' Park 52,257\n",
      "\n",
      "#2: 0.9422470237023344\n",
      "\t25: 24.0 City Ground West Bridgford 30,404 Nottingham Forest Premier League\n",
      "\t15: Nottingham Forest West Bridgford City Ground 30,404\n",
      "\n",
      "#3: 0.9377619309247218\n",
      "\t50: 44.0 Turf Moor Burnley 21,744 Burnley Premier League\n",
      "\t5: Burnley Burnley Turf Moor 21,944\n",
      "\n",
      "#4: 0.9363581561292945\n",
      "\t38: 35.0 Selhurst Park Selhurst, London 25,486 Crystal Palace Premier League\n",
      "\t7: Crystal Palace London (Selhurst) Selhurst Park 25,486\n",
      "\n",
      "#5: 0.934874321987362\n",
      "\t1: 2.0 Old Trafford Old Trafford, Greater Manchester 74,031 Manchester United Premier League\n",
      "\t13: Manchester United Manchester (Old Trafford) Old Trafford 74,031\n",
      "\n",
      "#6: 0.9315335427636698\n",
      "\t9: 10.0 Villa Park Aston, Birmingham 42,530 Aston Villa Premier League\n",
      "\t1: Aston Villa Birmingham Villa Park 42,657\n",
      "\n",
      "#7: 0.9222520902295626\n",
      "\t84: 72.0 Kenilworth Road Luton 10,265 Luton Town Premier League\n",
      "\t11: Luton Town Luton Kenilworth Road 11,500\n",
      "\n",
      "#8: 0.9207955350293444\n",
      "\t48: 42.0 Craven Cottage Fulham, London 22,384 Fulham Premier League\n",
      "\t9: Fulham London (Fulham) Craven Cottage 24,500\n",
      "\n",
      "#9: 0.9199672478185337\n",
      "\t5: 6.0 Emirates Stadium Holloway, London 60,704 Arsenal Premier League\n",
      "\t0: Arsenal London (Holloway) Emirates Stadium 60,704\n",
      "\n"
     ]
    }
   ],
   "source": [
    "show_most_similar_rows(mr[['R1', 'R2', 'cosine similarity-nonum']], stadium_df, pl1_df, 10, False)"
   ]
  }
 ],
 "metadata": {
  "kernelspec": {
   "display_name": "chroma",
   "language": "python",
   "name": "python3"
  },
  "language_info": {
   "codemirror_mode": {
    "name": "ipython",
    "version": 3
   },
   "file_extension": ".py",
   "mimetype": "text/x-python",
   "name": "python",
   "nbconvert_exporter": "python",
   "pygments_lexer": "ipython3",
   "version": "3.10.12"
  }
 },
 "nbformat": 4,
 "nbformat_minor": 2
}
