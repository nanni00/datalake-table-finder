{
 "cells": [
  {
   "cell_type": "code",
   "execution_count": 1,
   "metadata": {},
   "outputs": [],
   "source": [
    "import pandas as pd\n",
    "import matplotlib.pyplot as plt\n",
    "\n",
    "from code.fasttext.embedding_utils import TableEncoder, compare_embeddings_of, show_most_similar_rows"
   ]
  },
  {
   "cell_type": "code",
   "execution_count": 2,
   "metadata": {},
   "outputs": [],
   "source": [
    "stadium_df = pd.read_csv(\n",
    "    '/home/giovanni/unimore/TESI/src/data/uk_football/List_of_football_stadiums_in_England_1.csv'\n",
    ")\n",
    "pl1_df = pd.read_csv(\n",
    "    '/home/giovanni/unimore/TESI/src/data/uk_football/Premier_League_1.csv'\n",
    ")"
   ]
  },
  {
   "cell_type": "code",
   "execution_count": 3,
   "metadata": {},
   "outputs": [],
   "source": [
    "stadium_df.dropna(axis='columns', how='all', inplace=True)\n",
    "pl1_df.dropna(axis='columns', how='all', inplace=True)"
   ]
  },
  {
   "cell_type": "code",
   "execution_count": 5,
   "metadata": {},
   "outputs": [],
   "source": [
    "tabenc = TableEncoder()"
   ]
  },
  {
   "cell_type": "markdown",
   "metadata": {},
   "source": [
    "## Comparing Columns"
   ]
  },
  {
   "cell_type": "code",
   "execution_count": 6,
   "metadata": {},
   "outputs": [],
   "source": [
    "m = pd.merge(\n",
    "        pd.merge(\n",
    "        compare_embeddings_of(stadium_df, pl1_df, tabenc, 'columns'),\n",
    "        compare_embeddings_of(stadium_df, pl1_df, tabenc, 'columns', add_label=True),\n",
    "        on=['C1', 'C2'],\n",
    "        suffixes=['', '_wlabel']\n",
    "    ),\n",
    "    compare_embeddings_of(stadium_df, pl1_df, tabenc, 'columns', keepnumbers=False),\n",
    "    on=['C1', 'C2'],\n",
    "    suffixes=['', '_nonum']\n",
    ")\n",
    "m['delta1'] = (m['cosine similarity'] - m['cosine similarity_wlabel']).apply(lambda x: format(x, \".3f\"))\n",
    "m['delta2'] = (m['cosine similarity'] - m['cosine similarity_nonum']).apply(lambda x: format(x, \".3f\"))"
   ]
  },
  {
   "cell_type": "code",
   "execution_count": 9,
   "metadata": {},
   "outputs": [
    {
     "data": {
      "text/html": [
       "<div>\n",
       "<style scoped>\n",
       "    .dataframe tbody tr th:only-of-type {\n",
       "        vertical-align: middle;\n",
       "    }\n",
       "\n",
       "    .dataframe tbody tr th {\n",
       "        vertical-align: top;\n",
       "    }\n",
       "\n",
       "    .dataframe thead th {\n",
       "        text-align: right;\n",
       "    }\n",
       "</style>\n",
       "<table border=\"1\" class=\"dataframe\">\n",
       "  <thead>\n",
       "    <tr style=\"text-align: right;\">\n",
       "      <th></th>\n",
       "      <th>C1</th>\n",
       "      <th>C2</th>\n",
       "      <th>cosine similarity</th>\n",
       "      <th>cosine similarity_wlabel</th>\n",
       "      <th>cosine similarity_nonum</th>\n",
       "      <th>delta1</th>\n",
       "      <th>delta2</th>\n",
       "    </tr>\n",
       "  </thead>\n",
       "  <tbody>\n",
       "    <tr>\n",
       "      <th>0</th>\n",
       "      <td>Stadium</td>\n",
       "      <td>Stadium</td>\n",
       "      <td>0.973824</td>\n",
       "      <td>0.97146</td>\n",
       "      <td>0.973984</td>\n",
       "      <td>0.002</td>\n",
       "      <td>-0.000</td>\n",
       "    </tr>\n",
       "    <tr>\n",
       "      <th>1</th>\n",
       "      <td>Capacity</td>\n",
       "      <td>Capacity</td>\n",
       "      <td>0.970957</td>\n",
       "      <td>0.970664</td>\n",
       "      <td>&lt;NA&gt;</td>\n",
       "      <td>0.000</td>\n",
       "      <td>nan</td>\n",
       "    </tr>\n",
       "    <tr>\n",
       "      <th>2</th>\n",
       "      <td>Town / City</td>\n",
       "      <td>Location</td>\n",
       "      <td>0.941814</td>\n",
       "      <td>0.940012</td>\n",
       "      <td>0.941814</td>\n",
       "      <td>0.002</td>\n",
       "      <td>0.000</td>\n",
       "    </tr>\n",
       "    <tr>\n",
       "      <th>3</th>\n",
       "      <td>Team</td>\n",
       "      <td>Team</td>\n",
       "      <td>0.911942</td>\n",
       "      <td>0.910833</td>\n",
       "      <td>0.911942</td>\n",
       "      <td>0.001</td>\n",
       "      <td>0.000</td>\n",
       "    </tr>\n",
       "    <tr>\n",
       "      <th>4</th>\n",
       "      <td>Rank\n",
       "(England only)</td>\n",
       "      <td>Capacity</td>\n",
       "      <td>0.850256</td>\n",
       "      <td>0.849961</td>\n",
       "      <td>&lt;NA&gt;</td>\n",
       "      <td>0.000</td>\n",
       "      <td>nan</td>\n",
       "    </tr>\n",
       "    <tr>\n",
       "      <th>19</th>\n",
       "      <td>Rank\n",
       "(England only)</td>\n",
       "      <td>Stadium</td>\n",
       "      <td>0.095262</td>\n",
       "      <td>0.090614</td>\n",
       "      <td>0.095262</td>\n",
       "      <td>0.005</td>\n",
       "      <td>0.000</td>\n",
       "    </tr>\n",
       "    <tr>\n",
       "      <th>20</th>\n",
       "      <td>Rank\n",
       "(England only)</td>\n",
       "      <td>Location</td>\n",
       "      <td>0.08983</td>\n",
       "      <td>0.092072</td>\n",
       "      <td>0.08983</td>\n",
       "      <td>-0.002</td>\n",
       "      <td>0.000</td>\n",
       "    </tr>\n",
       "    <tr>\n",
       "      <th>21</th>\n",
       "      <td>Capacity</td>\n",
       "      <td>Stadium</td>\n",
       "      <td>0.086786</td>\n",
       "      <td>0.081897</td>\n",
       "      <td>&lt;NA&gt;</td>\n",
       "      <td>0.005</td>\n",
       "      <td>nan</td>\n",
       "    </tr>\n",
       "    <tr>\n",
       "      <th>22</th>\n",
       "      <td>Capacity</td>\n",
       "      <td>Team</td>\n",
       "      <td>0.072298</td>\n",
       "      <td>0.079158</td>\n",
       "      <td>&lt;NA&gt;</td>\n",
       "      <td>-0.007</td>\n",
       "      <td>nan</td>\n",
       "    </tr>\n",
       "    <tr>\n",
       "      <th>23</th>\n",
       "      <td>Rank\n",
       "(England only)</td>\n",
       "      <td>Team</td>\n",
       "      <td>0.027893</td>\n",
       "      <td>0.039911</td>\n",
       "      <td>0.027893</td>\n",
       "      <td>-0.012</td>\n",
       "      <td>0.000</td>\n",
       "    </tr>\n",
       "  </tbody>\n",
       "</table>\n",
       "</div>"
      ],
      "text/plain": [
       "                     C1        C2  cosine similarity  \\\n",
       "0               Stadium   Stadium           0.973824   \n",
       "1              Capacity  Capacity           0.970957   \n",
       "2           Town / City  Location           0.941814   \n",
       "3                  Team      Team           0.911942   \n",
       "4   Rank\n",
       "(England only)  Capacity           0.850256   \n",
       "19  Rank\n",
       "(England only)   Stadium           0.095262   \n",
       "20  Rank\n",
       "(England only)  Location            0.08983   \n",
       "21             Capacity   Stadium           0.086786   \n",
       "22             Capacity      Team           0.072298   \n",
       "23  Rank\n",
       "(England only)      Team           0.027893   \n",
       "\n",
       "    cosine similarity_wlabel  cosine similarity_nonum  delta1  delta2  \n",
       "0                    0.97146                 0.973984   0.002  -0.000  \n",
       "1                   0.970664                     <NA>   0.000     nan  \n",
       "2                   0.940012                 0.941814   0.002   0.000  \n",
       "3                   0.910833                 0.911942   0.001   0.000  \n",
       "4                   0.849961                     <NA>   0.000     nan  \n",
       "19                  0.090614                 0.095262   0.005   0.000  \n",
       "20                  0.092072                  0.08983  -0.002   0.000  \n",
       "21                  0.081897                     <NA>   0.005     nan  \n",
       "22                  0.079158                     <NA>  -0.007     nan  \n",
       "23                  0.039911                 0.027893  -0.012   0.000  "
      ]
     },
     "execution_count": 9,
     "metadata": {},
     "output_type": "execute_result"
    }
   ],
   "source": [
    "pd.concat([m.head(), m.tail()])"
   ]
  },
  {
   "cell_type": "code",
   "execution_count": 20,
   "metadata": {},
   "outputs": [
    {
     "data": {
      "image/png": "[encoded data removed]",
      "text/plain": [
       "<Figure size 2000x500 with 1 Axes>"
      ]
     },
     "metadata": {},
     "output_type": "display_data"
    }
   ],
   "source": [
    "plt.figure(figsize=(20, 5))\n",
    "plt.hist(\n",
    "    [\n",
    "        m['cosine similarity'].apply(lambda x: format(x, '.1f')).values,\n",
    "        m['cosine similarity_wlabel'].apply(lambda x: format(x, '.1f')).values,\n",
    "        m['cosine similarity_nonum'].apply(lambda x: format(x, '.1f')).values\n",
    "    ],\n",
    "    bins=30,\n",
    "    label=['base', 'wlabel', 'nonum']\n",
    ")\n",
    "plt.xticks(rotation=45)\n",
    "plt.legend()\n",
    "plt.show()"
   ]
  }
 ],
 "metadata": {
  "kernelspec": {
   "display_name": "chroma",
   "language": "python",
   "name": "python3"
  },
  "language_info": {
   "codemirror_mode": {
    "name": "ipython",
    "version": 3
   },
   "file_extension": ".py",
   "mimetype": "text/x-python",
   "name": "python",
   "nbconvert_exporter": "python",
   "pygments_lexer": "ipython3",
   "version": "3.10.12"
  }
 },
 "nbformat": 4,
 "nbformat_minor": 2
}
