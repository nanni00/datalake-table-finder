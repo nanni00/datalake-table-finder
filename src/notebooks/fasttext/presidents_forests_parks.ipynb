{
 "cells": [
  {
   "cell_type": "code",
   "execution_count": 47,
   "metadata": {},
   "outputs": [],
   "source": [
    "import numpy as np\n",
    "import pandas as pd\n",
    "import matplotlib.pyplot as plt\n",
    "\n",
    "from code.fasttext.embedding_utils import TableEncoder, compare_embeddings_of, show_most_similar_rows, drop_columns_with_only_nan"
   ]
  },
  {
   "cell_type": "code",
   "execution_count": 48,
   "metadata": {},
   "outputs": [],
   "source": [
    "data = {\n",
    "    'presidents': '/home/giovanni/unimore/TESI/src/data/us_presidents/List_of_presidents_of_the_United_States_1.csv',\n",
    "    'parks': '/home/giovanni/unimore/TESI/src/data/us_national_parks/List_of_national_parks_of_the_United_States_1.csv',\n",
    "    'forests': '/home/giovanni/unimore/TESI/src/data/us_national_forests/List_of_national_forests_of_the_United_States_1.csv'\n",
    "}"
   ]
  },
  {
   "cell_type": "code",
   "execution_count": 49,
   "metadata": {},
   "outputs": [],
   "source": [
    "presidents_df = pd.read_csv(data['presidents'])\n",
    "parks_df = pd.read_csv(data['parks'])\n",
    "forests_df = pd.read_csv(data['forests'])"
   ]
  },
  {
   "cell_type": "code",
   "execution_count": 50,
   "metadata": {},
   "outputs": [
    {
     "data": {
      "text/plain": [
       "((46, 8), (63, 7), (134, 6))"
      ]
     },
     "execution_count": 50,
     "metadata": {},
     "output_type": "execute_result"
    }
   ],
   "source": [
    "presidents_df.shape, parks_df.shape, forests_df.shape"
   ]
  },
  {
   "cell_type": "code",
   "execution_count": 51,
   "metadata": {},
   "outputs": [
    {
     "data": {
      "text/html": [
       "<div>\n",
       "<style scoped>\n",
       "    .dataframe tbody tr th:only-of-type {\n",
       "        vertical-align: middle;\n",
       "    }\n",
       "\n",
       "    .dataframe tbody tr th {\n",
       "        vertical-align: top;\n",
       "    }\n",
       "\n",
       "    .dataframe thead th {\n",
       "        text-align: right;\n",
       "    }\n",
       "</style>\n",
       "<table border=\"1\" class=\"dataframe\">\n",
       "  <thead>\n",
       "    <tr style=\"text-align: right;\">\n",
       "      <th></th>\n",
       "      <th>No.</th>\n",
       "      <th>Portrait</th>\n",
       "      <th>Name\\n(Birth–Death)</th>\n",
       "      <th>Term</th>\n",
       "      <th>Party</th>\n",
       "      <th>Party.1</th>\n",
       "      <th>Election</th>\n",
       "      <th>Vice President</th>\n",
       "    </tr>\n",
       "  </thead>\n",
       "  <tbody>\n",
       "    <tr>\n",
       "      <th>0</th>\n",
       "      <td>1</td>\n",
       "      <td>NaN</td>\n",
       "      <td>George Washington\\n(1732–1799)</td>\n",
       "      <td>April 30, 1789\\n–\\nMarch 4, 1797</td>\n",
       "      <td>NaN</td>\n",
       "      <td>Unaffiliated</td>\n",
       "      <td>1788–1789\\n\\n1792</td>\n",
       "      <td>John Adams</td>\n",
       "    </tr>\n",
       "    <tr>\n",
       "      <th>1</th>\n",
       "      <td>2</td>\n",
       "      <td>NaN</td>\n",
       "      <td>John Adams\\n(1735–1826)</td>\n",
       "      <td>March 4, 1797\\n–\\nMarch 4, 1801</td>\n",
       "      <td>NaN</td>\n",
       "      <td>Federalist</td>\n",
       "      <td>1796</td>\n",
       "      <td>Thomas Jefferson</td>\n",
       "    </tr>\n",
       "    <tr>\n",
       "      <th>2</th>\n",
       "      <td>3</td>\n",
       "      <td>NaN</td>\n",
       "      <td>Thomas Jefferson\\n(1743–1826)</td>\n",
       "      <td>March 4, 1801\\n–\\nMarch 4, 1809</td>\n",
       "      <td>NaN</td>\n",
       "      <td>Democratic-\\nRepublican</td>\n",
       "      <td>1800\\n\\n\\n1804</td>\n",
       "      <td>Aaron Burr\\n\\nGeorge Clinton</td>\n",
       "    </tr>\n",
       "    <tr>\n",
       "      <th>3</th>\n",
       "      <td>4</td>\n",
       "      <td>NaN</td>\n",
       "      <td>James Madison\\n(1751–1836)</td>\n",
       "      <td>March 4, 1809\\n–\\nMarch 4, 1817</td>\n",
       "      <td>NaN</td>\n",
       "      <td>Democratic-\\nRepublican</td>\n",
       "      <td>1808\\n\\n1812</td>\n",
       "      <td>George Clinton\\n\\nVacant after\\nApril 20, 1812...</td>\n",
       "    </tr>\n",
       "    <tr>\n",
       "      <th>4</th>\n",
       "      <td>5</td>\n",
       "      <td>NaN</td>\n",
       "      <td>James Monroe\\n(1758–1831)</td>\n",
       "      <td>March 4, 1817\\n–\\nMarch 4, 1825</td>\n",
       "      <td>NaN</td>\n",
       "      <td>Democratic-\\nRepublican</td>\n",
       "      <td>1816\\n\\n1820</td>\n",
       "      <td>Daniel D. Tompkins</td>\n",
       "    </tr>\n",
       "  </tbody>\n",
       "</table>\n",
       "</div>"
      ],
      "text/plain": [
       "   No.  Portrait             Name\\n(Birth–Death)  \\\n",
       "0    1       NaN  George Washington\\n(1732–1799)   \n",
       "1    2       NaN         John Adams\\n(1735–1826)   \n",
       "2    3       NaN   Thomas Jefferson\\n(1743–1826)   \n",
       "3    4       NaN      James Madison\\n(1751–1836)   \n",
       "4    5       NaN       James Monroe\\n(1758–1831)   \n",
       "\n",
       "                               Term  Party                  Party.1  \\\n",
       "0  April 30, 1789\\n–\\nMarch 4, 1797    NaN             Unaffiliated   \n",
       "1   March 4, 1797\\n–\\nMarch 4, 1801    NaN               Federalist   \n",
       "2   March 4, 1801\\n–\\nMarch 4, 1809    NaN  Democratic-\\nRepublican   \n",
       "3   March 4, 1809\\n–\\nMarch 4, 1817    NaN  Democratic-\\nRepublican   \n",
       "4   March 4, 1817\\n–\\nMarch 4, 1825    NaN  Democratic-\\nRepublican   \n",
       "\n",
       "            Election                                     Vice President  \n",
       "0  1788–1789\\n\\n1792                                         John Adams  \n",
       "1               1796                                   Thomas Jefferson  \n",
       "2     1800\\n\\n\\n1804                       Aaron Burr\\n\\nGeorge Clinton  \n",
       "3       1808\\n\\n1812  George Clinton\\n\\nVacant after\\nApril 20, 1812...  \n",
       "4       1816\\n\\n1820                                 Daniel D. Tompkins  "
      ]
     },
     "execution_count": 51,
     "metadata": {},
     "output_type": "execute_result"
    }
   ],
   "source": [
    "presidents_df.head()"
   ]
  },
  {
   "cell_type": "code",
   "execution_count": 52,
   "metadata": {},
   "outputs": [
    {
     "name": "stdout",
     "output_type": "stream",
     "text": [
      "<class 'pandas.core.frame.DataFrame'>\n",
      "RangeIndex: 46 entries, 0 to 45\n",
      "Data columns (total 8 columns):\n",
      " #   Column              Non-Null Count  Dtype  \n",
      "---  ------              --------------  -----  \n",
      " 0   No.                 46 non-null     int64  \n",
      " 1   Portrait            0 non-null      float64\n",
      " 2   Name\n",
      "(Birth–Death)  46 non-null     object \n",
      " 3   Term                46 non-null     object \n",
      " 4   Party               0 non-null      float64\n",
      " 5   Party.1             46 non-null     object \n",
      " 6   Election            46 non-null     object \n",
      " 7   Vice President      46 non-null     object \n",
      "dtypes: float64(2), int64(1), object(5)\n",
      "memory usage: 3.0+ KB\n"
     ]
    }
   ],
   "source": [
    "presidents_df.info()"
   ]
  },
  {
   "cell_type": "code",
   "execution_count": 53,
   "metadata": {},
   "outputs": [],
   "source": [
    "presidents_df.dropna(axis='columns', how='all', inplace=True)\n",
    "parks_df.dropna(axis='columns', how='all', inplace=True)\n",
    "forests_df.dropna(axis='columns', how='all', inplace=True)"
   ]
  },
  {
   "cell_type": "code",
   "execution_count": 54,
   "metadata": {},
   "outputs": [],
   "source": [
    "tabenc = TableEncoder()"
   ]
  },
  {
   "cell_type": "markdown",
   "metadata": {},
   "source": [
    "## Comparing Columns"
   ]
  },
  {
   "cell_type": "markdown",
   "metadata": {},
   "source": [
    "### Presidents VS Parks"
   ]
  },
  {
   "cell_type": "code",
   "execution_count": 55,
   "metadata": {},
   "outputs": [],
   "source": [
    "def round_to(n, precision):\n",
    "    if n >= 0 or n < 0:\n",
    "        correction = 0.5 if n >= 0 else -0.5\n",
    "        return int(n / precision + correction) * precision\n",
    "    else:\n",
    "        return n\n",
    "\n",
    "def round_to_05(n):\n",
    "    return float(format(round_to(n, 0.05), \".2f\"))"
   ]
  },
  {
   "cell_type": "code",
   "execution_count": 56,
   "metadata": {},
   "outputs": [],
   "source": [
    "m = pd.merge(\n",
    "        pd.merge(\n",
    "        compare_embeddings_of(presidents_df, parks_df, tabenc, 'columns'),\n",
    "        compare_embeddings_of(presidents_df, parks_df, tabenc, 'columns', add_label=True),\n",
    "        on=['C1', 'C2'],\n",
    "        suffixes=['', '_wlabel']\n",
    "    ),\n",
    "    compare_embeddings_of(presidents_df, parks_df, tabenc, 'columns', keepnumbers=False),\n",
    "    on=['C1', 'C2'],\n",
    "    suffixes=['', '_nonum']\n",
    ")\n",
    "    \n",
    "m['delta1'] = (m['cosine similarity'] - m['cosine similarity_wlabel']).apply(lambda x: format(x, \".3f\"))\n",
    "m['delta2'] = (m['cosine similarity'] - m['cosine similarity_nonum']).apply(lambda x: format(x, \".3f\"))"
   ]
  },
  {
   "cell_type": "code",
   "execution_count": 57,
   "metadata": {},
   "outputs": [],
   "source": [
    "m_pres_vs_parks = m.copy()"
   ]
  },
  {
   "cell_type": "markdown",
   "metadata": {},
   "source": [
    "### Forests VS Parks"
   ]
  },
  {
   "cell_type": "code",
   "execution_count": 58,
   "metadata": {},
   "outputs": [],
   "source": [
    "m = pd.merge(\n",
    "        pd.merge(\n",
    "        compare_embeddings_of(forests_df, parks_df, tabenc, 'columns'),\n",
    "        compare_embeddings_of(forests_df, parks_df, tabenc, 'columns', add_label=True),\n",
    "        on=['C1', 'C2'],\n",
    "        suffixes=['', '_wlabel']\n",
    "    ),\n",
    "    compare_embeddings_of(forests_df, parks_df, tabenc, 'columns', keepnumbers=False),\n",
    "    on=['C1', 'C2'],\n",
    "    suffixes=['', '_nonum']\n",
    ")\n",
    "    \n",
    "m['delta1'] = (m['cosine similarity'] - m['cosine similarity_wlabel']).apply(lambda x: format(x, \".3f\"))\n",
    "m['delta2'] = (m['cosine similarity'] - m['cosine similarity_nonum']).apply(lambda x: format(x, \".3f\"))"
   ]
  },
  {
   "cell_type": "code",
   "execution_count": 59,
   "metadata": {},
   "outputs": [
    {
     "data": {
      "image/png": "[encoded data removed]",
      "text/plain": [
       "<Figure size 2000x600 with 2 Axes>"
      ]
     },
     "metadata": {},
     "output_type": "display_data"
    }
   ],
   "source": [
    "fig, axis = plt.subplots(2, 1, figsize=(20, 6))\n",
    "fig.tight_layout(h_pad=1.50)\n",
    "bins = np.arange(0, 1.1, 0.1)\n",
    "\n",
    "for title, data, ax in zip(('Presidents - Parks', 'Forests - Parks'), (m_pres_vs_parks, m), axis):\n",
    "    ax.set_xticks(bins)\n",
    "    ax.hist(\n",
    "        [\n",
    "            data['cosine similarity'],\n",
    "            data['cosine similarity_wlabel'],\n",
    "            data['cosine similarity_nonum']\n",
    "        ],\n",
    "        bins=bins,\n",
    "        label=['base', 'wlabel', 'nonum'],\n",
    "        align='left',\n",
    "        #weights=[   # y-axis in [0-1]\n",
    "        #    np.ones_like(data['cosine similarity']) / data['cosine similarity'].shape[0],\n",
    "        #    np.ones_like(data['cosine similarity_wlabel']) / data['cosine similarity_wlabel'].shape[0],\n",
    "        #    np.ones_like(data['cosine similarity_nonum']) / data['cosine similarity_nonum'].shape[0]\n",
    "        #]\n",
    "    )\n",
    "    ax.set_title(title)\n",
    "    ax.legend()\n",
    "plt.show()"
   ]
  },
  {
   "cell_type": "markdown",
   "metadata": {},
   "source": [
    "## Comparing Rows"
   ]
  },
  {
   "cell_type": "markdown",
   "metadata": {},
   "source": [
    "### Presidents VS Parks"
   ]
  },
  {
   "cell_type": "code",
   "execution_count": 30,
   "metadata": {},
   "outputs": [],
   "source": [
    "m_pp = pd.merge(\n",
    "        pd.merge(\n",
    "        compare_embeddings_of(presidents_df, parks_df, tabenc, 'rows'),\n",
    "        compare_embeddings_of(presidents_df, parks_df, tabenc, 'rows', add_label=True),\n",
    "        on=['R1', 'R2'],\n",
    "        suffixes=['', '-wlabel']\n",
    "    ),\n",
    "    compare_embeddings_of(presidents_df, parks_df, tabenc, 'rows', keepnumbers=False),\n",
    "    on=['R1', 'R2'],\n",
    "    suffixes=['', '-nonum']\n",
    ")\n",
    "\n",
    "m_pp['delta1'] = (m_pp['cosine similarity'] - m_pp['cosine similarity-wlabel']).apply(lambda x: format(x, \".3f\"))\n",
    "m_pp['delta2'] = (m_pp['cosine similarity'] - m_pp['cosine similarity-nonum']).apply(lambda x: format(x, \".3f\"))"
   ]
  },
  {
   "cell_type": "code",
   "execution_count": 31,
   "metadata": {},
   "outputs": [
    {
     "data": {
      "text/html": [
       "<div>\n",
       "<style scoped>\n",
       "    .dataframe tbody tr th:only-of-type {\n",
       "        vertical-align: middle;\n",
       "    }\n",
       "\n",
       "    .dataframe tbody tr th {\n",
       "        vertical-align: top;\n",
       "    }\n",
       "\n",
       "    .dataframe thead th {\n",
       "        text-align: right;\n",
       "    }\n",
       "</style>\n",
       "<table border=\"1\" class=\"dataframe\">\n",
       "  <thead>\n",
       "    <tr style=\"text-align: right;\">\n",
       "      <th></th>\n",
       "      <th>R1</th>\n",
       "      <th>R2</th>\n",
       "      <th>cosine similarity</th>\n",
       "      <th>cosine similarity-wlabel</th>\n",
       "      <th>cosine similarity-nonum</th>\n",
       "      <th>delta1</th>\n",
       "      <th>delta2</th>\n",
       "    </tr>\n",
       "  </thead>\n",
       "  <tbody>\n",
       "    <tr>\n",
       "      <th>0</th>\n",
       "      <td>20</td>\n",
       "      <td>30</td>\n",
       "      <td>0.960136</td>\n",
       "      <td>0.89866</td>\n",
       "      <td>0.465785</td>\n",
       "      <td>0.061</td>\n",
       "      <td>0.494</td>\n",
       "    </tr>\n",
       "    <tr>\n",
       "      <th>1</th>\n",
       "      <td>37</td>\n",
       "      <td>19</td>\n",
       "      <td>0.958369</td>\n",
       "      <td>0.909527</td>\n",
       "      <td>0.44322</td>\n",
       "      <td>0.049</td>\n",
       "      <td>0.515</td>\n",
       "    </tr>\n",
       "    <tr>\n",
       "      <th>2</th>\n",
       "      <td>37</td>\n",
       "      <td>38</td>\n",
       "      <td>0.955976</td>\n",
       "      <td>0.907676</td>\n",
       "      <td>0.433126</td>\n",
       "      <td>0.048</td>\n",
       "      <td>0.523</td>\n",
       "    </tr>\n",
       "    <tr>\n",
       "      <th>3</th>\n",
       "      <td>37</td>\n",
       "      <td>33</td>\n",
       "      <td>0.955683</td>\n",
       "      <td>0.908834</td>\n",
       "      <td>0.460699</td>\n",
       "      <td>0.047</td>\n",
       "      <td>0.495</td>\n",
       "    </tr>\n",
       "    <tr>\n",
       "      <th>4</th>\n",
       "      <td>12</td>\n",
       "      <td>30</td>\n",
       "      <td>0.954228</td>\n",
       "      <td>0.898887</td>\n",
       "      <td>0.461717</td>\n",
       "      <td>0.055</td>\n",
       "      <td>0.493</td>\n",
       "    </tr>\n",
       "    <tr>\n",
       "      <th>...</th>\n",
       "      <td>...</td>\n",
       "      <td>...</td>\n",
       "      <td>...</td>\n",
       "      <td>...</td>\n",
       "      <td>...</td>\n",
       "      <td>...</td>\n",
       "      <td>...</td>\n",
       "    </tr>\n",
       "    <tr>\n",
       "      <th>2893</th>\n",
       "      <td>11</td>\n",
       "      <td>25</td>\n",
       "      <td>0.786609</td>\n",
       "      <td>0.759704</td>\n",
       "      <td>0.415172</td>\n",
       "      <td>0.027</td>\n",
       "      <td>0.371</td>\n",
       "    </tr>\n",
       "    <tr>\n",
       "      <th>2894</th>\n",
       "      <td>14</td>\n",
       "      <td>17</td>\n",
       "      <td>0.785837</td>\n",
       "      <td>0.777775</td>\n",
       "      <td>0.475801</td>\n",
       "      <td>0.008</td>\n",
       "      <td>0.310</td>\n",
       "    </tr>\n",
       "    <tr>\n",
       "      <th>2895</th>\n",
       "      <td>0</td>\n",
       "      <td>17</td>\n",
       "      <td>0.783606</td>\n",
       "      <td>0.761486</td>\n",
       "      <td>0.427507</td>\n",
       "      <td>0.022</td>\n",
       "      <td>0.356</td>\n",
       "    </tr>\n",
       "    <tr>\n",
       "      <th>2896</th>\n",
       "      <td>11</td>\n",
       "      <td>17</td>\n",
       "      <td>0.774685</td>\n",
       "      <td>0.764045</td>\n",
       "      <td>0.408577</td>\n",
       "      <td>0.011</td>\n",
       "      <td>0.366</td>\n",
       "    </tr>\n",
       "    <tr>\n",
       "      <th>2897</th>\n",
       "      <td>10</td>\n",
       "      <td>17</td>\n",
       "      <td>0.770176</td>\n",
       "      <td>0.754611</td>\n",
       "      <td>0.486515</td>\n",
       "      <td>0.016</td>\n",
       "      <td>0.284</td>\n",
       "    </tr>\n",
       "  </tbody>\n",
       "</table>\n",
       "<p>2898 rows × 7 columns</p>\n",
       "</div>"
      ],
      "text/plain": [
       "      R1  R2  cosine similarity  cosine similarity-wlabel  \\\n",
       "0     20  30           0.960136                   0.89866   \n",
       "1     37  19           0.958369                  0.909527   \n",
       "2     37  38           0.955976                  0.907676   \n",
       "3     37  33           0.955683                  0.908834   \n",
       "4     12  30           0.954228                  0.898887   \n",
       "...   ..  ..                ...                       ...   \n",
       "2893  11  25           0.786609                  0.759704   \n",
       "2894  14  17           0.785837                  0.777775   \n",
       "2895   0  17           0.783606                  0.761486   \n",
       "2896  11  17           0.774685                  0.764045   \n",
       "2897  10  17           0.770176                  0.754611   \n",
       "\n",
       "      cosine similarity-nonum delta1 delta2  \n",
       "0                    0.465785  0.061  0.494  \n",
       "1                     0.44322  0.049  0.515  \n",
       "2                    0.433126  0.048  0.523  \n",
       "3                    0.460699  0.047  0.495  \n",
       "4                    0.461717  0.055  0.493  \n",
       "...                       ...    ...    ...  \n",
       "2893                 0.415172  0.027  0.371  \n",
       "2894                 0.475801  0.008  0.310  \n",
       "2895                 0.427507  0.022  0.356  \n",
       "2896                 0.408577  0.011  0.366  \n",
       "2897                 0.486515  0.016  0.284  \n",
       "\n",
       "[2898 rows x 7 columns]"
      ]
     },
     "execution_count": 31,
     "metadata": {},
     "output_type": "execute_result"
    }
   ],
   "source": [
    "m_pp"
   ]
  },
  {
   "cell_type": "code",
   "execution_count": 33,
   "metadata": {},
   "outputs": [
    {
     "name": "stdout",
     "output_type": "stream",
     "text": [
      "#0: 0.9601359545345971\n",
      "\t20: 21 Chester A. Arthur\n",
      "(1829–1886) September 19, 1881\n",
      "–\n",
      "March 4, 1885 Republican – Vacant throughout\n",
      "presidency\n",
      "\t30: Hawaiʻi Volcanoes ‡ Hawaii\n",
      "19°23′N 155°12′W﻿ / ﻿19.38°N 155.20°W﻿ / 19.38; -155.20﻿ (Hawaiʻi Volcanoes) August 1, 1916 344,812.18 acres (1,395.4 km2) 1,580,961 This park on the Big Island protects the Kīlauea and Mauna Loa volcanoes, two of the world's most active geological features. Diverse ecosystems range from tropical forests at sea level to barren lava beds at more than 13,000 feet (4,000 m). (WHS) (BR)\n",
      "\n"
     ]
    }
   ],
   "source": [
    "show_most_similar_rows(m_pp[['R1', 'R2', 'cosine similarity']], presidents_df, parks_df, 1)"
   ]
  },
  {
   "cell_type": "code",
   "execution_count": 20,
   "metadata": {},
   "outputs": [
    {
     "name": "stdout",
     "output_type": "stream",
     "text": [
      "#0: 0.4657845232028505\n",
      "\t20: 21 Chester A. Arthur\n",
      "(1829–1886) September 19, 1881\n",
      "–\n",
      "March 4, 1885 Republican – Vacant throughout\n",
      "presidency\n",
      "\t30: Hawaiʻi Volcanoes ‡ Hawaii\n",
      "19°23′N 155°12′W﻿ / ﻿19.38°N 155.20°W﻿ / 19.38; -155.20﻿ (Hawaiʻi Volcanoes) August 1, 1916 344,812.18 acres (1,395.4 km2) 1,580,961 This park on the Big Island protects the Kīlauea and Mauna Loa volcanoes, two of the world's most active geological features. Diverse ecosystems range from tropical forests at sea level to barren lava beds at more than 13,000 feet (4,000 m). (WHS) (BR)\n",
      "\n"
     ]
    }
   ],
   "source": [
    "show_most_similar_rows(m_pp[['R1', 'R2', 'cosine similarity-nonum']], presidents_df, parks_df, 1)"
   ]
  },
  {
   "cell_type": "markdown",
   "metadata": {},
   "source": [
    "### Forests VS Parks"
   ]
  },
  {
   "cell_type": "code",
   "execution_count": 34,
   "metadata": {},
   "outputs": [],
   "source": [
    "m_fp = pd.merge(\n",
    "        pd.merge(\n",
    "            compare_embeddings_of(forests_df, parks_df, tabenc, 'rows'),\n",
    "            compare_embeddings_of(forests_df, parks_df, tabenc, 'rows', add_label=True),\n",
    "            on=['R1', 'R2'],\n",
    "            suffixes=['', '-wlabel']\n",
    "        ),\n",
    "        compare_embeddings_of(forests_df, parks_df, tabenc, 'rows', keepnumbers=False),\n",
    "        on=['R1', 'R2'],\n",
    "        suffixes=['', '-nonum']\n",
    ")\n",
    "m_fp['delta1'] = (m_fp['cosine similarity'] - m_fp['cosine similarity-wlabel']).apply(lambda x: format(x, \".3f\"))\n",
    "m_fp['delta2'] = (m_fp['cosine similarity'] - m_fp['cosine similarity-nonum']).apply(lambda x: format(x, \".3f\"))"
   ]
  },
  {
   "cell_type": "code",
   "execution_count": 35,
   "metadata": {},
   "outputs": [
    {
     "data": {
      "text/html": [
       "<div>\n",
       "<style scoped>\n",
       "    .dataframe tbody tr th:only-of-type {\n",
       "        vertical-align: middle;\n",
       "    }\n",
       "\n",
       "    .dataframe tbody tr th {\n",
       "        vertical-align: top;\n",
       "    }\n",
       "\n",
       "    .dataframe thead th {\n",
       "        text-align: right;\n",
       "    }\n",
       "</style>\n",
       "<table border=\"1\" class=\"dataframe\">\n",
       "  <thead>\n",
       "    <tr style=\"text-align: right;\">\n",
       "      <th></th>\n",
       "      <th>R1</th>\n",
       "      <th>R2</th>\n",
       "      <th>cosine similarity</th>\n",
       "      <th>cosine similarity-wlabel</th>\n",
       "      <th>cosine similarity-nonum</th>\n",
       "      <th>delta1</th>\n",
       "      <th>delta2</th>\n",
       "    </tr>\n",
       "  </thead>\n",
       "  <tbody>\n",
       "    <tr>\n",
       "      <th>0</th>\n",
       "      <td>76</td>\n",
       "      <td>0</td>\n",
       "      <td>0.98816</td>\n",
       "      <td>0.958921</td>\n",
       "      <td>0.979629</td>\n",
       "      <td>0.029</td>\n",
       "      <td>0.009</td>\n",
       "    </tr>\n",
       "    <tr>\n",
       "      <th>1</th>\n",
       "      <td>122</td>\n",
       "      <td>27</td>\n",
       "      <td>0.987506</td>\n",
       "      <td>0.957952</td>\n",
       "      <td>0.971609</td>\n",
       "      <td>0.030</td>\n",
       "      <td>0.016</td>\n",
       "    </tr>\n",
       "    <tr>\n",
       "      <th>2</th>\n",
       "      <td>75</td>\n",
       "      <td>7</td>\n",
       "      <td>0.987362</td>\n",
       "      <td>0.958097</td>\n",
       "      <td>0.99003</td>\n",
       "      <td>0.029</td>\n",
       "      <td>-0.003</td>\n",
       "    </tr>\n",
       "    <tr>\n",
       "      <th>3</th>\n",
       "      <td>122</td>\n",
       "      <td>0</td>\n",
       "      <td>0.98708</td>\n",
       "      <td>0.963102</td>\n",
       "      <td>0.988227</td>\n",
       "      <td>0.024</td>\n",
       "      <td>-0.001</td>\n",
       "    </tr>\n",
       "    <tr>\n",
       "      <th>4</th>\n",
       "      <td>102</td>\n",
       "      <td>7</td>\n",
       "      <td>0.986979</td>\n",
       "      <td>0.945277</td>\n",
       "      <td>0.993218</td>\n",
       "      <td>0.042</td>\n",
       "      <td>-0.006</td>\n",
       "    </tr>\n",
       "    <tr>\n",
       "      <th>...</th>\n",
       "      <td>...</td>\n",
       "      <td>...</td>\n",
       "      <td>...</td>\n",
       "      <td>...</td>\n",
       "      <td>...</td>\n",
       "      <td>...</td>\n",
       "      <td>...</td>\n",
       "    </tr>\n",
       "    <tr>\n",
       "      <th>8437</th>\n",
       "      <td>69</td>\n",
       "      <td>17</td>\n",
       "      <td>0.884381</td>\n",
       "      <td>0.870034</td>\n",
       "      <td>0.858542</td>\n",
       "      <td>0.014</td>\n",
       "      <td>0.026</td>\n",
       "    </tr>\n",
       "    <tr>\n",
       "      <th>8438</th>\n",
       "      <td>47</td>\n",
       "      <td>17</td>\n",
       "      <td>0.884346</td>\n",
       "      <td>0.87322</td>\n",
       "      <td>0.91097</td>\n",
       "      <td>0.011</td>\n",
       "      <td>-0.027</td>\n",
       "    </tr>\n",
       "    <tr>\n",
       "      <th>8439</th>\n",
       "      <td>34</td>\n",
       "      <td>4</td>\n",
       "      <td>0.884227</td>\n",
       "      <td>0.877973</td>\n",
       "      <td>0.844997</td>\n",
       "      <td>0.006</td>\n",
       "      <td>0.039</td>\n",
       "    </tr>\n",
       "    <tr>\n",
       "      <th>8440</th>\n",
       "      <td>63</td>\n",
       "      <td>17</td>\n",
       "      <td>0.883879</td>\n",
       "      <td>0.848821</td>\n",
       "      <td>0.922696</td>\n",
       "      <td>0.035</td>\n",
       "      <td>-0.039</td>\n",
       "    </tr>\n",
       "    <tr>\n",
       "      <th>8441</th>\n",
       "      <td>64</td>\n",
       "      <td>4</td>\n",
       "      <td>0.88122</td>\n",
       "      <td>0.878247</td>\n",
       "      <td>0.905634</td>\n",
       "      <td>0.003</td>\n",
       "      <td>-0.024</td>\n",
       "    </tr>\n",
       "  </tbody>\n",
       "</table>\n",
       "<p>8442 rows × 7 columns</p>\n",
       "</div>"
      ],
      "text/plain": [
       "       R1  R2  cosine similarity  cosine similarity-wlabel  \\\n",
       "0      76   0            0.98816                  0.958921   \n",
       "1     122  27           0.987506                  0.957952   \n",
       "2      75   7           0.987362                  0.958097   \n",
       "3     122   0            0.98708                  0.963102   \n",
       "4     102   7           0.986979                  0.945277   \n",
       "...   ...  ..                ...                       ...   \n",
       "8437   69  17           0.884381                  0.870034   \n",
       "8438   47  17           0.884346                   0.87322   \n",
       "8439   34   4           0.884227                  0.877973   \n",
       "8440   63  17           0.883879                  0.848821   \n",
       "8441   64   4            0.88122                  0.878247   \n",
       "\n",
       "      cosine similarity-nonum delta1  delta2  \n",
       "0                    0.979629  0.029   0.009  \n",
       "1                    0.971609  0.030   0.016  \n",
       "2                     0.99003  0.029  -0.003  \n",
       "3                    0.988227  0.024  -0.001  \n",
       "4                    0.993218  0.042  -0.006  \n",
       "...                       ...    ...     ...  \n",
       "8437                 0.858542  0.014   0.026  \n",
       "8438                  0.91097  0.011  -0.027  \n",
       "8439                 0.844997  0.006   0.039  \n",
       "8440                 0.922696  0.035  -0.039  \n",
       "8441                 0.905634  0.003  -0.024  \n",
       "\n",
       "[8442 rows x 7 columns]"
      ]
     },
     "execution_count": 35,
     "metadata": {},
     "output_type": "execute_result"
    }
   ],
   "source": [
    "m_fp"
   ]
  },
  {
   "cell_type": "code",
   "execution_count": 46,
   "metadata": {},
   "outputs": [
    {
     "data": {
      "image/png": "[encoded data removed]",
      "text/plain": [
       "<Figure size 2000x500 with 2 Axes>"
      ]
     },
     "metadata": {},
     "output_type": "display_data"
    }
   ],
   "source": [
    "fig, axis = plt.subplots(2, 1, figsize=(20, 5))\n",
    "fig.tight_layout(h_pad=3)\n",
    "\n",
    "for title, data, ax in zip(('Presidents - Parks', 'Forests - Parks'), (m_pp, m_fp), axis):   \n",
    "    ax.hist(data['cosine similarity'].apply(lambda x: format(x, '.2f')).values, label='base', bins=20, alpha=.7)\n",
    "    ax.hist(data['cosine similarity-wlabel'].apply(lambda x: format(x, '.2f')).values, label='wlabel', bins=20, alpha=.7)\n",
    "    ax.hist(data['cosine similarity-nonum'].apply(lambda x: format(x, '.2f')).values, label='nonum', bins=20, alpha=.7)\n",
    "    ax.set_xticklabels(ax.get_xticklabels(), rotation=45)\n",
    "    ax.set_title(title)\n",
    "    ax.legend()\n",
    "plt.show()"
   ]
  },
  {
   "cell_type": "code",
   "execution_count": 25,
   "metadata": {},
   "outputs": [
    {
     "name": "stdout",
     "output_type": "stream",
     "text": [
      "#0: 0.98816006302736\n",
      "\t76: Monongahela West Virginia\n",
      "38°33′N 79°54′W﻿ / ﻿38.550°N 79.900°W﻿ / 38.550; -79.900﻿ (Monongahela) April 28, 1920 920,583 acres (3,725.5 km2) Monongahela National Forest includes Spruce Knob–Seneca Rocks National Recreation Area and eight wilderness areas. Spruce Knob is the highest point in West Virginia at 4,863 ft (1,482 m), and Seneca Rocks is a 900 ft (270 m) quartzite crag.\n",
      "\t0: Acadia Maine\n",
      "44°21′N 68°13′W﻿ / ﻿44.35°N 68.21°W﻿ / 44.35; -68.21﻿ (Acadia) February 26, 1919 49,071.40 acres (198.6 km2) 3,970,260 Covering most of Mount Desert Island and other coastal islands, Acadia features the tallest mountain on the Atlantic coast of the United States, granite peaks, ocean shoreline, woodlands, and lakes. There are freshwater, estuary, forest, and intertidal habitats.\n",
      "\n"
     ]
    }
   ],
   "source": [
    "show_most_similar_rows(m[['R1', 'R2', 'cosine similarity']], forests_df, parks_df, 1)"
   ]
  },
  {
   "cell_type": "code",
   "execution_count": 27,
   "metadata": {},
   "outputs": [
    {
     "name": "stdout",
     "output_type": "stream",
     "text": [
      "#0: 0.9796294280140625\n",
      "\t76: Monongahela West Virginia\n",
      "38°33′N 79°54′W﻿ / ﻿38.550°N 79.900°W﻿ / 38.550; -79.900﻿ (Monongahela) April 28, 1920 920,583 acres (3,725.5 km2) Monongahela National Forest includes Spruce Knob–Seneca Rocks National Recreation Area and eight wilderness areas. Spruce Knob is the highest point in West Virginia at 4,863 ft (1,482 m), and Seneca Rocks is a 900 ft (270 m) quartzite crag.\n",
      "\t0: Acadia Maine\n",
      "44°21′N 68°13′W﻿ / ﻿44.35°N 68.21°W﻿ / 44.35; -68.21﻿ (Acadia) February 26, 1919 49,071.40 acres (198.6 km2) 3,970,260 Covering most of Mount Desert Island and other coastal islands, Acadia features the tallest mountain on the Atlantic coast of the United States, granite peaks, ocean shoreline, woodlands, and lakes. There are freshwater, estuary, forest, and intertidal habitats.\n",
      "\n"
     ]
    }
   ],
   "source": [
    "show_most_similar_rows(m[['R1', 'R2', 'cosine similarity-nonum']], forests_df, parks_df, 1)"
   ]
  }
 ],
 "metadata": {
  "kernelspec": {
   "display_name": "chroma",
   "language": "python",
   "name": "python3"
  },
  "language_info": {
   "codemirror_mode": {
    "name": "ipython",
    "version": 3
   },
   "file_extension": ".py",
   "mimetype": "text/x-python",
   "name": "python",
   "nbconvert_exporter": "python",
   "pygments_lexer": "ipython3",
   "version": "3.10.12"
  }
 },
 "nbformat": 4,
 "nbformat_minor": 2
}
