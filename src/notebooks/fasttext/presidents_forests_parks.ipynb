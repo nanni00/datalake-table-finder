{
 "cells": [
  {
   "cell_type": "code",
   "execution_count": 25,
   "metadata": {},
   "outputs": [],
   "source": [
    "import numpy as np\n",
    "import pandas as pd\n",
    "import matplotlib.pyplot as plt\n",
    "\n",
    "from code.fasttext.embedding_utils import TableEncoder, compare_embeddings_of, compare_embeddings, show_most_similar_rows"
   ]
  },
  {
   "cell_type": "code",
   "execution_count": 26,
   "metadata": {},
   "outputs": [],
   "source": [
    "data = {\n",
    "    'presidents': '/home/giovanni/unimore/TESI/src/data/us_presidents/List_of_presidents_of_the_United_States_1.csv',\n",
    "    'parks': '/home/giovanni/unimore/TESI/src/data/us_national_parks/List_of_national_parks_of_the_United_States_1.csv',\n",
    "    'forests': '/home/giovanni/unimore/TESI/src/data/us_national_forests/List_of_national_forests_of_the_United_States_1.csv'\n",
    "}"
   ]
  },
  {
   "cell_type": "code",
   "execution_count": 3,
   "metadata": {},
   "outputs": [],
   "source": [
    "presidents_df = pd.read_csv(data['presidents'])\n",
    "parks_df = pd.read_csv(data['parks'])\n",
    "forests_df = pd.read_csv(data['forests'])"
   ]
  },
  {
   "cell_type": "code",
   "execution_count": 4,
   "metadata": {},
   "outputs": [
    {
     "data": {
      "text/plain": [
       "((46, 8), (63, 7), (134, 6))"
      ]
     },
     "execution_count": 4,
     "metadata": {},
     "output_type": "execute_result"
    }
   ],
   "source": [
    "presidents_df.shape, parks_df.shape, forests_df.shape"
   ]
  },
  {
   "cell_type": "code",
   "execution_count": 5,
   "metadata": {},
   "outputs": [
    {
     "data": {
      "text/html": [
       "<div>\n",
       "<style scoped>\n",
       "    .dataframe tbody tr th:only-of-type {\n",
       "        vertical-align: middle;\n",
       "    }\n",
       "\n",
       "    .dataframe tbody tr th {\n",
       "        vertical-align: top;\n",
       "    }\n",
       "\n",
       "    .dataframe thead th {\n",
       "        text-align: right;\n",
       "    }\n",
       "</style>\n",
       "<table border=\"1\" class=\"dataframe\">\n",
       "  <thead>\n",
       "    <tr style=\"text-align: right;\">\n",
       "      <th></th>\n",
       "      <th>No.</th>\n",
       "      <th>Portrait</th>\n",
       "      <th>Name\\n(Birth–Death)</th>\n",
       "      <th>Term</th>\n",
       "      <th>Party</th>\n",
       "      <th>Party.1</th>\n",
       "      <th>Election</th>\n",
       "      <th>Vice President</th>\n",
       "    </tr>\n",
       "  </thead>\n",
       "  <tbody>\n",
       "    <tr>\n",
       "      <th>0</th>\n",
       "      <td>1</td>\n",
       "      <td>NaN</td>\n",
       "      <td>George Washington\\n(1732–1799)</td>\n",
       "      <td>April 30, 1789\\n–\\nMarch 4, 1797</td>\n",
       "      <td>NaN</td>\n",
       "      <td>Unaffiliated</td>\n",
       "      <td>1788–1789\\n\\n1792</td>\n",
       "      <td>John Adams</td>\n",
       "    </tr>\n",
       "    <tr>\n",
       "      <th>1</th>\n",
       "      <td>2</td>\n",
       "      <td>NaN</td>\n",
       "      <td>John Adams\\n(1735–1826)</td>\n",
       "      <td>March 4, 1797\\n–\\nMarch 4, 1801</td>\n",
       "      <td>NaN</td>\n",
       "      <td>Federalist</td>\n",
       "      <td>1796</td>\n",
       "      <td>Thomas Jefferson</td>\n",
       "    </tr>\n",
       "    <tr>\n",
       "      <th>2</th>\n",
       "      <td>3</td>\n",
       "      <td>NaN</td>\n",
       "      <td>Thomas Jefferson\\n(1743–1826)</td>\n",
       "      <td>March 4, 1801\\n–\\nMarch 4, 1809</td>\n",
       "      <td>NaN</td>\n",
       "      <td>Democratic-\\nRepublican</td>\n",
       "      <td>1800\\n\\n\\n1804</td>\n",
       "      <td>Aaron Burr\\n\\nGeorge Clinton</td>\n",
       "    </tr>\n",
       "    <tr>\n",
       "      <th>3</th>\n",
       "      <td>4</td>\n",
       "      <td>NaN</td>\n",
       "      <td>James Madison\\n(1751–1836)</td>\n",
       "      <td>March 4, 1809\\n–\\nMarch 4, 1817</td>\n",
       "      <td>NaN</td>\n",
       "      <td>Democratic-\\nRepublican</td>\n",
       "      <td>1808\\n\\n1812</td>\n",
       "      <td>George Clinton\\n\\nVacant after\\nApril 20, 1812...</td>\n",
       "    </tr>\n",
       "    <tr>\n",
       "      <th>4</th>\n",
       "      <td>5</td>\n",
       "      <td>NaN</td>\n",
       "      <td>James Monroe\\n(1758–1831)</td>\n",
       "      <td>March 4, 1817\\n–\\nMarch 4, 1825</td>\n",
       "      <td>NaN</td>\n",
       "      <td>Democratic-\\nRepublican</td>\n",
       "      <td>1816\\n\\n1820</td>\n",
       "      <td>Daniel D. Tompkins</td>\n",
       "    </tr>\n",
       "  </tbody>\n",
       "</table>\n",
       "</div>"
      ],
      "text/plain": [
       "   No.  Portrait             Name\\n(Birth–Death)  \\\n",
       "0    1       NaN  George Washington\\n(1732–1799)   \n",
       "1    2       NaN         John Adams\\n(1735–1826)   \n",
       "2    3       NaN   Thomas Jefferson\\n(1743–1826)   \n",
       "3    4       NaN      James Madison\\n(1751–1836)   \n",
       "4    5       NaN       James Monroe\\n(1758–1831)   \n",
       "\n",
       "                               Term  Party                  Party.1  \\\n",
       "0  April 30, 1789\\n–\\nMarch 4, 1797    NaN             Unaffiliated   \n",
       "1   March 4, 1797\\n–\\nMarch 4, 1801    NaN               Federalist   \n",
       "2   March 4, 1801\\n–\\nMarch 4, 1809    NaN  Democratic-\\nRepublican   \n",
       "3   March 4, 1809\\n–\\nMarch 4, 1817    NaN  Democratic-\\nRepublican   \n",
       "4   March 4, 1817\\n–\\nMarch 4, 1825    NaN  Democratic-\\nRepublican   \n",
       "\n",
       "            Election                                     Vice President  \n",
       "0  1788–1789\\n\\n1792                                         John Adams  \n",
       "1               1796                                   Thomas Jefferson  \n",
       "2     1800\\n\\n\\n1804                       Aaron Burr\\n\\nGeorge Clinton  \n",
       "3       1808\\n\\n1812  George Clinton\\n\\nVacant after\\nApril 20, 1812...  \n",
       "4       1816\\n\\n1820                                 Daniel D. Tompkins  "
      ]
     },
     "execution_count": 5,
     "metadata": {},
     "output_type": "execute_result"
    }
   ],
   "source": [
    "presidents_df.head()"
   ]
  },
  {
   "cell_type": "code",
   "execution_count": 6,
   "metadata": {},
   "outputs": [
    {
     "name": "stdout",
     "output_type": "stream",
     "text": [
      "<class 'pandas.core.frame.DataFrame'>\n",
      "RangeIndex: 46 entries, 0 to 45\n",
      "Data columns (total 8 columns):\n",
      " #   Column              Non-Null Count  Dtype  \n",
      "---  ------              --------------  -----  \n",
      " 0   No.                 46 non-null     int64  \n",
      " 1   Portrait            0 non-null      float64\n",
      " 2   Name\n",
      "(Birth–Death)  46 non-null     object \n",
      " 3   Term                46 non-null     object \n",
      " 4   Party               0 non-null      float64\n",
      " 5   Party.1             46 non-null     object \n",
      " 6   Election            46 non-null     object \n",
      " 7   Vice President      46 non-null     object \n",
      "dtypes: float64(2), int64(1), object(5)\n",
      "memory usage: 3.0+ KB\n"
     ]
    }
   ],
   "source": [
    "presidents_df.info()"
   ]
  },
  {
   "cell_type": "code",
   "execution_count": 27,
   "metadata": {},
   "outputs": [
    {
     "data": {
      "text/html": [
       "<div>\n",
       "<style scoped>\n",
       "    .dataframe tbody tr th:only-of-type {\n",
       "        vertical-align: middle;\n",
       "    }\n",
       "\n",
       "    .dataframe tbody tr th {\n",
       "        vertical-align: top;\n",
       "    }\n",
       "\n",
       "    .dataframe thead th {\n",
       "        text-align: right;\n",
       "    }\n",
       "</style>\n",
       "<table border=\"1\" class=\"dataframe\">\n",
       "  <thead>\n",
       "    <tr style=\"text-align: right;\">\n",
       "      <th></th>\n",
       "      <th>NameA</th>\n",
       "      <th>LocationB</th>\n",
       "      <th>Date formedC</th>\n",
       "      <th>Area</th>\n",
       "      <th>DescriptionD</th>\n",
       "    </tr>\n",
       "  </thead>\n",
       "  <tbody>\n",
       "    <tr>\n",
       "      <th>0</th>\n",
       "      <td>Allegheny</td>\n",
       "      <td>Pennsylvania\\n41°39′N 79°01′W﻿ / ﻿41.650°N 79....</td>\n",
       "      <td>September 24, 1923</td>\n",
       "      <td>513,655 acres (2,078.7 km2)</td>\n",
       "      <td>Pennsylvania's only national forest includes K...</td>\n",
       "    </tr>\n",
       "    <tr>\n",
       "      <th>1</th>\n",
       "      <td>Angeles</td>\n",
       "      <td>California\\n34°24′N 118°10′W﻿ / ﻿34.400°N 118....</td>\n",
       "      <td>December 20, 1892</td>\n",
       "      <td>661,565 acres (2,677.3 km2)</td>\n",
       "      <td>Located in the San Gabriel Mountains at the ed...</td>\n",
       "    </tr>\n",
       "    <tr>\n",
       "      <th>2</th>\n",
       "      <td>Angelina</td>\n",
       "      <td>Texas\\n31°13′N 94°17′W﻿ / ﻿31.217°N 94.283°W﻿ ...</td>\n",
       "      <td>October 13, 1936</td>\n",
       "      <td>154,140 acres (623.8 km2)</td>\n",
       "      <td>Primarily longleaf, loblolly, and shortleaf pi...</td>\n",
       "    </tr>\n",
       "    <tr>\n",
       "      <th>3</th>\n",
       "      <td>Apache–Sitgreaves</td>\n",
       "      <td>Arizona, New Mexico\\n33°44′N 109°05′W﻿ / ﻿33.7...</td>\n",
       "      <td>August 17, 1898</td>\n",
       "      <td>2,626,306 acres (10,628.3 km2)</td>\n",
       "      <td>Encompassing the Mogollon Rim and White Mounta...</td>\n",
       "    </tr>\n",
       "    <tr>\n",
       "      <th>4</th>\n",
       "      <td>Apalachicola</td>\n",
       "      <td>Florida\\n30°11′N 84°41′W﻿ / ﻿30.183°N 84.683°W...</td>\n",
       "      <td>May 13, 1936</td>\n",
       "      <td>576,119 acres (2,331.5 km2)</td>\n",
       "      <td>As the largest national forest in Florida, Apa...</td>\n",
       "    </tr>\n",
       "  </tbody>\n",
       "</table>\n",
       "</div>"
      ],
      "text/plain": [
       "               NameA                                          LocationB  \\\n",
       "0          Allegheny  Pennsylvania\\n41°39′N 79°01′W﻿ / ﻿41.650°N 79....   \n",
       "1            Angeles  California\\n34°24′N 118°10′W﻿ / ﻿34.400°N 118....   \n",
       "2           Angelina  Texas\\n31°13′N 94°17′W﻿ / ﻿31.217°N 94.283°W﻿ ...   \n",
       "3  Apache–Sitgreaves  Arizona, New Mexico\\n33°44′N 109°05′W﻿ / ﻿33.7...   \n",
       "4       Apalachicola  Florida\\n30°11′N 84°41′W﻿ / ﻿30.183°N 84.683°W...   \n",
       "\n",
       "         Date formedC                            Area  \\\n",
       "0  September 24, 1923     513,655 acres (2,078.7 km2)   \n",
       "1   December 20, 1892     661,565 acres (2,677.3 km2)   \n",
       "2    October 13, 1936       154,140 acres (623.8 km2)   \n",
       "3     August 17, 1898  2,626,306 acres (10,628.3 km2)   \n",
       "4        May 13, 1936     576,119 acres (2,331.5 km2)   \n",
       "\n",
       "                                        DescriptionD  \n",
       "0  Pennsylvania's only national forest includes K...  \n",
       "1  Located in the San Gabriel Mountains at the ed...  \n",
       "2  Primarily longleaf, loblolly, and shortleaf pi...  \n",
       "3  Encompassing the Mogollon Rim and White Mounta...  \n",
       "4  As the largest national forest in Florida, Apa...  "
      ]
     },
     "execution_count": 27,
     "metadata": {},
     "output_type": "execute_result"
    }
   ],
   "source": [
    "forests_df.head()"
   ]
  },
  {
   "cell_type": "code",
   "execution_count": 28,
   "metadata": {},
   "outputs": [
    {
     "data": {
      "text/html": [
       "<div>\n",
       "<style scoped>\n",
       "    .dataframe tbody tr th:only-of-type {\n",
       "        vertical-align: middle;\n",
       "    }\n",
       "\n",
       "    .dataframe tbody tr th {\n",
       "        vertical-align: top;\n",
       "    }\n",
       "\n",
       "    .dataframe thead th {\n",
       "        text-align: right;\n",
       "    }\n",
       "</style>\n",
       "<table border=\"1\" class=\"dataframe\">\n",
       "  <thead>\n",
       "    <tr style=\"text-align: right;\">\n",
       "      <th></th>\n",
       "      <th>Name</th>\n",
       "      <th>Location</th>\n",
       "      <th>Date established as park</th>\n",
       "      <th>Area (2023)</th>\n",
       "      <th>Recreation visitors (2022)</th>\n",
       "      <th>Description</th>\n",
       "    </tr>\n",
       "  </thead>\n",
       "  <tbody>\n",
       "    <tr>\n",
       "      <th>0</th>\n",
       "      <td>Acadia</td>\n",
       "      <td>Maine\\n44°21′N 68°13′W﻿ / ﻿44.35°N 68.21°W﻿ / ...</td>\n",
       "      <td>February 26, 1919</td>\n",
       "      <td>49,071.40 acres (198.6 km2)</td>\n",
       "      <td>3,970,260</td>\n",
       "      <td>Covering most of Mount Desert Island and other...</td>\n",
       "    </tr>\n",
       "    <tr>\n",
       "      <th>1</th>\n",
       "      <td>American Samoa</td>\n",
       "      <td>American Samoa\\n14°15′S 170°41′W﻿ / ﻿14.25°S 1...</td>\n",
       "      <td>October 31, 1988</td>\n",
       "      <td>8,256.67 acres (33.4 km2)</td>\n",
       "      <td>12,135</td>\n",
       "      <td>The southernmost national park is on three Sam...</td>\n",
       "    </tr>\n",
       "    <tr>\n",
       "      <th>2</th>\n",
       "      <td>Arches</td>\n",
       "      <td>Utah\\n38°41′N 109°34′W﻿ / ﻿38.68°N 109.57°W﻿ /...</td>\n",
       "      <td>November 12, 1971</td>\n",
       "      <td>76,678.98 acres (310.3 km2)</td>\n",
       "      <td>1,460,652</td>\n",
       "      <td>This site features more than 2,000 natural san...</td>\n",
       "    </tr>\n",
       "    <tr>\n",
       "      <th>3</th>\n",
       "      <td>Badlands</td>\n",
       "      <td>South Dakota\\n43°45′N 102°30′W﻿ / ﻿43.75°N 102...</td>\n",
       "      <td>November 10, 1978</td>\n",
       "      <td>242,755.94 acres (982.4 km2)</td>\n",
       "      <td>1,006,809</td>\n",
       "      <td>The Badlands are a collection of buttes, pinna...</td>\n",
       "    </tr>\n",
       "    <tr>\n",
       "      <th>4</th>\n",
       "      <td>Big Bend †</td>\n",
       "      <td>Texas\\n29°15′N 103°15′W﻿ / ﻿29.25°N 103.25°W﻿ ...</td>\n",
       "      <td>June 12, 1944</td>\n",
       "      <td>801,163.21 acres (3,242.2 km2)</td>\n",
       "      <td>514,107</td>\n",
       "      <td>Named for the prominent bend in the Rio Grande...</td>\n",
       "    </tr>\n",
       "  </tbody>\n",
       "</table>\n",
       "</div>"
      ],
      "text/plain": [
       "             Name                                           Location  \\\n",
       "0          Acadia  Maine\\n44°21′N 68°13′W﻿ / ﻿44.35°N 68.21°W﻿ / ...   \n",
       "1  American Samoa  American Samoa\\n14°15′S 170°41′W﻿ / ﻿14.25°S 1...   \n",
       "2          Arches  Utah\\n38°41′N 109°34′W﻿ / ﻿38.68°N 109.57°W﻿ /...   \n",
       "3        Badlands  South Dakota\\n43°45′N 102°30′W﻿ / ﻿43.75°N 102...   \n",
       "4      Big Bend †  Texas\\n29°15′N 103°15′W﻿ / ﻿29.25°N 103.25°W﻿ ...   \n",
       "\n",
       "  Date established as park                     Area (2023)  \\\n",
       "0        February 26, 1919     49,071.40 acres (198.6 km2)   \n",
       "1         October 31, 1988       8,256.67 acres (33.4 km2)   \n",
       "2        November 12, 1971     76,678.98 acres (310.3 km2)   \n",
       "3        November 10, 1978    242,755.94 acres (982.4 km2)   \n",
       "4            June 12, 1944  801,163.21 acres (3,242.2 km2)   \n",
       "\n",
       "  Recreation visitors (2022)  \\\n",
       "0                  3,970,260   \n",
       "1                     12,135   \n",
       "2                  1,460,652   \n",
       "3                  1,006,809   \n",
       "4                    514,107   \n",
       "\n",
       "                                         Description  \n",
       "0  Covering most of Mount Desert Island and other...  \n",
       "1  The southernmost national park is on three Sam...  \n",
       "2  This site features more than 2,000 natural san...  \n",
       "3  The Badlands are a collection of buttes, pinna...  \n",
       "4  Named for the prominent bend in the Rio Grande...  "
      ]
     },
     "execution_count": 28,
     "metadata": {},
     "output_type": "execute_result"
    }
   ],
   "source": [
    "parks_df.head()"
   ]
  },
  {
   "cell_type": "code",
   "execution_count": 7,
   "metadata": {},
   "outputs": [],
   "source": [
    "presidents_df.dropna(axis='columns', how='all', inplace=True)\n",
    "parks_df.dropna(axis='columns', how='all', inplace=True)\n",
    "forests_df.dropna(axis='columns', how='all', inplace=True)"
   ]
  },
  {
   "cell_type": "code",
   "execution_count": 8,
   "metadata": {},
   "outputs": [],
   "source": [
    "tabenc = TableEncoder()"
   ]
  },
  {
   "cell_type": "markdown",
   "metadata": {},
   "source": [
    "## Comparing Columns"
   ]
  },
  {
   "cell_type": "markdown",
   "metadata": {},
   "source": [
    "### Presidents VS Parks"
   ]
  },
  {
   "cell_type": "code",
   "execution_count": 9,
   "metadata": {},
   "outputs": [],
   "source": [
    "def round_to(n, precision):\n",
    "    if n >= 0 or n < 0:\n",
    "        correction = 0.5 if n >= 0 else -0.5\n",
    "        return int(n / precision + correction) * precision\n",
    "    else:\n",
    "        return n\n",
    "\n",
    "def round_to_05(n):\n",
    "    return float(format(round_to(n, 0.05), \".2f\"))"
   ]
  },
  {
   "cell_type": "code",
   "execution_count": 10,
   "metadata": {},
   "outputs": [],
   "source": [
    "mc_presidents_vs_parks = compare_embeddings(\n",
    "    presidents_df, parks_df, tabenc, \n",
    "    'columns', True,\n",
    "    [False, True], [False, True], True \n",
    ")"
   ]
  },
  {
   "cell_type": "code",
   "execution_count": 11,
   "metadata": {},
   "outputs": [
    {
     "data": {
      "text/html": [
       "<div>\n",
       "<style scoped>\n",
       "    .dataframe tbody tr th:only-of-type {\n",
       "        vertical-align: middle;\n",
       "    }\n",
       "\n",
       "    .dataframe tbody tr th {\n",
       "        vertical-align: top;\n",
       "    }\n",
       "\n",
       "    .dataframe thead th {\n",
       "        text-align: right;\n",
       "    }\n",
       "</style>\n",
       "<table border=\"1\" class=\"dataframe\">\n",
       "  <thead>\n",
       "    <tr style=\"text-align: right;\">\n",
       "      <th></th>\n",
       "      <th>C1</th>\n",
       "      <th>C2</th>\n",
       "      <th>cosine similarity</th>\n",
       "      <th>cosine similarity-nonum</th>\n",
       "      <th>delta#1</th>\n",
       "      <th>cosine similarity-wlabel</th>\n",
       "      <th>delta#2</th>\n",
       "      <th>cosine similarity-wlabel-nonum</th>\n",
       "      <th>delta#3</th>\n",
       "    </tr>\n",
       "  </thead>\n",
       "  <tbody>\n",
       "    <tr>\n",
       "      <th>0</th>\n",
       "      <td>Term</td>\n",
       "      <td>Date established as park</td>\n",
       "      <td>0.974933</td>\n",
       "      <td>0.575578</td>\n",
       "      <td>0.399</td>\n",
       "      <td>0.974743</td>\n",
       "      <td>0.000</td>\n",
       "      <td>0.585763</td>\n",
       "      <td>0.389</td>\n",
       "    </tr>\n",
       "    <tr>\n",
       "      <th>1</th>\n",
       "      <td>No.</td>\n",
       "      <td>Area (2023)</td>\n",
       "      <td>0.964039</td>\n",
       "      <td>&lt;NA&gt;</td>\n",
       "      <td>nan</td>\n",
       "      <td>0.963748</td>\n",
       "      <td>0.000</td>\n",
       "      <td>&lt;NA&gt;</td>\n",
       "      <td>nan</td>\n",
       "    </tr>\n",
       "    <tr>\n",
       "      <th>2</th>\n",
       "      <td>No.</td>\n",
       "      <td>Date established as park</td>\n",
       "      <td>0.941638</td>\n",
       "      <td>&lt;NA&gt;</td>\n",
       "      <td>nan</td>\n",
       "      <td>0.941106</td>\n",
       "      <td>0.001</td>\n",
       "      <td>&lt;NA&gt;</td>\n",
       "      <td>nan</td>\n",
       "    </tr>\n",
       "    <tr>\n",
       "      <th>3</th>\n",
       "      <td>No.</td>\n",
       "      <td>Location</td>\n",
       "      <td>0.938009</td>\n",
       "      <td>&lt;NA&gt;</td>\n",
       "      <td>nan</td>\n",
       "      <td>0.937946</td>\n",
       "      <td>0.000</td>\n",
       "      <td>&lt;NA&gt;</td>\n",
       "      <td>nan</td>\n",
       "    </tr>\n",
       "    <tr>\n",
       "      <th>4</th>\n",
       "      <td>No.</td>\n",
       "      <td>Recreation visitors (2022)</td>\n",
       "      <td>0.929957</td>\n",
       "      <td>&lt;NA&gt;</td>\n",
       "      <td>nan</td>\n",
       "      <td>0.929787</td>\n",
       "      <td>0.000</td>\n",
       "      <td>&lt;NA&gt;</td>\n",
       "      <td>nan</td>\n",
       "    </tr>\n",
       "  </tbody>\n",
       "</table>\n",
       "</div>"
      ],
      "text/plain": [
       "     C1                          C2  cosine similarity  \\\n",
       "0  Term    Date established as park           0.974933   \n",
       "1   No.                 Area (2023)           0.964039   \n",
       "2   No.    Date established as park           0.941638   \n",
       "3   No.                    Location           0.938009   \n",
       "4   No.  Recreation visitors (2022)           0.929957   \n",
       "\n",
       "   cosine similarity-nonum delta#1  cosine similarity-wlabel delta#2  \\\n",
       "0                 0.575578   0.399                  0.974743   0.000   \n",
       "1                     <NA>     nan                  0.963748   0.000   \n",
       "2                     <NA>     nan                  0.941106   0.001   \n",
       "3                     <NA>     nan                  0.937946   0.000   \n",
       "4                     <NA>     nan                  0.929787   0.000   \n",
       "\n",
       "   cosine similarity-wlabel-nonum delta#3  \n",
       "0                        0.585763   0.389  \n",
       "1                            <NA>     nan  \n",
       "2                            <NA>     nan  \n",
       "3                            <NA>     nan  \n",
       "4                            <NA>     nan  "
      ]
     },
     "execution_count": 11,
     "metadata": {},
     "output_type": "execute_result"
    }
   ],
   "source": [
    "mc_presidents_vs_parks.head()"
   ]
  },
  {
   "cell_type": "markdown",
   "metadata": {},
   "source": [
    "### Forests VS Parks"
   ]
  },
  {
   "cell_type": "code",
   "execution_count": 12,
   "metadata": {},
   "outputs": [],
   "source": [
    "mc_forests_vs_parks = compare_embeddings(\n",
    "    forests_df, parks_df, tabenc, \n",
    "    'columns', True,\n",
    "    [False, True], [False, True], True \n",
    ")"
   ]
  },
  {
   "cell_type": "code",
   "execution_count": 13,
   "metadata": {},
   "outputs": [
    {
     "data": {
      "text/html": [
       "<div>\n",
       "<style scoped>\n",
       "    .dataframe tbody tr th:only-of-type {\n",
       "        vertical-align: middle;\n",
       "    }\n",
       "\n",
       "    .dataframe tbody tr th {\n",
       "        vertical-align: top;\n",
       "    }\n",
       "\n",
       "    .dataframe thead th {\n",
       "        text-align: right;\n",
       "    }\n",
       "</style>\n",
       "<table border=\"1\" class=\"dataframe\">\n",
       "  <thead>\n",
       "    <tr style=\"text-align: right;\">\n",
       "      <th></th>\n",
       "      <th>C1</th>\n",
       "      <th>C2</th>\n",
       "      <th>cosine similarity</th>\n",
       "      <th>cosine similarity-nonum</th>\n",
       "      <th>delta#1</th>\n",
       "      <th>cosine similarity-wlabel</th>\n",
       "      <th>delta#2</th>\n",
       "      <th>cosine similarity-wlabel-nonum</th>\n",
       "      <th>delta#3</th>\n",
       "    </tr>\n",
       "  </thead>\n",
       "  <tbody>\n",
       "    <tr>\n",
       "      <th>0</th>\n",
       "      <td>LocationB</td>\n",
       "      <td>Location</td>\n",
       "      <td>0.992456</td>\n",
       "      <td>0.999616</td>\n",
       "      <td>-0.007</td>\n",
       "      <td>0.992454</td>\n",
       "      <td>0.000</td>\n",
       "      <td>0.999581</td>\n",
       "      <td>-0.007</td>\n",
       "    </tr>\n",
       "    <tr>\n",
       "      <th>1</th>\n",
       "      <td>Date formedC</td>\n",
       "      <td>Date established as park</td>\n",
       "      <td>0.987329</td>\n",
       "      <td>0.94104</td>\n",
       "      <td>0.046</td>\n",
       "      <td>0.987331</td>\n",
       "      <td>-0.000</td>\n",
       "      <td>0.94236</td>\n",
       "      <td>0.045</td>\n",
       "    </tr>\n",
       "    <tr>\n",
       "      <th>2</th>\n",
       "      <td>Area</td>\n",
       "      <td>Area (2023)</td>\n",
       "      <td>0.97534</td>\n",
       "      <td>1.0</td>\n",
       "      <td>-0.025</td>\n",
       "      <td>0.975335</td>\n",
       "      <td>0.000</td>\n",
       "      <td>0.999995</td>\n",
       "      <td>-0.025</td>\n",
       "    </tr>\n",
       "    <tr>\n",
       "      <th>3</th>\n",
       "      <td>Area</td>\n",
       "      <td>Recreation visitors (2022)</td>\n",
       "      <td>0.96815</td>\n",
       "      <td>&lt;NA&gt;</td>\n",
       "      <td>nan</td>\n",
       "      <td>0.968071</td>\n",
       "      <td>0.000</td>\n",
       "      <td>0.11542</td>\n",
       "      <td>0.853</td>\n",
       "    </tr>\n",
       "    <tr>\n",
       "      <th>4</th>\n",
       "      <td>LocationB</td>\n",
       "      <td>Area (2023)</td>\n",
       "      <td>0.929298</td>\n",
       "      <td>0.342115</td>\n",
       "      <td>0.587</td>\n",
       "      <td>0.929178</td>\n",
       "      <td>0.000</td>\n",
       "      <td>0.341907</td>\n",
       "      <td>0.587</td>\n",
       "    </tr>\n",
       "  </tbody>\n",
       "</table>\n",
       "</div>"
      ],
      "text/plain": [
       "             C1                          C2  cosine similarity  \\\n",
       "0     LocationB                    Location           0.992456   \n",
       "1  Date formedC    Date established as park           0.987329   \n",
       "2          Area                 Area (2023)            0.97534   \n",
       "3          Area  Recreation visitors (2022)            0.96815   \n",
       "4     LocationB                 Area (2023)           0.929298   \n",
       "\n",
       "   cosine similarity-nonum delta#1  cosine similarity-wlabel delta#2  \\\n",
       "0                 0.999616  -0.007                  0.992454   0.000   \n",
       "1                  0.94104   0.046                  0.987331  -0.000   \n",
       "2                      1.0  -0.025                  0.975335   0.000   \n",
       "3                     <NA>     nan                  0.968071   0.000   \n",
       "4                 0.342115   0.587                  0.929178   0.000   \n",
       "\n",
       "   cosine similarity-wlabel-nonum delta#3  \n",
       "0                        0.999581  -0.007  \n",
       "1                         0.94236   0.045  \n",
       "2                        0.999995  -0.025  \n",
       "3                         0.11542   0.853  \n",
       "4                        0.341907   0.587  "
      ]
     },
     "execution_count": 13,
     "metadata": {},
     "output_type": "execute_result"
    }
   ],
   "source": [
    "mc_forests_vs_parks.head()"
   ]
  },
  {
   "cell_type": "code",
   "execution_count": 14,
   "metadata": {},
   "outputs": [
    {
     "data": {
      "image/png": "[encoded data removed]",
      "text/plain": [
       "<Figure size 2000x600 with 2 Axes>"
      ]
     },
     "metadata": {},
     "output_type": "display_data"
    }
   ],
   "source": [
    "fig, axis = plt.subplots(2, 1, figsize=(20, 6))\n",
    "fig.tight_layout(h_pad=1.50)\n",
    "bins = np.arange(0, 1.1, 0.1)\n",
    "\n",
    "for title, data, ax in zip(('Presidents - Parks', 'Forests - Parks'), (mc_presidents_vs_parks, mc_forests_vs_parks), axis):\n",
    "    ax.set_xticks(bins)\n",
    "    ax.hist(\n",
    "        [\n",
    "            data['cosine similarity'],\n",
    "            data['cosine similarity-wlabel'],\n",
    "            data['cosine similarity-nonum'],\n",
    "            data['cosine similarity-wlabel-nonum']\n",
    "        ],\n",
    "        bins=bins,\n",
    "        label=['base', 'wlabel', 'nonum', 'wlabel,nonum'],\n",
    "        align='left',\n",
    "        #weights=[   # y-axis in [0-1]\n",
    "        #    np.ones_like(data['cosine similarity']) / data['cosine similarity'].shape[0],\n",
    "        #    np.ones_like(data['cosine similarity_wlabel']) / data['cosine similarity_wlabel'].shape[0],\n",
    "        #    np.ones_like(data['cosine similarity_nonum']) / data['cosine similarity_nonum'].shape[0]\n",
    "        #]\n",
    "    )\n",
    "    ax.set_title(title)\n",
    "    ax.legend()\n",
    "plt.show()"
   ]
  },
  {
   "cell_type": "markdown",
   "metadata": {},
   "source": [
    "## Comparing Rows"
   ]
  },
  {
   "cell_type": "markdown",
   "metadata": {},
   "source": [
    "### Presidents VS Parks"
   ]
  },
  {
   "cell_type": "code",
   "execution_count": 15,
   "metadata": {},
   "outputs": [],
   "source": [
    "mr_presidents_vs_parks = compare_embeddings(\n",
    "    presidents_df, parks_df, tabenc, \n",
    "    'rows', True,\n",
    "    [False, True], [False, True], True \n",
    ")"
   ]
  },
  {
   "cell_type": "code",
   "execution_count": 16,
   "metadata": {},
   "outputs": [
    {
     "data": {
      "text/html": [
       "<div>\n",
       "<style scoped>\n",
       "    .dataframe tbody tr th:only-of-type {\n",
       "        vertical-align: middle;\n",
       "    }\n",
       "\n",
       "    .dataframe tbody tr th {\n",
       "        vertical-align: top;\n",
       "    }\n",
       "\n",
       "    .dataframe thead th {\n",
       "        text-align: right;\n",
       "    }\n",
       "</style>\n",
       "<table border=\"1\" class=\"dataframe\">\n",
       "  <thead>\n",
       "    <tr style=\"text-align: right;\">\n",
       "      <th></th>\n",
       "      <th>R1</th>\n",
       "      <th>R2</th>\n",
       "      <th>cosine similarity</th>\n",
       "      <th>cosine similarity-nonum</th>\n",
       "      <th>delta#1</th>\n",
       "      <th>cosine similarity-wlabel</th>\n",
       "      <th>delta#2</th>\n",
       "      <th>cosine similarity-wlabel-nonum</th>\n",
       "      <th>delta#3</th>\n",
       "    </tr>\n",
       "  </thead>\n",
       "  <tbody>\n",
       "    <tr>\n",
       "      <th>0</th>\n",
       "      <td>37</td>\n",
       "      <td>42</td>\n",
       "      <td>0.957372</td>\n",
       "      <td>0.190845</td>\n",
       "      <td>0.767</td>\n",
       "      <td>0.901886</td>\n",
       "      <td>0.055</td>\n",
       "      <td>0.441528</td>\n",
       "      <td>0.516</td>\n",
       "    </tr>\n",
       "    <tr>\n",
       "      <th>1</th>\n",
       "      <td>37</td>\n",
       "      <td>6</td>\n",
       "      <td>0.95453</td>\n",
       "      <td>0.22214</td>\n",
       "      <td>0.732</td>\n",
       "      <td>0.894855</td>\n",
       "      <td>0.060</td>\n",
       "      <td>0.464683</td>\n",
       "      <td>0.490</td>\n",
       "    </tr>\n",
       "    <tr>\n",
       "      <th>2</th>\n",
       "      <td>12</td>\n",
       "      <td>38</td>\n",
       "      <td>0.953945</td>\n",
       "      <td>0.205378</td>\n",
       "      <td>0.749</td>\n",
       "      <td>0.910354</td>\n",
       "      <td>0.044</td>\n",
       "      <td>0.433734</td>\n",
       "      <td>0.520</td>\n",
       "    </tr>\n",
       "    <tr>\n",
       "      <th>3</th>\n",
       "      <td>12</td>\n",
       "      <td>62</td>\n",
       "      <td>0.953856</td>\n",
       "      <td>0.218387</td>\n",
       "      <td>0.735</td>\n",
       "      <td>0.894193</td>\n",
       "      <td>0.060</td>\n",
       "      <td>0.42749</td>\n",
       "      <td>0.526</td>\n",
       "    </tr>\n",
       "    <tr>\n",
       "      <th>4</th>\n",
       "      <td>37</td>\n",
       "      <td>35</td>\n",
       "      <td>0.953803</td>\n",
       "      <td>0.141237</td>\n",
       "      <td>0.813</td>\n",
       "      <td>0.92201</td>\n",
       "      <td>0.032</td>\n",
       "      <td>0.42653</td>\n",
       "      <td>0.527</td>\n",
       "    </tr>\n",
       "  </tbody>\n",
       "</table>\n",
       "</div>"
      ],
      "text/plain": [
       "   R1  R2  cosine similarity  cosine similarity-nonum delta#1  \\\n",
       "0  37  42           0.957372                 0.190845   0.767   \n",
       "1  37   6            0.95453                  0.22214   0.732   \n",
       "2  12  38           0.953945                 0.205378   0.749   \n",
       "3  12  62           0.953856                 0.218387   0.735   \n",
       "4  37  35           0.953803                 0.141237   0.813   \n",
       "\n",
       "   cosine similarity-wlabel delta#2  cosine similarity-wlabel-nonum delta#3  \n",
       "0                  0.901886   0.055                        0.441528   0.516  \n",
       "1                  0.894855   0.060                        0.464683   0.490  \n",
       "2                  0.910354   0.044                        0.433734   0.520  \n",
       "3                  0.894193   0.060                         0.42749   0.526  \n",
       "4                   0.92201   0.032                         0.42653   0.527  "
      ]
     },
     "execution_count": 16,
     "metadata": {},
     "output_type": "execute_result"
    }
   ],
   "source": [
    "mr_presidents_vs_parks.head()"
   ]
  },
  {
   "cell_type": "code",
   "execution_count": 18,
   "metadata": {},
   "outputs": [
    {
     "name": "stdout",
     "output_type": "stream",
     "text": [
      "#0: 0.9573717326303061\n",
      "\t37: 38 Gerald Ford\n",
      "(1913–2006) August 9, 1974\n",
      "–\n",
      "January 20, 1977 Republican – Vacant through\n",
      "December 19, 1974\n",
      "\n",
      "Nelson Rockefeller\n",
      "\t42: Mesa Verde * Colorado\n",
      "37°11′N 108°29′W﻿ / ﻿37.18°N 108.49°W﻿ / 37.18; -108.49﻿ (Mesa Verde) June 29, 1906 52,485.17 acres (212.4 km2) 499,790 This area constitutes over 4,000 archaeological sites of the Ancestral Puebloan people, who lived here and elsewhere in the Four Corners region for at least 700 years. Cliff dwellings built in the 12th and 13th centuries include Cliff Palace, which has 150 rooms and 23 kivas, and the Balcony House, with its many passages and tunnels. (WHS)\n",
      "\n"
     ]
    }
   ],
   "source": [
    "show_most_similar_rows(mr_presidents_vs_parks[['R1', 'R2', 'cosine similarity']], presidents_df, parks_df, 1)"
   ]
  },
  {
   "cell_type": "code",
   "execution_count": 19,
   "metadata": {},
   "outputs": [
    {
     "name": "stdout",
     "output_type": "stream",
     "text": [
      "#0: 0.19084477803630834\n",
      "\t37: 38 Gerald Ford\n",
      "(1913–2006) August 9, 1974\n",
      "–\n",
      "January 20, 1977 Republican – Vacant through\n",
      "December 19, 1974\n",
      "\n",
      "Nelson Rockefeller\n",
      "\t42: Mesa Verde * Colorado\n",
      "37°11′N 108°29′W﻿ / ﻿37.18°N 108.49°W﻿ / 37.18; -108.49﻿ (Mesa Verde) June 29, 1906 52,485.17 acres (212.4 km2) 499,790 This area constitutes over 4,000 archaeological sites of the Ancestral Puebloan people, who lived here and elsewhere in the Four Corners region for at least 700 years. Cliff dwellings built in the 12th and 13th centuries include Cliff Palace, which has 150 rooms and 23 kivas, and the Balcony House, with its many passages and tunnels. (WHS)\n",
      "\n"
     ]
    }
   ],
   "source": [
    "show_most_similar_rows(mr_presidents_vs_parks[['R1', 'R2', 'cosine similarity-nonum']], presidents_df, parks_df, 1)"
   ]
  },
  {
   "cell_type": "markdown",
   "metadata": {},
   "source": [
    "### Forests VS Parks"
   ]
  },
  {
   "cell_type": "code",
   "execution_count": 20,
   "metadata": {},
   "outputs": [],
   "source": [
    "mr_forests_vs_parks = compare_embeddings(\n",
    "    forests_df, parks_df, tabenc,\n",
    "    'rows', True,\n",
    "    [False, True], [False, True], True\n",
    ")"
   ]
  },
  {
   "cell_type": "code",
   "execution_count": 22,
   "metadata": {},
   "outputs": [
    {
     "data": {
      "text/html": [
       "<div>\n",
       "<style scoped>\n",
       "    .dataframe tbody tr th:only-of-type {\n",
       "        vertical-align: middle;\n",
       "    }\n",
       "\n",
       "    .dataframe tbody tr th {\n",
       "        vertical-align: top;\n",
       "    }\n",
       "\n",
       "    .dataframe thead th {\n",
       "        text-align: right;\n",
       "    }\n",
       "</style>\n",
       "<table border=\"1\" class=\"dataframe\">\n",
       "  <thead>\n",
       "    <tr style=\"text-align: right;\">\n",
       "      <th></th>\n",
       "      <th>R1</th>\n",
       "      <th>R2</th>\n",
       "      <th>cosine similarity</th>\n",
       "      <th>cosine similarity-nonum</th>\n",
       "      <th>delta#1</th>\n",
       "      <th>cosine similarity-wlabel</th>\n",
       "      <th>delta#2</th>\n",
       "      <th>cosine similarity-wlabel-nonum</th>\n",
       "      <th>delta#3</th>\n",
       "    </tr>\n",
       "  </thead>\n",
       "  <tbody>\n",
       "    <tr>\n",
       "      <th>0</th>\n",
       "      <td>76</td>\n",
       "      <td>0</td>\n",
       "      <td>0.986866</td>\n",
       "      <td>0.979629</td>\n",
       "      <td>0.007</td>\n",
       "      <td>0.954837</td>\n",
       "      <td>0.032</td>\n",
       "      <td>0.923106</td>\n",
       "      <td>0.064</td>\n",
       "    </tr>\n",
       "    <tr>\n",
       "      <th>1</th>\n",
       "      <td>115</td>\n",
       "      <td>38</td>\n",
       "      <td>0.986134</td>\n",
       "      <td>0.978908</td>\n",
       "      <td>0.007</td>\n",
       "      <td>0.960356</td>\n",
       "      <td>0.026</td>\n",
       "      <td>0.932063</td>\n",
       "      <td>0.054</td>\n",
       "    </tr>\n",
       "    <tr>\n",
       "      <th>2</th>\n",
       "      <td>56</td>\n",
       "      <td>45</td>\n",
       "      <td>0.985651</td>\n",
       "      <td>0.979258</td>\n",
       "      <td>0.006</td>\n",
       "      <td>0.955136</td>\n",
       "      <td>0.031</td>\n",
       "      <td>0.928634</td>\n",
       "      <td>0.057</td>\n",
       "    </tr>\n",
       "    <tr>\n",
       "      <th>3</th>\n",
       "      <td>60</td>\n",
       "      <td>33</td>\n",
       "      <td>0.985342</td>\n",
       "      <td>0.961992</td>\n",
       "      <td>0.023</td>\n",
       "      <td>0.957147</td>\n",
       "      <td>0.028</td>\n",
       "      <td>0.928733</td>\n",
       "      <td>0.057</td>\n",
       "    </tr>\n",
       "    <tr>\n",
       "      <th>4</th>\n",
       "      <td>122</td>\n",
       "      <td>0</td>\n",
       "      <td>0.984152</td>\n",
       "      <td>0.988227</td>\n",
       "      <td>-0.004</td>\n",
       "      <td>0.959514</td>\n",
       "      <td>0.025</td>\n",
       "      <td>0.937042</td>\n",
       "      <td>0.047</td>\n",
       "    </tr>\n",
       "  </tbody>\n",
       "</table>\n",
       "</div>"
      ],
      "text/plain": [
       "    R1  R2  cosine similarity  cosine similarity-nonum delta#1  \\\n",
       "0   76   0           0.986866                 0.979629   0.007   \n",
       "1  115  38           0.986134                 0.978908   0.007   \n",
       "2   56  45           0.985651                 0.979258   0.006   \n",
       "3   60  33           0.985342                 0.961992   0.023   \n",
       "4  122   0           0.984152                 0.988227  -0.004   \n",
       "\n",
       "   cosine similarity-wlabel delta#2  cosine similarity-wlabel-nonum delta#3  \n",
       "0                  0.954837   0.032                        0.923106   0.064  \n",
       "1                  0.960356   0.026                        0.932063   0.054  \n",
       "2                  0.955136   0.031                        0.928634   0.057  \n",
       "3                  0.957147   0.028                        0.928733   0.057  \n",
       "4                  0.959514   0.025                        0.937042   0.047  "
      ]
     },
     "execution_count": 22,
     "metadata": {},
     "output_type": "execute_result"
    }
   ],
   "source": [
    "mr_forests_vs_parks.head()"
   ]
  },
  {
   "cell_type": "code",
   "execution_count": 21,
   "metadata": {},
   "outputs": [
    {
     "data": {
      "image/png": "[encoded data removed]",
      "text/plain": [
       "<Figure size 2000x500 with 2 Axes>"
      ]
     },
     "metadata": {},
     "output_type": "display_data"
    }
   ],
   "source": [
    "fig, axis = plt.subplots(2, 1, figsize=(20, 5))\n",
    "fig.tight_layout(h_pad=3)\n",
    "\n",
    "for title, data, ax in zip(('Presidents - Parks', 'Forests - Parks'), (mr_presidents_vs_parks, mr_forests_vs_parks), axis):   \n",
    "    ax.hist(data['cosine similarity'].apply(lambda x: format(x, '.2f')).values, label='base', bins=20, alpha=.7)\n",
    "    ax.hist(data['cosine similarity-wlabel'].apply(lambda x: format(x, '.2f')).values, label='wlabel', bins=20, alpha=.7)\n",
    "    ax.hist(data['cosine similarity-nonum'].apply(lambda x: format(x, '.2f')).values, label='nonum', bins=20, alpha=.7)\n",
    "    ax.hist(data['cosine similarity-wlabel-nonum'].apply(lambda x: format(x, '.2f')).values, label='wlabel,nonum', bins=20, alpha=.5)\n",
    "    ax.set_xticklabels(ax.get_xticklabels(), rotation=45)\n",
    "    ax.set_title(title)\n",
    "    ax.legend()\n",
    "plt.show()"
   ]
  },
  {
   "cell_type": "code",
   "execution_count": 23,
   "metadata": {},
   "outputs": [
    {
     "name": "stdout",
     "output_type": "stream",
     "text": [
      "#0: 0.986865534099765\n",
      "\t76: Monongahela West Virginia\n",
      "38°33′N 79°54′W﻿ / ﻿38.550°N 79.900°W﻿ / 38.550; -79.900﻿ (Monongahela) April 28, 1920 920,583 acres (3,725.5 km2) Monongahela National Forest includes Spruce Knob–Seneca Rocks National Recreation Area and eight wilderness areas. Spruce Knob is the highest point in West Virginia at 4,863 ft (1,482 m), and Seneca Rocks is a 900 ft (270 m) quartzite crag.\n",
      "\t0: Acadia Maine\n",
      "44°21′N 68°13′W﻿ / ﻿44.35°N 68.21°W﻿ / 44.35; -68.21﻿ (Acadia) February 26, 1919 49,071.40 acres (198.6 km2) 3,970,260 Covering most of Mount Desert Island and other coastal islands, Acadia features the tallest mountain on the Atlantic coast of the United States, granite peaks, ocean shoreline, woodlands, and lakes. There are freshwater, estuary, forest, and intertidal habitats.\n",
      "\n"
     ]
    }
   ],
   "source": [
    "show_most_similar_rows(mr_forests_vs_parks[['R1', 'R2', 'cosine similarity']], forests_df, parks_df, 1)"
   ]
  },
  {
   "cell_type": "code",
   "execution_count": 24,
   "metadata": {},
   "outputs": [
    {
     "name": "stdout",
     "output_type": "stream",
     "text": [
      "#0: 0.9952187605332061\n",
      "\t5: Arapaho Colorado\n",
      "39°41′N 105°56′W﻿ / ﻿39.683°N 105.933°W﻿ / 39.683; -105.933﻿ (Arapaho) October 24, 1903 720,418 acres (2,915.4 km2) Arapaho National Forest is in the high Rockies and includes six wilderness areas. It is currently managed jointly with Roosevelt National Forest and Pawnee National Grassland. The highest paved road in North America ascends Mount Blue Sky at an elevation of 14,265 ft (4,348 m).\n",
      "\t51: Saguaro Arizona\n",
      "32°15′N 110°30′W﻿ / ﻿32.25°N 110.50°W﻿ / 32.25; -110.50﻿ (Saguaro) October 14, 1994 92,876.75 acres (375.9 km2) 908,194 Split into the separate Rincon Mountain and Tucson Mountain districts, this park is evidence that the dry Sonoran Desert is still home to a great variety of life spanning six biotic communities. Beyond the namesake giant saguaro cacti, there are barrel cacti, chollas, and prickly pears, as well as lesser long-nosed bats, spotted owls, and javelinas.\n",
      "\n"
     ]
    }
   ],
   "source": [
    "show_most_similar_rows(mr_forests_vs_parks[['R1', 'R2', 'cosine similarity-nonum']], forests_df, parks_df, 1, False)"
   ]
  }
 ],
 "metadata": {
  "kernelspec": {
   "display_name": "chroma",
   "language": "python",
   "name": "python3"
  },
  "language_info": {
   "codemirror_mode": {
    "name": "ipython",
    "version": 3
   },
   "file_extension": ".py",
   "mimetype": "text/x-python",
   "name": "python",
   "nbconvert_exporter": "python",
   "pygments_lexer": "ipython3",
   "version": "3.10.12"
  }
 },
 "nbformat": 4,
 "nbformat_minor": 2
}
