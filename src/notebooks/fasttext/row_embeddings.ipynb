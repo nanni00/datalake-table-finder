{
 "cells": [
  {
   "cell_type": "code",
   "execution_count": 1,
   "metadata": {},
   "outputs": [],
   "source": [
    "import pandas as pd\n",
    "\n",
    "from code.fasttext.embedding_utils import TableEncoder, compare_embeddings_of, show_most_similar_rows"
   ]
  },
  {
   "cell_type": "code",
   "execution_count": 2,
   "metadata": {},
   "outputs": [],
   "source": [
    "tabenc = TableEncoder()"
   ]
  },
  {
   "cell_type": "markdown",
   "metadata": {},
   "source": [
    "## UK stadiums and Premier League clubs (1)  "
   ]
  },
  {
   "cell_type": "markdown",
   "metadata": {},
   "source": [
    "### Computing row embedding - only known categorical columns"
   ]
  },
  {
   "cell_type": "code",
   "execution_count": null,
   "metadata": {},
   "outputs": [],
   "source": [
    "stadium_df = pd.read_csv(\n",
    "    '/home/giovanni/unimore/TESI/src/data/uk_football/List_of_football_stadiums_in_England_1.csv'\n",
    "    ).drop(['Rank\\n(England only)', 'Image', 'Capacity'], axis=1).dropna(ignore_index=True)\n",
    "\n",
    "pl1_df = pd.read_csv(\n",
    "    '/home/giovanni/unimore/TESI/src/data/uk_football/Premier_League_1.csv'\n",
    "    ).drop('Capacity', axis=1).dropna(ignore_index=True)"
   ]
  },
  {
   "cell_type": "code",
   "execution_count": null,
   "metadata": {},
   "outputs": [],
   "source": [
    "stadium_df.head()"
   ]
  },
  {
   "cell_type": "code",
   "execution_count": null,
   "metadata": {},
   "outputs": [],
   "source": [
    "pl1_df.head()"
   ]
  },
  {
   "cell_type": "code",
   "execution_count": null,
   "metadata": {},
   "outputs": [],
   "source": [
    "row = stadium_df.loc[1]\n",
    "row"
   ]
  },
  {
   "cell_type": "code",
   "execution_count": null,
   "metadata": {},
   "outputs": [],
   "source": [
    "for idx, row in stadium_df.head(3).iterrows():\n",
    "    for cell in row:\n",
    "        print(cell)\n",
    "    print()"
   ]
  },
  {
   "cell_type": "code",
   "execution_count": null,
   "metadata": {},
   "outputs": [],
   "source": [
    "comparison_rows = compare_embeddings_of(stadium_df, pl1_df, tabenc, 'rows', True)"
   ]
  },
  {
   "cell_type": "code",
   "execution_count": null,
   "metadata": {},
   "outputs": [],
   "source": [
    "comparison_rows"
   ]
  },
  {
   "cell_type": "code",
   "execution_count": null,
   "metadata": {},
   "outputs": [],
   "source": [
    "show_most_similar_rows(comparison_rows, stadium_df, pl1_df)"
   ]
  },
  {
   "cell_type": "markdown",
   "metadata": {},
   "source": [
    "### Comparing row embeddings with complete dataframes"
   ]
  },
  {
   "cell_type": "code",
   "execution_count": null,
   "metadata": {},
   "outputs": [],
   "source": [
    "stadium_df = pd.read_csv(\n",
    "    '/home/giovanni/unimore/TESI/src/data/uk_football/List_of_football_stadiums_in_England_1.csv'\n",
    "    )\n",
    "\n",
    "pl1_df = pd.read_csv(\n",
    "    '/home/giovanni/unimore/TESI/src/data/uk_football/Premier_League_1.csv'\n",
    "    )"
   ]
  },
  {
   "cell_type": "code",
   "execution_count": null,
   "metadata": {},
   "outputs": [],
   "source": [
    "stadium_df.head()"
   ]
  },
  {
   "cell_type": "code",
   "execution_count": null,
   "metadata": {},
   "outputs": [],
   "source": [
    "pl1_df.head()"
   ]
  },
  {
   "cell_type": "code",
   "execution_count": null,
   "metadata": {},
   "outputs": [],
   "source": [
    "comparison_rows = compare_embeddings_of(stadium_df, pl1_df, tabenc, 'rows', True)"
   ]
  },
  {
   "cell_type": "code",
   "execution_count": null,
   "metadata": {},
   "outputs": [],
   "source": [
    "comparison_rows"
   ]
  },
  {
   "cell_type": "code",
   "execution_count": null,
   "metadata": {},
   "outputs": [],
   "source": [
    "show_most_similar_rows(comparison_rows, stadium_df, pl1_df)"
   ]
  },
  {
   "cell_type": "markdown",
   "metadata": {},
   "source": [
    "## Embedding with labels"
   ]
  },
  {
   "cell_type": "code",
   "execution_count": 3,
   "metadata": {},
   "outputs": [],
   "source": [
    "stadium_df = pd.read_csv(\n",
    "    '/home/giovanni/unimore/TESI/src/data/uk_football/List_of_football_stadiums_in_England_1.csv'\n",
    "    ).drop(['Rank\\n(England only)', 'Image', 'Capacity'], axis=1).dropna(ignore_index=True)\n",
    "\n",
    "pl1_df = pd.read_csv(\n",
    "    '/home/giovanni/unimore/TESI/src/data/uk_football/Premier_League_1.csv'\n",
    "    ).drop('Capacity', axis=1).dropna(ignore_index=True)"
   ]
  },
  {
   "cell_type": "code",
   "execution_count": 4,
   "metadata": {},
   "outputs": [
    {
     "data": {
      "text/html": [
       "<div>\n",
       "<style scoped>\n",
       "    .dataframe tbody tr th:only-of-type {\n",
       "        vertical-align: middle;\n",
       "    }\n",
       "\n",
       "    .dataframe tbody tr th {\n",
       "        vertical-align: top;\n",
       "    }\n",
       "\n",
       "    .dataframe thead th {\n",
       "        text-align: right;\n",
       "    }\n",
       "</style>\n",
       "<table border=\"1\" class=\"dataframe\">\n",
       "  <thead>\n",
       "    <tr style=\"text-align: right;\">\n",
       "      <th></th>\n",
       "      <th>R1</th>\n",
       "      <th>R2</th>\n",
       "      <th>cosine similarity</th>\n",
       "    </tr>\n",
       "  </thead>\n",
       "  <tbody>\n",
       "    <tr>\n",
       "      <th>0</th>\n",
       "      <td>2</td>\n",
       "      <td>18</td>\n",
       "      <td>0.957578</td>\n",
       "    </tr>\n",
       "    <tr>\n",
       "      <th>1</th>\n",
       "      <td>6</td>\n",
       "      <td>14</td>\n",
       "      <td>0.953846</td>\n",
       "    </tr>\n",
       "    <tr>\n",
       "      <th>2</th>\n",
       "      <td>24</td>\n",
       "      <td>15</td>\n",
       "      <td>0.942247</td>\n",
       "    </tr>\n",
       "    <tr>\n",
       "      <th>3</th>\n",
       "      <td>49</td>\n",
       "      <td>5</td>\n",
       "      <td>0.937762</td>\n",
       "    </tr>\n",
       "    <tr>\n",
       "      <th>4</th>\n",
       "      <td>37</td>\n",
       "      <td>7</td>\n",
       "      <td>0.936358</td>\n",
       "    </tr>\n",
       "    <tr>\n",
       "      <th>...</th>\n",
       "      <td>...</td>\n",
       "      <td>...</td>\n",
       "      <td>...</td>\n",
       "    </tr>\n",
       "    <tr>\n",
       "      <th>2915</th>\n",
       "      <td>36</td>\n",
       "      <td>8</td>\n",
       "      <td>0.150773</td>\n",
       "    </tr>\n",
       "    <tr>\n",
       "      <th>2916</th>\n",
       "      <td>35</td>\n",
       "      <td>10</td>\n",
       "      <td>0.148426</td>\n",
       "    </tr>\n",
       "    <tr>\n",
       "      <th>2917</th>\n",
       "      <td>42</td>\n",
       "      <td>10</td>\n",
       "      <td>0.103134</td>\n",
       "    </tr>\n",
       "    <tr>\n",
       "      <th>2918</th>\n",
       "      <td>72</td>\n",
       "      <td>10</td>\n",
       "      <td>0.095586</td>\n",
       "    </tr>\n",
       "    <tr>\n",
       "      <th>2919</th>\n",
       "      <td>36</td>\n",
       "      <td>10</td>\n",
       "      <td>0.072196</td>\n",
       "    </tr>\n",
       "  </tbody>\n",
       "</table>\n",
       "<p>2920 rows × 3 columns</p>\n",
       "</div>"
      ],
      "text/plain": [
       "      R1  R2  cosine similarity\n",
       "0      2  18           0.957578\n",
       "1      6  14           0.953846\n",
       "2     24  15           0.942247\n",
       "3     49   5           0.937762\n",
       "4     37   7           0.936358\n",
       "...   ..  ..                ...\n",
       "2915  36   8           0.150773\n",
       "2916  35  10           0.148426\n",
       "2917  42  10           0.103134\n",
       "2918  72  10           0.095586\n",
       "2919  36  10           0.072196\n",
       "\n",
       "[2920 rows x 3 columns]"
      ]
     },
     "execution_count": 4,
     "metadata": {},
     "output_type": "execute_result"
    }
   ],
   "source": [
    "compared_rows = compare_embeddings_of(stadium_df, pl1_df, tabenc, on='rows', add_label=True)\n",
    "compared_rows"
   ]
  },
  {
   "cell_type": "code",
   "execution_count": 5,
   "metadata": {},
   "outputs": [
    {
     "name": "stdout",
     "output_type": "stream",
     "text": [
      "#0: 0.95757831064105\n",
      "\t2: London Stadium Stratford, London West Ham United Premier League\n",
      "\t18: West Ham United London (Stratford) London Stadium\n",
      "\n",
      "#1: 0.9538456969603144\n",
      "\t6: St James' Park Newcastle upon Tyne Newcastle United Premier League\n",
      "\t14: Newcastle United Newcastle upon Tyne St James' Park\n",
      "\n",
      "#2: 0.9422470237023344\n",
      "\t24: City Ground West Bridgford Nottingham Forest Premier League\n",
      "\t15: Nottingham Forest West Bridgford City Ground\n",
      "\n",
      "#3: 0.9377619309247218\n",
      "\t49: Turf Moor Burnley Burnley Premier League\n",
      "\t5: Burnley Burnley Turf Moor\n",
      "\n",
      "#4: 0.9363581561292945\n",
      "\t37: Selhurst Park Selhurst, London Crystal Palace Premier League\n",
      "\t7: Crystal Palace London (Selhurst) Selhurst Park\n",
      "\n"
     ]
    }
   ],
   "source": [
    "show_most_similar_rows(compared_rows, stadium_df, pl1_df, 5)"
   ]
  },
  {
   "cell_type": "code",
   "execution_count": null,
   "metadata": {},
   "outputs": [],
   "source": []
  }
 ],
 "metadata": {
  "kernelspec": {
   "display_name": "chroma",
   "language": "python",
   "name": "python3"
  },
  "language_info": {
   "codemirror_mode": {
    "name": "ipython",
    "version": 3
   },
   "file_extension": ".py",
   "mimetype": "text/x-python",
   "name": "python",
   "nbconvert_exporter": "python",
   "pygments_lexer": "ipython3",
   "version": "3.10.12"
  }
 },
 "nbformat": 4,
 "nbformat_minor": 2
}
