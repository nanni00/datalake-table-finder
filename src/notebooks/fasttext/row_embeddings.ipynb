{
 "cells": [
  {
   "cell_type": "code",
   "execution_count": 1,
   "metadata": {},
   "outputs": [],
   "source": [
    "import pandas as pd\n",
    "\n",
    "from code.fasttext.embedding_utils import TableEncoder, compare_embeddings_of, show_most_similar_rows"
   ]
  },
  {
   "cell_type": "markdown",
   "metadata": {},
   "source": [
    "## Computing row embedding - only known categorical columns"
   ]
  },
  {
   "cell_type": "code",
   "execution_count": 2,
   "metadata": {},
   "outputs": [],
   "source": [
    "tabenc = TableEncoder()"
   ]
  },
  {
   "cell_type": "code",
   "execution_count": 3,
   "metadata": {},
   "outputs": [],
   "source": [
    "stadium_df = pd.read_csv(\n",
    "    '/home/giovanni/unimore/TESI/src/data/uk_football/List_of_football_stadiums_in_England_1.csv'\n",
    "    ).drop(['Rank\\n(England only)', 'Image', 'Capacity'], axis=1).dropna(ignore_index=True)\n",
    "\n",
    "pl1_df = pd.read_csv(\n",
    "    '/home/giovanni/unimore/TESI/src/data/uk_football/Premier_League_1.csv'\n",
    "    ).drop('Capacity', axis=1).dropna(ignore_index=True)"
   ]
  },
  {
   "cell_type": "code",
   "execution_count": 4,
   "metadata": {},
   "outputs": [
    {
     "data": {
      "text/html": [
       "<div>\n",
       "<style scoped>\n",
       "    .dataframe tbody tr th:only-of-type {\n",
       "        vertical-align: middle;\n",
       "    }\n",
       "\n",
       "    .dataframe tbody tr th {\n",
       "        vertical-align: top;\n",
       "    }\n",
       "\n",
       "    .dataframe thead th {\n",
       "        text-align: right;\n",
       "    }\n",
       "</style>\n",
       "<table border=\"1\" class=\"dataframe\">\n",
       "  <thead>\n",
       "    <tr style=\"text-align: right;\">\n",
       "      <th></th>\n",
       "      <th>Stadium</th>\n",
       "      <th>Town / City</th>\n",
       "      <th>Team</th>\n",
       "      <th>League</th>\n",
       "    </tr>\n",
       "  </thead>\n",
       "  <tbody>\n",
       "    <tr>\n",
       "      <th>0</th>\n",
       "      <td>Old Trafford</td>\n",
       "      <td>Old Trafford, Greater Manchester</td>\n",
       "      <td>Manchester United</td>\n",
       "      <td>Premier League</td>\n",
       "    </tr>\n",
       "    <tr>\n",
       "      <th>1</th>\n",
       "      <td>Tottenham Hotspur Stadium</td>\n",
       "      <td>Tottenham, London</td>\n",
       "      <td>Tottenham Hotspur</td>\n",
       "      <td>Premier League</td>\n",
       "    </tr>\n",
       "    <tr>\n",
       "      <th>2</th>\n",
       "      <td>London Stadium</td>\n",
       "      <td>Stratford, London</td>\n",
       "      <td>West Ham United</td>\n",
       "      <td>Premier League</td>\n",
       "    </tr>\n",
       "    <tr>\n",
       "      <th>3</th>\n",
       "      <td>Anfield</td>\n",
       "      <td>Anfield, Liverpool</td>\n",
       "      <td>Liverpool</td>\n",
       "      <td>Premier League</td>\n",
       "    </tr>\n",
       "    <tr>\n",
       "      <th>4</th>\n",
       "      <td>Emirates Stadium</td>\n",
       "      <td>Holloway, London</td>\n",
       "      <td>Arsenal</td>\n",
       "      <td>Premier League</td>\n",
       "    </tr>\n",
       "  </tbody>\n",
       "</table>\n",
       "</div>"
      ],
      "text/plain": [
       "                     Stadium                       Town / City  \\\n",
       "0               Old Trafford  Old Trafford, Greater Manchester   \n",
       "1  Tottenham Hotspur Stadium                 Tottenham, London   \n",
       "2             London Stadium                 Stratford, London   \n",
       "3                    Anfield                Anfield, Liverpool   \n",
       "4           Emirates Stadium                  Holloway, London   \n",
       "\n",
       "                Team          League  \n",
       "0  Manchester United  Premier League  \n",
       "1  Tottenham Hotspur  Premier League  \n",
       "2    West Ham United  Premier League  \n",
       "3          Liverpool  Premier League  \n",
       "4            Arsenal  Premier League  "
      ]
     },
     "execution_count": 4,
     "metadata": {},
     "output_type": "execute_result"
    }
   ],
   "source": [
    "stadium_df.head()"
   ]
  },
  {
   "cell_type": "code",
   "execution_count": 5,
   "metadata": {},
   "outputs": [
    {
     "data": {
      "text/html": [
       "<div>\n",
       "<style scoped>\n",
       "    .dataframe tbody tr th:only-of-type {\n",
       "        vertical-align: middle;\n",
       "    }\n",
       "\n",
       "    .dataframe tbody tr th {\n",
       "        vertical-align: top;\n",
       "    }\n",
       "\n",
       "    .dataframe thead th {\n",
       "        text-align: right;\n",
       "    }\n",
       "</style>\n",
       "<table border=\"1\" class=\"dataframe\">\n",
       "  <thead>\n",
       "    <tr style=\"text-align: right;\">\n",
       "      <th></th>\n",
       "      <th>Team</th>\n",
       "      <th>Location</th>\n",
       "      <th>Stadium</th>\n",
       "    </tr>\n",
       "  </thead>\n",
       "  <tbody>\n",
       "    <tr>\n",
       "      <th>0</th>\n",
       "      <td>Arsenal</td>\n",
       "      <td>London (Holloway)</td>\n",
       "      <td>Emirates Stadium</td>\n",
       "    </tr>\n",
       "    <tr>\n",
       "      <th>1</th>\n",
       "      <td>Aston Villa</td>\n",
       "      <td>Birmingham</td>\n",
       "      <td>Villa Park</td>\n",
       "    </tr>\n",
       "    <tr>\n",
       "      <th>2</th>\n",
       "      <td>Bournemouth</td>\n",
       "      <td>Bournemouth</td>\n",
       "      <td>Vitality Stadium</td>\n",
       "    </tr>\n",
       "    <tr>\n",
       "      <th>3</th>\n",
       "      <td>Brentford</td>\n",
       "      <td>London (Brentford)</td>\n",
       "      <td>Gtech Community Stadium</td>\n",
       "    </tr>\n",
       "    <tr>\n",
       "      <th>4</th>\n",
       "      <td>Brighton &amp; Hove Albion</td>\n",
       "      <td>Brighton</td>\n",
       "      <td>American Express Stadium</td>\n",
       "    </tr>\n",
       "  </tbody>\n",
       "</table>\n",
       "</div>"
      ],
      "text/plain": [
       "                     Team            Location                   Stadium\n",
       "0                 Arsenal   London (Holloway)          Emirates Stadium\n",
       "1             Aston Villa          Birmingham                Villa Park\n",
       "2             Bournemouth         Bournemouth          Vitality Stadium\n",
       "3               Brentford  London (Brentford)   Gtech Community Stadium\n",
       "4  Brighton & Hove Albion            Brighton  American Express Stadium"
      ]
     },
     "execution_count": 5,
     "metadata": {},
     "output_type": "execute_result"
    }
   ],
   "source": [
    "pl1_df.head()"
   ]
  },
  {
   "cell_type": "markdown",
   "metadata": {},
   "source": [
    "### No label input in embedding creation"
   ]
  },
  {
   "cell_type": "code",
   "execution_count": 6,
   "metadata": {},
   "outputs": [
    {
     "data": {
      "text/plain": [
       "Stadium        Tottenham Hotspur Stadium\n",
       "Town / City            Tottenham, London\n",
       "Team                   Tottenham Hotspur\n",
       "League                    Premier League\n",
       "Name: 1, dtype: object"
      ]
     },
     "execution_count": 6,
     "metadata": {},
     "output_type": "execute_result"
    }
   ],
   "source": [
    "row = stadium_df.loc[1]\n",
    "row"
   ]
  },
  {
   "cell_type": "code",
   "execution_count": 7,
   "metadata": {},
   "outputs": [
    {
     "name": "stdout",
     "output_type": "stream",
     "text": [
      "Old Trafford\n",
      "Old Trafford, Greater Manchester\n",
      "Manchester United\n",
      "Premier League\n",
      "\n",
      "Tottenham Hotspur Stadium\n",
      "Tottenham, London\n",
      "Tottenham Hotspur\n",
      "Premier League\n",
      "\n",
      "London Stadium\n",
      "Stratford, London\n",
      "West Ham United\n",
      "Premier League\n",
      "\n"
     ]
    }
   ],
   "source": [
    "for idx, row in stadium_df.head(3).iterrows():\n",
    "    for cell in row:\n",
    "        print(cell)\n",
    "    print()"
   ]
  },
  {
   "cell_type": "code",
   "execution_count": 8,
   "metadata": {},
   "outputs": [],
   "source": [
    "comparison_rows = compare_embeddings_of(stadium_df, pl1_df, tabenc, False, True)"
   ]
  },
  {
   "cell_type": "code",
   "execution_count": 9,
   "metadata": {},
   "outputs": [
    {
     "name": "stdout",
     "output_type": "stream",
     "text": [
      "#0: 0.9979841291826658\n",
      "\t19: Bramall Lane Sheffield Sheffield United Premier League\n",
      "\t16: Sheffield United Sheffield Bramall Lane\n",
      "\n",
      "#1: 0.997338704988714\n",
      "\t3: Anfield Anfield, Liverpool Liverpool Premier League\n",
      "\t10: Liverpool Liverpool (Anfield) Anfield\n",
      "\n",
      "#2: 0.9971854556226278\n",
      "\t49: Turf Moor Burnley Burnley Premier League\n",
      "\t5: Burnley Burnley Turf Moor\n",
      "\n",
      "#3: 0.9968611565221516\n",
      "\t9: Stamford Bridge Fulham, London Chelsea Premier League\n",
      "\t6: Chelsea London (Fulham) Stamford Bridge\n",
      "\n",
      "#4: 0.9965761043608271\n",
      "\t6: St James' Park Newcastle upon Tyne Newcastle United Premier League\n",
      "\t14: Newcastle United Newcastle upon Tyne St James' Park\n",
      "\n"
     ]
    }
   ],
   "source": [
    "show_most_similar_rows(comparison_rows, stadium_df, pl1_df)"
   ]
  },
  {
   "cell_type": "markdown",
   "metadata": {},
   "source": [
    "## Comparing row embeddings with complete dataframes"
   ]
  },
  {
   "cell_type": "code",
   "execution_count": 10,
   "metadata": {},
   "outputs": [],
   "source": [
    "stadium_df = pd.read_csv(\n",
    "    '/home/giovanni/unimore/TESI/src/data/uk_football/List_of_football_stadiums_in_England_1.csv'\n",
    "    )\n",
    "\n",
    "pl1_df = pd.read_csv(\n",
    "    '/home/giovanni/unimore/TESI/src/data/uk_football/Premier_League_1.csv'\n",
    "    )"
   ]
  },
  {
   "cell_type": "code",
   "execution_count": 11,
   "metadata": {},
   "outputs": [
    {
     "data": {
      "text/html": [
       "<div>\n",
       "<style scoped>\n",
       "    .dataframe tbody tr th:only-of-type {\n",
       "        vertical-align: middle;\n",
       "    }\n",
       "\n",
       "    .dataframe tbody tr th {\n",
       "        vertical-align: top;\n",
       "    }\n",
       "\n",
       "    .dataframe thead th {\n",
       "        text-align: right;\n",
       "    }\n",
       "</style>\n",
       "<table border=\"1\" class=\"dataframe\">\n",
       "  <thead>\n",
       "    <tr style=\"text-align: right;\">\n",
       "      <th></th>\n",
       "      <th>Rank\\n(England only)</th>\n",
       "      <th>Stadium</th>\n",
       "      <th>Town / City</th>\n",
       "      <th>Capacity</th>\n",
       "      <th>Team</th>\n",
       "      <th>League</th>\n",
       "      <th>Image</th>\n",
       "    </tr>\n",
       "  </thead>\n",
       "  <tbody>\n",
       "    <tr>\n",
       "      <th>0</th>\n",
       "      <td>1.0</td>\n",
       "      <td>Wembley Stadium</td>\n",
       "      <td>Wembley, London</td>\n",
       "      <td>90,000</td>\n",
       "      <td>England (Men's, women's and youth)</td>\n",
       "      <td>NaN</td>\n",
       "      <td>NaN</td>\n",
       "    </tr>\n",
       "    <tr>\n",
       "      <th>1</th>\n",
       "      <td>2.0</td>\n",
       "      <td>Old Trafford</td>\n",
       "      <td>Old Trafford, Greater Manchester</td>\n",
       "      <td>74,031</td>\n",
       "      <td>Manchester United</td>\n",
       "      <td>Premier League</td>\n",
       "      <td>NaN</td>\n",
       "    </tr>\n",
       "    <tr>\n",
       "      <th>2</th>\n",
       "      <td>3.0</td>\n",
       "      <td>Tottenham Hotspur Stadium</td>\n",
       "      <td>Tottenham, London</td>\n",
       "      <td>62,850</td>\n",
       "      <td>Tottenham Hotspur</td>\n",
       "      <td>Premier League</td>\n",
       "      <td>NaN</td>\n",
       "    </tr>\n",
       "    <tr>\n",
       "      <th>3</th>\n",
       "      <td>4.0</td>\n",
       "      <td>London Stadium</td>\n",
       "      <td>Stratford, London</td>\n",
       "      <td>62,500</td>\n",
       "      <td>West Ham United</td>\n",
       "      <td>Premier League</td>\n",
       "      <td>NaN</td>\n",
       "    </tr>\n",
       "    <tr>\n",
       "      <th>4</th>\n",
       "      <td>5.0</td>\n",
       "      <td>Anfield</td>\n",
       "      <td>Anfield, Liverpool</td>\n",
       "      <td>61,276</td>\n",
       "      <td>Liverpool</td>\n",
       "      <td>Premier League</td>\n",
       "      <td>NaN</td>\n",
       "    </tr>\n",
       "  </tbody>\n",
       "</table>\n",
       "</div>"
      ],
      "text/plain": [
       "   Rank\\n(England only)                    Stadium  \\\n",
       "0                   1.0            Wembley Stadium   \n",
       "1                   2.0               Old Trafford   \n",
       "2                   3.0  Tottenham Hotspur Stadium   \n",
       "3                   4.0             London Stadium   \n",
       "4                   5.0                    Anfield   \n",
       "\n",
       "                        Town / City Capacity  \\\n",
       "0                   Wembley, London   90,000   \n",
       "1  Old Trafford, Greater Manchester   74,031   \n",
       "2                 Tottenham, London   62,850   \n",
       "3                 Stratford, London   62,500   \n",
       "4                Anfield, Liverpool   61,276   \n",
       "\n",
       "                                 Team          League  Image  \n",
       "0  England (Men's, women's and youth)             NaN    NaN  \n",
       "1                   Manchester United  Premier League    NaN  \n",
       "2                   Tottenham Hotspur  Premier League    NaN  \n",
       "3                     West Ham United  Premier League    NaN  \n",
       "4                           Liverpool  Premier League    NaN  "
      ]
     },
     "execution_count": 11,
     "metadata": {},
     "output_type": "execute_result"
    }
   ],
   "source": [
    "stadium_df.head()"
   ]
  },
  {
   "cell_type": "code",
   "execution_count": 12,
   "metadata": {},
   "outputs": [
    {
     "data": {
      "text/html": [
       "<div>\n",
       "<style scoped>\n",
       "    .dataframe tbody tr th:only-of-type {\n",
       "        vertical-align: middle;\n",
       "    }\n",
       "\n",
       "    .dataframe tbody tr th {\n",
       "        vertical-align: top;\n",
       "    }\n",
       "\n",
       "    .dataframe thead th {\n",
       "        text-align: right;\n",
       "    }\n",
       "</style>\n",
       "<table border=\"1\" class=\"dataframe\">\n",
       "  <thead>\n",
       "    <tr style=\"text-align: right;\">\n",
       "      <th></th>\n",
       "      <th>Team</th>\n",
       "      <th>Location</th>\n",
       "      <th>Stadium</th>\n",
       "      <th>Capacity</th>\n",
       "    </tr>\n",
       "  </thead>\n",
       "  <tbody>\n",
       "    <tr>\n",
       "      <th>0</th>\n",
       "      <td>Arsenal</td>\n",
       "      <td>London (Holloway)</td>\n",
       "      <td>Emirates Stadium</td>\n",
       "      <td>60,704</td>\n",
       "    </tr>\n",
       "    <tr>\n",
       "      <th>1</th>\n",
       "      <td>Aston Villa</td>\n",
       "      <td>Birmingham</td>\n",
       "      <td>Villa Park</td>\n",
       "      <td>42,657</td>\n",
       "    </tr>\n",
       "    <tr>\n",
       "      <th>2</th>\n",
       "      <td>Bournemouth</td>\n",
       "      <td>Bournemouth</td>\n",
       "      <td>Vitality Stadium</td>\n",
       "      <td>11,307</td>\n",
       "    </tr>\n",
       "    <tr>\n",
       "      <th>3</th>\n",
       "      <td>Brentford</td>\n",
       "      <td>London (Brentford)</td>\n",
       "      <td>Gtech Community Stadium</td>\n",
       "      <td>17,250</td>\n",
       "    </tr>\n",
       "    <tr>\n",
       "      <th>4</th>\n",
       "      <td>Brighton &amp; Hove Albion</td>\n",
       "      <td>Brighton</td>\n",
       "      <td>American Express Stadium</td>\n",
       "      <td>31,876</td>\n",
       "    </tr>\n",
       "  </tbody>\n",
       "</table>\n",
       "</div>"
      ],
      "text/plain": [
       "                     Team            Location                   Stadium  \\\n",
       "0                 Arsenal   London (Holloway)          Emirates Stadium   \n",
       "1             Aston Villa          Birmingham                Villa Park   \n",
       "2             Bournemouth         Bournemouth          Vitality Stadium   \n",
       "3               Brentford  London (Brentford)   Gtech Community Stadium   \n",
       "4  Brighton & Hove Albion            Brighton  American Express Stadium   \n",
       "\n",
       "  Capacity  \n",
       "0   60,704  \n",
       "1   42,657  \n",
       "2   11,307  \n",
       "3   17,250  \n",
       "4   31,876  "
      ]
     },
     "execution_count": 12,
     "metadata": {},
     "output_type": "execute_result"
    }
   ],
   "source": [
    "pl1_df.head()"
   ]
  },
  {
   "cell_type": "code",
   "execution_count": 13,
   "metadata": {},
   "outputs": [],
   "source": [
    "comparison_rows = compare_embeddings_of(stadium_df, pl1_df, tabenc, False, True)"
   ]
  },
  {
   "cell_type": "code",
   "execution_count": 14,
   "metadata": {},
   "outputs": [
    {
     "name": "stdout",
     "output_type": "stream",
     "text": [
      "#0: 0.9970643808660449\n",
      "\t20: 20.0 Bramall Lane Sheffield 32,050 Sheffield United Premier League nan\n",
      "\t16: Sheffield United Sheffield Bramall Lane 32,050\n",
      "\n",
      "#1: 0.996481330753703\n",
      "\t50: 44.0 Turf Moor Burnley 21,744 Burnley Premier League nan\n",
      "\t5: Burnley Burnley Turf Moor 21,944\n",
      "\n",
      "#2: 0.9960149821092582\n",
      "\t25: 24.0 City Ground West Bridgford 30,404 Nottingham Forest Premier League nan\n",
      "\t15: Nottingham Forest West Bridgford City Ground 30,404\n",
      "\n",
      "#3: 0.995936514528914\n",
      "\t4: 5.0 Anfield Anfield, Liverpool 61,276 Liverpool Premier League nan\n",
      "\t10: Liverpool Liverpool (Anfield) Anfield 61,276\n",
      "\n",
      "#4: 0.9953896916495484\n",
      "\t10: 11.0 Stamford Bridge Fulham, London 40,173 Chelsea Premier League nan\n",
      "\t6: Chelsea London (Fulham) Stamford Bridge 40,173\n",
      "\n"
     ]
    }
   ],
   "source": [
    "show_most_similar_rows(comparison_rows, stadium_df, pl1_df)"
   ]
  }
 ],
 "metadata": {
  "kernelspec": {
   "display_name": "chroma",
   "language": "python",
   "name": "python3"
  },
  "language_info": {
   "codemirror_mode": {
    "name": "ipython",
    "version": 3
   },
   "file_extension": ".py",
   "mimetype": "text/x-python",
   "name": "python",
   "nbconvert_exporter": "python",
   "pygments_lexer": "ipython3",
   "version": "3.10.12"
  }
 },
 "nbformat": 4,
 "nbformat_minor": 2
}
