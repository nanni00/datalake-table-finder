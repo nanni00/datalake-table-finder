{
 "cells": [
  {
   "cell_type": "code",
   "execution_count": 52,
   "metadata": {},
   "outputs": [],
   "source": [
    "import numpy as np\n",
    "import pandas as pd\n",
    "\n",
    "from code.fasttext.embedding_utils import TableEncoder"
   ]
  },
  {
   "cell_type": "code",
   "execution_count": 53,
   "metadata": {},
   "outputs": [],
   "source": [
    "tabenc = TableEncoder()"
   ]
  },
  {
   "cell_type": "code",
   "execution_count": 54,
   "metadata": {},
   "outputs": [
    {
     "data": {
      "text/html": [
       "<div>\n",
       "<style scoped>\n",
       "    .dataframe tbody tr th:only-of-type {\n",
       "        vertical-align: middle;\n",
       "    }\n",
       "\n",
       "    .dataframe tbody tr th {\n",
       "        vertical-align: top;\n",
       "    }\n",
       "\n",
       "    .dataframe thead th {\n",
       "        text-align: right;\n",
       "    }\n",
       "</style>\n",
       "<table border=\"1\" class=\"dataframe\">\n",
       "  <thead>\n",
       "    <tr style=\"text-align: right;\">\n",
       "      <th></th>\n",
       "      <th>Rank\\n(England only)</th>\n",
       "      <th>Stadium</th>\n",
       "      <th>Town / City</th>\n",
       "      <th>Capacity</th>\n",
       "      <th>Team</th>\n",
       "      <th>League</th>\n",
       "      <th>Image</th>\n",
       "    </tr>\n",
       "  </thead>\n",
       "  <tbody>\n",
       "    <tr>\n",
       "      <th>0</th>\n",
       "      <td>1.0</td>\n",
       "      <td>Wembley Stadium</td>\n",
       "      <td>Wembley, London</td>\n",
       "      <td>90,000</td>\n",
       "      <td>England (Men's, women's and youth)</td>\n",
       "      <td>NaN</td>\n",
       "      <td>NaN</td>\n",
       "    </tr>\n",
       "    <tr>\n",
       "      <th>1</th>\n",
       "      <td>2.0</td>\n",
       "      <td>Old Trafford</td>\n",
       "      <td>Old Trafford, Greater Manchester</td>\n",
       "      <td>74,031</td>\n",
       "      <td>Manchester United</td>\n",
       "      <td>Premier League</td>\n",
       "      <td>NaN</td>\n",
       "    </tr>\n",
       "    <tr>\n",
       "      <th>2</th>\n",
       "      <td>3.0</td>\n",
       "      <td>Tottenham Hotspur Stadium</td>\n",
       "      <td>Tottenham, London</td>\n",
       "      <td>62,850</td>\n",
       "      <td>Tottenham Hotspur</td>\n",
       "      <td>Premier League</td>\n",
       "      <td>NaN</td>\n",
       "    </tr>\n",
       "    <tr>\n",
       "      <th>3</th>\n",
       "      <td>4.0</td>\n",
       "      <td>London Stadium</td>\n",
       "      <td>Stratford, London</td>\n",
       "      <td>62,500</td>\n",
       "      <td>West Ham United</td>\n",
       "      <td>Premier League</td>\n",
       "      <td>NaN</td>\n",
       "    </tr>\n",
       "    <tr>\n",
       "      <th>4</th>\n",
       "      <td>5.0</td>\n",
       "      <td>Anfield</td>\n",
       "      <td>Anfield, Liverpool</td>\n",
       "      <td>61,276</td>\n",
       "      <td>Liverpool</td>\n",
       "      <td>Premier League</td>\n",
       "      <td>NaN</td>\n",
       "    </tr>\n",
       "  </tbody>\n",
       "</table>\n",
       "</div>"
      ],
      "text/plain": [
       "   Rank\\n(England only)                    Stadium  \\\n",
       "0                   1.0            Wembley Stadium   \n",
       "1                   2.0               Old Trafford   \n",
       "2                   3.0  Tottenham Hotspur Stadium   \n",
       "3                   4.0             London Stadium   \n",
       "4                   5.0                    Anfield   \n",
       "\n",
       "                        Town / City Capacity  \\\n",
       "0                   Wembley, London   90,000   \n",
       "1  Old Trafford, Greater Manchester   74,031   \n",
       "2                 Tottenham, London   62,850   \n",
       "3                 Stratford, London   62,500   \n",
       "4                Anfield, Liverpool   61,276   \n",
       "\n",
       "                                 Team          League  Image  \n",
       "0  England (Men's, women's and youth)             NaN    NaN  \n",
       "1                   Manchester United  Premier League    NaN  \n",
       "2                   Tottenham Hotspur  Premier League    NaN  \n",
       "3                     West Ham United  Premier League    NaN  \n",
       "4                           Liverpool  Premier League    NaN  "
      ]
     },
     "execution_count": 54,
     "metadata": {},
     "output_type": "execute_result"
    }
   ],
   "source": [
    "pl1_df = pd.read_csv(\n",
    "    '/home/giovanni/unimore/TESI/src/data/uk_football/List_of_football_stadiums_in_England_1.csv'\n",
    ")\n",
    "pl1_df.head()"
   ]
  },
  {
   "cell_type": "code",
   "execution_count": 58,
   "metadata": {},
   "outputs": [],
   "source": [
    "add_label =     False \n",
    "remove_numbers =   False\n",
    "\n",
    "row_emb, col_emb = tabenc.full_embedding(pl1_df, add_label, remove_numbers)"
   ]
  },
  {
   "cell_type": "code",
   "execution_count": 59,
   "metadata": {},
   "outputs": [
    {
     "data": {
      "text/plain": [
       "((147, 300), (7, 300))"
      ]
     },
     "execution_count": 59,
     "metadata": {},
     "output_type": "execute_result"
    }
   ],
   "source": [
    "row_emb.shape, col_emb.shape"
   ]
  },
  {
   "cell_type": "code",
   "execution_count": 60,
   "metadata": {},
   "outputs": [
    {
     "data": {
      "text/plain": [
       "(7, 300)"
      ]
     },
     "execution_count": 60,
     "metadata": {},
     "output_type": "execute_result"
    }
   ],
   "source": [
    "basic_col_emb = np.array(tabenc.create_column_embeddings(pl1_df, add_label, remove_numbers))\n",
    "basic_col_emb.shape"
   ]
  },
  {
   "cell_type": "code",
   "execution_count": 61,
   "metadata": {},
   "outputs": [
    {
     "data": {
      "text/plain": [
       "(147, 300)"
      ]
     },
     "execution_count": 61,
     "metadata": {},
     "output_type": "execute_result"
    }
   ],
   "source": [
    "basic_row_emb = np.array(tabenc.create_row_embeddings(pl1_df, add_label, remove_numbers))\n",
    "basic_row_emb.shape"
   ]
  },
  {
   "cell_type": "code",
   "execution_count": 62,
   "metadata": {},
   "outputs": [
    {
     "name": "stdout",
     "output_type": "stream",
     "text": [
      "0#: 1.0000000000000004\n",
      "1#: 1.0\n",
      "2#: 1.0\n",
      "3#: nan\n",
      "4#: 1.0000000000000002\n",
      "5#: 0.9999999999999998\n",
      "6#: 0.9999999999994396\n"
     ]
    }
   ],
   "source": [
    "from code.fasttext.embedding_utils import np_cosine_similarity\n",
    "\n",
    "for i in range(col_emb.shape[0]):\n",
    "    print(f'{i}#: {np_cosine_similarity(basic_col_emb[i], col_emb[i])}')"
   ]
  },
  {
   "cell_type": "code",
   "execution_count": 63,
   "metadata": {},
   "outputs": [
    {
     "name": "stdout",
     "output_type": "stream",
     "text": [
      "0#: 1.0000000000000002\n",
      "1#: 1.0000000000000004\n",
      "2#: 0.9999999999999999\n",
      "3#: 1.0\n",
      "4#: 1.0\n",
      "5#: 1.0\n",
      "6#: 0.9999999999999999\n",
      "7#: 1.0000000000000002\n",
      "8#: 0.9999999999999997\n",
      "9#: 1.0000000000000002\n",
      "10#: 0.9999999999999999\n",
      "11#: 1.0000000000000002\n",
      "12#: 0.9999999999999996\n",
      "13#: 1.0000000000000002\n",
      "14#: 0.9999999999999997\n",
      "15#: 0.9999999999999999\n",
      "16#: 1.0\n",
      "17#: 0.9999999999999998\n",
      "18#: 1.0000000000000002\n",
      "19#: 0.9999999999999999\n",
      "20#: 0.9999999999999997\n",
      "21#: 1.0\n",
      "22#: 1.0000000000000002\n",
      "23#: 0.9999999999999998\n",
      "24#: 0.9999999999999999\n",
      "25#: 0.9999999999999998\n",
      "26#: 0.9999999999999997\n",
      "27#: 1.0\n",
      "28#: 0.9999999999999999\n",
      "29#: 0.9999999999999998\n",
      "30#: 1.0000000000000002\n",
      "31#: 0.9999999999999996\n",
      "32#: 1.0000000000000002\n",
      "33#: 1.0\n",
      "34#: 0.9999999999999999\n",
      "35#: 0.9999999999999997\n",
      "36#: 1.0000000000000002\n",
      "37#: 1.0\n",
      "38#: 1.0000000000000002\n",
      "39#: 1.0000000000000004\n",
      "40#: 0.9999999999999998\n",
      "41#: 0.9999999999999998\n",
      "42#: 1.0000000000000002\n",
      "43#: 1.0000000000000004\n",
      "44#: 0.9999999999999998\n",
      "45#: 1.0000000000000002\n",
      "46#: 0.9999999999999999\n",
      "47#: 0.9999999999999998\n",
      "48#: 0.9999999999999999\n",
      "49#: 1.0\n",
      "50#: 1.0\n",
      "51#: 1.0000000000000004\n",
      "52#: 1.0000000000000002\n",
      "53#: 1.0\n",
      "54#: 1.0000000000000004\n",
      "55#: 1.0\n",
      "56#: 0.9999999999999999\n",
      "57#: 1.0000000000000002\n",
      "58#: 1.0\n",
      "59#: 0.9999999999999999\n",
      "60#: 1.0\n",
      "61#: 1.0\n",
      "62#: 0.9999999999999999\n",
      "63#: 1.0000000000000002\n",
      "64#: 0.9999999999999999\n",
      "65#: 0.9999999999999999\n",
      "66#: 0.9999999999999999\n",
      "67#: 1.0000000000000002\n",
      "68#: 0.9999999999999998\n",
      "69#: 1.0000000000000002\n",
      "70#: 0.9999999999999998\n",
      "71#: 1.0000000000000002\n",
      "72#: 0.9999999999999999\n",
      "73#: 1.0\n",
      "74#: 1.0\n",
      "75#: 1.0000000000000004\n",
      "76#: 1.0000000000000002\n",
      "77#: 1.0\n",
      "78#: 1.0000000000000004\n",
      "79#: 0.9999999999999998\n",
      "80#: 0.9999999999999997\n",
      "81#: 0.9999999999999998\n",
      "82#: 1.0000000000000002\n",
      "83#: 0.9999999999999998\n",
      "84#: 1.0\n",
      "85#: 0.9999999999999994\n",
      "86#: 1.0\n",
      "87#: 1.0000000000000002\n",
      "88#: 0.9999999999999997\n",
      "89#: 0.9999999999999998\n",
      "90#: 1.0\n",
      "91#: 1.0\n",
      "92#: 0.9999999999999997\n",
      "93#: 1.0000000000000002\n",
      "94#: 1.0\n",
      "95#: 1.0000000000000002\n",
      "96#: 0.9999999999999999\n",
      "97#: 1.0000000000000002\n",
      "98#: 0.9999999999999997\n",
      "99#: 0.9999999999999998\n",
      "100#: 1.0000000000000004\n",
      "101#: 1.0\n",
      "102#: 1.0000000000000002\n",
      "103#: 0.9999999999999998\n",
      "104#: 1.0\n",
      "105#: 1.0\n",
      "106#: 1.0\n",
      "107#: 0.9999999999999998\n",
      "108#: 0.9999999999999998\n",
      "109#: 1.0\n",
      "110#: 0.9999999999999996\n",
      "111#: 1.0000000000000002\n",
      "112#: 0.9999999999999998\n",
      "113#: 0.9999999999999998\n",
      "114#: 1.0000000000000002\n",
      "115#: 0.9999999999999998\n",
      "116#: 1.0000000000000002\n",
      "117#: 1.0000000000000002\n",
      "118#: 0.9999999999999997\n",
      "119#: 1.0000000000000002\n",
      "120#: 1.0\n",
      "121#: 1.0\n",
      "122#: 1.0000000000000004\n",
      "123#: 1.0000000000000002\n",
      "124#: 1.0000000000000002\n",
      "125#: 1.0\n",
      "126#: 1.0000000000000002\n",
      "127#: 0.9999999999999996\n",
      "128#: 0.9999999999999997\n",
      "129#: 0.9999999999999998\n",
      "130#: 1.0000000000000002\n",
      "131#: 1.0000000000000002\n",
      "132#: 0.9999999999999999\n",
      "133#: 0.9999999999999999\n",
      "134#: 0.9999999999999997\n",
      "135#: 1.0\n",
      "136#: 0.9999999999999998\n",
      "137#: 1.0000000000000002\n",
      "138#: 1.0\n",
      "139#: 1.0\n",
      "140#: 1.0\n",
      "141#: 1.0000000000000002\n",
      "142#: 1.0000000000000002\n",
      "143#: 1.0\n",
      "144#: 1.0000000000000002\n",
      "145#: 1.0000000000000004\n",
      "146#: 1.0\n"
     ]
    }
   ],
   "source": [
    "for i in range(row_emb.shape[0]):\n",
    "    print(f'{i}#: {np_cosine_similarity(basic_row_emb[i], row_emb[i])}')"
   ]
  },
  {
   "cell_type": "code",
   "execution_count": null,
   "metadata": {},
   "outputs": [],
   "source": []
  }
 ],
 "metadata": {
  "kernelspec": {
   "display_name": "chroma",
   "language": "python",
   "name": "python3"
  },
  "language_info": {
   "codemirror_mode": {
    "name": "ipython",
    "version": 3
   },
   "file_extension": ".py",
   "mimetype": "text/x-python",
   "name": "python",
   "nbconvert_exporter": "python",
   "pygments_lexer": "ipython3",
   "version": "3.10.12"
  }
 },
 "nbformat": 4,
 "nbformat_minor": 2
}
