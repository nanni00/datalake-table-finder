{
 "cells": [
  {
   "cell_type": "code",
   "execution_count": 99,
   "metadata": {},
   "outputs": [],
   "source": [
    "import re\n",
    "import numpy as np\n",
    "import pandas as pd"
   ]
  },
  {
   "cell_type": "code",
   "execution_count": 100,
   "metadata": {},
   "outputs": [],
   "source": [
    "import compress_fasttext\n",
    "import fasttext"
   ]
  },
  {
   "cell_type": "code",
   "execution_count": 101,
   "metadata": {},
   "outputs": [],
   "source": [
    "model = compress_fasttext.models.CompressedFastTextKeyedVectors.load(\n",
    "    '/home/giovanni/unimore/TESI/src/models/fastText/cc.en.300.compressed.bin'\n",
    ")"
   ]
  },
  {
   "cell_type": "code",
   "execution_count": 102,
   "metadata": {},
   "outputs": [
    {
     "data": {
      "text/plain": [
       "[\"That's\", 'my', 'first', 'trial', 'with', 'fasttext;', 'it\\\\s', 'tricky!']"
      ]
     },
     "execution_count": 102,
     "metadata": {},
     "output_type": "execute_result"
    }
   ],
   "source": [
    "tokenization = fasttext.FastText.tokenize('That\\'s my first trial with fasttext; it\\s tricky!')\n",
    "tokenization"
   ]
  },
  {
   "cell_type": "markdown",
   "metadata": {},
   "source": [
    "# Embedding a Table"
   ]
  },
  {
   "cell_type": "markdown",
   "metadata": {},
   "source": [
    "Now we try to embed every column of a single table:\n",
    "\n",
    "through fastText, for every cell in a categorical column, we'll compute a tokenization and then a vectorization of the cell.\n",
    "\n",
    "> cell --> token sequence --> token vector sequence --> cell vector"
   ]
  },
  {
   "cell_type": "code",
   "execution_count": 126,
   "metadata": {},
   "outputs": [],
   "source": [
    "def my_tokenizer(s: str):\n",
    "    return [re.sub('[^a-z]+', '', x) for x in s.lower().split()]"
   ]
  },
  {
   "cell_type": "code",
   "execution_count": 127,
   "metadata": {},
   "outputs": [],
   "source": [
    "def compute_column_embeddings(df: pd.DataFrame):\n",
    "    return \\\n",
    "        (\n",
    "            np.mean( \n",
    "                np.array( \n",
    "                    [\n",
    "                        np.sum( \n",
    "                            [model.get_vector(token) for token in cell], # compute cell embedding\n",
    "                            axis=0)\n",
    "                        for cell in df[column].apply(my_tokenizer)  # compute column embedding\n",
    "                    ]\n",
    "                ),\n",
    "                axis=0\n",
    "            ) \n",
    "        for column in df.columns\n",
    "        )"
   ]
  },
  {
   "cell_type": "markdown",
   "metadata": {},
   "source": [
    "### Comparing embeddings from UK football datasets - only categorical columns"
   ]
  },
  {
   "cell_type": "code",
   "execution_count": 120,
   "metadata": {},
   "outputs": [],
   "source": [
    "stadium_df = pd.read_csv(\n",
    "    '/home/giovanni/unimore/TESI/src/data/uk_football/List_of_football_stadiums_in_England_1.csv'\n",
    "    ).drop(['Rank\\n(England only)', 'Image', 'Capacity'], axis=1).dropna()\n",
    "\n",
    "pl1_df = pd.read_csv(\n",
    "    '/home/giovanni/unimore/TESI/src/data/uk_football/Premier_League_1.csv'\n",
    ").drop('Capacity', axis=1).dropna()"
   ]
  },
  {
   "cell_type": "code",
   "execution_count": 118,
   "metadata": {},
   "outputs": [
    {
     "name": "stdout",
     "output_type": "stream",
     "text": [
      "<class 'pandas.core.frame.DataFrame'>\n",
      "Index: 146 entries, 1 to 146\n",
      "Data columns (total 4 columns):\n",
      " #   Column       Non-Null Count  Dtype \n",
      "---  ------       --------------  ----- \n",
      " 0   Stadium      146 non-null    object\n",
      " 1   Town / City  146 non-null    object\n",
      " 2   Team         146 non-null    object\n",
      " 3   League       146 non-null    object\n",
      "dtypes: object(4)\n",
      "memory usage: 5.7+ KB\n"
     ]
    }
   ],
   "source": [
    "stadium_df.info()"
   ]
  },
  {
   "cell_type": "code",
   "execution_count": 105,
   "metadata": {},
   "outputs": [
    {
     "data": {
      "text/html": [
       "<div>\n",
       "<style scoped>\n",
       "    .dataframe tbody tr th:only-of-type {\n",
       "        vertical-align: middle;\n",
       "    }\n",
       "\n",
       "    .dataframe tbody tr th {\n",
       "        vertical-align: top;\n",
       "    }\n",
       "\n",
       "    .dataframe thead th {\n",
       "        text-align: right;\n",
       "    }\n",
       "</style>\n",
       "<table border=\"1\" class=\"dataframe\">\n",
       "  <thead>\n",
       "    <tr style=\"text-align: right;\">\n",
       "      <th></th>\n",
       "      <th>Stadium</th>\n",
       "      <th>Town / City</th>\n",
       "      <th>Team</th>\n",
       "      <th>League</th>\n",
       "    </tr>\n",
       "  </thead>\n",
       "  <tbody>\n",
       "    <tr>\n",
       "      <th>0</th>\n",
       "      <td>Wembley Stadium</td>\n",
       "      <td>Wembley, London</td>\n",
       "      <td>England (Men's, women's and youth)</td>\n",
       "      <td>NaN</td>\n",
       "    </tr>\n",
       "    <tr>\n",
       "      <th>1</th>\n",
       "      <td>Old Trafford</td>\n",
       "      <td>Old Trafford, Greater Manchester</td>\n",
       "      <td>Manchester United</td>\n",
       "      <td>Premier League</td>\n",
       "    </tr>\n",
       "    <tr>\n",
       "      <th>2</th>\n",
       "      <td>Tottenham Hotspur Stadium</td>\n",
       "      <td>Tottenham, London</td>\n",
       "      <td>Tottenham Hotspur</td>\n",
       "      <td>Premier League</td>\n",
       "    </tr>\n",
       "    <tr>\n",
       "      <th>3</th>\n",
       "      <td>London Stadium</td>\n",
       "      <td>Stratford, London</td>\n",
       "      <td>West Ham United</td>\n",
       "      <td>Premier League</td>\n",
       "    </tr>\n",
       "    <tr>\n",
       "      <th>4</th>\n",
       "      <td>Anfield</td>\n",
       "      <td>Anfield, Liverpool</td>\n",
       "      <td>Liverpool</td>\n",
       "      <td>Premier League</td>\n",
       "    </tr>\n",
       "  </tbody>\n",
       "</table>\n",
       "</div>"
      ],
      "text/plain": [
       "                     Stadium                       Town / City  \\\n",
       "0            Wembley Stadium                   Wembley, London   \n",
       "1               Old Trafford  Old Trafford, Greater Manchester   \n",
       "2  Tottenham Hotspur Stadium                 Tottenham, London   \n",
       "3             London Stadium                 Stratford, London   \n",
       "4                    Anfield                Anfield, Liverpool   \n",
       "\n",
       "                                 Team          League  \n",
       "0  England (Men's, women's and youth)             NaN  \n",
       "1                   Manchester United  Premier League  \n",
       "2                   Tottenham Hotspur  Premier League  \n",
       "3                     West Ham United  Premier League  \n",
       "4                           Liverpool  Premier League  "
      ]
     },
     "execution_count": 105,
     "metadata": {},
     "output_type": "execute_result"
    }
   ],
   "source": [
    "stadium_df.head()"
   ]
  },
  {
   "cell_type": "code",
   "execution_count": 121,
   "metadata": {},
   "outputs": [
    {
     "name": "stdout",
     "output_type": "stream",
     "text": [
      "<class 'pandas.core.frame.DataFrame'>\n",
      "RangeIndex: 20 entries, 0 to 19\n",
      "Data columns (total 3 columns):\n",
      " #   Column    Non-Null Count  Dtype \n",
      "---  ------    --------------  ----- \n",
      " 0   Team      20 non-null     object\n",
      " 1   Location  20 non-null     object\n",
      " 2   Stadium   20 non-null     object\n",
      "dtypes: object(3)\n",
      "memory usage: 608.0+ bytes\n"
     ]
    }
   ],
   "source": [
    "pl1_df.info()"
   ]
  },
  {
   "cell_type": "code",
   "execution_count": 123,
   "metadata": {},
   "outputs": [
    {
     "data": {
      "text/html": [
       "<div>\n",
       "<style scoped>\n",
       "    .dataframe tbody tr th:only-of-type {\n",
       "        vertical-align: middle;\n",
       "    }\n",
       "\n",
       "    .dataframe tbody tr th {\n",
       "        vertical-align: top;\n",
       "    }\n",
       "\n",
       "    .dataframe thead th {\n",
       "        text-align: right;\n",
       "    }\n",
       "</style>\n",
       "<table border=\"1\" class=\"dataframe\">\n",
       "  <thead>\n",
       "    <tr style=\"text-align: right;\">\n",
       "      <th></th>\n",
       "      <th>Team</th>\n",
       "      <th>Location</th>\n",
       "      <th>Stadium</th>\n",
       "    </tr>\n",
       "  </thead>\n",
       "  <tbody>\n",
       "    <tr>\n",
       "      <th>0</th>\n",
       "      <td>Arsenal</td>\n",
       "      <td>London (Holloway)</td>\n",
       "      <td>Emirates Stadium</td>\n",
       "    </tr>\n",
       "    <tr>\n",
       "      <th>1</th>\n",
       "      <td>Aston Villa</td>\n",
       "      <td>Birmingham</td>\n",
       "      <td>Villa Park</td>\n",
       "    </tr>\n",
       "    <tr>\n",
       "      <th>2</th>\n",
       "      <td>Bournemouth</td>\n",
       "      <td>Bournemouth</td>\n",
       "      <td>Vitality Stadium</td>\n",
       "    </tr>\n",
       "    <tr>\n",
       "      <th>3</th>\n",
       "      <td>Brentford</td>\n",
       "      <td>London (Brentford)</td>\n",
       "      <td>Gtech Community Stadium</td>\n",
       "    </tr>\n",
       "    <tr>\n",
       "      <th>4</th>\n",
       "      <td>Brighton &amp; Hove Albion</td>\n",
       "      <td>Brighton</td>\n",
       "      <td>American Express Stadium</td>\n",
       "    </tr>\n",
       "  </tbody>\n",
       "</table>\n",
       "</div>"
      ],
      "text/plain": [
       "                     Team            Location                   Stadium\n",
       "0                 Arsenal   London (Holloway)          Emirates Stadium\n",
       "1             Aston Villa          Birmingham                Villa Park\n",
       "2             Bournemouth         Bournemouth          Vitality Stadium\n",
       "3               Brentford  London (Brentford)   Gtech Community Stadium\n",
       "4  Brighton & Hove Albion            Brighton  American Express Stadium"
      ]
     },
     "execution_count": 123,
     "metadata": {},
     "output_type": "execute_result"
    }
   ],
   "source": [
    "pl1_df.head()"
   ]
  },
  {
   "cell_type": "code",
   "execution_count": 124,
   "metadata": {},
   "outputs": [
    {
     "data": {
      "text/plain": [
       "((146, 4), (20, 3))"
      ]
     },
     "execution_count": 124,
     "metadata": {},
     "output_type": "execute_result"
    }
   ],
   "source": [
    "stadium_df.shape, pl1_df.shape"
   ]
  },
  {
   "cell_type": "code",
   "execution_count": 134,
   "metadata": {},
   "outputs": [],
   "source": [
    "stadium_embeddings = list(compute_column_embeddings(stadium_df))\n",
    "pl1_embeddings = list(compute_column_embeddings(pl1_df))"
   ]
  },
  {
   "cell_type": "code",
   "execution_count": 135,
   "metadata": {},
   "outputs": [
    {
     "data": {
      "text/plain": [
       "(4, 300, 3, 300)"
      ]
     },
     "execution_count": 135,
     "metadata": {},
     "output_type": "execute_result"
    }
   ],
   "source": [
    "len(stadium_embeddings), len(stadium_embeddings[0]), len(pl1_embeddings), len(pl1_embeddings[0])"
   ]
  },
  {
   "cell_type": "code",
   "execution_count": 111,
   "metadata": {},
   "outputs": [],
   "source": [
    "# TODO what is the best manner to store/process cell embeddings? Since they are needed both\n",
    "# for row and column embeddings, it would be better to create a sort of cell-embedding-matrix and \n",
    "# then operate on it"
   ]
  },
  {
   "cell_type": "code",
   "execution_count": 130,
   "metadata": {},
   "outputs": [],
   "source": [
    "comparisons = pd.DataFrame(columns=['C1', 'C2', 'cosine similarity'])"
   ]
  },
  {
   "cell_type": "code",
   "execution_count": 137,
   "metadata": {},
   "outputs": [],
   "source": [
    "for i, es in enumerate(stadium_df.columns):\n",
    "    for j, ep in enumerate(pl1_df.columns):\n",
    "        ei = stadium_embeddings[i]\n",
    "        ej = pl1_embeddings[j]\n",
    "\n",
    "        cosim = np.dot(ei, ej) / (np.linalg.norm(ei) * np.linalg.norm(ej))\n",
    "\n",
    "        comparisons.loc[len(comparisons)] = [es, ep, cosim]"
   ]
  },
  {
   "cell_type": "code",
   "execution_count": 138,
   "metadata": {},
   "outputs": [
    {
     "data": {
      "text/html": [
       "<div>\n",
       "<style scoped>\n",
       "    .dataframe tbody tr th:only-of-type {\n",
       "        vertical-align: middle;\n",
       "    }\n",
       "\n",
       "    .dataframe tbody tr th {\n",
       "        vertical-align: top;\n",
       "    }\n",
       "\n",
       "    .dataframe thead th {\n",
       "        text-align: right;\n",
       "    }\n",
       "</style>\n",
       "<table border=\"1\" class=\"dataframe\">\n",
       "  <thead>\n",
       "    <tr style=\"text-align: right;\">\n",
       "      <th></th>\n",
       "      <th>C1</th>\n",
       "      <th>C2</th>\n",
       "      <th>cosine similarity</th>\n",
       "    </tr>\n",
       "  </thead>\n",
       "  <tbody>\n",
       "    <tr>\n",
       "      <th>0</th>\n",
       "      <td>Stadium</td>\n",
       "      <td>Team</td>\n",
       "      <td>0.672407</td>\n",
       "    </tr>\n",
       "    <tr>\n",
       "      <th>1</th>\n",
       "      <td>Stadium</td>\n",
       "      <td>Location</td>\n",
       "      <td>0.516966</td>\n",
       "    </tr>\n",
       "    <tr>\n",
       "      <th>2</th>\n",
       "      <td>Stadium</td>\n",
       "      <td>Stadium</td>\n",
       "      <td>0.967060</td>\n",
       "    </tr>\n",
       "    <tr>\n",
       "      <th>3</th>\n",
       "      <td>Town / City</td>\n",
       "      <td>Team</td>\n",
       "      <td>0.793410</td>\n",
       "    </tr>\n",
       "    <tr>\n",
       "      <th>4</th>\n",
       "      <td>Town / City</td>\n",
       "      <td>Location</td>\n",
       "      <td>0.954044</td>\n",
       "    </tr>\n",
       "    <tr>\n",
       "      <th>5</th>\n",
       "      <td>Town / City</td>\n",
       "      <td>Stadium</td>\n",
       "      <td>0.561669</td>\n",
       "    </tr>\n",
       "    <tr>\n",
       "      <th>6</th>\n",
       "      <td>Team</td>\n",
       "      <td>Team</td>\n",
       "      <td>0.917976</td>\n",
       "    </tr>\n",
       "    <tr>\n",
       "      <th>7</th>\n",
       "      <td>Team</td>\n",
       "      <td>Location</td>\n",
       "      <td>0.726615</td>\n",
       "    </tr>\n",
       "    <tr>\n",
       "      <th>8</th>\n",
       "      <td>Team</td>\n",
       "      <td>Stadium</td>\n",
       "      <td>0.743280</td>\n",
       "    </tr>\n",
       "    <tr>\n",
       "      <th>9</th>\n",
       "      <td>League</td>\n",
       "      <td>Team</td>\n",
       "      <td>0.503647</td>\n",
       "    </tr>\n",
       "    <tr>\n",
       "      <th>10</th>\n",
       "      <td>League</td>\n",
       "      <td>Location</td>\n",
       "      <td>0.351892</td>\n",
       "    </tr>\n",
       "    <tr>\n",
       "      <th>11</th>\n",
       "      <td>League</td>\n",
       "      <td>Stadium</td>\n",
       "      <td>0.488562</td>\n",
       "    </tr>\n",
       "  </tbody>\n",
       "</table>\n",
       "</div>"
      ],
      "text/plain": [
       "             C1        C2  cosine similarity\n",
       "0       Stadium      Team           0.672407\n",
       "1       Stadium  Location           0.516966\n",
       "2       Stadium   Stadium           0.967060\n",
       "3   Town / City      Team           0.793410\n",
       "4   Town / City  Location           0.954044\n",
       "5   Town / City   Stadium           0.561669\n",
       "6          Team      Team           0.917976\n",
       "7          Team  Location           0.726615\n",
       "8          Team   Stadium           0.743280\n",
       "9        League      Team           0.503647\n",
       "10       League  Location           0.351892\n",
       "11       League   Stadium           0.488562"
      ]
     },
     "execution_count": 138,
     "metadata": {},
     "output_type": "execute_result"
    }
   ],
   "source": [
    "comparisons"
   ]
  },
  {
   "cell_type": "code",
   "execution_count": null,
   "metadata": {},
   "outputs": [],
   "source": []
  }
 ],
 "metadata": {
  "kernelspec": {
   "display_name": "chroma",
   "language": "python",
   "name": "python3"
  },
  "language_info": {
   "codemirror_mode": {
    "name": "ipython",
    "version": 3
   },
   "file_extension": ".py",
   "mimetype": "text/x-python",
   "name": "python",
   "nbconvert_exporter": "python",
   "pygments_lexer": "ipython3",
   "version": "3.10.12"
  }
 },
 "nbformat": 4,
 "nbformat_minor": 2
}
