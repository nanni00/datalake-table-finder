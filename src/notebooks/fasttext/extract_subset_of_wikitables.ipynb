{
 "cells": [
  {
   "cell_type": "code",
   "execution_count": 2,
   "metadata": {},
   "outputs": [],
   "source": [
    "import jsonlines\n",
    "import pandas as pd"
   ]
  },
  {
   "cell_type": "code",
   "execution_count": 3,
   "metadata": {},
   "outputs": [
    {
     "data": {
      "text/html": [
       "<div>\n",
       "<style scoped>\n",
       "    .dataframe tbody tr th:only-of-type {\n",
       "        vertical-align: middle;\n",
       "    }\n",
       "\n",
       "    .dataframe tbody tr th {\n",
       "        vertical-align: top;\n",
       "    }\n",
       "\n",
       "    .dataframe thead th {\n",
       "        text-align: right;\n",
       "    }\n",
       "</style>\n",
       "<table border=\"1\" class=\"dataframe\">\n",
       "  <thead>\n",
       "    <tr style=\"text-align: right;\">\n",
       "      <th></th>\n",
       "      <th>r_id</th>\n",
       "      <th>s_id</th>\n",
       "      <th>jsim</th>\n",
       "      <th>o_a</th>\n",
       "      <th>a%</th>\n",
       "    </tr>\n",
       "  </thead>\n",
       "  <tbody>\n",
       "    <tr>\n",
       "      <th>0</th>\n",
       "      <td>857959-5</td>\n",
       "      <td>956801-5</td>\n",
       "      <td>1.000000</td>\n",
       "      <td>6</td>\n",
       "      <td>1.000000</td>\n",
       "    </tr>\n",
       "    <tr>\n",
       "      <th>1</th>\n",
       "      <td>14763133-1</td>\n",
       "      <td>15182906-1</td>\n",
       "      <td>0.827586</td>\n",
       "      <td>38</td>\n",
       "      <td>0.826087</td>\n",
       "    </tr>\n",
       "    <tr>\n",
       "      <th>2</th>\n",
       "      <td>15182906-1</td>\n",
       "      <td>33954290-1</td>\n",
       "      <td>0.787879</td>\n",
       "      <td>32</td>\n",
       "      <td>0.615385</td>\n",
       "    </tr>\n",
       "    <tr>\n",
       "      <th>3</th>\n",
       "      <td>14772277-1</td>\n",
       "      <td>32928438-1</td>\n",
       "      <td>0.900000</td>\n",
       "      <td>36</td>\n",
       "      <td>0.692308</td>\n",
       "    </tr>\n",
       "    <tr>\n",
       "      <th>4</th>\n",
       "      <td>31534804-2</td>\n",
       "      <td>32612781-1</td>\n",
       "      <td>0.300000</td>\n",
       "      <td>8</td>\n",
       "      <td>0.111111</td>\n",
       "    </tr>\n",
       "    <tr>\n",
       "      <th>...</th>\n",
       "      <td>...</td>\n",
       "      <td>...</td>\n",
       "      <td>...</td>\n",
       "      <td>...</td>\n",
       "      <td>...</td>\n",
       "    </tr>\n",
       "    <tr>\n",
       "      <th>9995</th>\n",
       "      <td>10866704-2</td>\n",
       "      <td>22726048-14</td>\n",
       "      <td>0.375000</td>\n",
       "      <td>3</td>\n",
       "      <td>0.250000</td>\n",
       "    </tr>\n",
       "    <tr>\n",
       "      <th>9996</th>\n",
       "      <td>31255608-1</td>\n",
       "      <td>36306977-1</td>\n",
       "      <td>0.720588</td>\n",
       "      <td>72</td>\n",
       "      <td>0.857143</td>\n",
       "    </tr>\n",
       "    <tr>\n",
       "      <th>9997</th>\n",
       "      <td>254258-1</td>\n",
       "      <td>475054-1</td>\n",
       "      <td>0.545455</td>\n",
       "      <td>4</td>\n",
       "      <td>0.400000</td>\n",
       "    </tr>\n",
       "    <tr>\n",
       "      <th>9998</th>\n",
       "      <td>17765209-1</td>\n",
       "      <td>30429671-2</td>\n",
       "      <td>0.318182</td>\n",
       "      <td>10</td>\n",
       "      <td>0.100000</td>\n",
       "    </tr>\n",
       "    <tr>\n",
       "      <th>9999</th>\n",
       "      <td>19135659-1</td>\n",
       "      <td>35279077-2</td>\n",
       "      <td>0.281481</td>\n",
       "      <td>20</td>\n",
       "      <td>0.128205</td>\n",
       "    </tr>\n",
       "  </tbody>\n",
       "</table>\n",
       "<p>10000 rows × 5 columns</p>\n",
       "</div>"
      ],
      "text/plain": [
       "            r_id         s_id      jsim  o_a        a%\n",
       "0       857959-5     956801-5  1.000000    6  1.000000\n",
       "1     14763133-1   15182906-1  0.827586   38  0.826087\n",
       "2     15182906-1   33954290-1  0.787879   32  0.615385\n",
       "3     14772277-1   32928438-1  0.900000   36  0.692308\n",
       "4     31534804-2   32612781-1  0.300000    8  0.111111\n",
       "...          ...          ...       ...  ...       ...\n",
       "9995  10866704-2  22726048-14  0.375000    3  0.250000\n",
       "9996  31255608-1   36306977-1  0.720588   72  0.857143\n",
       "9997    254258-1     475054-1  0.545455    4  0.400000\n",
       "9998  17765209-1   30429671-2  0.318182   10  0.100000\n",
       "9999  19135659-1   35279077-2  0.281481   20  0.128205\n",
       "\n",
       "[10000 rows x 5 columns]"
      ]
     },
     "execution_count": 3,
     "metadata": {},
     "output_type": "execute_result"
    }
   ],
   "source": [
    "sloth_tested_pairs = pd.read_csv(\n",
    "    '/home/giovanni/unimore/TESI/src/data/train_set_turl_malaguti.csv',\n",
    "    nrows=10000\n",
    "    )\n",
    "sloth_tested_pairs"
   ]
  },
  {
   "cell_type": "markdown",
   "metadata": {},
   "source": [
    "# Loading a subset of TURL training dataset"
   ]
  },
  {
   "cell_type": "code",
   "execution_count": 4,
   "metadata": {},
   "outputs": [
    {
     "data": {
      "text/plain": [
       "14209"
      ]
     },
     "execution_count": 4,
     "metadata": {},
     "output_type": "execute_result"
    }
   ],
   "source": [
    "ids = set(sloth_tested_pairs['r_id']).union(sloth_tested_pairs['s_id'])\n",
    "len(ids)"
   ]
  },
  {
   "cell_type": "code",
   "execution_count": 5,
   "metadata": {},
   "outputs": [],
   "source": [
    "tables = []"
   ]
  },
  {
   "cell_type": "code",
   "execution_count": 6,
   "metadata": {},
   "outputs": [
    {
     "name": "stdout",
     "output_type": "stream",
     "text": [
      "Still missing 14000 tables\n",
      "Still missing 13500 tables\n",
      "Still missing 13000 tables\n",
      "Still missing 12500 tables\n",
      "Still missing 12000 tables\n",
      "Still missing 11500 tables\n",
      "Still missing 11000 tables\n",
      "Still missing 10500 tables\n",
      "Still missing 10000 tables\n",
      "Still missing 9500 tables\n",
      "Still missing 9000 tables\n",
      "Still missing 8500 tables\n",
      "Still missing 8000 tables\n",
      "Still missing 7500 tables\n",
      "Still missing 7000 tables\n",
      "Still missing 6500 tables\n",
      "Still missing 6000 tables\n",
      "Still missing 5500 tables\n",
      "Still missing 5000 tables\n",
      "Still missing 4500 tables\n",
      "Still missing 4000 tables\n",
      "Still missing 3500 tables\n",
      "Still missing 3000 tables\n",
      "Still missing 2500 tables\n",
      "Still missing 2000 tables\n",
      "Still missing 1500 tables\n",
      "Still missing 1000 tables\n",
      "Still missing 500 tables\n",
      "Still missing 0 tables\n"
     ]
    }
   ],
   "source": [
    "with jsonlines.open('/home/giovanni/unimore/TESI/src/data/train_tables.jsonl', 'r') as reader:\n",
    "    for obj in reader:\n",
    "        if obj['_id'] in ids:\n",
    "            ids.remove(obj['_id'])\n",
    "            tables.append(obj)\n",
    "            if len(ids) % 500 == 0:\n",
    "                print(f\"Still missing {len(ids)} tables\")\n",
    "        if not ids:\n",
    "            break"
   ]
  },
  {
   "cell_type": "code",
   "execution_count": 11,
   "metadata": {},
   "outputs": [
    {
     "data": {
      "text/plain": [
       "14209"
      ]
     },
     "execution_count": 11,
     "metadata": {},
     "output_type": "execute_result"
    }
   ],
   "source": [
    "len(tables)"
   ]
  },
  {
   "cell_type": "code",
   "execution_count": 8,
   "metadata": {},
   "outputs": [],
   "source": [
    "with jsonlines.open('/home/giovanni/unimore/TESI/src/data/medium_train_tables.jsonl', mode='w') as writer:\n",
    "    writer.write_all(tables)"
   ]
  }
 ],
 "metadata": {
  "kernelspec": {
   "display_name": "chroma",
   "language": "python",
   "name": "python3"
  },
  "language_info": {
   "codemirror_mode": {
    "name": "ipython",
    "version": 3
   },
   "file_extension": ".py",
   "mimetype": "text/x-python",
   "name": "python",
   "nbconvert_exporter": "python",
   "pygments_lexer": "ipython3",
   "version": "3.10.12"
  }
 },
 "nbformat": 4,
 "nbformat_minor": 2
}
