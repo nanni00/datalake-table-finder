{
 "cells": [
  {
   "cell_type": "code",
   "execution_count": null,
   "metadata": {},
   "outputs": [],
   "source": [
    "import jsonlines\n",
    "import pandas as pd"
   ]
  },
  {
   "cell_type": "code",
   "execution_count": null,
   "metadata": {},
   "outputs": [
    {
     "data": {
      "text/html": [
       "<div>\n",
       "<style scoped>\n",
       "    .dataframe tbody tr th:only-of-type {\n",
       "        vertical-align: middle;\n",
       "    }\n",
       "\n",
       "    .dataframe tbody tr th {\n",
       "        vertical-align: top;\n",
       "    }\n",
       "\n",
       "    .dataframe thead th {\n",
       "        text-align: right;\n",
       "    }\n",
       "</style>\n",
       "<table border=\"1\" class=\"dataframe\">\n",
       "  <thead>\n",
       "    <tr style=\"text-align: right;\">\n",
       "      <th></th>\n",
       "      <th>r_id</th>\n",
       "      <th>s_id</th>\n",
       "      <th>jsim</th>\n",
       "      <th>o_a</th>\n",
       "      <th>a%</th>\n",
       "    </tr>\n",
       "  </thead>\n",
       "  <tbody>\n",
       "    <tr>\n",
       "      <th>0</th>\n",
       "      <td>857959-5</td>\n",
       "      <td>956801-5</td>\n",
       "      <td>1.000000</td>\n",
       "      <td>6</td>\n",
       "      <td>1.000000</td>\n",
       "    </tr>\n",
       "    <tr>\n",
       "      <th>1</th>\n",
       "      <td>14763133-1</td>\n",
       "      <td>15182906-1</td>\n",
       "      <td>0.827586</td>\n",
       "      <td>38</td>\n",
       "      <td>0.826087</td>\n",
       "    </tr>\n",
       "    <tr>\n",
       "      <th>2</th>\n",
       "      <td>15182906-1</td>\n",
       "      <td>33954290-1</td>\n",
       "      <td>0.787879</td>\n",
       "      <td>32</td>\n",
       "      <td>0.615385</td>\n",
       "    </tr>\n",
       "    <tr>\n",
       "      <th>3</th>\n",
       "      <td>14772277-1</td>\n",
       "      <td>32928438-1</td>\n",
       "      <td>0.900000</td>\n",
       "      <td>36</td>\n",
       "      <td>0.692308</td>\n",
       "    </tr>\n",
       "    <tr>\n",
       "      <th>4</th>\n",
       "      <td>31534804-2</td>\n",
       "      <td>32612781-1</td>\n",
       "      <td>0.300000</td>\n",
       "      <td>8</td>\n",
       "      <td>0.111111</td>\n",
       "    </tr>\n",
       "    <tr>\n",
       "      <th>...</th>\n",
       "      <td>...</td>\n",
       "      <td>...</td>\n",
       "      <td>...</td>\n",
       "      <td>...</td>\n",
       "      <td>...</td>\n",
       "    </tr>\n",
       "    <tr>\n",
       "      <th>995</th>\n",
       "      <td>27340139-4</td>\n",
       "      <td>33030049-4</td>\n",
       "      <td>1.000000</td>\n",
       "      <td>21</td>\n",
       "      <td>1.000000</td>\n",
       "    </tr>\n",
       "    <tr>\n",
       "      <th>996</th>\n",
       "      <td>31200308-1</td>\n",
       "      <td>31802539-1</td>\n",
       "      <td>0.666667</td>\n",
       "      <td>4</td>\n",
       "      <td>0.666667</td>\n",
       "    </tr>\n",
       "    <tr>\n",
       "      <th>997</th>\n",
       "      <td>15181195-1</td>\n",
       "      <td>32928401-1</td>\n",
       "      <td>0.900000</td>\n",
       "      <td>48</td>\n",
       "      <td>0.960000</td>\n",
       "    </tr>\n",
       "    <tr>\n",
       "      <th>998</th>\n",
       "      <td>34374076-1</td>\n",
       "      <td>6755735-3</td>\n",
       "      <td>0.500000</td>\n",
       "      <td>40</td>\n",
       "      <td>0.208333</td>\n",
       "    </tr>\n",
       "    <tr>\n",
       "      <th>999</th>\n",
       "      <td>5997386-1</td>\n",
       "      <td>8649085-1</td>\n",
       "      <td>0.600000</td>\n",
       "      <td>4</td>\n",
       "      <td>0.666667</td>\n",
       "    </tr>\n",
       "  </tbody>\n",
       "</table>\n",
       "<p>1000 rows × 5 columns</p>\n",
       "</div>"
      ],
      "text/plain": [
       "           r_id        s_id      jsim  o_a        a%\n",
       "0      857959-5    956801-5  1.000000    6  1.000000\n",
       "1    14763133-1  15182906-1  0.827586   38  0.826087\n",
       "2    15182906-1  33954290-1  0.787879   32  0.615385\n",
       "3    14772277-1  32928438-1  0.900000   36  0.692308\n",
       "4    31534804-2  32612781-1  0.300000    8  0.111111\n",
       "..          ...         ...       ...  ...       ...\n",
       "995  27340139-4  33030049-4  1.000000   21  1.000000\n",
       "996  31200308-1  31802539-1  0.666667    4  0.666667\n",
       "997  15181195-1  32928401-1  0.900000   48  0.960000\n",
       "998  34374076-1   6755735-3  0.500000   40  0.208333\n",
       "999   5997386-1   8649085-1  0.600000    4  0.666667\n",
       "\n",
       "[1000 rows x 5 columns]"
      ]
     },
     "metadata": {},
     "output_type": "display_data"
    }
   ],
   "source": [
    "sloth_tested_pairs = pd.read_csv(\n",
    "    '/home/giovanni/unimore/TESI/src/data/train_set_turl_malaguti.csv',\n",
    "    nrows=1000\n",
    "    )\n",
    "sloth_tested_pairs"
   ]
  },
  {
   "cell_type": "markdown",
   "metadata": {},
   "source": [
    "# Loading a subset of TURL training dataset"
   ]
  },
  {
   "cell_type": "code",
   "execution_count": null,
   "metadata": {},
   "outputs": [
    {
     "data": {
      "text/html": [
       "<div>\n",
       "<style scoped>\n",
       "    .dataframe tbody tr th:only-of-type {\n",
       "        vertical-align: middle;\n",
       "    }\n",
       "\n",
       "    .dataframe tbody tr th {\n",
       "        vertical-align: top;\n",
       "    }\n",
       "\n",
       "    .dataframe thead th {\n",
       "        text-align: right;\n",
       "    }\n",
       "</style>\n",
       "<table border=\"1\" class=\"dataframe\">\n",
       "  <thead>\n",
       "    <tr style=\"text-align: right;\">\n",
       "      <th></th>\n",
       "      <th>r_id</th>\n",
       "      <th>s_id</th>\n",
       "      <th>jsim</th>\n",
       "      <th>o_a</th>\n",
       "      <th>a%</th>\n",
       "    </tr>\n",
       "  </thead>\n",
       "  <tbody>\n",
       "    <tr>\n",
       "      <th>0</th>\n",
       "      <td>857959-5</td>\n",
       "      <td>956801-5</td>\n",
       "      <td>1.000000</td>\n",
       "      <td>6</td>\n",
       "      <td>1.000000</td>\n",
       "    </tr>\n",
       "    <tr>\n",
       "      <th>1</th>\n",
       "      <td>14763133-1</td>\n",
       "      <td>15182906-1</td>\n",
       "      <td>0.827586</td>\n",
       "      <td>38</td>\n",
       "      <td>0.826087</td>\n",
       "    </tr>\n",
       "    <tr>\n",
       "      <th>2</th>\n",
       "      <td>15182906-1</td>\n",
       "      <td>33954290-1</td>\n",
       "      <td>0.787879</td>\n",
       "      <td>32</td>\n",
       "      <td>0.615385</td>\n",
       "    </tr>\n",
       "    <tr>\n",
       "      <th>3</th>\n",
       "      <td>14772277-1</td>\n",
       "      <td>32928438-1</td>\n",
       "      <td>0.900000</td>\n",
       "      <td>36</td>\n",
       "      <td>0.692308</td>\n",
       "    </tr>\n",
       "    <tr>\n",
       "      <th>4</th>\n",
       "      <td>31534804-2</td>\n",
       "      <td>32612781-1</td>\n",
       "      <td>0.300000</td>\n",
       "      <td>8</td>\n",
       "      <td>0.111111</td>\n",
       "    </tr>\n",
       "    <tr>\n",
       "      <th>...</th>\n",
       "      <td>...</td>\n",
       "      <td>...</td>\n",
       "      <td>...</td>\n",
       "      <td>...</td>\n",
       "      <td>...</td>\n",
       "    </tr>\n",
       "    <tr>\n",
       "      <th>995</th>\n",
       "      <td>27340139-4</td>\n",
       "      <td>33030049-4</td>\n",
       "      <td>1.000000</td>\n",
       "      <td>21</td>\n",
       "      <td>1.000000</td>\n",
       "    </tr>\n",
       "    <tr>\n",
       "      <th>996</th>\n",
       "      <td>31200308-1</td>\n",
       "      <td>31802539-1</td>\n",
       "      <td>0.666667</td>\n",
       "      <td>4</td>\n",
       "      <td>0.666667</td>\n",
       "    </tr>\n",
       "    <tr>\n",
       "      <th>997</th>\n",
       "      <td>15181195-1</td>\n",
       "      <td>32928401-1</td>\n",
       "      <td>0.900000</td>\n",
       "      <td>48</td>\n",
       "      <td>0.960000</td>\n",
       "    </tr>\n",
       "    <tr>\n",
       "      <th>998</th>\n",
       "      <td>34374076-1</td>\n",
       "      <td>6755735-3</td>\n",
       "      <td>0.500000</td>\n",
       "      <td>40</td>\n",
       "      <td>0.208333</td>\n",
       "    </tr>\n",
       "    <tr>\n",
       "      <th>999</th>\n",
       "      <td>5997386-1</td>\n",
       "      <td>8649085-1</td>\n",
       "      <td>0.600000</td>\n",
       "      <td>4</td>\n",
       "      <td>0.666667</td>\n",
       "    </tr>\n",
       "  </tbody>\n",
       "</table>\n",
       "<p>1000 rows × 5 columns</p>\n",
       "</div>"
      ],
      "text/plain": [
       "           r_id        s_id      jsim  o_a        a%\n",
       "0      857959-5    956801-5  1.000000    6  1.000000\n",
       "1    14763133-1  15182906-1  0.827586   38  0.826087\n",
       "2    15182906-1  33954290-1  0.787879   32  0.615385\n",
       "3    14772277-1  32928438-1  0.900000   36  0.692308\n",
       "4    31534804-2  32612781-1  0.300000    8  0.111111\n",
       "..          ...         ...       ...  ...       ...\n",
       "995  27340139-4  33030049-4  1.000000   21  1.000000\n",
       "996  31200308-1  31802539-1  0.666667    4  0.666667\n",
       "997  15181195-1  32928401-1  0.900000   48  0.960000\n",
       "998  34374076-1   6755735-3  0.500000   40  0.208333\n",
       "999   5997386-1   8649085-1  0.600000    4  0.666667\n",
       "\n",
       "[1000 rows x 5 columns]"
      ]
     },
     "metadata": {},
     "output_type": "display_data"
    }
   ],
   "source": [
    "sloth_tested_pairs = pd.read_csv(\n",
    "    '/home/giovanni/unimore/TESI/src/data/train_set_turl_malaguti.csv',\n",
    "    nrows=1000\n",
    "    )\n",
    "sloth_tested_pairs"
   ]
  },
  {
   "cell_type": "code",
   "execution_count": null,
   "metadata": {},
   "outputs": [
    {
     "data": {
      "text/plain": [
       "1905"
      ]
     },
     "metadata": {},
     "output_type": "display_data"
    }
   ],
   "source": [
    "ids = set(sloth_tested_pairs['r_id']).union(sloth_tested_pairs['s_id'])\n",
    "len(ids)"
   ]
  },
  {
   "cell_type": "code",
   "execution_count": null,
   "metadata": {},
   "outputs": [],
   "source": [
    "tables = []"
   ]
  },
  {
   "cell_type": "code",
   "execution_count": null,
   "metadata": {},
   "outputs": [
    {
     "name": "stdout",
     "output_type": "stream",
     "text": [
      "Still missing 1900 tables\n",
      "Still missing 1800 tables\n",
      "Still missing 1700 tables\n",
      "Still missing 1600 tables\n",
      "Still missing 1500 tables\n",
      "Still missing 1400 tables\n",
      "Still missing 1300 tables\n",
      "Still missing 1200 tables\n",
      "Still missing 1100 tables\n",
      "Still missing 1000 tables\n",
      "Still missing 900 tables\n",
      "Still missing 800 tables\n",
      "Still missing 700 tables\n",
      "Still missing 600 tables\n",
      "Still missing 500 tables\n",
      "Still missing 400 tables\n",
      "Still missing 300 tables\n",
      "Still missing 200 tables\n",
      "Still missing 100 tables\n",
      "Still missing 0 tables\n"
     ]
    }
   ],
   "source": [
    "with jsonlines.open('/home/giovanni/unimore/TESI/src/data/train_tables.jsonl', 'r') as reader:\n",
    "    for obj in reader:\n",
    "        if obj['_id'] in ids:\n",
    "            ids.remove(obj['_id'])\n",
    "            tables.append(obj)\n",
    "            if len(ids) % 100 == 0:\n",
    "                print(f\"Still missing {len(ids)} tables\")"
   ]
  },
  {
   "cell_type": "code",
   "execution_count": null,
   "metadata": {},
   "outputs": [
    {
     "data": {
      "text/plain": [
       "1904"
      ]
     },
     "metadata": {},
     "output_type": "display_data"
    }
   ],
   "source": [
    "len(tables)"
   ]
  },
  {
   "cell_type": "code",
   "execution_count": null,
   "metadata": {},
   "outputs": [],
   "source": [
    "with jsonlines.open('/home/giovanni/unimore/TESI/src/data/small_train_tables.jsonl', mode='w') as writer:\n",
    "    writer.write_all(tables)"
   ]
  }
 ],
 "metadata": {
  "kernelspec": {
   "display_name": "chroma",
   "language": "python",
   "name": "python3"
  },
  "language_info": {
   "name": "python",
   "version": "3.10.12"
  }
 },
 "nbformat": 4,
 "nbformat_minor": 2
}
