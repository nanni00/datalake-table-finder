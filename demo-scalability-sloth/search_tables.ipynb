{
 "cells": [
  {
   "cell_type": "code",
   "execution_count": 1,
   "metadata": {},
   "outputs": [
    {
     "data": {
      "text/plain": [
       "<module 'dltf.testers.josie.josie' from '/home/nanni/datalake-table-finder/dltf/testers/josie/josie.py'>"
      ]
     },
     "execution_count": 1,
     "metadata": {},
     "output_type": "execute_result"
    }
   ],
   "source": [
    "import re\n",
    "import pickle\n",
    "\n",
    "import pymongo\n",
    "import polars as pl\n",
    "from tabulate import tabulate\n",
    "\n",
    "from dltf.utils import tables\n",
    "from dltf.sloth import sloth, utils\n",
    "from dltf.utils.misc import clean_string\n",
    "from dltf.testers.josie.josie import JOSIETester\n",
    "from dltf.utils.datalake import MongoDBDataLakeHandler\n",
    "from dltf.testers.josie import josie as josiemod\n",
    "\n",
    "import importlib\n",
    "importlib.reload(tables)\n",
    "importlib.reload(josiemod)"
   ]
  },
  {
   "cell_type": "markdown",
   "metadata": {},
   "source": [
    "### Open the connection to MongoDB"
   ]
  },
  {
   "cell_type": "code",
   "execution_count": 2,
   "metadata": {},
   "outputs": [],
   "source": [
    "mc = pymongo.MongoClient()\n",
    "collection = mc.sloth.latest_snapshot_tables"
   ]
  },
  {
   "cell_type": "markdown",
   "metadata": {},
   "source": [
    "### Function to extract results from JOSIE CSV results file"
   ]
  },
  {
   "cell_type": "code",
   "execution_count": 3,
   "metadata": {},
   "outputs": [],
   "source": [
    "def get_result_ids(s):\n",
    "    return list(map(int, re.findall(r'\\d+', s)[::2]))\n",
    "\n",
    "def get_result_overlaps(s):\n",
    "    return list(map(int, re.findall(r'\\d+', s)[1::2]))"
   ]
  },
  {
   "cell_type": "markdown",
   "metadata": {},
   "source": [
    "### Setup for further inspections"
   ]
  },
  {
   "cell_type": "code",
   "execution_count": 4,
   "metadata": {},
   "outputs": [],
   "source": [
    "data_path                   = f'./data'\n",
    "k                           = 50\n",
    "\n",
    "# Set up the DataLake handler\n",
    "datalake_name               = 'demo'\n",
    "datalake_location           = 'mongodb'\n",
    "datasets                    = ['sloth.latest_snapshot_tables']\n",
    "dlh                         = MongoDBDataLakeHandler(datalake_location, datalake_name, datasets)\n",
    "\n",
    "# JOSIE (global search tool) parameters\n",
    "mode                        = 'bag'\n",
    "blacklist                   = set()\n",
    "token_translators           = ['whitespace', 'lowercase']\n",
    "force_sampling_cost         = False # force JOSIE to do cost sampling before querying\n",
    "token_table_on_memory       = False # build the token table used by JOSIE directly on disk\n",
    "results_directory           = f'{data_path}'\n",
    "tokens_bidict_file          = f'{data_path}/josie-tokens-bidict.pickle'\n",
    "results_file                = f'{data_path}/results/with-filter.csv'\n",
    "log_file                    = f'{data_path}/.log'\n",
    "\n",
    "# connection info for the JOSIE inverted index\n",
    "db_config = {\n",
    "    'drivername': 'postgresql',\n",
    "    'database'  : 'DEMODB',\n",
    "    'port'      :  5442,\n",
    "    'host'      : 'localhost',\n",
    "    'username'  : 'demo',\n",
    "    'password'  : 'demo',\n",
    "}\n",
    "\n",
    "# Instatiate JOSIE\n",
    "josie = JOSIETester(\n",
    "    mode=mode,\n",
    "    blacklist=blacklist,\n",
    "    datalake_handler=dlh,\n",
    "    token_translators=token_translators,\n",
    "    dbstatfile=None,\n",
    "    tokens_bidict_file=tokens_bidict_file,\n",
    "    josie_db_connection_info=db_config,\n",
    "    spark_config=None\n",
    ")"
   ]
  },
  {
   "cell_type": "code",
   "execution_count": 5,
   "metadata": {},
   "outputs": [],
   "source": [
    "# Load the bidictionary between the JOSIE tokens IDs and the correspondent original string\n",
    "with open(tokens_bidict_file, 'rb') as fr:\n",
    "    tokens_bidict = pickle.load(fr)"
   ]
  },
  {
   "cell_type": "code",
   "execution_count": 7,
   "metadata": {},
   "outputs": [],
   "source": [
    "def prepare_query(filter_query_id, keep_columns, blacklist, regex_replace_pattern=re.compile('')):\n",
    "    qdoc = dlh.get_table_by_numeric_id(filter_query_id)\n",
    "    qdoc['content'] = [[re.sub(regex_replace_pattern, '', cell) for i, cell in enumerate(row) if i in keep_columns] for row in qdoc['content']]\n",
    "    qdoc['valid_columns'] = [vc for i, vc in enumerate(qdoc['valid_columns']) if i in keep_columns]\n",
    "    \n",
    "    query_docs = [qdoc]\n",
    "    \n",
    "    # For each document, extract a set of tokens from its content\n",
    "    query_sets = [\n",
    "        [\n",
    "            doc['_id_numeric'],\n",
    "            tables.table_to_tokens(\n",
    "                table=doc['content'], \n",
    "                valid_columns=doc['valid_columns'], \n",
    "                mode=mode, \n",
    "                blacklist=blacklist,\n",
    "                string_translators=token_translators\n",
    "            )\n",
    "        ]\n",
    "        for doc in query_docs\n",
    "    ]\n",
    "    \n",
    "    # Map each token in the sets with its correspondent token ID for JOSIE\n",
    "    query_sets = [\n",
    "        [\n",
    "            query_id, \n",
    "            sorted([\n",
    "                tokens_bidict.inverse[clean_string(token, 'lowercase', 'whitespace')]\n",
    "                for token in query_set \n",
    "                if clean_string(token, 'lowercase', 'whitespace') in tokens_bidict.inverse\n",
    "            ])\n",
    "        ]\n",
    "        for query_id, query_set in query_sets\n",
    "    ]\n",
    "\n",
    "    # Transform the list <ID, tokens[]> into a dictionary <ID: tokens[]>\n",
    "    query_sets = dict(query_sets)\n",
    "\n",
    "    return qdoc, query_sets"
   ]
  },
  {
   "cell_type": "markdown",
   "metadata": {},
   "source": [
    "## Analyse results"
   ]
  },
  {
   "cell_type": "code",
   "execution_count": 21,
   "metadata": {},
   "outputs": [
    {
     "data": {
      "text/html": [
       "<div><style>\n",
       ".dataframe > thead > tr,\n",
       ".dataframe > tbody > tr {\n",
       "  text-align: right;\n",
       "  white-space: pre-wrap;\n",
       "}\n",
       "</style>\n",
       "<small>shape: (5, 16)</small><table border=\"1\" class=\"dataframe\"><thead><tr><th>query_id</th><th>query_size</th><th>query_num_token</th><th>num_result</th><th>duration</th><th>preproc_duration</th><th>num_set_read</th><th>num_list_read</th><th>num_byte_read</th><th>max_set_size_read</th><th>max_list_size_read</th><th>max_counter_size</th><th>ignore_size</th><th>actions</th><th>results</th><th>benefit_cost</th></tr><tr><td>i64</td><td>i64</td><td>i64</td><td>i64</td><td>i64</td><td>i64</td><td>i64</td><td>i64</td><td>i64</td><td>i64</td><td>i64</td><td>i64</td><td>i64</td><td>str</td><td>str</td><td>str</td></tr></thead><tbody><tr><td>31713</td><td>28</td><td>2</td><td>4</td><td>2</td><td>1</td><td>0</td><td>2</td><td>0</td><td>0</td><td>4</td><td>0</td><td>1</td><td>null</td><td>&quot;s2087013o1s243207o1s280752o1s1…</td><td>&quot;None&quot;</td></tr><tr><td>43091</td><td>52</td><td>28</td><td>50</td><td>136</td><td>1</td><td>1</td><td>28</td><td>0</td><td>1235</td><td>7547</td><td>258</td><td>2</td><td>null</td><td>&quot;s466456o6s334630o5s223168o5s20…</td><td>&quot;None&quot;</td></tr><tr><td>74170</td><td>1</td><td>1</td><td>50</td><td>3</td><td>0</td><td>0</td><td>1</td><td>0</td><td>0</td><td>338</td><td>0</td><td>1</td><td>null</td><td>&quot;s32492o1s13505o1s33855o1s34697…</td><td>&quot;None&quot;</td></tr><tr><td>79178</td><td>60</td><td>23</td><td>50</td><td>15</td><td>1</td><td>1</td><td>23</td><td>0</td><td>10</td><td>29</td><td>90</td><td>2</td><td>null</td><td>&quot;s2087013o5s1764227o4s598139o4s…</td><td>&quot;None&quot;</td></tr><tr><td>111351</td><td>28</td><td>9</td><td>50</td><td>397</td><td>1</td><td>0</td><td>9</td><td>0</td><td>0</td><td>48729</td><td>0</td><td>1</td><td>null</td><td>&quot;s524886o5s512109o5s998205o5s21…</td><td>&quot;None&quot;</td></tr></tbody></table></div>"
      ],
      "text/plain": [
       "shape: (5, 16)\n",
       "┌──────────┬────────────┬────────────┬───────────┬───┬───────────┬─────────┬───────────┬───────────┐\n",
       "│ query_id ┆ query_size ┆ query_num_ ┆ num_resul ┆ … ┆ ignore_si ┆ actions ┆ results   ┆ benefit_c │\n",
       "│ ---      ┆ ---        ┆ token      ┆ t         ┆   ┆ ze        ┆ ---     ┆ ---       ┆ ost       │\n",
       "│ i64      ┆ i64        ┆ ---        ┆ ---       ┆   ┆ ---       ┆ str     ┆ str       ┆ ---       │\n",
       "│          ┆            ┆ i64        ┆ i64       ┆   ┆ i64       ┆         ┆           ┆ str       │\n",
       "╞══════════╪════════════╪════════════╪═══════════╪═══╪═══════════╪═════════╪═══════════╪═══════════╡\n",
       "│ 31713    ┆ 28         ┆ 2          ┆ 4         ┆ … ┆ 1         ┆ null    ┆ s2087013o ┆ None      │\n",
       "│          ┆            ┆            ┆           ┆   ┆           ┆         ┆ 1s243207o ┆           │\n",
       "│          ┆            ┆            ┆           ┆   ┆           ┆         ┆ 1s280752o ┆           │\n",
       "│          ┆            ┆            ┆           ┆   ┆           ┆         ┆ 1s1…      ┆           │\n",
       "│ 43091    ┆ 52         ┆ 28         ┆ 50        ┆ … ┆ 2         ┆ null    ┆ s466456o6 ┆ None      │\n",
       "│          ┆            ┆            ┆           ┆   ┆           ┆         ┆ s334630o5 ┆           │\n",
       "│          ┆            ┆            ┆           ┆   ┆           ┆         ┆ s223168o5 ┆           │\n",
       "│          ┆            ┆            ┆           ┆   ┆           ┆         ┆ s20…      ┆           │\n",
       "│ 74170    ┆ 1          ┆ 1          ┆ 50        ┆ … ┆ 1         ┆ null    ┆ s32492o1s ┆ None      │\n",
       "│          ┆            ┆            ┆           ┆   ┆           ┆         ┆ 13505o1s3 ┆           │\n",
       "│          ┆            ┆            ┆           ┆   ┆           ┆         ┆ 3855o1s34 ┆           │\n",
       "│          ┆            ┆            ┆           ┆   ┆           ┆         ┆ 697…      ┆           │\n",
       "│ 79178    ┆ 60         ┆ 23         ┆ 50        ┆ … ┆ 2         ┆ null    ┆ s2087013o ┆ None      │\n",
       "│          ┆            ┆            ┆           ┆   ┆           ┆         ┆ 5s1764227 ┆           │\n",
       "│          ┆            ┆            ┆           ┆   ┆           ┆         ┆ o4s598139 ┆           │\n",
       "│          ┆            ┆            ┆           ┆   ┆           ┆         ┆ o4s…      ┆           │\n",
       "│ 111351   ┆ 28         ┆ 9          ┆ 50        ┆ … ┆ 1         ┆ null    ┆ s524886o5 ┆ None      │\n",
       "│          ┆            ┆            ┆           ┆   ┆           ┆         ┆ s512109o5 ┆           │\n",
       "│          ┆            ┆            ┆           ┆   ┆           ┆         ┆ s998205o5 ┆           │\n",
       "│          ┆            ┆            ┆           ┆   ┆           ┆         ┆ s21…      ┆           │\n",
       "└──────────┴────────────┴────────────┴───────────┴───┴───────────┴─────────┴───────────┴───────────┘"
      ]
     },
     "execution_count": 21,
     "metadata": {},
     "output_type": "execute_result"
    }
   ],
   "source": [
    "topic = 'patho'\n",
    "\n",
    "df = pl.read_csv(f'data/results/{topic}.csv.raw')\n",
    "df.head()"
   ]
  },
  {
   "cell_type": "code",
   "execution_count": 20,
   "metadata": {},
   "outputs": [],
   "source": [
    "results = df.select('query_id', 'results').rows()\n",
    "results = [[q, list(zip(get_result_ids(r), get_result_overlaps(r)))] for q, r in results]"
   ]
  },
  {
   "cell_type": "code",
   "execution_count": 10,
   "metadata": {},
   "outputs": [
    {
     "name": "stdout",
     "output_type": "stream",
     "text": [
      "Table 1157584\n",
      "Rows: 40, Columns: 4\n",
      "Context: Ovarian cancer - Pathophysiology\n",
      "┌──────────────────┬────────────────────────────────────────┬───────────────────────────────┬──────────────┐\n",
      "│ gene mutated     │ mutation type                          │ subtype                       │ prevalence   │\n",
      "├──────────────────┼────────────────────────────────────────┼───────────────────────────────┼──────────────┤\n",
      "│ akt1             │ amplification                          │                               │ 3%           │\n",
      "│ akt2             │ amplification/mutation                 │                               │ 6%, 20%      │\n",
      "│ arid1a           │ point mutation                         │ endometrioid and clear cell   │              │\n",
      "│ becn1            │ deletion                               │                               │              │\n",
      "│ braf             │ point mutation                         │ low-grade serous              │ 0.5%         │\n",
      "│ brca1            │ nonsense mutation                      │ high-grade serous             │ 5%           │\n",
      "│ brca2            │ frameshift mutation                    │ high-grade serous             │ 3%           │\n",
      "│ ccnd1            │ amplification                          │                               │ 4%           │\n",
      "│ ccnd2            │ upregulation                           │                               │ 15%          │\n",
      "│ ccne1            │ amplification                          │                               │ 20%          │\n",
      "│ cdk12            │                                        │ high-grade serous             │              │\n",
      "│ cdkn2a           │ downregulation (30%) and deletion (2%) │                               │ 32%          │\n",
      "│ ctnnb1           │                                        │ clear cell                    │              │\n",
      "│ dicer1           │ missense mutation (somatic)            │ nonepithelial                 │ 29%          │\n",
      "│ dynlrb1 (km23)   │ mutation                               │                               │ 42%          │\n",
      "│ egfr             │ amplification/overexpression           │                               │ 20%          │\n",
      "│ erbb2 (her2/neu) │ amplification/overexpression           │ mucinous and low-grade serous │ 30%          │\n",
      "│ fms              │ coexpression with csf-1                │                               │ 50%          │\n",
      "│ foxl2            │ point mutation (402 c to g)            │ adult granulosa cell          │ ~100%        │\n",
      "│ jag1             │ amplification                          │                               │ 2%           │\n",
      "│ jag2             │ amplification                          │                               │ 3%           │\n",
      "│ kras             │ amplification                          │ mucinous and low-grade serous │ 11%          │\n",
      "│ maml1            │ amplification and point mutation       │                               │ 2%           │\n",
      "│ maml2            │ amplification and point mutation       │                               │ 4%           │\n",
      "│ maml3            │ amplification                          │                               │ 2%           │\n",
      "│ mlh1             │                                        │                               │ 1%           │\n",
      "│ nf1              │ deletion (8%) and point mutation (4%)  │ high-grade serous             │ 12%          │\n",
      "│ notch3           │ amplification and point mutation       │                               │ 11%          │\n",
      "│ nras             │                                        │ low-grade serous              │              │\n",
      "│ pik3c3 (pi3k3)   │ amplification/mutation                 │                               │ 12–20%       │\n",
      "│ pik3ca           │ amplification                          │ endometrioid and clear cell   │ 18%          │\n",
      "│ ppp2r1a          │                                        │ endometrioid and clear cell   │              │\n",
      "│ pten             │ deletion                               │ endometrioid and clear cell   │ 7%           │\n",
      "│ rb1              │ deletion (8%) and point mutation (2%)  │                               │ 10%          │\n",
      "│ tgf-β            │ mutation/overexpression                │                               │ 12%          │\n",
      "│ tp53             │ mutation/overexpression                │ high-grade serous             │ 20–50%       │\n",
      "│ tβri             │ mutation                               │                               │ 33%          │\n",
      "│ tβrii            │ mutation                               │                               │ 25%          │\n",
      "│ usp36            │ overexpression                         │                               │              │\n",
      "└──────────────────┴────────────────────────────────────────┴───────────────────────────────┴──────────────┘\n"
     ]
    }
   ],
   "source": [
    "curr_table_idx = 17\n",
    "q = results[curr_table_idx][0]\n",
    "res = results[curr_table_idx][1]\n",
    "\n",
    "qdoc = collection.find_one({'_id_numeric': q})\n",
    "qdoc['content'] = [[clean_string(cell, 'lowercase', 'whitespace') for cell in row] for row in qdoc['content']]\n",
    "headers = qdoc['content'][:qdoc['num_header_rows']][0] if qdoc['num_header_rows'] > 0 else []\n",
    "\n",
    "print(f'Table {qdoc[\"_id_numeric\"]}')\n",
    "print(f'Rows: {len(qdoc[\"content\"])}, Columns: {len(qdoc[\"content\"][0])}')\n",
    "print(f'Context: {\" - \".join(qdoc[\"context\"])}')\n",
    "print(tabulate(qdoc['content'][qdoc['num_header_rows']:], headers=headers, tablefmt='simple_outline'))"
   ]
  },
  {
   "cell_type": "code",
   "execution_count": 11,
   "metadata": {},
   "outputs": [
    {
     "name": "stdout",
     "output_type": "stream",
     "text": [
      "Total results: 50\n",
      "0\t27\t1753269:  Opinion polling for the 2017 Chilean general election - President | Open-ended question\n",
      "1\t27\t1844480:  Opinion polling on the Emmanuel Macron presidency - Political barometers\n",
      "2\t27\t1486294:  Metrolinx mobility hubs - Mobility hubs in the GTHA | Demographics\n",
      "3\t27\t1238806:  Nationwide opinion polling for the 2016 Democratic Party presidential primaries - Individual polls | Polls conducted in 2015\n",
      "4\t27\t905348:  Results of the 2013 Malaysian state elections by constituency - Sabah\n",
      "5\t27\t1201815:  2015 Polish presidential election - Opinion polls | First round\n",
      "6\t27\t1072062:  2014 Hungarian parliamentary election - Opinion polls\n",
      "7\t27\t1473872:  2018 Florida gubernatorial election - Democratic primary | Polling\n",
      "8\t26\t1031199:  Housing in Europe - \n",
      "9\t26\t112980:  1996 Republican Party presidential primaries - Results | Statewide\n"
     ]
    }
   ],
   "source": [
    "print(f'Total results: {len(res)}')\n",
    "for j, r in enumerate(res[:10]):\n",
    "    rdoc = collection.find_one({'_id_numeric': r[0]})\n",
    "    print(f\"{j}\\t{r[1]}\\t{rdoc['_id_numeric']}:  {' - '.join(rdoc['context'])}\")"
   ]
  },
  {
   "cell_type": "code",
   "execution_count": 12,
   "metadata": {},
   "outputs": [
    {
     "name": "stdout",
     "output_type": "stream",
     "text": [
      "Table 1753269, overlap 27\n",
      "Context: Opinion polling for the 2017 Chilean general election - President | Open-ended question\n",
      "┌───────────────────┬─────────────────────────────────────┬──────────────────────────────────────────────────┬────────────────────────────────────────────────┬─────────────────────────────────────────────────────────────────┬───────────────────────────────────────────────┬─────────────────────────────────────────────────────────┬─────────────────────────────────────┬───────────────┬──────────────────────────────────────────────────────┬─────────────────────────────────┬───────────────────────────────────────────────────────┬───────────────────────────────────────────────────────┬──────────┬─────────┬─────────┐\n",
      "│ polling firm      │ field dates                         │ file:marco enríquez-ominami 2018 (4x3).jpg meo   │ file:carolina goic 2011 4x3 cropped.jpg goic   │ file:alejandro guillier (2017) 4x3 cropped image.jpg guillier   │ file:felipe josé kast sommerhoff.jpg f kast   │ file:josé antonio kast (2009) 4x3 cropped.jpg ja kast   │ file:ricardo lagos 2015.jpg lagos   │ mayol mayol   │ file:manuel josé ossandón irarrázabal.jpg ossandón   │ file:franco parisi.png parisi   │ file:sebastian pinera (2010) 4x3 cropped.jpg piñera   │ file:beatriz sánchez (2016) 4x3 cropped.jpg sánchez   │ others   │ dk/nr   │ error   │\n",
      "├───────────────────┼─────────────────────────────────────┼──────────────────────────────────────────────────┼────────────────────────────────────────────────┼─────────────────────────────────────────────────────────────────┼───────────────────────────────────────────────┼─────────────────────────────────────────────────────────┼─────────────────────────────────────┼───────────────┼──────────────────────────────────────────────────────┼─────────────────────────────────┼───────────────────────────────────────────────────────┼───────────────────────────────────────────────────────┼──────────┼─────────┼─────────┤\n",
      "│ adimark           │ november 7–28, 2016                 │ 1%                                               │ 1%                                             │ 21%                                                             │ 1%                                            │                                                         │ 7%                                  │               │ 4%                                                   │                                 │ 24%                                                   │                                                       │ 10%      │ 31%     │ 3%      │\n",
      "│ criteria research │ november 28-december 7, 2016        │ 2%                                               │                                                │ 25%                                                             │ 0%                                            │ 0%                                                      │ 4%                                  │               │ 5%                                                   │ 2%                              │ 27%                                                   │                                                       │ 35%      │ 35%     │ 3.4%    │\n",
      "│ cep               │ november 25-december 23, 2016       │ 1%                                               │                                                │ 14%                                                             │                                               │                                                         │ 5%                                  │               │ 2%                                                   │                                 │ 20%                                                   │                                                       │ 10%      │ 49%     │ 3%      │\n",
      "│ cerc-mori         │ december 7–15, 2016                 │                                                  │                                                │ 14%                                                             │                                               │                                                         │ 6%                                  │               │ 3%                                                   │                                 │ 19%                                                   │                                                       │ 57%      │ 57%     │ 3%      │\n",
      "│ adimark           │ december 2–28, 2016                 │ 2%                                               │                                                │ 26%                                                             │                                               │                                                         │ 5%                                  │               │ 4%                                                   │                                 │ 29%                                                   │                                                       │ 11%      │ 23%     │ 3%      │\n",
      "│ criteria research │ december 27, 2016 – january 4, 2017 │ 2%                                               │                                                │ 27%                                                             │                                               │ 1%                                                      │ 2%                                  │               │ 5%                                                   │ 2%                              │ 32%                                                   │                                                       │ 22%      │ 7%      │ 3.4%    │\n",
      "│ adimark           │ january 6–25, 2017                  │ 1%                                               │ 1%                                             │ 28%                                                             │                                               │ 1%                                                      │ 5%                                  │               │ 2%                                                   │                                 │ 27%                                                   │                                                       │ 10%      │ 25%     │ 3%      │\n",
      "│ criteria research │ january 25-february 2, 2017         │ 1%                                               │                                                │ 28%                                                             │                                               │                                                         │ 3%                                  │               │ 5%                                                   │ 3%                              │ 28%                                                   │                                                       │ 32%      │ 32%     │ 3.4%    │\n",
      "│ adimark           │ february 2–28, 2017                 │ 1%                                               │ 1%                                             │ 25%                                                             │ 1%                                            │ 1%                                                      │ 4%                                  │               │ 2%                                                   │ 1%                              │ 29%                                                   │                                                       │ 10%      │ 25%     │ 3%      │\n",
      "│ cadem             │ march 1–3, 2017                     │ 1%                                               │                                                │ 17%                                                             │                                               │                                                         │ 3%                                  │               │ 3%                                                   │ 2%                              │ 25%                                                   │                                                       │ 6%       │ 43%     │ 3.7%    │\n",
      "│ criteria research │ march 1–10, 2017                    │ 3%                                               │                                                │ 25%                                                             │                                               │                                                         │ 7%                                  │               │ 4%                                                   │ 5%                              │ 23%                                                   │                                                       │ 33%      │ 33%     │ 3.4%    │\n",
      "│ cadem             │ march 8–10, 2017                    │ 1%                                               │ 1%                                             │ 17%                                                             │ 1%                                            │                                                         │ 2%                                  │               │ 4%                                                   │ 2%                              │ 26%                                                   │                                                       │ 6%       │ 40%     │ 3.7%    │\n",
      "│ adimark           │ march 3–28, 2017                    │ 2%                                               │ 2%                                             │ 23%                                                             │ 1%                                            │                                                         │ 3%                                  │               │ 4%                                                   │                                 │ 27%                                                   │ 2%                                                    │ 7%       │ 29%     │ 3%      │\n",
      "│ cadem             │ march 15–17, 2017                   │ 1%                                               │ 2%                                             │ 16%                                                             │ 1%                                            │                                                         │ 2%                                  │ 1%            │ 3%                                                   │ 1%                              │ 24%                                                   │                                                       │ 7%       │ 42%     │ 3.7%    │\n",
      "│ cadem             │ march 22–24, 2017                   │ 1%                                               │ 3%                                             │ 15%                                                             │ 1%                                            │                                                         │ 3%                                  │               │ 3%                                                   │ 1%                              │ 25%                                                   │ 2%                                                    │ 4%       │ 42%     │ 3.6%    │\n",
      "│ cadem             │ march 29–31, 2017                   │ 1%                                               │ 2%                                             │ 16%                                                             │ 1%                                            │                                                         │ 4%                                  │               │ 3%                                                   │ 1%                              │ 24%                                                   │ 4%                                                    │ 4%       │ 40%     │ 3.6%    │\n",
      "│ cerc-mori         │ march 28-april 10, 2017             │ 2%                                               │                                                │ 14%                                                             │                                               │                                                         │ 4%                                  │               │ 2%                                                   │                                 │ 24%                                                   │ 3%                                                    │ 2%       │ 49%     │ 3%      │\n",
      "│ cadem             │ april 5–7, 2017                     │ 2%                                               │ 1%                                             │ 15%                                                             │                                               │                                                         │ 3%                                  │               │ 3%                                                   │ 2%                              │ 26%                                                   │ 6%                                                    │ 3%       │ 39%     │ 3.6%    │\n",
      "│ criteria research │ april 4–11, 2017                    │ 2%                                               │                                                │ 18%                                                             │                                               │                                                         │ 2%                                  │               │ 4%                                                   │ 6%                              │ 33%                                                   │ 11%                                                   │ 24%      │ 24%     │ 3.4%    │\n",
      "│ cadem             │ april 12–13, 2017                   │ 1%                                               │ 2%                                             │ 17%                                                             │                                               │                                                         │ 1%                                  │               │ 3%                                                   │ 2%                              │ 24%                                                   │ 6%                                                    │ 3%       │ 41%     │ 3.6%    │\n",
      "│ adimark           │ april 3–25, 2017                    │                                                  │ 2%                                             │ 19%                                                             │ 1%                                            │                                                         │ 3%                                  │               │ 2%                                                   │ 3%                              │ 24%                                                   │ 11%                                                   │ 6%       │ 29%     │ 3%      │\n",
      "│ cadem             │ april 20–21, 2017                   │                                                  │ 2%                                             │ 17%                                                             │ 1%                                            │                                                         │                                     │               │ 4%                                                   │ 1%                              │ 23%                                                   │ 6%                                                    │ 4%       │ 42%     │ 3.7%    │\n",
      "│ cadem             │ april 26–28, 2017                   │                                                  │ 2%                                             │ 16%                                                             │ 1%                                            │ 1%                                                      │                                     │               │ 4%                                                   │ 3%                              │ 22%                                                   │ 6%                                                    │ 4%       │ 41%     │ 3.6%    │\n",
      "│ cadem             │ may 3–5, 2017                       │ 1%                                               │ 3%                                             │ 15%                                                             │ 1%                                            │                                                         │                                     │               │ 4%                                                   │ 2%                              │ 24%                                                   │ 8%                                                    │ 4%       │ 38%     │ 3.6%    │\n",
      "│ criteria research │ may 2–12, 2017                      │                                                  │                                                │ 18%                                                             │                                               │                                                         │                                     │               │ 9%                                                   │ 5%                              │ 30%                                                   │ 17%                                                   │ 15%      │ 7%      │ 3.4%    │\n",
      "│ cep               │ april 26-may 22, 2017               │ 1.5%                                             │ 2.1%                                           │ 12.8%                                                           │                                               │                                                         │ 1.5%                                │               │ 5.4%                                                 │                                 │ 23.7%                                                 │ 4.8%                                                  │ 7%       │ 42%     │ 3%      │\n",
      "│ cadem             │ may 10–12, 2017                     │ 1%                                               │ 3%                                             │ 15%                                                             │ 1%                                            │                                                         │                                     │               │ 4%                                                   │ 1%                              │ 24%                                                   │ 9%                                                    │ 3%       │ 39%     │ 3.7%    │\n",
      "│ adimark           │ may 3–29, 2017                      │ 2%                                               │ 3%                                             │ 21%                                                             │ 1%                                            │                                                         │ 1%                                  │               │ 4%                                                   │ 1%                              │ 25%                                                   │ 11%                                                   │ 5%       │ 26%     │ 3%      │\n",
      "│ cadem             │ may 17–19, 2017                     │ 1%                                               │ 3%                                             │ 14%                                                             │ 1%                                            │ 1%                                                      │                                     │               │ 4%                                                   │ 2%                              │ 26%                                                   │ 8%                                                    │ 4%       │ 36%     │ 3.6%    │\n",
      "│ cadem             │ may 24–26, 2017                     │ 1%                                               │ 3%                                             │ 13%                                                             │                                               │                                                         │                                     │ 1%            │ 4%                                                   │ 2%                              │ 24%                                                   │ 9%                                                    │ 4%       │ 39%     │ 3.7%    │\n",
      "│ cadem             │ june 1–2, 2017                      │ 1%                                               │ 2%                                             │ 14%                                                             │ 1%                                            │                                                         │                                     │               │ 4%                                                   │ 1%                              │ 24%                                                   │ 10%                                                   │ 5%       │ 38%     │ 3.7%    │\n",
      "│ criteria research │ june 1–11, 2017                     │ 2%                                               │ 6%                                             │ 17%                                                             │                                               │                                                         │                                     │               │ 6%                                                   │                                 │ 29%                                                   │ 12%                                                   │ 19%      │ 10%     │ 3.4%    │\n",
      "│ cadem             │ june 7–9, 2017                      │                                                  │ 1%                                             │ 13%                                                             │ 1%                                            │                                                         │                                     │ 1%            │ 5%                                                   │                                 │ 25%                                                   │ 9%                                                    │ 5%       │ 40%     │ 3.6%    │\n",
      "│ adimark           │ june 2–27, 2017                     │ 1%                                               │ 2%                                             │ 15%                                                             │ 3%                                            │ 1%                                                      │                                     │ 3%            │ 4%                                                   │ 1%                              │ 31%                                                   │ 13%                                                   │ 3%       │ 23%     │ 3%      │\n",
      "│ cadem             │ june 15–16, 2017                    │ 1%                                               │ 2%                                             │ 13%                                                             │ 2%                                            │                                                         │                                     │ 2%            │ 6%                                                   │ 1%                              │ 25%                                                   │ 9%                                                    │ 5%       │ 34%     │ 3.6%    │\n",
      "│ cadem             │ june 21–23, 2017                    │                                                  │ 2%                                             │ 12%                                                             │ 3%                                            │                                                         │                                     │ 3%            │ 6%                                                   │ 1%                              │ 24%                                                   │ 9%                                                    │ 6%       │ 34%     │ 3.6%    │\n",
      "│ cadem             │ june 28–29, 2017                    │ 1%                                               │ 1%                                             │ 9%                                                              │ 5%                                            │ 1%                                                      │                                     │ 3%            │ 7%                                                   │ 1%                              │ 22%                                                   │ 11%                                                   │ 4%       │ 35%     │ 3.6%    │\n",
      "│ cadem             │ july 5–7, 2017                      │                                                  │ 1%                                             │ 9%                                                              │ 1%                                            │ 1%                                                      │                                     │               │ 2%                                                   │ 1%                              │ 30%                                                   │ 15%                                                   │ 5%       │ 35%     │ 3.7%    │\n",
      "│ adimark           │ july 4–26, 2017                     │ 1%                                               │ 1%                                             │ 16%                                                             │ 2%                                            │ 1%                                                      │ 1%                                  │               │ 2%                                                   │ 1%                              │ 32%                                                   │ 17%                                                   │ 4%       │ 22%     │ 3%      │\n",
      "│ adimarka          │ july 4–26, 2017                     │ 1%                                               │ 1%                                             │ 21%                                                             │ 2%                                            │ 1%                                                      │ 1%                                  │               │ 1%                                                   │ 1%                              │ 39%                                                   │ 20%                                                   │ 2%       │ 10%     │ 3%      │\n",
      "│ criteria research │ july 14–19, 2017                    │ 1%                                               │ 3%                                             │ 13%                                                             │ 5%                                            │ 1%                                                      │                                     │               │ 3%                                                   │                                 │ 37%                                                   │ 19%                                                   │ 14%      │ 6%      │ 3.4%    │\n",
      "│ cep               │ july 21-august 17, 2017             │ 1.6%                                             │ 2.2%                                           │ 14.5%                                                           │ 0.5%                                          │ 0.4%                                                    │ 0.1%                                │ 0.1%          │ 1.1%                                                 │ 1.1%                            │ 31.3%                                                 │ 10.2%                                                 │ 1.4%     │ 35.5%   │ 3%      │\n",
      "│ criteria research │ august 11–17, 2017                  │ 2%                                               │ 4%                                             │ 15%                                                             │                                               │ 2%                                                      │                                     │               │                                                      │                                 │ 35%                                                   │ 17%                                                   │ 18%      │ 7%      │ 3.4%    │\n",
      "│ adimark           │ august 3–29, 2017                   │ 1%                                               │ 5%                                             │ 16%                                                             │ 1%                                            │ 2%                                                      │                                     │               │                                                      │                                 │ 34%                                                   │ 15%                                                   │ 4%       │ 22%     │ 3%      │\n",
      "│ adimarkb          │ august 3–29, 2017                   │ 1%                                               │ 7%                                             │ 21%                                                             │ 1%                                            │ 2%                                                      │                                     │               │                                                      │                                 │ 40%                                                   │ 16%                                                   │ 2%       │ 10%     │ 3%      │\n",
      "│ criteria research │ september 21–24, 2017               │ 3%                                               │ 3%                                             │ 17%                                                             │                                               │ 3%                                                      │                                     │               │                                                      │                                 │ 34%                                                   │ 17%                                                   │ 18%      │ 5%      │ 3.4%    │\n",
      "│ cerc-mori         │ september 1–12, 2017                │ 2%                                               │ 2%                                             │ 20%                                                             │                                               │ 1%                                                      │                                     │               │                                                      │                                 │ 31%                                                   │ 8%                                                    │ 35%      │ 35%     │ 3%      │\n",
      "│ cep               │ september 22-october 16, 2017       │ 3.4%                                             │ 2.3%                                           │ 13.8%                                                           │                                               │                                                         │                                     │               │                                                      │                                 │ 32.8%                                                 │ 7.0%                                                  │ 4.3%     │ 36.4%   │ 3%      │\n",
      "│ criteria research │ october 20–30, 2017                 │ 4%                                               │ 5%                                             │ 18%                                                             │                                               │ 7%                                                      │                                     │               │                                                      │                                 │ 33%                                                   │ 15%                                                   │ 12%      │ 6%      │ 2.5%    │\n",
      "└───────────────────┴─────────────────────────────────────┴──────────────────────────────────────────────────┴────────────────────────────────────────────────┴─────────────────────────────────────────────────────────────────┴───────────────────────────────────────────────┴─────────────────────────────────────────────────────────┴─────────────────────────────────────┴───────────────┴──────────────────────────────────────────────────────┴─────────────────────────────────┴───────────────────────────────────────────────────────┴───────────────────────────────────────────────────────┴──────────┴─────────┴─────────┘\n",
      "Detected 32 seed(s) in 0.0014085769653320312 seconds.\n",
      "Generated 99 candidate(s) in 0.0005319118499755859 seconds.\n",
      "Verified 49 candidate(s) in 0.003549337387084961 seconds.\n",
      "Detected 1 largest overlap(s) in 0.004136323928833008 seconds.\n",
      "Size of the detected largest overlap(s): 2 columns, 13 rows, 26 cells.\n",
      "Total elapsed time: 0.005652189254760742 seconds.\n",
      "   0    1\n",
      "0      3%\n",
      "1      3%\n",
      "2      4%\n",
      "3      4%\n",
      "4     15%\n",
      "5     32%\n",
      "6      2%\n",
      "7      2%\n",
      "8      2%\n",
      "9     11%\n",
      "10    10%\n",
      "11    12%\n",
      "12    33%\n"
     ]
    }
   ],
   "source": [
    "j = 0\n",
    "rdoc = collection.find_one({'_id_numeric': res[j][0]})\n",
    "rdoc['content'] = [[clean_string(cell, 'lowercase', 'whitespace') for cell in row] for row in rdoc['content']]\n",
    "\n",
    "print(f'Table {rdoc[\"_id_numeric\"]}, overlap {res[j][1]}')\n",
    "print(f'Context: {\" - \".join(rdoc[\"context\"])}')\n",
    "print(tabulate(rdoc['content'], headers='firstrow', tablefmt='simple_outline'))\n",
    "\n",
    "r = sloth.sloth(\n",
    "    utils.parse_table(qdoc['content'], len(qdoc['content'][0]), qdoc['num_header_rows']), \n",
    "    utils.parse_table(rdoc['content'], len(rdoc['content'][0]), rdoc['num_header_rows']),\n",
    "    complete=True)"
   ]
  },
  {
   "cell_type": "markdown",
   "metadata": {},
   "source": [
    "## Inspect results"
   ]
  },
  {
   "cell_type": "code",
   "execution_count": 13,
   "metadata": {},
   "outputs": [
    {
     "name": "stdout",
     "output_type": "stream",
     "text": [
      "1\n",
      "┌──────────────┬───────────────┬─────────┬────────────┐\n",
      "│ 0            │ 1             │ 2       │ 3          │\n",
      "│ gene mutated │ mutation type │ subtype │ prevalence │\n",
      "└──────────────┴───────────────┴─────────┴────────────┘\n"
     ]
    }
   ],
   "source": [
    "print(qdoc['num_header_rows'])\n",
    "print(tabulate([list(range(len(qdoc['content'][0]))), qdoc['content'][:qdoc['num_header_rows']][0]], tablefmt='simple_outline'))"
   ]
  },
  {
   "cell_type": "code",
   "execution_count": 25,
   "metadata": {},
   "outputs": [
    {
     "name": "stderr",
     "output_type": "stream",
     "text": [
      "100%|██████████| 1/1 [00:00<00:00, 42.72it/s]\n"
     ]
    }
   ],
   "source": [
    "keep_columns = [0, 1, 2]\n",
    "blacklist =  {''}\n",
    "regex_replace_pattern = re.compile('') \n",
    "# regex_replace_pattern = re.compile(r' \\(\\d+%\\)')\n",
    "# regex_replace_pattern = re.compile(r' virus')\n",
    "fqdoc, query_sets = prepare_query(qdoc['_id_numeric'], keep_columns, blacklist, regex_replace_pattern)\n",
    "\n",
    "# we can define some constraints on the overlap\n",
    "min_num_columns_on_overlap = 0\n",
    "min_num_rows_on_overlap = 0\n",
    "search_all_overlaps = True\n",
    "\n",
    "# Search results for the query sets\n",
    "r = josie.query(\n",
    "    results_file=results_file, \n",
    "    k=k, \n",
    "    queries=query_sets, \n",
    "    force_sampling_cost=force_sampling_cost, \n",
    "    results_directory=results_directory, \n",
    "    token_table_on_memory=token_table_on_memory,\n",
    "    verbose=True\n",
    ")"
   ]
  },
  {
   "cell_type": "code",
   "execution_count": 26,
   "metadata": {},
   "outputs": [
    {
     "name": "stdout",
     "output_type": "stream",
     "text": [
      "Table 1157584\n",
      "Keeping columns: [0, 1, 2], filtered tokens: {''}\n",
      "Context: Ovarian cancer - Pathophysiology\n",
      "┌──────────────────┬────────────────────────────────────────┬───────────────────────────────┐\n",
      "│ Gene mutated     │ Mutation type                          │ Subtype                       │\n",
      "├──────────────────┼────────────────────────────────────────┼───────────────────────────────┤\n",
      "│ akt1             │ amplification                          │ #####                         │\n",
      "│ akt2             │ amplification/mutation                 │ #####                         │\n",
      "│ arid1a           │ point mutation                         │ endometrioid and clear cell   │\n",
      "│ becn1            │ deletion                               │ #####                         │\n",
      "│ braf             │ point mutation                         │ low-grade serous              │\n",
      "│ brca1            │ nonsense mutation                      │ high-grade serous             │\n",
      "│ brca2            │ frameshift mutation                    │ high-grade serous             │\n",
      "│ ccnd1            │ amplification                          │ #####                         │\n",
      "│ ccnd2            │ upregulation                           │ #####                         │\n",
      "│ ccne1            │ amplification                          │ #####                         │\n",
      "│ cdk12            │ #####                                  │ high-grade serous             │\n",
      "│ cdkn2a           │ downregulation (30%) and deletion (2%) │ #####                         │\n",
      "│ ctnnb1           │ #####                                  │ clear cell                    │\n",
      "│ dicer1           │ missense mutation (somatic)            │ nonepithelial                 │\n",
      "│ dynlrb1 (km23)   │ mutation                               │ #####                         │\n",
      "│ egfr             │ amplification/overexpression           │ #####                         │\n",
      "│ erbb2 (her2/neu) │ amplification/overexpression           │ mucinous and low-grade serous │\n",
      "│ fms              │ coexpression with csf-1                │ #####                         │\n",
      "│ foxl2            │ point mutation (402 c to g)            │ adult granulosa cell          │\n",
      "│ jag1             │ amplification                          │ #####                         │\n",
      "│ jag2             │ amplification                          │ #####                         │\n",
      "│ kras             │ amplification                          │ mucinous and low-grade serous │\n",
      "│ maml1            │ amplification and point mutation       │ #####                         │\n",
      "│ maml2            │ amplification and point mutation       │ #####                         │\n",
      "│ maml3            │ amplification                          │ #####                         │\n",
      "│ mlh1             │ #####                                  │ #####                         │\n",
      "│ nf1              │ deletion (8%) and point mutation (4%)  │ high-grade serous             │\n",
      "│ notch3           │ amplification and point mutation       │ #####                         │\n",
      "│ nras             │ #####                                  │ low-grade serous              │\n",
      "│ pik3c3 (pi3k3)   │ amplification/mutation                 │ #####                         │\n",
      "│ pik3ca           │ amplification                          │ endometrioid and clear cell   │\n",
      "│ ppp2r1a          │ #####                                  │ endometrioid and clear cell   │\n",
      "│ pten             │ deletion                               │ endometrioid and clear cell   │\n",
      "│ rb1              │ deletion (8%) and point mutation (2%)  │ #####                         │\n",
      "│ tgf-β            │ mutation/overexpression                │ #####                         │\n",
      "│ tp53             │ mutation/overexpression                │ high-grade serous             │\n",
      "│ tβri             │ mutation                               │ #####                         │\n",
      "│ tβrii            │ mutation                               │ #####                         │\n",
      "│ usp36            │ overexpression                         │ #####                         │\n",
      "└──────────────────┴────────────────────────────────────────┴───────────────────────────────┘\n"
     ]
    }
   ],
   "source": [
    "fqdoc = collection.find_one({'_id_numeric': qdoc['_id_numeric']})\n",
    "headers = fqdoc['content'][:fqdoc['num_header_rows']][0] if fqdoc['num_header_rows'] > 0 else []\n",
    "headers = [h for ii, h in enumerate(headers) if ii in keep_columns]\n",
    "\n",
    "fqdoc['content'] = fqdoc['content'][fqdoc['num_header_rows']:]\n",
    "fqdoc['content'] = [[clean_string(re.sub(regex_replace_pattern, '', cell), 'lowercase', 'whitespace') for ii, cell in enumerate(row) if ii in keep_columns] for row in fqdoc['content']]\n",
    "fqdoc['content'] = [[cell if cell not in blacklist else '#####' for cell in row] for row in fqdoc['content']]\n",
    "\n",
    "print(f'Table {fqdoc[\"_id_numeric\"]}')\n",
    "print(f'Keeping columns: {keep_columns}, filtered tokens: {blacklist}')\n",
    "print(f'Context: {\" - \".join(fqdoc[\"context\"])}')\n",
    "print(tabulate(fqdoc['content'], headers=headers, tablefmt='simple_outline'))"
   ]
  },
  {
   "cell_type": "code",
   "execution_count": 27,
   "metadata": {},
   "outputs": [
    {
     "name": "stdout",
     "output_type": "stream",
     "text": [
      "Number of results: 50\n",
      "0\t13\t1070370:  Epigenetics and melanoma - Roles microRNAs play in melanoma development\n",
      "1\t7\t797192:  List of genes mutated in cutaneous conditions - \n",
      "2\t3\t653831:  Gene duplication - As amplification | Role in cancer\n",
      "3\t3\t4058:  DOM events - Events | HTML events | Common events\n",
      "4\t3\t1375208:  Non-small-cell lung carcinoma - Cause | DNA repair deficiency in NSCLC\n",
      "5\t3\t841505:  Cancer biomarker - Types of cancer biomarkers | Molecular cancer biomarkers\n",
      "6\t3\t1745952:  Glucose-6-phosphate dehydrogenase deficiency - Cause | Genetics\n",
      "7\t2\t1024649:  Protein kinase inhibitor - Comparison of available agents\n",
      "8\t2\t1391493:  Antineoplastic resistance - Genetic markers for drug sensitivity and resistance\n",
      "9\t2\t1734953:  RNA interference - Applications | Medicine | Prospects as a Therapeutic Technique\n"
     ]
    }
   ],
   "source": [
    "filtdf = pl.read_csv('data/results/with-filter.csv.raw')\n",
    "fres = filtdf.select('query_id', 'results').rows()\n",
    "if fres[0][1] != None:\n",
    "    fres = [[q, list(zip(get_result_ids(r), get_result_overlaps(r)))] for q, r in fres][0][1]\n",
    "    print(f'Number of results: {len(fres)}')\n",
    "\n",
    "    for j, r in enumerate(fres[:10]):\n",
    "        frdoc = collection.find_one({'_id_numeric': r[0]})\n",
    "        print(f\"{j}\\t{r[1]}\\t{frdoc['_id_numeric']}:  {' - '.join(frdoc['context'])}\")\n",
    "else:\n",
    "    print('No results')"
   ]
  },
  {
   "cell_type": "code",
   "execution_count": 29,
   "metadata": {},
   "outputs": [
    {
     "name": "stdout",
     "output_type": "stream",
     "text": [
      "Table 1070370, overlap 13\n",
      "Header rows: 1\n",
      "Context: Epigenetics and melanoma - Roles microRNAs play in melanoma development\n",
      "┌────────────────────────┬─────────────┬─────────────────────────┬───────────────────────────────────────────────┐\n",
      "│ gene type              │ gene name   │ alteration type         │ frequency of alteration within melanoma (%)   │\n",
      "├────────────────────────┼─────────────┼─────────────────────────┼───────────────────────────────────────────────┤\n",
      "│ proto- oncogenes       │ nras        │ mutation                │ 15- 25                                        │\n",
      "│                        │ braf        │ mutation                │ 50- 70                                        │\n",
      "│                        │ kit         │ mutation                │ 2- 10                                         │\n",
      "│                        │ cdk4        │ mutation, amplification │ 0- 9                                          │\n",
      "│                        │ ctnnb1      │ mutation                │ 2- 23                                         │\n",
      "│                        │ mitf        │ amplification           │ 10- 16                                        │\n",
      "│                        │ ccnd1       │ amplification           │ 6- 44                                         │\n",
      "│                        │ pik3ca      │ mutation                │ <5                                            │\n",
      "│                        │ akt3        │ amplification           │ 40- 60                                        │\n",
      "│ tumor suppressor genes │ ink4a       │ mutation                │ 40- 87                                        │\n",
      "│                        │ arf         │ mutation                │ 40- 70                                        │\n",
      "│                        │ pten        │ mutation                │ 5- 40                                         │\n",
      "│                        │ tp53        │ mutation                │ 0- 25                                         │\n",
      "└────────────────────────┴─────────────┴─────────────────────────┴───────────────────────────────────────────────┘\n",
      "Detected 2 seed(s) in 0.0003986358642578125 seconds.\n",
      "Generated 1 candidate(s) in 1.7881393432617188e-05 seconds.\n",
      "Verified 1 candidate(s) in 9.250640869140625e-05 seconds.\n",
      "Detected 1 largest overlap(s) in 0.00012063980102539062 seconds.\n",
      "Size of the detected largest overlap(s): 1 columns, 7 rows, 7 cells.\n",
      "Total elapsed time: 0.0006301403045654297 seconds.\n",
      "        0\n",
      "0    braf\n",
      "1   ccnd1\n",
      "2  ctnnb1\n",
      "3    nras\n",
      "4  pik3ca\n",
      "5    pten\n",
      "6    tp53\n"
     ]
    }
   ],
   "source": [
    "jf = 0\n",
    "\n",
    "frdoc = collection.find_one({'_id_numeric': fres[jf][0]})\n",
    "frdoc['content'] = [[clean_string(cell, 'lowercase', 'whitespace') for cell in row] for row in frdoc['content']]\n",
    "\n",
    "print(f'Table {frdoc[\"_id_numeric\"]}, overlap {fres[jf][1]}')\n",
    "print(f'Header rows: {frdoc[\"num_header_rows\"]}')\n",
    "print(f'Context: {\" - \".join(frdoc[\"context\"])}')\n",
    "print(tabulate(frdoc['content'], headers='firstrow', tablefmt='simple_outline'))\n",
    "\n",
    "r = sloth.sloth(\n",
    "    utils.parse_table(fqdoc['content'], len(fqdoc['content'][0]), 0), \n",
    "    utils.parse_table(frdoc['content'], len(frdoc['content'][0]), frdoc['num_header_rows']),\n",
    "    complete=True,\n",
    "    verbose=True,\n",
    "    )"
   ]
  },
  {
   "cell_type": "markdown",
   "metadata": {},
   "source": [
    "### Try to clean and modify the query table"
   ]
  },
  {
   "cell_type": "code",
   "execution_count": null,
   "metadata": {},
   "outputs": [],
   "source": [
    "table2 = [[cancer, m] for cancer, markers in rdoc['content'] for m in markers.split(',')]\n",
    "\n",
    "print(tabulate(table2, headers='firstrow', tablefmt='simple_outline'))\n",
    "r = sloth.sloth(\n",
    "    utils.parse_table(qdoc['content'], len(qdoc['content'][0]), qdoc['num_header_rows']), \n",
    "    utils.parse_table(table2, len(table2[0]), rdoc['num_header_rows']),\n",
    "    complete=True,\n",
    "    min_w=0,\n",
    "    min_h=0\n",
    ")"
   ]
  },
  {
   "cell_type": "markdown",
   "metadata": {},
   "source": [
    "## Possible example tables"
   ]
  },
  {
   "cell_type": "markdown",
   "metadata": {},
   "source": [
    "- PATHO\n",
    "    - 1, 43091\n",
    "    - 6, 149698\n",
    "    - 9, 267433\n",
    "    - 14, 558801\n",
    "    - 17, 1157584 --> better\n",
    "\n",
    "- CANCER\n",
    "    - 653831\n",
    "\n",
    "- CONSUME\n",
    "    - 1356495"
   ]
  }
 ],
 "metadata": {
  "kernelspec": {
   "display_name": "dltfenv",
   "language": "python",
   "name": "python3"
  },
  "language_info": {
   "codemirror_mode": {
    "name": "ipython",
    "version": 3
   },
   "file_extension": ".py",
   "mimetype": "text/x-python",
   "name": "python",
   "nbconvert_exporter": "python",
   "pygments_lexer": "ipython3",
   "version": "3.10.13"
  }
 },
 "nbformat": 4,
 "nbformat_minor": 2
}
