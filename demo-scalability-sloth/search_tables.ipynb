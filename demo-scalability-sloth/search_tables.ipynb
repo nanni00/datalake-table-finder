{
 "cells": [
  {
   "cell_type": "code",
   "execution_count": 2,
   "metadata": {},
   "outputs": [
    {
     "data": {
      "text/plain": [
       "<module 'dltf.utils.misc' from '/home/nanni/datalake-table-finder/dltf/utils/misc.py'>"
      ]
     },
     "execution_count": 2,
     "metadata": {},
     "output_type": "execute_result"
    }
   ],
   "source": [
    "import re\n",
    "import pickle\n",
    "\n",
    "import pymongo\n",
    "import polars as pl\n",
    "from tabulate import tabulate\n",
    "\n",
    "from dltf.utils import tables\n",
    "from dltf.utils import misc\n",
    "from dltf.testers.josie.josie import JOSIETester\n",
    "from dltf.utils.datalake import MongoDBDataLakeHandler\n",
    "\n",
    "import importlib\n",
    "importlib.reload(misc)"
   ]
  },
  {
   "cell_type": "markdown",
   "metadata": {},
   "source": [
    "### Open the connection to MongoDB"
   ]
  },
  {
   "cell_type": "code",
   "execution_count": 3,
   "metadata": {},
   "outputs": [],
   "source": [
    "mc = pymongo.MongoClient()\n",
    "collection = mc.sloth.latest_snapshot_tables"
   ]
  },
  {
   "cell_type": "markdown",
   "metadata": {},
   "source": [
    "### Function to extract results from JOSIE CSV results file"
   ]
  },
  {
   "cell_type": "code",
   "execution_count": 4,
   "metadata": {},
   "outputs": [],
   "source": [
    "def get_result_ids(s):\n",
    "    return list(map(int, re.findall(r'\\d+', s)[::2]))\n",
    "\n",
    "def get_result_overlaps(s):\n",
    "    return list(map(int, re.findall(r'\\d+', s)[1::2]))"
   ]
  },
  {
   "cell_type": "markdown",
   "metadata": {},
   "source": [
    "### Setup for further inspections"
   ]
  },
  {
   "cell_type": "code",
   "execution_count": 19,
   "metadata": {},
   "outputs": [],
   "source": [
    "data_path                   = f'./data'\n",
    "mode                        = 'bag'\n",
    "blacklist                   = set(['–', '—', '-', '●', '&nbsp', '&nbsp;', '&nbsp; &nbsp;', 'yes', 'no', 'n/a', 'none', '{{y}}', '{{n}}', '{{yes}}', '{{no}}', '{{n/a}}'] + list(map(str, range(1000))))\n",
    "string_translators          = ['whitespace', 'lowercase']\n",
    "string_patterns             = [] # [[re.compile(r'^.*\\|([^}]*)\\}\\}$'),  r'\\1']]\n",
    "\n",
    "k                           = 10\n",
    "min_w                       = 3\n",
    "min_h                       = 10\n",
    "\n",
    "# Set up the DataLake handler\n",
    "datalake_name               = 'demo'\n",
    "datalake_location           = 'mongodb'\n",
    "datasets                    = ['sloth.latest_snapshot_tables']\n",
    "dlh                         = MongoDBDataLakeHandler(datalake_location, datalake_name, datasets)\n",
    "\n",
    "\n",
    "# JOSIE (global search tool) parameters\n",
    "force_sampling_cost         = False # force JOSIE to do cost sampling before querying\n",
    "token_table_on_memory       = False # build the token table used by JOSIE directly on disk\n",
    "results_directory           = f'{data_path}'\n",
    "tokens_bidict_file          = f'{data_path}/josie-tokens-bidict.pickle'\n",
    "results_file                = f'{data_path}/results/result.csv'\n",
    "log_file                    = f'{data_path}/.log'\n",
    "\n",
    "# connection info for the JOSIE inverted index\n",
    "db_config = {\n",
    "    'drivername': 'postgresql',\n",
    "    'database'  : 'DEMODB',\n",
    "    'port'      :  5442,\n",
    "    'host'      : 'localhost',\n",
    "    'username'  : 'demo',\n",
    "    'password'  : 'demo',\n",
    "}\n",
    "\n",
    "# Instatiate JOSIE\n",
    "josie = JOSIETester(\n",
    "    mode=mode,\n",
    "    blacklist=blacklist,\n",
    "    datalake_handler=dlh,\n",
    "    string_translators=string_translators,\n",
    "    string_patterns=string_patterns,\n",
    "    dbstatfile=None,\n",
    "    tokens_bidict_file=tokens_bidict_file,\n",
    "    josie_db_connection_info=db_config,\n",
    "    spark_config=None\n",
    ")"
   ]
  },
  {
   "cell_type": "code",
   "execution_count": 20,
   "metadata": {},
   "outputs": [],
   "source": [
    "# Load the bidictionary between the JOSIE tokens IDs and the correspondent original string\n",
    "with open(tokens_bidict_file, 'rb') as fr:\n",
    "    tokens_bidict = pickle.load(fr)"
   ]
  },
  {
   "cell_type": "code",
   "execution_count": 21,
   "metadata": {},
   "outputs": [],
   "source": [
    "def prepare_query(qdoc, mode, blacklist, string_translators, string_patterns, tokens_bidict):    \n",
    "    # Extract a bag of tokens from the document's content\n",
    "    query_sets = [\n",
    "        [\n",
    "            doc['_id_numeric'],\n",
    "            tables.table_to_tokens(\n",
    "                table=doc['content'], \n",
    "                valid_columns=doc['valid_columns'], \n",
    "                mode=mode, \n",
    "                blacklist=blacklist,\n",
    "                string_translators=string_translators,\n",
    "                string_patterns=string_patterns\n",
    "            )\n",
    "        ]\n",
    "        for doc in [qdoc]\n",
    "    ]\n",
    "    \n",
    "    # Map each token in the sets with its correspondent token ID for JOSIE\n",
    "    query_sets = [\n",
    "        [\n",
    "            query_id, \n",
    "            sorted([\n",
    "                tokens_bidict.inverse[misc.clean_string(token, string_translators, string_patterns)]\n",
    "                for token in query_set \n",
    "                if misc.clean_string(token, string_translators, string_patterns) in tokens_bidict.inverse\n",
    "            ])\n",
    "        ]\n",
    "        for query_id, query_set in query_sets\n",
    "    ]\n",
    "\n",
    "    # Transform the list <ID, tokens[]> into a dictionary <ID: tokens[]>\n",
    "    query_sets = dict(query_sets)\n",
    "    return query_sets"
   ]
  },
  {
   "cell_type": "markdown",
   "metadata": {},
   "source": [
    "## Inspect results"
   ]
  },
  {
   "cell_type": "code",
   "execution_count": 55,
   "metadata": {},
   "outputs": [],
   "source": [
    "query_id = 751207"
   ]
  },
  {
   "cell_type": "code",
   "execution_count": 56,
   "metadata": {},
   "outputs": [
    {
     "name": "stdout",
     "output_type": "stream",
     "text": [
      "Table 751207\n",
      "Num header rows: 0, valid columns: [1, 1, 1, 1]\n",
      "Context: List of research universities in the United States - Universities classified as \"R1: Doctoral Universities – Very high research activity\"\n",
      "┌──────────────────────────────────────────────────────────────────┬──────────────────────┬─────────────────┬───────┐\n",
      "│ institution                                                      │ control              │ city            │ state │\n",
      "│ arizona state university                                         │ public               │ tempe           │ az    │\n",
      "│ auburn university                                                │ public               │ auburn          │ al    │\n",
      "│ binghamton university                                            │ public               │ vestal          │ ny    │\n",
      "│ boston college                                                   │ private (non-profit) │ chestnut hill   │ ma    │\n",
      "│ boston university                                                │ private (non-profit) │ boston          │ ma    │\n",
      "│ brandeis university                                              │ private (non-profit) │ waltham         │ ma    │\n",
      "│ brown university                                                 │ private (non-profit) │ providence      │ ri    │\n",
      "│ california institute of technology                               │ private (non-profit) │ pasadena        │ ca    │\n",
      "│ carnegie mellon university                                       │ private (non-profit) │ pittsburgh      │ pa    │\n",
      "│ case western reserve university                                  │ private (non-profit) │ cleveland       │ oh    │\n",
      "│ clemson university                                               │ public               │ clemson         │ sc    │\n",
      "│ colorado state university                                        │ public               │ fort collins    │ co    │\n",
      "│ columbia university in the city of new york                      │ private (non-profit) │ new york        │ ny    │\n",
      "│ cornell university                                               │ private (non-profit) │ ithaca          │ ny    │\n",
      "│ cuny graduate school and university center                       │ public               │ new york        │ ny    │\n",
      "│ dartmouth college                                                │ private (non-profit) │ hanover         │ nh    │\n",
      "│ drexel university                                                │ private (non-profit) │ philadelphia    │ pa    │\n",
      "│ duke university                                                  │ private (non-profit) │ durham          │ nc    │\n",
      "│ emory university                                                 │ private (non-profit) │ atlanta         │ ga    │\n",
      "│ florida international university                                 │ public               │ miami           │ fl    │\n",
      "│ florida state university                                         │ public               │ tallahassee     │ fl    │\n",
      "│ george mason university                                          │ public               │ fairfax         │ va    │\n",
      "│ george washington university                                     │ private (non-profit) │ washington      │ dc    │\n",
      "│ georgetown university                                            │ private (non-profit) │ washington      │ dc    │\n",
      "│ georgia institute of technology                                  │ public               │ atlanta         │ ga    │\n",
      "│ georgia state university                                         │ public               │ atlanta         │ ga    │\n",
      "│ harvard university                                               │ private (non-profit) │ cambridge       │ ma    │\n",
      "│ indiana university bloomington                                   │ public               │ bloomington     │ in    │\n",
      "│ iowa state university                                            │ public               │ ames            │ ia    │\n",
      "│ johns hopkins university                                         │ private (non-profit) │ baltimore       │ md    │\n",
      "│ kansas state university                                          │ public               │ manhattan       │ ks    │\n",
      "│ louisiana state university and agricultural & mechanical college │ public               │ baton rouge     │ la    │\n",
      "│ massachusetts institute of technology                            │ private (non-profit) │ cambridge       │ ma    │\n",
      "│ michigan state university                                        │ public               │ east lansing    │ mi    │\n",
      "│ mississippi state university                                     │ public               │ starkville      │ ms    │\n",
      "│ montana state university                                         │ public               │ bozeman         │ mt    │\n",
      "│ new jersey institute of technology                               │ public               │ newark          │ nj    │\n",
      "│ new york university                                              │ private (non-profit) │ new york        │ ny    │\n",
      "│ north carolina state university                                  │ public               │ raleigh         │ nc    │\n",
      "│ northeastern university                                          │ private (non-profit) │ boston          │ ma    │\n",
      "│ northwestern university                                          │ private (non-profit) │ evanston        │ il    │\n",
      "│ ohio state university                                            │ public               │ columbus        │ oh    │\n",
      "│ oklahoma state university                                        │ public               │ stillwater      │ ok    │\n",
      "│ oregon state university                                          │ public               │ corvallis       │ or    │\n",
      "│ pennsylvania state university                                    │ public               │ university park │ pa    │\n",
      "│ princeton university                                             │ private (non-profit) │ princeton       │ nj    │\n",
      "│ purdue university                                                │ public               │ west lafayette  │ in    │\n",
      "│ rensselaer polytechnic institute                                 │ private (non-profit) │ troy            │ ny    │\n",
      "│ rice university                                                  │ private (non-profit) │ houston         │ tx    │\n",
      "│ rutgers university–new brunswick                                 │ public               │ new brunswick   │ nj    │\n",
      "│ southern illinois university                                     │ public               │ carbondale      │ il    │\n",
      "│ stanford university                                              │ private (non-profit) │ stanford        │ ca    │\n",
      "│ stony brook university                                           │ public               │ stony brook     │ ny    │\n",
      "│ suny at albany                                                   │ public               │ albany          │ ny    │\n",
      "│ syracuse university                                              │ private (non-profit) │ syracuse        │ ny    │\n",
      "│ temple university                                                │ public               │ philadelphia    │ pa    │\n",
      "│ texas a&m university                                             │ public               │ college station │ tx    │\n",
      "│ texas tech university                                            │ public               │ lubbock         │ tx    │\n",
      "│ the university of alabama                                        │ public               │ tuscaloosa      │ al    │\n",
      "│ the university of tennessee                                      │ public               │ knoxville       │ tn    │\n",
      "│ the university of texas at austin                                │ public               │ austin          │ tx    │\n",
      "│ the university of texas at arlington                             │ public               │ arlington       │ tx    │\n",
      "│ the university of texas at dallas                                │ public               │ richardson      │ tx    │\n",
      "│ the university of texas at el paso                               │ public               │ el paso         │ tx    │\n",
      "│ tufts university                                                 │ private (non-profit) │ medford         │ ma    │\n",
      "│ tulane university of louisiana                                   │ private (non-profit) │ new orleans     │ la    │\n",
      "│ university at buffalo                                            │ public               │ buffalo         │ ny    │\n",
      "│ university of alabama at birmingham                              │ public               │ birmingham      │ al    │\n",
      "│ university of arizona                                            │ public               │ tucson          │ az    │\n",
      "│ university of arkansas                                           │ public               │ fayetteville    │ ar    │\n",
      "│ university of california, berkeley                               │ public               │ berkeley        │ ca    │\n",
      "│ university of california, davis                                  │ public               │ davis           │ ca    │\n",
      "│ university of california, irvine                                 │ public               │ irvine          │ ca    │\n",
      "│ university of california, los angeles                            │ public               │ los angeles     │ ca    │\n",
      "│ university of california, riverside                              │ public               │ riverside       │ ca    │\n",
      "│ university of california, san diego                              │ public               │ la jolla        │ ca    │\n",
      "│ university of california, santa barbara                          │ public               │ santa barbara   │ ca    │\n",
      "│ university of california, santa cruz                             │ public               │ santa cruz      │ ca    │\n",
      "│ university of california, san francisco                          │ public               │ san francisco   │ ca    │\n",
      "│ university of central florida                                    │ public               │ orlando         │ fl    │\n",
      "│ university of chicago                                            │ private (non-profit) │ chicago         │ il    │\n",
      "│ university of cincinnati                                         │ public               │ cincinnati      │ oh    │\n",
      "│ university of colorado boulder                                   │ public               │ boulder         │ co    │\n",
      "│ university of colorado denver/anschutz-medical campus            │ public               │ denver          │ co    │\n",
      "│ university of connecticut                                        │ public               │ storrs          │ ct    │\n",
      "│ university of delaware                                           │ public               │ newark          │ de    │\n",
      "│ university of florida                                            │ public               │ gainesville     │ fl    │\n",
      "│ university of georgia                                            │ public               │ athens          │ ga    │\n",
      "│ university of hawaii at manoa                                    │ public               │ honolulu        │ hi    │\n",
      "│ university of houston                                            │ public               │ houston         │ tx    │\n",
      "│ university of illinois at chicago                                │ public               │ chicago         │ il    │\n",
      "│ university of illinois at urbana–champaign                       │ public               │ champaign       │ il    │\n",
      "│ university of iowa                                               │ public               │ iowa city       │ ia    │\n",
      "│ university of kansas                                             │ public               │ lawrence        │ ks    │\n",
      "│ university of kentucky                                           │ public               │ lexington       │ ky    │\n",
      "│ university of louisville                                         │ public               │ louisville      │ ky    │\n",
      "│ university of maryland, college park                             │ public               │ college park    │ md    │\n",
      "│ university of massachusetts amherst                              │ public               │ amherst         │ ma    │\n",
      "│ university of miami                                              │ private (non-profit) │ coral gables    │ fl    │\n",
      "│ university of michigan                                           │ public               │ ann arbor       │ mi    │\n",
      "│ university of minnesota                                          │ public               │ minneapolis     │ mn    │\n",
      "│ university of mississippi                                        │ public               │ oxford          │ ms    │\n",
      "│ university of missouri                                           │ public               │ columbia        │ mo    │\n",
      "│ university of nebraska–lincoln                                   │ public               │ lincoln         │ ne    │\n",
      "│ university of nevada, las vegas                                  │ public               │ las vegas       │ nv    │\n",
      "│ university of nevada, reno                                       │ public               │ reno            │ nv    │\n",
      "│ university of new hampshire                                      │ public               │ durham          │ nh    │\n",
      "│ university of new mexico                                         │ public               │ albuquerque     │ nm    │\n",
      "│ university of north carolina at chapel hill                      │ public               │ chapel hill     │ nc    │\n",
      "│ university of north texas                                        │ public               │ denton          │ tx    │\n",
      "│ university of notre dame                                         │ private (non-profit) │ notre dame      │ in    │\n",
      "│ university of oklahoma                                           │ public               │ norman          │ ok    │\n",
      "│ university of oregon                                             │ public               │ eugene          │ or    │\n",
      "│ university of pennsylvania                                       │ private (non-profit) │ philadelphia    │ pa    │\n",
      "│ university of pittsburgh                                         │ public               │ pittsburgh      │ pa    │\n",
      "│ university of rochester                                          │ private (non-profit) │ rochester       │ ny    │\n",
      "│ university of south carolina                                     │ public               │ columbia        │ sc    │\n",
      "│ university of south florida                                      │ public               │ tampa           │ fl    │\n",
      "│ university of southern california                                │ private (non-profit) │ los angeles     │ ca    │\n",
      "│ university of southern mississippi                               │ public               │ hattiesburg     │ ms    │\n",
      "│ university of utah                                               │ public               │ salt lake city  │ ut    │\n",
      "│ university of virginia                                           │ public               │ charlottesville │ va    │\n",
      "│ university of washington                                         │ public               │ seattle         │ wa    │\n",
      "│ university of wisconsin–madison                                  │ public               │ madison         │ wi    │\n",
      "│ university of wisconsin–milwaukee                                │ public               │ milwaukee       │ wi    │\n",
      "│ vanderbilt university                                            │ private (non-profit) │ nashville       │ tn    │\n",
      "│ virginia commonwealth university                                 │ public               │ richmond        │ va    │\n",
      "│ virginia polytechnic institute and state university              │ public               │ blacksburg      │ va    │\n",
      "│ washington state university                                      │ public               │ pullman         │ wa    │\n",
      "│ washington university in st. louis                               │ private (non-profit) │ saint louis     │ mo    │\n",
      "│ wayne state university                                           │ public               │ detroit         │ mi    │\n",
      "│ west virginia university                                         │ public               │ morgantown      │ wv    │\n",
      "│ yale university                                                  │ private (non-profit) │ new haven       │ ct    │\n",
      "└──────────────────────────────────────────────────────────────────┴──────────────────────┴─────────────────┴───────┘\n"
     ]
    }
   ],
   "source": [
    "qdoc = collection.find_one({'_id_numeric': query_id})\n",
    "num_header_rows = qdoc['num_header_rows']\n",
    "headers = qdoc['content'][:num_header_rows][0] if num_header_rows > 0 else []\n",
    "content = [[misc.clean_string(cell, string_translators, string_patterns) for cell in row] for row in qdoc['content']]\n",
    "\n",
    "print(f'Table {qdoc[\"_id_numeric\"]}')\n",
    "# print(f'Keeping columns: {keep_columns}, filtered tokens: {blacklist}')\n",
    "print(f\"Num header rows: {qdoc['num_header_rows']}, valid columns: {qdoc['valid_columns']}\")\n",
    "print(f'Context: {\" - \".join(qdoc[\"context\"])}')\n",
    "print(tabulate(content[num_header_rows:], headers=headers, tablefmt='simple_outline'))"
   ]
  },
  {
   "cell_type": "code",
   "execution_count": 57,
   "metadata": {},
   "outputs": [],
   "source": [
    "# Search results for the query sets\n",
    "r = josie.query(\n",
    "    results_file=results_file, \n",
    "    k=k, \n",
    "    queries=prepare_query(qdoc, mode, blacklist, string_translators, string_patterns, tokens_bidict)\n",
    ")\n",
    "\n",
    "qdoc['content'] = [[misc.clean_string(cell, string_translators, string_patterns) for cell in row] for row in qdoc['content']]"
   ]
  },
  {
   "cell_type": "code",
   "execution_count": 58,
   "metadata": {},
   "outputs": [
    {
     "name": "stdout",
     "output_type": "stream",
     "text": [
      "Number of results: 10\n",
      "0\t1757533\t512:  Research I university - Institutions\n",
      "1\t815257\t256:  List of NCAA Division I basketball arenas - Current arenas\n",
      "2\t755346\t247:  List of research universities in the United States - Universities classified as \"R2: Doctoral Universities – High research activity\"\n",
      "3\t1519949\t216:  List of NCAA Division I women's soccer programs - Current Division I schools\n",
      "4\t1392827\t216:  List of research universities in the United States - Universities classified as \"D/PU: Doctoral/Professional Universities\"\n",
      "5\t1732715\t201:  List of metropolitan planning organizations in the United States - List of metropolitan planning organizations\n",
      "6\t1044118\t190:  List of K-LOVE stations - \n",
      "7\t15608\t180:  List of NCAA Division I FBS football stadiums - Current stadiums\n",
      "8\t381466\t173:  Urban planning education - Accreditation in North America | Accredited planning programs | United States of America and Puerto Rico\n",
      "9\t167894\t167:  List of Pi Kappa Phi chapters - Chapters | Collegiate chapters\n"
     ]
    }
   ],
   "source": [
    "df = pl.read_csv(results_file + '.raw')\n",
    "josie_res = df.select('query_id', 'results').rows()[0][1]\n",
    "sloth_res = []\n",
    "\n",
    "if josie_res is not None:\n",
    "    josie_res = [(i, rid, jov) for i, (rid, jov) in enumerate(zip(get_result_ids(josie_res), get_result_overlaps(josie_res)))]\n",
    "    print(f'Number of results: {len(josie_res)}')\n",
    "    for i, rid, jov in josie_res:\n",
    "        rdoc = collection.find_one({'_id_numeric': rid})\n",
    "        rdoc['content'] = [[misc.clean_string(cell, string_translators, string_patterns) for cell in row] for row in rdoc['content']]\n",
    "        \n",
    "        try:\n",
    "            sloth_overlap = misc.largest_overlap_sloth(\n",
    "                qdoc['content'][qdoc['num_header_rows']:], \n",
    "                rdoc['content'][rdoc['num_header_rows']:], \n",
    "                qdoc['valid_columns'], \n",
    "                rdoc['valid_columns'], \n",
    "                blacklist=blacklist, \n",
    "                min_w=min_w,\n",
    "                min_h=min_h,\n",
    "                verbose=False\n",
    "            )[0]\n",
    "            sloth_res.append([i, rid, sloth_overlap])\n",
    "        except KeyboardInterrupt: \n",
    "            sloth_res.append([i, rid, -1])\n",
    "            \n",
    "        print(f\"{i}\\t{rid}\\t{jov}:  {' - '.join(rdoc['context'])}\")\n",
    "else:\n",
    "    print('No results')"
   ]
  },
  {
   "cell_type": "code",
   "execution_count": 59,
   "metadata": {},
   "outputs": [
    {
     "data": {
      "text/plain": [
       "[[0, 1757533, 464],\n",
       " [8, 381466, 129],\n",
       " [2, 755346, 45],\n",
       " [4, 1392827, 42],\n",
       " [1, 815257, 0],\n",
       " [3, 1519949, 0],\n",
       " [5, 1732715, 0],\n",
       " [6, 1044118, 0],\n",
       " [7, 15608, 0],\n",
       " [9, 167894, 0]]"
      ]
     },
     "execution_count": 59,
     "metadata": {},
     "output_type": "execute_result"
    }
   ],
   "source": [
    "sloth_res.sort(key=lambda x: x[2], reverse=True)\n",
    "sloth_res"
   ]
  },
  {
   "cell_type": "code",
   "execution_count": 49,
   "metadata": {},
   "outputs": [
    {
     "name": "stdout",
     "output_type": "stream",
     "text": [
      "Table 1335701, JOSIE rank: 5, SLOTH rank: 0, overlap 30\n",
      "Num header rows: 1, valid columns: [1, 1, 1, 0, 1, 0, 0, 0, 0, 1, 1, 1, 0, 0, 0]\n",
      "Context: 2014 Spanish Socialist Workers' Party leadership election - Opinion polls | Spanish voters\n",
      "┌─────────────────────────────┬──────────────────┬───────────────┬──────────────────────────────────────────┬──────────────────────────────────────────────────────────┬────────────────────────────────────────┬────────────────────────────────────────┬────────────────────────────────────────────────────┬───────────────────────────────────────┬────────────────────────┬────────────────────────────────────────┬─────────────────────────────────────────────────┬───────────────┬─────────────┬────────┐\n",
      "│ polling firm/commissioner   │ fieldwork date   │ sample size   │ file:eduardo madina 2016 (cropped).jpg   │ pedro sánchez                                            │ file:carme chacón 2010 (cropped).jpg   │ file:susana díaz 2015g (cropped).jpg   │ file:alfredo pérez rubalcaba 2012b (cropped).jpg   │ file:patxi lópez 2013 (cropped).jpg   │ emiliano garcía-page   │ tomás gómez                            │ file:josé antonio griñán 2012 (cropped)-2.jpg   │ other /none   │ {{qmark}}   │ lead   │\n",
      "├─────────────────────────────┼──────────────────┼───────────────┼──────────────────────────────────────────┼──────────────────────────────────────────────────────────┼────────────────────────────────────────┼────────────────────────────────────────┼────────────────────────────────────────────────────┼───────────────────────────────────────┼────────────────────────┼────────────────────────────────────────┼─────────────────────────────────────────────────┼───────────────┼─────────────┼────────┤\n",
      "│ polling firm/commissioner   │ fieldwork date   │ sample size   │                                          │                                                          │                                        │                                        │                                                    │                                       │                        │                                        │                                                 │ other /none   │ {{qmark}}   │ lead   │\n",
      "│ polling firm/commissioner   │ fieldwork date   │ sample size   │ {{small|[[eduardo madina|madina]]}}      │ {{small|[[pedro sánchez (spanish politician)|sánchez]]}} │ {{small|[[carme chacón|chacón]]}}      │ {{small|[[susana díaz|díaz]]}}         │ {{small|[[alfredo pérez rubalcaba|rubalcaba]]}}    │ {{small|[[patxi lópez|lópez]]}}       │ {{small|page}}         │ {{small|[[tomás gómez franco|gómez]]}} │ {{small|[[josé antonio griñán|griñán]]}}        │ other /none   │ {{qmark}}   │ lead   │\n",
      "│ sigma dos/el mundo          │ 28–30 may 2014   │ ?             │ 19.2                                     │ 7.3                                                      │ 22.6                                   │ 12.7                                   │ –                                                  │ –                                     │ –                      │ –                                      │ –                                               │ 23.4          │ 12.8        │ 3.4    │\n",
      "│ invymark/lasexta            │ 26–30 may 2014   │ ?             │ 13.9                                     │ 5.3                                                      │ 22.5                                   │ 15.9                                   │ –                                                  │ 8.9                                   │ –                      │ –                                      │ –                                               │ 33.5          │ 33.5        │ 6.6    │\n",
      "│ sigma dos/el mundo          │ 26–28 dec 2013   │ ?             │ 11.6                                     │ –                                                        │ 23.2                                   │ 13.2                                   │ 4.9                                                │ 12.3                                  │ 2.3                    │ –                                      │ –                                               │ 4.4           │ 28.0        │ 10.0   │\n",
      "│ tns demoscopia              │ 14–21 nov 2013   │ ?             │ 8.1                                      │ –                                                        │ 22.1                                   │ 7.0                                    │ 7.5                                                │ 12.2                                  │ 1.3                    │ –                                      │ –                                               │ 17.8          │ 24.0        │ 9.9    │\n",
      "│ sigma dos/el mundo          │ 12–14 nov 2013   │ ?             │ 8.4                                      │ –                                                        │ 24.4                                   │ 11.0                                   │ 8.5                                                │ 11.1                                  │ 2.6                    │ –                                      │ –                                               │ 7.0           │ 26.9        │ 13.3   │\n",
      "│ gad3/antena 3               │ 13 nov 2013      │ ?             │ –                                        │ –                                                        │ 13.0                                   │ –                                      │ 9.0                                                │ –                                     │ –                      │ –                                      │ –                                               │ 78.0          │ 78.0        │ 4.0    │\n",
      "│ feedback/la vanguardia      │ 2–6 sep 2013     │ 1,500         │ 17.4                                     │ –                                                        │ 23.8                                   │ –                                      │ 17.5                                               │ 16.8                                  │ –                      │ –                                      │ –                                               │ 24.5          │ 24.5        │ 6.3    │\n",
      "│ tns demoscopia              │ 29–31 jul 2013   │ ?             │ 10.5                                     │ –                                                        │ 16.9                                   │ 0.9                                    │ 6.2                                                │ 7.6                                   │ 0.8                    │ –                                      │ –                                               │ 22.0          │ 35.1        │ 6.4    │\n",
      "│ sigma dos/el mundo          │ 8–10 may 2013    │ ?             │ 13.3                                     │ –                                                        │ 20.2                                   │ –                                      │ 7.2                                                │ 10.6                                  │ 2.0                    │ 2.7                                    │ 2.9                                             │ 10.8          │ 30.3        │ 6.9    │\n",
      "│ myword/cadena ser           │ 2–8 may 2013     │ ?             │ 10.7                                     │ –                                                        │ 17.9                                   │ 0.4                                    │ 8.7                                                │ 7.4                                   │ 0.7                    │ 4.0                                    │ 1.6                                             │ 5.9           │ 42.7        │ 7.2    │\n",
      "└─────────────────────────────┴──────────────────┴───────────────┴──────────────────────────────────────────┴──────────────────────────────────────────────────────────┴────────────────────────────────────────┴────────────────────────────────────────┴────────────────────────────────────────────────────┴───────────────────────────────────────┴────────────────────────┴────────────────────────────────────────┴─────────────────────────────────────────────────┴───────────────┴─────────────┴────────┘\n",
      "Detected 3 seed(s) in 0.0012483596801757812 seconds.\n",
      "Generated 1 candidate(s) in 1.9073486328125e-05 seconds.\n",
      "Verified 1 candidate(s) in 7.128715515136719e-05 seconds.\n",
      "Detected 1 largest overlap(s) in 0.00010228157043457031 seconds.\n",
      "Size of the detected largest overlap(s): 3 columns, 10 rows, 30 cells.\n",
      "Total elapsed time: 0.0014882087707519531 seconds.\n",
      "                           0               1            2\n",
      "0              gad3/antena 3     13 nov 2013            ?\n",
      "1          myword/cadena ser    2–8 may 2013            ?\n",
      "2  polling firm/commissioner  fieldwork date  sample size\n",
      "3  polling firm/commissioner  fieldwork date  sample size\n",
      "4         sigma dos/el mundo  28–30 may 2014            ?\n",
      "5         sigma dos/el mundo  26–28 dec 2013            ?\n",
      "6         sigma dos/el mundo  12–14 nov 2013            ?\n",
      "7         sigma dos/el mundo   8–10 may 2013            ?\n",
      "8             tns demoscopia  14–21 nov 2013            ?\n",
      "9             tns demoscopia  29–31 jul 2013            ?\n"
     ]
    }
   ],
   "source": [
    "j = 0\n",
    "\n",
    "josie_rank, rid, tabov = sloth_res[j]\n",
    "rdoc = collection.find_one({'_id_numeric': rid})\n",
    "rdoc['content'] = [[misc.clean_string(cell, string_translators, string_patterns) for cell in row] for row in rdoc['content']]\n",
    "\n",
    "print(f'Table {rdoc[\"_id_numeric\"]}, JOSIE rank: {josie_rank}, SLOTH rank: {j}, overlap {tabov}')\n",
    "print(f'Num header rows: {rdoc[\"num_header_rows\"]}, valid columns: {rdoc[\"valid_columns\"]}')\n",
    "print(f'Context: {\" - \".join(rdoc[\"context\"])}')\n",
    "print(tabulate(rdoc['content'], headers='firstrow', tablefmt='simple_outline'))\n",
    "\n",
    "r = misc.largest_overlap_sloth(\n",
    "    qdoc['content'][qdoc['num_header_rows']:], rdoc['content'][rdoc['num_header_rows']:], qdoc['valid_columns'], rdoc['valid_columns'],\n",
    "    verbose=True,\n",
    "    min_h=min_h,\n",
    "    min_w=min_w,\n",
    "    blacklist=blacklist,\n",
    "    )"
   ]
  },
  {
   "cell_type": "code",
   "execution_count": 37,
   "metadata": {},
   "outputs": [
    {
     "data": {
      "text/plain": [
       "False"
      ]
     },
     "execution_count": 37,
     "metadata": {},
     "output_type": "execute_result"
    }
   ],
   "source": [
    "'n/a' in blacklist"
   ]
  },
  {
   "cell_type": "markdown",
   "metadata": {},
   "source": [
    "In fase di pulizia delle tabelle si possono togliere le cose tra doppie parentesi quadre? "
   ]
  },
  {
   "cell_type": "markdown",
   "metadata": {},
   "source": [
    "Colombia: 169633\n",
    "\n",
    "UK ethnicity parliament: 520835\n",
    "\n",
    "Country GDP: 558808\n",
    "\n",
    "Largest cities in america: 572002\n",
    "\n",
    "939555\n",
    "\n",
    "Stadiums: 9892\n",
    "\n",
    "Paleontology: 1003853\n",
    "\n",
    "Army equipment: 1037572\n",
    "\n",
    "Universities: 751207"
   ]
  },
  {
   "cell_type": "markdown",
   "metadata": {},
   "source": []
  }
 ],
 "metadata": {
  "kernelspec": {
   "display_name": "dltfenv",
   "language": "python",
   "name": "python3"
  },
  "language_info": {
   "codemirror_mode": {
    "name": "ipython",
    "version": 3
   },
   "file_extension": ".py",
   "mimetype": "text/x-python",
   "name": "python",
   "nbconvert_exporter": "python",
   "pygments_lexer": "ipython3",
   "version": "3.10.13"
  }
 },
 "nbformat": 4,
 "nbformat_minor": 2
}
