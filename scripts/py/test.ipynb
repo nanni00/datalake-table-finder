{
 "cells": [
  {
   "cell_type": "code",
   "execution_count": 5,
   "metadata": {},
   "outputs": [],
   "source": [
    "import pandas as pd\n",
    "import csv"
   ]
  },
  {
   "cell_type": "code",
   "execution_count": null,
   "metadata": {},
   "outputs": [],
   "source": []
  },
  {
   "cell_type": "code",
   "execution_count": 3,
   "metadata": {},
   "outputs": [
    {
     "ename": "KeyError",
     "evalue": "'THESIS_PATH'",
     "output_type": "error",
     "traceback": [
      "\u001b[0;31m---------------------------------------------------------------------------\u001b[0m",
      "\u001b[0;31mKeyError\u001b[0m                                  Traceback (most recent call last)",
      "Cell \u001b[0;32mIn[3], line 8\u001b[0m\n\u001b[1;32m      5\u001b[0m \u001b[38;5;28;01mfrom\u001b[39;00m \u001b[38;5;21;01mtqdm\u001b[39;00m \u001b[38;5;28;01mimport\u001b[39;00m tqdm\n\u001b[1;32m      7\u001b[0m \u001b[38;5;28;01mfrom\u001b[39;00m \u001b[38;5;21;01mtools\u001b[39;00m\u001b[38;5;21;01m.\u001b[39;00m\u001b[38;5;21;01mutils\u001b[39;00m\u001b[38;5;21;01m.\u001b[39;00m\u001b[38;5;21;01mmongodb_utils\u001b[39;00m \u001b[38;5;28;01mimport\u001b[39;00m get_mongodb_collections\n\u001b[0;32m----> 8\u001b[0m \u001b[38;5;28;01mfrom\u001b[39;00m \u001b[38;5;21;01mtools\u001b[39;00m\u001b[38;5;21;01m.\u001b[39;00m\u001b[38;5;21;01mutils\u001b[39;00m\u001b[38;5;21;01m.\u001b[39;00m\u001b[38;5;21;01msettings\u001b[39;00m \u001b[38;5;28;01mimport\u001b[39;00m DefaultPath \u001b[38;5;28;01mas\u001b[39;00m dp\n\u001b[1;32m     10\u001b[0m gittables_csv_folder \u001b[38;5;241m=\u001b[39m \u001b[38;5;124mf\u001b[39m\u001b[38;5;124m'\u001b[39m\u001b[38;5;132;01m{\u001b[39;00mdp\u001b[38;5;241m.\u001b[39mdata_path\u001b[38;5;241m.\u001b[39mbase\u001b[38;5;132;01m}\u001b[39;00m\u001b[38;5;124m/raw_dataset/gittables_parquet\u001b[39m\u001b[38;5;124m'\u001b[39m\n\u001b[1;32m     12\u001b[0m mongoclient, collections \u001b[38;5;241m=\u001b[39m get_mongodb_collections(dataset\u001b[38;5;241m=\u001b[39m\u001b[38;5;124m'\u001b[39m\u001b[38;5;124mgittables\u001b[39m\u001b[38;5;124m'\u001b[39m, size\u001b[38;5;241m=\u001b[39m\u001b[38;5;124m'\u001b[39m\u001b[38;5;124mstandard\u001b[39m\u001b[38;5;124m'\u001b[39m)\n",
      "File \u001b[0;32m/dati/home/giovanni.malaguti/tesi-magistrale/scripts/py/../../tools/utils/settings.py:9\u001b[0m\n\u001b[1;32m      4\u001b[0m \u001b[38;5;28;01mfrom\u001b[39;00m \u001b[38;5;21;01mtools\u001b[39;00m\u001b[38;5;21;01m.\u001b[39;00m\u001b[38;5;21;01mutils\u001b[39;00m \u001b[38;5;28;01mimport\u001b[39;00m basicconfig\n\u001b[1;32m      8\u001b[0m \u001b[38;5;66;03m# remember to set the env variable TESI_ROOT_PATH \u001b[39;00m\n\u001b[0;32m----> 9\u001b[0m root_project_path \u001b[38;5;241m=\u001b[39m \u001b[43mos\u001b[49m\u001b[38;5;241;43m.\u001b[39;49m\u001b[43menviron\u001b[49m\u001b[43m[\u001b[49m\u001b[38;5;124;43m'\u001b[39;49m\u001b[38;5;124;43mTHESIS_PATH\u001b[39;49m\u001b[38;5;124;43m'\u001b[39;49m\u001b[43m]\u001b[49m\n\u001b[1;32m     12\u001b[0m \u001b[38;5;28;01mclass\u001b[39;00m \u001b[38;5;21;01m_DataPath\u001b[39;00m:\n\u001b[1;32m     13\u001b[0m     base \u001b[38;5;241m=\u001b[39m                  root_project_path \u001b[38;5;241m+\u001b[39m \u001b[38;5;124m'\u001b[39m\u001b[38;5;124m/data\u001b[39m\u001b[38;5;124m'\u001b[39m\n",
      "File \u001b[0;32m~/miniconda3/envs/nanni3.10/lib/python3.10/os.py:680\u001b[0m, in \u001b[0;36m_Environ.__getitem__\u001b[0;34m(self, key)\u001b[0m\n\u001b[1;32m    677\u001b[0m     value \u001b[38;5;241m=\u001b[39m \u001b[38;5;28mself\u001b[39m\u001b[38;5;241m.\u001b[39m_data[\u001b[38;5;28mself\u001b[39m\u001b[38;5;241m.\u001b[39mencodekey(key)]\n\u001b[1;32m    678\u001b[0m \u001b[38;5;28;01mexcept\u001b[39;00m \u001b[38;5;167;01mKeyError\u001b[39;00m:\n\u001b[1;32m    679\u001b[0m     \u001b[38;5;66;03m# raise KeyError with the original key value\u001b[39;00m\n\u001b[0;32m--> 680\u001b[0m     \u001b[38;5;28;01mraise\u001b[39;00m \u001b[38;5;167;01mKeyError\u001b[39;00m(key) \u001b[38;5;28;01mfrom\u001b[39;00m \u001b[38;5;28;01mNone\u001b[39;00m\n\u001b[1;32m    681\u001b[0m \u001b[38;5;28;01mreturn\u001b[39;00m \u001b[38;5;28mself\u001b[39m\u001b[38;5;241m.\u001b[39mdecodevalue(value)\n",
      "\u001b[0;31mKeyError\u001b[0m: 'THESIS_PATH'"
     ]
    }
   ],
   "source": [
    "import os\n",
    "import polars as pl\n",
    "from tqdm import tqdm\n",
    "\n",
    "from tools.utils.mongodb_utils import get_mongodb_collections\n",
    "from tools.utils.settings import DefaultPath as dp\n",
    "\n",
    "gittables_csv_folder = f'{dp.data_path.base}/raw_dataset/gittables_parquet'\n",
    "\n",
    "mongoclient, collections = get_mongodb_collections(dataset='gittables', size='standard')\n",
    "gittables_coll = collections[0]\n",
    "\n",
    "batch_size = 10000\n",
    "batch_tables = []\n",
    "counter = 0\n",
    "errors = 0\n",
    "\n",
    "\n",
    "for subdir in os.listdir(gittables_csv_folder):\n",
    "    if 'zip' in subdir:\n",
    "        continue\n",
    "\n",
    "    print(f'Working on {subdir}...')\n",
    "    for table_id in tqdm(os.listdir(os.path.join(gittables_csv_folder, subdir))):\n",
    "        if not gittables_coll.find_one({'_id': table_id}):\n",
    "            try:\n",
    "                # table_df = pd.read_csv(os.path.join(gittables_csv_folder, subdir, table_id), sep=None, engine='python')\n",
    "                table_df = pl.read_parquet(os.path.join(gittables_csv_folder, subdir, table_id))\n",
    "            except Exception:\n",
    "                print(table_id)\n",
    "                errors += 1\n",
    "                # raise Exception()\n",
    "                continue\n",
    "            \n",
    "            table_obj = dict()\n",
    "            table_obj[\"_id\"] = f\"{subdir.replace('_csv_licensed', '')}.{table_id}\"\n",
    "            table_obj[\"_id_numeric\"] = counter\n",
    "            # table_obj[\"content\"] = table_df.values.tolist()\n",
    "            table_obj[\"content\"] = table_df.rows()\n",
    "            table_obj[\"headers\"] = list(table_df.columns)\n",
    "            table_obj[\"num_header_rows\"] = 0\n",
    "            table_obj[\"columns\"] = len(table_obj[\"content\"][0])\n",
    "            table_obj['rows'] = len(table_obj[\"content\"])\n",
    "\n",
    "            counter += 1\n",
    "            # batch_tables.append(pymongo.InsertOne(table_obj))\n",
    "\n",
    "            if len(batch_tables) == batch_size:\n",
    "                try:\n",
    "                    nwriteop = gittables_coll.bulk_write(batch_tables, ordered=False)\n",
    "                except OverflowError:\n",
    "                    # there are integer stored with a number of bytes that MongoDB doesn't support.\n",
    "                    # in case of error it seems that even with the \"ordered=False\" option\n",
    "                    # all the remaining tables in the bulk write aren't written to the database,\n",
    "                    # so scan the batch and try to insert each single table one by one\n",
    "                    for table in batch_tables:\n",
    "                        try: gittables_coll.insert_one(table)\n",
    "                        except: \n",
    "                            errors += 1\n",
    "                            continue\n",
    "                finally:\n",
    "                    batch_tables = []\n",
    "        break\n",
    "    break"
   ]
  },
  {
   "cell_type": "code",
   "execution_count": null,
   "metadata": {},
   "outputs": [],
   "source": []
  }
 ],
 "metadata": {
  "kernelspec": {
   "display_name": "nanni3.10",
   "language": "python",
   "name": "python3"
  },
  "language_info": {
   "codemirror_mode": {
    "name": "ipython",
    "version": 3
   },
   "file_extension": ".py",
   "mimetype": "text/x-python",
   "name": "python",
   "nbconvert_exporter": "python",
   "pygments_lexer": "ipython3",
   "version": "3.10.13"
  }
 },
 "nbformat": 4,
 "nbformat_minor": 2
}
