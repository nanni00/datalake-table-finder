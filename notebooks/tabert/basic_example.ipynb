{
 "cells": [
  {
   "cell_type": "code",
   "execution_count": 3,
   "metadata": {
    "metadata": {}
   },
   "outputs": [],
   "source": [
    "from tools.utils.settings import DefaultPath as defpath\n",
    "\n",
    "from tools.table_bert.table_bert import TableBertModel\n",
    "\n",
    "model = TableBertModel.from_pretrained(\n",
    "    defpath.model_path.tabert + '/tabert_base_k3/model.bin',\n",
    ")"
   ]
  },
  {
   "cell_type": "code",
   "execution_count": 4,
   "metadata": {
    "metadata": {}
   },
   "outputs": [
    {
     "data": {
      "text/plain": [
       "768"
      ]
     },
     "execution_count": 4,
     "metadata": {},
     "output_type": "execute_result"
    }
   ],
   "source": [
    "model.output_size"
   ]
  },
  {
   "cell_type": "code",
   "execution_count": 11,
   "metadata": {
    "metadata": {}
   },
   "outputs": [
    {
     "data": {
      "text/plain": [
       "torch.Size([2, 3, 768])"
      ]
     },
     "execution_count": 11,
     "metadata": {},
     "output_type": "execute_result"
    }
   ],
   "source": [
    "from tools.table_bert import Table, Column\n",
    "\n",
    "table = Table(\n",
    "    id='List of countries by GDP (PPP)',\n",
    "    header=[\n",
    "        Column('Nation', 'text', sample_value='United States'),\n",
    "        Column('Gross Domestic Product', 'real', sample_value='21,439,453')\n",
    "    ],\n",
    "    data=[\n",
    "        ['United States', '21,439,453'],\n",
    "        ['China', '27,308,857'],\n",
    "        ['European Union', '22,774,165'],\n",
    "    ]\n",
    ").tokenize(model.tokenizer)\n",
    "\n",
    "table2 = Table(\n",
    "    id='List of comix',\n",
    "    header=[\n",
    "        Column('Name', 'text', sample_value='Mafalda'),\n",
    "        Column('Author', 'real', sample_value='Quino'),\n",
    "        Column('Score', 'real', sample_value=4)\n",
    "    ],\n",
    "    data=[\n",
    "        ['Mafalda', 'Quino', 1],\n",
    "        ['The Peanuts', 'Charles M. Schulz', 3],\n",
    "        ['Spiderman', 'Stan Lee', 5],\n",
    "    ]\n",
    ").tokenize(model.tokenizer)\n",
    "\n",
    "\n",
    "# To visualize table in an IPython notebook:\n",
    "# display(table.to_data_frame(), detokenize=True)\n",
    "\n",
    "context = \"\"\n",
    "\n",
    "# model takes batched, tokenized inputs\n",
    "context_encoding, column_encoding, info_dict = model.encode(\n",
    "    contexts=[[], [], []],\n",
    "    tables=[table, table2]\n",
    ")\n",
    "\n",
    "column_encoding.shape"
   ]
  },
  {
   "cell_type": "code",
   "execution_count": 16,
   "metadata": {
    "metadata": {}
   },
   "outputs": [
    {
     "data": {
      "text/plain": [
       "(3, 768)"
      ]
     },
     "execution_count": 16,
     "metadata": {},
     "output_type": "execute_result"
    }
   ],
   "source": [
    "z = column_encoding[0]\n",
    "z.detach().numpy().shape"
   ]
  },
  {
   "cell_type": "code",
   "execution_count": 22,
   "metadata": {
    "metadata": {}
   },
   "outputs": [],
   "source": [
    "table3 = Table(\n",
    "    id='List of comix',\n",
    "    header=[\n",
    "        Column('Name', 'text', sample_value='Mafalda'),\n",
    "        Column('Author', 'real', sample_value='Quino'),\n",
    "        Column('Score', 'real', sample_value=4)\n",
    "    ],\n",
    "    data=[\n",
    "        ['Mafalda', 'Quino', 1],\n",
    "        ['The Peanuts', 'Charles M. Schulz', 3],\n",
    "        ['Spiderman', 'Stan Lee', 5],\n",
    "    ]\n",
    ").tokenize(model.tokenizer)\n",
    "\n",
    "\n",
    "# To visualize table in an IPython notebook:\n",
    "# display(table.to_data_frame(), detokenize=True)\n",
    "\n",
    "# model takes batched, tokenized inputs\n",
    "context_encoding, column_encoding, info_dict = model.encode(\n",
    "    contexts=[[]],\n",
    "    tables=[table3]\n",
    ")"
   ]
  },
  {
   "cell_type": "code",
   "execution_count": 24,
   "metadata": {
    "metadata": {}
   },
   "outputs": [
    {
     "data": {
      "text/plain": [
       "['no', '##con', '##text']"
      ]
     },
     "execution_count": 24,
     "metadata": {},
     "output_type": "execute_result"
    }
   ],
   "source": [
    "model.tokenizer.tokenize(\"Nocontext\")"
   ]
  },
  {
   "cell_type": "code",
   "execution_count": 32,
   "metadata": {
    "metadata": {}
   },
   "outputs": [
    {
     "data": {
      "text/plain": [
       "0"
      ]
     },
     "execution_count": 32,
     "metadata": {},
     "output_type": "execute_result"
    }
   ],
   "source": [
    "import torch\n",
    "\n",
    "torch.cuda.device_count()"
   ]
  },
  {
   "cell_type": "code",
   "execution_count": 21,
   "metadata": {
    "metadata": {}
   },
   "outputs": [],
   "source": [
    "\n",
    "# To visualize table in an IPython notebook:\n",
    "# display(table.to_data_frame(), detokenize=True)\n",
    "\n",
    "context2 = \"\"\n",
    "\n",
    "context_encoding2, column_encoding2, info_dict2 = model.encode(\n",
    "    contexts=[model.tokenizer.tokenize(context2)],\n",
    "    tables=[table2]\n",
    ")"
   ]
  },
  {
   "cell_type": "code",
   "execution_count": 22,
   "metadata": {
    "metadata": {}
   },
   "outputs": [
    {
     "data": {
      "text/plain": [
       "(torch.Size([1, 2, 768]), torch.Size([1, 3, 768]))"
      ]
     },
     "execution_count": 22,
     "metadata": {},
     "output_type": "execute_result"
    }
   ],
   "source": [
    "column_encoding.shape, column_encoding2.shape"
   ]
  },
  {
   "cell_type": "code",
   "execution_count": 7,
   "metadata": {
    "metadata": {}
   },
   "outputs": [],
   "source": [
    "nation_emb, gdp_emb = column_encoding[0, 0, :], column_encoding[0, 1, :]\n",
    "comix_emb, author_emb = column_encoding2[0, 0, :], column_encoding2[0, 1, :]"
   ]
  },
  {
   "cell_type": "code",
   "execution_count": 8,
   "metadata": {
    "metadata": {}
   },
   "outputs": [],
   "source": [
    "import torch\n",
    "cosim = torch.nn.CosineSimilarity(dim=0)"
   ]
  },
  {
   "cell_type": "code",
   "execution_count": 9,
   "metadata": {
    "metadata": {}
   },
   "outputs": [
    {
     "data": {
      "text/plain": [
       "0.7574862837791443"
      ]
     },
     "execution_count": 9,
     "metadata": {},
     "output_type": "execute_result"
    }
   ],
   "source": [
    "float(cosim(nation_emb, gdp_emb))"
   ]
  },
  {
   "cell_type": "code",
   "execution_count": 10,
   "metadata": {
    "metadata": {}
   },
   "outputs": [
    {
     "data": {
      "text/plain": [
       "0.7895163297653198"
      ]
     },
     "execution_count": 10,
     "metadata": {},
     "output_type": "execute_result"
    }
   ],
   "source": [
    "float(cosim(nation_emb, comix_emb))"
   ]
  },
  {
   "cell_type": "code",
   "execution_count": 11,
   "metadata": {
    "metadata": {}
   },
   "outputs": [
    {
     "data": {
      "text/plain": [
       "0.934893012046814"
      ]
     },
     "execution_count": 11,
     "metadata": {},
     "output_type": "execute_result"
    }
   ],
   "source": [
    "float(cosim(comix_emb, author_emb))"
   ]
  },
  {
   "cell_type": "code",
   "execution_count": 38,
   "metadata": {
    "metadata": {}
   },
   "outputs": [
    {
     "data": {
      "text/plain": [
       "[['1960', '1960', '1960', '1960', '1960'],\n",
       " ['Aleksandër Moisiu', '', '', '', ''],\n",
       " ['Ansambli i këngëve dhe valleve', '', '', '', ''],\n",
       " ['Divjakë 2', '', '', '', ''],\n",
       " ['Fusha e rilinduar', '', '', '', ''],\n",
       " ['Kurora e gjelbër', '', '', '', ''],\n",
       " ['Në duart tuaja', '', '', '', ''],\n",
       " ['Në gjurmët e shekujve', '', '', '', ''],\n",
       " ['Vallëzimi i shqipeve', '', '', '', ''],\n",
       " ['Zëri i paqës', '', '', '', ''],\n",
       " ['1961', '1961', '1961', '1961', '1961'],\n",
       " ['Debatik', '', '', '', ''],\n",
       " ['Gjithmonë fitimtarë', '', '', '', ''],\n",
       " ['Jubileu i lavdishëm', '', '', '', ''],\n",
       " ['Kalitja', '', '', '', ''],\n",
       " ['Nën flamurin e M-L', '', '', '', ''],\n",
       " ['Në prag të festës', '', '', '', ''],\n",
       " ['Ngadhnjimtarë në çdo betejë', '', '', '', ''],\n",
       " ['Për fitore të reja', '', '', '', ''],\n",
       " ['Pranverë fitoresh', '', '', '', ''],\n",
       " ['Program madhështor', '', '', '', ''],\n",
       " ['Reportazh nga Kurbneshi', '', '', '', ''],\n",
       " ['1962', '1962', '1962', '1962', '1962'],\n",
       " ['Me peshkatarët tanë', '', '', '', ''],\n",
       " ['Vllazërit Tare', '', '', '', ''],\n",
       " ['1963', '1963', '1963', '1963', '1963'],\n",
       " ['Djali nga Korea', '', '', '', ''],\n",
       " ['Kujdes nga lëndët që përdoren kundër dëmtonjësve në bujqësi',\n",
       "  '',\n",
       "  '',\n",
       "  '',\n",
       "  ''],\n",
       " ['Lulëzon fshati ynë', '', '', '', ''],\n",
       " ['Me minatorët e Pishkashit', '', '', '', ''],\n",
       " ['Më shumë prodhime nga toka', '', '', '', ''],\n",
       " ['Mijëra vjet më parë', '', '', '', ''],\n",
       " ['Motive vallesh popullore', '', '', '', ''],\n",
       " ['Nepër Algjeri dhe Marok', '', '', '', ''],\n",
       " ['Nepër Shqipëri', '', '', '', ''],\n",
       " ['Në shërbim të shëndetit', '', '', '', ''],\n",
       " ['Sy shqiponjë', '', '', '', ''],\n",
       " ['Tregim për njerzit e punës', '', '', '', ''],\n",
       " ['1964', '1964', '1964', '1964', '1964'],\n",
       " ['Anës së Drinit', '', '', '', ''],\n",
       " ['Drejt përmisimit të blegtorisë', '', '', '', ''],\n",
       " ['Gurët dekorativë', '', '', '', ''],\n",
       " ['Heshtje që flet', '', '', '', ''],\n",
       " ['Krah për krah', '', '', '', ''],\n",
       " ['Kronikë ngjarjesh', '', '', '', ''],\n",
       " ['Kur vjen nëntori', '', '', '', ''],\n",
       " ['Në rrugën e përparimit', '', '', '', ''],\n",
       " ['Një ditë në kompani', '', '', '', ''],\n",
       " ['Qemal Stafa', '', '', '', ''],\n",
       " ['Rini heroike', '', '', '', ''],\n",
       " ['Takime në Xhakarta -Indonezi', '', '', '', ''],\n",
       " ['Teatri ynë', '', '', '', ''],\n",
       " ['1965', '1965', '1965', '1965', '1965'],\n",
       " ['Cirk', '', '', '', ''],\n",
       " ['Në praktikë me studentët natyralistë', '', '', '', ''],\n",
       " ['Në rjedhën e jetës',\n",
       "  'Marianthi Qemo-Xhako',\n",
       "  '',\n",
       "  'Documentary',\n",
       "  'Alba-Film Tirana'],\n",
       " ['Njerzit dhe veprat', '', '', '', ''],\n",
       " ['Përse mendojnë këto male', '', '', '', ''],\n",
       " ['Policia popullore në shërbim', '', '', '', ''],\n",
       " ['Posta kufitare', '', '', '', ''],\n",
       " ['Takim me Arbreshët', '', '', '', ''],\n",
       " ['Vangjush Mio', '', '', '', ''],\n",
       " ['Vitet e para', '', '', '', ''],\n",
       " ['Zbuluesit në stërvitje', '', '', '', ''],\n",
       " ['1966', '1966', '1966', '1966', '1966'],\n",
       " ['Ata nuk vdesin', '', '', '', ''],\n",
       " ['Çajupi', '', '', '', ''],\n",
       " ['Fitimtarët', '', '', '', ''],\n",
       " ['Kënga të buçasë', '', '', '', ''],\n",
       " ['Kjo është toka jonë', '', '', '', ''],\n",
       " ['Maleve me dëborë', '', '', '', ''],\n",
       " ['Me forcat tona', '', '', '', ''],\n",
       " ['Miqësi e madhe unitet luftarak', '', '', '', ''],\n",
       " ['Ndre Mjeda', '', '', '', ''],\n",
       " ['Në sharat e Sopotit', '', '', '', ''],\n",
       " ['Plehrat organike', '', '', '', ''],\n",
       " ['Poema e të njëzetmijve', '', '', '', ''],\n",
       " ['Shkolla e fshatit malor', '', '', '', ''],\n",
       " ['Taracat në bjeshkë', '', '', '', ''],\n",
       " ['Të parët në rrugën e kolektivizimit', '', '', '', ''],\n",
       " ['1967', '1967', '1967', '1967', '1967'],\n",
       " ['Ato çajnë përpara', '', '', '', ''],\n",
       " ['Biri i Partisë', '', '', '', ''],\n",
       " ['Duel I Heshtur', '', '', '', ''],\n",
       " ['Gra heroike shqiptare përpara', '', '', '', ''],\n",
       " ['Inciativa krijuse e masave', '', '', '', ''],\n",
       " ['Lart flamujt e kuq', '', '', '', ''],\n",
       " ['Letër nga mjeku i Kuçit', '', '', '', ''],\n",
       " ['Më tepër ujë për tokën', '', '', '', ''],\n",
       " ['Miqësi revolucionare', '', '', '', ''],\n",
       " ['Në gjurmët partizane', '', '', '', ''],\n",
       " ['Rritje', '', '', '', ''],\n",
       " ['Të fala nga fshati', '', '', '', ''],\n",
       " ['1968', '1968', '1968', '1968', '1968'],\n",
       " ['90 vjetori i Lidhjes së Prizrenit', '', '', '', ''],\n",
       " ['Dita e pionerit', '', '', '', ''],\n",
       " ['Horizonte te hapura', '', '', '', ''],\n",
       " ['Kalitemi nepërmjet aksioneve', '', '', '', ''],\n",
       " ['Këngët e të vegjëlve', '', '', '', ''],\n",
       " ['Lart flamujt e aksioneve', '', '', '', ''],\n",
       " ['Mbresa vullnetarësh', '', '', '', ''],\n",
       " ['Ne mbrojmë Atdheun Socialist', '', '', '', ''],\n",
       " ['Në ndihmë të koperativave malore', '', '', '', ''],\n",
       " ['Për zhvillimin intensiv të lopës', '', '', '', ''],\n",
       " ['Pusteci', '', '', '', ''],\n",
       " ['Trim mbi trima', '', '', '', ''],\n",
       " ['Vatra e flakës së madhe', '', '', '', ''],\n",
       " ['Vrulli i mendimit krijues të masave', '', '', '', ''],\n",
       " ['1969', '1969', '1969', '1969', '1969'],\n",
       " ['25 vjetori i Kongresit të parë të BGSH', '', '', '', ''],\n",
       " ['Ai është bir i klasës punëtore', '', '', '', ''],\n",
       " ['Biri i Mirditës', '', '', '', ''],\n",
       " ['Këngë e valle nga gurra popullore', '', '', '', ''],\n",
       " ['Në kampin e pionerëve-Vlorë', '', '', '', ''],\n",
       " ['Nepër rrugët e dritës', '', '', '', ''],\n",
       " ['Nga festivali artistik i fëmijve', '', '', '', ''],\n",
       " ['Njësiti guerril', '', '', '', ''],\n",
       " ['Përmes terrenit të infektuar', '', '', '', ''],\n",
       " ['Për një zhvillim më të shpejtë të shpendëve', '', '', '', ''],\n",
       " ['Për rendimente të larta në misër', '', '', '', ''],\n",
       " ['Perse bie kjo daulle', '', '', '', ''],\n",
       " ['Reportazh nga Mirdita', '', '', '', ''],\n",
       " ['Rruga jote, shok', '', '', '', ''],\n",
       " ['Shkolla dhe praktika', '', '', '', ''],\n",
       " ['Toka të përtërira', '', '', '', ''],\n",
       " ['Vojo Kushi', '', '', '', '']]"
      ]
     },
     "execution_count": 38,
     "metadata": {},
     "output_type": "execute_result"
    }
   ],
   "source": [
    "from tools.utils.utils import get_mongodb_collections, get_one_document_from_mongodb_by_key\n",
    "\n",
    "\n",
    "mongoclient, collections = get_mongodb_collections(True)\n",
    "\n",
    "doc = get_one_document_from_mongodb_by_key('_id_numeric', 10178, *collections)\n",
    "\n",
    "doc['content']"
   ]
  },
  {
   "cell_type": "code",
   "execution_count": 39,
   "metadata": {
    "metadata": {}
   },
   "outputs": [
    {
     "data": {
      "text/html": [
       "<div>\n",
       "<style scoped>\n",
       "    .dataframe tbody tr th:only-of-type {\n",
       "        vertical-align: middle;\n",
       "    }\n",
       "\n",
       "    .dataframe tbody tr th {\n",
       "        vertical-align: top;\n",
       "    }\n",
       "\n",
       "    .dataframe thead th {\n",
       "        text-align: right;\n",
       "    }\n",
       "</style>\n",
       "<table border=\"1\" class=\"dataframe\">\n",
       "  <thead>\n",
       "    <tr style=\"text-align: right;\">\n",
       "      <th></th>\n",
       "      <th>0</th>\n",
       "      <th>1</th>\n",
       "      <th>2</th>\n",
       "      <th>3</th>\n",
       "      <th>4</th>\n",
       "    </tr>\n",
       "  </thead>\n",
       "  <tbody>\n",
       "    <tr>\n",
       "      <th>0</th>\n",
       "      <td>1960</td>\n",
       "      <td>1960</td>\n",
       "      <td>1960</td>\n",
       "      <td>1960</td>\n",
       "      <td>1960</td>\n",
       "    </tr>\n",
       "    <tr>\n",
       "      <th>1</th>\n",
       "      <td>Aleksandër Moisiu</td>\n",
       "      <td></td>\n",
       "      <td></td>\n",
       "      <td></td>\n",
       "      <td></td>\n",
       "    </tr>\n",
       "    <tr>\n",
       "      <th>2</th>\n",
       "      <td>Ansambli i këngëve dhe valleve</td>\n",
       "      <td></td>\n",
       "      <td></td>\n",
       "      <td></td>\n",
       "      <td></td>\n",
       "    </tr>\n",
       "    <tr>\n",
       "      <th>3</th>\n",
       "      <td>Divjakë 2</td>\n",
       "      <td></td>\n",
       "      <td></td>\n",
       "      <td></td>\n",
       "      <td></td>\n",
       "    </tr>\n",
       "    <tr>\n",
       "      <th>4</th>\n",
       "      <td>Fusha e rilinduar</td>\n",
       "      <td></td>\n",
       "      <td></td>\n",
       "      <td></td>\n",
       "      <td></td>\n",
       "    </tr>\n",
       "    <tr>\n",
       "      <th>...</th>\n",
       "      <td>...</td>\n",
       "      <td>...</td>\n",
       "      <td>...</td>\n",
       "      <td>...</td>\n",
       "      <td>...</td>\n",
       "    </tr>\n",
       "    <tr>\n",
       "      <th>121</th>\n",
       "      <td>Reportazh nga Mirdita</td>\n",
       "      <td></td>\n",
       "      <td></td>\n",
       "      <td></td>\n",
       "      <td></td>\n",
       "    </tr>\n",
       "    <tr>\n",
       "      <th>122</th>\n",
       "      <td>Rruga jote, shok</td>\n",
       "      <td></td>\n",
       "      <td></td>\n",
       "      <td></td>\n",
       "      <td></td>\n",
       "    </tr>\n",
       "    <tr>\n",
       "      <th>123</th>\n",
       "      <td>Shkolla dhe praktika</td>\n",
       "      <td></td>\n",
       "      <td></td>\n",
       "      <td></td>\n",
       "      <td></td>\n",
       "    </tr>\n",
       "    <tr>\n",
       "      <th>124</th>\n",
       "      <td>Toka të përtërira</td>\n",
       "      <td></td>\n",
       "      <td></td>\n",
       "      <td></td>\n",
       "      <td></td>\n",
       "    </tr>\n",
       "    <tr>\n",
       "      <th>125</th>\n",
       "      <td>Vojo Kushi</td>\n",
       "      <td></td>\n",
       "      <td></td>\n",
       "      <td></td>\n",
       "      <td></td>\n",
       "    </tr>\n",
       "  </tbody>\n",
       "</table>\n",
       "<p>126 rows × 5 columns</p>\n",
       "</div>"
      ],
      "text/plain": [
       "                                  0     1     2     3     4\n",
       "0                              1960  1960  1960  1960  1960\n",
       "1                 Aleksandër Moisiu                        \n",
       "2    Ansambli i këngëve dhe valleve                        \n",
       "3                         Divjakë 2                        \n",
       "4                 Fusha e rilinduar                        \n",
       "..                              ...   ...   ...   ...   ...\n",
       "121           Reportazh nga Mirdita                        \n",
       "122                Rruga jote, shok                        \n",
       "123            Shkolla dhe praktika                        \n",
       "124               Toka të përtërira                        \n",
       "125                      Vojo Kushi                        \n",
       "\n",
       "[126 rows x 5 columns]"
      ]
     },
     "execution_count": 39,
     "metadata": {},
     "output_type": "execute_result"
    }
   ],
   "source": [
    "import pandas as pd\n",
    "pd.DataFrame(doc['content'])"
   ]
  },
  {
   "cell_type": "code",
   "execution_count": 43,
   "metadata": {
    "metadata": {}
   },
   "outputs": [
    {
     "data": {
      "text/plain": [
       "[0, 0, 0, 0, 0]"
      ]
     },
     "execution_count": 43,
     "metadata": {},
     "output_type": "execute_result"
    }
   ],
   "source": [
    "doc['numeric_columns']"
   ]
  },
  {
   "cell_type": "code",
   "execution_count": 41,
   "metadata": {
    "metadata": {}
   },
   "outputs": [
    {
     "data": {
      "text/html": [
       "<div>\n",
       "<style scoped>\n",
       "    .dataframe tbody tr th:only-of-type {\n",
       "        vertical-align: middle;\n",
       "    }\n",
       "\n",
       "    .dataframe tbody tr th {\n",
       "        vertical-align: top;\n",
       "    }\n",
       "\n",
       "    .dataframe thead th {\n",
       "        text-align: right;\n",
       "    }\n",
       "</style>\n",
       "<table border=\"1\" class=\"dataframe\">\n",
       "  <thead>\n",
       "    <tr style=\"text-align: right;\">\n",
       "      <th></th>\n",
       "      <th>0</th>\n",
       "      <th>1</th>\n",
       "      <th>2</th>\n",
       "      <th>3</th>\n",
       "      <th>4</th>\n",
       "    </tr>\n",
       "  </thead>\n",
       "  <tbody>\n",
       "    <tr>\n",
       "      <th>0</th>\n",
       "      <td>1960</td>\n",
       "      <td>1960</td>\n",
       "      <td>1960</td>\n",
       "      <td>1960</td>\n",
       "      <td>1960</td>\n",
       "    </tr>\n",
       "    <tr>\n",
       "      <th>1</th>\n",
       "      <td>Aleksandër Moisiu</td>\n",
       "      <td></td>\n",
       "      <td></td>\n",
       "      <td></td>\n",
       "      <td></td>\n",
       "    </tr>\n",
       "    <tr>\n",
       "      <th>2</th>\n",
       "      <td>Ansambli i këngëve dhe valleve</td>\n",
       "      <td></td>\n",
       "      <td></td>\n",
       "      <td></td>\n",
       "      <td></td>\n",
       "    </tr>\n",
       "    <tr>\n",
       "      <th>3</th>\n",
       "      <td>Divjakë 2</td>\n",
       "      <td></td>\n",
       "      <td></td>\n",
       "      <td></td>\n",
       "      <td></td>\n",
       "    </tr>\n",
       "    <tr>\n",
       "      <th>4</th>\n",
       "      <td>Fusha e rilinduar</td>\n",
       "      <td></td>\n",
       "      <td></td>\n",
       "      <td></td>\n",
       "      <td></td>\n",
       "    </tr>\n",
       "    <tr>\n",
       "      <th>...</th>\n",
       "      <td>...</td>\n",
       "      <td>...</td>\n",
       "      <td>...</td>\n",
       "      <td>...</td>\n",
       "      <td>...</td>\n",
       "    </tr>\n",
       "    <tr>\n",
       "      <th>121</th>\n",
       "      <td>Reportazh nga Mirdita</td>\n",
       "      <td></td>\n",
       "      <td></td>\n",
       "      <td></td>\n",
       "      <td></td>\n",
       "    </tr>\n",
       "    <tr>\n",
       "      <th>122</th>\n",
       "      <td>Rruga jote, shok</td>\n",
       "      <td></td>\n",
       "      <td></td>\n",
       "      <td></td>\n",
       "      <td></td>\n",
       "    </tr>\n",
       "    <tr>\n",
       "      <th>123</th>\n",
       "      <td>Shkolla dhe praktika</td>\n",
       "      <td></td>\n",
       "      <td></td>\n",
       "      <td></td>\n",
       "      <td></td>\n",
       "    </tr>\n",
       "    <tr>\n",
       "      <th>124</th>\n",
       "      <td>Toka të përtërira</td>\n",
       "      <td></td>\n",
       "      <td></td>\n",
       "      <td></td>\n",
       "      <td></td>\n",
       "    </tr>\n",
       "    <tr>\n",
       "      <th>125</th>\n",
       "      <td>Vojo Kushi</td>\n",
       "      <td></td>\n",
       "      <td></td>\n",
       "      <td></td>\n",
       "      <td></td>\n",
       "    </tr>\n",
       "  </tbody>\n",
       "</table>\n",
       "<p>126 rows × 5 columns</p>\n",
       "</div>"
      ],
      "text/plain": [
       "                                  0     1     2     3     4\n",
       "0                              1960  1960  1960  1960  1960\n",
       "1                 Aleksandër Moisiu                        \n",
       "2    Ansambli i këngëve dhe valleve                        \n",
       "3                         Divjakë 2                        \n",
       "4                 Fusha e rilinduar                        \n",
       "..                              ...   ...   ...   ...   ...\n",
       "121           Reportazh nga Mirdita                        \n",
       "122                Rruga jote, shok                        \n",
       "123            Shkolla dhe praktika                        \n",
       "124               Toka të përtërira                        \n",
       "125                      Vojo Kushi                        \n",
       "\n",
       "[126 rows x 5 columns]"
      ]
     },
     "execution_count": 41,
     "metadata": {},
     "output_type": "execute_result"
    }
   ],
   "source": [
    "from tools.utils.utils import prepare_token\n",
    "\n",
    "\n",
    "numeric_columns = doc['numeric_columns']\n",
    "pd.DataFrame([[prepare_token(cell) for i, cell in enumerate(row) if numeric_columns[i] == 0] for row in doc['content']])"
   ]
  },
  {
   "cell_type": "code",
   "execution_count": 55,
   "metadata": {
    "metadata": {}
   },
   "outputs": [
    {
     "name": "stdout",
     "output_type": "stream",
     "text": [
      "{'worker': <function foo.<locals>.worker at 0x7fbb1462a290>}\n"
     ]
    },
    {
     "ename": "AttributeError",
     "evalue": "Can't pickle local object 'foo.<locals>.worker'",
     "output_type": "error",
     "traceback": [
      "\u001b[0;31m---------------------------------------------------------------------------\u001b[0m",
      "\u001b[0;31mAttributeError\u001b[0m                            Traceback (most recent call last)",
      "Cell \u001b[0;32mIn[55], line 25\u001b[0m\n\u001b[1;32m     20\u001b[0m     \u001b[38;5;28;01mwith\u001b[39;00m mp\u001b[38;5;241m.\u001b[39mPool(\u001b[38;5;241m72\u001b[39m) \u001b[38;5;28;01mas\u001b[39;00m pool:\n\u001b[1;32m     22\u001b[0m         pool\u001b[38;5;241m.\u001b[39mmap(worker, work)\n\u001b[0;32m---> 25\u001b[0m \u001b[43mfoo\u001b[49m\u001b[43m(\u001b[49m\u001b[43m)\u001b[49m\n",
      "Cell \u001b[0;32mIn[55], line 22\u001b[0m, in \u001b[0;36mfoo\u001b[0;34m()\u001b[0m\n\u001b[1;32m     18\u001b[0m work \u001b[38;5;241m=\u001b[39m \u001b[38;5;28mrange\u001b[39m(\u001b[38;5;241m10000\u001b[39m)\n\u001b[1;32m     20\u001b[0m \u001b[38;5;28;01mwith\u001b[39;00m mp\u001b[38;5;241m.\u001b[39mPool(\u001b[38;5;241m72\u001b[39m) \u001b[38;5;28;01mas\u001b[39;00m pool:\n\u001b[0;32m---> 22\u001b[0m     \u001b[43mpool\u001b[49m\u001b[38;5;241;43m.\u001b[39;49m\u001b[43mmap\u001b[49m\u001b[43m(\u001b[49m\u001b[43mworker\u001b[49m\u001b[43m,\u001b[49m\u001b[43m \u001b[49m\u001b[43mwork\u001b[49m\u001b[43m)\u001b[49m\n",
      "File \u001b[0;32m/data4/nanni/anaconda3/envs/nanni-tesi-env/lib/python3.10/multiprocessing/pool.py:367\u001b[0m, in \u001b[0;36mPool.map\u001b[0;34m(self, func, iterable, chunksize)\u001b[0m\n\u001b[1;32m    362\u001b[0m \u001b[38;5;28;01mdef\u001b[39;00m \u001b[38;5;21mmap\u001b[39m(\u001b[38;5;28mself\u001b[39m, func, iterable, chunksize\u001b[38;5;241m=\u001b[39m\u001b[38;5;28;01mNone\u001b[39;00m):\n\u001b[1;32m    363\u001b[0m \u001b[38;5;250m    \u001b[39m\u001b[38;5;124;03m'''\u001b[39;00m\n\u001b[1;32m    364\u001b[0m \u001b[38;5;124;03m    Apply `func` to each element in `iterable`, collecting the results\u001b[39;00m\n\u001b[1;32m    365\u001b[0m \u001b[38;5;124;03m    in a list that is returned.\u001b[39;00m\n\u001b[1;32m    366\u001b[0m \u001b[38;5;124;03m    '''\u001b[39;00m\n\u001b[0;32m--> 367\u001b[0m     \u001b[38;5;28;01mreturn\u001b[39;00m \u001b[38;5;28;43mself\u001b[39;49m\u001b[38;5;241;43m.\u001b[39;49m\u001b[43m_map_async\u001b[49m\u001b[43m(\u001b[49m\u001b[43mfunc\u001b[49m\u001b[43m,\u001b[49m\u001b[43m \u001b[49m\u001b[43miterable\u001b[49m\u001b[43m,\u001b[49m\u001b[43m \u001b[49m\u001b[43mmapstar\u001b[49m\u001b[43m,\u001b[49m\u001b[43m \u001b[49m\u001b[43mchunksize\u001b[49m\u001b[43m)\u001b[49m\u001b[38;5;241;43m.\u001b[39;49m\u001b[43mget\u001b[49m\u001b[43m(\u001b[49m\u001b[43m)\u001b[49m\n",
      "File \u001b[0;32m/data4/nanni/anaconda3/envs/nanni-tesi-env/lib/python3.10/multiprocessing/pool.py:774\u001b[0m, in \u001b[0;36mApplyResult.get\u001b[0;34m(self, timeout)\u001b[0m\n\u001b[1;32m    772\u001b[0m     \u001b[38;5;28;01mreturn\u001b[39;00m \u001b[38;5;28mself\u001b[39m\u001b[38;5;241m.\u001b[39m_value\n\u001b[1;32m    773\u001b[0m \u001b[38;5;28;01melse\u001b[39;00m:\n\u001b[0;32m--> 774\u001b[0m     \u001b[38;5;28;01mraise\u001b[39;00m \u001b[38;5;28mself\u001b[39m\u001b[38;5;241m.\u001b[39m_value\n",
      "File \u001b[0;32m/data4/nanni/anaconda3/envs/nanni-tesi-env/lib/python3.10/multiprocessing/pool.py:540\u001b[0m, in \u001b[0;36mPool._handle_tasks\u001b[0;34m(taskqueue, put, outqueue, pool, cache)\u001b[0m\n\u001b[1;32m    538\u001b[0m     \u001b[38;5;28;01mbreak\u001b[39;00m\n\u001b[1;32m    539\u001b[0m \u001b[38;5;28;01mtry\u001b[39;00m:\n\u001b[0;32m--> 540\u001b[0m     \u001b[43mput\u001b[49m\u001b[43m(\u001b[49m\u001b[43mtask\u001b[49m\u001b[43m)\u001b[49m\n\u001b[1;32m    541\u001b[0m \u001b[38;5;28;01mexcept\u001b[39;00m \u001b[38;5;167;01mException\u001b[39;00m \u001b[38;5;28;01mas\u001b[39;00m e:\n\u001b[1;32m    542\u001b[0m     job, idx \u001b[38;5;241m=\u001b[39m task[:\u001b[38;5;241m2\u001b[39m]\n",
      "File \u001b[0;32m/data4/nanni/anaconda3/envs/nanni-tesi-env/lib/python3.10/multiprocessing/connection.py:206\u001b[0m, in \u001b[0;36m_ConnectionBase.send\u001b[0;34m(self, obj)\u001b[0m\n\u001b[1;32m    204\u001b[0m \u001b[38;5;28mself\u001b[39m\u001b[38;5;241m.\u001b[39m_check_closed()\n\u001b[1;32m    205\u001b[0m \u001b[38;5;28mself\u001b[39m\u001b[38;5;241m.\u001b[39m_check_writable()\n\u001b[0;32m--> 206\u001b[0m \u001b[38;5;28mself\u001b[39m\u001b[38;5;241m.\u001b[39m_send_bytes(\u001b[43m_ForkingPickler\u001b[49m\u001b[38;5;241;43m.\u001b[39;49m\u001b[43mdumps\u001b[49m\u001b[43m(\u001b[49m\u001b[43mobj\u001b[49m\u001b[43m)\u001b[49m)\n",
      "File \u001b[0;32m/data4/nanni/anaconda3/envs/nanni-tesi-env/lib/python3.10/multiprocessing/reduction.py:51\u001b[0m, in \u001b[0;36mForkingPickler.dumps\u001b[0;34m(cls, obj, protocol)\u001b[0m\n\u001b[1;32m     48\u001b[0m \u001b[38;5;129m@classmethod\u001b[39m\n\u001b[1;32m     49\u001b[0m \u001b[38;5;28;01mdef\u001b[39;00m \u001b[38;5;21mdumps\u001b[39m(\u001b[38;5;28mcls\u001b[39m, obj, protocol\u001b[38;5;241m=\u001b[39m\u001b[38;5;28;01mNone\u001b[39;00m):\n\u001b[1;32m     50\u001b[0m     buf \u001b[38;5;241m=\u001b[39m io\u001b[38;5;241m.\u001b[39mBytesIO()\n\u001b[0;32m---> 51\u001b[0m     \u001b[38;5;28;43mcls\u001b[39;49m\u001b[43m(\u001b[49m\u001b[43mbuf\u001b[49m\u001b[43m,\u001b[49m\u001b[43m \u001b[49m\u001b[43mprotocol\u001b[49m\u001b[43m)\u001b[49m\u001b[38;5;241;43m.\u001b[39;49m\u001b[43mdump\u001b[49m\u001b[43m(\u001b[49m\u001b[43mobj\u001b[49m\u001b[43m)\u001b[49m\n\u001b[1;32m     52\u001b[0m     \u001b[38;5;28;01mreturn\u001b[39;00m buf\u001b[38;5;241m.\u001b[39mgetbuffer()\n",
      "\u001b[0;31mAttributeError\u001b[0m: Can't pickle local object 'foo.<locals>.worker'"
     ]
    }
   ],
   "source": [
    "import multiprocessing as mp\n",
    "\n",
    "lock = mp.Lock()\n",
    "mongoclient, collections = get_mongodb_collections(False)\n",
    "\n",
    "def foo():\n",
    "    def worker(inp):\n",
    "        global lock\n",
    "        \n",
    "        doc = get_one_document_from_mongodb_by_key('_id_numeric', inp, *collections)\n",
    "        \n",
    "        assert inp == doc['_id_numeric']\n",
    "        # lock.acquire()\n",
    "        # print(inp, doc['_id_numeric'], type(inp))\n",
    "        # lock.release()\n",
    "\n",
    "    print(locals())\n",
    "    work = range(10000)\n",
    "\n",
    "    with mp.Pool(72) as pool:\n",
    "\n",
    "        pool.map(worker, work)\n",
    "\n",
    "\n",
    "foo()"
   ]
  }
 ],
 "metadata": {
  "kernelspec": {
   "display_name": "tabert",
   "language": "python",
   "name": "python3"
  },
  "language_info": {
   "codemirror_mode": {
    "name": "ipython",
    "version": 3
   },
   "file_extension": ".py",
   "mimetype": "text/x-python",
   "name": "python",
   "nbconvert_exporter": "python",
   "pygments_lexer": "ipython3",
   "version": "3.10.14"
  }
 },
 "nbformat": 4,
 "nbformat_minor": 2
}
