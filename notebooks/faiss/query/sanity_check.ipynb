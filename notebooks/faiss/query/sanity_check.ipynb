{
 "cells": [
  {
   "cell_type": "code",
   "execution_count": 1,
   "metadata": {},
   "outputs": [],
   "source": [
    "import faiss\n",
    "import pandas as pd\n",
    "\n",
    "import jsonlines\n",
    "\n",
    "from code.fasttext.embedding_utils import TableEncoder\n",
    "from code.utils.settings import DefaultPath\n",
    "from code.utils.utils import rebuild_table\n",
    "\n",
    "from code.faiss.lut import LUT"
   ]
  },
  {
   "cell_type": "markdown",
   "metadata": {},
   "source": [
    "## Sanity checks on v1_2 indexes"
   ]
  },
  {
   "cell_type": "markdown",
   "metadata": {},
   "source": [
    "There are many tables with identical rows/columns, this results in L2-distances=0!"
   ]
  },
  {
   "cell_type": "code",
   "execution_count": 2,
   "metadata": {},
   "outputs": [],
   "source": [
    "tabenc = TableEncoder(\n",
    "    model_path=DefaultPath.model_path.fasttext + 'ft_cc.en.300_freqprune_400K_100K_pq_300.bin'\n",
    ")"
   ]
  },
  {
   "cell_type": "code",
   "execution_count": 36,
   "metadata": {},
   "outputs": [],
   "source": [
    "db_path = DefaultPath.db_path.faiss + 'v1_2/48_50000_add_label_True_L2/'"
   ]
  },
  {
   "cell_type": "code",
   "execution_count": 37,
   "metadata": {},
   "outputs": [],
   "source": [
    "row_index = faiss.read_index(db_path + 'row_index.index') \n",
    "column_index = faiss.read_index(db_path + 'column_index.index')"
   ]
  },
  {
   "cell_type": "code",
   "execution_count": 38,
   "metadata": {},
   "outputs": [
    {
     "data": {
      "text/plain": [
       "(508855, 333343)"
      ]
     },
     "execution_count": 38,
     "metadata": {},
     "output_type": "execute_result"
    }
   ],
   "source": [
    "row_index.ntotal, column_index.ntotal"
   ]
  },
  {
   "cell_type": "code",
   "execution_count": 39,
   "metadata": {},
   "outputs": [
    {
     "data": {
      "text/plain": [
       "(50000, 50000)"
      ]
     },
     "execution_count": 39,
     "metadata": {},
     "output_type": "execute_result"
    }
   ],
   "source": [
    "row_lut = LUT()\n",
    "column_lut = LUT()\n",
    "\n",
    "row_lut.load(db_path + 'row_lut.json')\n",
    "column_lut.load(db_path + 'column_lut.json')\n",
    "row_lut.ntotal, column_lut.ntotal"
   ]
  },
  {
   "cell_type": "code",
   "execution_count": 16,
   "metadata": {},
   "outputs": [
    {
     "name": "stdout",
     "output_type": "stream",
     "text": [
      "Errore negli ID per i == 31\n",
      "Errore negli ID per i == 55\n",
      "Errore negli ID per i == 62\n",
      "Errore negli ID per i == 71\n",
      "Errore negli ID per i == 77\n",
      "Errore negli ID per i == 85\n",
      "Errore negli ID per i == 92\n",
      "Errore negli ID per i == 93\n",
      "Errore negli ID per i == 94\n",
      "Errore negli ID per i == 97\n",
      "Errore negli ID per i == 108\n",
      "Errore negli ID per i == 149\n",
      "Errore negli ID per i == 153\n"
     ]
    }
   ],
   "source": [
    "bad_tables = []\n",
    "with jsonlines.open(DefaultPath.data_path.wikitables + 'sloth_tables.jsonl') as reader:\n",
    "    for i, json_table in enumerate(reader):\n",
    "        if i >= 160: \n",
    "            break\n",
    "        id_table = json_table['_id']\n",
    "        table = rebuild_table(json_table)\n",
    "        \n",
    "        row_emb, col_emb = tabenc.full_embedding(table, add_label=True)\n",
    "        D, I = row_index.search(row_emb, 3)\n",
    "\n",
    "        if not all([round(xe[0], 5) == 0 for xe in D]):\n",
    "            print(f'Errore nelle distanze per i=={i}')\n",
    "            \n",
    "        if not all([row_lut.lookup(xi[0]) == id_table for xi in I]):\n",
    "            print(f'Errore negli ID per i == {i}')\n",
    "            bad_tables.append((i, table, id_table))\n"
   ]
  },
  {
   "cell_type": "code",
   "execution_count": 18,
   "metadata": {},
   "outputs": [
    {
     "data": {
      "text/plain": [
       "[31, 55, 62, 71, 77, 85, 92, 93, 94, 97, 108, 149, 153]"
      ]
     },
     "execution_count": 18,
     "metadata": {},
     "output_type": "execute_result"
    }
   ],
   "source": [
    "[bt[0] for bt in bad_tables]"
   ]
  },
  {
   "cell_type": "code",
   "execution_count": 19,
   "metadata": {},
   "outputs": [
    {
     "data": {
      "text/html": [
       "<div>\n",
       "<style scoped>\n",
       "    .dataframe tbody tr th:only-of-type {\n",
       "        vertical-align: middle;\n",
       "    }\n",
       "\n",
       "    .dataframe tbody tr th {\n",
       "        vertical-align: top;\n",
       "    }\n",
       "\n",
       "    .dataframe thead th {\n",
       "        text-align: right;\n",
       "    }\n",
       "</style>\n",
       "<table border=\"1\" class=\"dataframe\">\n",
       "  <thead>\n",
       "    <tr style=\"text-align: right;\">\n",
       "      <th></th>\n",
       "      <th>Program</th>\n",
       "      <th>Bachelor's (5Yrs)</th>\n",
       "      <th>Master's (7Yrs)</th>\n",
       "      <th>Diploma (2Yrs)</th>\n",
       "    </tr>\n",
       "  </thead>\n",
       "  <tbody>\n",
       "    <tr>\n",
       "      <th>0</th>\n",
       "      <td>Civil Engineering</td>\n",
       "      <td>B.E</td>\n",
       "      <td>M.E</td>\n",
       "      <td>A.G.T.I</td>\n",
       "    </tr>\n",
       "    <tr>\n",
       "      <th>1</th>\n",
       "      <td>Electronic and Communication</td>\n",
       "      <td>B.E.</td>\n",
       "      <td></td>\n",
       "      <td>A.G.T.I</td>\n",
       "    </tr>\n",
       "    <tr>\n",
       "      <th>2</th>\n",
       "      <td>Electrical Power</td>\n",
       "      <td>B.E.</td>\n",
       "      <td></td>\n",
       "      <td>A.G.T.I</td>\n",
       "    </tr>\n",
       "    <tr>\n",
       "      <th>3</th>\n",
       "      <td>Mechanical Engineering</td>\n",
       "      <td>B.E.</td>\n",
       "      <td></td>\n",
       "      <td>A.G.T.I</td>\n",
       "    </tr>\n",
       "    <tr>\n",
       "      <th>4</th>\n",
       "      <td>Computer Numerical Control Engineering</td>\n",
       "      <td></td>\n",
       "      <td></td>\n",
       "      <td>A.G.T.I</td>\n",
       "    </tr>\n",
       "  </tbody>\n",
       "</table>\n",
       "</div>"
      ],
      "text/plain": [
       "                                  Program Bachelor's (5Yrs) Master's (7Yrs)  \\\n",
       "0                       Civil Engineering               B.E             M.E   \n",
       "1            Electronic and Communication              B.E.                   \n",
       "2                        Electrical Power              B.E.                   \n",
       "3                  Mechanical Engineering              B.E.                   \n",
       "4  Computer Numerical Control Engineering                                     \n",
       "\n",
       "  Diploma (2Yrs)  \n",
       "0        A.G.T.I  \n",
       "1        A.G.T.I  \n",
       "2        A.G.T.I  \n",
       "3        A.G.T.I  \n",
       "4        A.G.T.I  "
      ]
     },
     "execution_count": 19,
     "metadata": {},
     "output_type": "execute_result"
    }
   ],
   "source": [
    "idx = 149\n",
    "i_table_id = [bt for bt in bad_tables if bt[0] == idx][0]\n",
    "row_emb, col_emb = tabenc.full_embedding(i_table_id[1], add_label=True)\n",
    "i_table_id[1]"
   ]
  },
  {
   "cell_type": "code",
   "execution_count": 20,
   "metadata": {},
   "outputs": [
    {
     "data": {
      "text/plain": [
       "array([[0.        , 0.18108512, 0.18108512],\n",
       "       [0.        , 0.        , 0.00206247],\n",
       "       [0.        , 0.        , 0.00542197],\n",
       "       [0.        , 0.        , 0.00291783],\n",
       "       [0.        , 0.1171796 , 0.1171796 ]], dtype=float32)"
      ]
     },
     "execution_count": 20,
     "metadata": {},
     "output_type": "execute_result"
    }
   ],
   "source": [
    "D, I = row_index.search(row_emb, 3)\n",
    "D"
   ]
  },
  {
   "cell_type": "code",
   "execution_count": 21,
   "metadata": {},
   "outputs": [
    {
     "data": {
      "text/plain": [
       "array([[  1596,   1590,   1597],\n",
       "       [  1590,   1597,   1595],\n",
       "       [  1591,   1598,   1592],\n",
       "       [  1592,   1599,   1590],\n",
       "       [  1600, 137881, 137887]])"
      ]
     },
     "execution_count": 21,
     "metadata": {},
     "output_type": "execute_result"
    }
   ],
   "source": [
    "I"
   ]
  },
  {
   "cell_type": "code",
   "execution_count": 250,
   "metadata": {},
   "outputs": [
    {
     "data": {
      "text/plain": [
       "'37803389-1'"
      ]
     },
     "execution_count": 250,
     "metadata": {},
     "output_type": "execute_result"
    }
   ],
   "source": [
    "i_table_id[2]"
   ]
  },
  {
   "cell_type": "code",
   "execution_count": 22,
   "metadata": {},
   "outputs": [
    {
     "name": "stdout",
     "output_type": "stream",
     "text": [
      "37803389-1\t37803315-1\t37803389-1\t\n",
      "37803315-1\t37803389-1\t37803315-1\t\n",
      "37803315-1\t37803389-1\t37803315-1\t\n",
      "37803315-1\t37803389-1\t37803315-1\t\n",
      "37803389-1\t26816358-12\t26816358-16\t\n"
     ]
    }
   ],
   "source": [
    "for res in I:\n",
    "    for r in res:\n",
    "        print(row_lut.lookup(r), end='\\t')\n",
    "    print()"
   ]
  },
  {
   "cell_type": "code",
   "execution_count": 23,
   "metadata": {},
   "outputs": [
    {
     "data": {
      "text/html": [
       "<div>\n",
       "<style scoped>\n",
       "    .dataframe tbody tr th:only-of-type {\n",
       "        vertical-align: middle;\n",
       "    }\n",
       "\n",
       "    .dataframe tbody tr th {\n",
       "        vertical-align: top;\n",
       "    }\n",
       "\n",
       "    .dataframe thead th {\n",
       "        text-align: right;\n",
       "    }\n",
       "</style>\n",
       "<table border=\"1\" class=\"dataframe\">\n",
       "  <thead>\n",
       "    <tr style=\"text-align: right;\">\n",
       "      <th></th>\n",
       "      <th>Program</th>\n",
       "      <th>Bachelor's (5Yrs)</th>\n",
       "      <th>Master's (7Yrs)</th>\n",
       "      <th>Diploma (2Yrs)</th>\n",
       "    </tr>\n",
       "  </thead>\n",
       "  <tbody>\n",
       "    <tr>\n",
       "      <th>0</th>\n",
       "      <td>Civil Engineering</td>\n",
       "      <td>B.E</td>\n",
       "      <td></td>\n",
       "      <td>A.G.T.I</td>\n",
       "    </tr>\n",
       "    <tr>\n",
       "      <th>1</th>\n",
       "      <td>Electronic and Communication</td>\n",
       "      <td>B.E.</td>\n",
       "      <td></td>\n",
       "      <td>A.G.T.I</td>\n",
       "    </tr>\n",
       "    <tr>\n",
       "      <th>2</th>\n",
       "      <td>Electrical Power</td>\n",
       "      <td>B.E.</td>\n",
       "      <td></td>\n",
       "      <td>A.G.T.I</td>\n",
       "    </tr>\n",
       "    <tr>\n",
       "      <th>3</th>\n",
       "      <td>Mechanical Engineering</td>\n",
       "      <td>B.E.</td>\n",
       "      <td></td>\n",
       "      <td>A.G.T.I</td>\n",
       "    </tr>\n",
       "    <tr>\n",
       "      <th>4</th>\n",
       "      <td>Mining Engineering</td>\n",
       "      <td>B.E.</td>\n",
       "      <td></td>\n",
       "      <td>A.G.T.I</td>\n",
       "    </tr>\n",
       "    <tr>\n",
       "      <th>5</th>\n",
       "      <td>Biotechnology</td>\n",
       "      <td>B.E</td>\n",
       "      <td></td>\n",
       "      <td>A.G.T.I</td>\n",
       "    </tr>\n",
       "    <tr>\n",
       "      <th>6</th>\n",
       "      <td>Information Technology</td>\n",
       "      <td>B.E</td>\n",
       "      <td></td>\n",
       "      <td>A.G.T.I</td>\n",
       "    </tr>\n",
       "  </tbody>\n",
       "</table>\n",
       "</div>"
      ],
      "text/plain": [
       "                        Program Bachelor's (5Yrs) Master's (7Yrs)  \\\n",
       "0             Civil Engineering               B.E                   \n",
       "1  Electronic and Communication              B.E.                   \n",
       "2              Electrical Power              B.E.                   \n",
       "3        Mechanical Engineering              B.E.                   \n",
       "4            Mining Engineering              B.E.                   \n",
       "5                 Biotechnology               B.E                   \n",
       "6        Information Technology               B.E                   \n",
       "\n",
       "  Diploma (2Yrs)  \n",
       "0        A.G.T.I  \n",
       "1        A.G.T.I  \n",
       "2        A.G.T.I  \n",
       "3        A.G.T.I  \n",
       "4        A.G.T.I  \n",
       "5        A.G.T.I  \n",
       "6        A.G.T.I  "
      ]
     },
     "execution_count": 23,
     "metadata": {},
     "output_type": "execute_result"
    }
   ],
   "source": [
    "id_s = row_lut.lookup(1596)\n",
    "id_t = row_lut.lookup(1590)\n",
    "t, s = None, None\n",
    "\n",
    "with jsonlines.open(DefaultPath.data_path.wikitables + 'sloth_tables.jsonl') as reader:\n",
    "    for i, json_table in enumerate(reader):\n",
    "        if json_table['_id'] == id_t:\n",
    "            t = rebuild_table(json_table)\n",
    "        if json_table['_id'] == id_s:\n",
    "            s = rebuild_table(json_table)\n",
    "        if t is not None and s is not None:\n",
    "            break\n",
    "t"
   ]
  },
  {
   "cell_type": "code",
   "execution_count": 253,
   "metadata": {},
   "outputs": [
    {
     "data": {
      "text/html": [
       "<div>\n",
       "<style scoped>\n",
       "    .dataframe tbody tr th:only-of-type {\n",
       "        vertical-align: middle;\n",
       "    }\n",
       "\n",
       "    .dataframe tbody tr th {\n",
       "        vertical-align: top;\n",
       "    }\n",
       "\n",
       "    .dataframe thead th {\n",
       "        text-align: right;\n",
       "    }\n",
       "</style>\n",
       "<table border=\"1\" class=\"dataframe\">\n",
       "  <thead>\n",
       "    <tr style=\"text-align: right;\">\n",
       "      <th></th>\n",
       "      <th>Program</th>\n",
       "      <th>Bachelor's (5Yrs)</th>\n",
       "      <th>Master's (7Yrs)</th>\n",
       "      <th>Diploma (2Yrs)</th>\n",
       "    </tr>\n",
       "  </thead>\n",
       "  <tbody>\n",
       "    <tr>\n",
       "      <th>0</th>\n",
       "      <td>Civil Engineering</td>\n",
       "      <td>B.E</td>\n",
       "      <td>M.E</td>\n",
       "      <td>A.G.T.I</td>\n",
       "    </tr>\n",
       "    <tr>\n",
       "      <th>1</th>\n",
       "      <td>Electronic and Communication</td>\n",
       "      <td>B.E.</td>\n",
       "      <td></td>\n",
       "      <td>A.G.T.I</td>\n",
       "    </tr>\n",
       "    <tr>\n",
       "      <th>2</th>\n",
       "      <td>Electrical Power</td>\n",
       "      <td>B.E.</td>\n",
       "      <td></td>\n",
       "      <td>A.G.T.I</td>\n",
       "    </tr>\n",
       "    <tr>\n",
       "      <th>3</th>\n",
       "      <td>Mechanical Engineering</td>\n",
       "      <td>B.E.</td>\n",
       "      <td></td>\n",
       "      <td>A.G.T.I</td>\n",
       "    </tr>\n",
       "    <tr>\n",
       "      <th>4</th>\n",
       "      <td>Computer Numerical Control Engineering</td>\n",
       "      <td></td>\n",
       "      <td></td>\n",
       "      <td>A.G.T.I</td>\n",
       "    </tr>\n",
       "  </tbody>\n",
       "</table>\n",
       "</div>"
      ],
      "text/plain": [
       "                                  Program Bachelor's (5Yrs) Master's (7Yrs)  \\\n",
       "0                       Civil Engineering               B.E             M.E   \n",
       "1            Electronic and Communication              B.E.                   \n",
       "2                        Electrical Power              B.E.                   \n",
       "3                  Mechanical Engineering              B.E.                   \n",
       "4  Computer Numerical Control Engineering                                     \n",
       "\n",
       "  Diploma (2Yrs)  \n",
       "0        A.G.T.I  \n",
       "1        A.G.T.I  \n",
       "2        A.G.T.I  \n",
       "3        A.G.T.I  \n",
       "4        A.G.T.I  "
      ]
     },
     "execution_count": 253,
     "metadata": {},
     "output_type": "execute_result"
    }
   ],
   "source": [
    "s"
   ]
  },
  {
   "cell_type": "code",
   "execution_count": 216,
   "metadata": {},
   "outputs": [],
   "source": [
    "row_t, col_t = tabenc.full_embedding(t, add_label=True)\n",
    "row_s, col_s = tabenc.full_embedding(s, add_label=True)\n",
    "row_t.shape, row_s.shape"
   ]
  },
  {
   "cell_type": "code",
   "execution_count": 218,
   "metadata": {},
   "outputs": [
    {
     "name": "stderr",
     "output_type": "stream",
     "text": [
      "100%|██████████| 3/3 [00:00<00:00, 29.52it/s]\n"
     ]
    }
   ],
   "source": [
    "from code.fasttext.embedding_utils import compare_embeddings\n",
    "\n",
    "c = compare_embeddings(t, s, tabenc, on='rows', add_label=True)\n",
    "c.head()"
   ]
  },
  {
   "cell_type": "code",
   "execution_count": 220,
   "metadata": {},
   "outputs": [
    {
     "data": {
      "text/html": [
       "<div>\n",
       "<style scoped>\n",
       "    .dataframe tbody tr th:only-of-type {\n",
       "        vertical-align: middle;\n",
       "    }\n",
       "\n",
       "    .dataframe tbody tr th {\n",
       "        vertical-align: top;\n",
       "    }\n",
       "\n",
       "    .dataframe thead th {\n",
       "        text-align: right;\n",
       "    }\n",
       "</style>\n",
       "<table border=\"1\" class=\"dataframe\">\n",
       "  <thead>\n",
       "    <tr style=\"text-align: right;\">\n",
       "      <th></th>\n",
       "      <th>R1</th>\n",
       "      <th>R2</th>\n",
       "      <th>L2</th>\n",
       "    </tr>\n",
       "  </thead>\n",
       "  <tbody>\n",
       "    <tr>\n",
       "      <th>0</th>\n",
       "      <td>0.0</td>\n",
       "      <td>0.0</td>\n",
       "      <td>0.000000</td>\n",
       "    </tr>\n",
       "    <tr>\n",
       "      <th>9</th>\n",
       "      <td>3.0</td>\n",
       "      <td>0.0</td>\n",
       "      <td>0.123911</td>\n",
       "    </tr>\n",
       "    <tr>\n",
       "      <th>2</th>\n",
       "      <td>0.0</td>\n",
       "      <td>2.0</td>\n",
       "      <td>0.168474</td>\n",
       "    </tr>\n",
       "    <tr>\n",
       "      <th>11</th>\n",
       "      <td>3.0</td>\n",
       "      <td>2.0</td>\n",
       "      <td>0.190462</td>\n",
       "    </tr>\n",
       "    <tr>\n",
       "      <th>8</th>\n",
       "      <td>2.0</td>\n",
       "      <td>2.0</td>\n",
       "      <td>0.190531</td>\n",
       "    </tr>\n",
       "  </tbody>\n",
       "</table>\n",
       "</div>"
      ],
      "text/plain": [
       "     R1   R2        L2\n",
       "0   0.0  0.0  0.000000\n",
       "9   3.0  0.0  0.123911\n",
       "2   0.0  2.0  0.168474\n",
       "11  3.0  2.0  0.190462\n",
       "8   2.0  2.0  0.190531"
      ]
     },
     "execution_count": 220,
     "metadata": {},
     "output_type": "execute_result"
    }
   ],
   "source": [
    "import numpy as np\n",
    "dist = pd.DataFrame(columns=['R1', 'R2', 'L2'])\n",
    "for i, rs in enumerate(row_s):\n",
    "    for j, rt in enumerate(row_t):\n",
    "        dist.loc[len(dist)] = [i, j, np.linalg.norm(rs - rt)]\n",
    "dist.sort_values(by=['L2']).head()"
   ]
  }
 ],
 "metadata": {
  "kernelspec": {
   "display_name": "chroma",
   "language": "python",
   "name": "python3"
  },
  "language_info": {
   "codemirror_mode": {
    "name": "ipython",
    "version": 3
   },
   "file_extension": ".py",
   "mimetype": "text/x-python",
   "name": "python",
   "nbconvert_exporter": "python",
   "pygments_lexer": "ipython3",
   "version": "3.10.12"
  }
 },
 "nbformat": 4,
 "nbformat_minor": 2
}
