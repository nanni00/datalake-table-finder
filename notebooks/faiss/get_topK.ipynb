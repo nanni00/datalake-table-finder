{
 "cells": [
  {
   "cell_type": "code",
   "execution_count": 2,
   "metadata": {},
   "outputs": [],
   "source": [
    "import faiss\n",
    "import pandas as pd\n",
    "import polars as pl\n",
    "\n",
    "from code.faiss.lut import LUT\n",
    "from code.utils.table import Table\n",
    "from code.utils.settings import DefaultPath\n",
    "\n",
    "from sentence_transformers import SentenceTransformer"
   ]
  },
  {
   "cell_type": "code",
   "execution_count": 3,
   "metadata": {},
   "outputs": [],
   "source": [
    "test_root_dir = DefaultPath.data_path.wikitables + 'threshold-r5-c2-a50'\n",
    "\n",
    "results = pl.scan_csv(f'{test_root_dir}/sloth-results-r5-c2-a50.csv')\n",
    "tables_path = f'{test_root_dir}/sloth-tables-r5-c2-a50.jsonl'"
   ]
  },
  {
   "cell_type": "markdown",
   "metadata": {},
   "source": [
    "Carico ogni tabella in formato csv solo per far prima, altrimenti ogni volta c'è da andare a leggere\n",
    "il jsonl ed è una noia."
   ]
  },
  {
   "cell_type": "code",
   "execution_count": 3,
   "metadata": {},
   "outputs": [],
   "source": [
    "from code.utils.utils import rebuild_table\n",
    "from tqdm.notebook import tqdm\n",
    "\n",
    "# with jsonlines.open(tables_path) as reader:\n",
    "#     for jtable in tqdm(reader, total=45673):\n",
    "#         rebuild_table(jtable).to_csv(f'{test_root_dir}/csv/{jtable[\"_id\"]}', index=False)"
   ]
  },
  {
   "cell_type": "markdown",
   "metadata": {},
   "source": [
    "Dai risultati di SLOTH, prendo le prime 1000 righe: con gli elementi unici a sinistra delle coppie (r_id) creo un indice, con quelli a destra (s_id) faccio l'operazione di testing per fare qualche valutazione."
   ]
  },
  {
   "cell_type": "code",
   "execution_count": 4,
   "metadata": {},
   "outputs": [
    {
     "data": {
      "text/plain": [
       "98"
      ]
     },
     "execution_count": 4,
     "metadata": {},
     "output_type": "execute_result"
    }
   ],
   "source": [
    "index_ids = set(results.select(pl.col('r_id')).head(100).unique().collect()['r_id'].to_list())\n",
    "len(index_ids)"
   ]
  },
  {
   "cell_type": "code",
   "execution_count": 5,
   "metadata": {},
   "outputs": [],
   "source": [
    "model = SentenceTransformer(\"all-MiniLM-L6-v2\")"
   ]
  },
  {
   "cell_type": "code",
   "execution_count": 7,
   "metadata": {},
   "outputs": [],
   "source": [
    "def encode_table(table:Table, model, normalize_embeddings=False):\n",
    "  row_embs = model.encode([\n",
    "        '|'.join([f'{h},{cell}' for (h, cell) in zip(table.headers, t)]) \n",
    "        for t in table.get_tuples()\n",
    "    ],\n",
    "    normalize_embeddings=normalize_embeddings\n",
    "  )\n",
    "\n",
    "  col_embs = model.encode([\n",
    "        f\"{h},{','.join(map(str, col))}\"\n",
    "        for h, col in zip(table.headers, table.columns)\n",
    "    ],\n",
    "    normalize_embeddings=normalize_embeddings\n",
    "  )\n",
    "\n",
    "  return row_embs, col_embs"
   ]
  },
  {
   "cell_type": "code",
   "execution_count": null,
   "metadata": {},
   "outputs": [],
   "source": [
    "dim = model.get_sentence_embedding_dimension()\n",
    "row_index, column_index = faiss.IndexFlatL2(dim), faiss.IndexFlatL2(dim) \n",
    "row_lut, column_lut = LUT(), LUT()\n",
    "\n",
    "\n",
    "for id in tqdm(index_ids):\n",
    "    df = pd.read_csv(test_root_dir + f'/csv/{id}')\n",
    "    table = Table()\n",
    "    table.from_pandas(df)\n",
    "\n",
    "    row_emb, col_emb = encode_table(table, model, True)\n",
    "\n",
    "    row_lut.insert_index(row_emb.shape[0], id)\n",
    "    column_lut.insert_index(col_emb.shape[0], id)\n",
    "\n",
    "    row_index.add(row_emb)\n",
    "    column_index.add(col_emb)\n"
   ]
  },
  {
   "cell_type": "code",
   "execution_count": 9,
   "metadata": {},
   "outputs": [],
   "source": [
    "faiss.write_index(row_index, 'basic_index/row_index.index')\n",
    "faiss.write_index(column_index, 'basic_index/column_index.index')\n",
    "import json\n",
    "with open('basic_index/row_lut.json', 'w') as writer:\n",
    "    json.dump(\n",
    "        { 'idxs': row_lut.idxs, 'ids': row_lut.table_ids },\n",
    "        writer\n",
    "    )\n",
    "with open('basic_index/column_lut.json', 'w') as writer:\n",
    "    json.dump(\n",
    "        { 'idxs': column_lut.idxs, 'ids':  column_lut.table_ids },\n",
    "        writer\n",
    "    )"
   ]
  },
  {
   "cell_type": "code",
   "execution_count": 8,
   "metadata": {},
   "outputs": [],
   "source": [
    "dim = model.get_sentence_embedding_dimension()\n",
    "row_index, column_index = faiss.read_index('basic_index/row_index.index'), faiss.read_index('basic_index/column_index.index')\n",
    "row_lut, column_lut = LUT(), LUT()\n",
    "row_lut.load('basic_index/row_lut.json')\n",
    "column_lut.load('basic_index/column_lut.json')"
   ]
  },
  {
   "cell_type": "code",
   "execution_count": 9,
   "metadata": {},
   "outputs": [
    {
     "data": {
      "text/plain": [
       "99"
      ]
     },
     "execution_count": 9,
     "metadata": {},
     "output_type": "execute_result"
    }
   ],
   "source": [
    "test_ids = set(results.select(pl.col('s_id')).head(100).unique().collect()['s_id'].to_list())\n",
    "len(test_ids)"
   ]
  },
  {
   "cell_type": "code",
   "execution_count": 10,
   "metadata": {},
   "outputs": [
    {
     "data": {
      "text/plain": [
       "98"
      ]
     },
     "execution_count": 10,
     "metadata": {},
     "output_type": "execute_result"
    }
   ],
   "source": [
    "test_ids = list(test_ids.difference(index_ids))\n",
    "len(test_ids)"
   ]
  },
  {
   "cell_type": "code",
   "execution_count": 11,
   "metadata": {},
   "outputs": [
    {
     "data": {
      "text/html": [
       "<div><style>\n",
       ".dataframe > thead > tr,\n",
       ".dataframe > tbody > tr {\n",
       "  text-align: right;\n",
       "  white-space: pre-wrap;\n",
       "}\n",
       "</style>\n",
       "<small>shape: (1, 5)</small><table border=\"1\" class=\"dataframe\"><thead><tr><th>r_id</th><th>s_id</th><th>jsim</th><th>o_a</th><th>a%</th></tr><tr><td>str</td><td>str</td><td>f64</td><td>i64</td><td>f64</td></tr></thead><tbody><tr><td>&quot;4918676-1&quot;</td><td>&quot;5116633-1&quot;</td><td>0.468085</td><td>44</td><td>0.174603</td></tr></tbody></table></div>"
      ],
      "text/plain": [
       "shape: (1, 5)\n",
       "┌───────────┬───────────┬──────────┬─────┬──────────┐\n",
       "│ r_id      ┆ s_id      ┆ jsim     ┆ o_a ┆ a%       │\n",
       "│ ---       ┆ ---       ┆ ---      ┆ --- ┆ ---      │\n",
       "│ str       ┆ str       ┆ f64      ┆ i64 ┆ f64      │\n",
       "╞═══════════╪═══════════╪══════════╪═════╪══════════╡\n",
       "│ 4918676-1 ┆ 5116633-1 ┆ 0.468085 ┆ 44  ┆ 0.174603 │\n",
       "└───────────┴───────────┴──────────┴─────┴──────────┘"
      ]
     },
     "execution_count": 11,
     "metadata": {},
     "output_type": "execute_result"
    }
   ],
   "source": [
    "results.head(100).filter(pl.col('s_id') == test_ids[0]).collect()"
   ]
  },
  {
   "cell_type": "code",
   "execution_count": 12,
   "metadata": {},
   "outputs": [
    {
     "data": {
      "text/html": [
       "<div><style>\n",
       ".dataframe > thead > tr,\n",
       ".dataframe > tbody > tr {\n",
       "  text-align: right;\n",
       "  white-space: pre-wrap;\n",
       "}\n",
       "</style>\n",
       "<small>shape: (5, 12)</small><table border=\"1\" class=\"dataframe\"><thead><tr><th>Club</th><th>Season</th><th>League</th><th>League_duplicated_0</th><th>FA Cup</th><th>FA Cup_duplicated_0</th><th>League Cup</th><th>League Cup_duplicated_0</th><th>Other</th><th>Other_duplicated_0</th><th>Total</th><th>Total_duplicated_0</th></tr><tr><td>str</td><td>str</td><td>i64</td><td>i64</td><td>i64</td><td>i64</td><td>i64</td><td>i64</td><td>str</td><td>str</td><td>i64</td><td>i64</td></tr></thead><tbody><tr><td>&quot;Reading&quot;</td><td>&quot;1999–00&quot;</td><td>6</td><td>0</td><td>0</td><td>0</td><td>0</td><td>0</td><td>&quot;0&quot;</td><td>&quot;0&quot;</td><td>6</td><td>0</td></tr><tr><td>&quot;Reading&quot;</td><td>&quot;2000–01&quot;</td><td>4</td><td>0</td><td>0</td><td>0</td><td>1</td><td>0</td><td>&quot;1&quot;</td><td>&quot;0&quot;</td><td>6</td><td>0</td></tr><tr><td>&quot;Reading&quot;</td><td>&quot;2001–02&quot;</td><td>38</td><td>7</td><td>2</td><td>0</td><td>3</td><td>2</td><td>&quot;2&quot;</td><td>&quot;2&quot;</td><td>45</td><td>11</td></tr><tr><td>&quot;Reading&quot;</td><td>&quot;2002–03&quot;</td><td>22</td><td>4</td><td>1</td><td>0</td><td>0</td><td>0</td><td>&quot;2&quot;</td><td>&quot;0&quot;</td><td>25</td><td>4</td></tr><tr><td>&quot;Reading&quot;</td><td>&quot;2003–04&quot;</td><td>1</td><td>0</td><td>0</td><td>0</td><td>0</td><td>0</td><td>&quot;—&quot;</td><td>&quot;—&quot;</td><td>1</td><td>0</td></tr></tbody></table></div>"
      ],
      "text/plain": [
       "shape: (5, 12)\n",
       "┌─────────┬─────────┬────────┬────────────────┬───┬───────┬────────────────┬───────┬───────────────┐\n",
       "│ Club    ┆ Season  ┆ League ┆ League_duplica ┆ … ┆ Other ┆ Other_duplicat ┆ Total ┆ Total_duplica │\n",
       "│ ---     ┆ ---     ┆ ---    ┆ ted_0          ┆   ┆ ---   ┆ ed_0           ┆ ---   ┆ ted_0         │\n",
       "│ str     ┆ str     ┆ i64    ┆ ---            ┆   ┆ str   ┆ ---            ┆ i64   ┆ ---           │\n",
       "│         ┆         ┆        ┆ i64            ┆   ┆       ┆ str            ┆       ┆ i64           │\n",
       "╞═════════╪═════════╪════════╪════════════════╪═══╪═══════╪════════════════╪═══════╪═══════════════╡\n",
       "│ Reading ┆ 1999–00 ┆ 6      ┆ 0              ┆ … ┆ 0     ┆ 0              ┆ 6     ┆ 0             │\n",
       "│ Reading ┆ 2000–01 ┆ 4      ┆ 0              ┆ … ┆ 1     ┆ 0              ┆ 6     ┆ 0             │\n",
       "│ Reading ┆ 2001–02 ┆ 38     ┆ 7              ┆ … ┆ 2     ┆ 2              ┆ 45    ┆ 11            │\n",
       "│ Reading ┆ 2002–03 ┆ 22     ┆ 4              ┆ … ┆ 2     ┆ 0              ┆ 25    ┆ 4             │\n",
       "│ Reading ┆ 2003–04 ┆ 1      ┆ 0              ┆ … ┆ —     ┆ —              ┆ 1     ┆ 0             │\n",
       "└─────────┴─────────┴────────┴────────────────┴───┴───────┴────────────────┴───────┴───────────────┘"
      ]
     },
     "execution_count": 12,
     "metadata": {},
     "output_type": "execute_result"
    }
   ],
   "source": [
    "df = pl.read_csv(test_root_dir +  f'/csv/{test_ids[0]}')\n",
    "df.head()"
   ]
  },
  {
   "cell_type": "code",
   "execution_count": 13,
   "metadata": {},
   "outputs": [],
   "source": [
    "table = Table()\n",
    "table.from_polars(df)"
   ]
  },
  {
   "cell_type": "code",
   "execution_count": 14,
   "metadata": {},
   "outputs": [],
   "source": [
    "row_emb, col_emb = encode_table(table, model, True)"
   ]
  },
  {
   "cell_type": "code",
   "execution_count": 15,
   "metadata": {},
   "outputs": [],
   "source": [
    "D, I = row_index.search(row_emb, 3)"
   ]
  },
  {
   "cell_type": "code",
   "execution_count": 17,
   "metadata": {},
   "outputs": [
    {
     "data": {
      "text/plain": [
       "(array(['10777756-1', '39176684-1', '40082725-1', '4918676-1'],\n",
       "       dtype='<U10'),\n",
       " array([12,  3,  1, 68]))"
      ]
     },
     "execution_count": 17,
     "metadata": {},
     "output_type": "execute_result"
    }
   ],
   "source": [
    "import numpy as np\n",
    "\n",
    "cnt = np.unique(np.vectorize(row_lut.lookup)(I), return_counts=True)\n",
    "cnt"
   ]
  },
  {
   "cell_type": "code",
   "execution_count": 52,
   "metadata": {},
   "outputs": [
    {
     "data": {
      "text/plain": [
       "[('10777756-1', 12), ('39176684-1', 3), ('40082725-1', 1), ('4918676-1', 68)]"
      ]
     },
     "execution_count": 52,
     "metadata": {},
     "output_type": "execute_result"
    }
   ],
   "source": [
    "r = list(zip(cnt[0], cnt[1]))\n",
    "r"
   ]
  },
  {
   "cell_type": "code",
   "execution_count": 53,
   "metadata": {},
   "outputs": [
    {
     "data": {
      "text/plain": [
       "[('10777756-1', 12),\n",
       " ('39176684-1', 3),\n",
       " ('39176684-1', 44),\n",
       " ('40082725-1', 1),\n",
       " ('4918676-1', 68)]"
      ]
     },
     "execution_count": 53,
     "metadata": {},
     "output_type": "execute_result"
    }
   ],
   "source": [
    "r.append(('39176684-1', 44))\n",
    "r = sorted(r, key=lambda x: x[0])\n",
    "r"
   ]
  },
  {
   "cell_type": "code",
   "execution_count": 59,
   "metadata": {},
   "outputs": [
    {
     "name": "stdout",
     "output_type": "stream",
     "text": [
      "{'10777756-1': ('10777756-1', 12)}\n",
      "{'39176684-1': (<class 'tuple'>, <class 'tuple'>)}\n",
      "{'40082725-1': ('40082725-1', 1)}\n",
      "{'4918676-1': ('4918676-1', 68)}\n"
     ]
    }
   ],
   "source": [
    "from itertools import groupby\n",
    "from functools import reduce\n",
    "\n",
    "an_iterator = groupby(r, lambda x : x[0]) \n",
    "  \n",
    "for key, group in an_iterator: \n",
    "    key_and_group = {key : reduce(lambda x, y: x[1] + y[1] if y != None else x[1], list(group))} \n",
    "    print(key_and_group) "
   ]
  }
 ],
 "metadata": {
  "kernelspec": {
   "display_name": "tesi",
   "language": "python",
   "name": "python3"
  },
  "language_info": {
   "codemirror_mode": {
    "name": "ipython",
    "version": 3
   },
   "file_extension": ".py",
   "mimetype": "text/x-python",
   "name": "python",
   "nbconvert_exporter": "python",
   "pygments_lexer": "ipython3",
   "version": "3.10.12"
  }
 },
 "nbformat": 4,
 "nbformat_minor": 2
}
