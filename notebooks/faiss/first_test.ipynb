{
 "cells": [
  {
   "cell_type": "code",
   "execution_count": 8,
   "metadata": {},
   "outputs": [],
   "source": [
    "import pandas as pd\n",
    "import jsonlines\n",
    "import json\n",
    "import faiss\n",
    "import bisect\n",
    "\n",
    "from code.fasttext.embedding_utils import TableEncoder\n",
    "from code.utils.settings import DefaultPath\n",
    "from code.utils.utils import rebuild_table"
   ]
  },
  {
   "cell_type": "markdown",
   "metadata": {},
   "source": [
    "### Create index and LUTs"
   ]
  },
  {
   "cell_type": "code",
   "execution_count": 77,
   "metadata": {},
   "outputs": [],
   "source": [
    "tabenc = TableEncoder(\n",
    "    model_path=DefaultPath.model_path.fasttext + 'ft_cc.en.300_freqprune_400K_100K_pq_300.bin'\n",
    "    )\n",
    "\n",
    "d = 300 # fastText vectors are 300D\n",
    "row_index = faiss.IndexFlatL2(d)\n",
    "column_index = faiss.IndexFlatL2(d)"
   ]
  },
  {
   "cell_type": "code",
   "execution_count": 78,
   "metadata": {},
   "outputs": [],
   "source": [
    "row_LUT = [\n",
    "    [], # rows steps\n",
    "    [], # corresponding table IDs\n",
    "]\n",
    "\n",
    "column_LUT = [\n",
    "    [], # columns steps\n",
    "    [], # corresponding table IDs\n",
    "]"
   ]
  },
  {
   "cell_type": "code",
   "execution_count": 79,
   "metadata": {},
   "outputs": [],
   "source": [
    "def get_table_from_jsonl(table_id):\n",
    "    with jsonlines.open(DefaultPath.data_path.wikitables + 'sloth_tables.jsonl') as reader:\n",
    "        while (m := reader.read())['_id'] != table_id:\n",
    "            continue\n",
    "        return rebuild_table(m)"
   ]
  },
  {
   "cell_type": "code",
   "execution_count": 80,
   "metadata": {},
   "outputs": [],
   "source": [
    "n_tables_to_read = 100\n",
    "tables = []\n",
    "\n",
    "with jsonlines.open(DefaultPath.data_path.wikitables + 'sloth_tables.jsonl') as reader:\n",
    "    for i, json_table in enumerate(reader):\n",
    "        if i >= n_tables_to_read: \n",
    "            break\n",
    "        table = rebuild_table(json_table)\n",
    "        tables.append(table)\n",
    "        row_embeddings, column_embeddings = tabenc.full_embedding(table, add_label=True)\n",
    "        \n",
    "        row_LUT[0].append(\n",
    "            row_embeddings.shape[0] - 1 if row_LUT[0] == [] else row_LUT[0][-1] + row_embeddings.shape[0]\n",
    "        )\n",
    "        row_LUT[1].append(json_table['_id'])\n",
    "        row_index.add(row_embeddings)\n",
    "        \n",
    "        column_LUT[0].append(\n",
    "            column_embeddings.shape[0] - 1 if column_LUT[0] == [] else column_LUT[0][-1] + column_embeddings.shape[0]\n",
    "        )\n",
    "        column_LUT[1].append(json_table['_id'])\n",
    "        column_index.add(column_embeddings)"
   ]
  },
  {
   "cell_type": "code",
   "execution_count": 81,
   "metadata": {},
   "outputs": [
    {
     "data": {
      "text/plain": [
       "(1039, 709)"
      ]
     },
     "execution_count": 81,
     "metadata": {},
     "output_type": "execute_result"
    }
   ],
   "source": [
    "row_index.ntotal, column_index.ntotal"
   ]
  },
  {
   "cell_type": "markdown",
   "metadata": {},
   "source": [
    "### Saving index and LUTs"
   ]
  },
  {
   "cell_type": "code",
   "execution_count": 7,
   "metadata": {},
   "outputs": [],
   "source": [
    "ROW_INDEX_FILEPATH = DefaultPath.db_path.faiss + 'row_index.index'\n",
    "COLUMN_INDEX_FILEPATH = DefaultPath.db_path.faiss + 'column_index.index'\n",
    "\n",
    "LUT_FILEPATH = DefaultPath.db_path.faiss + 'lut.json'"
   ]
  },
  {
   "cell_type": "code",
   "execution_count": 9,
   "metadata": {},
   "outputs": [],
   "source": [
    "faiss.write_index(row_index,    ROW_INDEX_FILEPATH)\n",
    "faiss.write_index(column_index, COLUMN_INDEX_FILEPATH)\n",
    "\n",
    "with open(LUT_FILEPATH, 'w') as lut_writer:\n",
    "    json.dump({'row_LUT': row_LUT, 'column_LUT': column_LUT}, lut_writer)\n"
   ]
  },
  {
   "cell_type": "markdown",
   "metadata": {},
   "source": [
    "### Reload index and LUTs"
   ]
  },
  {
   "cell_type": "code",
   "execution_count": 10,
   "metadata": {},
   "outputs": [],
   "source": [
    "row_index_2 = faiss.read_index(ROW_INDEX_FILEPATH)\n",
    "column_index_2 = faiss.read_index(COLUMN_INDEX_FILEPATH)\n",
    "\n",
    "with open(LUT_FILEPATH, 'r') as lut_reader:\n",
    "    luts = json.load(lut_reader)"
   ]
  },
  {
   "cell_type": "code",
   "execution_count": 12,
   "metadata": {},
   "outputs": [
    {
     "data": {
      "text/plain": [
       "(75, 75)"
      ]
     },
     "execution_count": 12,
     "metadata": {},
     "output_type": "execute_result"
    }
   ],
   "source": [
    "row_index.ntotal, row_index_2.ntotal"
   ]
  },
  {
   "cell_type": "code",
   "execution_count": 13,
   "metadata": {},
   "outputs": [
    {
     "data": {
      "text/plain": [
       "(38, 38)"
      ]
     },
     "execution_count": 13,
     "metadata": {},
     "output_type": "execute_result"
    }
   ],
   "source": [
    "column_index.ntotal, column_index_2.ntotal"
   ]
  },
  {
   "cell_type": "code",
   "execution_count": 14,
   "metadata": {},
   "outputs": [
    {
     "data": {
      "text/plain": [
       "{'row_LUT': [[18, 28, 39, 64, 74],\n",
       "  ['27283419-8', '27284790-1', '27285187-1', '27285645-2', '27285838-1']],\n",
       " 'column_LUT': [[6, 16, 26, 32, 37],\n",
       "  ['27283419-8', '27284790-1', '27285187-1', '27285645-2', '27285838-1']]}"
      ]
     },
     "execution_count": 14,
     "metadata": {},
     "output_type": "execute_result"
    }
   ],
   "source": [
    "luts"
   ]
  },
  {
   "cell_type": "markdown",
   "metadata": {},
   "source": [
    "### Retrieving vectors by id"
   ]
  },
  {
   "cell_type": "code",
   "execution_count": 83,
   "metadata": {},
   "outputs": [
    {
     "data": {
      "text/plain": [
       "(300,)"
      ]
     },
     "execution_count": 83,
     "metadata": {},
     "output_type": "execute_result"
    }
   ],
   "source": [
    "vid = 0 # --> first row of the first table in 'tables'\n",
    "vec = row_index.reconstruct(0)\n",
    "vec.shape"
   ]
  },
  {
   "cell_type": "code",
   "execution_count": 85,
   "metadata": {},
   "outputs": [
    {
     "data": {
      "text/plain": [
       "1.0"
      ]
     },
     "execution_count": 85,
     "metadata": {},
     "output_type": "execute_result"
    }
   ],
   "source": [
    "from code.fasttext.embedding_utils import np_cosine_similarity\n",
    "\n",
    "row_embeddings, column_embeddings = tabenc.full_embedding(tables[0], add_label=True)\n",
    "np_cosine_similarity(vec, row_embeddings[0])   # with 1 they are actually the same vector"
   ]
  },
  {
   "cell_type": "markdown",
   "metadata": {},
   "source": [
    "### Sanity check"
   ]
  },
  {
   "cell_type": "code",
   "execution_count": 23,
   "metadata": {},
   "outputs": [
    {
     "data": {
      "text/plain": [
       "[[18, 28, 39, 64, 74],\n",
       " ['27283419-8', '27284790-1', '27285187-1', '27285645-2', '27285838-1']]"
      ]
     },
     "execution_count": 23,
     "metadata": {},
     "output_type": "execute_result"
    }
   ],
   "source": [
    "row_LUT"
   ]
  },
  {
   "cell_type": "code",
   "execution_count": 30,
   "metadata": {},
   "outputs": [
    {
     "data": {
      "text/html": [
       "<div>\n",
       "<style scoped>\n",
       "    .dataframe tbody tr th:only-of-type {\n",
       "        vertical-align: middle;\n",
       "    }\n",
       "\n",
       "    .dataframe tbody tr th {\n",
       "        vertical-align: top;\n",
       "    }\n",
       "\n",
       "    .dataframe thead th {\n",
       "        text-align: right;\n",
       "    }\n",
       "</style>\n",
       "<table border=\"1\" class=\"dataframe\">\n",
       "  <thead>\n",
       "    <tr style=\"text-align: right;\">\n",
       "      <th></th>\n",
       "      <th>Pos</th>\n",
       "      <th>Driver</th>\n",
       "      <th>MNZ</th>\n",
       "      <th>NUR</th>\n",
       "      <th>ADR</th>\n",
       "      <th>VAL</th>\n",
       "      <th>Pts</th>\n",
       "    </tr>\n",
       "  </thead>\n",
       "  <tbody>\n",
       "    <tr>\n",
       "      <th>0</th>\n",
       "      <td>1</td>\n",
       "      <td>Giuliano Alessi</td>\n",
       "      <td>3</td>\n",
       "      <td>2</td>\n",
       "      <td>1</td>\n",
       "      <td>1</td>\n",
       "      <td>75</td>\n",
       "    </tr>\n",
       "    <tr>\n",
       "      <th>1</th>\n",
       "      <td>2</td>\n",
       "      <td>Alessandro Balzan</td>\n",
       "      <td>Ret</td>\n",
       "      <td>1</td>\n",
       "      <td>3</td>\n",
       "      <td>3</td>\n",
       "      <td>49</td>\n",
       "    </tr>\n",
       "    <tr>\n",
       "      <th>2</th>\n",
       "      <td>3</td>\n",
       "      <td>Alessandro Battaglin</td>\n",
       "      <td>2</td>\n",
       "      <td></td>\n",
       "      <td>2</td>\n",
       "      <td>4</td>\n",
       "      <td>41</td>\n",
       "    </tr>\n",
       "    <tr>\n",
       "      <th>3</th>\n",
       "      <td>4</td>\n",
       "      <td>Kristian Ghedina</td>\n",
       "      <td>5</td>\n",
       "      <td>8</td>\n",
       "      <td>6</td>\n",
       "      <td>2</td>\n",
       "      <td>39</td>\n",
       "    </tr>\n",
       "    <tr>\n",
       "      <th>4</th>\n",
       "      <td>5</td>\n",
       "      <td>Max Pigoli</td>\n",
       "      <td>1</td>\n",
       "      <td>3</td>\n",
       "      <td>Ret</td>\n",
       "      <td>10</td>\n",
       "      <td>35</td>\n",
       "    </tr>\n",
       "  </tbody>\n",
       "</table>\n",
       "</div>"
      ],
      "text/plain": [
       "  Pos                Driver  MNZ NUR  ADR VAL Pts\n",
       "0   1       Giuliano Alessi    3   2    1   1  75\n",
       "1   2     Alessandro Balzan  Ret   1    3   3  49\n",
       "2   3  Alessandro Battaglin    2        2   4  41\n",
       "3   4      Kristian Ghedina    5   8    6   2  39\n",
       "4   5            Max Pigoli    1   3  Ret  10  35"
      ]
     },
     "execution_count": 30,
     "metadata": {},
     "output_type": "execute_result"
    }
   ],
   "source": [
    "tab0 = tables[0]\n",
    "tab0.head()"
   ]
  },
  {
   "cell_type": "code",
   "execution_count": 44,
   "metadata": {},
   "outputs": [],
   "source": [
    "t0_row_embeddings, t0_col_embeddings = tabenc.full_embedding(tab0, add_label=True)"
   ]
  },
  {
   "cell_type": "code",
   "execution_count": 45,
   "metadata": {},
   "outputs": [],
   "source": [
    "D, I = row_index.search(t0_row_embeddings, 4)"
   ]
  },
  {
   "cell_type": "code",
   "execution_count": 46,
   "metadata": {},
   "outputs": [
    {
     "data": {
      "text/plain": [
       "array([[ 0, 47, 48, 56],\n",
       "       [ 1,  2,  4,  0],\n",
       "       [ 2,  1,  4, 43],\n",
       "       [ 3, 43,  2,  6],\n",
       "       [ 4,  1,  2,  6],\n",
       "       [ 5,  7, 12, 11],\n",
       "       [ 6, 10,  7,  5],\n",
       "       [ 7, 10,  5,  6],\n",
       "       [ 8,  9, 13, 12],\n",
       "       [ 9,  8, 12, 11],\n",
       "       [10,  7,  5,  6],\n",
       "       [11, 12,  8, 13],\n",
       "       [12, 11,  8, 13],\n",
       "       [13,  8, 12, 11],\n",
       "       [14, 15, 13,  8],\n",
       "       [15, 14, 17, 16],\n",
       "       [16, 17, 15, 18],\n",
       "       [17, 16, 15, 18],\n",
       "       [18, 17, 16, 73]])"
      ]
     },
     "execution_count": 46,
     "metadata": {},
     "output_type": "execute_result"
    }
   ],
   "source": [
    "I"
   ]
  },
  {
   "cell_type": "code",
   "execution_count": 47,
   "metadata": {},
   "outputs": [
    {
     "data": {
      "text/plain": [
       "array([[0.        , 0.09946109, 0.10641481, 0.13238117],\n",
       "       [0.        , 0.02899076, 0.09312305, 0.14556909],\n",
       "       [0.        , 0.02899076, 0.11655647, 0.14818348],\n",
       "       [0.        , 0.1378604 , 0.16162254, 0.16894306],\n",
       "       [0.        , 0.09312305, 0.11655647, 0.1329234 ],\n",
       "       [0.        , 0.04215686, 0.09135455, 0.0938854 ],\n",
       "       [0.        , 0.10489605, 0.1061948 , 0.11966924],\n",
       "       [0.        , 0.02832747, 0.04215686, 0.1061948 ],\n",
       "       [0.        , 0.01623926, 0.02424421, 0.02504677],\n",
       "       [0.        , 0.01623926, 0.03399125, 0.03717704],\n",
       "       [0.        , 0.02832747, 0.09542399, 0.10489605],\n",
       "       [0.        , 0.00856783, 0.02585012, 0.03472276],\n",
       "       [0.        , 0.00856783, 0.02504677, 0.03047948],\n",
       "       [0.        , 0.02424421, 0.03047948, 0.03472276],\n",
       "       [0.        , 0.07427008, 0.13655701, 0.15150769],\n",
       "       [0.        , 0.07427008, 0.09341952, 0.09413615],\n",
       "       [0.        , 0.00054896, 0.09413615, 0.09648809],\n",
       "       [0.        , 0.00054896, 0.09341952, 0.09548031],\n",
       "       [0.        , 0.09548031, 0.09648809, 0.16633977]], dtype=float32)"
      ]
     },
     "execution_count": 47,
     "metadata": {},
     "output_type": "execute_result"
    }
   ],
   "source": [
    "D"
   ]
  },
  {
   "cell_type": "markdown",
   "metadata": {},
   "source": [
    "The sanity check is ok."
   ]
  },
  {
   "cell_type": "markdown",
   "metadata": {},
   "source": [
    "### Search example"
   ]
  },
  {
   "cell_type": "code",
   "execution_count": 48,
   "metadata": {},
   "outputs": [],
   "source": [
    "new_tables = []\n",
    "with jsonlines.open(DefaultPath.data_path.wikitables + 'sloth_tables.jsonl') as reader:\n",
    "    for i in range(n_tables_to_read):\n",
    "        reader.read()\n",
    "    for i in range(5):\n",
    "        new_tables.append(rebuild_table(reader.read()))"
   ]
  },
  {
   "cell_type": "code",
   "execution_count": 52,
   "metadata": {},
   "outputs": [
    {
     "data": {
      "text/html": [
       "<div>\n",
       "<style scoped>\n",
       "    .dataframe tbody tr th:only-of-type {\n",
       "        vertical-align: middle;\n",
       "    }\n",
       "\n",
       "    .dataframe tbody tr th {\n",
       "        vertical-align: top;\n",
       "    }\n",
       "\n",
       "    .dataframe thead th {\n",
       "        text-align: right;\n",
       "    }\n",
       "</style>\n",
       "<table border=\"1\" class=\"dataframe\">\n",
       "  <thead>\n",
       "    <tr style=\"text-align: right;\">\n",
       "      <th></th>\n",
       "      <th>Year</th>\n",
       "      <th>Round</th>\n",
       "      <th>Pld</th>\n",
       "      <th>W</th>\n",
       "      <th>D</th>\n",
       "      <th>L</th>\n",
       "      <th>GS</th>\n",
       "      <th>GA</th>\n",
       "    </tr>\n",
       "  </thead>\n",
       "  <tbody>\n",
       "    <tr>\n",
       "      <th>0</th>\n",
       "      <td>2000</td>\n",
       "      <td>Champions</td>\n",
       "      <td>5</td>\n",
       "      <td>4</td>\n",
       "      <td>1</td>\n",
       "      <td>0</td>\n",
       "      <td>7</td>\n",
       "      <td>1</td>\n",
       "    </tr>\n",
       "    <tr>\n",
       "      <th>1</th>\n",
       "      <td>2002</td>\n",
       "      <td>Third Place</td>\n",
       "      <td>4</td>\n",
       "      <td>1</td>\n",
       "      <td>2</td>\n",
       "      <td>1</td>\n",
       "      <td>4</td>\n",
       "      <td>3</td>\n",
       "    </tr>\n",
       "    <tr>\n",
       "      <th>2</th>\n",
       "      <td>2004</td>\n",
       "      <td>Champions</td>\n",
       "      <td>4</td>\n",
       "      <td>4</td>\n",
       "      <td>0</td>\n",
       "      <td>0</td>\n",
       "      <td>17</td>\n",
       "      <td>3</td>\n",
       "    </tr>\n",
       "    <tr>\n",
       "      <th>3</th>\n",
       "      <td>2007</td>\n",
       "      <td>Champions</td>\n",
       "      <td>4</td>\n",
       "      <td>3</td>\n",
       "      <td>1</td>\n",
       "      <td>0</td>\n",
       "      <td>5</td>\n",
       "      <td>1</td>\n",
       "    </tr>\n",
       "    <tr>\n",
       "      <th>4</th>\n",
       "      <td>2008</td>\n",
       "      <td>Champions</td>\n",
       "      <td>4</td>\n",
       "      <td>4</td>\n",
       "      <td>0</td>\n",
       "      <td>0</td>\n",
       "      <td>13</td>\n",
       "      <td>2</td>\n",
       "    </tr>\n",
       "    <tr>\n",
       "      <th>5</th>\n",
       "      <td>2010</td>\n",
       "      <td>RunnerUp</td>\n",
       "      <td>4</td>\n",
       "      <td>2</td>\n",
       "      <td>1</td>\n",
       "      <td>1</td>\n",
       "      <td>8</td>\n",
       "      <td>5</td>\n",
       "    </tr>\n",
       "    <tr>\n",
       "      <th>6</th>\n",
       "      <td>2012</td>\n",
       "      <td>Group Stage</td>\n",
       "      <td>3</td>\n",
       "      <td>1</td>\n",
       "      <td>2</td>\n",
       "      <td>0</td>\n",
       "      <td>2</td>\n",
       "      <td>1</td>\n",
       "    </tr>\n",
       "    <tr>\n",
       "      <th>7</th>\n",
       "      <td>Total</td>\n",
       "      <td>7 Titles</td>\n",
       "      <td>28</td>\n",
       "      <td>19</td>\n",
       "      <td>7</td>\n",
       "      <td>2</td>\n",
       "      <td>56</td>\n",
       "      <td>16</td>\n",
       "    </tr>\n",
       "  </tbody>\n",
       "</table>\n",
       "</div>"
      ],
      "text/plain": [
       "    Year        Round Pld   W  D  L  GS  GA\n",
       "0   2000    Champions   5   4  1  0   7   1\n",
       "1   2002  Third Place   4   1  2  1   4   3\n",
       "2   2004    Champions   4   4  0  0  17   3\n",
       "3   2007    Champions   4   3  1  0   5   1\n",
       "4   2008    Champions   4   4  0  0  13   2\n",
       "5   2010     RunnerUp   4   2  1  1   8   5\n",
       "6   2012  Group Stage   3   1  2  0   2   1\n",
       "7  Total     7 Titles  28  19  7  2  56  16"
      ]
     },
     "execution_count": 52,
     "metadata": {},
     "output_type": "execute_result"
    }
   ],
   "source": [
    "new_tables[2]"
   ]
  },
  {
   "cell_type": "code",
   "execution_count": 53,
   "metadata": {},
   "outputs": [],
   "source": [
    "query_row_emb, query_col_emb = tabenc.full_embedding(new_tables[2], add_label=True)"
   ]
  },
  {
   "cell_type": "code",
   "execution_count": 54,
   "metadata": {},
   "outputs": [],
   "source": [
    "D, I = row_index.search(query_row_emb, 4)"
   ]
  },
  {
   "cell_type": "code",
   "execution_count": 55,
   "metadata": {},
   "outputs": [
    {
     "data": {
      "text/plain": [
       "array([[45, 42, 51, 50],\n",
       "       [42, 48, 45, 44],\n",
       "       [45, 42, 52, 51],\n",
       "       [42, 45, 51, 50],\n",
       "       [45, 42, 51, 50],\n",
       "       [46, 44, 48, 47],\n",
       "       [42, 51, 50, 56],\n",
       "       [ 3, 41, 43,  6]])"
      ]
     },
     "execution_count": 55,
     "metadata": {},
     "output_type": "execute_result"
    }
   ],
   "source": [
    "I"
   ]
  },
  {
   "cell_type": "code",
   "execution_count": 56,
   "metadata": {},
   "outputs": [
    {
     "data": {
      "text/plain": [
       "array([[0.20610723, 0.21844062, 0.22837846, 0.23063575],\n",
       "       [0.23178735, 0.25529832, 0.2558034 , 0.26046154],\n",
       "       [0.27518916, 0.27648422, 0.35642472, 0.35974297],\n",
       "       [0.19421408, 0.20366746, 0.23187867, 0.2337852 ],\n",
       "       [0.2730953 , 0.27647525, 0.3351663 , 0.3358405 ],\n",
       "       [0.22735554, 0.23806359, 0.24144514, 0.24659696],\n",
       "       [0.22766678, 0.23879595, 0.23965047, 0.25475562],\n",
       "       [0.3527736 , 0.48265165, 0.49419552, 0.4999259 ]], dtype=float32)"
      ]
     },
     "execution_count": 56,
     "metadata": {},
     "output_type": "execute_result"
    }
   ],
   "source": [
    "D"
   ]
  },
  {
   "cell_type": "code",
   "execution_count": 70,
   "metadata": {},
   "outputs": [
    {
     "data": {
      "text/plain": [
       "'27283419-8'"
      ]
     },
     "execution_count": 70,
     "metadata": {},
     "output_type": "execute_result"
    }
   ],
   "source": [
    "# retrieving the table ID of a vector\n",
    "table_id = row_LUT[1][bisect.bisect_left(row_LUT[0], 3)]\n",
    "table_id"
   ]
  },
  {
   "cell_type": "code",
   "execution_count": 71,
   "metadata": {},
   "outputs": [
    {
     "data": {
      "text/html": [
       "<div>\n",
       "<style scoped>\n",
       "    .dataframe tbody tr th:only-of-type {\n",
       "        vertical-align: middle;\n",
       "    }\n",
       "\n",
       "    .dataframe tbody tr th {\n",
       "        vertical-align: top;\n",
       "    }\n",
       "\n",
       "    .dataframe thead th {\n",
       "        text-align: right;\n",
       "    }\n",
       "</style>\n",
       "<table border=\"1\" class=\"dataframe\">\n",
       "  <thead>\n",
       "    <tr style=\"text-align: right;\">\n",
       "      <th></th>\n",
       "      <th>Pos</th>\n",
       "      <th>Driver</th>\n",
       "      <th>MNZ</th>\n",
       "      <th>NUR</th>\n",
       "      <th>ADR</th>\n",
       "      <th>VAL</th>\n",
       "      <th>Pts</th>\n",
       "    </tr>\n",
       "  </thead>\n",
       "  <tbody>\n",
       "    <tr>\n",
       "      <th>0</th>\n",
       "      <td>1</td>\n",
       "      <td>Giuliano Alessi</td>\n",
       "      <td>3</td>\n",
       "      <td>2</td>\n",
       "      <td>1</td>\n",
       "      <td>1</td>\n",
       "      <td>75</td>\n",
       "    </tr>\n",
       "    <tr>\n",
       "      <th>1</th>\n",
       "      <td>2</td>\n",
       "      <td>Alessandro Balzan</td>\n",
       "      <td>Ret</td>\n",
       "      <td>1</td>\n",
       "      <td>3</td>\n",
       "      <td>3</td>\n",
       "      <td>49</td>\n",
       "    </tr>\n",
       "    <tr>\n",
       "      <th>2</th>\n",
       "      <td>3</td>\n",
       "      <td>Alessandro Battaglin</td>\n",
       "      <td>2</td>\n",
       "      <td></td>\n",
       "      <td>2</td>\n",
       "      <td>4</td>\n",
       "      <td>41</td>\n",
       "    </tr>\n",
       "    <tr>\n",
       "      <th>3</th>\n",
       "      <td>4</td>\n",
       "      <td>Kristian Ghedina</td>\n",
       "      <td>5</td>\n",
       "      <td>8</td>\n",
       "      <td>6</td>\n",
       "      <td>2</td>\n",
       "      <td>39</td>\n",
       "    </tr>\n",
       "    <tr>\n",
       "      <th>4</th>\n",
       "      <td>5</td>\n",
       "      <td>Max Pigoli</td>\n",
       "      <td>1</td>\n",
       "      <td>3</td>\n",
       "      <td>Ret</td>\n",
       "      <td>10</td>\n",
       "      <td>35</td>\n",
       "    </tr>\n",
       "    <tr>\n",
       "      <th>5</th>\n",
       "      <td>6</td>\n",
       "      <td>Marco Gregori</td>\n",
       "      <td>4</td>\n",
       "      <td></td>\n",
       "      <td></td>\n",
       "      <td>5</td>\n",
       "      <td>18</td>\n",
       "    </tr>\n",
       "    <tr>\n",
       "      <th>6</th>\n",
       "      <td>7</td>\n",
       "      <td>Francesco Ascani</td>\n",
       "      <td>6</td>\n",
       "      <td>5</td>\n",
       "      <td>Ret</td>\n",
       "      <td>7</td>\n",
       "      <td>18</td>\n",
       "    </tr>\n",
       "    <tr>\n",
       "      <th>7</th>\n",
       "      <td>8</td>\n",
       "      <td>Mauro Simoncini</td>\n",
       "      <td></td>\n",
       "      <td>7</td>\n",
       "      <td>4</td>\n",
       "      <td></td>\n",
       "      <td>14</td>\n",
       "    </tr>\n",
       "    <tr>\n",
       "      <th>8</th>\n",
       "      <td>9</td>\n",
       "      <td>Moreno Petrini</td>\n",
       "      <td>Ret</td>\n",
       "      <td>4</td>\n",
       "      <td>Ret</td>\n",
       "      <td></td>\n",
       "      <td>10</td>\n",
       "    </tr>\n",
       "    <tr>\n",
       "      <th>9</th>\n",
       "      <td>10</td>\n",
       "      <td>Corrado Canneori</td>\n",
       "      <td></td>\n",
       "      <td></td>\n",
       "      <td>5</td>\n",
       "      <td></td>\n",
       "      <td>8</td>\n",
       "    </tr>\n",
       "    <tr>\n",
       "      <th>10</th>\n",
       "      <td>11</td>\n",
       "      <td>Roberto Benedetti</td>\n",
       "      <td></td>\n",
       "      <td></td>\n",
       "      <td>7</td>\n",
       "      <td>8</td>\n",
       "      <td>7</td>\n",
       "    </tr>\n",
       "    <tr>\n",
       "      <th>11</th>\n",
       "      <td>12</td>\n",
       "      <td>Romano Fortunati</td>\n",
       "      <td></td>\n",
       "      <td>6</td>\n",
       "      <td></td>\n",
       "      <td></td>\n",
       "      <td>6</td>\n",
       "    </tr>\n",
       "    <tr>\n",
       "      <th>12</th>\n",
       "      <td>13</td>\n",
       "      <td>Leonardo Baccarelli</td>\n",
       "      <td></td>\n",
       "      <td></td>\n",
       "      <td></td>\n",
       "      <td>6</td>\n",
       "      <td>6</td>\n",
       "    </tr>\n",
       "    <tr>\n",
       "      <th>13</th>\n",
       "      <td>14</td>\n",
       "      <td>Gianni Martellucci</td>\n",
       "      <td></td>\n",
       "      <td></td>\n",
       "      <td></td>\n",
       "      <td>9</td>\n",
       "      <td>2</td>\n",
       "    </tr>\n",
       "    <tr>\n",
       "      <th>14</th>\n",
       "      <td>15</td>\n",
       "      <td>Ivan Tramontozzi</td>\n",
       "      <td></td>\n",
       "      <td></td>\n",
       "      <td>Ret</td>\n",
       "      <td></td>\n",
       "      <td>1</td>\n",
       "    </tr>\n",
       "    <tr>\n",
       "      <th>15</th>\n",
       "      <td>16</td>\n",
       "      <td>Maurizio Strada</td>\n",
       "      <td>Ret</td>\n",
       "      <td></td>\n",
       "      <td></td>\n",
       "      <td></td>\n",
       "      <td>0</td>\n",
       "    </tr>\n",
       "    <tr>\n",
       "      <th>16</th>\n",
       "      <td></td>\n",
       "      <td>Arturo Merzario</td>\n",
       "      <td>Ret</td>\n",
       "      <td></td>\n",
       "      <td></td>\n",
       "      <td></td>\n",
       "      <td>0</td>\n",
       "    </tr>\n",
       "    <tr>\n",
       "      <th>17</th>\n",
       "      <td></td>\n",
       "      <td>Stefano Bonello</td>\n",
       "      <td></td>\n",
       "      <td></td>\n",
       "      <td>DNS</td>\n",
       "      <td></td>\n",
       "      <td>0</td>\n",
       "    </tr>\n",
       "    <tr>\n",
       "      <th>18</th>\n",
       "      <td>Pos</td>\n",
       "      <td>Driver</td>\n",
       "      <td>MNZ</td>\n",
       "      <td>NUR</td>\n",
       "      <td>ADR</td>\n",
       "      <td>VAL</td>\n",
       "      <td>Pts</td>\n",
       "    </tr>\n",
       "  </tbody>\n",
       "</table>\n",
       "</div>"
      ],
      "text/plain": [
       "    Pos                Driver  MNZ  NUR  ADR  VAL  Pts\n",
       "0     1       Giuliano Alessi    3    2    1    1   75\n",
       "1     2     Alessandro Balzan  Ret    1    3    3   49\n",
       "2     3  Alessandro Battaglin    2         2    4   41\n",
       "3     4      Kristian Ghedina    5    8    6    2   39\n",
       "4     5            Max Pigoli    1    3  Ret   10   35\n",
       "5     6         Marco Gregori    4              5   18\n",
       "6     7      Francesco Ascani    6    5  Ret    7   18\n",
       "7     8       Mauro Simoncini         7    4        14\n",
       "8     9        Moreno Petrini  Ret    4  Ret        10\n",
       "9    10      Corrado Canneori              5         8\n",
       "10   11     Roberto Benedetti              7    8    7\n",
       "11   12      Romano Fortunati         6              6\n",
       "12   13   Leonardo Baccarelli                   6    6\n",
       "13   14    Gianni Martellucci                   9    2\n",
       "14   15      Ivan Tramontozzi            Ret         1\n",
       "15   16       Maurizio Strada  Ret                   0\n",
       "16            Arturo Merzario  Ret                   0\n",
       "17            Stefano Bonello            DNS         0\n",
       "18  Pos                Driver  MNZ  NUR  ADR  VAL  Pts"
      ]
     },
     "execution_count": 71,
     "metadata": {},
     "output_type": "execute_result"
    }
   ],
   "source": [
    "get_table_from_jsonl(table_id)"
   ]
  }
 ],
 "metadata": {
  "kernelspec": {
   "display_name": "chroma",
   "language": "python",
   "name": "python3"
  },
  "language_info": {
   "codemirror_mode": {
    "name": "ipython",
    "version": 3
   },
   "file_extension": ".py",
   "mimetype": "text/x-python",
   "name": "python",
   "nbconvert_exporter": "python",
   "pygments_lexer": "ipython3",
   "version": "3.10.12"
  }
 },
 "nbformat": 4,
 "nbformat_minor": 2
}
