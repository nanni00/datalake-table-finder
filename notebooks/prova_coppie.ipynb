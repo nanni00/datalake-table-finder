{
 "cells": [
  {
   "cell_type": "code",
   "execution_count": 16,
   "metadata": {
    "metadata": {}
   },
   "outputs": [],
   "source": [
    "import os\n",
    "import psycopg\n",
    "import pandas as pd\n",
    "from tqdm import tqdm\n",
    "from tqdm import tqdm\n",
    "import binascii\n",
    "import psycopg\n",
    "from collections import defaultdict\n",
    "\n",
    "from tools.josie import JosieDB\n",
    "from tools.utils.datalake import SimpleDataLakeHelper\n",
    "from tools.utils.misc import is_valid_table, create_token_set"
   ]
  },
  {
   "cell_type": "code",
   "execution_count": 2,
   "metadata": {
    "metadata": {}
   },
   "outputs": [],
   "source": [
    "datalake_location, dataset, size = 'mongodb', 'wikiturlsnap', 'standard'\n",
    "\n",
    "dlh = SimpleDataLakeHelper(datalake_location, dataset, size)"
   ]
  },
  {
   "cell_type": "code",
   "execution_count": 5,
   "metadata": {
    "metadata": {}
   },
   "outputs": [],
   "source": [
    "test_name, dataset, mode = 'main', 'wikiturlsnap', 'bag'"
   ]
  },
  {
   "cell_type": "code",
   "execution_count": 6,
   "metadata": {
    "metadata": {}
   },
   "outputs": [],
   "source": [
    "dbname = 'nanni'\n",
    "tables_prefix = f'{test_name}_d{dataset}_m{mode}'\n",
    "results_directory = '/data4/nanni/tesi-magistrale/notebooks'\n",
    "results_file = '/data4/nanni/tesi-magistrale/notebooks/results.csv'\n",
    "k = 10"
   ]
  },
  {
   "cell_type": "code",
   "execution_count": 20,
   "metadata": {
    "metadata": {}
   },
   "outputs": [],
   "source": [
    "josiedb = JosieDB(dbname, tables_prefix)\n",
    "josiedb.open()"
   ]
  },
  {
   "cell_type": "markdown",
   "metadata": {},
   "source": [
    "1. Trovare le tabelle con 'Country', 'Team', 'Location'"
   ]
  },
  {
   "cell_type": "code",
   "execution_count": 14,
   "metadata": {
    "metadata": {}
   },
   "outputs": [
    {
     "name": "stderr",
     "output_type": "stream",
     "text": [
      "                                                           \r"
     ]
    }
   ],
   "source": [
    "import random\n",
    "\n",
    "ntables = dlh.get_number_of_tables()\n",
    "names = ['Country', 'Team', 'Location']\n",
    "\n",
    "N = 5\n",
    "queries = []\n",
    "for table_obj in tqdm(dlh.scan_tables(), total=ntables, leave=False):\n",
    "# while True:\n",
    "#     id = random.randint(0, ntables - 1)\n",
    "#     if id in queries: continue\n",
    "#     table_obj = dlh.get_table_by_numeric_id(id)\n",
    "    if is_valid_table(table_obj['content'], table_obj['numeric_columns']):\n",
    "        tabset = set(create_token_set(table_obj['content'], 'set', table_obj['numeric_columns']))\n",
    "        if sum(token in tabset for token in names) >= 2:\n",
    "            queries.append(table_obj)\n",
    "    if len(queries) >= N:\n",
    "        break"
   ]
  },
  {
   "cell_type": "code",
   "execution_count": 15,
   "metadata": {
    "metadata": {}
   },
   "outputs": [
    {
     "data": {
      "text/html": [
       "<div>\n",
       "<style scoped>\n",
       "    .dataframe tbody tr th:only-of-type {\n",
       "        vertical-align: middle;\n",
       "    }\n",
       "\n",
       "    .dataframe tbody tr th {\n",
       "        vertical-align: top;\n",
       "    }\n",
       "\n",
       "    .dataframe thead th {\n",
       "        text-align: right;\n",
       "    }\n",
       "</style>\n",
       "<table border=\"1\" class=\"dataframe\">\n",
       "  <thead>\n",
       "    <tr style=\"text-align: right;\">\n",
       "      <th></th>\n",
       "      <th>0</th>\n",
       "      <th>1</th>\n",
       "      <th>2</th>\n",
       "      <th>3</th>\n",
       "      <th>4</th>\n",
       "      <th>5</th>\n",
       "    </tr>\n",
       "  </thead>\n",
       "  <tbody>\n",
       "    <tr>\n",
       "      <th>0</th>\n",
       "      <td>Alexandria Blue Anchors</td>\n",
       "      <td>Alexandria, Minnesota</td>\n",
       "      <td>Knute Nelson Memorial Park</td>\n",
       "      <td></td>\n",
       "      <td></td>\n",
       "      <td></td>\n",
       "    </tr>\n",
       "    <tr>\n",
       "      <th>1</th>\n",
       "      <td>Duluth Huskies</td>\n",
       "      <td>Duluth, Minnesota</td>\n",
       "      <td>Wade Stadium</td>\n",
       "      <td>4,200</td>\n",
       "      <td></td>\n",
       "      <td></td>\n",
       "    </tr>\n",
       "    <tr>\n",
       "      <th>2</th>\n",
       "      <td>Eau Claire Express</td>\n",
       "      <td>Eau Claire, Wisconsin</td>\n",
       "      <td>Carson Park</td>\n",
       "      <td>3,800</td>\n",
       "      <td></td>\n",
       "      <td></td>\n",
       "    </tr>\n",
       "    <tr>\n",
       "      <th>3</th>\n",
       "      <td>Mankato MoonDogs</td>\n",
       "      <td>Mankato, Minnesota</td>\n",
       "      <td>Franklin Rogers Park</td>\n",
       "      <td>1,400</td>\n",
       "      <td></td>\n",
       "      <td></td>\n",
       "    </tr>\n",
       "    <tr>\n",
       "      <th>4</th>\n",
       "      <td>Rochester Honkers</td>\n",
       "      <td>Rochester, Minnesota</td>\n",
       "      <td>Mayo Field</td>\n",
       "      <td>2,570</td>\n",
       "      <td></td>\n",
       "      <td></td>\n",
       "    </tr>\n",
       "    <tr>\n",
       "      <th>5</th>\n",
       "      <td>St. Cloud Rox</td>\n",
       "      <td>St. Cloud, Minnesota</td>\n",
       "      <td>Joe Faber Field</td>\n",
       "      <td>2,000</td>\n",
       "      <td></td>\n",
       "      <td></td>\n",
       "    </tr>\n",
       "    <tr>\n",
       "      <th>6</th>\n",
       "      <td>Thunder Bay Border Cats</td>\n",
       "      <td>Thunder Bay , Ontario , Canada</td>\n",
       "      <td>Port Arthur Stadium</td>\n",
       "      <td>3,031</td>\n",
       "      <td></td>\n",
       "      <td></td>\n",
       "    </tr>\n",
       "    <tr>\n",
       "      <th>7</th>\n",
       "      <td>Waterloo Bucks</td>\n",
       "      <td>Waterloo, Iowa</td>\n",
       "      <td>Riverfront Stadium</td>\n",
       "      <td>5,000</td>\n",
       "      <td></td>\n",
       "      <td></td>\n",
       "    </tr>\n",
       "    <tr>\n",
       "      <th>8</th>\n",
       "      <td>Willmar Stingers</td>\n",
       "      <td>Willmar, Minnesota</td>\n",
       "      <td>Bill Taunton Stadium</td>\n",
       "      <td></td>\n",
       "      <td></td>\n",
       "      <td></td>\n",
       "    </tr>\n",
       "    <tr>\n",
       "      <th>9</th>\n",
       "      <td>Division</td>\n",
       "      <td>Team</td>\n",
       "      <td>Location</td>\n",
       "      <td>Stadium</td>\n",
       "      <td>Capacity</td>\n",
       "      <td></td>\n",
       "    </tr>\n",
       "    <tr>\n",
       "      <th>10</th>\n",
       "      <td>South</td>\n",
       "      <td></td>\n",
       "      <td></td>\n",
       "      <td></td>\n",
       "      <td></td>\n",
       "      <td></td>\n",
       "    </tr>\n",
       "    <tr>\n",
       "      <th>11</th>\n",
       "      <td>South</td>\n",
       "      <td>Battle Creek Bombers</td>\n",
       "      <td>Battle Creek, Michigan</td>\n",
       "      <td>C.O. Brown Stadium</td>\n",
       "      <td>4,701</td>\n",
       "      <td></td>\n",
       "    </tr>\n",
       "    <tr>\n",
       "      <th>12</th>\n",
       "      <td>South</td>\n",
       "      <td>Green Bay Bullfrogs</td>\n",
       "      <td>Green Bay, Wisconsin</td>\n",
       "      <td>Joannes Stadium</td>\n",
       "      <td>2,000</td>\n",
       "      <td></td>\n",
       "    </tr>\n",
       "    <tr>\n",
       "      <th>13</th>\n",
       "      <td>South</td>\n",
       "      <td>Kalamazoo</td>\n",
       "      <td>Kalamazoo, Michigan</td>\n",
       "      <td>Homer Stryker Field</td>\n",
       "      <td>4,000</td>\n",
       "      <td></td>\n",
       "    </tr>\n",
       "    <tr>\n",
       "      <th>14</th>\n",
       "      <td>South</td>\n",
       "      <td>Kenosha</td>\n",
       "      <td>Kenosha, Wisconsin</td>\n",
       "      <td>Simmons Field</td>\n",
       "      <td>3,000</td>\n",
       "      <td></td>\n",
       "    </tr>\n",
       "    <tr>\n",
       "      <th>15</th>\n",
       "      <td>South</td>\n",
       "      <td>La Crosse Loggers</td>\n",
       "      <td>La Crosse, Wisconsin</td>\n",
       "      <td>Copeland Park</td>\n",
       "      <td>3,550</td>\n",
       "      <td></td>\n",
       "    </tr>\n",
       "    <tr>\n",
       "      <th>16</th>\n",
       "      <td>South</td>\n",
       "      <td>Lakeshore Chinooks</td>\n",
       "      <td>Mequon, Wisconsin</td>\n",
       "      <td>Kapco Park</td>\n",
       "      <td></td>\n",
       "      <td></td>\n",
       "    </tr>\n",
       "    <tr>\n",
       "      <th>17</th>\n",
       "      <td>South</td>\n",
       "      <td>Madison Mallards</td>\n",
       "      <td>Madison, Wisconsin</td>\n",
       "      <td>Warner Park</td>\n",
       "      <td>7,500</td>\n",
       "      <td></td>\n",
       "    </tr>\n",
       "    <tr>\n",
       "      <th>18</th>\n",
       "      <td>South</td>\n",
       "      <td>Wisconsin Woodchucks</td>\n",
       "      <td>Wausau, Wisconsin</td>\n",
       "      <td>Athletic Park</td>\n",
       "      <td>3,850</td>\n",
       "      <td></td>\n",
       "    </tr>\n",
       "    <tr>\n",
       "      <th>19</th>\n",
       "      <td>South</td>\n",
       "      <td>Wisconsin Rapids Rafters</td>\n",
       "      <td>Wisconsin Rapids, Wisconsin</td>\n",
       "      <td>Witter Field</td>\n",
       "      <td>1,560</td>\n",
       "      <td></td>\n",
       "    </tr>\n",
       "  </tbody>\n",
       "</table>\n",
       "</div>"
      ],
      "text/plain": [
       "                          0                               1  \\\n",
       "0   Alexandria Blue Anchors           Alexandria, Minnesota   \n",
       "1            Duluth Huskies               Duluth, Minnesota   \n",
       "2        Eau Claire Express           Eau Claire, Wisconsin   \n",
       "3          Mankato MoonDogs              Mankato, Minnesota   \n",
       "4         Rochester Honkers            Rochester, Minnesota   \n",
       "5             St. Cloud Rox            St. Cloud, Minnesota   \n",
       "6   Thunder Bay Border Cats  Thunder Bay , Ontario , Canada   \n",
       "7            Waterloo Bucks                  Waterloo, Iowa   \n",
       "8          Willmar Stingers              Willmar, Minnesota   \n",
       "9                  Division                            Team   \n",
       "10                    South                                   \n",
       "11                    South            Battle Creek Bombers   \n",
       "12                    South             Green Bay Bullfrogs   \n",
       "13                    South                       Kalamazoo   \n",
       "14                    South                         Kenosha   \n",
       "15                    South               La Crosse Loggers   \n",
       "16                    South              Lakeshore Chinooks   \n",
       "17                    South                Madison Mallards   \n",
       "18                    South            Wisconsin Woodchucks   \n",
       "19                    South        Wisconsin Rapids Rafters   \n",
       "\n",
       "                              2                    3         4 5  \n",
       "0    Knute Nelson Memorial Park                                   \n",
       "1                  Wade Stadium                4,200              \n",
       "2                   Carson Park                3,800              \n",
       "3          Franklin Rogers Park                1,400              \n",
       "4                    Mayo Field                2,570              \n",
       "5               Joe Faber Field                2,000              \n",
       "6           Port Arthur Stadium                3,031              \n",
       "7            Riverfront Stadium                5,000              \n",
       "8          Bill Taunton Stadium                                   \n",
       "9                      Location              Stadium  Capacity    \n",
       "10                                                                \n",
       "11       Battle Creek, Michigan   C.O. Brown Stadium     4,701    \n",
       "12         Green Bay, Wisconsin      Joannes Stadium     2,000    \n",
       "13          Kalamazoo, Michigan  Homer Stryker Field     4,000    \n",
       "14           Kenosha, Wisconsin        Simmons Field     3,000    \n",
       "15         La Crosse, Wisconsin        Copeland Park     3,550    \n",
       "16            Mequon, Wisconsin           Kapco Park              \n",
       "17           Madison, Wisconsin          Warner Park     7,500    \n",
       "18            Wausau, Wisconsin        Athletic Park     3,850    \n",
       "19  Wisconsin Rapids, Wisconsin         Witter Field     1,560    "
      ]
     },
     "execution_count": 15,
     "metadata": {},
     "output_type": "execute_result"
    }
   ],
   "source": [
    "pd.DataFrame(queries[0]['content'])"
   ]
  },
  {
   "cell_type": "markdown",
   "metadata": {},
   "source": [
    "2. Dalle tabelle estratte, creare i bag con le colonne sia 'Team' sia 'Location'"
   ]
  },
  {
   "cell_type": "code",
   "execution_count": 10,
   "metadata": {
    "metadata": {}
   },
   "outputs": [
    {
     "name": "stdout",
     "output_type": "stream",
     "text": [
      "120 40 38\n",
      "68 34 34\n",
      "68 34 34\n",
      "36 12 12\n",
      "35 14 14\n"
     ]
    }
   ],
   "source": [
    "queries_bags = {}\n",
    "\n",
    "for q in queries:\n",
    "    table = q['content']\n",
    "    numeric_columns = q['numeric_columns']\n",
    "    \n",
    "    table = [[row[i] for row in table] for i in range(len(table[0])) if numeric_columns[i] == 0]\n",
    "    size1 = len(table) * len(table[0])\n",
    "    table = [column for column in table if any(token in column for token in ['Team', 'Location', 'Country'])]\n",
    "    size2 = len(table) * len(table[0])\n",
    "\n",
    "    queries_bags[q['_id_numeric']] = create_token_set(table, 'bag', [0] * len(table[0]))\n",
    "    print(size1, size2, len(queries_bags[q['_id_numeric']]))"
   ]
  },
  {
   "cell_type": "markdown",
   "metadata": {},
   "source": [
    "3. Creare l'input per JOSIE, cioè gli integer set"
   ]
  },
  {
   "cell_type": "code",
   "execution_count": 21,
   "metadata": {
    "metadata": {}
   },
   "outputs": [
    {
     "name": "stdout",
     "output_type": "stream",
     "text": [
      "84 38 38\n",
      "68 34 34\n",
      "68 34 34\n",
      "31 12 12\n",
      "29 14 14\n"
     ]
    }
   ],
   "source": [
    "queries = defaultdict(set)\n",
    "\n",
    "for qid, qbag in queries_bags.items():\n",
    "    result = josiedb._dbconn.execute(f\"SELECT tokens FROM {josiedb._SET_TABLE_NAME} WHERE id = {qid}\").fetchall()[0][0]\n",
    "\n",
    "    for id in result:\n",
    "        raw_token = josiedb._dbconn.execute(f\"SELECT raw_token FROM {josiedb._INVERTED_LISTS_TABLE_NAME} WHERE token = {id}\").fetchone()[0]\n",
    "        if binascii.unhexlify(raw_token).decode('utf-8') in qbag:\n",
    "            queries[qid].add(id)\n",
    "\n",
    "    print(len(result), len(queries[qid]), len(qbag))"
   ]
  },
  {
   "cell_type": "markdown",
   "metadata": {},
   "source": [
    "4. Eseguire i test con JOSIE"
   ]
  },
  {
   "cell_type": "code",
   "execution_count": 22,
   "metadata": {
    "metadata": {}
   },
   "outputs": [],
   "source": [
    "def create_query_table(queries:dict[int:set[int]], dbname, tables_prefix):\n",
    "    \n",
    "    josiedb.open()\n",
    "    josiedb.clear_query_table()\n",
    "    for table_id, tokens_ids in queries.items():\n",
    "        josiedb._dbconn.execute(f\"INSERT INTO {tables_prefix}_queries VALUES ({table_id}, ARRAY[{','.join(map(str, tokens_ids))}]);\")\n",
    "    \n",
    "    josiedb._dbconn.commit()\n",
    "    GOPATH = os.environ['GOPATH']\n",
    "    josie_cmd_dir = f'{GOPATH}/src/github.com/ekzhu/josie/cmd'\n",
    "    os.chdir(josie_cmd_dir)\n",
    "    \n",
    "    # if cost sampling tables already exist we assume they are correct and won't recreate them\n",
    "    sample_costs_tables_exist = josiedb.cost_tables_exist()\n",
    "    josiedb.close()\n",
    "\n",
    "    if not sample_costs_tables_exist:\n",
    "        os.system(f'go run {josie_cmd_dir}/sample_costs/main.go \\\n",
    "                    --pg-database={dbname} \\\n",
    "                    --test_tag={tables_prefix} \\\n",
    "                    --pg-table-queries={tables_prefix}_queries')"
   ]
  },
  {
   "cell_type": "code",
   "execution_count": 23,
   "metadata": {
    "metadata": {}
   },
   "outputs": [],
   "source": [
    "def query(results_file, k, results_directory, dbname, tables_prefix):\n",
    "    # we are not considering the query preparation steps, since in some cases this will \n",
    "    # include also the cost sampling phase and in other cases it won't\n",
    "    token_table_on_memory = False\n",
    "    \n",
    "    GOPATH = os.environ['GOPATH']\n",
    "    josie_cmd_dir = f'{GOPATH}/src/github.com/ekzhu/josie/cmd'\n",
    "    os.chdir(josie_cmd_dir)\n",
    "    \n",
    "    x = 'true' if token_table_on_memory else 'false'\n",
    "\n",
    "    os.system(f'go run {josie_cmd_dir}/topk/main.go \\\n",
    "                --pg-database={dbname} \\\n",
    "                --test_tag={tables_prefix} \\\n",
    "                --outputDir={results_directory} \\\n",
    "                --resultsFile={results_file} \\\n",
    "                --useMemTokenTable={x} \\\n",
    "                --k={k} \\\n",
    "                --verbose=false')"
   ]
  },
  {
   "cell_type": "code",
   "execution_count": 24,
   "metadata": {
    "metadata": {}
   },
   "outputs": [],
   "source": [
    "import re\n",
    "\n",
    "def josie_multi_query(queries:dict[int:set[int]], k, results_file, dbname, tables_prefix):\n",
    "    results_directory = os.path.dirname(results_file)\n",
    "\n",
    "    create_query_table(queries, dbname, tables_prefix)\n",
    "    query(results_file, k, results_directory, dbname, tables_prefix)\n",
    "\n",
    "\n",
    "\n",
    "def josie_single_query(set_id, token_set, k, results_file, dbname, tables_prefix):\n",
    "    results_directory = os.path.dirname(results_file)\n",
    "\n",
    "    create_query_table({set_id: token_set}, dbname, tables_prefix)\n",
    "    query(results_file, k, results_directory, dbname, tables_prefix)\n",
    "    results = pd.read_csv(results_file)\n",
    "\n",
    "    get_result_ids = lambda s: str(list(map(int, re.findall(r'\\d+', s)[::2])))\n",
    "    get_result_overlaps = lambda s: str(list(map(int, re.findall(r'\\d+', s)[1::2])))\n",
    "\n",
    "    resids = get_result_ids(results['results'].values[0])\n",
    "    resov = get_result_overlaps(results['results'].values[0])\n",
    "    return resids, resov"
   ]
  },
  {
   "cell_type": "code",
   "execution_count": 25,
   "metadata": {
    "metadata": {}
   },
   "outputs": [
    {
     "name": "stderr",
     "output_type": "stream",
     "text": [
      "2024/08/29 18:12:59 ==== Begin experiments for k = 5\n",
      "2024/08/29 18:12:59 Running algorithm [merge_probe_cost_model_greedy], output to /data4/nanni/tesi-magistrale/notebooks/results.csv\n"
     ]
    },
    {
     "name": "stdout",
     "output_type": "stream",
     "text": [
      "5 / 5 queries\n"
     ]
    },
    {
     "name": "stderr",
     "output_type": "stream",
     "text": [
      "2024/08/29 18:13:00 Finished all queries in 0 minutes\n"
     ]
    }
   ],
   "source": [
    "josie_multi_query(queries, 5, results_file, dbname, tables_prefix)"
   ]
  },
  {
   "cell_type": "code",
   "execution_count": null,
   "metadata": {
    "metadata": {}
   },
   "outputs": [],
   "source": [
    "results = josie_single_query(*list(queries.items())[0], k, results_file, dbname, tables_prefix)"
   ]
  }
 ],
 "metadata": {
  "kernelspec": {
   "display_name": "nanni-tesi-env",
   "language": "python",
   "name": "python3"
  },
  "language_info": {
   "codemirror_mode": {
    "name": "ipython",
    "version": 3
   },
   "file_extension": ".py",
   "mimetype": "text/x-python",
   "name": "python",
   "nbconvert_exporter": "python",
   "pygments_lexer": "ipython3",
   "version": "3.10.14"
  }
 },
 "nbformat": 4,
 "nbformat_minor": 2
}
